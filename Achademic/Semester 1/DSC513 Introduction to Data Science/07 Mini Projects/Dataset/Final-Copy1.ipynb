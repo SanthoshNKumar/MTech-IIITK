{
 "cells": [
  {
   "cell_type": "code",
   "execution_count": 2,
   "id": "bf2f869a",
   "metadata": {},
   "outputs": [],
   "source": [
    "library(tidyverse)\n",
    "library(lubridate)\n",
    "library(ggplot2)\n",
    "library(tidyr)\n",
    "library(dplyr)"
   ]
  },
  {
   "cell_type": "code",
   "execution_count": 3,
   "id": "dae21a87",
   "metadata": {},
   "outputs": [],
   "source": [
    "options(warn = -1)"
   ]
  },
  {
   "cell_type": "markdown",
   "id": "28094b3c",
   "metadata": {},
   "source": [
    "## Read the Input data"
   ]
  },
  {
   "cell_type": "code",
   "execution_count": 4,
   "id": "a35153d4",
   "metadata": {},
   "outputs": [],
   "source": [
    "confirmedraw = read.csv(\"time_series_covid19_confirmed_global.csv\")\n",
    "\n",
    "deathsraw= read.csv(\"time_series_covid19_deaths_global.csv\")\n",
    "\n",
    "recoveredraw = read.csv(\"time_series_covid19_recovered_global.csv\")"
   ]
  },
  {
   "cell_type": "code",
   "execution_count": 5,
   "id": "05640bab",
   "metadata": {},
   "outputs": [],
   "source": [
    "countryToContinent = read.csv(\"countryToContinent.csv\")\n",
    "\n",
    "countryToContinent$Continent = as.character(countryToContinent$Continent)\n",
    "countryToContinent$Country = as.character(countryToContinent$Country)"
   ]
  },
  {
   "cell_type": "code",
   "execution_count": 6,
   "id": "d61b62e5",
   "metadata": {},
   "outputs": [
    {
     "data": {
      "text/html": [
       "<table class=\"dataframe\">\n",
       "<caption>A data.frame: 6 × 3</caption>\n",
       "<thead>\n",
       "\t<tr><th></th><th scope=col>X</th><th scope=col>Continent</th><th scope=col>Country</th></tr>\n",
       "\t<tr><th></th><th scope=col>&lt;int&gt;</th><th scope=col>&lt;chr&gt;</th><th scope=col>&lt;chr&gt;</th></tr>\n",
       "</thead>\n",
       "<tbody>\n",
       "\t<tr><th scope=row>1</th><td>1</td><td>Africa</td><td>Algeria </td></tr>\n",
       "\t<tr><th scope=row>2</th><td>2</td><td>Africa</td><td>Angola  </td></tr>\n",
       "\t<tr><th scope=row>3</th><td>3</td><td>Africa</td><td>Benin   </td></tr>\n",
       "\t<tr><th scope=row>4</th><td>4</td><td>Africa</td><td>Botswana</td></tr>\n",
       "\t<tr><th scope=row>5</th><td>5</td><td>Africa</td><td>Burkina </td></tr>\n",
       "\t<tr><th scope=row>6</th><td>6</td><td>Africa</td><td>Burundi </td></tr>\n",
       "</tbody>\n",
       "</table>\n"
      ],
      "text/latex": [
       "A data.frame: 6 × 3\n",
       "\\begin{tabular}{r|lll}\n",
       "  & X & Continent & Country\\\\\n",
       "  & <int> & <chr> & <chr>\\\\\n",
       "\\hline\n",
       "\t1 & 1 & Africa & Algeria \\\\\n",
       "\t2 & 2 & Africa & Angola  \\\\\n",
       "\t3 & 3 & Africa & Benin   \\\\\n",
       "\t4 & 4 & Africa & Botswana\\\\\n",
       "\t5 & 5 & Africa & Burkina \\\\\n",
       "\t6 & 6 & Africa & Burundi \\\\\n",
       "\\end{tabular}\n"
      ],
      "text/markdown": [
       "\n",
       "A data.frame: 6 × 3\n",
       "\n",
       "| <!--/--> | X &lt;int&gt; | Continent &lt;chr&gt; | Country &lt;chr&gt; |\n",
       "|---|---|---|---|\n",
       "| 1 | 1 | Africa | Algeria  |\n",
       "| 2 | 2 | Africa | Angola   |\n",
       "| 3 | 3 | Africa | Benin    |\n",
       "| 4 | 4 | Africa | Botswana |\n",
       "| 5 | 5 | Africa | Burkina  |\n",
       "| 6 | 6 | Africa | Burundi  |\n",
       "\n"
      ],
      "text/plain": [
       "  X Continent Country \n",
       "1 1 Africa    Algeria \n",
       "2 2 Africa    Angola  \n",
       "3 3 Africa    Benin   \n",
       "4 4 Africa    Botswana\n",
       "5 5 Africa    Burkina \n",
       "6 6 Africa    Burundi "
      ]
     },
     "metadata": {},
     "output_type": "display_data"
    }
   ],
   "source": [
    "head(countryToContinent)"
   ]
  },
  {
   "cell_type": "code",
   "execution_count": 7,
   "id": "c051b1da",
   "metadata": {},
   "outputs": [
    {
     "name": "stdout",
     "output_type": "stream",
     "text": [
      "[1]  289 1017\n",
      "[1]  289 1001\n",
      "[1]  274 1001\n"
     ]
    }
   ],
   "source": [
    "print(dim(confirmedraw))\n",
    "\n",
    "print(dim(deathsraw))\n",
    "\n",
    "print(dim(recoveredraw))"
   ]
  },
  {
   "cell_type": "code",
   "execution_count": 8,
   "id": "76e40bd3",
   "metadata": {},
   "outputs": [
    {
     "data": {
      "text/html": [
       "<table class=\"dataframe\">\n",
       "<caption>A data.frame: 6 × 1001</caption>\n",
       "<thead>\n",
       "\t<tr><th></th><th scope=col>Province.State</th><th scope=col>Country.Region</th><th scope=col>Lat</th><th scope=col>Long</th><th scope=col>X1.22.2020</th><th scope=col>X1.23.2020</th><th scope=col>X1.24.2020</th><th scope=col>X1.25.2020</th><th scope=col>X1.26.2020</th><th scope=col>X1.27.2020</th><th scope=col>⋯</th><th scope=col>X10.5.2022</th><th scope=col>X10.6.2022</th><th scope=col>X10.7.2022</th><th scope=col>X10.8.2022</th><th scope=col>X10.9.2022</th><th scope=col>X10.10.2022</th><th scope=col>X10.11.2022</th><th scope=col>X10.12.2022</th><th scope=col>X10.13.2022</th><th scope=col>X10.14.2022</th></tr>\n",
       "\t<tr><th></th><th scope=col>&lt;chr&gt;</th><th scope=col>&lt;chr&gt;</th><th scope=col>&lt;dbl&gt;</th><th scope=col>&lt;dbl&gt;</th><th scope=col>&lt;int&gt;</th><th scope=col>&lt;int&gt;</th><th scope=col>&lt;int&gt;</th><th scope=col>&lt;int&gt;</th><th scope=col>&lt;int&gt;</th><th scope=col>&lt;int&gt;</th><th scope=col>⋯</th><th scope=col>&lt;int&gt;</th><th scope=col>&lt;int&gt;</th><th scope=col>&lt;int&gt;</th><th scope=col>&lt;int&gt;</th><th scope=col>&lt;int&gt;</th><th scope=col>&lt;int&gt;</th><th scope=col>&lt;int&gt;</th><th scope=col>&lt;int&gt;</th><th scope=col>&lt;int&gt;</th><th scope=col>&lt;int&gt;</th></tr>\n",
       "</thead>\n",
       "<tbody>\n",
       "\t<tr><th scope=row>1</th><td></td><td>Afghanistan</td><td> 33.93911</td><td>67.70995</td><td>0</td><td>0</td><td>0</td><td>0</td><td>0</td><td>0</td><td>⋯</td><td>0</td><td>0</td><td>0</td><td>0</td><td>0</td><td>0</td><td>0</td><td>0</td><td>0</td><td>0</td></tr>\n",
       "\t<tr><th scope=row>2</th><td></td><td>Albania    </td><td> 41.15330</td><td>20.16830</td><td>0</td><td>0</td><td>0</td><td>0</td><td>0</td><td>0</td><td>⋯</td><td>0</td><td>0</td><td>0</td><td>0</td><td>0</td><td>0</td><td>0</td><td>0</td><td>0</td><td>0</td></tr>\n",
       "\t<tr><th scope=row>3</th><td></td><td>Algeria    </td><td> 28.03390</td><td> 1.65960</td><td>0</td><td>0</td><td>0</td><td>0</td><td>0</td><td>0</td><td>⋯</td><td>0</td><td>0</td><td>0</td><td>0</td><td>0</td><td>0</td><td>0</td><td>0</td><td>0</td><td>0</td></tr>\n",
       "\t<tr><th scope=row>4</th><td></td><td>Andorra    </td><td> 42.50630</td><td> 1.52180</td><td>0</td><td>0</td><td>0</td><td>0</td><td>0</td><td>0</td><td>⋯</td><td>0</td><td>0</td><td>0</td><td>0</td><td>0</td><td>0</td><td>0</td><td>0</td><td>0</td><td>0</td></tr>\n",
       "\t<tr><th scope=row>5</th><td></td><td>Angola     </td><td>-11.20270</td><td>17.87390</td><td>0</td><td>0</td><td>0</td><td>0</td><td>0</td><td>0</td><td>⋯</td><td>0</td><td>0</td><td>0</td><td>0</td><td>0</td><td>0</td><td>0</td><td>0</td><td>0</td><td>0</td></tr>\n",
       "\t<tr><th scope=row>6</th><td></td><td>Antarctica </td><td>-71.94990</td><td>23.34700</td><td>0</td><td>0</td><td>0</td><td>0</td><td>0</td><td>0</td><td>⋯</td><td>0</td><td>0</td><td>0</td><td>0</td><td>0</td><td>0</td><td>0</td><td>0</td><td>0</td><td>0</td></tr>\n",
       "</tbody>\n",
       "</table>\n"
      ],
      "text/latex": [
       "A data.frame: 6 × 1001\n",
       "\\begin{tabular}{r|lllllllllllllllllllll}\n",
       "  & Province.State & Country.Region & Lat & Long & X1.22.2020 & X1.23.2020 & X1.24.2020 & X1.25.2020 & X1.26.2020 & X1.27.2020 & ⋯ & X10.5.2022 & X10.6.2022 & X10.7.2022 & X10.8.2022 & X10.9.2022 & X10.10.2022 & X10.11.2022 & X10.12.2022 & X10.13.2022 & X10.14.2022\\\\\n",
       "  & <chr> & <chr> & <dbl> & <dbl> & <int> & <int> & <int> & <int> & <int> & <int> & ⋯ & <int> & <int> & <int> & <int> & <int> & <int> & <int> & <int> & <int> & <int>\\\\\n",
       "\\hline\n",
       "\t1 &  & Afghanistan &  33.93911 & 67.70995 & 0 & 0 & 0 & 0 & 0 & 0 & ⋯ & 0 & 0 & 0 & 0 & 0 & 0 & 0 & 0 & 0 & 0\\\\\n",
       "\t2 &  & Albania     &  41.15330 & 20.16830 & 0 & 0 & 0 & 0 & 0 & 0 & ⋯ & 0 & 0 & 0 & 0 & 0 & 0 & 0 & 0 & 0 & 0\\\\\n",
       "\t3 &  & Algeria     &  28.03390 &  1.65960 & 0 & 0 & 0 & 0 & 0 & 0 & ⋯ & 0 & 0 & 0 & 0 & 0 & 0 & 0 & 0 & 0 & 0\\\\\n",
       "\t4 &  & Andorra     &  42.50630 &  1.52180 & 0 & 0 & 0 & 0 & 0 & 0 & ⋯ & 0 & 0 & 0 & 0 & 0 & 0 & 0 & 0 & 0 & 0\\\\\n",
       "\t5 &  & Angola      & -11.20270 & 17.87390 & 0 & 0 & 0 & 0 & 0 & 0 & ⋯ & 0 & 0 & 0 & 0 & 0 & 0 & 0 & 0 & 0 & 0\\\\\n",
       "\t6 &  & Antarctica  & -71.94990 & 23.34700 & 0 & 0 & 0 & 0 & 0 & 0 & ⋯ & 0 & 0 & 0 & 0 & 0 & 0 & 0 & 0 & 0 & 0\\\\\n",
       "\\end{tabular}\n"
      ],
      "text/markdown": [
       "\n",
       "A data.frame: 6 × 1001\n",
       "\n",
       "| <!--/--> | Province.State &lt;chr&gt; | Country.Region &lt;chr&gt; | Lat &lt;dbl&gt; | Long &lt;dbl&gt; | X1.22.2020 &lt;int&gt; | X1.23.2020 &lt;int&gt; | X1.24.2020 &lt;int&gt; | X1.25.2020 &lt;int&gt; | X1.26.2020 &lt;int&gt; | X1.27.2020 &lt;int&gt; | ⋯ ⋯ | X10.5.2022 &lt;int&gt; | X10.6.2022 &lt;int&gt; | X10.7.2022 &lt;int&gt; | X10.8.2022 &lt;int&gt; | X10.9.2022 &lt;int&gt; | X10.10.2022 &lt;int&gt; | X10.11.2022 &lt;int&gt; | X10.12.2022 &lt;int&gt; | X10.13.2022 &lt;int&gt; | X10.14.2022 &lt;int&gt; |\n",
       "|---|---|---|---|---|---|---|---|---|---|---|---|---|---|---|---|---|---|---|---|---|---|\n",
       "| 1 | <!----> | Afghanistan |  33.93911 | 67.70995 | 0 | 0 | 0 | 0 | 0 | 0 | ⋯ | 0 | 0 | 0 | 0 | 0 | 0 | 0 | 0 | 0 | 0 |\n",
       "| 2 | <!----> | Albania     |  41.15330 | 20.16830 | 0 | 0 | 0 | 0 | 0 | 0 | ⋯ | 0 | 0 | 0 | 0 | 0 | 0 | 0 | 0 | 0 | 0 |\n",
       "| 3 | <!----> | Algeria     |  28.03390 |  1.65960 | 0 | 0 | 0 | 0 | 0 | 0 | ⋯ | 0 | 0 | 0 | 0 | 0 | 0 | 0 | 0 | 0 | 0 |\n",
       "| 4 | <!----> | Andorra     |  42.50630 |  1.52180 | 0 | 0 | 0 | 0 | 0 | 0 | ⋯ | 0 | 0 | 0 | 0 | 0 | 0 | 0 | 0 | 0 | 0 |\n",
       "| 5 | <!----> | Angola      | -11.20270 | 17.87390 | 0 | 0 | 0 | 0 | 0 | 0 | ⋯ | 0 | 0 | 0 | 0 | 0 | 0 | 0 | 0 | 0 | 0 |\n",
       "| 6 | <!----> | Antarctica  | -71.94990 | 23.34700 | 0 | 0 | 0 | 0 | 0 | 0 | ⋯ | 0 | 0 | 0 | 0 | 0 | 0 | 0 | 0 | 0 | 0 |\n",
       "\n"
      ],
      "text/plain": [
       "  Province.State Country.Region Lat       Long     X1.22.2020 X1.23.2020\n",
       "1                Afghanistan     33.93911 67.70995 0          0         \n",
       "2                Albania         41.15330 20.16830 0          0         \n",
       "3                Algeria         28.03390  1.65960 0          0         \n",
       "4                Andorra         42.50630  1.52180 0          0         \n",
       "5                Angola         -11.20270 17.87390 0          0         \n",
       "6                Antarctica     -71.94990 23.34700 0          0         \n",
       "  X1.24.2020 X1.25.2020 X1.26.2020 X1.27.2020 ⋯ X10.5.2022 X10.6.2022\n",
       "1 0          0          0          0          ⋯ 0          0         \n",
       "2 0          0          0          0          ⋯ 0          0         \n",
       "3 0          0          0          0          ⋯ 0          0         \n",
       "4 0          0          0          0          ⋯ 0          0         \n",
       "5 0          0          0          0          ⋯ 0          0         \n",
       "6 0          0          0          0          ⋯ 0          0         \n",
       "  X10.7.2022 X10.8.2022 X10.9.2022 X10.10.2022 X10.11.2022 X10.12.2022\n",
       "1 0          0          0          0           0           0          \n",
       "2 0          0          0          0           0           0          \n",
       "3 0          0          0          0           0           0          \n",
       "4 0          0          0          0           0           0          \n",
       "5 0          0          0          0           0           0          \n",
       "6 0          0          0          0           0           0          \n",
       "  X10.13.2022 X10.14.2022\n",
       "1 0           0          \n",
       "2 0           0          \n",
       "3 0           0          \n",
       "4 0           0          \n",
       "5 0           0          \n",
       "6 0           0          "
      ]
     },
     "metadata": {},
     "output_type": "display_data"
    }
   ],
   "source": [
    "head(recoveredraw)"
   ]
  },
  {
   "cell_type": "code",
   "execution_count": 9,
   "id": "e4d8883b",
   "metadata": {},
   "outputs": [],
   "source": [
    "formatTheData = function(data,colName) {\n",
    "    \n",
    "    covid_data = data %>% rename('subregion' = 'Province.State','country' = 'Country.Region')\n",
    "    \n",
    "    covid_data = covid_data %>%  pivot_longer(cols = -one_of('country','subregion','Lat','Long')\n",
    "                ,names_to = 'date'\n",
    "               ,values_to = colName\n",
    "               )\n",
    "    \n",
    "    covid_data$date <- covid_data$date %>% sub(\"X\", \"\", .)\n",
    "    \n",
    "    covid_data$date = mdy(covid_data$date)\n",
    "\n",
    "    covid_data = covid_data %>% arrange(date)\n",
    "   \n",
    "    covid_data$Lat = round(covid_data$Lat,3)\n",
    "\n",
    "    covid_data$Long = round(covid_data$Long,3)\n",
    "    \n",
    "    #covid_data = merge(countryToContinent,covid_data,  by.y = \"Country\", by.x = \"Country.Region\")\n",
    "\n",
    "    print(unique(format(covid_data$date, \"%Y\")))\n",
    "    print(dim(covid_data))\n",
    "    \n",
    "    covid_data  = covid_data[covid_data$country != 'canada',]\n",
    "    return(data.frame(covid_data))\n",
    "}"
   ]
  },
  {
   "cell_type": "code",
   "execution_count": 10,
   "id": "0ee10519",
   "metadata": {},
   "outputs": [
    {
     "name": "stdout",
     "output_type": "stream",
     "text": [
      "[1] \"2020\" \"2021\" \"2022\"\n",
      "[1] 292757      6\n",
      "[1] \"2020\" \"2021\" \"2022\"\n",
      "[1] 288133      6\n",
      "[1] \"2020\" \"2021\" \"2022\"\n",
      "[1] 273178      6\n"
     ]
    }
   ],
   "source": [
    "case.conf = formatTheData(confirmedraw,\"conf\")\n",
    "case.death = formatTheData(deathsraw,\"death\")\n",
    "case.recov = formatTheData(recoveredraw,\"recov\")"
   ]
  },
  {
   "cell_type": "code",
   "execution_count": 11,
   "id": "37704518",
   "metadata": {},
   "outputs": [
    {
     "data": {
      "text/html": [
       "<table class=\"dataframe\">\n",
       "<caption>A data.frame: 6 × 6</caption>\n",
       "<thead>\n",
       "\t<tr><th></th><th scope=col>subregion</th><th scope=col>country</th><th scope=col>Lat</th><th scope=col>Long</th><th scope=col>date</th><th scope=col>conf</th></tr>\n",
       "\t<tr><th></th><th scope=col>&lt;chr&gt;</th><th scope=col>&lt;chr&gt;</th><th scope=col>&lt;dbl&gt;</th><th scope=col>&lt;dbl&gt;</th><th scope=col>&lt;date&gt;</th><th scope=col>&lt;int&gt;</th></tr>\n",
       "</thead>\n",
       "<tbody>\n",
       "\t<tr><th scope=row>1</th><td></td><td>Afghanistan</td><td> 33.939</td><td>67.710</td><td>2020-01-22</td><td>0</td></tr>\n",
       "\t<tr><th scope=row>2</th><td></td><td>Albania    </td><td> 41.153</td><td>20.168</td><td>2020-01-22</td><td>0</td></tr>\n",
       "\t<tr><th scope=row>3</th><td></td><td>Algeria    </td><td> 28.034</td><td> 1.660</td><td>2020-01-22</td><td>0</td></tr>\n",
       "\t<tr><th scope=row>4</th><td></td><td>Andorra    </td><td> 42.506</td><td> 1.522</td><td>2020-01-22</td><td>0</td></tr>\n",
       "\t<tr><th scope=row>5</th><td></td><td>Angola     </td><td>-11.203</td><td>17.874</td><td>2020-01-22</td><td>0</td></tr>\n",
       "\t<tr><th scope=row>6</th><td></td><td>Antarctica </td><td>-71.950</td><td>23.347</td><td>2020-01-22</td><td>0</td></tr>\n",
       "</tbody>\n",
       "</table>\n"
      ],
      "text/latex": [
       "A data.frame: 6 × 6\n",
       "\\begin{tabular}{r|llllll}\n",
       "  & subregion & country & Lat & Long & date & conf\\\\\n",
       "  & <chr> & <chr> & <dbl> & <dbl> & <date> & <int>\\\\\n",
       "\\hline\n",
       "\t1 &  & Afghanistan &  33.939 & 67.710 & 2020-01-22 & 0\\\\\n",
       "\t2 &  & Albania     &  41.153 & 20.168 & 2020-01-22 & 0\\\\\n",
       "\t3 &  & Algeria     &  28.034 &  1.660 & 2020-01-22 & 0\\\\\n",
       "\t4 &  & Andorra     &  42.506 &  1.522 & 2020-01-22 & 0\\\\\n",
       "\t5 &  & Angola      & -11.203 & 17.874 & 2020-01-22 & 0\\\\\n",
       "\t6 &  & Antarctica  & -71.950 & 23.347 & 2020-01-22 & 0\\\\\n",
       "\\end{tabular}\n"
      ],
      "text/markdown": [
       "\n",
       "A data.frame: 6 × 6\n",
       "\n",
       "| <!--/--> | subregion &lt;chr&gt; | country &lt;chr&gt; | Lat &lt;dbl&gt; | Long &lt;dbl&gt; | date &lt;date&gt; | conf &lt;int&gt; |\n",
       "|---|---|---|---|---|---|---|\n",
       "| 1 | <!----> | Afghanistan |  33.939 | 67.710 | 2020-01-22 | 0 |\n",
       "| 2 | <!----> | Albania     |  41.153 | 20.168 | 2020-01-22 | 0 |\n",
       "| 3 | <!----> | Algeria     |  28.034 |  1.660 | 2020-01-22 | 0 |\n",
       "| 4 | <!----> | Andorra     |  42.506 |  1.522 | 2020-01-22 | 0 |\n",
       "| 5 | <!----> | Angola      | -11.203 | 17.874 | 2020-01-22 | 0 |\n",
       "| 6 | <!----> | Antarctica  | -71.950 | 23.347 | 2020-01-22 | 0 |\n",
       "\n"
      ],
      "text/plain": [
       "  subregion country     Lat     Long   date       conf\n",
       "1           Afghanistan  33.939 67.710 2020-01-22 0   \n",
       "2           Albania      41.153 20.168 2020-01-22 0   \n",
       "3           Algeria      28.034  1.660 2020-01-22 0   \n",
       "4           Andorra      42.506  1.522 2020-01-22 0   \n",
       "5           Angola      -11.203 17.874 2020-01-22 0   \n",
       "6           Antarctica  -71.950 23.347 2020-01-22 0   "
      ]
     },
     "metadata": {},
     "output_type": "display_data"
    }
   ],
   "source": [
    "head(case.conf)"
   ]
  },
  {
   "cell_type": "code",
   "execution_count": 12,
   "id": "6596fd39",
   "metadata": {},
   "outputs": [],
   "source": [
    "#case.conf = case.conf[case.conf$country!= 'Canada' & case.conf$country!= 'China',]\n",
    "#case.death = case.death[case.death$country!= 'Canada' & case.death$country!= 'China',]\n",
    "#case.recov = case.recov[case.recov$country!= 'Canada' & case.recov$country!= 'China',]"
   ]
  },
  {
   "cell_type": "code",
   "execution_count": 13,
   "id": "4831ea0a",
   "metadata": {},
   "outputs": [],
   "source": [
    "#case.conf[case.conf$country == 'Canada',]"
   ]
  },
  {
   "cell_type": "code",
   "execution_count": 14,
   "id": "b2240b63",
   "metadata": {},
   "outputs": [
    {
     "data": {
      "text/html": [
       "<table class=\"dataframe\">\n",
       "<caption>A data.frame: 6 × 6</caption>\n",
       "<thead>\n",
       "\t<tr><th></th><th scope=col>subregion</th><th scope=col>country</th><th scope=col>Lat</th><th scope=col>Long</th><th scope=col>date</th><th scope=col>conf</th></tr>\n",
       "\t<tr><th></th><th scope=col>&lt;chr&gt;</th><th scope=col>&lt;chr&gt;</th><th scope=col>&lt;dbl&gt;</th><th scope=col>&lt;dbl&gt;</th><th scope=col>&lt;date&gt;</th><th scope=col>&lt;int&gt;</th></tr>\n",
       "</thead>\n",
       "<tbody>\n",
       "\t<tr><th scope=row>1</th><td></td><td>Afghanistan</td><td>33.939</td><td>67.71</td><td>2020-01-22</td><td>0</td></tr>\n",
       "\t<tr><th scope=row>2</th><td></td><td>Afghanistan</td><td>33.939</td><td>67.71</td><td>2020-01-23</td><td>0</td></tr>\n",
       "\t<tr><th scope=row>3</th><td></td><td>Afghanistan</td><td>33.939</td><td>67.71</td><td>2020-01-24</td><td>0</td></tr>\n",
       "\t<tr><th scope=row>4</th><td></td><td>Afghanistan</td><td>33.939</td><td>67.71</td><td>2020-01-25</td><td>0</td></tr>\n",
       "\t<tr><th scope=row>5</th><td></td><td>Afghanistan</td><td>33.939</td><td>67.71</td><td>2020-01-26</td><td>0</td></tr>\n",
       "\t<tr><th scope=row>6</th><td></td><td>Afghanistan</td><td>33.939</td><td>67.71</td><td>2020-01-27</td><td>0</td></tr>\n",
       "</tbody>\n",
       "</table>\n"
      ],
      "text/latex": [
       "A data.frame: 6 × 6\n",
       "\\begin{tabular}{r|llllll}\n",
       "  & subregion & country & Lat & Long & date & conf\\\\\n",
       "  & <chr> & <chr> & <dbl> & <dbl> & <date> & <int>\\\\\n",
       "\\hline\n",
       "\t1 &  & Afghanistan & 33.939 & 67.71 & 2020-01-22 & 0\\\\\n",
       "\t2 &  & Afghanistan & 33.939 & 67.71 & 2020-01-23 & 0\\\\\n",
       "\t3 &  & Afghanistan & 33.939 & 67.71 & 2020-01-24 & 0\\\\\n",
       "\t4 &  & Afghanistan & 33.939 & 67.71 & 2020-01-25 & 0\\\\\n",
       "\t5 &  & Afghanistan & 33.939 & 67.71 & 2020-01-26 & 0\\\\\n",
       "\t6 &  & Afghanistan & 33.939 & 67.71 & 2020-01-27 & 0\\\\\n",
       "\\end{tabular}\n"
      ],
      "text/markdown": [
       "\n",
       "A data.frame: 6 × 6\n",
       "\n",
       "| <!--/--> | subregion &lt;chr&gt; | country &lt;chr&gt; | Lat &lt;dbl&gt; | Long &lt;dbl&gt; | date &lt;date&gt; | conf &lt;int&gt; |\n",
       "|---|---|---|---|---|---|---|\n",
       "| 1 | <!----> | Afghanistan | 33.939 | 67.71 | 2020-01-22 | 0 |\n",
       "| 2 | <!----> | Afghanistan | 33.939 | 67.71 | 2020-01-23 | 0 |\n",
       "| 3 | <!----> | Afghanistan | 33.939 | 67.71 | 2020-01-24 | 0 |\n",
       "| 4 | <!----> | Afghanistan | 33.939 | 67.71 | 2020-01-25 | 0 |\n",
       "| 5 | <!----> | Afghanistan | 33.939 | 67.71 | 2020-01-26 | 0 |\n",
       "| 6 | <!----> | Afghanistan | 33.939 | 67.71 | 2020-01-27 | 0 |\n",
       "\n"
      ],
      "text/plain": [
       "  subregion country     Lat    Long  date       conf\n",
       "1           Afghanistan 33.939 67.71 2020-01-22 0   \n",
       "2           Afghanistan 33.939 67.71 2020-01-23 0   \n",
       "3           Afghanistan 33.939 67.71 2020-01-24 0   \n",
       "4           Afghanistan 33.939 67.71 2020-01-25 0   \n",
       "5           Afghanistan 33.939 67.71 2020-01-26 0   \n",
       "6           Afghanistan 33.939 67.71 2020-01-27 0   "
      ]
     },
     "metadata": {},
     "output_type": "display_data"
    }
   ],
   "source": [
    "#head(case.conf)\n",
    "head(case.conf %>% arrange(country))"
   ]
  },
  {
   "cell_type": "code",
   "execution_count": 15,
   "id": "8a0a5a7b",
   "metadata": {},
   "outputs": [
    {
     "data": {
      "text/html": [
       "<table class=\"dataframe\">\n",
       "<caption>A data.frame: 6 × 6</caption>\n",
       "<thead>\n",
       "\t<tr><th></th><th scope=col>subregion</th><th scope=col>country</th><th scope=col>Lat</th><th scope=col>Long</th><th scope=col>date</th><th scope=col>conf</th></tr>\n",
       "\t<tr><th></th><th scope=col>&lt;chr&gt;</th><th scope=col>&lt;chr&gt;</th><th scope=col>&lt;dbl&gt;</th><th scope=col>&lt;dbl&gt;</th><th scope=col>&lt;date&gt;</th><th scope=col>&lt;int&gt;</th></tr>\n",
       "</thead>\n",
       "<tbody>\n",
       "\t<tr><th scope=row>292752</th><td></td><td>Vietnam             </td><td> 14.058</td><td>108.277</td><td>2022-10-30</td><td>11502474</td></tr>\n",
       "\t<tr><th scope=row>292753</th><td></td><td>West Bank and Gaza  </td><td> 31.952</td><td> 35.233</td><td>2022-10-30</td><td>  703014</td></tr>\n",
       "\t<tr><th scope=row>292754</th><td></td><td>Winter Olympics 2022</td><td> 39.904</td><td>116.407</td><td>2022-10-30</td><td>     535</td></tr>\n",
       "\t<tr><th scope=row>292755</th><td></td><td>Yemen               </td><td> 15.553</td><td> 48.516</td><td>2022-10-30</td><td>   11939</td></tr>\n",
       "\t<tr><th scope=row>292756</th><td></td><td>Zambia              </td><td>-13.134</td><td> 27.849</td><td>2022-10-30</td><td>  333681</td></tr>\n",
       "\t<tr><th scope=row>292757</th><td></td><td>Zimbabwe            </td><td>-19.015</td><td> 29.155</td><td>2022-10-30</td><td>  257893</td></tr>\n",
       "</tbody>\n",
       "</table>\n"
      ],
      "text/latex": [
       "A data.frame: 6 × 6\n",
       "\\begin{tabular}{r|llllll}\n",
       "  & subregion & country & Lat & Long & date & conf\\\\\n",
       "  & <chr> & <chr> & <dbl> & <dbl> & <date> & <int>\\\\\n",
       "\\hline\n",
       "\t292752 &  & Vietnam              &  14.058 & 108.277 & 2022-10-30 & 11502474\\\\\n",
       "\t292753 &  & West Bank and Gaza   &  31.952 &  35.233 & 2022-10-30 &   703014\\\\\n",
       "\t292754 &  & Winter Olympics 2022 &  39.904 & 116.407 & 2022-10-30 &      535\\\\\n",
       "\t292755 &  & Yemen                &  15.553 &  48.516 & 2022-10-30 &    11939\\\\\n",
       "\t292756 &  & Zambia               & -13.134 &  27.849 & 2022-10-30 &   333681\\\\\n",
       "\t292757 &  & Zimbabwe             & -19.015 &  29.155 & 2022-10-30 &   257893\\\\\n",
       "\\end{tabular}\n"
      ],
      "text/markdown": [
       "\n",
       "A data.frame: 6 × 6\n",
       "\n",
       "| <!--/--> | subregion &lt;chr&gt; | country &lt;chr&gt; | Lat &lt;dbl&gt; | Long &lt;dbl&gt; | date &lt;date&gt; | conf &lt;int&gt; |\n",
       "|---|---|---|---|---|---|---|\n",
       "| 292752 | <!----> | Vietnam              |  14.058 | 108.277 | 2022-10-30 | 11502474 |\n",
       "| 292753 | <!----> | West Bank and Gaza   |  31.952 |  35.233 | 2022-10-30 |   703014 |\n",
       "| 292754 | <!----> | Winter Olympics 2022 |  39.904 | 116.407 | 2022-10-30 |      535 |\n",
       "| 292755 | <!----> | Yemen                |  15.553 |  48.516 | 2022-10-30 |    11939 |\n",
       "| 292756 | <!----> | Zambia               | -13.134 |  27.849 | 2022-10-30 |   333681 |\n",
       "| 292757 | <!----> | Zimbabwe             | -19.015 |  29.155 | 2022-10-30 |   257893 |\n",
       "\n"
      ],
      "text/plain": [
       "       subregion country              Lat     Long    date       conf    \n",
       "292752           Vietnam               14.058 108.277 2022-10-30 11502474\n",
       "292753           West Bank and Gaza    31.952  35.233 2022-10-30   703014\n",
       "292754           Winter Olympics 2022  39.904 116.407 2022-10-30      535\n",
       "292755           Yemen                 15.553  48.516 2022-10-30    11939\n",
       "292756           Zambia               -13.134  27.849 2022-10-30   333681\n",
       "292757           Zimbabwe             -19.015  29.155 2022-10-30   257893"
      ]
     },
     "metadata": {},
     "output_type": "display_data"
    }
   ],
   "source": [
    "tail(case.conf)"
   ]
  },
  {
   "cell_type": "code",
   "execution_count": 16,
   "id": "5659ea1d",
   "metadata": {},
   "outputs": [
    {
     "data": {
      "text/html": [
       "<table class=\"dataframe\">\n",
       "<caption>A data.frame: 6 × 6</caption>\n",
       "<thead>\n",
       "\t<tr><th></th><th scope=col>subregion</th><th scope=col>country</th><th scope=col>Lat</th><th scope=col>Long</th><th scope=col>date</th><th scope=col>death</th></tr>\n",
       "\t<tr><th></th><th scope=col>&lt;chr&gt;</th><th scope=col>&lt;chr&gt;</th><th scope=col>&lt;dbl&gt;</th><th scope=col>&lt;dbl&gt;</th><th scope=col>&lt;date&gt;</th><th scope=col>&lt;int&gt;</th></tr>\n",
       "</thead>\n",
       "<tbody>\n",
       "\t<tr><th scope=row>288128</th><td></td><td>Vietnam             </td><td> 14.058</td><td>108.277</td><td>2022-10-14</td><td>43155</td></tr>\n",
       "\t<tr><th scope=row>288129</th><td></td><td>West Bank and Gaza  </td><td> 31.952</td><td> 35.233</td><td>2022-10-14</td><td> 5707</td></tr>\n",
       "\t<tr><th scope=row>288130</th><td></td><td>Winter Olympics 2022</td><td> 39.904</td><td>116.407</td><td>2022-10-14</td><td>    0</td></tr>\n",
       "\t<tr><th scope=row>288131</th><td></td><td>Yemen               </td><td> 15.553</td><td> 48.516</td><td>2022-10-14</td><td> 2158</td></tr>\n",
       "\t<tr><th scope=row>288132</th><td></td><td>Zambia              </td><td>-13.134</td><td> 27.849</td><td>2022-10-14</td><td> 4017</td></tr>\n",
       "\t<tr><th scope=row>288133</th><td></td><td>Zimbabwe            </td><td>-19.015</td><td> 29.155</td><td>2022-10-14</td><td> 5605</td></tr>\n",
       "</tbody>\n",
       "</table>\n"
      ],
      "text/latex": [
       "A data.frame: 6 × 6\n",
       "\\begin{tabular}{r|llllll}\n",
       "  & subregion & country & Lat & Long & date & death\\\\\n",
       "  & <chr> & <chr> & <dbl> & <dbl> & <date> & <int>\\\\\n",
       "\\hline\n",
       "\t288128 &  & Vietnam              &  14.058 & 108.277 & 2022-10-14 & 43155\\\\\n",
       "\t288129 &  & West Bank and Gaza   &  31.952 &  35.233 & 2022-10-14 &  5707\\\\\n",
       "\t288130 &  & Winter Olympics 2022 &  39.904 & 116.407 & 2022-10-14 &     0\\\\\n",
       "\t288131 &  & Yemen                &  15.553 &  48.516 & 2022-10-14 &  2158\\\\\n",
       "\t288132 &  & Zambia               & -13.134 &  27.849 & 2022-10-14 &  4017\\\\\n",
       "\t288133 &  & Zimbabwe             & -19.015 &  29.155 & 2022-10-14 &  5605\\\\\n",
       "\\end{tabular}\n"
      ],
      "text/markdown": [
       "\n",
       "A data.frame: 6 × 6\n",
       "\n",
       "| <!--/--> | subregion &lt;chr&gt; | country &lt;chr&gt; | Lat &lt;dbl&gt; | Long &lt;dbl&gt; | date &lt;date&gt; | death &lt;int&gt; |\n",
       "|---|---|---|---|---|---|---|\n",
       "| 288128 | <!----> | Vietnam              |  14.058 | 108.277 | 2022-10-14 | 43155 |\n",
       "| 288129 | <!----> | West Bank and Gaza   |  31.952 |  35.233 | 2022-10-14 |  5707 |\n",
       "| 288130 | <!----> | Winter Olympics 2022 |  39.904 | 116.407 | 2022-10-14 |     0 |\n",
       "| 288131 | <!----> | Yemen                |  15.553 |  48.516 | 2022-10-14 |  2158 |\n",
       "| 288132 | <!----> | Zambia               | -13.134 |  27.849 | 2022-10-14 |  4017 |\n",
       "| 288133 | <!----> | Zimbabwe             | -19.015 |  29.155 | 2022-10-14 |  5605 |\n",
       "\n"
      ],
      "text/plain": [
       "       subregion country              Lat     Long    date       death\n",
       "288128           Vietnam               14.058 108.277 2022-10-14 43155\n",
       "288129           West Bank and Gaza    31.952  35.233 2022-10-14  5707\n",
       "288130           Winter Olympics 2022  39.904 116.407 2022-10-14     0\n",
       "288131           Yemen                 15.553  48.516 2022-10-14  2158\n",
       "288132           Zambia               -13.134  27.849 2022-10-14  4017\n",
       "288133           Zimbabwe             -19.015  29.155 2022-10-14  5605"
      ]
     },
     "metadata": {},
     "output_type": "display_data"
    }
   ],
   "source": [
    "tail(case.death)"
   ]
  },
  {
   "cell_type": "code",
   "execution_count": 17,
   "id": "da3469ca",
   "metadata": {},
   "outputs": [
    {
     "data": {
      "text/html": [
       "<table class=\"dataframe\">\n",
       "<caption>A data.frame: 6 × 6</caption>\n",
       "<thead>\n",
       "\t<tr><th></th><th scope=col>subregion</th><th scope=col>country</th><th scope=col>Lat</th><th scope=col>Long</th><th scope=col>date</th><th scope=col>recov</th></tr>\n",
       "\t<tr><th></th><th scope=col>&lt;chr&gt;</th><th scope=col>&lt;chr&gt;</th><th scope=col>&lt;dbl&gt;</th><th scope=col>&lt;dbl&gt;</th><th scope=col>&lt;date&gt;</th><th scope=col>&lt;int&gt;</th></tr>\n",
       "</thead>\n",
       "<tbody>\n",
       "\t<tr><th scope=row>1</th><td></td><td>Afghanistan</td><td> 33.939</td><td>67.710</td><td>2020-01-22</td><td>0</td></tr>\n",
       "\t<tr><th scope=row>2</th><td></td><td>Albania    </td><td> 41.153</td><td>20.168</td><td>2020-01-22</td><td>0</td></tr>\n",
       "\t<tr><th scope=row>3</th><td></td><td>Algeria    </td><td> 28.034</td><td> 1.660</td><td>2020-01-22</td><td>0</td></tr>\n",
       "\t<tr><th scope=row>4</th><td></td><td>Andorra    </td><td> 42.506</td><td> 1.522</td><td>2020-01-22</td><td>0</td></tr>\n",
       "\t<tr><th scope=row>5</th><td></td><td>Angola     </td><td>-11.203</td><td>17.874</td><td>2020-01-22</td><td>0</td></tr>\n",
       "\t<tr><th scope=row>6</th><td></td><td>Antarctica </td><td>-71.950</td><td>23.347</td><td>2020-01-22</td><td>0</td></tr>\n",
       "</tbody>\n",
       "</table>\n"
      ],
      "text/latex": [
       "A data.frame: 6 × 6\n",
       "\\begin{tabular}{r|llllll}\n",
       "  & subregion & country & Lat & Long & date & recov\\\\\n",
       "  & <chr> & <chr> & <dbl> & <dbl> & <date> & <int>\\\\\n",
       "\\hline\n",
       "\t1 &  & Afghanistan &  33.939 & 67.710 & 2020-01-22 & 0\\\\\n",
       "\t2 &  & Albania     &  41.153 & 20.168 & 2020-01-22 & 0\\\\\n",
       "\t3 &  & Algeria     &  28.034 &  1.660 & 2020-01-22 & 0\\\\\n",
       "\t4 &  & Andorra     &  42.506 &  1.522 & 2020-01-22 & 0\\\\\n",
       "\t5 &  & Angola      & -11.203 & 17.874 & 2020-01-22 & 0\\\\\n",
       "\t6 &  & Antarctica  & -71.950 & 23.347 & 2020-01-22 & 0\\\\\n",
       "\\end{tabular}\n"
      ],
      "text/markdown": [
       "\n",
       "A data.frame: 6 × 6\n",
       "\n",
       "| <!--/--> | subregion &lt;chr&gt; | country &lt;chr&gt; | Lat &lt;dbl&gt; | Long &lt;dbl&gt; | date &lt;date&gt; | recov &lt;int&gt; |\n",
       "|---|---|---|---|---|---|---|\n",
       "| 1 | <!----> | Afghanistan |  33.939 | 67.710 | 2020-01-22 | 0 |\n",
       "| 2 | <!----> | Albania     |  41.153 | 20.168 | 2020-01-22 | 0 |\n",
       "| 3 | <!----> | Algeria     |  28.034 |  1.660 | 2020-01-22 | 0 |\n",
       "| 4 | <!----> | Andorra     |  42.506 |  1.522 | 2020-01-22 | 0 |\n",
       "| 5 | <!----> | Angola      | -11.203 | 17.874 | 2020-01-22 | 0 |\n",
       "| 6 | <!----> | Antarctica  | -71.950 | 23.347 | 2020-01-22 | 0 |\n",
       "\n"
      ],
      "text/plain": [
       "  subregion country     Lat     Long   date       recov\n",
       "1           Afghanistan  33.939 67.710 2020-01-22 0    \n",
       "2           Albania      41.153 20.168 2020-01-22 0    \n",
       "3           Algeria      28.034  1.660 2020-01-22 0    \n",
       "4           Andorra      42.506  1.522 2020-01-22 0    \n",
       "5           Angola      -11.203 17.874 2020-01-22 0    \n",
       "6           Antarctica  -71.950 23.347 2020-01-22 0    "
      ]
     },
     "metadata": {},
     "output_type": "display_data"
    }
   ],
   "source": [
    "head(case.recov)"
   ]
  },
  {
   "cell_type": "code",
   "execution_count": 18,
   "id": "b85a5dd0",
   "metadata": {},
   "outputs": [],
   "source": [
    "full_date = full_join(case.conf, case.death, by = c('subregion','country','Lat','Long', 'date'))\n",
    "\n",
    "country = full_join(full_date, case.recov, by = c('subregion','country','Lat','Long', 'date'))"
   ]
  },
  {
   "cell_type": "code",
   "execution_count": 19,
   "id": "bd019df7",
   "metadata": {},
   "outputs": [
    {
     "data": {
      "text/html": [
       "37228"
      ],
      "text/latex": [
       "37228"
      ],
      "text/markdown": [
       "37228"
      ],
      "text/plain": [
       "[1] 37228"
      ]
     },
     "metadata": {},
     "output_type": "display_data"
    }
   ],
   "source": [
    "sum(is.na(country))"
   ]
  },
  {
   "cell_type": "code",
   "execution_count": 20,
   "id": "d180649d",
   "metadata": {},
   "outputs": [],
   "source": [
    "country = country %>% filter(!is.na(Lat) & !is.na(Long) & !is.na(conf) & !is.na(death) & !is.na(recov))\n",
    "\n",
    "country = country[country$recov >=0 & country$death >=0 & country$conf >=0,]"
   ]
  },
  {
   "cell_type": "code",
   "execution_count": 21,
   "id": "46c3ddca",
   "metadata": {},
   "outputs": [
    {
     "data": {
      "text/html": [
       "0"
      ],
      "text/latex": [
       "0"
      ],
      "text/markdown": [
       "0"
      ],
      "text/plain": [
       "[1] 0"
      ]
     },
     "metadata": {},
     "output_type": "display_data"
    }
   ],
   "source": [
    "sum(is.na(country))"
   ]
  },
  {
   "cell_type": "code",
   "execution_count": 22,
   "id": "b2f454b8",
   "metadata": {},
   "outputs": [
    {
     "data": {
      "text/html": [
       "<style>\n",
       ".list-inline {list-style: none; margin:0; padding: 0}\n",
       ".list-inline>li {display: inline-block}\n",
       ".list-inline>li:not(:last-child)::after {content: \"\\00b7\"; padding: 0 .5ex}\n",
       "</style>\n",
       "<ol class=list-inline><li>269182</li><li>8</li></ol>\n"
      ],
      "text/latex": [
       "\\begin{enumerate*}\n",
       "\\item 269182\n",
       "\\item 8\n",
       "\\end{enumerate*}\n"
      ],
      "text/markdown": [
       "1. 269182\n",
       "2. 8\n",
       "\n",
       "\n"
      ],
      "text/plain": [
       "[1] 269182      8"
      ]
     },
     "metadata": {},
     "output_type": "display_data"
    }
   ],
   "source": [
    "dim(country)"
   ]
  },
  {
   "cell_type": "markdown",
   "id": "7dc0100d",
   "metadata": {},
   "source": [
    "## Insight into Confimed Cases Country wise"
   ]
  },
  {
   "cell_type": "code",
   "execution_count": 23,
   "id": "99533d64",
   "metadata": {},
   "outputs": [],
   "source": [
    "conf_Cases_country <- data.frame(country = NA,totalCases = NA)\n",
    "\n",
    "df = country\n",
    "cofimed_country = data\n",
    "\n",
    "getConfirmedCasesCounrywise = function(country)\n",
    "{\n",
    "    df = df[df$country == country,]\n",
    "\n",
    "    df$conf_daily = df[2:dim(df)[1],]$conf - df[1:dim(df)[1],]$conf\n",
    "    \n",
    "    df$conf_daily <- ifelse(df$conf_daily < 0,0,df$conf_daily)\n",
    "    \n",
    "    return (data.frame(country = country,totalCases = sum(df$conf_daily)))\n",
    "}"
   ]
  },
  {
   "cell_type": "code",
   "execution_count": 24,
   "id": "87c30b23",
   "metadata": {},
   "outputs": [],
   "source": [
    "for(c in unique(country$country))\n",
    "    {\n",
    "    conf_Cases_country = rbind(conf_Cases_country,getConfirmedCasesCounrywise(c))\n",
    "}\n",
    "\n",
    "conf_Cases_country = conf_Cases_country %>% filter(!is.na(totalCases))\n",
    "\n",
    "colnames(conf_Cases_country)[2] <- \"totalCases_conf\"\n",
    "\n",
    "top_10_Country_Highest_ConfCases = head(conf_Cases_country %>% arrange(desc(totalCases_conf)),10)\n",
    "\n",
    "top_10_Country_Highest_ConfCases$totalCases_conf =  top_10_Country_Highest_ConfCases$totalCases_conf / 1000000"
   ]
  },
  {
   "cell_type": "code",
   "execution_count": 25,
   "id": "8411943d",
   "metadata": {},
   "outputs": [
    {
     "data": {
      "text/html": [
       "<table class=\"dataframe\">\n",
       "<caption>A data.frame: 10 × 2</caption>\n",
       "<thead>\n",
       "\t<tr><th></th><th scope=col>country</th><th scope=col>totalCases_conf</th></tr>\n",
       "\t<tr><th></th><th scope=col>&lt;chr&gt;</th><th scope=col>&lt;dbl&gt;</th></tr>\n",
       "</thead>\n",
       "<tbody>\n",
       "\t<tr><th scope=row>1</th><td>France        </td><td>10253.23171</td></tr>\n",
       "\t<tr><th scope=row>2</th><td>United Kingdom</td><td> 8528.67994</td></tr>\n",
       "\t<tr><th scope=row>3</th><td>Netherlands   </td><td> 2813.86249</td></tr>\n",
       "\t<tr><th scope=row>4</th><td>Australia     </td><td> 1418.54862</td></tr>\n",
       "\t<tr><th scope=row>5</th><td>Denmark       </td><td>  945.82250</td></tr>\n",
       "\t<tr><th scope=row>6</th><td>China         </td><td>  379.03328</td></tr>\n",
       "\t<tr><th scope=row>7</th><td>New Zealand   </td><td>  288.74450</td></tr>\n",
       "\t<tr><th scope=row>8</th><td>US            </td><td>   96.93127</td></tr>\n",
       "\t<tr><th scope=row>9</th><td>India         </td><td>   44.62659</td></tr>\n",
       "\t<tr><th scope=row>10</th><td>Brazil        </td><td>   34.76639</td></tr>\n",
       "</tbody>\n",
       "</table>\n"
      ],
      "text/latex": [
       "A data.frame: 10 × 2\n",
       "\\begin{tabular}{r|ll}\n",
       "  & country & totalCases\\_conf\\\\\n",
       "  & <chr> & <dbl>\\\\\n",
       "\\hline\n",
       "\t1 & France         & 10253.23171\\\\\n",
       "\t2 & United Kingdom &  8528.67994\\\\\n",
       "\t3 & Netherlands    &  2813.86249\\\\\n",
       "\t4 & Australia      &  1418.54862\\\\\n",
       "\t5 & Denmark        &   945.82250\\\\\n",
       "\t6 & China          &   379.03328\\\\\n",
       "\t7 & New Zealand    &   288.74450\\\\\n",
       "\t8 & US             &    96.93127\\\\\n",
       "\t9 & India          &    44.62659\\\\\n",
       "\t10 & Brazil         &    34.76639\\\\\n",
       "\\end{tabular}\n"
      ],
      "text/markdown": [
       "\n",
       "A data.frame: 10 × 2\n",
       "\n",
       "| <!--/--> | country &lt;chr&gt; | totalCases_conf &lt;dbl&gt; |\n",
       "|---|---|---|\n",
       "| 1 | France         | 10253.23171 |\n",
       "| 2 | United Kingdom |  8528.67994 |\n",
       "| 3 | Netherlands    |  2813.86249 |\n",
       "| 4 | Australia      |  1418.54862 |\n",
       "| 5 | Denmark        |   945.82250 |\n",
       "| 6 | China          |   379.03328 |\n",
       "| 7 | New Zealand    |   288.74450 |\n",
       "| 8 | US             |    96.93127 |\n",
       "| 9 | India          |    44.62659 |\n",
       "| 10 | Brazil         |    34.76639 |\n",
       "\n"
      ],
      "text/plain": [
       "   country        totalCases_conf\n",
       "1  France         10253.23171    \n",
       "2  United Kingdom  8528.67994    \n",
       "3  Netherlands     2813.86249    \n",
       "4  Australia       1418.54862    \n",
       "5  Denmark          945.82250    \n",
       "6  China            379.03328    \n",
       "7  New Zealand      288.74450    \n",
       "8  US                96.93127    \n",
       "9  India             44.62659    \n",
       "10 Brazil            34.76639    "
      ]
     },
     "metadata": {},
     "output_type": "display_data"
    }
   ],
   "source": [
    "top_10_Country_Highest_ConfCases"
   ]
  },
  {
   "cell_type": "code",
   "execution_count": 26,
   "id": "03f7eb15",
   "metadata": {},
   "outputs": [
    {
     "data": {
      "image/png": "[encoded data removed]",
      "text/plain": [
       "plot without title"
      ]
     },
     "metadata": {
      "image/png": {
       "height": 420,
       "width": 420
      }
     },
     "output_type": "display_data"
    }
   ],
   "source": [
    "ggplot(data = head(top_10_Country_Highest_ConfCases),aes(x = reorder(country,totalCases_conf),\n",
    "                                                         y = totalCases_conf,fill = country)) + geom_bar(stat = \"identity\") + \n",
    "                    labs(title = \"Countries with highest number of cases(Millions)\") + xlab(\"Country\")"
   ]
  },
  {
   "cell_type": "code",
   "execution_count": 27,
   "id": "62591b50",
   "metadata": {},
   "outputs": [
    {
     "data": {
      "text/html": [
       "<table class=\"dataframe\">\n",
       "<caption>A data.frame: 10 × 2</caption>\n",
       "<thead>\n",
       "\t<tr><th></th><th scope=col>country</th><th scope=col>totalCases_conf</th></tr>\n",
       "\t<tr><th></th><th scope=col>&lt;chr&gt;</th><th scope=col>&lt;dbl&gt;</th></tr>\n",
       "</thead>\n",
       "<tbody>\n",
       "\t<tr><th scope=row>191</th><td>Nauru               </td><td>4611</td></tr>\n",
       "\t<tr><th scope=row>192</th><td>Kiribati            </td><td>3434</td></tr>\n",
       "\t<tr><th scope=row>193</th><td>Summer Olympics 2020</td><td> 865</td></tr>\n",
       "\t<tr><th scope=row>194</th><td>Diamond Princess    </td><td> 712</td></tr>\n",
       "\t<tr><th scope=row>195</th><td>Winter Olympics 2022</td><td> 535</td></tr>\n",
       "\t<tr><th scope=row>196</th><td>Holy See            </td><td>  29</td></tr>\n",
       "\t<tr><th scope=row>197</th><td>Tuvalu              </td><td>  20</td></tr>\n",
       "\t<tr><th scope=row>198</th><td>Antarctica          </td><td>  11</td></tr>\n",
       "\t<tr><th scope=row>199</th><td>MS Zaandam          </td><td>   9</td></tr>\n",
       "\t<tr><th scope=row>200</th><td>Korea, North        </td><td>   1</td></tr>\n",
       "</tbody>\n",
       "</table>\n"
      ],
      "text/latex": [
       "A data.frame: 10 × 2\n",
       "\\begin{tabular}{r|ll}\n",
       "  & country & totalCases\\_conf\\\\\n",
       "  & <chr> & <dbl>\\\\\n",
       "\\hline\n",
       "\t191 & Nauru                & 4611\\\\\n",
       "\t192 & Kiribati             & 3434\\\\\n",
       "\t193 & Summer Olympics 2020 &  865\\\\\n",
       "\t194 & Diamond Princess     &  712\\\\\n",
       "\t195 & Winter Olympics 2022 &  535\\\\\n",
       "\t196 & Holy See             &   29\\\\\n",
       "\t197 & Tuvalu               &   20\\\\\n",
       "\t198 & Antarctica           &   11\\\\\n",
       "\t199 & MS Zaandam           &    9\\\\\n",
       "\t200 & Korea, North         &    1\\\\\n",
       "\\end{tabular}\n"
      ],
      "text/markdown": [
       "\n",
       "A data.frame: 10 × 2\n",
       "\n",
       "| <!--/--> | country &lt;chr&gt; | totalCases_conf &lt;dbl&gt; |\n",
       "|---|---|---|\n",
       "| 191 | Nauru                | 4611 |\n",
       "| 192 | Kiribati             | 3434 |\n",
       "| 193 | Summer Olympics 2020 |  865 |\n",
       "| 194 | Diamond Princess     |  712 |\n",
       "| 195 | Winter Olympics 2022 |  535 |\n",
       "| 196 | Holy See             |   29 |\n",
       "| 197 | Tuvalu               |   20 |\n",
       "| 198 | Antarctica           |   11 |\n",
       "| 199 | MS Zaandam           |    9 |\n",
       "| 200 | Korea, North         |    1 |\n",
       "\n"
      ],
      "text/plain": [
       "    country              totalCases_conf\n",
       "191 Nauru                4611           \n",
       "192 Kiribati             3434           \n",
       "193 Summer Olympics 2020  865           \n",
       "194 Diamond Princess      712           \n",
       "195 Winter Olympics 2022  535           \n",
       "196 Holy See               29           \n",
       "197 Tuvalu                 20           \n",
       "198 Antarctica             11           \n",
       "199 MS Zaandam              9           \n",
       "200 Korea, North            1           "
      ]
     },
     "metadata": {},
     "output_type": "display_data"
    }
   ],
   "source": [
    "top_10_Country_lowest_ConfCases = tail(conf_Cases_country %>% arrange(desc(totalCases_conf)),10)\n",
    "\n",
    "top_10_Country_lowest_ConfCases"
   ]
  },
  {
   "cell_type": "code",
   "execution_count": 28,
   "id": "f6a8a466",
   "metadata": {},
   "outputs": [
    {
     "data": {
      "image/png": "[encoded data removed]",
      "text/plain": [
       "plot without title"
      ]
     },
     "metadata": {
      "image/png": {
       "height": 420,
       "width": 420
      }
     },
     "output_type": "display_data"
    }
   ],
   "source": [
    "ggplot(data = head(top_10_Country_lowest_ConfCases),aes(x = reorder(country,totalCases_conf),\n",
    "                                                        y = totalCases_conf,fill = country)) + \n",
    "                geom_bar(stat = \"identity\") + theme(axis.text.x = element_text(angle = 90, vjust = 0.5, hjust=1)) +\n",
    "                    labs(title = \"Countries with highest number of cases\") + xlab(\"Country\")"
   ]
  },
  {
   "cell_type": "code",
   "execution_count": 29,
   "id": "bb3e2b10",
   "metadata": {},
   "outputs": [
    {
     "data": {
      "text/html": [
       "103047163"
      ],
      "text/latex": [
       "103047163"
      ],
      "text/markdown": [
       "103047163"
      ],
      "text/plain": [
       "[1] 103047163"
      ]
     },
     "metadata": {},
     "output_type": "display_data"
    }
   ],
   "source": [
    "sum(case.conf[case.conf$country == 'Afghanistan',]$conf)"
   ]
  },
  {
   "cell_type": "markdown",
   "id": "73e03acb",
   "metadata": {},
   "source": [
    "## Insight into Daily Trend on Confirmed Cases"
   ]
  },
  {
   "cell_type": "code",
   "execution_count": 30,
   "id": "f1c1cfaf",
   "metadata": {},
   "outputs": [
    {
     "data": {
      "text/html": [
       "<table class=\"dataframe\">\n",
       "<caption>A data.frame: 6 × 2</caption>\n",
       "<thead>\n",
       "\t<tr><th></th><th scope=col>date</th><th scope=col>confCases</th></tr>\n",
       "\t<tr><th></th><th scope=col>&lt;date&gt;</th><th scope=col>&lt;int&gt;</th></tr>\n",
       "</thead>\n",
       "<tbody>\n",
       "\t<tr><th scope=row>1</th><td>2020-01-22</td><td> 551</td></tr>\n",
       "\t<tr><th scope=row>2</th><td>2020-01-23</td><td> 649</td></tr>\n",
       "\t<tr><th scope=row>3</th><td>2020-01-24</td><td> 930</td></tr>\n",
       "\t<tr><th scope=row>4</th><td>2020-01-25</td><td>1394</td></tr>\n",
       "\t<tr><th scope=row>5</th><td>2020-01-26</td><td>2021</td></tr>\n",
       "\t<tr><th scope=row>6</th><td>2020-01-27</td><td>2780</td></tr>\n",
       "</tbody>\n",
       "</table>\n"
      ],
      "text/latex": [
       "A data.frame: 6 × 2\n",
       "\\begin{tabular}{r|ll}\n",
       "  & date & confCases\\\\\n",
       "  & <date> & <int>\\\\\n",
       "\\hline\n",
       "\t1 & 2020-01-22 &  551\\\\\n",
       "\t2 & 2020-01-23 &  649\\\\\n",
       "\t3 & 2020-01-24 &  930\\\\\n",
       "\t4 & 2020-01-25 & 1394\\\\\n",
       "\t5 & 2020-01-26 & 2021\\\\\n",
       "\t6 & 2020-01-27 & 2780\\\\\n",
       "\\end{tabular}\n"
      ],
      "text/markdown": [
       "\n",
       "A data.frame: 6 × 2\n",
       "\n",
       "| <!--/--> | date &lt;date&gt; | confCases &lt;int&gt; |\n",
       "|---|---|---|\n",
       "| 1 | 2020-01-22 |  551 |\n",
       "| 2 | 2020-01-23 |  649 |\n",
       "| 3 | 2020-01-24 |  930 |\n",
       "| 4 | 2020-01-25 | 1394 |\n",
       "| 5 | 2020-01-26 | 2021 |\n",
       "| 6 | 2020-01-27 | 2780 |\n",
       "\n"
      ],
      "text/plain": [
       "  date       confCases\n",
       "1 2020-01-22  551     \n",
       "2 2020-01-23  649     \n",
       "3 2020-01-24  930     \n",
       "4 2020-01-25 1394     \n",
       "5 2020-01-26 2021     \n",
       "6 2020-01-27 2780     "
      ]
     },
     "metadata": {},
     "output_type": "display_data"
    }
   ],
   "source": [
    "conf_Cases_daily = data.frame(country %>% group_by(date) %>% summarise(confCases = sum(conf)))\n",
    "\n",
    "head(conf_Cases_daily)"
   ]
  },
  {
   "cell_type": "code",
   "execution_count": 31,
   "id": "af2fdb4c",
   "metadata": {},
   "outputs": [],
   "source": [
    "conf_Cases_daily$DailyTrend = conf_Cases_daily[2:dim(conf_Cases_daily)[1],'confCases'] - \n",
    "                                    conf_Cases_daily[1:dim(conf_Cases_daily)[1],'confCases']\n",
    "\n",
    "conf_Cases_daily$DailyTrend <- ifelse(conf_Cases_daily$DailyTrend < 0,0,conf_Cases_daily$DailyTrend)"
   ]
  },
  {
   "cell_type": "code",
   "execution_count": 32,
   "id": "fb56fc94",
   "metadata": {},
   "outputs": [
    {
     "data": {
      "text/html": [
       "<table class=\"dataframe\">\n",
       "<caption>A data.frame: 6 × 3</caption>\n",
       "<thead>\n",
       "\t<tr><th></th><th scope=col>date</th><th scope=col>confCases</th><th scope=col>DailyTrend</th></tr>\n",
       "\t<tr><th></th><th scope=col>&lt;date&gt;</th><th scope=col>&lt;int&gt;</th><th scope=col>&lt;dbl&gt;</th></tr>\n",
       "</thead>\n",
       "<tbody>\n",
       "\t<tr><th scope=row>992</th><td>2022-10-09</td><td>616397480</td><td>501317</td></tr>\n",
       "\t<tr><th scope=row>993</th><td>2022-10-10</td><td>616898797</td><td>646171</td></tr>\n",
       "\t<tr><th scope=row>994</th><td>2022-10-11</td><td>617544968</td><td>554892</td></tr>\n",
       "\t<tr><th scope=row>995</th><td>2022-10-12</td><td>618099860</td><td>620146</td></tr>\n",
       "\t<tr><th scope=row>996</th><td>2022-10-13</td><td>618720006</td><td>445052</td></tr>\n",
       "\t<tr><th scope=row>997</th><td>2022-10-14</td><td>619165058</td><td>     0</td></tr>\n",
       "</tbody>\n",
       "</table>\n"
      ],
      "text/latex": [
       "A data.frame: 6 × 3\n",
       "\\begin{tabular}{r|lll}\n",
       "  & date & confCases & DailyTrend\\\\\n",
       "  & <date> & <int> & <dbl>\\\\\n",
       "\\hline\n",
       "\t992 & 2022-10-09 & 616397480 & 501317\\\\\n",
       "\t993 & 2022-10-10 & 616898797 & 646171\\\\\n",
       "\t994 & 2022-10-11 & 617544968 & 554892\\\\\n",
       "\t995 & 2022-10-12 & 618099860 & 620146\\\\\n",
       "\t996 & 2022-10-13 & 618720006 & 445052\\\\\n",
       "\t997 & 2022-10-14 & 619165058 &      0\\\\\n",
       "\\end{tabular}\n"
      ],
      "text/markdown": [
       "\n",
       "A data.frame: 6 × 3\n",
       "\n",
       "| <!--/--> | date &lt;date&gt; | confCases &lt;int&gt; | DailyTrend &lt;dbl&gt; |\n",
       "|---|---|---|---|\n",
       "| 992 | 2022-10-09 | 616397480 | 501317 |\n",
       "| 993 | 2022-10-10 | 616898797 | 646171 |\n",
       "| 994 | 2022-10-11 | 617544968 | 554892 |\n",
       "| 995 | 2022-10-12 | 618099860 | 620146 |\n",
       "| 996 | 2022-10-13 | 618720006 | 445052 |\n",
       "| 997 | 2022-10-14 | 619165058 |      0 |\n",
       "\n"
      ],
      "text/plain": [
       "    date       confCases DailyTrend\n",
       "992 2022-10-09 616397480 501317    \n",
       "993 2022-10-10 616898797 646171    \n",
       "994 2022-10-11 617544968 554892    \n",
       "995 2022-10-12 618099860 620146    \n",
       "996 2022-10-13 618720006 445052    \n",
       "997 2022-10-14 619165058      0    "
      ]
     },
     "metadata": {},
     "output_type": "display_data"
    }
   ],
   "source": [
    "tail(conf_Cases_daily)"
   ]
  },
  {
   "cell_type": "code",
   "execution_count": 33,
   "id": "01b8d567",
   "metadata": {},
   "outputs": [
    {
     "data": {
      "image/png": "[encoded data removed]",
      "text/plain": [
       "plot without title"
      ]
     },
     "metadata": {
      "image/png": {
       "height": 420,
       "width": 420
      }
     },
     "output_type": "display_data"
    }
   ],
   "source": [
    "ggplot(conf_Cases_daily,aes(x = date, y = DailyTrend)) + \n",
    "        geom_line() + \n",
    "        labs(title = \"Confimed Cases daily basis\")"
   ]
  },
  {
   "cell_type": "markdown",
   "id": "7169d5e9",
   "metadata": {},
   "source": [
    "## Insight into 'Death' Cases Country wise"
   ]
  },
  {
   "cell_type": "code",
   "execution_count": 34,
   "id": "ae0ccb06",
   "metadata": {},
   "outputs": [],
   "source": [
    "death_Cases_country <- data.frame(country = NA,totalCases = NA)\n",
    "\n",
    "df = country\n",
    "\n",
    "getDeathCasesCounrywise = function(country)\n",
    "{\n",
    "    df = df[df$country == country,]\n",
    "\n",
    "    df$death_daily = df[2:dim(df)[1],]$death - df[1:dim(df)[1],]$death\n",
    "    \n",
    "    df$death_daily <- ifelse(df$death_daily < 0,0,df$death_daily)\n",
    "    \n",
    "    return (data.frame(country = country,totalCases = sum(df$death_daily)))\n",
    "}"
   ]
  },
  {
   "cell_type": "code",
   "execution_count": 35,
   "id": "e21cbc24",
   "metadata": {},
   "outputs": [],
   "source": [
    "for(c in unique(country$country))\n",
    "    {\n",
    "    death_Cases_country = rbind(death_Cases_country,getDeathCasesCounrywise(c))\n",
    "}\n",
    "\n",
    "death_Cases_country = death_Cases_country %>% filter(!is.na(totalCases))\n",
    "\n",
    "colnames(death_Cases_country)[2] <- \"totalCases_death\""
   ]
  },
  {
   "cell_type": "code",
   "execution_count": 36,
   "id": "bfd78dc8",
   "metadata": {},
   "outputs": [],
   "source": [
    "top_10_Country_Highest_deathCases = head(death_Cases_country %>% arrange(desc(totalCases_death)),10)\n",
    "\n",
    "top_10_Country_Highest_deathCases$totalCases_death =  top_10_Country_Highest_deathCases$totalCases_death / 100000"
   ]
  },
  {
   "cell_type": "code",
   "execution_count": 37,
   "id": "84e4823a",
   "metadata": {},
   "outputs": [
    {
     "data": {
      "text/html": [
       "<table class=\"dataframe\">\n",
       "<caption>A data.frame: 10 × 2</caption>\n",
       "<thead>\n",
       "\t<tr><th></th><th scope=col>country</th><th scope=col>totalCases_death</th></tr>\n",
       "\t<tr><th></th><th scope=col>&lt;chr&gt;</th><th scope=col>&lt;dbl&gt;</th></tr>\n",
       "</thead>\n",
       "<tbody>\n",
       "\t<tr><th scope=row>1</th><td>United Kingdom</td><td>1289.62312</td></tr>\n",
       "\t<tr><th scope=row>2</th><td>France        </td><td> 883.88017</td></tr>\n",
       "\t<tr><th scope=row>3</th><td>Netherlands   </td><td> 145.16931</td></tr>\n",
       "\t<tr><th scope=row>4</th><td>China         </td><td>  54.43379</td></tr>\n",
       "\t<tr><th scope=row>5</th><td>Denmark       </td><td>  27.65770</td></tr>\n",
       "\t<tr><th scope=row>6</th><td>Australia     </td><td>  27.25286</td></tr>\n",
       "\t<tr><th scope=row>7</th><td>US            </td><td>  10.65604</td></tr>\n",
       "\t<tr><th scope=row>8</th><td>Brazil        </td><td>   6.87227</td></tr>\n",
       "\t<tr><th scope=row>9</th><td>India         </td><td>   5.28875</td></tr>\n",
       "\t<tr><th scope=row>10</th><td>Russia        </td><td>   3.80854</td></tr>\n",
       "</tbody>\n",
       "</table>\n"
      ],
      "text/latex": [
       "A data.frame: 10 × 2\n",
       "\\begin{tabular}{r|ll}\n",
       "  & country & totalCases\\_death\\\\\n",
       "  & <chr> & <dbl>\\\\\n",
       "\\hline\n",
       "\t1 & United Kingdom & 1289.62312\\\\\n",
       "\t2 & France         &  883.88017\\\\\n",
       "\t3 & Netherlands    &  145.16931\\\\\n",
       "\t4 & China          &   54.43379\\\\\n",
       "\t5 & Denmark        &   27.65770\\\\\n",
       "\t6 & Australia      &   27.25286\\\\\n",
       "\t7 & US             &   10.65604\\\\\n",
       "\t8 & Brazil         &    6.87227\\\\\n",
       "\t9 & India          &    5.28875\\\\\n",
       "\t10 & Russia         &    3.80854\\\\\n",
       "\\end{tabular}\n"
      ],
      "text/markdown": [
       "\n",
       "A data.frame: 10 × 2\n",
       "\n",
       "| <!--/--> | country &lt;chr&gt; | totalCases_death &lt;dbl&gt; |\n",
       "|---|---|---|\n",
       "| 1 | United Kingdom | 1289.62312 |\n",
       "| 2 | France         |  883.88017 |\n",
       "| 3 | Netherlands    |  145.16931 |\n",
       "| 4 | China          |   54.43379 |\n",
       "| 5 | Denmark        |   27.65770 |\n",
       "| 6 | Australia      |   27.25286 |\n",
       "| 7 | US             |   10.65604 |\n",
       "| 8 | Brazil         |    6.87227 |\n",
       "| 9 | India          |    5.28875 |\n",
       "| 10 | Russia         |    3.80854 |\n",
       "\n"
      ],
      "text/plain": [
       "   country        totalCases_death\n",
       "1  United Kingdom 1289.62312      \n",
       "2  France          883.88017      \n",
       "3  Netherlands     145.16931      \n",
       "4  China            54.43379      \n",
       "5  Denmark          27.65770      \n",
       "6  Australia        27.25286      \n",
       "7  US               10.65604      \n",
       "8  Brazil            6.87227      \n",
       "9  India             5.28875      \n",
       "10 Russia            3.80854      "
      ]
     },
     "metadata": {},
     "output_type": "display_data"
    }
   ],
   "source": [
    "top_10_Country_Highest_deathCases"
   ]
  },
  {
   "cell_type": "code",
   "execution_count": 38,
   "id": "853a55d1",
   "metadata": {},
   "outputs": [
    {
     "data": {
      "image/png": "[encoded data removed]",
      "text/plain": [
       "plot without title"
      ]
     },
     "metadata": {
      "image/png": {
       "height": 420,
       "width": 420
      }
     },
     "output_type": "display_data"
    }
   ],
   "source": [
    "ggplot(data = head(top_10_Country_Highest_deathCases),aes(x = reorder(country,totalCases_death),\n",
    "                                                          y = totalCases_death,fill = country)) + \n",
    "                geom_bar(stat = \"identity\") + theme(axis.text.x = element_text(angle = 90, vjust = 0.5, hjust=1)) +\n",
    "                    labs(title = \"Countries with highest number of cases\") + xlab(\"Country\")"
   ]
  },
  {
   "cell_type": "code",
   "execution_count": 39,
   "id": "bcf02692",
   "metadata": {},
   "outputs": [],
   "source": [
    "top_10_Country_lowest_DeathCases = tail(death_Cases_country %>% arrange(desc(totalCases_death)),10)"
   ]
  },
  {
   "cell_type": "code",
   "execution_count": 40,
   "id": "72672403",
   "metadata": {},
   "outputs": [
    {
     "data": {
      "text/html": [
       "<table class=\"dataframe\">\n",
       "<caption>A data.frame: 6 × 2</caption>\n",
       "<thead>\n",
       "\t<tr><th></th><th scope=col>country</th><th scope=col>totalCases_death</th></tr>\n",
       "\t<tr><th></th><th scope=col>&lt;chr&gt;</th><th scope=col>&lt;dbl&gt;</th></tr>\n",
       "</thead>\n",
       "<tbody>\n",
       "\t<tr><th scope=row>191</th><td>Tonga       </td><td>13</td></tr>\n",
       "\t<tr><th scope=row>192</th><td>Palau       </td><td> 7</td></tr>\n",
       "\t<tr><th scope=row>193</th><td>Korea, North</td><td> 6</td></tr>\n",
       "\t<tr><th scope=row>194</th><td>MS Zaandam  </td><td> 2</td></tr>\n",
       "\t<tr><th scope=row>195</th><td>Nauru       </td><td> 1</td></tr>\n",
       "\t<tr><th scope=row>196</th><td>Antarctica  </td><td> 0</td></tr>\n",
       "</tbody>\n",
       "</table>\n"
      ],
      "text/latex": [
       "A data.frame: 6 × 2\n",
       "\\begin{tabular}{r|ll}\n",
       "  & country & totalCases\\_death\\\\\n",
       "  & <chr> & <dbl>\\\\\n",
       "\\hline\n",
       "\t191 & Tonga        & 13\\\\\n",
       "\t192 & Palau        &  7\\\\\n",
       "\t193 & Korea, North &  6\\\\\n",
       "\t194 & MS Zaandam   &  2\\\\\n",
       "\t195 & Nauru        &  1\\\\\n",
       "\t196 & Antarctica   &  0\\\\\n",
       "\\end{tabular}\n"
      ],
      "text/markdown": [
       "\n",
       "A data.frame: 6 × 2\n",
       "\n",
       "| <!--/--> | country &lt;chr&gt; | totalCases_death &lt;dbl&gt; |\n",
       "|---|---|---|\n",
       "| 191 | Tonga        | 13 |\n",
       "| 192 | Palau        |  7 |\n",
       "| 193 | Korea, North |  6 |\n",
       "| 194 | MS Zaandam   |  2 |\n",
       "| 195 | Nauru        |  1 |\n",
       "| 196 | Antarctica   |  0 |\n",
       "\n"
      ],
      "text/plain": [
       "    country      totalCases_death\n",
       "191 Tonga        13              \n",
       "192 Palau         7              \n",
       "193 Korea, North  6              \n",
       "194 MS Zaandam    2              \n",
       "195 Nauru         1              \n",
       "196 Antarctica    0              "
      ]
     },
     "metadata": {},
     "output_type": "display_data"
    }
   ],
   "source": [
    "head(top_10_Country_lowest_DeathCases)"
   ]
  },
  {
   "cell_type": "code",
   "execution_count": 41,
   "id": "be6cf9ef",
   "metadata": {},
   "outputs": [
    {
     "data": {
      "image/png": "[encoded data removed]",
      "text/plain": [
       "plot without title"
      ]
     },
     "metadata": {
      "image/png": {
       "height": 420,
       "width": 420
      }
     },
     "output_type": "display_data"
    }
   ],
   "source": [
    "ggplot(data = head(top_10_Country_lowest_DeathCases),aes(x = reorder(country,totalCases_death),\n",
    "                                                         y = totalCases_death,fill = country)) + \n",
    "                geom_bar(stat = \"identity\") + theme(axis.text.x = element_text(angle = 90, vjust = 0.5, hjust=1)) +\n",
    "                    labs(title = \"Countries with lowest number of cases\") + xlab(\"Country\")"
   ]
  },
  {
   "cell_type": "code",
   "execution_count": 42,
   "id": "01e3b086",
   "metadata": {},
   "outputs": [
    {
     "data": {
      "text/html": [
       "<table class=\"dataframe\">\n",
       "<caption>A data.frame: 6 × 3</caption>\n",
       "<thead>\n",
       "\t<tr><th></th><th scope=col>date</th><th scope=col>confCases</th><th scope=col>DailyTrend</th></tr>\n",
       "\t<tr><th></th><th scope=col>&lt;date&gt;</th><th scope=col>&lt;int&gt;</th><th scope=col>&lt;dbl&gt;</th></tr>\n",
       "</thead>\n",
       "<tbody>\n",
       "\t<tr><th scope=row>1</th><td>2020-01-22</td><td> 551</td><td>  98</td></tr>\n",
       "\t<tr><th scope=row>2</th><td>2020-01-23</td><td> 649</td><td> 281</td></tr>\n",
       "\t<tr><th scope=row>3</th><td>2020-01-24</td><td> 930</td><td> 464</td></tr>\n",
       "\t<tr><th scope=row>4</th><td>2020-01-25</td><td>1394</td><td> 627</td></tr>\n",
       "\t<tr><th scope=row>5</th><td>2020-01-26</td><td>2021</td><td> 759</td></tr>\n",
       "\t<tr><th scope=row>6</th><td>2020-01-27</td><td>2780</td><td>2595</td></tr>\n",
       "</tbody>\n",
       "</table>\n"
      ],
      "text/latex": [
       "A data.frame: 6 × 3\n",
       "\\begin{tabular}{r|lll}\n",
       "  & date & confCases & DailyTrend\\\\\n",
       "  & <date> & <int> & <dbl>\\\\\n",
       "\\hline\n",
       "\t1 & 2020-01-22 &  551 &   98\\\\\n",
       "\t2 & 2020-01-23 &  649 &  281\\\\\n",
       "\t3 & 2020-01-24 &  930 &  464\\\\\n",
       "\t4 & 2020-01-25 & 1394 &  627\\\\\n",
       "\t5 & 2020-01-26 & 2021 &  759\\\\\n",
       "\t6 & 2020-01-27 & 2780 & 2595\\\\\n",
       "\\end{tabular}\n"
      ],
      "text/markdown": [
       "\n",
       "A data.frame: 6 × 3\n",
       "\n",
       "| <!--/--> | date &lt;date&gt; | confCases &lt;int&gt; | DailyTrend &lt;dbl&gt; |\n",
       "|---|---|---|---|\n",
       "| 1 | 2020-01-22 |  551 |   98 |\n",
       "| 2 | 2020-01-23 |  649 |  281 |\n",
       "| 3 | 2020-01-24 |  930 |  464 |\n",
       "| 4 | 2020-01-25 | 1394 |  627 |\n",
       "| 5 | 2020-01-26 | 2021 |  759 |\n",
       "| 6 | 2020-01-27 | 2780 | 2595 |\n",
       "\n"
      ],
      "text/plain": [
       "  date       confCases DailyTrend\n",
       "1 2020-01-22  551        98      \n",
       "2 2020-01-23  649       281      \n",
       "3 2020-01-24  930       464      \n",
       "4 2020-01-25 1394       627      \n",
       "5 2020-01-26 2021       759      \n",
       "6 2020-01-27 2780      2595      "
      ]
     },
     "metadata": {},
     "output_type": "display_data"
    }
   ],
   "source": [
    "death_Cases_daily = data.frame(country %>% group_by(date) %>% summarise(deathCases = sum(death)))\n",
    "\n",
    "head(conf_Cases_daily)"
   ]
  },
  {
   "cell_type": "code",
   "execution_count": 43,
   "id": "be8beaf6",
   "metadata": {},
   "outputs": [],
   "source": [
    "death_Cases_daily$DailyTrend = death_Cases_daily[2:dim(death_Cases_daily)[1],'deathCases'] - \n",
    "                                    death_Cases_daily[1:dim(death_Cases_daily)[1],'deathCases']\n",
    "\n",
    "death_Cases_daily$DailyTrend <- ifelse(death_Cases_daily$DailyTrend < 0,0,death_Cases_daily$DailyTrend)"
   ]
  },
  {
   "cell_type": "code",
   "execution_count": 44,
   "id": "87f081cc",
   "metadata": {},
   "outputs": [
    {
     "data": {
      "image/png": "[encoded data removed]",
      "text/plain": [
       "plot without title"
      ]
     },
     "metadata": {
      "image/png": {
       "height": 420,
       "width": 420
      }
     },
     "output_type": "display_data"
    }
   ],
   "source": [
    "ggplot(death_Cases_daily,aes(x = date, y = DailyTrend)) + \n",
    "        geom_line() + \n",
    "        labs(title = \"Death Cases daily basis\")"
   ]
  },
  {
   "cell_type": "code",
   "execution_count": 45,
   "id": "82144c58",
   "metadata": {},
   "outputs": [
    {
     "data": {
      "text/html": [
       "<table class=\"dataframe\">\n",
       "<caption>A data.frame: 6 × 8</caption>\n",
       "<thead>\n",
       "\t<tr><th></th><th scope=col>subregion</th><th scope=col>country</th><th scope=col>Lat</th><th scope=col>Long</th><th scope=col>date</th><th scope=col>conf</th><th scope=col>death</th><th scope=col>recov</th></tr>\n",
       "\t<tr><th></th><th scope=col>&lt;chr&gt;</th><th scope=col>&lt;chr&gt;</th><th scope=col>&lt;dbl&gt;</th><th scope=col>&lt;dbl&gt;</th><th scope=col>&lt;date&gt;</th><th scope=col>&lt;int&gt;</th><th scope=col>&lt;int&gt;</th><th scope=col>&lt;int&gt;</th></tr>\n",
       "</thead>\n",
       "<tbody>\n",
       "\t<tr><th scope=row>269185</th><td></td><td>Vietnam             </td><td> 14.058</td><td>108.277</td><td>2022-10-14</td><td>11491541</td><td>43155</td><td>0</td></tr>\n",
       "\t<tr><th scope=row>269186</th><td></td><td>West Bank and Gaza  </td><td> 31.952</td><td> 35.233</td><td>2022-10-14</td><td>  702804</td><td> 5707</td><td>0</td></tr>\n",
       "\t<tr><th scope=row>269187</th><td></td><td>Winter Olympics 2022</td><td> 39.904</td><td>116.407</td><td>2022-10-14</td><td>     535</td><td>    0</td><td>0</td></tr>\n",
       "\t<tr><th scope=row>269188</th><td></td><td>Yemen               </td><td> 15.553</td><td> 48.516</td><td>2022-10-14</td><td>   11939</td><td> 2158</td><td>0</td></tr>\n",
       "\t<tr><th scope=row>269189</th><td></td><td>Zambia              </td><td>-13.134</td><td> 27.849</td><td>2022-10-14</td><td>  333624</td><td> 4017</td><td>0</td></tr>\n",
       "\t<tr><th scope=row>269190</th><td></td><td>Zimbabwe            </td><td>-19.015</td><td> 29.155</td><td>2022-10-14</td><td>  257827</td><td> 5605</td><td>0</td></tr>\n",
       "</tbody>\n",
       "</table>\n"
      ],
      "text/latex": [
       "A data.frame: 6 × 8\n",
       "\\begin{tabular}{r|llllllll}\n",
       "  & subregion & country & Lat & Long & date & conf & death & recov\\\\\n",
       "  & <chr> & <chr> & <dbl> & <dbl> & <date> & <int> & <int> & <int>\\\\\n",
       "\\hline\n",
       "\t269185 &  & Vietnam              &  14.058 & 108.277 & 2022-10-14 & 11491541 & 43155 & 0\\\\\n",
       "\t269186 &  & West Bank and Gaza   &  31.952 &  35.233 & 2022-10-14 &   702804 &  5707 & 0\\\\\n",
       "\t269187 &  & Winter Olympics 2022 &  39.904 & 116.407 & 2022-10-14 &      535 &     0 & 0\\\\\n",
       "\t269188 &  & Yemen                &  15.553 &  48.516 & 2022-10-14 &    11939 &  2158 & 0\\\\\n",
       "\t269189 &  & Zambia               & -13.134 &  27.849 & 2022-10-14 &   333624 &  4017 & 0\\\\\n",
       "\t269190 &  & Zimbabwe             & -19.015 &  29.155 & 2022-10-14 &   257827 &  5605 & 0\\\\\n",
       "\\end{tabular}\n"
      ],
      "text/markdown": [
       "\n",
       "A data.frame: 6 × 8\n",
       "\n",
       "| <!--/--> | subregion &lt;chr&gt; | country &lt;chr&gt; | Lat &lt;dbl&gt; | Long &lt;dbl&gt; | date &lt;date&gt; | conf &lt;int&gt; | death &lt;int&gt; | recov &lt;int&gt; |\n",
       "|---|---|---|---|---|---|---|---|---|\n",
       "| 269185 | <!----> | Vietnam              |  14.058 | 108.277 | 2022-10-14 | 11491541 | 43155 | 0 |\n",
       "| 269186 | <!----> | West Bank and Gaza   |  31.952 |  35.233 | 2022-10-14 |   702804 |  5707 | 0 |\n",
       "| 269187 | <!----> | Winter Olympics 2022 |  39.904 | 116.407 | 2022-10-14 |      535 |     0 | 0 |\n",
       "| 269188 | <!----> | Yemen                |  15.553 |  48.516 | 2022-10-14 |    11939 |  2158 | 0 |\n",
       "| 269189 | <!----> | Zambia               | -13.134 |  27.849 | 2022-10-14 |   333624 |  4017 | 0 |\n",
       "| 269190 | <!----> | Zimbabwe             | -19.015 |  29.155 | 2022-10-14 |   257827 |  5605 | 0 |\n",
       "\n"
      ],
      "text/plain": [
       "       subregion country              Lat     Long    date       conf     death\n",
       "269185           Vietnam               14.058 108.277 2022-10-14 11491541 43155\n",
       "269186           West Bank and Gaza    31.952  35.233 2022-10-14   702804  5707\n",
       "269187           Winter Olympics 2022  39.904 116.407 2022-10-14      535     0\n",
       "269188           Yemen                 15.553  48.516 2022-10-14    11939  2158\n",
       "269189           Zambia               -13.134  27.849 2022-10-14   333624  4017\n",
       "269190           Zimbabwe             -19.015  29.155 2022-10-14   257827  5605\n",
       "       recov\n",
       "269185 0    \n",
       "269186 0    \n",
       "269187 0    \n",
       "269188 0    \n",
       "269189 0    \n",
       "269190 0    "
      ]
     },
     "metadata": {},
     "output_type": "display_data"
    }
   ],
   "source": [
    "tail(country)"
   ]
  },
  {
   "cell_type": "markdown",
   "id": "d6072567",
   "metadata": {},
   "source": [
    "## Insight into 'Recovered' Cases Country wise"
   ]
  },
  {
   "cell_type": "code",
   "execution_count": 46,
   "id": "afa4c72f",
   "metadata": {},
   "outputs": [],
   "source": [
    "recov_Cases_country <- data.frame(country = NA,totalCases = NA)\n",
    "\n",
    "df = country\n",
    "\n",
    "getRecovCasesCounrywise = function(country)\n",
    "{\n",
    "    df = df[df$country == country,]\n",
    "\n",
    "    df$recov_daily = df[2:dim(df)[1],]$recov - df[1:dim(df)[1],]$recov\n",
    "    \n",
    "    df$recov_daily <- ifelse(df$recov_daily < 0,0,df$recov_daily)\n",
    "    \n",
    "    return (data.frame(country = country,totalCases = sum(df$recov_daily)))\n",
    "}"
   ]
  },
  {
   "cell_type": "code",
   "execution_count": 47,
   "id": "03ea0142",
   "metadata": {},
   "outputs": [],
   "source": [
    "for(c in unique(country$country))\n",
    "    {\n",
    "    recov_Cases_country = rbind(recov_Cases_country,getRecovCasesCounrywise(c))\n",
    "}\n",
    "\n",
    "recov_Cases_country = recov_Cases_country %>% filter(!is.na(totalCases))\n",
    "\n",
    "colnames(recov_Cases_country)[2] <- \"totalCases_recov\""
   ]
  },
  {
   "cell_type": "code",
   "execution_count": 48,
   "id": "a4f23843",
   "metadata": {},
   "outputs": [],
   "source": [
    "top_10_Country_Highest_recovCases = head(recov_Cases_country %>% arrange(desc(totalCases_recov)),10)\n",
    "\n",
    "top_10_Country_Highest_recovCases$totalCases_recov =  top_10_Country_Highest_recovCases$totalCases_recov / 1000000"
   ]
  },
  {
   "cell_type": "code",
   "execution_count": 49,
   "id": "e9d6b77a",
   "metadata": {},
   "outputs": [
    {
     "data": {
      "text/html": [
       "<table class=\"dataframe\">\n",
       "<caption>A data.frame: 10 × 2</caption>\n",
       "<thead>\n",
       "\t<tr><th></th><th scope=col>country</th><th scope=col>totalCases_recov</th></tr>\n",
       "\t<tr><th></th><th scope=col>&lt;chr&gt;</th><th scope=col>&lt;dbl&gt;</th></tr>\n",
       "</thead>\n",
       "<tbody>\n",
       "\t<tr><th scope=row>1</th><td>France   </td><td>89.778865</td></tr>\n",
       "\t<tr><th scope=row>2</th><td>Denmark  </td><td>57.572798</td></tr>\n",
       "\t<tr><th scope=row>3</th><td>China    </td><td>36.311770</td></tr>\n",
       "\t<tr><th scope=row>4</th><td>India    </td><td>30.977006</td></tr>\n",
       "\t<tr><th scope=row>5</th><td>Brazil   </td><td>17.771228</td></tr>\n",
       "\t<tr><th scope=row>6</th><td>Australia</td><td> 7.866022</td></tr>\n",
       "\t<tr><th scope=row>7</th><td>US       </td><td> 6.303715</td></tr>\n",
       "\t<tr><th scope=row>8</th><td>Russia   </td><td> 5.609682</td></tr>\n",
       "\t<tr><th scope=row>9</th><td>Turkey   </td><td> 5.478185</td></tr>\n",
       "\t<tr><th scope=row>10</th><td>Colombia </td><td> 4.681505</td></tr>\n",
       "</tbody>\n",
       "</table>\n"
      ],
      "text/latex": [
       "A data.frame: 10 × 2\n",
       "\\begin{tabular}{r|ll}\n",
       "  & country & totalCases\\_recov\\\\\n",
       "  & <chr> & <dbl>\\\\\n",
       "\\hline\n",
       "\t1 & France    & 89.778865\\\\\n",
       "\t2 & Denmark   & 57.572798\\\\\n",
       "\t3 & China     & 36.311770\\\\\n",
       "\t4 & India     & 30.977006\\\\\n",
       "\t5 & Brazil    & 17.771228\\\\\n",
       "\t6 & Australia &  7.866022\\\\\n",
       "\t7 & US        &  6.303715\\\\\n",
       "\t8 & Russia    &  5.609682\\\\\n",
       "\t9 & Turkey    &  5.478185\\\\\n",
       "\t10 & Colombia  &  4.681505\\\\\n",
       "\\end{tabular}\n"
      ],
      "text/markdown": [
       "\n",
       "A data.frame: 10 × 2\n",
       "\n",
       "| <!--/--> | country &lt;chr&gt; | totalCases_recov &lt;dbl&gt; |\n",
       "|---|---|---|\n",
       "| 1 | France    | 89.778865 |\n",
       "| 2 | Denmark   | 57.572798 |\n",
       "| 3 | China     | 36.311770 |\n",
       "| 4 | India     | 30.977006 |\n",
       "| 5 | Brazil    | 17.771228 |\n",
       "| 6 | Australia |  7.866022 |\n",
       "| 7 | US        |  6.303715 |\n",
       "| 8 | Russia    |  5.609682 |\n",
       "| 9 | Turkey    |  5.478185 |\n",
       "| 10 | Colombia  |  4.681505 |\n",
       "\n"
      ],
      "text/plain": [
       "   country   totalCases_recov\n",
       "1  France    89.778865       \n",
       "2  Denmark   57.572798       \n",
       "3  China     36.311770       \n",
       "4  India     30.977006       \n",
       "5  Brazil    17.771228       \n",
       "6  Australia  7.866022       \n",
       "7  US         6.303715       \n",
       "8  Russia     5.609682       \n",
       "9  Turkey     5.478185       \n",
       "10 Colombia   4.681505       "
      ]
     },
     "metadata": {},
     "output_type": "display_data"
    }
   ],
   "source": [
    "top_10_Country_Highest_recovCases"
   ]
  },
  {
   "cell_type": "code",
   "execution_count": 50,
   "id": "17eb1c3f",
   "metadata": {},
   "outputs": [
    {
     "data": {
      "image/png": "[encoded data removed]",
      "text/plain": [
       "plot without title"
      ]
     },
     "metadata": {
      "image/png": {
       "height": 420,
       "width": 420
      }
     },
     "output_type": "display_data"
    }
   ],
   "source": [
    "ggplot(data = head(top_10_Country_Highest_recovCases),aes(x = reorder(country,totalCases_recov),\n",
    "                                                          y = totalCases_recov,fill = country)) + \n",
    "                geom_bar(stat = \"identity\") + \n",
    "                    labs(title = \"Countries with highest number of cases(Millions)\") + xlab(\"Country\")"
   ]
  },
  {
   "cell_type": "code",
   "execution_count": 51,
   "id": "fd0af572",
   "metadata": {},
   "outputs": [],
   "source": [
    "top_10_Country_lowest_recovCases = tail(recov_Cases_country %>% arrange(desc(totalCases_recov)),20)"
   ]
  },
  {
   "cell_type": "code",
   "execution_count": 52,
   "id": "2ec919ac",
   "metadata": {},
   "outputs": [
    {
     "data": {
      "image/png": "[encoded data removed]",
      "text/plain": [
       "plot without title"
      ]
     },
     "metadata": {
      "image/png": {
       "height": 420,
       "width": 420
      }
     },
     "output_type": "display_data"
    }
   ],
   "source": [
    "ggplot(data = head(top_10_Country_lowest_recovCases),aes(x = reorder(country,totalCases_recov),\n",
    "                                                         y = totalCases_recov,fill = country)) + \n",
    "                geom_bar(stat = \"identity\") + theme(axis.text.x = element_text(angle = 90, vjust = 0.5, hjust=1)) +\n",
    "                    labs(title = \"Countries with lowest number of cases\") + xlab(\"Country\")"
   ]
  },
  {
   "cell_type": "code",
   "execution_count": 53,
   "id": "737d6768",
   "metadata": {},
   "outputs": [
    {
     "data": {
      "text/html": [
       "<table class=\"dataframe\">\n",
       "<caption>A data.frame: 6 × 2</caption>\n",
       "<thead>\n",
       "\t<tr><th></th><th scope=col>date</th><th scope=col>recovCases</th></tr>\n",
       "\t<tr><th></th><th scope=col>&lt;date&gt;</th><th scope=col>&lt;int&gt;</th></tr>\n",
       "</thead>\n",
       "<tbody>\n",
       "\t<tr><th scope=row>1</th><td>2020-01-22</td><td>30</td></tr>\n",
       "\t<tr><th scope=row>2</th><td>2020-01-23</td><td>32</td></tr>\n",
       "\t<tr><th scope=row>3</th><td>2020-01-24</td><td>39</td></tr>\n",
       "\t<tr><th scope=row>4</th><td>2020-01-25</td><td>42</td></tr>\n",
       "\t<tr><th scope=row>5</th><td>2020-01-26</td><td>56</td></tr>\n",
       "\t<tr><th scope=row>6</th><td>2020-01-27</td><td>65</td></tr>\n",
       "</tbody>\n",
       "</table>\n"
      ],
      "text/latex": [
       "A data.frame: 6 × 2\n",
       "\\begin{tabular}{r|ll}\n",
       "  & date & recovCases\\\\\n",
       "  & <date> & <int>\\\\\n",
       "\\hline\n",
       "\t1 & 2020-01-22 & 30\\\\\n",
       "\t2 & 2020-01-23 & 32\\\\\n",
       "\t3 & 2020-01-24 & 39\\\\\n",
       "\t4 & 2020-01-25 & 42\\\\\n",
       "\t5 & 2020-01-26 & 56\\\\\n",
       "\t6 & 2020-01-27 & 65\\\\\n",
       "\\end{tabular}\n"
      ],
      "text/markdown": [
       "\n",
       "A data.frame: 6 × 2\n",
       "\n",
       "| <!--/--> | date &lt;date&gt; | recovCases &lt;int&gt; |\n",
       "|---|---|---|\n",
       "| 1 | 2020-01-22 | 30 |\n",
       "| 2 | 2020-01-23 | 32 |\n",
       "| 3 | 2020-01-24 | 39 |\n",
       "| 4 | 2020-01-25 | 42 |\n",
       "| 5 | 2020-01-26 | 56 |\n",
       "| 6 | 2020-01-27 | 65 |\n",
       "\n"
      ],
      "text/plain": [
       "  date       recovCases\n",
       "1 2020-01-22 30        \n",
       "2 2020-01-23 32        \n",
       "3 2020-01-24 39        \n",
       "4 2020-01-25 42        \n",
       "5 2020-01-26 56        \n",
       "6 2020-01-27 65        "
      ]
     },
     "metadata": {},
     "output_type": "display_data"
    }
   ],
   "source": [
    "recov_Cases_daily = data.frame(country %>% group_by(date) %>% summarise(recovCases = sum(recov)))\n",
    "\n",
    "head(recov_Cases_daily)"
   ]
  },
  {
   "cell_type": "code",
   "execution_count": 54,
   "id": "92e71644",
   "metadata": {},
   "outputs": [],
   "source": [
    "recov_Cases_daily$DailyTrend = recov_Cases_daily[2:dim(recov_Cases_daily)[1],'recovCases'] - \n",
    "                                    recov_Cases_daily[1:dim(recov_Cases_daily)[1],'recovCases']\n",
    "\n",
    "recov_Cases_daily$DailyTrend <- ifelse(recov_Cases_daily$DailyTrend < 0,0,recov_Cases_daily$DailyTrend)"
   ]
  },
  {
   "cell_type": "code",
   "execution_count": 55,
   "id": "1cd68966",
   "metadata": {},
   "outputs": [
    {
     "data": {
      "image/png": "[encoded data removed]",
      "text/plain": [
       "plot without title"
      ]
     },
     "metadata": {
      "image/png": {
       "height": 420,
       "width": 420
      }
     },
     "output_type": "display_data"
    }
   ],
   "source": [
    "ggplot(recov_Cases_daily,aes(x = date, y = DailyTrend)) + \n",
    "        geom_line() + \n",
    "        labs(title = \"Recovered Cases daily basis\")"
   ]
  },
  {
   "cell_type": "markdown",
   "id": "ddf72c89",
   "metadata": {},
   "source": [
    "# All kind of cases in one plot daily basis"
   ]
  },
  {
   "cell_type": "code",
   "execution_count": 56,
   "id": "9edb6e6e",
   "metadata": {},
   "outputs": [
    {
     "data": {
      "image/png": "[encoded data removed]",
      "text/plain": [
       "plot without title"
      ]
     },
     "metadata": {
      "image/png": {
       "height": 420,
       "width": 420
      }
     },
     "output_type": "display_data"
    }
   ],
   "source": [
    "ggplot() + geom_line(data =conf_Cases_daily, aes(x=date,y=DailyTrend),color='red') + \n",
    "           geom_line(data =death_Cases_daily, aes(x=date,y=DailyTrend),color='blue') + \n",
    "           geom_line(data =recov_Cases_daily, aes(x=date,y=DailyTrend),color='black') + geom_point()"
   ]
  },
  {
   "cell_type": "code",
   "execution_count": 57,
   "id": "3ab54877",
   "metadata": {},
   "outputs": [],
   "source": [
    "df_list <- list(conf_Cases_country, death_Cases_country, recov_Cases_country)\n",
    "df_list <- df_list %>% reduce(full_join, by='country')"
   ]
  },
  {
   "cell_type": "code",
   "execution_count": 58,
   "id": "19644c25",
   "metadata": {},
   "outputs": [
    {
     "data": {
      "text/html": [
       "<table class=\"dataframe\">\n",
       "<caption>A data.frame: 6 × 4</caption>\n",
       "<thead>\n",
       "\t<tr><th></th><th scope=col>country</th><th scope=col>totalCases_conf</th><th scope=col>totalCases_death</th><th scope=col>totalCases_recov</th></tr>\n",
       "\t<tr><th></th><th scope=col>&lt;chr&gt;</th><th scope=col>&lt;dbl&gt;</th><th scope=col>&lt;dbl&gt;</th><th scope=col>&lt;dbl&gt;</th></tr>\n",
       "</thead>\n",
       "<tbody>\n",
       "\t<tr><th scope=row>1</th><td>Afghanistan</td><td>201022</td><td>7809</td><td> 82614</td></tr>\n",
       "\t<tr><th scope=row>2</th><td>Albania    </td><td>332598</td><td>3591</td><td>130314</td></tr>\n",
       "\t<tr><th scope=row>3</th><td>Algeria    </td><td>270734</td><td>6881</td><td>118523</td></tr>\n",
       "\t<tr><th scope=row>4</th><td>Andorra    </td><td> 46366</td><td> 157</td><td> 14382</td></tr>\n",
       "\t<tr><th scope=row>5</th><td>Angola     </td><td>103131</td><td>1920</td><td> 39889</td></tr>\n",
       "\t<tr><th scope=row>6</th><td>Antarctica </td><td>    11</td><td>   0</td><td>     0</td></tr>\n",
       "</tbody>\n",
       "</table>\n"
      ],
      "text/latex": [
       "A data.frame: 6 × 4\n",
       "\\begin{tabular}{r|llll}\n",
       "  & country & totalCases\\_conf & totalCases\\_death & totalCases\\_recov\\\\\n",
       "  & <chr> & <dbl> & <dbl> & <dbl>\\\\\n",
       "\\hline\n",
       "\t1 & Afghanistan & 201022 & 7809 &  82614\\\\\n",
       "\t2 & Albania     & 332598 & 3591 & 130314\\\\\n",
       "\t3 & Algeria     & 270734 & 6881 & 118523\\\\\n",
       "\t4 & Andorra     &  46366 &  157 &  14382\\\\\n",
       "\t5 & Angola      & 103131 & 1920 &  39889\\\\\n",
       "\t6 & Antarctica  &     11 &    0 &      0\\\\\n",
       "\\end{tabular}\n"
      ],
      "text/markdown": [
       "\n",
       "A data.frame: 6 × 4\n",
       "\n",
       "| <!--/--> | country &lt;chr&gt; | totalCases_conf &lt;dbl&gt; | totalCases_death &lt;dbl&gt; | totalCases_recov &lt;dbl&gt; |\n",
       "|---|---|---|---|---|\n",
       "| 1 | Afghanistan | 201022 | 7809 |  82614 |\n",
       "| 2 | Albania     | 332598 | 3591 | 130314 |\n",
       "| 3 | Algeria     | 270734 | 6881 | 118523 |\n",
       "| 4 | Andorra     |  46366 |  157 |  14382 |\n",
       "| 5 | Angola      | 103131 | 1920 |  39889 |\n",
       "| 6 | Antarctica  |     11 |    0 |      0 |\n",
       "\n"
      ],
      "text/plain": [
       "  country     totalCases_conf totalCases_death totalCases_recov\n",
       "1 Afghanistan 201022          7809              82614          \n",
       "2 Albania     332598          3591             130314          \n",
       "3 Algeria     270734          6881             118523          \n",
       "4 Andorra      46366           157              14382          \n",
       "5 Angola      103131          1920              39889          \n",
       "6 Antarctica      11             0                  0          "
      ]
     },
     "metadata": {},
     "output_type": "display_data"
    }
   ],
   "source": [
    "head(df_list)"
   ]
  },
  {
   "cell_type": "markdown",
   "id": "c976d22d",
   "metadata": {},
   "source": [
    "## Correlation between cases 'Confirmed' and 'Recovered'"
   ]
  },
  {
   "cell_type": "code",
   "execution_count": 59,
   "id": "6e10e53b",
   "metadata": {},
   "outputs": [
    {
     "data": {
      "image/png": "[encoded data removed]",
      "text/plain": [
       "plot without title"
      ]
     },
     "metadata": {
      "image/png": {
       "height": 420,
       "width": 420
      }
     },
     "output_type": "display_data"
    }
   ],
   "source": [
    "ggplot(df_list,aes(x = totalCases_conf,y = totalCases_recov)) + geom_point() + ylim(0,1000000) + xlim(0,1000000)"
   ]
  },
  {
   "cell_type": "markdown",
   "id": "13788bba",
   "metadata": {},
   "source": [
    "## Correlation between cases 'Confirmed' and 'Death'"
   ]
  },
  {
   "cell_type": "code",
   "execution_count": 60,
   "id": "44eee0cd",
   "metadata": {},
   "outputs": [
    {
     "data": {
      "image/png": "[encoded data removed]",
      "text/plain": [
       "plot without title"
      ]
     },
     "metadata": {
      "image/png": {
       "height": 420,
       "width": 420
      }
     },
     "output_type": "display_data"
    }
   ],
   "source": [
    "ggplot(df_list,aes(x = totalCases_conf,y = totalCases_death)) + geom_point() + ylim(0,25000) + xlim(0,1000000)"
   ]
  },
  {
   "cell_type": "code",
   "execution_count": 61,
   "id": "a239838c",
   "metadata": {},
   "outputs": [],
   "source": [
    "df_list$totalCases_conf = df_list$totalCases_conf /1000000\n",
    "df_list$totalCases_death = df_list$totalCases_death /1000000\n",
    "df_list$totalCases_recov = df_list$totalCases_recov /1000000"
   ]
  },
  {
   "cell_type": "code",
   "execution_count": 62,
   "id": "e50945e0",
   "metadata": {},
   "outputs": [
    {
     "data": {
      "text/html": [
       "<table class=\"dataframe\">\n",
       "<caption>A data.frame: 10 × 4</caption>\n",
       "<thead>\n",
       "\t<tr><th></th><th scope=col>country</th><th scope=col>totalCases_conf</th><th scope=col>totalCases_death</th><th scope=col>totalCases_recov</th></tr>\n",
       "\t<tr><th></th><th scope=col>&lt;chr&gt;</th><th scope=col>&lt;dbl&gt;</th><th scope=col>&lt;dbl&gt;</th><th scope=col>&lt;dbl&gt;</th></tr>\n",
       "</thead>\n",
       "<tbody>\n",
       "\t<tr><th scope=row>1</th><td>France        </td><td>10253.23171</td><td> 88.388017</td><td>89.778865</td></tr>\n",
       "\t<tr><th scope=row>2</th><td>United Kingdom</td><td> 8528.67994</td><td>128.962312</td><td> 3.135827</td></tr>\n",
       "\t<tr><th scope=row>3</th><td>Netherlands   </td><td> 2813.86249</td><td> 14.516931</td><td> 4.210989</td></tr>\n",
       "\t<tr><th scope=row>4</th><td>Australia     </td><td> 1418.54862</td><td>  2.725286</td><td> 7.866022</td></tr>\n",
       "\t<tr><th scope=row>5</th><td>Denmark       </td><td>  945.82250</td><td>  2.765770</td><td>57.572798</td></tr>\n",
       "\t<tr><th scope=row>6</th><td>China         </td><td>  379.03328</td><td>  5.443379</td><td>36.311770</td></tr>\n",
       "\t<tr><th scope=row>7</th><td>New Zealand   </td><td>  288.74450</td><td>  0.280475</td><td> 0.964499</td></tr>\n",
       "\t<tr><th scope=row>8</th><td>US            </td><td>   96.93127</td><td>  1.065604</td><td> 6.303715</td></tr>\n",
       "\t<tr><th scope=row>9</th><td>India         </td><td>   44.62659</td><td>  0.528875</td><td>30.977006</td></tr>\n",
       "\t<tr><th scope=row>10</th><td>Brazil        </td><td>   34.76639</td><td>  0.687227</td><td>17.771228</td></tr>\n",
       "</tbody>\n",
       "</table>\n"
      ],
      "text/latex": [
       "A data.frame: 10 × 4\n",
       "\\begin{tabular}{r|llll}\n",
       "  & country & totalCases\\_conf & totalCases\\_death & totalCases\\_recov\\\\\n",
       "  & <chr> & <dbl> & <dbl> & <dbl>\\\\\n",
       "\\hline\n",
       "\t1 & France         & 10253.23171 &  88.388017 & 89.778865\\\\\n",
       "\t2 & United Kingdom &  8528.67994 & 128.962312 &  3.135827\\\\\n",
       "\t3 & Netherlands    &  2813.86249 &  14.516931 &  4.210989\\\\\n",
       "\t4 & Australia      &  1418.54862 &   2.725286 &  7.866022\\\\\n",
       "\t5 & Denmark        &   945.82250 &   2.765770 & 57.572798\\\\\n",
       "\t6 & China          &   379.03328 &   5.443379 & 36.311770\\\\\n",
       "\t7 & New Zealand    &   288.74450 &   0.280475 &  0.964499\\\\\n",
       "\t8 & US             &    96.93127 &   1.065604 &  6.303715\\\\\n",
       "\t9 & India          &    44.62659 &   0.528875 & 30.977006\\\\\n",
       "\t10 & Brazil         &    34.76639 &   0.687227 & 17.771228\\\\\n",
       "\\end{tabular}\n"
      ],
      "text/markdown": [
       "\n",
       "A data.frame: 10 × 4\n",
       "\n",
       "| <!--/--> | country &lt;chr&gt; | totalCases_conf &lt;dbl&gt; | totalCases_death &lt;dbl&gt; | totalCases_recov &lt;dbl&gt; |\n",
       "|---|---|---|---|---|\n",
       "| 1 | France         | 10253.23171 |  88.388017 | 89.778865 |\n",
       "| 2 | United Kingdom |  8528.67994 | 128.962312 |  3.135827 |\n",
       "| 3 | Netherlands    |  2813.86249 |  14.516931 |  4.210989 |\n",
       "| 4 | Australia      |  1418.54862 |   2.725286 |  7.866022 |\n",
       "| 5 | Denmark        |   945.82250 |   2.765770 | 57.572798 |\n",
       "| 6 | China          |   379.03328 |   5.443379 | 36.311770 |\n",
       "| 7 | New Zealand    |   288.74450 |   0.280475 |  0.964499 |\n",
       "| 8 | US             |    96.93127 |   1.065604 |  6.303715 |\n",
       "| 9 | India          |    44.62659 |   0.528875 | 30.977006 |\n",
       "| 10 | Brazil         |    34.76639 |   0.687227 | 17.771228 |\n",
       "\n"
      ],
      "text/plain": [
       "   country        totalCases_conf totalCases_death totalCases_recov\n",
       "1  France         10253.23171      88.388017       89.778865       \n",
       "2  United Kingdom  8528.67994     128.962312        3.135827       \n",
       "3  Netherlands     2813.86249      14.516931        4.210989       \n",
       "4  Australia       1418.54862       2.725286        7.866022       \n",
       "5  Denmark          945.82250       2.765770       57.572798       \n",
       "6  China            379.03328       5.443379       36.311770       \n",
       "7  New Zealand      288.74450       0.280475        0.964499       \n",
       "8  US                96.93127       1.065604        6.303715       \n",
       "9  India             44.62659       0.528875       30.977006       \n",
       "10 Brazil            34.76639       0.687227       17.771228       "
      ]
     },
     "metadata": {},
     "output_type": "display_data"
    }
   ],
   "source": [
    "head(df_list %>% arrange(desc(totalCases_conf)),10)"
   ]
  },
  {
   "cell_type": "markdown",
   "id": "39710ed4",
   "metadata": {},
   "source": [
    "## Mortality Rate and Recovery Rate"
   ]
  },
  {
   "cell_type": "code",
   "execution_count": 63,
   "id": "1ac5e6e2",
   "metadata": {},
   "outputs": [],
   "source": [
    "# Mortality rate can be defined as the ratio of number of deaths recorded against the total number of cases recorded and this \n",
    "# is calculated using the following formula:"
   ]
  },
  {
   "cell_type": "code",
   "execution_count": 64,
   "id": "048d0878",
   "metadata": {},
   "outputs": [
    {
     "data": {
      "text/html": [
       "<table class=\"dataframe\">\n",
       "<caption>A data.frame: 1 × 4</caption>\n",
       "<thead>\n",
       "\t<tr><th></th><th scope=col>country</th><th scope=col>totalCases_conf</th><th scope=col>totalCases_death</th><th scope=col>totalCases_recov</th></tr>\n",
       "\t<tr><th></th><th scope=col>&lt;chr&gt;</th><th scope=col>&lt;dbl&gt;</th><th scope=col>&lt;dbl&gt;</th><th scope=col>&lt;dbl&gt;</th></tr>\n",
       "</thead>\n",
       "<tbody>\n",
       "\t<tr><th scope=row>80</th><td>India</td><td>44.62659</td><td>0.528875</td><td>30.97701</td></tr>\n",
       "</tbody>\n",
       "</table>\n"
      ],
      "text/latex": [
       "A data.frame: 1 × 4\n",
       "\\begin{tabular}{r|llll}\n",
       "  & country & totalCases\\_conf & totalCases\\_death & totalCases\\_recov\\\\\n",
       "  & <chr> & <dbl> & <dbl> & <dbl>\\\\\n",
       "\\hline\n",
       "\t80 & India & 44.62659 & 0.528875 & 30.97701\\\\\n",
       "\\end{tabular}\n"
      ],
      "text/markdown": [
       "\n",
       "A data.frame: 1 × 4\n",
       "\n",
       "| <!--/--> | country &lt;chr&gt; | totalCases_conf &lt;dbl&gt; | totalCases_death &lt;dbl&gt; | totalCases_recov &lt;dbl&gt; |\n",
       "|---|---|---|---|---|\n",
       "| 80 | India | 44.62659 | 0.528875 | 30.97701 |\n",
       "\n"
      ],
      "text/plain": [
       "   country totalCases_conf totalCases_death totalCases_recov\n",
       "80 India   44.62659        0.528875         30.97701        "
      ]
     },
     "metadata": {},
     "output_type": "display_data"
    }
   ],
   "source": [
    "df_list[df_list$country == 'India',]"
   ]
  },
  {
   "cell_type": "code",
   "execution_count": 65,
   "id": "50907e5c",
   "metadata": {},
   "outputs": [],
   "source": [
    "df_list = mutate(df_list,recovery_rate = totalCases_recov / totalCases_conf)\n",
    "\n",
    "df_list = mutate(df_list,mortality_rate = totalCases_death / totalCases_conf)"
   ]
  },
  {
   "cell_type": "markdown",
   "id": "2dd7eb16",
   "metadata": {},
   "source": [
    "## Order based on the highest 'death rate'"
   ]
  },
  {
   "cell_type": "code",
   "execution_count": 66,
   "id": "6ba5eb07",
   "metadata": {},
   "outputs": [
    {
     "data": {
      "text/html": [
       "<table class=\"dataframe\">\n",
       "<caption>A data.frame: 6 × 6</caption>\n",
       "<thead>\n",
       "\t<tr><th></th><th scope=col>country</th><th scope=col>totalCases_conf</th><th scope=col>totalCases_death</th><th scope=col>totalCases_recov</th><th scope=col>recovery_rate</th><th scope=col>mortality_rate</th></tr>\n",
       "\t<tr><th></th><th scope=col>&lt;chr&gt;</th><th scope=col>&lt;dbl&gt;</th><th scope=col>&lt;dbl&gt;</th><th scope=col>&lt;dbl&gt;</th><th scope=col>&lt;dbl&gt;</th><th scope=col>&lt;dbl&gt;</th></tr>\n",
       "</thead>\n",
       "<tbody>\n",
       "\t<tr><th scope=row>1</th><td>Korea, North</td><td>0.000001</td><td>0.000006</td><td>0.000000</td><td>0.0000000</td><td>6.00000000</td></tr>\n",
       "\t<tr><th scope=row>2</th><td>MS Zaandam  </td><td>0.000009</td><td>0.000002</td><td>0.000007</td><td>0.7777778</td><td>0.22222222</td></tr>\n",
       "\t<tr><th scope=row>3</th><td>Yemen       </td><td>0.011940</td><td>0.002158</td><td>0.004251</td><td>0.3560302</td><td>0.18073702</td></tr>\n",
       "\t<tr><th scope=row>4</th><td>Sudan       </td><td>0.063388</td><td>0.004963</td><td>0.030647</td><td>0.4834827</td><td>0.07829558</td></tr>\n",
       "\t<tr><th scope=row>5</th><td>Syria       </td><td>0.057332</td><td>0.003163</td><td>0.022019</td><td>0.3840613</td><td>0.05516989</td></tr>\n",
       "\t<tr><th scope=row>6</th><td>Peru        </td><td>4.152584</td><td>0.217580</td><td>2.088905</td><td>0.5030374</td><td>0.05239629</td></tr>\n",
       "</tbody>\n",
       "</table>\n"
      ],
      "text/latex": [
       "A data.frame: 6 × 6\n",
       "\\begin{tabular}{r|llllll}\n",
       "  & country & totalCases\\_conf & totalCases\\_death & totalCases\\_recov & recovery\\_rate & mortality\\_rate\\\\\n",
       "  & <chr> & <dbl> & <dbl> & <dbl> & <dbl> & <dbl>\\\\\n",
       "\\hline\n",
       "\t1 & Korea, North & 0.000001 & 0.000006 & 0.000000 & 0.0000000 & 6.00000000\\\\\n",
       "\t2 & MS Zaandam   & 0.000009 & 0.000002 & 0.000007 & 0.7777778 & 0.22222222\\\\\n",
       "\t3 & Yemen        & 0.011940 & 0.002158 & 0.004251 & 0.3560302 & 0.18073702\\\\\n",
       "\t4 & Sudan        & 0.063388 & 0.004963 & 0.030647 & 0.4834827 & 0.07829558\\\\\n",
       "\t5 & Syria        & 0.057332 & 0.003163 & 0.022019 & 0.3840613 & 0.05516989\\\\\n",
       "\t6 & Peru         & 4.152584 & 0.217580 & 2.088905 & 0.5030374 & 0.05239629\\\\\n",
       "\\end{tabular}\n"
      ],
      "text/markdown": [
       "\n",
       "A data.frame: 6 × 6\n",
       "\n",
       "| <!--/--> | country &lt;chr&gt; | totalCases_conf &lt;dbl&gt; | totalCases_death &lt;dbl&gt; | totalCases_recov &lt;dbl&gt; | recovery_rate &lt;dbl&gt; | mortality_rate &lt;dbl&gt; |\n",
       "|---|---|---|---|---|---|---|\n",
       "| 1 | Korea, North | 0.000001 | 0.000006 | 0.000000 | 0.0000000 | 6.00000000 |\n",
       "| 2 | MS Zaandam   | 0.000009 | 0.000002 | 0.000007 | 0.7777778 | 0.22222222 |\n",
       "| 3 | Yemen        | 0.011940 | 0.002158 | 0.004251 | 0.3560302 | 0.18073702 |\n",
       "| 4 | Sudan        | 0.063388 | 0.004963 | 0.030647 | 0.4834827 | 0.07829558 |\n",
       "| 5 | Syria        | 0.057332 | 0.003163 | 0.022019 | 0.3840613 | 0.05516989 |\n",
       "| 6 | Peru         | 4.152584 | 0.217580 | 2.088905 | 0.5030374 | 0.05239629 |\n",
       "\n"
      ],
      "text/plain": [
       "  country      totalCases_conf totalCases_death totalCases_recov recovery_rate\n",
       "1 Korea, North 0.000001        0.000006         0.000000         0.0000000    \n",
       "2 MS Zaandam   0.000009        0.000002         0.000007         0.7777778    \n",
       "3 Yemen        0.011940        0.002158         0.004251         0.3560302    \n",
       "4 Sudan        0.063388        0.004963         0.030647         0.4834827    \n",
       "5 Syria        0.057332        0.003163         0.022019         0.3840613    \n",
       "6 Peru         4.152584        0.217580         2.088905         0.5030374    \n",
       "  mortality_rate\n",
       "1 6.00000000    \n",
       "2 0.22222222    \n",
       "3 0.18073702    \n",
       "4 0.07829558    \n",
       "5 0.05516989    \n",
       "6 0.05239629    "
      ]
     },
     "metadata": {},
     "output_type": "display_data"
    }
   ],
   "source": [
    "head(df_list %>% arrange(desc(mortality_rate)))"
   ]
  },
  {
   "cell_type": "markdown",
   "id": "0c019e00",
   "metadata": {},
   "source": [
    "## Order based on the highest 'recovery_rate'"
   ]
  },
  {
   "cell_type": "code",
   "execution_count": 67,
   "id": "74bef176",
   "metadata": {},
   "outputs": [
    {
     "data": {
      "text/html": [
       "<table class=\"dataframe\">\n",
       "<caption>A data.frame: 6 × 6</caption>\n",
       "<thead>\n",
       "\t<tr><th></th><th scope=col>country</th><th scope=col>totalCases_conf</th><th scope=col>totalCases_death</th><th scope=col>totalCases_recov</th><th scope=col>recovery_rate</th><th scope=col>mortality_rate</th></tr>\n",
       "\t<tr><th></th><th scope=col>&lt;chr&gt;</th><th scope=col>&lt;dbl&gt;</th><th scope=col>&lt;dbl&gt;</th><th scope=col>&lt;dbl&gt;</th><th scope=col>&lt;dbl&gt;</th><th scope=col>&lt;dbl&gt;</th></tr>\n",
       "</thead>\n",
       "<tbody>\n",
       "\t<tr><th scope=row>1</th><td>Diamond Princess</td><td>0.000712</td><td>0.000013</td><td>0.000700</td><td>0.9831461</td><td>0.01825843</td></tr>\n",
       "\t<tr><th scope=row>2</th><td>Holy See        </td><td>0.000029</td><td>0.000000</td><td>0.000027</td><td>0.9310345</td><td>0.00000000</td></tr>\n",
       "\t<tr><th scope=row>3</th><td>Tajikistan      </td><td>0.017786</td><td>0.000125</td><td>0.015038</td><td>0.8454965</td><td>0.00702800</td></tr>\n",
       "\t<tr><th scope=row>4</th><td>MS Zaandam      </td><td>0.000009</td><td>0.000002</td><td>0.000007</td><td>0.7777778</td><td>0.22222222</td></tr>\n",
       "\t<tr><th scope=row>5</th><td>Colombia        </td><td>6.308558</td><td>0.141820</td><td>4.681505</td><td>0.7420880</td><td>0.02248057</td></tr>\n",
       "\t<tr><th scope=row>6</th><td>Djibouti        </td><td>0.015690</td><td>0.000189</td><td>0.011491</td><td>0.7323773</td><td>0.01204589</td></tr>\n",
       "</tbody>\n",
       "</table>\n"
      ],
      "text/latex": [
       "A data.frame: 6 × 6\n",
       "\\begin{tabular}{r|llllll}\n",
       "  & country & totalCases\\_conf & totalCases\\_death & totalCases\\_recov & recovery\\_rate & mortality\\_rate\\\\\n",
       "  & <chr> & <dbl> & <dbl> & <dbl> & <dbl> & <dbl>\\\\\n",
       "\\hline\n",
       "\t1 & Diamond Princess & 0.000712 & 0.000013 & 0.000700 & 0.9831461 & 0.01825843\\\\\n",
       "\t2 & Holy See         & 0.000029 & 0.000000 & 0.000027 & 0.9310345 & 0.00000000\\\\\n",
       "\t3 & Tajikistan       & 0.017786 & 0.000125 & 0.015038 & 0.8454965 & 0.00702800\\\\\n",
       "\t4 & MS Zaandam       & 0.000009 & 0.000002 & 0.000007 & 0.7777778 & 0.22222222\\\\\n",
       "\t5 & Colombia         & 6.308558 & 0.141820 & 4.681505 & 0.7420880 & 0.02248057\\\\\n",
       "\t6 & Djibouti         & 0.015690 & 0.000189 & 0.011491 & 0.7323773 & 0.01204589\\\\\n",
       "\\end{tabular}\n"
      ],
      "text/markdown": [
       "\n",
       "A data.frame: 6 × 6\n",
       "\n",
       "| <!--/--> | country &lt;chr&gt; | totalCases_conf &lt;dbl&gt; | totalCases_death &lt;dbl&gt; | totalCases_recov &lt;dbl&gt; | recovery_rate &lt;dbl&gt; | mortality_rate &lt;dbl&gt; |\n",
       "|---|---|---|---|---|---|---|\n",
       "| 1 | Diamond Princess | 0.000712 | 0.000013 | 0.000700 | 0.9831461 | 0.01825843 |\n",
       "| 2 | Holy See         | 0.000029 | 0.000000 | 0.000027 | 0.9310345 | 0.00000000 |\n",
       "| 3 | Tajikistan       | 0.017786 | 0.000125 | 0.015038 | 0.8454965 | 0.00702800 |\n",
       "| 4 | MS Zaandam       | 0.000009 | 0.000002 | 0.000007 | 0.7777778 | 0.22222222 |\n",
       "| 5 | Colombia         | 6.308558 | 0.141820 | 4.681505 | 0.7420880 | 0.02248057 |\n",
       "| 6 | Djibouti         | 0.015690 | 0.000189 | 0.011491 | 0.7323773 | 0.01204589 |\n",
       "\n"
      ],
      "text/plain": [
       "  country          totalCases_conf totalCases_death totalCases_recov\n",
       "1 Diamond Princess 0.000712        0.000013         0.000700        \n",
       "2 Holy See         0.000029        0.000000         0.000027        \n",
       "3 Tajikistan       0.017786        0.000125         0.015038        \n",
       "4 MS Zaandam       0.000009        0.000002         0.000007        \n",
       "5 Colombia         6.308558        0.141820         4.681505        \n",
       "6 Djibouti         0.015690        0.000189         0.011491        \n",
       "  recovery_rate mortality_rate\n",
       "1 0.9831461     0.01825843    \n",
       "2 0.9310345     0.00000000    \n",
       "3 0.8454965     0.00702800    \n",
       "4 0.7777778     0.22222222    \n",
       "5 0.7420880     0.02248057    \n",
       "6 0.7323773     0.01204589    "
      ]
     },
     "metadata": {},
     "output_type": "display_data"
    }
   ],
   "source": [
    "head(df_list %>% arrange(desc(recovery_rate)))"
   ]
  },
  {
   "cell_type": "code",
   "execution_count": 68,
   "id": "670f0eb8",
   "metadata": {},
   "outputs": [],
   "source": [
    "df_list <- list(conf_Cases_country, death_Cases_country, recov_Cases_country)\n",
    "df_list <- df_list %>% reduce(full_join, by='country')"
   ]
  },
  {
   "cell_type": "markdown",
   "id": "db22074e",
   "metadata": {},
   "source": [
    "## World Reported Cases"
   ]
  },
  {
   "cell_type": "code",
   "execution_count": 69,
   "id": "67fc8c9b",
   "metadata": {},
   "outputs": [
    {
     "data": {
      "text/html": [
       "25.160772446"
      ],
      "text/latex": [
       "25.160772446"
      ],
      "text/markdown": [
       "25.160772446"
      ],
      "text/plain": [
       "[1] 25.16077"
      ]
     },
     "metadata": {},
     "output_type": "display_data"
    }
   ],
   "source": [
    "sum(df_list$totalCases_conf) /1000000000 # in billion"
   ]
  },
  {
   "cell_type": "code",
   "execution_count": 70,
   "id": "9bebe496",
   "metadata": {},
   "outputs": [
    {
     "data": {
      "text/html": [
       "249.179303"
      ],
      "text/latex": [
       "249.179303"
      ],
      "text/markdown": [
       "249.179303"
      ],
      "text/plain": [
       "[1] 249.1793"
      ]
     },
     "metadata": {},
     "output_type": "display_data"
    }
   ],
   "source": [
    "sum(df_list$totalCases_death) /1000000 # Million"
   ]
  },
  {
   "cell_type": "code",
   "execution_count": 71,
   "id": "f723c0a9",
   "metadata": {},
   "outputs": [
    {
     "data": {
      "text/html": [
       "335.053585"
      ],
      "text/latex": [
       "335.053585"
      ],
      "text/markdown": [
       "335.053585"
      ],
      "text/plain": [
       "[1] 335.0536"
      ]
     },
     "metadata": {},
     "output_type": "display_data"
    }
   ],
   "source": [
    "sum(df_list$totalCases_recov) /1000000 # Million"
   ]
  },
  {
   "cell_type": "markdown",
   "id": "e75aee89",
   "metadata": {},
   "source": [
    "## Average Cases worldwide Recoved on daily wise"
   ]
  },
  {
   "cell_type": "code",
   "execution_count": 72,
   "id": "4cd0b9dd",
   "metadata": {},
   "outputs": [
    {
     "data": {
      "text/html": [
       "<table class=\"dataframe\">\n",
       "<caption>A data.frame: 1 × 1</caption>\n",
       "<thead>\n",
       "\t<tr><th scope=col>mean( in lakh)</th></tr>\n",
       "\t<tr><th scope=col>&lt;dbl&gt;</th></tr>\n",
       "</thead>\n",
       "<tbody>\n",
       "\t<tr><td>1.358945</td></tr>\n",
       "</tbody>\n",
       "</table>\n"
      ],
      "text/latex": [
       "A data.frame: 1 × 1\n",
       "\\begin{tabular}{l}\n",
       " mean( in lakh)\\\\\n",
       " <dbl>\\\\\n",
       "\\hline\n",
       "\t 1.358945\\\\\n",
       "\\end{tabular}\n"
      ],
      "text/markdown": [
       "\n",
       "A data.frame: 1 × 1\n",
       "\n",
       "| mean( in lakh) &lt;dbl&gt; |\n",
       "|---|\n",
       "| 1.358945 |\n",
       "\n"
      ],
      "text/plain": [
       "  mean( in lakh)\n",
       "1 1.358945      "
      ]
     },
     "metadata": {},
     "output_type": "display_data"
    }
   ],
   "source": [
    "# recov_Cases_daily\n",
    "\n",
    "recov_Cases_daily %>% summarise(\"mean( in lakh)\" = mean(DailyTrend)) /100000 "
   ]
  },
  {
   "cell_type": "code",
   "execution_count": 73,
   "id": "1944852f",
   "metadata": {},
   "outputs": [],
   "source": [
    "## Average Cases worldwide Confirmed on daily wise"
   ]
  },
  {
   "cell_type": "code",
   "execution_count": 74,
   "id": "35f7237d",
   "metadata": {},
   "outputs": [
    {
     "data": {
      "text/html": [
       "<table class=\"dataframe\">\n",
       "<caption>A data.frame: 1 × 1</caption>\n",
       "<thead>\n",
       "\t<tr><th scope=col>mean( in lakh)</th></tr>\n",
       "\t<tr><th scope=col>&lt;dbl&gt;</th></tr>\n",
       "</thead>\n",
       "<tbody>\n",
       "\t<tr><td>6.210276</td></tr>\n",
       "</tbody>\n",
       "</table>\n"
      ],
      "text/latex": [
       "A data.frame: 1 × 1\n",
       "\\begin{tabular}{l}\n",
       " mean( in lakh)\\\\\n",
       " <dbl>\\\\\n",
       "\\hline\n",
       "\t 6.210276\\\\\n",
       "\\end{tabular}\n"
      ],
      "text/markdown": [
       "\n",
       "A data.frame: 1 × 1\n",
       "\n",
       "| mean( in lakh) &lt;dbl&gt; |\n",
       "|---|\n",
       "| 6.210276 |\n",
       "\n"
      ],
      "text/plain": [
       "  mean( in lakh)\n",
       "1 6.210276      "
      ]
     },
     "metadata": {},
     "output_type": "display_data"
    }
   ],
   "source": [
    "conf_Cases_daily %>% summarise(\"mean( in lakh)\" = mean(DailyTrend)) / 100000"
   ]
  },
  {
   "cell_type": "code",
   "execution_count": 75,
   "id": "c62feec0",
   "metadata": {},
   "outputs": [],
   "source": [
    "## Average Cases worldwide Recoved on daily wise"
   ]
  },
  {
   "cell_type": "code",
   "execution_count": 76,
   "id": "8bf40eab",
   "metadata": {},
   "outputs": [
    {
     "data": {
      "text/html": [
       "<table class=\"dataframe\">\n",
       "<caption>A data.frame: 1 × 1</caption>\n",
       "<thead>\n",
       "\t<tr><th scope=col>mean( in thousands)</th></tr>\n",
       "\t<tr><th scope=col>&lt;dbl&gt;</th></tr>\n",
       "</thead>\n",
       "<tbody>\n",
       "\t<tr><td>6.540097</td></tr>\n",
       "</tbody>\n",
       "</table>\n"
      ],
      "text/latex": [
       "A data.frame: 1 × 1\n",
       "\\begin{tabular}{l}\n",
       " mean( in thousands)\\\\\n",
       " <dbl>\\\\\n",
       "\\hline\n",
       "\t 6.540097\\\\\n",
       "\\end{tabular}\n"
      ],
      "text/markdown": [
       "\n",
       "A data.frame: 1 × 1\n",
       "\n",
       "| mean( in thousands) &lt;dbl&gt; |\n",
       "|---|\n",
       "| 6.540097 |\n",
       "\n"
      ],
      "text/plain": [
       "  mean( in thousands)\n",
       "1 6.540097           "
      ]
     },
     "metadata": {},
     "output_type": "display_data"
    }
   ],
   "source": [
    "death_Cases_daily %>% summarise(\"mean( in thousands)\" = mean(DailyTrend))/ 1000"
   ]
  },
  {
   "cell_type": "code",
   "execution_count": 77,
   "id": "d5243710",
   "metadata": {},
   "outputs": [],
   "source": [
    "## Plot Recovery and Death Rate"
   ]
  },
  {
   "cell_type": "code",
   "execution_count": 78,
   "id": "f399989f",
   "metadata": {},
   "outputs": [
    {
     "data": {
      "text/html": [
       "<table class=\"dataframe\">\n",
       "<caption>A data.frame: 6 × 8</caption>\n",
       "<thead>\n",
       "\t<tr><th></th><th scope=col>subregion</th><th scope=col>country</th><th scope=col>Lat</th><th scope=col>Long</th><th scope=col>date</th><th scope=col>conf</th><th scope=col>death</th><th scope=col>recov</th></tr>\n",
       "\t<tr><th></th><th scope=col>&lt;chr&gt;</th><th scope=col>&lt;chr&gt;</th><th scope=col>&lt;dbl&gt;</th><th scope=col>&lt;dbl&gt;</th><th scope=col>&lt;date&gt;</th><th scope=col>&lt;int&gt;</th><th scope=col>&lt;int&gt;</th><th scope=col>&lt;int&gt;</th></tr>\n",
       "</thead>\n",
       "<tbody>\n",
       "\t<tr><th scope=row>269185</th><td></td><td>Vietnam             </td><td> 14.058</td><td>108.277</td><td>2022-10-14</td><td>11491541</td><td>43155</td><td>0</td></tr>\n",
       "\t<tr><th scope=row>269186</th><td></td><td>West Bank and Gaza  </td><td> 31.952</td><td> 35.233</td><td>2022-10-14</td><td>  702804</td><td> 5707</td><td>0</td></tr>\n",
       "\t<tr><th scope=row>269187</th><td></td><td>Winter Olympics 2022</td><td> 39.904</td><td>116.407</td><td>2022-10-14</td><td>     535</td><td>    0</td><td>0</td></tr>\n",
       "\t<tr><th scope=row>269188</th><td></td><td>Yemen               </td><td> 15.553</td><td> 48.516</td><td>2022-10-14</td><td>   11939</td><td> 2158</td><td>0</td></tr>\n",
       "\t<tr><th scope=row>269189</th><td></td><td>Zambia              </td><td>-13.134</td><td> 27.849</td><td>2022-10-14</td><td>  333624</td><td> 4017</td><td>0</td></tr>\n",
       "\t<tr><th scope=row>269190</th><td></td><td>Zimbabwe            </td><td>-19.015</td><td> 29.155</td><td>2022-10-14</td><td>  257827</td><td> 5605</td><td>0</td></tr>\n",
       "</tbody>\n",
       "</table>\n"
      ],
      "text/latex": [
       "A data.frame: 6 × 8\n",
       "\\begin{tabular}{r|llllllll}\n",
       "  & subregion & country & Lat & Long & date & conf & death & recov\\\\\n",
       "  & <chr> & <chr> & <dbl> & <dbl> & <date> & <int> & <int> & <int>\\\\\n",
       "\\hline\n",
       "\t269185 &  & Vietnam              &  14.058 & 108.277 & 2022-10-14 & 11491541 & 43155 & 0\\\\\n",
       "\t269186 &  & West Bank and Gaza   &  31.952 &  35.233 & 2022-10-14 &   702804 &  5707 & 0\\\\\n",
       "\t269187 &  & Winter Olympics 2022 &  39.904 & 116.407 & 2022-10-14 &      535 &     0 & 0\\\\\n",
       "\t269188 &  & Yemen                &  15.553 &  48.516 & 2022-10-14 &    11939 &  2158 & 0\\\\\n",
       "\t269189 &  & Zambia               & -13.134 &  27.849 & 2022-10-14 &   333624 &  4017 & 0\\\\\n",
       "\t269190 &  & Zimbabwe             & -19.015 &  29.155 & 2022-10-14 &   257827 &  5605 & 0\\\\\n",
       "\\end{tabular}\n"
      ],
      "text/markdown": [
       "\n",
       "A data.frame: 6 × 8\n",
       "\n",
       "| <!--/--> | subregion &lt;chr&gt; | country &lt;chr&gt; | Lat &lt;dbl&gt; | Long &lt;dbl&gt; | date &lt;date&gt; | conf &lt;int&gt; | death &lt;int&gt; | recov &lt;int&gt; |\n",
       "|---|---|---|---|---|---|---|---|---|\n",
       "| 269185 | <!----> | Vietnam              |  14.058 | 108.277 | 2022-10-14 | 11491541 | 43155 | 0 |\n",
       "| 269186 | <!----> | West Bank and Gaza   |  31.952 |  35.233 | 2022-10-14 |   702804 |  5707 | 0 |\n",
       "| 269187 | <!----> | Winter Olympics 2022 |  39.904 | 116.407 | 2022-10-14 |      535 |     0 | 0 |\n",
       "| 269188 | <!----> | Yemen                |  15.553 |  48.516 | 2022-10-14 |    11939 |  2158 | 0 |\n",
       "| 269189 | <!----> | Zambia               | -13.134 |  27.849 | 2022-10-14 |   333624 |  4017 | 0 |\n",
       "| 269190 | <!----> | Zimbabwe             | -19.015 |  29.155 | 2022-10-14 |   257827 |  5605 | 0 |\n",
       "\n"
      ],
      "text/plain": [
       "       subregion country              Lat     Long    date       conf     death\n",
       "269185           Vietnam               14.058 108.277 2022-10-14 11491541 43155\n",
       "269186           West Bank and Gaza    31.952  35.233 2022-10-14   702804  5707\n",
       "269187           Winter Olympics 2022  39.904 116.407 2022-10-14      535     0\n",
       "269188           Yemen                 15.553  48.516 2022-10-14    11939  2158\n",
       "269189           Zambia               -13.134  27.849 2022-10-14   333624  4017\n",
       "269190           Zimbabwe             -19.015  29.155 2022-10-14   257827  5605\n",
       "       recov\n",
       "269185 0    \n",
       "269186 0    \n",
       "269187 0    \n",
       "269188 0    \n",
       "269189 0    \n",
       "269190 0    "
      ]
     },
     "metadata": {},
     "output_type": "display_data"
    }
   ],
   "source": [
    "tail(country)"
   ]
  },
  {
   "cell_type": "code",
   "execution_count": 79,
   "id": "841f379b",
   "metadata": {},
   "outputs": [],
   "source": [
    "daily = country %>% select('date','recov','conf','death') %>% group_by(date) %>% summarise(total_recov = sum(recov),\n",
    "                                                                                           total_conf = sum(conf),\n",
    "                                                                                           total_death = sum(death))"
   ]
  },
  {
   "cell_type": "code",
   "execution_count": 80,
   "id": "9b610ef7",
   "metadata": {},
   "outputs": [
    {
     "data": {
      "text/html": [
       "<table class=\"dataframe\">\n",
       "<caption>A tibble: 6 × 4</caption>\n",
       "<thead>\n",
       "\t<tr><th scope=col>date</th><th scope=col>total_recov</th><th scope=col>total_conf</th><th scope=col>total_death</th></tr>\n",
       "\t<tr><th scope=col>&lt;date&gt;</th><th scope=col>&lt;int&gt;</th><th scope=col>&lt;int&gt;</th><th scope=col>&lt;int&gt;</th></tr>\n",
       "</thead>\n",
       "<tbody>\n",
       "\t<tr><td>2020-01-22</td><td>30</td><td> 551</td><td>17</td></tr>\n",
       "\t<tr><td>2020-01-23</td><td>32</td><td> 649</td><td>17</td></tr>\n",
       "\t<tr><td>2020-01-24</td><td>39</td><td> 930</td><td>25</td></tr>\n",
       "\t<tr><td>2020-01-25</td><td>42</td><td>1394</td><td>41</td></tr>\n",
       "\t<tr><td>2020-01-26</td><td>56</td><td>2021</td><td>54</td></tr>\n",
       "\t<tr><td>2020-01-27</td><td>65</td><td>2780</td><td>80</td></tr>\n",
       "</tbody>\n",
       "</table>\n"
      ],
      "text/latex": [
       "A tibble: 6 × 4\n",
       "\\begin{tabular}{llll}\n",
       " date & total\\_recov & total\\_conf & total\\_death\\\\\n",
       " <date> & <int> & <int> & <int>\\\\\n",
       "\\hline\n",
       "\t 2020-01-22 & 30 &  551 & 17\\\\\n",
       "\t 2020-01-23 & 32 &  649 & 17\\\\\n",
       "\t 2020-01-24 & 39 &  930 & 25\\\\\n",
       "\t 2020-01-25 & 42 & 1394 & 41\\\\\n",
       "\t 2020-01-26 & 56 & 2021 & 54\\\\\n",
       "\t 2020-01-27 & 65 & 2780 & 80\\\\\n",
       "\\end{tabular}\n"
      ],
      "text/markdown": [
       "\n",
       "A tibble: 6 × 4\n",
       "\n",
       "| date &lt;date&gt; | total_recov &lt;int&gt; | total_conf &lt;int&gt; | total_death &lt;int&gt; |\n",
       "|---|---|---|---|\n",
       "| 2020-01-22 | 30 |  551 | 17 |\n",
       "| 2020-01-23 | 32 |  649 | 17 |\n",
       "| 2020-01-24 | 39 |  930 | 25 |\n",
       "| 2020-01-25 | 42 | 1394 | 41 |\n",
       "| 2020-01-26 | 56 | 2021 | 54 |\n",
       "| 2020-01-27 | 65 | 2780 | 80 |\n",
       "\n"
      ],
      "text/plain": [
       "  date       total_recov total_conf total_death\n",
       "1 2020-01-22 30           551       17         \n",
       "2 2020-01-23 32           649       17         \n",
       "3 2020-01-24 39           930       25         \n",
       "4 2020-01-25 42          1394       41         \n",
       "5 2020-01-26 56          2021       54         \n",
       "6 2020-01-27 65          2780       80         "
      ]
     },
     "metadata": {},
     "output_type": "display_data"
    }
   ],
   "source": [
    "head(daily)"
   ]
  },
  {
   "cell_type": "code",
   "execution_count": 81,
   "id": "28edf2a9",
   "metadata": {},
   "outputs": [],
   "source": [
    "daily = mutate(daily,recovery_rate = total_recov / total_conf)\n",
    "\n",
    "daily = mutate(daily,mortality_rate = total_death / total_conf)"
   ]
  },
  {
   "cell_type": "code",
   "execution_count": 82,
   "id": "4a839fc9",
   "metadata": {},
   "outputs": [
    {
     "data": {
      "image/png": "[encoded data removed]",
      "text/plain": [
       "plot without title"
      ]
     },
     "metadata": {
      "image/png": {
       "height": 420,
       "width": 420
      }
     },
     "output_type": "display_data"
    }
   ],
   "source": [
    "ggplot(daily,aes(x = date, y = recovery_rate)) + \n",
    "        geom_line() + \n",
    "        labs(title = \"Recovery rate daily basis\")"
   ]
  },
  {
   "cell_type": "code",
   "execution_count": 83,
   "id": "65c1702f",
   "metadata": {},
   "outputs": [
    {
     "data": {
      "image/png": "[encoded data removed]",
      "text/plain": [
       "plot without title"
      ]
     },
     "metadata": {
      "image/png": {
       "height": 420,
       "width": 420
      }
     },
     "output_type": "display_data"
    }
   ],
   "source": [
    "ggplot(daily,aes(x = date, y = mortality_rate)) + \n",
    "        geom_line() + \n",
    "        labs(title = \"Death rate daily basis\")"
   ]
  },
  {
   "cell_type": "code",
   "execution_count": 84,
   "id": "227ec29f",
   "metadata": {},
   "outputs": [],
   "source": [
    "# Analyze Active Cases"
   ]
  },
  {
   "cell_type": "code",
   "execution_count": 85,
   "id": "fde0ea6e",
   "metadata": {},
   "outputs": [],
   "source": [
    "country$Active = country$conf -  country$death - country$recov\n",
    "\n",
    "country = country[country$Active>=0 & country$recov>=0,]"
   ]
  },
  {
   "cell_type": "code",
   "execution_count": 86,
   "id": "f2a4a11a",
   "metadata": {},
   "outputs": [
    {
     "data": {
      "text/html": [
       "<table class=\"dataframe\">\n",
       "<caption>A data.frame: 6 × 9</caption>\n",
       "<thead>\n",
       "\t<tr><th></th><th scope=col>subregion</th><th scope=col>country</th><th scope=col>Lat</th><th scope=col>Long</th><th scope=col>date</th><th scope=col>conf</th><th scope=col>death</th><th scope=col>recov</th><th scope=col>Active</th></tr>\n",
       "\t<tr><th></th><th scope=col>&lt;chr&gt;</th><th scope=col>&lt;chr&gt;</th><th scope=col>&lt;dbl&gt;</th><th scope=col>&lt;dbl&gt;</th><th scope=col>&lt;date&gt;</th><th scope=col>&lt;int&gt;</th><th scope=col>&lt;int&gt;</th><th scope=col>&lt;int&gt;</th><th scope=col>&lt;int&gt;</th></tr>\n",
       "</thead>\n",
       "<tbody>\n",
       "\t<tr><th scope=row>55</th><td>Hubei    </td><td>China   </td><td>30.976</td><td>112.271</td><td>2020-01-22</td><td>444</td><td>17</td><td>28</td><td>399</td></tr>\n",
       "\t<tr><th scope=row>234</th><td>         </td><td>Thailand</td><td>15.870</td><td>100.993</td><td>2020-01-22</td><td>  4</td><td> 0</td><td> 2</td><td>  2</td></tr>\n",
       "\t<tr><th scope=row>319</th><td>Guangdong</td><td>China   </td><td>23.342</td><td>113.424</td><td>2020-01-23</td><td> 32</td><td> 0</td><td> 2</td><td> 30</td></tr>\n",
       "\t<tr><th scope=row>325</th><td>Hubei    </td><td>China   </td><td>30.976</td><td>112.271</td><td>2020-01-23</td><td>444</td><td>17</td><td>28</td><td>399</td></tr>\n",
       "\t<tr><th scope=row>504</th><td>         </td><td>Thailand</td><td>15.870</td><td>100.993</td><td>2020-01-23</td><td>  4</td><td> 0</td><td> 2</td><td>  2</td></tr>\n",
       "\t<tr><th scope=row>585</th><td>Beijing  </td><td>China   </td><td>40.182</td><td>116.414</td><td>2020-01-24</td><td> 36</td><td> 0</td><td> 1</td><td> 35</td></tr>\n",
       "</tbody>\n",
       "</table>\n"
      ],
      "text/latex": [
       "A data.frame: 6 × 9\n",
       "\\begin{tabular}{r|lllllllll}\n",
       "  & subregion & country & Lat & Long & date & conf & death & recov & Active\\\\\n",
       "  & <chr> & <chr> & <dbl> & <dbl> & <date> & <int> & <int> & <int> & <int>\\\\\n",
       "\\hline\n",
       "\t55 & Hubei     & China    & 30.976 & 112.271 & 2020-01-22 & 444 & 17 & 28 & 399\\\\\n",
       "\t234 &           & Thailand & 15.870 & 100.993 & 2020-01-22 &   4 &  0 &  2 &   2\\\\\n",
       "\t319 & Guangdong & China    & 23.342 & 113.424 & 2020-01-23 &  32 &  0 &  2 &  30\\\\\n",
       "\t325 & Hubei     & China    & 30.976 & 112.271 & 2020-01-23 & 444 & 17 & 28 & 399\\\\\n",
       "\t504 &           & Thailand & 15.870 & 100.993 & 2020-01-23 &   4 &  0 &  2 &   2\\\\\n",
       "\t585 & Beijing   & China    & 40.182 & 116.414 & 2020-01-24 &  36 &  0 &  1 &  35\\\\\n",
       "\\end{tabular}\n"
      ],
      "text/markdown": [
       "\n",
       "A data.frame: 6 × 9\n",
       "\n",
       "| <!--/--> | subregion &lt;chr&gt; | country &lt;chr&gt; | Lat &lt;dbl&gt; | Long &lt;dbl&gt; | date &lt;date&gt; | conf &lt;int&gt; | death &lt;int&gt; | recov &lt;int&gt; | Active &lt;int&gt; |\n",
       "|---|---|---|---|---|---|---|---|---|---|\n",
       "| 55 | Hubei     | China    | 30.976 | 112.271 | 2020-01-22 | 444 | 17 | 28 | 399 |\n",
       "| 234 | <!----> | Thailand | 15.870 | 100.993 | 2020-01-22 |   4 |  0 |  2 |   2 |\n",
       "| 319 | Guangdong | China    | 23.342 | 113.424 | 2020-01-23 |  32 |  0 |  2 |  30 |\n",
       "| 325 | Hubei     | China    | 30.976 | 112.271 | 2020-01-23 | 444 | 17 | 28 | 399 |\n",
       "| 504 | <!----> | Thailand | 15.870 | 100.993 | 2020-01-23 |   4 |  0 |  2 |   2 |\n",
       "| 585 | Beijing   | China    | 40.182 | 116.414 | 2020-01-24 |  36 |  0 |  1 |  35 |\n",
       "\n"
      ],
      "text/plain": [
       "    subregion country  Lat    Long    date       conf death recov Active\n",
       "55  Hubei     China    30.976 112.271 2020-01-22 444  17    28    399   \n",
       "234           Thailand 15.870 100.993 2020-01-22   4   0     2      2   \n",
       "319 Guangdong China    23.342 113.424 2020-01-23  32   0     2     30   \n",
       "325 Hubei     China    30.976 112.271 2020-01-23 444  17    28    399   \n",
       "504           Thailand 15.870 100.993 2020-01-23   4   0     2      2   \n",
       "585 Beijing   China    40.182 116.414 2020-01-24  36   0     1     35   "
      ]
     },
     "metadata": {},
     "output_type": "display_data"
    }
   ],
   "source": [
    "head(country[country$recov !=0,])"
   ]
  },
  {
   "cell_type": "code",
   "execution_count": 87,
   "id": "70f7f4a9",
   "metadata": {},
   "outputs": [
    {
     "data": {
      "text/html": [
       "200"
      ],
      "text/latex": [
       "200"
      ],
      "text/markdown": [
       "200"
      ],
      "text/plain": [
       "[1] 200"
      ]
     },
     "metadata": {},
     "output_type": "display_data"
    }
   ],
   "source": [
    "length(unique(country$country))"
   ]
  },
  {
   "cell_type": "code",
   "execution_count": 88,
   "id": "d6e17574",
   "metadata": {},
   "outputs": [
    {
     "data": {
      "text/html": [
       "202"
      ],
      "text/latex": [
       "202"
      ],
      "text/markdown": [
       "202"
      ],
      "text/plain": [
       "[1] 202"
      ]
     },
     "metadata": {},
     "output_type": "display_data"
    }
   ],
   "source": [
    "length(unique(countryToContinent$Country))"
   ]
  },
  {
   "cell_type": "code",
   "execution_count": null,
   "id": "28eb70fa",
   "metadata": {},
   "outputs": [],
   "source": []
  },
  {
   "cell_type": "code",
   "execution_count": 802,
   "id": "286e3d49",
   "metadata": {},
   "outputs": [],
   "source": []
  },
  {
   "cell_type": "code",
   "execution_count": 805,
   "id": "1dae9b95",
   "metadata": {},
   "outputs": [],
   "source": []
  },
  {
   "cell_type": "code",
   "execution_count": null,
   "id": "f7664848",
   "metadata": {},
   "outputs": [],
   "source": []
  },
  {
   "cell_type": "code",
   "execution_count": null,
   "id": "aa4c625b",
   "metadata": {},
   "outputs": [],
   "source": []
  }
 ],
 "metadata": {
  "kernelspec": {
   "display_name": "R",
   "language": "R",
   "name": "ir"
  },
  "language_info": {
   "codemirror_mode": "r",
   "file_extension": ".r",
   "mimetype": "text/x-r-source",
   "name": "R",
   "pygments_lexer": "r",
   "version": "4.2.1"
  }
 },
 "nbformat": 4,
 "nbformat_minor": 5
}
