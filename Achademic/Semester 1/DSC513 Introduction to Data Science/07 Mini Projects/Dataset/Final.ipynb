{
 "cells": [
  {
   "cell_type": "code",
   "execution_count": 540,
   "id": "bf2f869a",
   "metadata": {},
   "outputs": [],
   "source": [
    "library(tidyverse)\n",
    "library(lubridate)\n",
    "library(ggplot2)\n",
    "library(tidyr)\n",
    "library(dplyr)"
   ]
  },
  {
   "cell_type": "code",
   "execution_count": 541,
   "id": "dae21a87",
   "metadata": {},
   "outputs": [],
   "source": [
    "options(warn = -1)"
   ]
  },
  {
   "cell_type": "markdown",
   "id": "28094b3c",
   "metadata": {},
   "source": [
    "## Read the Input data"
   ]
  },
  {
   "cell_type": "code",
   "execution_count": 542,
   "id": "a35153d4",
   "metadata": {},
   "outputs": [],
   "source": [
    "confirmedraw = read.csv(\"time_series_covid19_confirmed_global.csv\")\n",
    "\n",
    "deathsraw= read.csv(\"time_series_covid19_deaths_global.csv\")\n",
    "\n",
    "recoveredraw = read.csv(\"time_series_covid19_recovered_global.csv\")"
   ]
  },
  {
   "cell_type": "code",
   "execution_count": 543,
   "id": "05640bab",
   "metadata": {},
   "outputs": [],
   "source": [
    "countryToContinent = read.csv(\"countryToContinent.csv\")\n",
    "\n",
    "countryToContinent$Continent = as.character(countryToContinent$Continent)\n",
    "countryToContinent$Country = as.character(countryToContinent$Country)"
   ]
  },
  {
   "cell_type": "code",
   "execution_count": 544,
   "id": "c051b1da",
   "metadata": {},
   "outputs": [
    {
     "name": "stdout",
     "output_type": "stream",
     "text": [
      "[1]  289 1017\n",
      "[1]  289 1001\n",
      "[1]  274 1001\n"
     ]
    }
   ],
   "source": [
    "print(dim(confirmedraw))\n",
    "\n",
    "print(dim(deathsraw))\n",
    "\n",
    "print(dim(recoveredraw))"
   ]
  },
  {
   "cell_type": "code",
   "execution_count": 545,
   "id": "421d3978",
   "metadata": {},
   "outputs": [],
   "source": [
    "formatTheData = function(data,colName) {\n",
    "    \n",
    "    data <- data %>% gather(key=\"date\", value= col, -c(Country.Region, Province.State, Lat, Long)) %>%\n",
    "        group_by(Province.State,Country.Region, date) %>% summarize(col=sum(col))\n",
    "    \n",
    "    data$date <- data$date %>% sub(\"X\", \"\", .) %>% as.Date(\"%m.%d.%y\")\n",
    "    \n",
    "    data <- data %>% arrange(date)\n",
    "    \n",
    "    data = data %>% group_by(Country.Region,date) %>% summarise(col=sum(col)) \n",
    "    \n",
    "    colnames(data)[3] <- colName\n",
    "    \n",
    "    data = merge(countryToContinent,data,  by.y = \"Country.Region\", by.x = \"Country\")\n",
    "    \n",
    "    data = select(data, -c('X'))\n",
    "    \n",
    "    data <- data %>% arrange(Country,date)\n",
    "        \n",
    "    return(data)\n",
    "}"
   ]
  },
  {
   "cell_type": "code",
   "execution_count": 546,
   "id": "c22c60ad",
   "metadata": {},
   "outputs": [
    {
     "name": "stderr",
     "output_type": "stream",
     "text": [
      "\u001b[1m\u001b[22m`summarise()` has grouped output by 'Province.State', 'Country.Region'. You can override using the `.groups` argument.\n",
      "\u001b[1m\u001b[22m`summarise()` has grouped output by 'Country.Region'. You can override using the `.groups` argument.\n",
      "\u001b[1m\u001b[22m`summarise()` has grouped output by 'Province.State', 'Country.Region'. You can override using the `.groups` argument.\n",
      "\u001b[1m\u001b[22m`summarise()` has grouped output by 'Country.Region'. You can override using the `.groups` argument.\n",
      "\u001b[1m\u001b[22m`summarise()` has grouped output by 'Province.State', 'Country.Region'. You can override using the `.groups` argument.\n",
      "\u001b[1m\u001b[22m`summarise()` has grouped output by 'Country.Region'. You can override using the `.groups` argument.\n"
     ]
    }
   ],
   "source": [
    "case.conf = formatTheData(confirmedraw,\"conf\")\n",
    "case.death = formatTheData(deathsraw,\"death\")\n",
    "case.recov = formatTheData(recoveredraw,\"recov\")"
   ]
  },
  {
   "cell_type": "code",
   "execution_count": 348,
   "id": "74493e3e",
   "metadata": {},
   "outputs": [
    {
     "data": {
      "text/html": [
       "<table class=\"dataframe\">\n",
       "<caption>A data.frame: 6 × 4</caption>\n",
       "<thead>\n",
       "\t<tr><th></th><th scope=col>Country</th><th scope=col>Continent</th><th scope=col>date</th><th scope=col>conf</th></tr>\n",
       "\t<tr><th></th><th scope=col>&lt;chr&gt;</th><th scope=col>&lt;chr&gt;</th><th scope=col>&lt;date&gt;</th><th scope=col>&lt;int&gt;</th></tr>\n",
       "</thead>\n",
       "<tbody>\n",
       "\t<tr><th scope=row>1</th><td>Afghanistan</td><td>Asia</td><td>2020-01-01</td><td>210620</td></tr>\n",
       "\t<tr><th scope=row>2</th><td>Afghanistan</td><td>Asia</td><td>2020-01-02</td><td>210775</td></tr>\n",
       "\t<tr><th scope=row>3</th><td>Afghanistan</td><td>Asia</td><td>2020-01-03</td><td>210892</td></tr>\n",
       "\t<tr><th scope=row>4</th><td>Afghanistan</td><td>Asia</td><td>2020-01-04</td><td>211114</td></tr>\n",
       "\t<tr><th scope=row>5</th><td>Afghanistan</td><td>Asia</td><td>2020-01-05</td><td>211256</td></tr>\n",
       "\t<tr><th scope=row>6</th><td>Afghanistan</td><td>Asia</td><td>2020-01-06</td><td>211380</td></tr>\n",
       "</tbody>\n",
       "</table>\n"
      ],
      "text/latex": [
       "A data.frame: 6 × 4\n",
       "\\begin{tabular}{r|llll}\n",
       "  & Country & Continent & date & conf\\\\\n",
       "  & <chr> & <chr> & <date> & <int>\\\\\n",
       "\\hline\n",
       "\t1 & Afghanistan & Asia & 2020-01-01 & 210620\\\\\n",
       "\t2 & Afghanistan & Asia & 2020-01-02 & 210775\\\\\n",
       "\t3 & Afghanistan & Asia & 2020-01-03 & 210892\\\\\n",
       "\t4 & Afghanistan & Asia & 2020-01-04 & 211114\\\\\n",
       "\t5 & Afghanistan & Asia & 2020-01-05 & 211256\\\\\n",
       "\t6 & Afghanistan & Asia & 2020-01-06 & 211380\\\\\n",
       "\\end{tabular}\n"
      ],
      "text/markdown": [
       "\n",
       "A data.frame: 6 × 4\n",
       "\n",
       "| <!--/--> | Country &lt;chr&gt; | Continent &lt;chr&gt; | date &lt;date&gt; | conf &lt;int&gt; |\n",
       "|---|---|---|---|---|\n",
       "| 1 | Afghanistan | Asia | 2020-01-01 | 210620 |\n",
       "| 2 | Afghanistan | Asia | 2020-01-02 | 210775 |\n",
       "| 3 | Afghanistan | Asia | 2020-01-03 | 210892 |\n",
       "| 4 | Afghanistan | Asia | 2020-01-04 | 211114 |\n",
       "| 5 | Afghanistan | Asia | 2020-01-05 | 211256 |\n",
       "| 6 | Afghanistan | Asia | 2020-01-06 | 211380 |\n",
       "\n"
      ],
      "text/plain": [
       "  Country     Continent date       conf  \n",
       "1 Afghanistan Asia      2020-01-01 210620\n",
       "2 Afghanistan Asia      2020-01-02 210775\n",
       "3 Afghanistan Asia      2020-01-03 210892\n",
       "4 Afghanistan Asia      2020-01-04 211114\n",
       "5 Afghanistan Asia      2020-01-05 211256\n",
       "6 Afghanistan Asia      2020-01-06 211380"
      ]
     },
     "metadata": {},
     "output_type": "display_data"
    }
   ],
   "source": [
    "head(case.conf)"
   ]
  },
  {
   "cell_type": "markdown",
   "id": "5994ade4",
   "metadata": {},
   "source": [
    "## Merge All data Frames"
   ]
  },
  {
   "cell_type": "code",
   "execution_count": 349,
   "id": "366593a3",
   "metadata": {},
   "outputs": [
    {
     "name": "stderr",
     "output_type": "stream",
     "text": [
      "\u001b[1m\u001b[22mJoining, by = c(\"Country\", \"Continent\", \"date\")\n",
      "\u001b[1m\u001b[22mJoining, by = c(\"Country\", \"Continent\", \"date\")\n"
     ]
    }
   ],
   "source": [
    "country <- full_join(case.conf, case.death) %>% full_join(case.recov)"
   ]
  },
  {
   "cell_type": "code",
   "execution_count": 418,
   "id": "fc645cc8",
   "metadata": {},
   "outputs": [
    {
     "data": {
      "text/html": [
       "<table class=\"dataframe\">\n",
       "<caption>A grouped_df: 6 × 9</caption>\n",
       "<thead>\n",
       "\t<tr><th scope=col>Country</th><th scope=col>Continent</th><th scope=col>date</th><th scope=col>conf</th><th scope=col>death</th><th scope=col>recov</th><th scope=col>Active</th><th scope=col>cumconfirmed</th><th scope=col>days</th></tr>\n",
       "\t<tr><th scope=col>&lt;chr&gt;</th><th scope=col>&lt;chr&gt;</th><th scope=col>&lt;date&gt;</th><th scope=col>&lt;int&gt;</th><th scope=col>&lt;int&gt;</th><th scope=col>&lt;int&gt;</th><th scope=col>&lt;int&gt;</th><th scope=col>&lt;int&gt;</th><th scope=col>&lt;drtn&gt;</th></tr>\n",
       "</thead>\n",
       "<tbody>\n",
       "\t<tr><td>Zimbabwe</td><td>Africa</td><td>2020-01-01</td><td>228298</td><td>5386</td><td>11347</td><td>211565</td><td> 228298</td><td>1 days</td></tr>\n",
       "\t<tr><td>Zimbabwe</td><td>Africa</td><td>2020-01-02</td><td>228705</td><td>5394</td><td>11363</td><td>211948</td><td> 457003</td><td>2 days</td></tr>\n",
       "\t<tr><td>Zimbabwe</td><td>Africa</td><td>2020-01-03</td><td>231352</td><td>5427</td><td>11574</td><td>214351</td><td> 688355</td><td>3 days</td></tr>\n",
       "\t<tr><td>Zimbabwe</td><td>Africa</td><td>2020-01-04</td><td>233507</td><td>5462</td><td>11716</td><td>216329</td><td> 921862</td><td>4 days</td></tr>\n",
       "\t<tr><td>Zimbabwe</td><td>Africa</td><td>2020-01-05</td><td>236251</td><td>5510</td><td>11813</td><td>218928</td><td>1158113</td><td>5 days</td></tr>\n",
       "\t<tr><td>Zimbabwe</td><td>Africa</td><td>2020-01-06</td><td>237982</td><td>5539</td><td>11966</td><td>220477</td><td>1396095</td><td>6 days</td></tr>\n",
       "</tbody>\n",
       "</table>\n"
      ],
      "text/latex": [
       "A grouped\\_df: 6 × 9\n",
       "\\begin{tabular}{lllllllll}\n",
       " Country & Continent & date & conf & death & recov & Active & cumconfirmed & days\\\\\n",
       " <chr> & <chr> & <date> & <int> & <int> & <int> & <int> & <int> & <drtn>\\\\\n",
       "\\hline\n",
       "\t Zimbabwe & Africa & 2020-01-01 & 228298 & 5386 & 11347 & 211565 &  228298 & 1 days\\\\\n",
       "\t Zimbabwe & Africa & 2020-01-02 & 228705 & 5394 & 11363 & 211948 &  457003 & 2 days\\\\\n",
       "\t Zimbabwe & Africa & 2020-01-03 & 231352 & 5427 & 11574 & 214351 &  688355 & 3 days\\\\\n",
       "\t Zimbabwe & Africa & 2020-01-04 & 233507 & 5462 & 11716 & 216329 &  921862 & 4 days\\\\\n",
       "\t Zimbabwe & Africa & 2020-01-05 & 236251 & 5510 & 11813 & 218928 & 1158113 & 5 days\\\\\n",
       "\t Zimbabwe & Africa & 2020-01-06 & 237982 & 5539 & 11966 & 220477 & 1396095 & 6 days\\\\\n",
       "\\end{tabular}\n"
      ],
      "text/markdown": [
       "\n",
       "A grouped_df: 6 × 9\n",
       "\n",
       "| Country &lt;chr&gt; | Continent &lt;chr&gt; | date &lt;date&gt; | conf &lt;int&gt; | death &lt;int&gt; | recov &lt;int&gt; | Active &lt;int&gt; | cumconfirmed &lt;int&gt; | days &lt;drtn&gt; |\n",
       "|---|---|---|---|---|---|---|---|---|\n",
       "| Zimbabwe | Africa | 2020-01-01 | 228298 | 5386 | 11347 | 211565 |  228298 | 1 days |\n",
       "| Zimbabwe | Africa | 2020-01-02 | 228705 | 5394 | 11363 | 211948 |  457003 | 2 days |\n",
       "| Zimbabwe | Africa | 2020-01-03 | 231352 | 5427 | 11574 | 214351 |  688355 | 3 days |\n",
       "| Zimbabwe | Africa | 2020-01-04 | 233507 | 5462 | 11716 | 216329 |  921862 | 4 days |\n",
       "| Zimbabwe | Africa | 2020-01-05 | 236251 | 5510 | 11813 | 218928 | 1158113 | 5 days |\n",
       "| Zimbabwe | Africa | 2020-01-06 | 237982 | 5539 | 11966 | 220477 | 1396095 | 6 days |\n",
       "\n"
      ],
      "text/plain": [
       "  Country  Continent date       conf   death recov Active cumconfirmed days  \n",
       "1 Zimbabwe Africa    2020-01-01 228298 5386  11347 211565  228298      1 days\n",
       "2 Zimbabwe Africa    2020-01-02 228705 5394  11363 211948  457003      2 days\n",
       "3 Zimbabwe Africa    2020-01-03 231352 5427  11574 214351  688355      3 days\n",
       "4 Zimbabwe Africa    2020-01-04 233507 5462  11716 216329  921862      4 days\n",
       "5 Zimbabwe Africa    2020-01-05 236251 5510  11813 218928 1158113      5 days\n",
       "6 Zimbabwe Africa    2020-01-06 237982 5539  11966 220477 1396095      6 days"
      ]
     },
     "metadata": {},
     "output_type": "display_data"
    }
   ],
   "source": [
    "head(country)"
   ]
  },
  {
   "cell_type": "code",
   "execution_count": 351,
   "id": "85781bd2",
   "metadata": {},
   "outputs": [
    {
     "data": {
      "text/html": [
       "21871753788"
      ],
      "text/latex": [
       "21871753788"
      ],
      "text/markdown": [
       "21871753788"
      ],
      "text/plain": [
       "[1] 21871753788"
      ]
     },
     "metadata": {},
     "output_type": "display_data"
    }
   ],
   "source": [
    "sum(country$recov)"
   ]
  },
  {
   "cell_type": "markdown",
   "id": "e09cd816",
   "metadata": {},
   "source": [
    "## Get Active Cases "
   ]
  },
  {
   "cell_type": "code",
   "execution_count": 352,
   "id": "25ed74c3",
   "metadata": {},
   "outputs": [
    {
     "data": {
      "text/html": [
       "<table class=\"dataframe\">\n",
       "<caption>A data.frame: 6 × 7</caption>\n",
       "<thead>\n",
       "\t<tr><th></th><th scope=col>Country</th><th scope=col>Continent</th><th scope=col>date</th><th scope=col>conf</th><th scope=col>death</th><th scope=col>recov</th><th scope=col>Active</th></tr>\n",
       "\t<tr><th></th><th scope=col>&lt;chr&gt;</th><th scope=col>&lt;chr&gt;</th><th scope=col>&lt;date&gt;</th><th scope=col>&lt;int&gt;</th><th scope=col>&lt;int&gt;</th><th scope=col>&lt;int&gt;</th><th scope=col>&lt;int&gt;</th></tr>\n",
       "</thead>\n",
       "<tbody>\n",
       "\t<tr><th scope=row>1</th><td>Afghanistan        </td><td>Asia         </td><td>2020-01-01</td><td>210620</td><td>9557</td><td>41727</td><td>159336</td></tr>\n",
       "\t<tr><th scope=row>2</th><td>Albania            </td><td>Europe       </td><td>2020-01-01</td><td>268540</td><td>4398</td><td>33634</td><td>230508</td></tr>\n",
       "\t<tr><th scope=row>3</th><td>Algeria            </td><td>Africa       </td><td>2020-01-01</td><td>318715</td><td>9046</td><td>67395</td><td>242274</td></tr>\n",
       "\t<tr><th scope=row>4</th><td>Andorra            </td><td>Europe       </td><td>2020-01-01</td><td> 31857</td><td> 224</td><td> 7463</td><td> 24170</td></tr>\n",
       "\t<tr><th scope=row>5</th><td>Angola             </td><td>Africa       </td><td>2020-01-01</td><td> 99966</td><td>2177</td><td>11146</td><td> 86643</td></tr>\n",
       "\t<tr><th scope=row>6</th><td>Antigua and Barbuda</td><td>North America</td><td>2020-01-01</td><td>  4442</td><td> 124</td><td>  148</td><td>  4170</td></tr>\n",
       "</tbody>\n",
       "</table>\n"
      ],
      "text/latex": [
       "A data.frame: 6 × 7\n",
       "\\begin{tabular}{r|lllllll}\n",
       "  & Country & Continent & date & conf & death & recov & Active\\\\\n",
       "  & <chr> & <chr> & <date> & <int> & <int> & <int> & <int>\\\\\n",
       "\\hline\n",
       "\t1 & Afghanistan         & Asia          & 2020-01-01 & 210620 & 9557 & 41727 & 159336\\\\\n",
       "\t2 & Albania             & Europe        & 2020-01-01 & 268540 & 4398 & 33634 & 230508\\\\\n",
       "\t3 & Algeria             & Africa        & 2020-01-01 & 318715 & 9046 & 67395 & 242274\\\\\n",
       "\t4 & Andorra             & Europe        & 2020-01-01 &  31857 &  224 &  7463 &  24170\\\\\n",
       "\t5 & Angola              & Africa        & 2020-01-01 &  99966 & 2177 & 11146 &  86643\\\\\n",
       "\t6 & Antigua and Barbuda & North America & 2020-01-01 &   4442 &  124 &   148 &   4170\\\\\n",
       "\\end{tabular}\n"
      ],
      "text/markdown": [
       "\n",
       "A data.frame: 6 × 7\n",
       "\n",
       "| <!--/--> | Country &lt;chr&gt; | Continent &lt;chr&gt; | date &lt;date&gt; | conf &lt;int&gt; | death &lt;int&gt; | recov &lt;int&gt; | Active &lt;int&gt; |\n",
       "|---|---|---|---|---|---|---|---|\n",
       "| 1 | Afghanistan         | Asia          | 2020-01-01 | 210620 | 9557 | 41727 | 159336 |\n",
       "| 2 | Albania             | Europe        | 2020-01-01 | 268540 | 4398 | 33634 | 230508 |\n",
       "| 3 | Algeria             | Africa        | 2020-01-01 | 318715 | 9046 | 67395 | 242274 |\n",
       "| 4 | Andorra             | Europe        | 2020-01-01 |  31857 |  224 |  7463 |  24170 |\n",
       "| 5 | Angola              | Africa        | 2020-01-01 |  99966 | 2177 | 11146 |  86643 |\n",
       "| 6 | Antigua and Barbuda | North America | 2020-01-01 |   4442 |  124 |   148 |   4170 |\n",
       "\n"
      ],
      "text/plain": [
       "  Country             Continent     date       conf   death recov Active\n",
       "1 Afghanistan         Asia          2020-01-01 210620 9557  41727 159336\n",
       "2 Albania             Europe        2020-01-01 268540 4398  33634 230508\n",
       "3 Algeria             Africa        2020-01-01 318715 9046  67395 242274\n",
       "4 Andorra             Europe        2020-01-01  31857  224   7463  24170\n",
       "5 Angola              Africa        2020-01-01  99966 2177  11146  86643\n",
       "6 Antigua and Barbuda North America 2020-01-01   4442  124    148   4170"
      ]
     },
     "metadata": {},
     "output_type": "display_data"
    }
   ],
   "source": [
    "country$Active = country$conf - country$death - country$recov\n",
    "\n",
    "country <- country %>% arrange(date)\n",
    "\n",
    "head(country)"
   ]
  },
  {
   "cell_type": "code",
   "execution_count": 353,
   "id": "d3f5f7aa",
   "metadata": {},
   "outputs": [],
   "source": [
    "country <- country %>% group_by(Country) %>% mutate(cumconfirmed=cumsum(conf))"
   ]
  },
  {
   "cell_type": "code",
   "execution_count": 354,
   "id": "31a1d46f",
   "metadata": {},
   "outputs": [
    {
     "data": {
      "text/html": [
       "<table class=\"dataframe\">\n",
       "<caption>A grouped_df: 6 × 8</caption>\n",
       "<thead>\n",
       "\t<tr><th scope=col>Country</th><th scope=col>Continent</th><th scope=col>date</th><th scope=col>conf</th><th scope=col>death</th><th scope=col>recov</th><th scope=col>Active</th><th scope=col>cumconfirmed</th></tr>\n",
       "\t<tr><th scope=col>&lt;chr&gt;</th><th scope=col>&lt;chr&gt;</th><th scope=col>&lt;date&gt;</th><th scope=col>&lt;int&gt;</th><th scope=col>&lt;int&gt;</th><th scope=col>&lt;int&gt;</th><th scope=col>&lt;int&gt;</th><th scope=col>&lt;int&gt;</th></tr>\n",
       "</thead>\n",
       "<tbody>\n",
       "\t<tr><td>Afghanistan        </td><td>Asia         </td><td>2020-01-01</td><td>210620</td><td>9557</td><td>41727</td><td>159336</td><td>210620</td></tr>\n",
       "\t<tr><td>Albania            </td><td>Europe       </td><td>2020-01-01</td><td>268540</td><td>4398</td><td>33634</td><td>230508</td><td>268540</td></tr>\n",
       "\t<tr><td>Algeria            </td><td>Africa       </td><td>2020-01-01</td><td>318715</td><td>9046</td><td>67395</td><td>242274</td><td>318715</td></tr>\n",
       "\t<tr><td>Andorra            </td><td>Europe       </td><td>2020-01-01</td><td> 31857</td><td> 224</td><td> 7463</td><td> 24170</td><td> 31857</td></tr>\n",
       "\t<tr><td>Angola             </td><td>Africa       </td><td>2020-01-01</td><td> 99966</td><td>2177</td><td>11146</td><td> 86643</td><td> 99966</td></tr>\n",
       "\t<tr><td>Antigua and Barbuda</td><td>North America</td><td>2020-01-01</td><td>  4442</td><td> 124</td><td>  148</td><td>  4170</td><td>  4442</td></tr>\n",
       "</tbody>\n",
       "</table>\n"
      ],
      "text/latex": [
       "A grouped\\_df: 6 × 8\n",
       "\\begin{tabular}{llllllll}\n",
       " Country & Continent & date & conf & death & recov & Active & cumconfirmed\\\\\n",
       " <chr> & <chr> & <date> & <int> & <int> & <int> & <int> & <int>\\\\\n",
       "\\hline\n",
       "\t Afghanistan         & Asia          & 2020-01-01 & 210620 & 9557 & 41727 & 159336 & 210620\\\\\n",
       "\t Albania             & Europe        & 2020-01-01 & 268540 & 4398 & 33634 & 230508 & 268540\\\\\n",
       "\t Algeria             & Africa        & 2020-01-01 & 318715 & 9046 & 67395 & 242274 & 318715\\\\\n",
       "\t Andorra             & Europe        & 2020-01-01 &  31857 &  224 &  7463 &  24170 &  31857\\\\\n",
       "\t Angola              & Africa        & 2020-01-01 &  99966 & 2177 & 11146 &  86643 &  99966\\\\\n",
       "\t Antigua and Barbuda & North America & 2020-01-01 &   4442 &  124 &   148 &   4170 &   4442\\\\\n",
       "\\end{tabular}\n"
      ],
      "text/markdown": [
       "\n",
       "A grouped_df: 6 × 8\n",
       "\n",
       "| Country &lt;chr&gt; | Continent &lt;chr&gt; | date &lt;date&gt; | conf &lt;int&gt; | death &lt;int&gt; | recov &lt;int&gt; | Active &lt;int&gt; | cumconfirmed &lt;int&gt; |\n",
       "|---|---|---|---|---|---|---|---|\n",
       "| Afghanistan         | Asia          | 2020-01-01 | 210620 | 9557 | 41727 | 159336 | 210620 |\n",
       "| Albania             | Europe        | 2020-01-01 | 268540 | 4398 | 33634 | 230508 | 268540 |\n",
       "| Algeria             | Africa        | 2020-01-01 | 318715 | 9046 | 67395 | 242274 | 318715 |\n",
       "| Andorra             | Europe        | 2020-01-01 |  31857 |  224 |  7463 |  24170 |  31857 |\n",
       "| Angola              | Africa        | 2020-01-01 |  99966 | 2177 | 11146 |  86643 |  99966 |\n",
       "| Antigua and Barbuda | North America | 2020-01-01 |   4442 |  124 |   148 |   4170 |   4442 |\n",
       "\n"
      ],
      "text/plain": [
       "  Country             Continent     date       conf   death recov Active\n",
       "1 Afghanistan         Asia          2020-01-01 210620 9557  41727 159336\n",
       "2 Albania             Europe        2020-01-01 268540 4398  33634 230508\n",
       "3 Algeria             Africa        2020-01-01 318715 9046  67395 242274\n",
       "4 Andorra             Europe        2020-01-01  31857  224   7463  24170\n",
       "5 Angola              Africa        2020-01-01  99966 2177  11146  86643\n",
       "6 Antigua and Barbuda North America 2020-01-01   4442  124    148   4170\n",
       "  cumconfirmed\n",
       "1 210620      \n",
       "2 268540      \n",
       "3 318715      \n",
       "4  31857      \n",
       "5  99966      \n",
       "6   4442      "
      ]
     },
     "metadata": {},
     "output_type": "display_data"
    }
   ],
   "source": [
    "head(country)"
   ]
  },
  {
   "cell_type": "markdown",
   "id": "7e7bb69f",
   "metadata": {},
   "source": [
    "## Continets in given dataset"
   ]
  },
  {
   "cell_type": "code",
   "execution_count": 355,
   "id": "a05155f5",
   "metadata": {},
   "outputs": [
    {
     "data": {
      "text/html": [
       "<style>\n",
       ".list-inline {list-style: none; margin:0; padding: 0}\n",
       ".list-inline>li {display: inline-block}\n",
       ".list-inline>li:not(:last-child)::after {content: \"\\00b7\"; padding: 0 .5ex}\n",
       "</style>\n",
       "<ol class=list-inline><li>'Asia'</li><li>'Europe'</li><li>'Africa'</li><li>'North America'</li><li>'South America'</li><li>'Oceania'</li></ol>\n"
      ],
      "text/latex": [
       "\\begin{enumerate*}\n",
       "\\item 'Asia'\n",
       "\\item 'Europe'\n",
       "\\item 'Africa'\n",
       "\\item 'North America'\n",
       "\\item 'South America'\n",
       "\\item 'Oceania'\n",
       "\\end{enumerate*}\n"
      ],
      "text/markdown": [
       "1. 'Asia'\n",
       "2. 'Europe'\n",
       "3. 'Africa'\n",
       "4. 'North America'\n",
       "5. 'South America'\n",
       "6. 'Oceania'\n",
       "\n",
       "\n"
      ],
      "text/plain": [
       "[1] \"Asia\"          \"Europe\"        \"Africa\"        \"North America\"\n",
       "[5] \"South America\" \"Oceania\"      "
      ]
     },
     "metadata": {},
     "output_type": "display_data"
    }
   ],
   "source": [
    "unique(country$Continent)"
   ]
  },
  {
   "cell_type": "code",
   "execution_count": 356,
   "id": "2652b6fc",
   "metadata": {},
   "outputs": [],
   "source": [
    "country = country[order(country$Country, decreasing = TRUE), ]"
   ]
  },
  {
   "cell_type": "code",
   "execution_count": 357,
   "id": "4ebde18c",
   "metadata": {},
   "outputs": [],
   "source": [
    "country = country %>% group_by(date) %>% mutate(days = date - first(country$date) + 1)"
   ]
  },
  {
   "cell_type": "code",
   "execution_count": 358,
   "id": "937e253d",
   "metadata": {},
   "outputs": [
    {
     "data": {
      "text/html": [
       "<table class=\"dataframe\">\n",
       "<caption>A grouped_df: 6 × 9</caption>\n",
       "<thead>\n",
       "\t<tr><th scope=col>Country</th><th scope=col>Continent</th><th scope=col>date</th><th scope=col>conf</th><th scope=col>death</th><th scope=col>recov</th><th scope=col>Active</th><th scope=col>cumconfirmed</th><th scope=col>days</th></tr>\n",
       "\t<tr><th scope=col>&lt;chr&gt;</th><th scope=col>&lt;chr&gt;</th><th scope=col>&lt;date&gt;</th><th scope=col>&lt;int&gt;</th><th scope=col>&lt;int&gt;</th><th scope=col>&lt;int&gt;</th><th scope=col>&lt;int&gt;</th><th scope=col>&lt;int&gt;</th><th scope=col>&lt;drtn&gt;</th></tr>\n",
       "</thead>\n",
       "<tbody>\n",
       "\t<tr><td>Afghanistan</td><td>Asia</td><td>2020-12-26</td><td>209715</td><td>9502</td><td>40784</td><td>159429</td><td>101996359</td><td>361 days</td></tr>\n",
       "\t<tr><td>Afghanistan</td><td>Asia</td><td>2020-12-27</td><td>209815</td><td>9512</td><td>41096</td><td>159207</td><td>102206174</td><td>362 days</td></tr>\n",
       "\t<tr><td>Afghanistan</td><td>Asia</td><td>2020-12-28</td><td>210005</td><td>9525</td><td>41441</td><td>159039</td><td>102416179</td><td>363 days</td></tr>\n",
       "\t<tr><td>Afghanistan</td><td>Asia</td><td>2020-12-29</td><td>210184</td><td>9538</td><td>41543</td><td>159103</td><td>102626363</td><td>364 days</td></tr>\n",
       "\t<tr><td>Afghanistan</td><td>Asia</td><td>2020-12-30</td><td>210386</td><td>9545</td><td>41612</td><td>159229</td><td>102836749</td><td>365 days</td></tr>\n",
       "\t<tr><td>Afghanistan</td><td>Asia</td><td>2020-12-31</td><td>210414</td><td>9545</td><td>41727</td><td>159142</td><td>103047163</td><td>366 days</td></tr>\n",
       "</tbody>\n",
       "</table>\n"
      ],
      "text/latex": [
       "A grouped\\_df: 6 × 9\n",
       "\\begin{tabular}{lllllllll}\n",
       " Country & Continent & date & conf & death & recov & Active & cumconfirmed & days\\\\\n",
       " <chr> & <chr> & <date> & <int> & <int> & <int> & <int> & <int> & <drtn>\\\\\n",
       "\\hline\n",
       "\t Afghanistan & Asia & 2020-12-26 & 209715 & 9502 & 40784 & 159429 & 101996359 & 361 days\\\\\n",
       "\t Afghanistan & Asia & 2020-12-27 & 209815 & 9512 & 41096 & 159207 & 102206174 & 362 days\\\\\n",
       "\t Afghanistan & Asia & 2020-12-28 & 210005 & 9525 & 41441 & 159039 & 102416179 & 363 days\\\\\n",
       "\t Afghanistan & Asia & 2020-12-29 & 210184 & 9538 & 41543 & 159103 & 102626363 & 364 days\\\\\n",
       "\t Afghanistan & Asia & 2020-12-30 & 210386 & 9545 & 41612 & 159229 & 102836749 & 365 days\\\\\n",
       "\t Afghanistan & Asia & 2020-12-31 & 210414 & 9545 & 41727 & 159142 & 103047163 & 366 days\\\\\n",
       "\\end{tabular}\n"
      ],
      "text/markdown": [
       "\n",
       "A grouped_df: 6 × 9\n",
       "\n",
       "| Country &lt;chr&gt; | Continent &lt;chr&gt; | date &lt;date&gt; | conf &lt;int&gt; | death &lt;int&gt; | recov &lt;int&gt; | Active &lt;int&gt; | cumconfirmed &lt;int&gt; | days &lt;drtn&gt; |\n",
       "|---|---|---|---|---|---|---|---|---|\n",
       "| Afghanistan | Asia | 2020-12-26 | 209715 | 9502 | 40784 | 159429 | 101996359 | 361 days |\n",
       "| Afghanistan | Asia | 2020-12-27 | 209815 | 9512 | 41096 | 159207 | 102206174 | 362 days |\n",
       "| Afghanistan | Asia | 2020-12-28 | 210005 | 9525 | 41441 | 159039 | 102416179 | 363 days |\n",
       "| Afghanistan | Asia | 2020-12-29 | 210184 | 9538 | 41543 | 159103 | 102626363 | 364 days |\n",
       "| Afghanistan | Asia | 2020-12-30 | 210386 | 9545 | 41612 | 159229 | 102836749 | 365 days |\n",
       "| Afghanistan | Asia | 2020-12-31 | 210414 | 9545 | 41727 | 159142 | 103047163 | 366 days |\n",
       "\n"
      ],
      "text/plain": [
       "  Country     Continent date       conf   death recov Active cumconfirmed\n",
       "1 Afghanistan Asia      2020-12-26 209715 9502  40784 159429 101996359   \n",
       "2 Afghanistan Asia      2020-12-27 209815 9512  41096 159207 102206174   \n",
       "3 Afghanistan Asia      2020-12-28 210005 9525  41441 159039 102416179   \n",
       "4 Afghanistan Asia      2020-12-29 210184 9538  41543 159103 102626363   \n",
       "5 Afghanistan Asia      2020-12-30 210386 9545  41612 159229 102836749   \n",
       "6 Afghanistan Asia      2020-12-31 210414 9545  41727 159142 103047163   \n",
       "  days    \n",
       "1 361 days\n",
       "2 362 days\n",
       "3 363 days\n",
       "4 364 days\n",
       "5 365 days\n",
       "6 366 days"
      ]
     },
     "metadata": {},
     "output_type": "display_data"
    }
   ],
   "source": [
    "tail(country)"
   ]
  },
  {
   "cell_type": "code",
   "execution_count": 532,
   "id": "9d29bb11",
   "metadata": {},
   "outputs": [
    {
     "data": {
      "text/html": [
       "<table class=\"dataframe\">\n",
       "<caption>A grouped_df: 6 × 9</caption>\n",
       "<thead>\n",
       "\t<tr><th scope=col>Country</th><th scope=col>Continent</th><th scope=col>date</th><th scope=col>conf</th><th scope=col>death</th><th scope=col>recov</th><th scope=col>Active</th><th scope=col>cumconfirmed</th><th scope=col>days</th></tr>\n",
       "\t<tr><th scope=col>&lt;chr&gt;</th><th scope=col>&lt;chr&gt;</th><th scope=col>&lt;date&gt;</th><th scope=col>&lt;int&gt;</th><th scope=col>&lt;int&gt;</th><th scope=col>&lt;int&gt;</th><th scope=col>&lt;int&gt;</th><th scope=col>&lt;int&gt;</th><th scope=col>&lt;drtn&gt;</th></tr>\n",
       "</thead>\n",
       "<tbody>\n",
       "\t<tr><td>Zimbabwe</td><td>Africa</td><td>2020-01-01</td><td>228298</td><td>5386</td><td>11347</td><td>211565</td><td> 228298</td><td>1 days</td></tr>\n",
       "\t<tr><td>Zimbabwe</td><td>Africa</td><td>2020-01-02</td><td>228705</td><td>5394</td><td>11363</td><td>211948</td><td> 457003</td><td>2 days</td></tr>\n",
       "\t<tr><td>Zimbabwe</td><td>Africa</td><td>2020-01-03</td><td>231352</td><td>5427</td><td>11574</td><td>214351</td><td> 688355</td><td>3 days</td></tr>\n",
       "\t<tr><td>Zimbabwe</td><td>Africa</td><td>2020-01-04</td><td>233507</td><td>5462</td><td>11716</td><td>216329</td><td> 921862</td><td>4 days</td></tr>\n",
       "\t<tr><td>Zimbabwe</td><td>Africa</td><td>2020-01-05</td><td>236251</td><td>5510</td><td>11813</td><td>218928</td><td>1158113</td><td>5 days</td></tr>\n",
       "\t<tr><td>Zimbabwe</td><td>Africa</td><td>2020-01-06</td><td>237982</td><td>5539</td><td>11966</td><td>220477</td><td>1396095</td><td>6 days</td></tr>\n",
       "</tbody>\n",
       "</table>\n"
      ],
      "text/latex": [
       "A grouped\\_df: 6 × 9\n",
       "\\begin{tabular}{lllllllll}\n",
       " Country & Continent & date & conf & death & recov & Active & cumconfirmed & days\\\\\n",
       " <chr> & <chr> & <date> & <int> & <int> & <int> & <int> & <int> & <drtn>\\\\\n",
       "\\hline\n",
       "\t Zimbabwe & Africa & 2020-01-01 & 228298 & 5386 & 11347 & 211565 &  228298 & 1 days\\\\\n",
       "\t Zimbabwe & Africa & 2020-01-02 & 228705 & 5394 & 11363 & 211948 &  457003 & 2 days\\\\\n",
       "\t Zimbabwe & Africa & 2020-01-03 & 231352 & 5427 & 11574 & 214351 &  688355 & 3 days\\\\\n",
       "\t Zimbabwe & Africa & 2020-01-04 & 233507 & 5462 & 11716 & 216329 &  921862 & 4 days\\\\\n",
       "\t Zimbabwe & Africa & 2020-01-05 & 236251 & 5510 & 11813 & 218928 & 1158113 & 5 days\\\\\n",
       "\t Zimbabwe & Africa & 2020-01-06 & 237982 & 5539 & 11966 & 220477 & 1396095 & 6 days\\\\\n",
       "\\end{tabular}\n"
      ],
      "text/markdown": [
       "\n",
       "A grouped_df: 6 × 9\n",
       "\n",
       "| Country &lt;chr&gt; | Continent &lt;chr&gt; | date &lt;date&gt; | conf &lt;int&gt; | death &lt;int&gt; | recov &lt;int&gt; | Active &lt;int&gt; | cumconfirmed &lt;int&gt; | days &lt;drtn&gt; |\n",
       "|---|---|---|---|---|---|---|---|---|\n",
       "| Zimbabwe | Africa | 2020-01-01 | 228298 | 5386 | 11347 | 211565 |  228298 | 1 days |\n",
       "| Zimbabwe | Africa | 2020-01-02 | 228705 | 5394 | 11363 | 211948 |  457003 | 2 days |\n",
       "| Zimbabwe | Africa | 2020-01-03 | 231352 | 5427 | 11574 | 214351 |  688355 | 3 days |\n",
       "| Zimbabwe | Africa | 2020-01-04 | 233507 | 5462 | 11716 | 216329 |  921862 | 4 days |\n",
       "| Zimbabwe | Africa | 2020-01-05 | 236251 | 5510 | 11813 | 218928 | 1158113 | 5 days |\n",
       "| Zimbabwe | Africa | 2020-01-06 | 237982 | 5539 | 11966 | 220477 | 1396095 | 6 days |\n",
       "\n"
      ],
      "text/plain": [
       "  Country  Continent date       conf   death recov Active cumconfirmed days  \n",
       "1 Zimbabwe Africa    2020-01-01 228298 5386  11347 211565  228298      1 days\n",
       "2 Zimbabwe Africa    2020-01-02 228705 5394  11363 211948  457003      2 days\n",
       "3 Zimbabwe Africa    2020-01-03 231352 5427  11574 214351  688355      3 days\n",
       "4 Zimbabwe Africa    2020-01-04 233507 5462  11716 216329  921862      4 days\n",
       "5 Zimbabwe Africa    2020-01-05 236251 5510  11813 218928 1158113      5 days\n",
       "6 Zimbabwe Africa    2020-01-06 237982 5539  11966 220477 1396095      6 days"
      ]
     },
     "metadata": {},
     "output_type": "display_data"
    }
   ],
   "source": [
    "head(country)"
   ]
  },
  {
   "cell_type": "markdown",
   "id": "2870622e",
   "metadata": {},
   "source": [
    "## Total Cases world"
   ]
  },
  {
   "cell_type": "code",
   "execution_count": 360,
   "id": "49c592b2",
   "metadata": {},
   "outputs": [
    {
     "data": {
      "text/html": [
       "<table class=\"dataframe\">\n",
       "<caption>A grouped_df: 6 × 9</caption>\n",
       "<thead>\n",
       "\t<tr><th scope=col>Country</th><th scope=col>Continent</th><th scope=col>date</th><th scope=col>conf</th><th scope=col>death</th><th scope=col>recov</th><th scope=col>Active</th><th scope=col>cumconfirmed</th><th scope=col>days</th></tr>\n",
       "\t<tr><th scope=col>&lt;chr&gt;</th><th scope=col>&lt;chr&gt;</th><th scope=col>&lt;date&gt;</th><th scope=col>&lt;int&gt;</th><th scope=col>&lt;int&gt;</th><th scope=col>&lt;int&gt;</th><th scope=col>&lt;int&gt;</th><th scope=col>&lt;int&gt;</th><th scope=col>&lt;drtn&gt;</th></tr>\n",
       "</thead>\n",
       "<tbody>\n",
       "\t<tr><td>Zimbabwe</td><td>Africa</td><td>2020-01-01</td><td>228298</td><td>5386</td><td>11347</td><td>211565</td><td> 228298</td><td>1 days</td></tr>\n",
       "\t<tr><td>Zimbabwe</td><td>Africa</td><td>2020-01-02</td><td>228705</td><td>5394</td><td>11363</td><td>211948</td><td> 457003</td><td>2 days</td></tr>\n",
       "\t<tr><td>Zimbabwe</td><td>Africa</td><td>2020-01-03</td><td>231352</td><td>5427</td><td>11574</td><td>214351</td><td> 688355</td><td>3 days</td></tr>\n",
       "\t<tr><td>Zimbabwe</td><td>Africa</td><td>2020-01-04</td><td>233507</td><td>5462</td><td>11716</td><td>216329</td><td> 921862</td><td>4 days</td></tr>\n",
       "\t<tr><td>Zimbabwe</td><td>Africa</td><td>2020-01-05</td><td>236251</td><td>5510</td><td>11813</td><td>218928</td><td>1158113</td><td>5 days</td></tr>\n",
       "\t<tr><td>Zimbabwe</td><td>Africa</td><td>2020-01-06</td><td>237982</td><td>5539</td><td>11966</td><td>220477</td><td>1396095</td><td>6 days</td></tr>\n",
       "</tbody>\n",
       "</table>\n"
      ],
      "text/latex": [
       "A grouped\\_df: 6 × 9\n",
       "\\begin{tabular}{lllllllll}\n",
       " Country & Continent & date & conf & death & recov & Active & cumconfirmed & days\\\\\n",
       " <chr> & <chr> & <date> & <int> & <int> & <int> & <int> & <int> & <drtn>\\\\\n",
       "\\hline\n",
       "\t Zimbabwe & Africa & 2020-01-01 & 228298 & 5386 & 11347 & 211565 &  228298 & 1 days\\\\\n",
       "\t Zimbabwe & Africa & 2020-01-02 & 228705 & 5394 & 11363 & 211948 &  457003 & 2 days\\\\\n",
       "\t Zimbabwe & Africa & 2020-01-03 & 231352 & 5427 & 11574 & 214351 &  688355 & 3 days\\\\\n",
       "\t Zimbabwe & Africa & 2020-01-04 & 233507 & 5462 & 11716 & 216329 &  921862 & 4 days\\\\\n",
       "\t Zimbabwe & Africa & 2020-01-05 & 236251 & 5510 & 11813 & 218928 & 1158113 & 5 days\\\\\n",
       "\t Zimbabwe & Africa & 2020-01-06 & 237982 & 5539 & 11966 & 220477 & 1396095 & 6 days\\\\\n",
       "\\end{tabular}\n"
      ],
      "text/markdown": [
       "\n",
       "A grouped_df: 6 × 9\n",
       "\n",
       "| Country &lt;chr&gt; | Continent &lt;chr&gt; | date &lt;date&gt; | conf &lt;int&gt; | death &lt;int&gt; | recov &lt;int&gt; | Active &lt;int&gt; | cumconfirmed &lt;int&gt; | days &lt;drtn&gt; |\n",
       "|---|---|---|---|---|---|---|---|---|\n",
       "| Zimbabwe | Africa | 2020-01-01 | 228298 | 5386 | 11347 | 211565 |  228298 | 1 days |\n",
       "| Zimbabwe | Africa | 2020-01-02 | 228705 | 5394 | 11363 | 211948 |  457003 | 2 days |\n",
       "| Zimbabwe | Africa | 2020-01-03 | 231352 | 5427 | 11574 | 214351 |  688355 | 3 days |\n",
       "| Zimbabwe | Africa | 2020-01-04 | 233507 | 5462 | 11716 | 216329 |  921862 | 4 days |\n",
       "| Zimbabwe | Africa | 2020-01-05 | 236251 | 5510 | 11813 | 218928 | 1158113 | 5 days |\n",
       "| Zimbabwe | Africa | 2020-01-06 | 237982 | 5539 | 11966 | 220477 | 1396095 | 6 days |\n",
       "\n"
      ],
      "text/plain": [
       "  Country  Continent date       conf   death recov Active cumconfirmed days  \n",
       "1 Zimbabwe Africa    2020-01-01 228298 5386  11347 211565  228298      1 days\n",
       "2 Zimbabwe Africa    2020-01-02 228705 5394  11363 211948  457003      2 days\n",
       "3 Zimbabwe Africa    2020-01-03 231352 5427  11574 214351  688355      3 days\n",
       "4 Zimbabwe Africa    2020-01-04 233507 5462  11716 216329  921862      4 days\n",
       "5 Zimbabwe Africa    2020-01-05 236251 5510  11813 218928 1158113      5 days\n",
       "6 Zimbabwe Africa    2020-01-06 237982 5539  11966 220477 1396095      6 days"
      ]
     },
     "metadata": {},
     "output_type": "display_data"
    }
   ],
   "source": [
    "df.plotly = country\n",
    "\n",
    "head(df.plotly)"
   ]
  },
  {
   "cell_type": "code",
   "execution_count": 537,
   "id": "39e28a44",
   "metadata": {},
   "outputs": [],
   "source": [
    "df.plotly$Continent = ifelse(is.na(df.plotly$Continent), \"Other\", df.plotly$Continent)\n",
    "\n",
    "conts = df.plotly %>% group_by(Continent) %>% summarise(Deaths = sum(death) /1000000000,\n",
    "                                                        Confirmed = sum(conf)/1000000000,\n",
    "                                                        Recovered = sum(recov)/1000000000,\n",
    "                                                        Active = sum(Active) /1000000000) %>% mutate(parent = \"World\") %>% rename(labels = Continent)"
   ]
  },
  {
   "cell_type": "code",
   "execution_count": 538,
   "id": "51218a80",
   "metadata": {},
   "outputs": [
    {
     "data": {
      "text/html": [
       "<table class=\"dataframe\">\n",
       "<caption>A tibble: 6 × 6</caption>\n",
       "<thead>\n",
       "\t<tr><th scope=col>labels</th><th scope=col>Deaths</th><th scope=col>Confirmed</th><th scope=col>Recovered</th><th scope=col>Active</th><th scope=col>parent</th></tr>\n",
       "\t<tr><th scope=col>&lt;chr&gt;</th><th scope=col>&lt;dbl&gt;</th><th scope=col>&lt;dbl&gt;</th><th scope=col>&lt;dbl&gt;</th><th scope=col>&lt;dbl&gt;</th><th scope=col>&lt;chr&gt;</th></tr>\n",
       "</thead>\n",
       "<tbody>\n",
       "\t<tr><td>Africa       </td><td>0.133826307</td><td> 5.911215</td><td>1.05902845</td><td> 4.718360</td><td>World</td></tr>\n",
       "\t<tr><td>Asia         </td><td>0.703153807</td><td>64.185661</td><td>9.12043488</td><td>54.362072</td><td>World</td></tr>\n",
       "\t<tr><td>Europe       </td><td>0.821656020</td><td>69.516085</td><td>4.12892133</td><td>64.565507</td><td>World</td></tr>\n",
       "\t<tr><td>North America</td><td>0.808809417</td><td>48.031111</td><td>1.61094210</td><td>45.611360</td><td>World</td></tr>\n",
       "\t<tr><td>Oceania      </td><td>0.003999957</td><td> 2.459123</td><td>0.01165049</td><td> 2.443473</td><td>World</td></tr>\n",
       "\t<tr><td>South America</td><td>0.758204115</td><td>29.781518</td><td>5.94077653</td><td>23.082537</td><td>World</td></tr>\n",
       "</tbody>\n",
       "</table>\n"
      ],
      "text/latex": [
       "A tibble: 6 × 6\n",
       "\\begin{tabular}{llllll}\n",
       " labels & Deaths & Confirmed & Recovered & Active & parent\\\\\n",
       " <chr> & <dbl> & <dbl> & <dbl> & <dbl> & <chr>\\\\\n",
       "\\hline\n",
       "\t Africa        & 0.133826307 &  5.911215 & 1.05902845 &  4.718360 & World\\\\\n",
       "\t Asia          & 0.703153807 & 64.185661 & 9.12043488 & 54.362072 & World\\\\\n",
       "\t Europe        & 0.821656020 & 69.516085 & 4.12892133 & 64.565507 & World\\\\\n",
       "\t North America & 0.808809417 & 48.031111 & 1.61094210 & 45.611360 & World\\\\\n",
       "\t Oceania       & 0.003999957 &  2.459123 & 0.01165049 &  2.443473 & World\\\\\n",
       "\t South America & 0.758204115 & 29.781518 & 5.94077653 & 23.082537 & World\\\\\n",
       "\\end{tabular}\n"
      ],
      "text/markdown": [
       "\n",
       "A tibble: 6 × 6\n",
       "\n",
       "| labels &lt;chr&gt; | Deaths &lt;dbl&gt; | Confirmed &lt;dbl&gt; | Recovered &lt;dbl&gt; | Active &lt;dbl&gt; | parent &lt;chr&gt; |\n",
       "|---|---|---|---|---|---|\n",
       "| Africa        | 0.133826307 |  5.911215 | 1.05902845 |  4.718360 | World |\n",
       "| Asia          | 0.703153807 | 64.185661 | 9.12043488 | 54.362072 | World |\n",
       "| Europe        | 0.821656020 | 69.516085 | 4.12892133 | 64.565507 | World |\n",
       "| North America | 0.808809417 | 48.031111 | 1.61094210 | 45.611360 | World |\n",
       "| Oceania       | 0.003999957 |  2.459123 | 0.01165049 |  2.443473 | World |\n",
       "| South America | 0.758204115 | 29.781518 | 5.94077653 | 23.082537 | World |\n",
       "\n"
      ],
      "text/plain": [
       "  labels        Deaths      Confirmed Recovered  Active    parent\n",
       "1 Africa        0.133826307  5.911215 1.05902845  4.718360 World \n",
       "2 Asia          0.703153807 64.185661 9.12043488 54.362072 World \n",
       "3 Europe        0.821656020 69.516085 4.12892133 64.565507 World \n",
       "4 North America 0.808809417 48.031111 1.61094210 45.611360 World \n",
       "5 Oceania       0.003999957  2.459123 0.01165049  2.443473 World \n",
       "6 South America 0.758204115 29.781518 5.94077653 23.082537 World "
      ]
     },
     "metadata": {},
     "output_type": "display_data"
    }
   ],
   "source": [
    "conts"
   ]
  },
  {
   "cell_type": "code",
   "execution_count": 539,
   "id": "1ed5ea53",
   "metadata": {},
   "outputs": [
    {
     "data": {
      "text/html": [
       "<table class=\"dataframe\">\n",
       "<caption>A data.frame: 1 × 6</caption>\n",
       "<thead>\n",
       "\t<tr><th scope=col>labels</th><th scope=col>Deaths</th><th scope=col>Confirmed</th><th scope=col>Recovered</th><th scope=col>Active</th><th scope=col>parent</th></tr>\n",
       "\t<tr><th scope=col>&lt;chr&gt;</th><th scope=col>&lt;dbl&gt;</th><th scope=col>&lt;dbl&gt;</th><th scope=col>&lt;int&gt;</th><th scope=col>&lt;dbl&gt;</th><th scope=col>&lt;chr&gt;</th></tr>\n",
       "</thead>\n",
       "<tbody>\n",
       "\t<tr><td>World</td><td>3.22965</td><td>219.8847</td><td>0</td><td>194.7833</td><td></td></tr>\n",
       "</tbody>\n",
       "</table>\n"
      ],
      "text/latex": [
       "A data.frame: 1 × 6\n",
       "\\begin{tabular}{llllll}\n",
       " labels & Deaths & Confirmed & Recovered & Active & parent\\\\\n",
       " <chr> & <dbl> & <dbl> & <int> & <dbl> & <chr>\\\\\n",
       "\\hline\n",
       "\t World & 3.22965 & 219.8847 & 0 & 194.7833 & \\\\\n",
       "\\end{tabular}\n"
      ],
      "text/markdown": [
       "\n",
       "A data.frame: 1 × 6\n",
       "\n",
       "| labels &lt;chr&gt; | Deaths &lt;dbl&gt; | Confirmed &lt;dbl&gt; | Recovered &lt;int&gt; | Active &lt;dbl&gt; | parent &lt;chr&gt; |\n",
       "|---|---|---|---|---|---|\n",
       "| World | 3.22965 | 219.8847 | 0 | 194.7833 | <!----> |\n",
       "\n"
      ],
      "text/plain": [
       "  labels Deaths  Confirmed Recovered Active   parent\n",
       "1 World  3.22965 219.8847  0         194.7833       "
      ]
     },
     "metadata": {},
     "output_type": "display_data"
    }
   ],
   "source": [
    "world = data.frame(labels = \"World\", Deaths = sum(conts$Deaths),\n",
    "                   Confirmed = sum(conts$Confirmed), Recovered = sum(df.plotly$Recovered),\n",
    "                   Active = sum(conts$Active), parent = \"\")\n",
    "\n",
    "world"
   ]
  },
  {
   "cell_type": "markdown",
   "id": "90f827e9",
   "metadata": {},
   "source": [
    "## Continent wise Cases"
   ]
  },
  {
   "cell_type": "code",
   "execution_count": 364,
   "id": "f0edde7c",
   "metadata": {},
   "outputs": [
    {
     "data": {
      "text/html": [
       "<table class=\"dataframe\">\n",
       "<caption>A tibble: 6 × 5</caption>\n",
       "<thead>\n",
       "\t<tr><th scope=col>Continent</th><th scope=col>Confirmed</th><th scope=col>Deaths</th><th scope=col>Recovered</th><th scope=col>Active</th></tr>\n",
       "\t<tr><th scope=col>&lt;chr&gt;</th><th scope=col>&lt;dbl&gt;</th><th scope=col>&lt;int&gt;</th><th scope=col>&lt;dbl&gt;</th><th scope=col>&lt;dbl&gt;</th></tr>\n",
       "</thead>\n",
       "<tbody>\n",
       "\t<tr><td>Europe       </td><td>69516084817</td><td>821656020</td><td>4128921334</td><td>64565507463</td></tr>\n",
       "\t<tr><td>Asia         </td><td>64185660907</td><td>703153807</td><td>9120434879</td><td>54362072221</td></tr>\n",
       "\t<tr><td>North America</td><td>48031111110</td><td>808809417</td><td>1610942101</td><td>45611359592</td></tr>\n",
       "\t<tr><td>South America</td><td>29781517872</td><td>758204115</td><td>5940776532</td><td>23082537225</td></tr>\n",
       "\t<tr><td>Africa       </td><td> 5911215252</td><td>133826307</td><td>1059028452</td><td> 4718360493</td></tr>\n",
       "\t<tr><td>Oceania      </td><td> 2459123018</td><td>  3999957</td><td>  11650490</td><td> 2443472571</td></tr>\n",
       "</tbody>\n",
       "</table>\n"
      ],
      "text/latex": [
       "A tibble: 6 × 5\n",
       "\\begin{tabular}{lllll}\n",
       " Continent & Confirmed & Deaths & Recovered & Active\\\\\n",
       " <chr> & <dbl> & <int> & <dbl> & <dbl>\\\\\n",
       "\\hline\n",
       "\t Europe        & 69516084817 & 821656020 & 4128921334 & 64565507463\\\\\n",
       "\t Asia          & 64185660907 & 703153807 & 9120434879 & 54362072221\\\\\n",
       "\t North America & 48031111110 & 808809417 & 1610942101 & 45611359592\\\\\n",
       "\t South America & 29781517872 & 758204115 & 5940776532 & 23082537225\\\\\n",
       "\t Africa        &  5911215252 & 133826307 & 1059028452 &  4718360493\\\\\n",
       "\t Oceania       &  2459123018 &   3999957 &   11650490 &  2443472571\\\\\n",
       "\\end{tabular}\n"
      ],
      "text/markdown": [
       "\n",
       "A tibble: 6 × 5\n",
       "\n",
       "| Continent &lt;chr&gt; | Confirmed &lt;dbl&gt; | Deaths &lt;int&gt; | Recovered &lt;dbl&gt; | Active &lt;dbl&gt; |\n",
       "|---|---|---|---|---|\n",
       "| Europe        | 69516084817 | 821656020 | 4128921334 | 64565507463 |\n",
       "| Asia          | 64185660907 | 703153807 | 9120434879 | 54362072221 |\n",
       "| North America | 48031111110 | 808809417 | 1610942101 | 45611359592 |\n",
       "| South America | 29781517872 | 758204115 | 5940776532 | 23082537225 |\n",
       "| Africa        |  5911215252 | 133826307 | 1059028452 |  4718360493 |\n",
       "| Oceania       |  2459123018 |   3999957 |   11650490 |  2443472571 |\n",
       "\n"
      ],
      "text/plain": [
       "  Continent     Confirmed   Deaths    Recovered  Active     \n",
       "1 Europe        69516084817 821656020 4128921334 64565507463\n",
       "2 Asia          64185660907 703153807 9120434879 54362072221\n",
       "3 North America 48031111110 808809417 1610942101 45611359592\n",
       "4 South America 29781517872 758204115 5940776532 23082537225\n",
       "5 Africa         5911215252 133826307 1059028452  4718360493\n",
       "6 Oceania        2459123018   3999957   11650490  2443472571"
      ]
     },
     "metadata": {},
     "output_type": "display_data"
    }
   ],
   "source": [
    "continent.wise = country %>%\n",
    "  group_by(Continent) %>%\n",
    "  summarise(Confirmed = sum(conf),\n",
    "            Deaths = sum(death), #using max because data is cumulative\n",
    "            Recovered = sum(recov),\n",
    "            Active = sum(Active)) %>% arrange(-Active)\n",
    "\n",
    "head(continent.wise)"
   ]
  },
  {
   "cell_type": "markdown",
   "id": "471fd6f7",
   "metadata": {},
   "source": [
    "## Country wise Cases"
   ]
  },
  {
   "cell_type": "code",
   "execution_count": 411,
   "id": "4e8577a3",
   "metadata": {},
   "outputs": [
    {
     "data": {
      "text/html": [
       "<table class=\"dataframe\">\n",
       "<caption>A tibble: 6 × 5</caption>\n",
       "<thead>\n",
       "\t<tr><th scope=col>Country</th><th scope=col>death</th><th scope=col>conf</th><th scope=col>recov</th><th scope=col>active</th></tr>\n",
       "\t<tr><th scope=col>&lt;chr&gt;</th><th scope=col>&lt;int&gt;</th><th scope=col>&lt;dbl&gt;</th><th scope=col>&lt;dbl&gt;</th><th scope=col>&lt;dbl&gt;</th></tr>\n",
       "</thead>\n",
       "<tbody>\n",
       "\t<tr><td>US            </td><td>554358045</td><td>40710695573</td><td> 496971828</td><td>39659365700</td></tr>\n",
       "\t<tr><td>Brazil        </td><td>386985155</td><td>16484963800</td><td>3412350387</td><td>12685628258</td></tr>\n",
       "\t<tr><td>India         </td><td>287470863</td><td>23322917242</td><td>4859387857</td><td>18176058522</td></tr>\n",
       "\t<tr><td>Mexico        </td><td>192708723</td><td> 2999357356</td><td> 498203576</td><td> 2308445057</td></tr>\n",
       "\t<tr><td>Peru          </td><td>138903815</td><td> 1929164382</td><td> 458397918</td><td> 1331862649</td></tr>\n",
       "\t<tr><td>United Kingdom</td><td>129111471</td><td> 8947210561</td><td>   3447793</td><td> 8814651297</td></tr>\n",
       "</tbody>\n",
       "</table>\n"
      ],
      "text/latex": [
       "A tibble: 6 × 5\n",
       "\\begin{tabular}{lllll}\n",
       " Country & death & conf & recov & active\\\\\n",
       " <chr> & <int> & <dbl> & <dbl> & <dbl>\\\\\n",
       "\\hline\n",
       "\t US             & 554358045 & 40710695573 &  496971828 & 39659365700\\\\\n",
       "\t Brazil         & 386985155 & 16484963800 & 3412350387 & 12685628258\\\\\n",
       "\t India          & 287470863 & 23322917242 & 4859387857 & 18176058522\\\\\n",
       "\t Mexico         & 192708723 &  2999357356 &  498203576 &  2308445057\\\\\n",
       "\t Peru           & 138903815 &  1929164382 &  458397918 &  1331862649\\\\\n",
       "\t United Kingdom & 129111471 &  8947210561 &    3447793 &  8814651297\\\\\n",
       "\\end{tabular}\n"
      ],
      "text/markdown": [
       "\n",
       "A tibble: 6 × 5\n",
       "\n",
       "| Country &lt;chr&gt; | death &lt;int&gt; | conf &lt;dbl&gt; | recov &lt;dbl&gt; | active &lt;dbl&gt; |\n",
       "|---|---|---|---|---|\n",
       "| US             | 554358045 | 40710695573 |  496971828 | 39659365700 |\n",
       "| Brazil         | 386985155 | 16484963800 | 3412350387 | 12685628258 |\n",
       "| India          | 287470863 | 23322917242 | 4859387857 | 18176058522 |\n",
       "| Mexico         | 192708723 |  2999357356 |  498203576 |  2308445057 |\n",
       "| Peru           | 138903815 |  1929164382 |  458397918 |  1331862649 |\n",
       "| United Kingdom | 129111471 |  8947210561 |    3447793 |  8814651297 |\n",
       "\n"
      ],
      "text/plain": [
       "  Country        death     conf        recov      active     \n",
       "1 US             554358045 40710695573  496971828 39659365700\n",
       "2 Brazil         386985155 16484963800 3412350387 12685628258\n",
       "3 India          287470863 23322917242 4859387857 18176058522\n",
       "4 Mexico         192708723  2999357356  498203576  2308445057\n",
       "5 Peru           138903815  1929164382  458397918  1331862649\n",
       "6 United Kingdom 129111471  8947210561    3447793  8814651297"
      ]
     },
     "metadata": {},
     "output_type": "display_data"
    }
   ],
   "source": [
    "country.wise = country %>% group_by(Country) %>% \n",
    "                select(Country,conf, death, date,recov, Active) %>% \n",
    "                    summarise(death = sum(death),conf = sum(conf),recov = sum(recov),active = sum(Active))\n",
    "\n",
    "head(country.wise[order(country.wise$death, decreasing = TRUE), ])"
   ]
  },
  {
   "cell_type": "markdown",
   "id": "51b348bf",
   "metadata": {},
   "source": [
    "## Mortality Rate and Recovery Rate"
   ]
  },
  {
   "cell_type": "code",
   "execution_count": null,
   "id": "c3de5914",
   "metadata": {},
   "outputs": [],
   "source": [
    "# Mortality rate can be defined as the ratio of number of deaths recorded against the total number of cases recorded and this \n",
    "# is calculated using the following formula:"
   ]
  },
  {
   "cell_type": "code",
   "execution_count": 401,
   "id": "e3dd1ad8",
   "metadata": {},
   "outputs": [
    {
     "data": {
      "text/html": [
       "<table class=\"dataframe\">\n",
       "<caption>A tibble: 6 × 7</caption>\n",
       "<thead>\n",
       "\t<tr><th scope=col>Country</th><th scope=col>death</th><th scope=col>conf</th><th scope=col>recov</th><th scope=col>active</th><th scope=col>recovery_rate</th><th scope=col>mortality_rate</th></tr>\n",
       "\t<tr><th scope=col>&lt;chr&gt;</th><th scope=col>&lt;int&gt;</th><th scope=col>&lt;dbl&gt;</th><th scope=col>&lt;dbl&gt;</th><th scope=col>&lt;dbl&gt;</th><th scope=col>&lt;dbl&gt;</th><th scope=col>&lt;dbl&gt;</th></tr>\n",
       "</thead>\n",
       "<tbody>\n",
       "\t<tr><td>Afghanistan        </td><td>4274752</td><td>103047163</td><td>18289880</td><td> 80482531</td><td>0.1774904</td><td>0.041483452</td></tr>\n",
       "\t<tr><td>Albania            </td><td>1960524</td><td>142168117</td><td>22652652</td><td>117554941</td><td>0.1593371</td><td>0.013790181</td></tr>\n",
       "\t<tr><td>Algeria            </td><td>3896649</td><td>147482543</td><td>25670233</td><td>117915661</td><td>0.1740561</td><td>0.026421086</td></tr>\n",
       "\t<tr><td>Andorra            </td><td> 103693</td><td> 18372737</td><td> 3085649</td><td> 15183395</td><td>0.1679472</td><td>0.005643852</td></tr>\n",
       "\t<tr><td>Angola             </td><td> 950644</td><td> 46413711</td><td> 5895800</td><td> 39567267</td><td>0.1270271</td><td>0.020481965</td></tr>\n",
       "\t<tr><td>Antigua and Barbuda</td><td>  58975</td><td>  3126475</td><td>  191813</td><td>  2875687</td><td>0.0613512</td><td>0.018863097</td></tr>\n",
       "</tbody>\n",
       "</table>\n"
      ],
      "text/latex": [
       "A tibble: 6 × 7\n",
       "\\begin{tabular}{lllllll}\n",
       " Country & death & conf & recov & active & recovery\\_rate & mortality\\_rate\\\\\n",
       " <chr> & <int> & <dbl> & <dbl> & <dbl> & <dbl> & <dbl>\\\\\n",
       "\\hline\n",
       "\t Afghanistan         & 4274752 & 103047163 & 18289880 &  80482531 & 0.1774904 & 0.041483452\\\\\n",
       "\t Albania             & 1960524 & 142168117 & 22652652 & 117554941 & 0.1593371 & 0.013790181\\\\\n",
       "\t Algeria             & 3896649 & 147482543 & 25670233 & 117915661 & 0.1740561 & 0.026421086\\\\\n",
       "\t Andorra             &  103693 &  18372737 &  3085649 &  15183395 & 0.1679472 & 0.005643852\\\\\n",
       "\t Angola              &  950644 &  46413711 &  5895800 &  39567267 & 0.1270271 & 0.020481965\\\\\n",
       "\t Antigua and Barbuda &   58975 &   3126475 &   191813 &   2875687 & 0.0613512 & 0.018863097\\\\\n",
       "\\end{tabular}\n"
      ],
      "text/markdown": [
       "\n",
       "A tibble: 6 × 7\n",
       "\n",
       "| Country &lt;chr&gt; | death &lt;int&gt; | conf &lt;dbl&gt; | recov &lt;dbl&gt; | active &lt;dbl&gt; | recovery_rate &lt;dbl&gt; | mortality_rate &lt;dbl&gt; |\n",
       "|---|---|---|---|---|---|---|\n",
       "| Afghanistan         | 4274752 | 103047163 | 18289880 |  80482531 | 0.1774904 | 0.041483452 |\n",
       "| Albania             | 1960524 | 142168117 | 22652652 | 117554941 | 0.1593371 | 0.013790181 |\n",
       "| Algeria             | 3896649 | 147482543 | 25670233 | 117915661 | 0.1740561 | 0.026421086 |\n",
       "| Andorra             |  103693 |  18372737 |  3085649 |  15183395 | 0.1679472 | 0.005643852 |\n",
       "| Angola              |  950644 |  46413711 |  5895800 |  39567267 | 0.1270271 | 0.020481965 |\n",
       "| Antigua and Barbuda |   58975 |   3126475 |   191813 |   2875687 | 0.0613512 | 0.018863097 |\n",
       "\n"
      ],
      "text/plain": [
       "  Country             death   conf      recov    active    recovery_rate\n",
       "1 Afghanistan         4274752 103047163 18289880  80482531 0.1774904    \n",
       "2 Albania             1960524 142168117 22652652 117554941 0.1593371    \n",
       "3 Algeria             3896649 147482543 25670233 117915661 0.1740561    \n",
       "4 Andorra              103693  18372737  3085649  15183395 0.1679472    \n",
       "5 Angola               950644  46413711  5895800  39567267 0.1270271    \n",
       "6 Antigua and Barbuda   58975   3126475   191813   2875687 0.0613512    \n",
       "  mortality_rate\n",
       "1 0.041483452   \n",
       "2 0.013790181   \n",
       "3 0.026421086   \n",
       "4 0.005643852   \n",
       "5 0.020481965   \n",
       "6 0.018863097   "
      ]
     },
     "metadata": {},
     "output_type": "display_data"
    }
   ],
   "source": [
    "country.wise = mutate(country.wise,recovery_rate = recov / conf)\n",
    "\n",
    "country.wise = mutate(country.wise,mortality_rate = death / conf)\n",
    "\n",
    "head(country.wise)"
   ]
  },
  {
   "cell_type": "markdown",
   "id": "4a0d8398",
   "metadata": {},
   "source": [
    "## Order based on the highest 'death rate'"
   ]
  },
  {
   "cell_type": "code",
   "execution_count": 409,
   "id": "f20b85dd",
   "metadata": {},
   "outputs": [
    {
     "data": {
      "text/html": [
       "<table class=\"dataframe\">\n",
       "<caption>A tibble: 6 × 7</caption>\n",
       "<thead>\n",
       "\t<tr><th scope=col>Country</th><th scope=col>death</th><th scope=col>conf</th><th scope=col>recov</th><th scope=col>active</th><th scope=col>recovery_rate</th><th scope=col>mortality_rate</th></tr>\n",
       "\t<tr><th scope=col>&lt;chr&gt;</th><th scope=col>&lt;int&gt;</th><th scope=col>&lt;dbl&gt;</th><th scope=col>&lt;dbl&gt;</th><th scope=col>&lt;dbl&gt;</th><th scope=col>&lt;dbl&gt;</th><th scope=col>&lt;dbl&gt;</th></tr>\n",
       "</thead>\n",
       "<tbody>\n",
       "\t<tr><td>Korea, North</td><td>      924</td><td>       170</td><td>        0</td><td>      -754</td><td>0.0000000</td><td>5.43529412</td></tr>\n",
       "\t<tr><td>Yemen       </td><td>  1200252</td><td>   6326599</td><td>   772497</td><td>   4353850</td><td>0.1221030</td><td>0.18971520</td></tr>\n",
       "\t<tr><td>Peru        </td><td>138903815</td><td>1929164382</td><td>458397918</td><td>1331862649</td><td>0.2376148</td><td>0.07200206</td></tr>\n",
       "\t<tr><td>Sudan       </td><td>  2451947</td><td>  34657397</td><td>  6975936</td><td>  25229514</td><td>0.2012827</td><td>0.07074816</td></tr>\n",
       "\t<tr><td>Mexico      </td><td>192708723</td><td>2999357356</td><td>498203576</td><td>2308445057</td><td>0.1661034</td><td>0.06425000</td></tr>\n",
       "\t<tr><td>Syria       </td><td>  1600847</td><td>  27743892</td><td>  3588504</td><td>  22554541</td><td>0.1293439</td><td>0.05770088</td></tr>\n",
       "</tbody>\n",
       "</table>\n"
      ],
      "text/latex": [
       "A tibble: 6 × 7\n",
       "\\begin{tabular}{lllllll}\n",
       " Country & death & conf & recov & active & recovery\\_rate & mortality\\_rate\\\\\n",
       " <chr> & <int> & <dbl> & <dbl> & <dbl> & <dbl> & <dbl>\\\\\n",
       "\\hline\n",
       "\t Korea, North &       924 &        170 &         0 &       -754 & 0.0000000 & 5.43529412\\\\\n",
       "\t Yemen        &   1200252 &    6326599 &    772497 &    4353850 & 0.1221030 & 0.18971520\\\\\n",
       "\t Peru         & 138903815 & 1929164382 & 458397918 & 1331862649 & 0.2376148 & 0.07200206\\\\\n",
       "\t Sudan        &   2451947 &   34657397 &   6975936 &   25229514 & 0.2012827 & 0.07074816\\\\\n",
       "\t Mexico       & 192708723 & 2999357356 & 498203576 & 2308445057 & 0.1661034 & 0.06425000\\\\\n",
       "\t Syria        &   1600847 &   27743892 &   3588504 &   22554541 & 0.1293439 & 0.05770088\\\\\n",
       "\\end{tabular}\n"
      ],
      "text/markdown": [
       "\n",
       "A tibble: 6 × 7\n",
       "\n",
       "| Country &lt;chr&gt; | death &lt;int&gt; | conf &lt;dbl&gt; | recov &lt;dbl&gt; | active &lt;dbl&gt; | recovery_rate &lt;dbl&gt; | mortality_rate &lt;dbl&gt; |\n",
       "|---|---|---|---|---|---|---|\n",
       "| Korea, North |       924 |        170 |         0 |       -754 | 0.0000000 | 5.43529412 |\n",
       "| Yemen        |   1200252 |    6326599 |    772497 |    4353850 | 0.1221030 | 0.18971520 |\n",
       "| Peru         | 138903815 | 1929164382 | 458397918 | 1331862649 | 0.2376148 | 0.07200206 |\n",
       "| Sudan        |   2451947 |   34657397 |   6975936 |   25229514 | 0.2012827 | 0.07074816 |\n",
       "| Mexico       | 192708723 | 2999357356 | 498203576 | 2308445057 | 0.1661034 | 0.06425000 |\n",
       "| Syria        |   1600847 |   27743892 |   3588504 |   22554541 | 0.1293439 | 0.05770088 |\n",
       "\n"
      ],
      "text/plain": [
       "  Country      death     conf       recov     active     recovery_rate\n",
       "1 Korea, North       924        170         0       -754 0.0000000    \n",
       "2 Yemen          1200252    6326599    772497    4353850 0.1221030    \n",
       "3 Peru         138903815 1929164382 458397918 1331862649 0.2376148    \n",
       "4 Sudan          2451947   34657397   6975936   25229514 0.2012827    \n",
       "5 Mexico       192708723 2999357356 498203576 2308445057 0.1661034    \n",
       "6 Syria          1600847   27743892   3588504   22554541 0.1293439    \n",
       "  mortality_rate\n",
       "1 5.43529412    \n",
       "2 0.18971520    \n",
       "3 0.07200206    \n",
       "4 0.07074816    \n",
       "5 0.06425000    \n",
       "6 0.05770088    "
      ]
     },
     "metadata": {},
     "output_type": "display_data"
    }
   ],
   "source": [
    "head(country.wise %>% arrange(desc(mortality_rate)))"
   ]
  },
  {
   "cell_type": "markdown",
   "id": "f3a25cb2",
   "metadata": {},
   "source": [
    "## Order based on the highest 'recovery_rate'"
   ]
  },
  {
   "cell_type": "code",
   "execution_count": 404,
   "id": "7328ae2a",
   "metadata": {},
   "outputs": [
    {
     "data": {
      "text/html": [
       "<table class=\"dataframe\">\n",
       "<caption>A tibble: 6 × 7</caption>\n",
       "<thead>\n",
       "\t<tr><th scope=col>Country</th><th scope=col>death</th><th scope=col>conf</th><th scope=col>recov</th><th scope=col>active</th><th scope=col>recovery_rate</th><th scope=col>mortality_rate</th></tr>\n",
       "\t<tr><th scope=col>&lt;chr&gt;</th><th scope=col>&lt;int&gt;</th><th scope=col>&lt;dbl&gt;</th><th scope=col>&lt;dbl&gt;</th><th scope=col>&lt;dbl&gt;</th><th scope=col>&lt;dbl&gt;</th><th scope=col>&lt;dbl&gt;</th></tr>\n",
       "</thead>\n",
       "<tbody>\n",
       "\t<tr><td>Tajikistan  </td><td>  90841</td><td> 12957081</td><td>  4615407</td><td>  8250833</td><td>0.3562073</td><td>0.007010915</td></tr>\n",
       "\t<tr><td>Saudi Arabia</td><td>6304143</td><td>468740066</td><td>146131996</td><td>316303927</td><td>0.3117549</td><td>0.013449123</td></tr>\n",
       "\t<tr><td>Djibouti    </td><td> 116332</td><td>  9790235</td><td>  2987544</td><td>  6686359</td><td>0.3051555</td><td>0.011882452</td></tr>\n",
       "\t<tr><td>Qatar       </td><td> 413131</td><td>219152536</td><td> 63777386</td><td>154962019</td><td>0.2910182</td><td>0.001885130</td></tr>\n",
       "\t<tr><td>Ghana       </td><td> 781097</td><td> 95544472</td><td> 25893775</td><td> 68869600</td><td>0.2710128</td><td>0.008175219</td></tr>\n",
       "\t<tr><td>Guinea      </td><td> 222092</td><td> 22116046</td><td>  5848704</td><td> 16045250</td><td>0.2644552</td><td>0.010042121</td></tr>\n",
       "</tbody>\n",
       "</table>\n"
      ],
      "text/latex": [
       "A tibble: 6 × 7\n",
       "\\begin{tabular}{lllllll}\n",
       " Country & death & conf & recov & active & recovery\\_rate & mortality\\_rate\\\\\n",
       " <chr> & <int> & <dbl> & <dbl> & <dbl> & <dbl> & <dbl>\\\\\n",
       "\\hline\n",
       "\t Tajikistan   &   90841 &  12957081 &   4615407 &   8250833 & 0.3562073 & 0.007010915\\\\\n",
       "\t Saudi Arabia & 6304143 & 468740066 & 146131996 & 316303927 & 0.3117549 & 0.013449123\\\\\n",
       "\t Djibouti     &  116332 &   9790235 &   2987544 &   6686359 & 0.3051555 & 0.011882452\\\\\n",
       "\t Qatar        &  413131 & 219152536 &  63777386 & 154962019 & 0.2910182 & 0.001885130\\\\\n",
       "\t Ghana        &  781097 &  95544472 &  25893775 &  68869600 & 0.2710128 & 0.008175219\\\\\n",
       "\t Guinea       &  222092 &  22116046 &   5848704 &  16045250 & 0.2644552 & 0.010042121\\\\\n",
       "\\end{tabular}\n"
      ],
      "text/markdown": [
       "\n",
       "A tibble: 6 × 7\n",
       "\n",
       "| Country &lt;chr&gt; | death &lt;int&gt; | conf &lt;dbl&gt; | recov &lt;dbl&gt; | active &lt;dbl&gt; | recovery_rate &lt;dbl&gt; | mortality_rate &lt;dbl&gt; |\n",
       "|---|---|---|---|---|---|---|\n",
       "| Tajikistan   |   90841 |  12957081 |   4615407 |   8250833 | 0.3562073 | 0.007010915 |\n",
       "| Saudi Arabia | 6304143 | 468740066 | 146131996 | 316303927 | 0.3117549 | 0.013449123 |\n",
       "| Djibouti     |  116332 |   9790235 |   2987544 |   6686359 | 0.3051555 | 0.011882452 |\n",
       "| Qatar        |  413131 | 219152536 |  63777386 | 154962019 | 0.2910182 | 0.001885130 |\n",
       "| Ghana        |  781097 |  95544472 |  25893775 |  68869600 | 0.2710128 | 0.008175219 |\n",
       "| Guinea       |  222092 |  22116046 |   5848704 |  16045250 | 0.2644552 | 0.010042121 |\n",
       "\n"
      ],
      "text/plain": [
       "  Country      death   conf      recov     active    recovery_rate\n",
       "1 Tajikistan     90841  12957081   4615407   8250833 0.3562073    \n",
       "2 Saudi Arabia 6304143 468740066 146131996 316303927 0.3117549    \n",
       "3 Djibouti      116332   9790235   2987544   6686359 0.3051555    \n",
       "4 Qatar         413131 219152536  63777386 154962019 0.2910182    \n",
       "5 Ghana         781097  95544472  25893775  68869600 0.2710128    \n",
       "6 Guinea        222092  22116046   5848704  16045250 0.2644552    \n",
       "  mortality_rate\n",
       "1 0.007010915   \n",
       "2 0.013449123   \n",
       "3 0.011882452   \n",
       "4 0.001885130   \n",
       "5 0.008175219   \n",
       "6 0.010042121   "
      ]
     },
     "metadata": {},
     "output_type": "display_data"
    }
   ],
   "source": [
    "head(country.wise %>% arrange(desc(recovery_rate)))"
   ]
  },
  {
   "cell_type": "code",
   "execution_count": 419,
   "id": "2006bb0c",
   "metadata": {},
   "outputs": [
    {
     "data": {
      "text/html": [
       "<table class=\"dataframe\">\n",
       "<caption>A grouped_df: 66612 × 9</caption>\n",
       "<thead>\n",
       "\t<tr><th scope=col>Country</th><th scope=col>Continent</th><th scope=col>date</th><th scope=col>conf</th><th scope=col>death</th><th scope=col>recov</th><th scope=col>Active</th><th scope=col>cumconfirmed</th><th scope=col>days</th></tr>\n",
       "\t<tr><th scope=col>&lt;chr&gt;</th><th scope=col>&lt;chr&gt;</th><th scope=col>&lt;date&gt;</th><th scope=col>&lt;int&gt;</th><th scope=col>&lt;int&gt;</th><th scope=col>&lt;int&gt;</th><th scope=col>&lt;int&gt;</th><th scope=col>&lt;int&gt;</th><th scope=col>&lt;drtn&gt;</th></tr>\n",
       "</thead>\n",
       "<tbody>\n",
       "\t<tr><td>Zimbabwe</td><td>Africa</td><td>2020-01-01</td><td>228298</td><td>5386</td><td>11347</td><td>211565</td><td> 228298</td><td> 1 days</td></tr>\n",
       "\t<tr><td>Zimbabwe</td><td>Africa</td><td>2020-01-02</td><td>228705</td><td>5394</td><td>11363</td><td>211948</td><td> 457003</td><td> 2 days</td></tr>\n",
       "\t<tr><td>Zimbabwe</td><td>Africa</td><td>2020-01-03</td><td>231352</td><td>5427</td><td>11574</td><td>214351</td><td> 688355</td><td> 3 days</td></tr>\n",
       "\t<tr><td>Zimbabwe</td><td>Africa</td><td>2020-01-04</td><td>233507</td><td>5462</td><td>11716</td><td>216329</td><td> 921862</td><td> 4 days</td></tr>\n",
       "\t<tr><td>Zimbabwe</td><td>Africa</td><td>2020-01-05</td><td>236251</td><td>5510</td><td>11813</td><td>218928</td><td>1158113</td><td> 5 days</td></tr>\n",
       "\t<tr><td>Zimbabwe</td><td>Africa</td><td>2020-01-06</td><td>237982</td><td>5539</td><td>11966</td><td>220477</td><td>1396095</td><td> 6 days</td></tr>\n",
       "\t<tr><td>Zimbabwe</td><td>Africa</td><td>2020-01-07</td><td>239957</td><td>5582</td><td>12083</td><td>222292</td><td>1636052</td><td> 7 days</td></tr>\n",
       "\t<tr><td>Zimbabwe</td><td>Africa</td><td>2020-01-08</td><td>241578</td><td>5616</td><td>12184</td><td>223778</td><td>1877630</td><td> 8 days</td></tr>\n",
       "\t<tr><td>Zimbabwe</td><td>Africa</td><td>2020-01-09</td><td>242417</td><td>5631</td><td>12439</td><td>224347</td><td>2120047</td><td> 9 days</td></tr>\n",
       "\t<tr><td>Zimbabwe</td><td>Africa</td><td>2020-01-10</td><td>244477</td><td>5687</td><td>12582</td><td>226208</td><td>2364524</td><td>10 days</td></tr>\n",
       "\t<tr><td>Zimbabwe</td><td>Africa</td><td>2020-01-11</td><td>245297</td><td>5708</td><td>13213</td><td>226376</td><td>2609821</td><td>11 days</td></tr>\n",
       "\t<tr><td>Zimbabwe</td><td>Africa</td><td>2020-01-12</td><td>247672</td><td>5766</td><td>13396</td><td>228510</td><td>2857493</td><td>12 days</td></tr>\n",
       "\t<tr><td>Zimbabwe</td><td>Africa</td><td>2020-01-13</td><td>249340</td><td>5811</td><td>13658</td><td>229871</td><td>3106833</td><td>13 days</td></tr>\n",
       "\t<tr><td>Zimbabwe</td><td>Africa</td><td>2020-01-14</td><td>251005</td><td>5874</td><td>14714</td><td>230417</td><td>3357838</td><td>14 days</td></tr>\n",
       "\t<tr><td>Zimbabwe</td><td>Africa</td><td>2020-01-15</td><td>251746</td><td>5904</td><td>15414</td><td>230428</td><td>3609584</td><td>15 days</td></tr>\n",
       "\t<tr><td>Zimbabwe</td><td>Africa</td><td>2020-01-16</td><td>252959</td><td>5930</td><td>15872</td><td>231157</td><td>3862543</td><td>16 days</td></tr>\n",
       "\t<tr><td>Zimbabwe</td><td>Africa</td><td>2020-01-17</td><td>253663</td><td>5971</td><td>16512</td><td>231180</td><td>4116206</td><td>17 days</td></tr>\n",
       "\t<tr><td>Zimbabwe</td><td>Africa</td><td>2020-01-18</td><td>254352</td><td>6031</td><td>17372</td><td>230949</td><td>4370558</td><td>18 days</td></tr>\n",
       "\t<tr><td>Zimbabwe</td><td>Africa</td><td>2020-01-19</td><td>255562</td><td>6091</td><td>18110</td><td>231361</td><td>4626120</td><td>19 days</td></tr>\n",
       "\t<tr><td>Zimbabwe</td><td>Africa</td><td>2020-01-20</td><td>256960</td><td>6155</td><td>19253</td><td>231552</td><td>4883080</td><td>20 days</td></tr>\n",
       "\t<tr><td>Zimbabwe</td><td>Africa</td><td>2020-01-21</td><td>258008</td><td>6205</td><td>19569</td><td>232234</td><td>5141088</td><td>21 days</td></tr>\n",
       "\t<tr><td>Zimbabwe</td><td>Africa</td><td>2020-01-22</td><td>258702</td><td>6254</td><td>21080</td><td>231368</td><td>5399790</td><td>22 days</td></tr>\n",
       "\t<tr><td>Zimbabwe</td><td>Africa</td><td>2020-01-23</td><td>259261</td><td>6268</td><td>21377</td><td>231616</td><td>5659051</td><td>23 days</td></tr>\n",
       "\t<tr><td>Zimbabwe</td><td>Africa</td><td>2020-01-24</td><td>259861</td><td>6310</td><td>22250</td><td>231301</td><td>5918912</td><td>24 days</td></tr>\n",
       "\t<tr><td>Zimbabwe</td><td>Africa</td><td>2020-01-25</td><td>260422</td><td>6391</td><td>22877</td><td>231154</td><td>6179334</td><td>25 days</td></tr>\n",
       "\t<tr><td>Zimbabwe</td><td>Africa</td><td>2020-01-26</td><td>260947</td><td>6424</td><td>23413</td><td>231110</td><td>6440281</td><td>26 days</td></tr>\n",
       "\t<tr><td>Zimbabwe</td><td>Africa</td><td>2020-01-27</td><td>261400</td><td>6446</td><td>23687</td><td>231267</td><td>6701681</td><td>27 days</td></tr>\n",
       "\t<tr><td>Zimbabwe</td><td>Africa</td><td>2020-01-28</td><td>261979</td><td>6493</td><td>24419</td><td>231067</td><td>6963660</td><td>28 days</td></tr>\n",
       "\t<tr><td>Zimbabwe</td><td>Africa</td><td>2020-01-29</td><td>262367</td><td>6511</td><td>24872</td><td>230984</td><td>7226027</td><td>29 days</td></tr>\n",
       "\t<tr><td>Zimbabwe</td><td>Africa</td><td>2020-01-30</td><td>262733</td><td>6530</td><td>25361</td><td>230842</td><td>7488760</td><td>30 days</td></tr>\n",
       "\t<tr><td>⋮</td><td>⋮</td><td>⋮</td><td>⋮</td><td>⋮</td><td>⋮</td><td>⋮</td><td>⋮</td><td>⋮</td></tr>\n",
       "\t<tr><td>Afghanistan</td><td>Asia</td><td>2020-12-02</td><td>204104</td><td>9105</td><td>37218</td><td>157781</td><td> 97026378</td><td>337 days</td></tr>\n",
       "\t<tr><td>Afghanistan</td><td>Asia</td><td>2020-12-03</td><td>204392</td><td>9133</td><td>37260</td><td>157999</td><td> 97230770</td><td>338 days</td></tr>\n",
       "\t<tr><td>Afghanistan</td><td>Asia</td><td>2020-12-04</td><td>204689</td><td>9153</td><td>37260</td><td>158276</td><td> 97435459</td><td>339 days</td></tr>\n",
       "\t<tr><td>Afghanistan</td><td>Asia</td><td>2020-12-05</td><td>204842</td><td>9159</td><td>37393</td><td>158290</td><td> 97640301</td><td>340 days</td></tr>\n",
       "\t<tr><td>Afghanistan</td><td>Asia</td><td>2020-12-06</td><td>205140</td><td>9181</td><td>37685</td><td>158274</td><td> 97845441</td><td>341 days</td></tr>\n",
       "\t<tr><td>Afghanistan</td><td>Asia</td><td>2020-12-07</td><td>205409</td><td>9192</td><td>37879</td><td>158338</td><td> 98050850</td><td>342 days</td></tr>\n",
       "\t<tr><td>Afghanistan</td><td>Asia</td><td>2020-12-08</td><td>205678</td><td>9221</td><td>37920</td><td>158537</td><td> 98256528</td><td>343 days</td></tr>\n",
       "\t<tr><td>Afghanistan</td><td>Asia</td><td>2020-12-09</td><td>205951</td><td>9229</td><td>38032</td><td>158690</td><td> 98462479</td><td>344 days</td></tr>\n",
       "\t<tr><td>Afghanistan</td><td>Asia</td><td>2020-12-10</td><td>206143</td><td>9245</td><td>38099</td><td>158799</td><td> 98668622</td><td>345 days</td></tr>\n",
       "\t<tr><td>Afghanistan</td><td>Asia</td><td>2020-12-11</td><td>206364</td><td>9264</td><td>38141</td><td>158959</td><td> 98874986</td><td>346 days</td></tr>\n",
       "\t<tr><td>Afghanistan</td><td>Asia</td><td>2020-12-12</td><td>206459</td><td>9277</td><td>38200</td><td>158982</td><td> 99081445</td><td>347 days</td></tr>\n",
       "\t<tr><td>Afghanistan</td><td>Asia</td><td>2020-12-13</td><td>206600</td><td>9288</td><td>38250</td><td>159062</td><td> 99288045</td><td>348 days</td></tr>\n",
       "\t<tr><td>Afghanistan</td><td>Asia</td><td>2020-12-14</td><td>206933</td><td>9300</td><td>38252</td><td>159381</td><td> 99494978</td><td>349 days</td></tr>\n",
       "\t<tr><td>Afghanistan</td><td>Asia</td><td>2020-12-15</td><td>207149</td><td>9306</td><td>38336</td><td>159507</td><td> 99702127</td><td>350 days</td></tr>\n",
       "\t<tr><td>Afghanistan</td><td>Asia</td><td>2020-12-16</td><td>207428</td><td>9333</td><td>38475</td><td>159620</td><td> 99909555</td><td>351 days</td></tr>\n",
       "\t<tr><td>Afghanistan</td><td>Asia</td><td>2020-12-17</td><td>207661</td><td>9349</td><td>38505</td><td>159807</td><td>100117216</td><td>352 days</td></tr>\n",
       "\t<tr><td>Afghanistan</td><td>Asia</td><td>2020-12-18</td><td>207947</td><td>9365</td><td>38540</td><td>160042</td><td>100325163</td><td>353 days</td></tr>\n",
       "\t<tr><td>Afghanistan</td><td>Asia</td><td>2020-12-19</td><td>208243</td><td>9372</td><td>38613</td><td>160258</td><td>100533406</td><td>354 days</td></tr>\n",
       "\t<tr><td>Afghanistan</td><td>Asia</td><td>2020-12-20</td><td>208333</td><td>9389</td><td>39006</td><td>159938</td><td>100741739</td><td>355 days</td></tr>\n",
       "\t<tr><td>Afghanistan</td><td>Asia</td><td>2020-12-21</td><td>208494</td><td>9409</td><td>39508</td><td>159577</td><td>100950233</td><td>356 days</td></tr>\n",
       "\t<tr><td>Afghanistan</td><td>Asia</td><td>2020-12-22</td><td>208729</td><td>9430</td><td>39585</td><td>159714</td><td>101158962</td><td>357 days</td></tr>\n",
       "\t<tr><td>Afghanistan</td><td>Asia</td><td>2020-12-23</td><td>208948</td><td>9451</td><td>39692</td><td>159805</td><td>101367910</td><td>358 days</td></tr>\n",
       "\t<tr><td>Afghanistan</td><td>Asia</td><td>2020-12-24</td><td>209244</td><td>9474</td><td>40359</td><td>159411</td><td>101577154</td><td>359 days</td></tr>\n",
       "\t<tr><td>Afghanistan</td><td>Asia</td><td>2020-12-25</td><td>209490</td><td>9484</td><td>40444</td><td>159562</td><td>101786644</td><td>360 days</td></tr>\n",
       "\t<tr><td>Afghanistan</td><td>Asia</td><td>2020-12-26</td><td>209715</td><td>9502</td><td>40784</td><td>159429</td><td>101996359</td><td>361 days</td></tr>\n",
       "\t<tr><td>Afghanistan</td><td>Asia</td><td>2020-12-27</td><td>209815</td><td>9512</td><td>41096</td><td>159207</td><td>102206174</td><td>362 days</td></tr>\n",
       "\t<tr><td>Afghanistan</td><td>Asia</td><td>2020-12-28</td><td>210005</td><td>9525</td><td>41441</td><td>159039</td><td>102416179</td><td>363 days</td></tr>\n",
       "\t<tr><td>Afghanistan</td><td>Asia</td><td>2020-12-29</td><td>210184</td><td>9538</td><td>41543</td><td>159103</td><td>102626363</td><td>364 days</td></tr>\n",
       "\t<tr><td>Afghanistan</td><td>Asia</td><td>2020-12-30</td><td>210386</td><td>9545</td><td>41612</td><td>159229</td><td>102836749</td><td>365 days</td></tr>\n",
       "\t<tr><td>Afghanistan</td><td>Asia</td><td>2020-12-31</td><td>210414</td><td>9545</td><td>41727</td><td>159142</td><td>103047163</td><td>366 days</td></tr>\n",
       "</tbody>\n",
       "</table>\n"
      ],
      "text/latex": [
       "A grouped\\_df: 66612 × 9\n",
       "\\begin{tabular}{lllllllll}\n",
       " Country & Continent & date & conf & death & recov & Active & cumconfirmed & days\\\\\n",
       " <chr> & <chr> & <date> & <int> & <int> & <int> & <int> & <int> & <drtn>\\\\\n",
       "\\hline\n",
       "\t Zimbabwe & Africa & 2020-01-01 & 228298 & 5386 & 11347 & 211565 &  228298 &  1 days\\\\\n",
       "\t Zimbabwe & Africa & 2020-01-02 & 228705 & 5394 & 11363 & 211948 &  457003 &  2 days\\\\\n",
       "\t Zimbabwe & Africa & 2020-01-03 & 231352 & 5427 & 11574 & 214351 &  688355 &  3 days\\\\\n",
       "\t Zimbabwe & Africa & 2020-01-04 & 233507 & 5462 & 11716 & 216329 &  921862 &  4 days\\\\\n",
       "\t Zimbabwe & Africa & 2020-01-05 & 236251 & 5510 & 11813 & 218928 & 1158113 &  5 days\\\\\n",
       "\t Zimbabwe & Africa & 2020-01-06 & 237982 & 5539 & 11966 & 220477 & 1396095 &  6 days\\\\\n",
       "\t Zimbabwe & Africa & 2020-01-07 & 239957 & 5582 & 12083 & 222292 & 1636052 &  7 days\\\\\n",
       "\t Zimbabwe & Africa & 2020-01-08 & 241578 & 5616 & 12184 & 223778 & 1877630 &  8 days\\\\\n",
       "\t Zimbabwe & Africa & 2020-01-09 & 242417 & 5631 & 12439 & 224347 & 2120047 &  9 days\\\\\n",
       "\t Zimbabwe & Africa & 2020-01-10 & 244477 & 5687 & 12582 & 226208 & 2364524 & 10 days\\\\\n",
       "\t Zimbabwe & Africa & 2020-01-11 & 245297 & 5708 & 13213 & 226376 & 2609821 & 11 days\\\\\n",
       "\t Zimbabwe & Africa & 2020-01-12 & 247672 & 5766 & 13396 & 228510 & 2857493 & 12 days\\\\\n",
       "\t Zimbabwe & Africa & 2020-01-13 & 249340 & 5811 & 13658 & 229871 & 3106833 & 13 days\\\\\n",
       "\t Zimbabwe & Africa & 2020-01-14 & 251005 & 5874 & 14714 & 230417 & 3357838 & 14 days\\\\\n",
       "\t Zimbabwe & Africa & 2020-01-15 & 251746 & 5904 & 15414 & 230428 & 3609584 & 15 days\\\\\n",
       "\t Zimbabwe & Africa & 2020-01-16 & 252959 & 5930 & 15872 & 231157 & 3862543 & 16 days\\\\\n",
       "\t Zimbabwe & Africa & 2020-01-17 & 253663 & 5971 & 16512 & 231180 & 4116206 & 17 days\\\\\n",
       "\t Zimbabwe & Africa & 2020-01-18 & 254352 & 6031 & 17372 & 230949 & 4370558 & 18 days\\\\\n",
       "\t Zimbabwe & Africa & 2020-01-19 & 255562 & 6091 & 18110 & 231361 & 4626120 & 19 days\\\\\n",
       "\t Zimbabwe & Africa & 2020-01-20 & 256960 & 6155 & 19253 & 231552 & 4883080 & 20 days\\\\\n",
       "\t Zimbabwe & Africa & 2020-01-21 & 258008 & 6205 & 19569 & 232234 & 5141088 & 21 days\\\\\n",
       "\t Zimbabwe & Africa & 2020-01-22 & 258702 & 6254 & 21080 & 231368 & 5399790 & 22 days\\\\\n",
       "\t Zimbabwe & Africa & 2020-01-23 & 259261 & 6268 & 21377 & 231616 & 5659051 & 23 days\\\\\n",
       "\t Zimbabwe & Africa & 2020-01-24 & 259861 & 6310 & 22250 & 231301 & 5918912 & 24 days\\\\\n",
       "\t Zimbabwe & Africa & 2020-01-25 & 260422 & 6391 & 22877 & 231154 & 6179334 & 25 days\\\\\n",
       "\t Zimbabwe & Africa & 2020-01-26 & 260947 & 6424 & 23413 & 231110 & 6440281 & 26 days\\\\\n",
       "\t Zimbabwe & Africa & 2020-01-27 & 261400 & 6446 & 23687 & 231267 & 6701681 & 27 days\\\\\n",
       "\t Zimbabwe & Africa & 2020-01-28 & 261979 & 6493 & 24419 & 231067 & 6963660 & 28 days\\\\\n",
       "\t Zimbabwe & Africa & 2020-01-29 & 262367 & 6511 & 24872 & 230984 & 7226027 & 29 days\\\\\n",
       "\t Zimbabwe & Africa & 2020-01-30 & 262733 & 6530 & 25361 & 230842 & 7488760 & 30 days\\\\\n",
       "\t ⋮ & ⋮ & ⋮ & ⋮ & ⋮ & ⋮ & ⋮ & ⋮ & ⋮\\\\\n",
       "\t Afghanistan & Asia & 2020-12-02 & 204104 & 9105 & 37218 & 157781 &  97026378 & 337 days\\\\\n",
       "\t Afghanistan & Asia & 2020-12-03 & 204392 & 9133 & 37260 & 157999 &  97230770 & 338 days\\\\\n",
       "\t Afghanistan & Asia & 2020-12-04 & 204689 & 9153 & 37260 & 158276 &  97435459 & 339 days\\\\\n",
       "\t Afghanistan & Asia & 2020-12-05 & 204842 & 9159 & 37393 & 158290 &  97640301 & 340 days\\\\\n",
       "\t Afghanistan & Asia & 2020-12-06 & 205140 & 9181 & 37685 & 158274 &  97845441 & 341 days\\\\\n",
       "\t Afghanistan & Asia & 2020-12-07 & 205409 & 9192 & 37879 & 158338 &  98050850 & 342 days\\\\\n",
       "\t Afghanistan & Asia & 2020-12-08 & 205678 & 9221 & 37920 & 158537 &  98256528 & 343 days\\\\\n",
       "\t Afghanistan & Asia & 2020-12-09 & 205951 & 9229 & 38032 & 158690 &  98462479 & 344 days\\\\\n",
       "\t Afghanistan & Asia & 2020-12-10 & 206143 & 9245 & 38099 & 158799 &  98668622 & 345 days\\\\\n",
       "\t Afghanistan & Asia & 2020-12-11 & 206364 & 9264 & 38141 & 158959 &  98874986 & 346 days\\\\\n",
       "\t Afghanistan & Asia & 2020-12-12 & 206459 & 9277 & 38200 & 158982 &  99081445 & 347 days\\\\\n",
       "\t Afghanistan & Asia & 2020-12-13 & 206600 & 9288 & 38250 & 159062 &  99288045 & 348 days\\\\\n",
       "\t Afghanistan & Asia & 2020-12-14 & 206933 & 9300 & 38252 & 159381 &  99494978 & 349 days\\\\\n",
       "\t Afghanistan & Asia & 2020-12-15 & 207149 & 9306 & 38336 & 159507 &  99702127 & 350 days\\\\\n",
       "\t Afghanistan & Asia & 2020-12-16 & 207428 & 9333 & 38475 & 159620 &  99909555 & 351 days\\\\\n",
       "\t Afghanistan & Asia & 2020-12-17 & 207661 & 9349 & 38505 & 159807 & 100117216 & 352 days\\\\\n",
       "\t Afghanistan & Asia & 2020-12-18 & 207947 & 9365 & 38540 & 160042 & 100325163 & 353 days\\\\\n",
       "\t Afghanistan & Asia & 2020-12-19 & 208243 & 9372 & 38613 & 160258 & 100533406 & 354 days\\\\\n",
       "\t Afghanistan & Asia & 2020-12-20 & 208333 & 9389 & 39006 & 159938 & 100741739 & 355 days\\\\\n",
       "\t Afghanistan & Asia & 2020-12-21 & 208494 & 9409 & 39508 & 159577 & 100950233 & 356 days\\\\\n",
       "\t Afghanistan & Asia & 2020-12-22 & 208729 & 9430 & 39585 & 159714 & 101158962 & 357 days\\\\\n",
       "\t Afghanistan & Asia & 2020-12-23 & 208948 & 9451 & 39692 & 159805 & 101367910 & 358 days\\\\\n",
       "\t Afghanistan & Asia & 2020-12-24 & 209244 & 9474 & 40359 & 159411 & 101577154 & 359 days\\\\\n",
       "\t Afghanistan & Asia & 2020-12-25 & 209490 & 9484 & 40444 & 159562 & 101786644 & 360 days\\\\\n",
       "\t Afghanistan & Asia & 2020-12-26 & 209715 & 9502 & 40784 & 159429 & 101996359 & 361 days\\\\\n",
       "\t Afghanistan & Asia & 2020-12-27 & 209815 & 9512 & 41096 & 159207 & 102206174 & 362 days\\\\\n",
       "\t Afghanistan & Asia & 2020-12-28 & 210005 & 9525 & 41441 & 159039 & 102416179 & 363 days\\\\\n",
       "\t Afghanistan & Asia & 2020-12-29 & 210184 & 9538 & 41543 & 159103 & 102626363 & 364 days\\\\\n",
       "\t Afghanistan & Asia & 2020-12-30 & 210386 & 9545 & 41612 & 159229 & 102836749 & 365 days\\\\\n",
       "\t Afghanistan & Asia & 2020-12-31 & 210414 & 9545 & 41727 & 159142 & 103047163 & 366 days\\\\\n",
       "\\end{tabular}\n"
      ],
      "text/markdown": [
       "\n",
       "A grouped_df: 66612 × 9\n",
       "\n",
       "| Country &lt;chr&gt; | Continent &lt;chr&gt; | date &lt;date&gt; | conf &lt;int&gt; | death &lt;int&gt; | recov &lt;int&gt; | Active &lt;int&gt; | cumconfirmed &lt;int&gt; | days &lt;drtn&gt; |\n",
       "|---|---|---|---|---|---|---|---|---|\n",
       "| Zimbabwe | Africa | 2020-01-01 | 228298 | 5386 | 11347 | 211565 |  228298 |  1 days |\n",
       "| Zimbabwe | Africa | 2020-01-02 | 228705 | 5394 | 11363 | 211948 |  457003 |  2 days |\n",
       "| Zimbabwe | Africa | 2020-01-03 | 231352 | 5427 | 11574 | 214351 |  688355 |  3 days |\n",
       "| Zimbabwe | Africa | 2020-01-04 | 233507 | 5462 | 11716 | 216329 |  921862 |  4 days |\n",
       "| Zimbabwe | Africa | 2020-01-05 | 236251 | 5510 | 11813 | 218928 | 1158113 |  5 days |\n",
       "| Zimbabwe | Africa | 2020-01-06 | 237982 | 5539 | 11966 | 220477 | 1396095 |  6 days |\n",
       "| Zimbabwe | Africa | 2020-01-07 | 239957 | 5582 | 12083 | 222292 | 1636052 |  7 days |\n",
       "| Zimbabwe | Africa | 2020-01-08 | 241578 | 5616 | 12184 | 223778 | 1877630 |  8 days |\n",
       "| Zimbabwe | Africa | 2020-01-09 | 242417 | 5631 | 12439 | 224347 | 2120047 |  9 days |\n",
       "| Zimbabwe | Africa | 2020-01-10 | 244477 | 5687 | 12582 | 226208 | 2364524 | 10 days |\n",
       "| Zimbabwe | Africa | 2020-01-11 | 245297 | 5708 | 13213 | 226376 | 2609821 | 11 days |\n",
       "| Zimbabwe | Africa | 2020-01-12 | 247672 | 5766 | 13396 | 228510 | 2857493 | 12 days |\n",
       "| Zimbabwe | Africa | 2020-01-13 | 249340 | 5811 | 13658 | 229871 | 3106833 | 13 days |\n",
       "| Zimbabwe | Africa | 2020-01-14 | 251005 | 5874 | 14714 | 230417 | 3357838 | 14 days |\n",
       "| Zimbabwe | Africa | 2020-01-15 | 251746 | 5904 | 15414 | 230428 | 3609584 | 15 days |\n",
       "| Zimbabwe | Africa | 2020-01-16 | 252959 | 5930 | 15872 | 231157 | 3862543 | 16 days |\n",
       "| Zimbabwe | Africa | 2020-01-17 | 253663 | 5971 | 16512 | 231180 | 4116206 | 17 days |\n",
       "| Zimbabwe | Africa | 2020-01-18 | 254352 | 6031 | 17372 | 230949 | 4370558 | 18 days |\n",
       "| Zimbabwe | Africa | 2020-01-19 | 255562 | 6091 | 18110 | 231361 | 4626120 | 19 days |\n",
       "| Zimbabwe | Africa | 2020-01-20 | 256960 | 6155 | 19253 | 231552 | 4883080 | 20 days |\n",
       "| Zimbabwe | Africa | 2020-01-21 | 258008 | 6205 | 19569 | 232234 | 5141088 | 21 days |\n",
       "| Zimbabwe | Africa | 2020-01-22 | 258702 | 6254 | 21080 | 231368 | 5399790 | 22 days |\n",
       "| Zimbabwe | Africa | 2020-01-23 | 259261 | 6268 | 21377 | 231616 | 5659051 | 23 days |\n",
       "| Zimbabwe | Africa | 2020-01-24 | 259861 | 6310 | 22250 | 231301 | 5918912 | 24 days |\n",
       "| Zimbabwe | Africa | 2020-01-25 | 260422 | 6391 | 22877 | 231154 | 6179334 | 25 days |\n",
       "| Zimbabwe | Africa | 2020-01-26 | 260947 | 6424 | 23413 | 231110 | 6440281 | 26 days |\n",
       "| Zimbabwe | Africa | 2020-01-27 | 261400 | 6446 | 23687 | 231267 | 6701681 | 27 days |\n",
       "| Zimbabwe | Africa | 2020-01-28 | 261979 | 6493 | 24419 | 231067 | 6963660 | 28 days |\n",
       "| Zimbabwe | Africa | 2020-01-29 | 262367 | 6511 | 24872 | 230984 | 7226027 | 29 days |\n",
       "| Zimbabwe | Africa | 2020-01-30 | 262733 | 6530 | 25361 | 230842 | 7488760 | 30 days |\n",
       "| ⋮ | ⋮ | ⋮ | ⋮ | ⋮ | ⋮ | ⋮ | ⋮ | ⋮ |\n",
       "| Afghanistan | Asia | 2020-12-02 | 204104 | 9105 | 37218 | 157781 |  97026378 | 337 days |\n",
       "| Afghanistan | Asia | 2020-12-03 | 204392 | 9133 | 37260 | 157999 |  97230770 | 338 days |\n",
       "| Afghanistan | Asia | 2020-12-04 | 204689 | 9153 | 37260 | 158276 |  97435459 | 339 days |\n",
       "| Afghanistan | Asia | 2020-12-05 | 204842 | 9159 | 37393 | 158290 |  97640301 | 340 days |\n",
       "| Afghanistan | Asia | 2020-12-06 | 205140 | 9181 | 37685 | 158274 |  97845441 | 341 days |\n",
       "| Afghanistan | Asia | 2020-12-07 | 205409 | 9192 | 37879 | 158338 |  98050850 | 342 days |\n",
       "| Afghanistan | Asia | 2020-12-08 | 205678 | 9221 | 37920 | 158537 |  98256528 | 343 days |\n",
       "| Afghanistan | Asia | 2020-12-09 | 205951 | 9229 | 38032 | 158690 |  98462479 | 344 days |\n",
       "| Afghanistan | Asia | 2020-12-10 | 206143 | 9245 | 38099 | 158799 |  98668622 | 345 days |\n",
       "| Afghanistan | Asia | 2020-12-11 | 206364 | 9264 | 38141 | 158959 |  98874986 | 346 days |\n",
       "| Afghanistan | Asia | 2020-12-12 | 206459 | 9277 | 38200 | 158982 |  99081445 | 347 days |\n",
       "| Afghanistan | Asia | 2020-12-13 | 206600 | 9288 | 38250 | 159062 |  99288045 | 348 days |\n",
       "| Afghanistan | Asia | 2020-12-14 | 206933 | 9300 | 38252 | 159381 |  99494978 | 349 days |\n",
       "| Afghanistan | Asia | 2020-12-15 | 207149 | 9306 | 38336 | 159507 |  99702127 | 350 days |\n",
       "| Afghanistan | Asia | 2020-12-16 | 207428 | 9333 | 38475 | 159620 |  99909555 | 351 days |\n",
       "| Afghanistan | Asia | 2020-12-17 | 207661 | 9349 | 38505 | 159807 | 100117216 | 352 days |\n",
       "| Afghanistan | Asia | 2020-12-18 | 207947 | 9365 | 38540 | 160042 | 100325163 | 353 days |\n",
       "| Afghanistan | Asia | 2020-12-19 | 208243 | 9372 | 38613 | 160258 | 100533406 | 354 days |\n",
       "| Afghanistan | Asia | 2020-12-20 | 208333 | 9389 | 39006 | 159938 | 100741739 | 355 days |\n",
       "| Afghanistan | Asia | 2020-12-21 | 208494 | 9409 | 39508 | 159577 | 100950233 | 356 days |\n",
       "| Afghanistan | Asia | 2020-12-22 | 208729 | 9430 | 39585 | 159714 | 101158962 | 357 days |\n",
       "| Afghanistan | Asia | 2020-12-23 | 208948 | 9451 | 39692 | 159805 | 101367910 | 358 days |\n",
       "| Afghanistan | Asia | 2020-12-24 | 209244 | 9474 | 40359 | 159411 | 101577154 | 359 days |\n",
       "| Afghanistan | Asia | 2020-12-25 | 209490 | 9484 | 40444 | 159562 | 101786644 | 360 days |\n",
       "| Afghanistan | Asia | 2020-12-26 | 209715 | 9502 | 40784 | 159429 | 101996359 | 361 days |\n",
       "| Afghanistan | Asia | 2020-12-27 | 209815 | 9512 | 41096 | 159207 | 102206174 | 362 days |\n",
       "| Afghanistan | Asia | 2020-12-28 | 210005 | 9525 | 41441 | 159039 | 102416179 | 363 days |\n",
       "| Afghanistan | Asia | 2020-12-29 | 210184 | 9538 | 41543 | 159103 | 102626363 | 364 days |\n",
       "| Afghanistan | Asia | 2020-12-30 | 210386 | 9545 | 41612 | 159229 | 102836749 | 365 days |\n",
       "| Afghanistan | Asia | 2020-12-31 | 210414 | 9545 | 41727 | 159142 | 103047163 | 366 days |\n",
       "\n"
      ],
      "text/plain": [
       "      Country     Continent date       conf   death recov Active cumconfirmed\n",
       "1     Zimbabwe    Africa    2020-01-01 228298 5386  11347 211565  228298     \n",
       "2     Zimbabwe    Africa    2020-01-02 228705 5394  11363 211948  457003     \n",
       "3     Zimbabwe    Africa    2020-01-03 231352 5427  11574 214351  688355     \n",
       "4     Zimbabwe    Africa    2020-01-04 233507 5462  11716 216329  921862     \n",
       "5     Zimbabwe    Africa    2020-01-05 236251 5510  11813 218928 1158113     \n",
       "6     Zimbabwe    Africa    2020-01-06 237982 5539  11966 220477 1396095     \n",
       "7     Zimbabwe    Africa    2020-01-07 239957 5582  12083 222292 1636052     \n",
       "8     Zimbabwe    Africa    2020-01-08 241578 5616  12184 223778 1877630     \n",
       "9     Zimbabwe    Africa    2020-01-09 242417 5631  12439 224347 2120047     \n",
       "10    Zimbabwe    Africa    2020-01-10 244477 5687  12582 226208 2364524     \n",
       "11    Zimbabwe    Africa    2020-01-11 245297 5708  13213 226376 2609821     \n",
       "12    Zimbabwe    Africa    2020-01-12 247672 5766  13396 228510 2857493     \n",
       "13    Zimbabwe    Africa    2020-01-13 249340 5811  13658 229871 3106833     \n",
       "14    Zimbabwe    Africa    2020-01-14 251005 5874  14714 230417 3357838     \n",
       "15    Zimbabwe    Africa    2020-01-15 251746 5904  15414 230428 3609584     \n",
       "16    Zimbabwe    Africa    2020-01-16 252959 5930  15872 231157 3862543     \n",
       "17    Zimbabwe    Africa    2020-01-17 253663 5971  16512 231180 4116206     \n",
       "18    Zimbabwe    Africa    2020-01-18 254352 6031  17372 230949 4370558     \n",
       "19    Zimbabwe    Africa    2020-01-19 255562 6091  18110 231361 4626120     \n",
       "20    Zimbabwe    Africa    2020-01-20 256960 6155  19253 231552 4883080     \n",
       "21    Zimbabwe    Africa    2020-01-21 258008 6205  19569 232234 5141088     \n",
       "22    Zimbabwe    Africa    2020-01-22 258702 6254  21080 231368 5399790     \n",
       "23    Zimbabwe    Africa    2020-01-23 259261 6268  21377 231616 5659051     \n",
       "24    Zimbabwe    Africa    2020-01-24 259861 6310  22250 231301 5918912     \n",
       "25    Zimbabwe    Africa    2020-01-25 260422 6391  22877 231154 6179334     \n",
       "26    Zimbabwe    Africa    2020-01-26 260947 6424  23413 231110 6440281     \n",
       "27    Zimbabwe    Africa    2020-01-27 261400 6446  23687 231267 6701681     \n",
       "28    Zimbabwe    Africa    2020-01-28 261979 6493  24419 231067 6963660     \n",
       "29    Zimbabwe    Africa    2020-01-29 262367 6511  24872 230984 7226027     \n",
       "30    Zimbabwe    Africa    2020-01-30 262733 6530  25361 230842 7488760     \n",
       "⋮     ⋮           ⋮         ⋮          ⋮      ⋮     ⋮     ⋮      ⋮           \n",
       "66583 Afghanistan Asia      2020-12-02 204104 9105  37218 157781  97026378   \n",
       "66584 Afghanistan Asia      2020-12-03 204392 9133  37260 157999  97230770   \n",
       "66585 Afghanistan Asia      2020-12-04 204689 9153  37260 158276  97435459   \n",
       "66586 Afghanistan Asia      2020-12-05 204842 9159  37393 158290  97640301   \n",
       "66587 Afghanistan Asia      2020-12-06 205140 9181  37685 158274  97845441   \n",
       "66588 Afghanistan Asia      2020-12-07 205409 9192  37879 158338  98050850   \n",
       "66589 Afghanistan Asia      2020-12-08 205678 9221  37920 158537  98256528   \n",
       "66590 Afghanistan Asia      2020-12-09 205951 9229  38032 158690  98462479   \n",
       "66591 Afghanistan Asia      2020-12-10 206143 9245  38099 158799  98668622   \n",
       "66592 Afghanistan Asia      2020-12-11 206364 9264  38141 158959  98874986   \n",
       "66593 Afghanistan Asia      2020-12-12 206459 9277  38200 158982  99081445   \n",
       "66594 Afghanistan Asia      2020-12-13 206600 9288  38250 159062  99288045   \n",
       "66595 Afghanistan Asia      2020-12-14 206933 9300  38252 159381  99494978   \n",
       "66596 Afghanistan Asia      2020-12-15 207149 9306  38336 159507  99702127   \n",
       "66597 Afghanistan Asia      2020-12-16 207428 9333  38475 159620  99909555   \n",
       "66598 Afghanistan Asia      2020-12-17 207661 9349  38505 159807 100117216   \n",
       "66599 Afghanistan Asia      2020-12-18 207947 9365  38540 160042 100325163   \n",
       "66600 Afghanistan Asia      2020-12-19 208243 9372  38613 160258 100533406   \n",
       "66601 Afghanistan Asia      2020-12-20 208333 9389  39006 159938 100741739   \n",
       "66602 Afghanistan Asia      2020-12-21 208494 9409  39508 159577 100950233   \n",
       "66603 Afghanistan Asia      2020-12-22 208729 9430  39585 159714 101158962   \n",
       "66604 Afghanistan Asia      2020-12-23 208948 9451  39692 159805 101367910   \n",
       "66605 Afghanistan Asia      2020-12-24 209244 9474  40359 159411 101577154   \n",
       "66606 Afghanistan Asia      2020-12-25 209490 9484  40444 159562 101786644   \n",
       "66607 Afghanistan Asia      2020-12-26 209715 9502  40784 159429 101996359   \n",
       "66608 Afghanistan Asia      2020-12-27 209815 9512  41096 159207 102206174   \n",
       "66609 Afghanistan Asia      2020-12-28 210005 9525  41441 159039 102416179   \n",
       "66610 Afghanistan Asia      2020-12-29 210184 9538  41543 159103 102626363   \n",
       "66611 Afghanistan Asia      2020-12-30 210386 9545  41612 159229 102836749   \n",
       "66612 Afghanistan Asia      2020-12-31 210414 9545  41727 159142 103047163   \n",
       "      days    \n",
       "1      1 days \n",
       "2      2 days \n",
       "3      3 days \n",
       "4      4 days \n",
       "5      5 days \n",
       "6      6 days \n",
       "7      7 days \n",
       "8      8 days \n",
       "9      9 days \n",
       "10    10 days \n",
       "11    11 days \n",
       "12    12 days \n",
       "13    13 days \n",
       "14    14 days \n",
       "15    15 days \n",
       "16    16 days \n",
       "17    17 days \n",
       "18    18 days \n",
       "19    19 days \n",
       "20    20 days \n",
       "21    21 days \n",
       "22    22 days \n",
       "23    23 days \n",
       "24    24 days \n",
       "25    25 days \n",
       "26    26 days \n",
       "27    27 days \n",
       "28    28 days \n",
       "29    29 days \n",
       "30    30 days \n",
       "⋮     ⋮       \n",
       "66583 337 days\n",
       "66584 338 days\n",
       "66585 339 days\n",
       "66586 340 days\n",
       "66587 341 days\n",
       "66588 342 days\n",
       "66589 343 days\n",
       "66590 344 days\n",
       "66591 345 days\n",
       "66592 346 days\n",
       "66593 347 days\n",
       "66594 348 days\n",
       "66595 349 days\n",
       "66596 350 days\n",
       "66597 351 days\n",
       "66598 352 days\n",
       "66599 353 days\n",
       "66600 354 days\n",
       "66601 355 days\n",
       "66602 356 days\n",
       "66603 357 days\n",
       "66604 358 days\n",
       "66605 359 days\n",
       "66606 360 days\n",
       "66607 361 days\n",
       "66608 362 days\n",
       "66609 363 days\n",
       "66610 364 days\n",
       "66611 365 days\n",
       "66612 366 days"
      ]
     },
     "metadata": {},
     "output_type": "display_data"
    }
   ],
   "source": [
    "country"
   ]
  },
  {
   "cell_type": "code",
   "execution_count": 366,
   "id": "babcddc4",
   "metadata": {},
   "outputs": [
    {
     "name": "stderr",
     "output_type": "stream",
     "text": [
      "\u001b[1m\u001b[22mAdding missing grouping variables: `date`, `Country`\n",
      "\u001b[1m\u001b[22m`summarise()` has grouped output by 'date'. You can override using the `.groups` argument.\n"
     ]
    }
   ],
   "source": [
    "# Grouped by day, country\n",
    "full_grouped  = country %>% group_by(date,Country) %>% \n",
    "        select(conf, death, recov, Active) %>% \n",
    "            summarise(death = sum(death),conf = sum(conf),recov = sum(recov),active = sum(Active))"
   ]
  },
  {
   "cell_type": "code",
   "execution_count": 367,
   "id": "7f2a17d6",
   "metadata": {},
   "outputs": [
    {
     "data": {
      "text/html": [
       "<table class=\"dataframe\">\n",
       "<caption>A grouped_df: 6 × 6</caption>\n",
       "<thead>\n",
       "\t<tr><th scope=col>date</th><th scope=col>Country</th><th scope=col>death</th><th scope=col>conf</th><th scope=col>recov</th><th scope=col>active</th></tr>\n",
       "\t<tr><th scope=col>&lt;date&gt;</th><th scope=col>&lt;chr&gt;</th><th scope=col>&lt;int&gt;</th><th scope=col>&lt;int&gt;</th><th scope=col>&lt;int&gt;</th><th scope=col>&lt;int&gt;</th></tr>\n",
       "</thead>\n",
       "<tbody>\n",
       "\t<tr><td>2020-01-01</td><td>Afghanistan        </td><td>9557</td><td>210620</td><td>41727</td><td>159336</td></tr>\n",
       "\t<tr><td>2020-01-01</td><td>Albania            </td><td>4398</td><td>268540</td><td>33634</td><td>230508</td></tr>\n",
       "\t<tr><td>2020-01-01</td><td>Algeria            </td><td>9046</td><td>318715</td><td>67395</td><td>242274</td></tr>\n",
       "\t<tr><td>2020-01-01</td><td>Andorra            </td><td> 224</td><td> 31857</td><td> 7463</td><td> 24170</td></tr>\n",
       "\t<tr><td>2020-01-01</td><td>Angola             </td><td>2177</td><td> 99966</td><td>11146</td><td> 86643</td></tr>\n",
       "\t<tr><td>2020-01-01</td><td>Antigua and Barbuda</td><td> 124</td><td>  4442</td><td>  148</td><td>  4170</td></tr>\n",
       "</tbody>\n",
       "</table>\n"
      ],
      "text/latex": [
       "A grouped\\_df: 6 × 6\n",
       "\\begin{tabular}{llllll}\n",
       " date & Country & death & conf & recov & active\\\\\n",
       " <date> & <chr> & <int> & <int> & <int> & <int>\\\\\n",
       "\\hline\n",
       "\t 2020-01-01 & Afghanistan         & 9557 & 210620 & 41727 & 159336\\\\\n",
       "\t 2020-01-01 & Albania             & 4398 & 268540 & 33634 & 230508\\\\\n",
       "\t 2020-01-01 & Algeria             & 9046 & 318715 & 67395 & 242274\\\\\n",
       "\t 2020-01-01 & Andorra             &  224 &  31857 &  7463 &  24170\\\\\n",
       "\t 2020-01-01 & Angola              & 2177 &  99966 & 11146 &  86643\\\\\n",
       "\t 2020-01-01 & Antigua and Barbuda &  124 &   4442 &   148 &   4170\\\\\n",
       "\\end{tabular}\n"
      ],
      "text/markdown": [
       "\n",
       "A grouped_df: 6 × 6\n",
       "\n",
       "| date &lt;date&gt; | Country &lt;chr&gt; | death &lt;int&gt; | conf &lt;int&gt; | recov &lt;int&gt; | active &lt;int&gt; |\n",
       "|---|---|---|---|---|---|\n",
       "| 2020-01-01 | Afghanistan         | 9557 | 210620 | 41727 | 159336 |\n",
       "| 2020-01-01 | Albania             | 4398 | 268540 | 33634 | 230508 |\n",
       "| 2020-01-01 | Algeria             | 9046 | 318715 | 67395 | 242274 |\n",
       "| 2020-01-01 | Andorra             |  224 |  31857 |  7463 |  24170 |\n",
       "| 2020-01-01 | Angola              | 2177 |  99966 | 11146 |  86643 |\n",
       "| 2020-01-01 | Antigua and Barbuda |  124 |   4442 |   148 |   4170 |\n",
       "\n"
      ],
      "text/plain": [
       "  date       Country             death conf   recov active\n",
       "1 2020-01-01 Afghanistan         9557  210620 41727 159336\n",
       "2 2020-01-01 Albania             4398  268540 33634 230508\n",
       "3 2020-01-01 Algeria             9046  318715 67395 242274\n",
       "4 2020-01-01 Andorra              224   31857  7463  24170\n",
       "5 2020-01-01 Angola              2177   99966 11146  86643\n",
       "6 2020-01-01 Antigua and Barbuda  124    4442   148   4170"
      ]
     },
     "metadata": {},
     "output_type": "display_data"
    }
   ],
   "source": [
    "head(full_grouped)"
   ]
  },
  {
   "cell_type": "code",
   "execution_count": null,
   "id": "f9165082",
   "metadata": {},
   "outputs": [],
   "source": []
  },
  {
   "cell_type": "markdown",
   "id": "96aee90b",
   "metadata": {},
   "source": [
    "## World confirmed"
   ]
  },
  {
   "cell_type": "code",
   "execution_count": 368,
   "id": "46738c71",
   "metadata": {},
   "outputs": [],
   "source": [
    "world <- country %>% group_by(date) %>% \n",
    "            summarize(confirmed=sum(conf),cumSumConf = sum(cumconfirmed),deaths=sum(death), \n",
    "                          recovered=sum(recov)) %>% \n",
    "                                mutate(days = date - first(date) + 1)"
   ]
  },
  {
   "cell_type": "code",
   "execution_count": null,
   "id": "bca24f7c",
   "metadata": {},
   "outputs": [],
   "source": []
  },
  {
   "cell_type": "code",
   "execution_count": 369,
   "id": "5d6856c7",
   "metadata": {},
   "outputs": [
    {
     "data": {
      "image/png": "[encoded data removed]",
      "text/plain": [
       "plot without title"
      ]
     },
     "metadata": {
      "image/png": {
       "height": 420,
       "width": 420
      }
     },
     "output_type": "display_data"
    }
   ],
   "source": [
    "ggplot(world, aes(x=date, y=confirmed)) + \n",
    "  geom_bar(stat=\"identity\", width=0.1) +\n",
    "  theme_classic() +\n",
    "  labs(title = \"Covid-19 Global Confirmed Cases\", x= \"Date\", y= \"Daily confirmed cases\") +\n",
    "  theme(plot.title = element_text(hjust = 0.5))"
   ]
  },
  {
   "cell_type": "code",
   "execution_count": 370,
   "id": "2dacc8a5",
   "metadata": {},
   "outputs": [],
   "source": [
    "## World confirmed # Line graph of cases over time"
   ]
  },
  {
   "cell_type": "code",
   "execution_count": 371,
   "id": "24d17b3d",
   "metadata": {},
   "outputs": [
    {
     "name": "stderr",
     "output_type": "stream",
     "text": [
      "Don't know how to automatically pick scale for object of type difftime. Defaulting to continuous.\n",
      "\n"
     ]
    },
    {
     "data": {
      "image/png": "[encoded data removed]",
      "text/plain": [
       "plot without title"
      ]
     },
     "metadata": {
      "image/png": {
       "height": 420,
       "width": 420
      }
     },
     "output_type": "display_data"
    }
   ],
   "source": [
    "ggplot(world, aes(x=days, y=confirmed)) + geom_line() +\n",
    "  theme_classic() +\n",
    "  labs(title = \"Covid-19 Global Confirmed Cases\", x= \"Days\", y= \"Daily confirmed cases\") +\n",
    "  theme(plot.title = element_text(hjust = 0.5))"
   ]
  },
  {
   "cell_type": "code",
   "execution_count": 372,
   "id": "5da808ad",
   "metadata": {},
   "outputs": [],
   "source": [
    "## World confirmed with counts in log10 scale"
   ]
  },
  {
   "cell_type": "code",
   "execution_count": 373,
   "id": "03eca5cb",
   "metadata": {},
   "outputs": [
    {
     "name": "stderr",
     "output_type": "stream",
     "text": [
      "Don't know how to automatically pick scale for object of type difftime. Defaulting to continuous.\n",
      "\n"
     ]
    },
    {
     "data": {
      "image/png": "[encoded data removed]",
      "text/plain": [
       "plot without title"
      ]
     },
     "metadata": {
      "image/png": {
       "height": 420,
       "width": 420
      }
     },
     "output_type": "display_data"
    }
   ],
   "source": [
    "ggplot(world, aes(x=days, y=confirmed)) + geom_line() +\n",
    "  theme_classic() +\n",
    "  labs(title = \"Covid-19 Global Confirmed Cases\", x= \"Days\", y= \"Daily confirmed cases  (log scale)\") +\n",
    "  theme(plot.title = element_text(hjust = 0.5)) +\n",
    "  scale_y_continuous(trans=\"log10\")"
   ]
  },
  {
   "cell_type": "markdown",
   "id": "9a671c88",
   "metadata": {},
   "source": [
    "## World confirmed, deaths and recovered : Multi Line Plot"
   ]
  },
  {
   "cell_type": "code",
   "execution_count": 431,
   "id": "d85f9ef5",
   "metadata": {},
   "outputs": [
    {
     "data": {
      "image/png": "[encoded data removed]",
      "text/plain": [
       "plot without title"
      ]
     },
     "metadata": {
      "image/png": {
       "height": 420,
       "width": 420
      }
     },
     "output_type": "display_data"
    }
   ],
   "source": [
    "world %>% gather(\"Type\", \"Cases\", -c(date, days)) %>%\n",
    "            ggplot(aes(x=date, y=Cases, colour=Type)) + \n",
    "            geom_line(stat=\"identity\", width=0.2, fill=\"white\") +\n",
    "            theme_classic() +\n",
    "            labs(title = \"Covid-19 Global Cases\", x= \"Date\", y= \"Daily cases\") +\n",
    "            theme(plot.title = element_text(hjust = 0.5))"
   ]
  },
  {
   "cell_type": "code",
   "execution_count": 376,
   "id": "6a3c6576",
   "metadata": {},
   "outputs": [
    {
     "data": {
      "text/html": [
       "<table class=\"dataframe\">\n",
       "<caption>A grouped_df: 6 × 9</caption>\n",
       "<thead>\n",
       "\t<tr><th scope=col>Country</th><th scope=col>Continent</th><th scope=col>date</th><th scope=col>conf</th><th scope=col>death</th><th scope=col>recov</th><th scope=col>Active</th><th scope=col>cumconfirmed</th><th scope=col>days</th></tr>\n",
       "\t<tr><th scope=col>&lt;chr&gt;</th><th scope=col>&lt;chr&gt;</th><th scope=col>&lt;date&gt;</th><th scope=col>&lt;int&gt;</th><th scope=col>&lt;int&gt;</th><th scope=col>&lt;int&gt;</th><th scope=col>&lt;int&gt;</th><th scope=col>&lt;int&gt;</th><th scope=col>&lt;drtn&gt;</th></tr>\n",
       "</thead>\n",
       "<tbody>\n",
       "\t<tr><td>Zimbabwe</td><td>Africa</td><td>2020-01-01</td><td>228298</td><td>5386</td><td>11347</td><td>211565</td><td> 228298</td><td>1 days</td></tr>\n",
       "\t<tr><td>Zimbabwe</td><td>Africa</td><td>2020-01-02</td><td>228705</td><td>5394</td><td>11363</td><td>211948</td><td> 457003</td><td>2 days</td></tr>\n",
       "\t<tr><td>Zimbabwe</td><td>Africa</td><td>2020-01-03</td><td>231352</td><td>5427</td><td>11574</td><td>214351</td><td> 688355</td><td>3 days</td></tr>\n",
       "\t<tr><td>Zimbabwe</td><td>Africa</td><td>2020-01-04</td><td>233507</td><td>5462</td><td>11716</td><td>216329</td><td> 921862</td><td>4 days</td></tr>\n",
       "\t<tr><td>Zimbabwe</td><td>Africa</td><td>2020-01-05</td><td>236251</td><td>5510</td><td>11813</td><td>218928</td><td>1158113</td><td>5 days</td></tr>\n",
       "\t<tr><td>Zimbabwe</td><td>Africa</td><td>2020-01-06</td><td>237982</td><td>5539</td><td>11966</td><td>220477</td><td>1396095</td><td>6 days</td></tr>\n",
       "</tbody>\n",
       "</table>\n"
      ],
      "text/latex": [
       "A grouped\\_df: 6 × 9\n",
       "\\begin{tabular}{lllllllll}\n",
       " Country & Continent & date & conf & death & recov & Active & cumconfirmed & days\\\\\n",
       " <chr> & <chr> & <date> & <int> & <int> & <int> & <int> & <int> & <drtn>\\\\\n",
       "\\hline\n",
       "\t Zimbabwe & Africa & 2020-01-01 & 228298 & 5386 & 11347 & 211565 &  228298 & 1 days\\\\\n",
       "\t Zimbabwe & Africa & 2020-01-02 & 228705 & 5394 & 11363 & 211948 &  457003 & 2 days\\\\\n",
       "\t Zimbabwe & Africa & 2020-01-03 & 231352 & 5427 & 11574 & 214351 &  688355 & 3 days\\\\\n",
       "\t Zimbabwe & Africa & 2020-01-04 & 233507 & 5462 & 11716 & 216329 &  921862 & 4 days\\\\\n",
       "\t Zimbabwe & Africa & 2020-01-05 & 236251 & 5510 & 11813 & 218928 & 1158113 & 5 days\\\\\n",
       "\t Zimbabwe & Africa & 2020-01-06 & 237982 & 5539 & 11966 & 220477 & 1396095 & 6 days\\\\\n",
       "\\end{tabular}\n"
      ],
      "text/markdown": [
       "\n",
       "A grouped_df: 6 × 9\n",
       "\n",
       "| Country &lt;chr&gt; | Continent &lt;chr&gt; | date &lt;date&gt; | conf &lt;int&gt; | death &lt;int&gt; | recov &lt;int&gt; | Active &lt;int&gt; | cumconfirmed &lt;int&gt; | days &lt;drtn&gt; |\n",
       "|---|---|---|---|---|---|---|---|---|\n",
       "| Zimbabwe | Africa | 2020-01-01 | 228298 | 5386 | 11347 | 211565 |  228298 | 1 days |\n",
       "| Zimbabwe | Africa | 2020-01-02 | 228705 | 5394 | 11363 | 211948 |  457003 | 2 days |\n",
       "| Zimbabwe | Africa | 2020-01-03 | 231352 | 5427 | 11574 | 214351 |  688355 | 3 days |\n",
       "| Zimbabwe | Africa | 2020-01-04 | 233507 | 5462 | 11716 | 216329 |  921862 | 4 days |\n",
       "| Zimbabwe | Africa | 2020-01-05 | 236251 | 5510 | 11813 | 218928 | 1158113 | 5 days |\n",
       "| Zimbabwe | Africa | 2020-01-06 | 237982 | 5539 | 11966 | 220477 | 1396095 | 6 days |\n",
       "\n"
      ],
      "text/plain": [
       "  Country  Continent date       conf   death recov Active cumconfirmed days  \n",
       "1 Zimbabwe Africa    2020-01-01 228298 5386  11347 211565  228298      1 days\n",
       "2 Zimbabwe Africa    2020-01-02 228705 5394  11363 211948  457003      2 days\n",
       "3 Zimbabwe Africa    2020-01-03 231352 5427  11574 214351  688355      3 days\n",
       "4 Zimbabwe Africa    2020-01-04 233507 5462  11716 216329  921862      4 days\n",
       "5 Zimbabwe Africa    2020-01-05 236251 5510  11813 218928 1158113      5 days\n",
       "6 Zimbabwe Africa    2020-01-06 237982 5539  11966 220477 1396095      6 days"
      ]
     },
     "metadata": {},
     "output_type": "display_data"
    }
   ],
   "source": [
    "head(country)"
   ]
  },
  {
   "cell_type": "code",
   "execution_count": 377,
   "id": "ad5b8584",
   "metadata": {},
   "outputs": [
    {
     "data": {
      "image/png": "[encoded data removed]",
      "text/plain": [
       "plot without title"
      ]
     },
     "metadata": {
      "image/png": {
       "height": 420,
       "width": 420
      }
     },
     "output_type": "display_data"
    }
   ],
   "source": [
    "country %>% group_by(date) %>% summarise(total_death = sum(death)) %>% ggplot(aes(x=date, y=total_death)) +\n",
    "    geom_line(stat=\"identity\", width=0.1) +  theme_classic() +\n",
    "    labs(title = \"Covid-19 Global Death Cases\", x= \"Date\", y= \"Daily Death cases\") +\n",
    "    theme(plot.title = element_text(hjust = 0.5))\n"
   ]
  },
  {
   "cell_type": "markdown",
   "id": "08978461",
   "metadata": {},
   "source": [
    "## Days Death Analysis"
   ]
  },
  {
   "cell_type": "code",
   "execution_count": 378,
   "id": "7ca10fb1",
   "metadata": {},
   "outputs": [
    {
     "data": {
      "image/png": "[encoded data removed]",
      "text/plain": [
       "plot without title"
      ]
     },
     "metadata": {
      "image/png": {
       "height": 420,
       "width": 420
      }
     },
     "output_type": "display_data"
    }
   ],
   "source": [
    "worldwide_days_death = case.death %>% group_by(date) %>% summarise(total_death = sum(death))\n",
    "\n",
    "ggplot(worldwide_days_death,aes(x = date, y = total_death)) + geom_line() +\n",
    "         theme_classic() + labs(title = \"worldwide Daily Death cases\", x= \"Date\", y= \"Daily Death cases\")"
   ]
  },
  {
   "cell_type": "markdown",
   "id": "472c7401",
   "metadata": {},
   "source": [
    "## Deep Drive into between Feb 15 to March 5th"
   ]
  },
  {
   "cell_type": "code",
   "execution_count": 379,
   "id": "e685eea2",
   "metadata": {},
   "outputs": [
    {
     "data": {
      "image/png": "[encoded data removed]",
      "text/plain": [
       "plot without title"
      ]
     },
     "metadata": {
      "image/png": {
       "height": 420,
       "width": 420
      }
     },
     "output_type": "display_data"
    }
   ],
   "source": [
    "data.frame(days_death[days_death$date > '2020-02-25' & days_death$date< '2020-03-05',]) %>% \n",
    "ggplot(aes(x = date, y = total_death)) + geom_line()"
   ]
  },
  {
   "cell_type": "markdown",
   "id": "4ecc8905",
   "metadata": {},
   "source": [
    "## Days Confirm cases Analysis"
   ]
  },
  {
   "cell_type": "code",
   "execution_count": 380,
   "id": "822c2717",
   "metadata": {},
   "outputs": [
    {
     "data": {
      "image/png": "[encoded data removed]",
      "text/plain": [
       "plot without title"
      ]
     },
     "metadata": {
      "image/png": {
       "height": 420,
       "width": 420
      }
     },
     "output_type": "display_data"
    }
   ],
   "source": [
    "worldwide_days_confirmed = case.conf %>% group_by(date) %>% summarise(total_conf = sum(conf))\n",
    "\n",
    "ggplot(worldwide_days_confirmed,aes(x = date, y = total_conf)) + geom_line() +\n",
    "labs(title = \"worldwide Daily confirmed cases\")"
   ]
  },
  {
   "cell_type": "markdown",
   "id": "3a3d7677",
   "metadata": {},
   "source": [
    "## Days recovered Analysis"
   ]
  },
  {
   "cell_type": "code",
   "execution_count": 381,
   "id": "ee1715a3",
   "metadata": {},
   "outputs": [
    {
     "data": {
      "image/png": "[encoded data removed]",
      "text/plain": [
       "plot without title"
      ]
     },
     "metadata": {
      "image/png": {
       "height": 420,
       "width": 420
      }
     },
     "output_type": "display_data"
    }
   ],
   "source": [
    "worldwide_days_recovered = case.recov %>% group_by(date) %>% summarise(total_recov = sum(recov))\n",
    "\n",
    "ggplot(worldwide_days_recovered,aes(x = date, y = total_recov)) + \n",
    "        geom_line() + \n",
    "        labs(title = \"worldwide Daily recovered cases\")"
   ]
  },
  {
   "cell_type": "code",
   "execution_count": null,
   "id": "958a4d72",
   "metadata": {},
   "outputs": [],
   "source": []
  },
  {
   "cell_type": "markdown",
   "id": "1cdd775e",
   "metadata": {},
   "source": [
    "## Average Cases worldwide Recoved on daily wise"
   ]
  },
  {
   "cell_type": "code",
   "execution_count": 382,
   "id": "24830bcc",
   "metadata": {},
   "outputs": [
    {
     "data": {
      "text/html": [
       "<table class=\"dataframe\">\n",
       "<caption>A tibble: 1 × 1</caption>\n",
       "<thead>\n",
       "\t<tr><th scope=col>mean</th></tr>\n",
       "\t<tr><th scope=col>&lt;dbl&gt;</th></tr>\n",
       "</thead>\n",
       "<tbody>\n",
       "\t<tr><td>59758890</td></tr>\n",
       "</tbody>\n",
       "</table>\n"
      ],
      "text/latex": [
       "A tibble: 1 × 1\n",
       "\\begin{tabular}{l}\n",
       " mean\\\\\n",
       " <dbl>\\\\\n",
       "\\hline\n",
       "\t 59758890\\\\\n",
       "\\end{tabular}\n"
      ],
      "text/markdown": [
       "\n",
       "A tibble: 1 × 1\n",
       "\n",
       "| mean &lt;dbl&gt; |\n",
       "|---|\n",
       "| 59758890 |\n",
       "\n"
      ],
      "text/plain": [
       "  mean    \n",
       "1 59758890"
      ]
     },
     "metadata": {},
     "output_type": "display_data"
    }
   ],
   "source": [
    "worldwide_recov_daily = case.recov %>% group_by(date) %>% summarise(total_recov = sum(recov))\n",
    "\n",
    "worldwide_recov_daily %>% summarise(mean = mean(total_recov))"
   ]
  },
  {
   "cell_type": "code",
   "execution_count": 383,
   "id": "0495cf5f",
   "metadata": {},
   "outputs": [
    {
     "data": {
      "text/html": [
       "<table class=\"dataframe\">\n",
       "<caption>A tibble: 6 × 2</caption>\n",
       "<thead>\n",
       "\t<tr><th scope=col>date</th><th scope=col>total_recov</th></tr>\n",
       "\t<tr><th scope=col>&lt;date&gt;</th><th scope=col>&lt;int&gt;</th></tr>\n",
       "</thead>\n",
       "<tbody>\n",
       "\t<tr><td>2020-01-01</td><td>43812466</td></tr>\n",
       "\t<tr><td>2020-01-02</td><td>44037847</td></tr>\n",
       "\t<tr><td>2020-01-03</td><td>44279255</td></tr>\n",
       "\t<tr><td>2020-01-04</td><td>44542936</td></tr>\n",
       "\t<tr><td>2020-01-05</td><td>44821681</td></tr>\n",
       "\t<tr><td>2020-01-06</td><td>45095685</td></tr>\n",
       "</tbody>\n",
       "</table>\n"
      ],
      "text/latex": [
       "A tibble: 6 × 2\n",
       "\\begin{tabular}{ll}\n",
       " date & total\\_recov\\\\\n",
       " <date> & <int>\\\\\n",
       "\\hline\n",
       "\t 2020-01-01 & 43812466\\\\\n",
       "\t 2020-01-02 & 44037847\\\\\n",
       "\t 2020-01-03 & 44279255\\\\\n",
       "\t 2020-01-04 & 44542936\\\\\n",
       "\t 2020-01-05 & 44821681\\\\\n",
       "\t 2020-01-06 & 45095685\\\\\n",
       "\\end{tabular}\n"
      ],
      "text/markdown": [
       "\n",
       "A tibble: 6 × 2\n",
       "\n",
       "| date &lt;date&gt; | total_recov &lt;int&gt; |\n",
       "|---|---|\n",
       "| 2020-01-01 | 43812466 |\n",
       "| 2020-01-02 | 44037847 |\n",
       "| 2020-01-03 | 44279255 |\n",
       "| 2020-01-04 | 44542936 |\n",
       "| 2020-01-05 | 44821681 |\n",
       "| 2020-01-06 | 45095685 |\n",
       "\n"
      ],
      "text/plain": [
       "  date       total_recov\n",
       "1 2020-01-01 43812466   \n",
       "2 2020-01-02 44037847   \n",
       "3 2020-01-03 44279255   \n",
       "4 2020-01-04 44542936   \n",
       "5 2020-01-05 44821681   \n",
       "6 2020-01-06 45095685   "
      ]
     },
     "metadata": {},
     "output_type": "display_data"
    }
   ],
   "source": [
    "head(worldwide_recov_daily)"
   ]
  },
  {
   "cell_type": "markdown",
   "id": "477de3c7",
   "metadata": {},
   "source": [
    "##### Observation : Average case reported per day from 1st Jan 2021 to 31st Dec 2020 is 59758890 (FIVE CRORE NINETY SEVEN LAKH FIFTY)"
   ]
  },
  {
   "cell_type": "markdown",
   "id": "9fa6a759",
   "metadata": {},
   "source": [
    "## Average Cases worldwide Confirmed on daily wise"
   ]
  },
  {
   "cell_type": "code",
   "execution_count": 384,
   "id": "da96dd18",
   "metadata": {},
   "outputs": [
    {
     "data": {
      "text/html": [
       "<table class=\"dataframe\">\n",
       "<caption>A tibble: 1 × 1</caption>\n",
       "<thead>\n",
       "\t<tr><th scope=col>mean</th></tr>\n",
       "\t<tr><th scope=col>&lt;dbl&gt;</th></tr>\n",
       "</thead>\n",
       "<tbody>\n",
       "\t<tr><td>600777904</td></tr>\n",
       "</tbody>\n",
       "</table>\n"
      ],
      "text/latex": [
       "A tibble: 1 × 1\n",
       "\\begin{tabular}{l}\n",
       " mean\\\\\n",
       " <dbl>\\\\\n",
       "\\hline\n",
       "\t 600777904\\\\\n",
       "\\end{tabular}\n"
      ],
      "text/markdown": [
       "\n",
       "A tibble: 1 × 1\n",
       "\n",
       "| mean &lt;dbl&gt; |\n",
       "|---|\n",
       "| 600777904 |\n",
       "\n"
      ],
      "text/plain": [
       "  mean     \n",
       "1 600777904"
      ]
     },
     "metadata": {},
     "output_type": "display_data"
    }
   ],
   "source": [
    "worldwide_Conf_daily = case.conf %>% group_by(date) %>% summarise(total_conf = sum(conf))\n",
    "\n",
    "worldwide_Conf_daily %>% summarise(mean = mean(total_conf))"
   ]
  },
  {
   "cell_type": "markdown",
   "id": "e35a0723",
   "metadata": {},
   "source": [
    "## Average Cases worldwide Recoved on daily wise"
   ]
  },
  {
   "cell_type": "code",
   "execution_count": 385,
   "id": "958d991a",
   "metadata": {},
   "outputs": [
    {
     "data": {
      "text/html": [
       "<table class=\"dataframe\">\n",
       "<caption>A tibble: 1 × 1</caption>\n",
       "<thead>\n",
       "\t<tr><th scope=col>mean</th></tr>\n",
       "\t<tr><th scope=col>&lt;dbl&gt;</th></tr>\n",
       "</thead>\n",
       "<tbody>\n",
       "\t<tr><td>8824179</td></tr>\n",
       "</tbody>\n",
       "</table>\n"
      ],
      "text/latex": [
       "A tibble: 1 × 1\n",
       "\\begin{tabular}{l}\n",
       " mean\\\\\n",
       " <dbl>\\\\\n",
       "\\hline\n",
       "\t 8824179\\\\\n",
       "\\end{tabular}\n"
      ],
      "text/markdown": [
       "\n",
       "A tibble: 1 × 1\n",
       "\n",
       "| mean &lt;dbl&gt; |\n",
       "|---|\n",
       "| 8824179 |\n",
       "\n"
      ],
      "text/plain": [
       "  mean   \n",
       "1 8824179"
      ]
     },
     "metadata": {},
     "output_type": "display_data"
    }
   ],
   "source": [
    "worldwide_death_daily = case.death %>% group_by(date) %>% summarise(total_death = sum(death))\n",
    "\n",
    "worldwide_death_daily %>% summarise(mean = mean(total_death))"
   ]
  },
  {
   "cell_type": "code",
   "execution_count": null,
   "id": "407b867d",
   "metadata": {},
   "outputs": [],
   "source": []
  },
  {
   "cell_type": "markdown",
   "id": "8a747ae3",
   "metadata": {},
   "source": [
    "## Plot Recovery and Death Rate"
   ]
  },
  {
   "cell_type": "code",
   "execution_count": 424,
   "id": "a8f3c080",
   "metadata": {},
   "outputs": [],
   "source": [
    "daily = country %>% group_by(date) %>% \n",
    "            summarize(confirmed=sum(conf),deaths=sum(death),recovered=sum(recov))\n",
    "\n",
    "daily = mutate(daily,recovery_rate = recovered / confirmed)\n",
    "\n",
    "daily = mutate(daily,mortality_rate = deaths / confirmed)"
   ]
  },
  {
   "cell_type": "code",
   "execution_count": 428,
   "id": "95620433",
   "metadata": {},
   "outputs": [
    {
     "data": {
      "image/png": "[encoded data removed]",
      "text/plain": [
       "plot without title"
      ]
     },
     "metadata": {
      "image/png": {
       "height": 420,
       "width": 420
      }
     },
     "output_type": "display_data"
    }
   ],
   "source": [
    "ggplot(daily,aes(x = date, y = recovery_rate)) + \n",
    "        geom_line() + \n",
    "        labs(title = \"Recovery rate daily basis\")"
   ]
  },
  {
   "cell_type": "code",
   "execution_count": 429,
   "id": "bc88e743",
   "metadata": {},
   "outputs": [
    {
     "data": {
      "image/png": "[encoded data removed]",
      "text/plain": [
       "plot without title"
      ]
     },
     "metadata": {
      "image/png": {
       "height": 420,
       "width": 420
      }
     },
     "output_type": "display_data"
    }
   ],
   "source": [
    "ggplot(daily,aes(x = date, y = mortality_rate)) + \n",
    "        geom_line() + \n",
    "        labs(title = \"Death rate daily basis\")"
   ]
  },
  {
   "cell_type": "code",
   "execution_count": null,
   "id": "da8e6425",
   "metadata": {},
   "outputs": [],
   "source": []
  },
  {
   "cell_type": "markdown",
   "id": "7a434219",
   "metadata": {},
   "source": [
    "## Countries have highest no of cases and deaths per million "
   ]
  },
  {
   "cell_type": "code",
   "execution_count": 482,
   "id": "4d4fa5e7",
   "metadata": {},
   "outputs": [
    {
     "data": {
      "image/png": "[encoded data removed]",
      "text/plain": [
       "plot without title"
      ]
     },
     "metadata": {
      "image/png": {
       "height": 420,
       "width": 420
      }
     },
     "output_type": "display_data"
    }
   ],
   "source": [
    "top_5_countries_case_reported = country %>% \n",
    "                                        group_by(Country) %>% \n",
    "                                            summarise(totalCases = sum(conf)) %>% \n",
    "                                            arrange(desc(totalCases))\n",
    "\n",
    "ggplot(data = head(top_5_countries_case_reported),aes(x = reorder(Country,totalCases),y = totalCases,fill = Country)) + \n",
    "                geom_bar(stat = \"identity\") + \n",
    "                    labs(title = \"Countries with highest number of cases\")"
   ]
  },
  {
   "cell_type": "markdown",
   "id": "eeb8cebb",
   "metadata": {},
   "source": [
    "## Countries with Highest number of Death Cases"
   ]
  },
  {
   "cell_type": "code",
   "execution_count": 473,
   "id": "8fd5d672",
   "metadata": {},
   "outputs": [
    {
     "data": {
      "text/html": [
       "<table class=\"dataframe\">\n",
       "<caption>A tibble: 6 × 2</caption>\n",
       "<thead>\n",
       "\t<tr><th scope=col>Country</th><th scope=col>totalCases</th></tr>\n",
       "\t<tr><th scope=col>&lt;chr&gt;</th><th scope=col>&lt;int&gt;</th></tr>\n",
       "</thead>\n",
       "<tbody>\n",
       "\t<tr><td>US            </td><td>554358045</td></tr>\n",
       "\t<tr><td>Brazil        </td><td>386985155</td></tr>\n",
       "\t<tr><td>India         </td><td>287470863</td></tr>\n",
       "\t<tr><td>Mexico        </td><td>192708723</td></tr>\n",
       "\t<tr><td>Peru          </td><td>138903815</td></tr>\n",
       "\t<tr><td>United Kingdom</td><td>129111471</td></tr>\n",
       "</tbody>\n",
       "</table>\n"
      ],
      "text/latex": [
       "A tibble: 6 × 2\n",
       "\\begin{tabular}{ll}\n",
       " Country & totalCases\\\\\n",
       " <chr> & <int>\\\\\n",
       "\\hline\n",
       "\t US             & 554358045\\\\\n",
       "\t Brazil         & 386985155\\\\\n",
       "\t India          & 287470863\\\\\n",
       "\t Mexico         & 192708723\\\\\n",
       "\t Peru           & 138903815\\\\\n",
       "\t United Kingdom & 129111471\\\\\n",
       "\\end{tabular}\n"
      ],
      "text/markdown": [
       "\n",
       "A tibble: 6 × 2\n",
       "\n",
       "| Country &lt;chr&gt; | totalCases &lt;int&gt; |\n",
       "|---|---|\n",
       "| US             | 554358045 |\n",
       "| Brazil         | 386985155 |\n",
       "| India          | 287470863 |\n",
       "| Mexico         | 192708723 |\n",
       "| Peru           | 138903815 |\n",
       "| United Kingdom | 129111471 |\n",
       "\n"
      ],
      "text/plain": [
       "  Country        totalCases\n",
       "1 US             554358045 \n",
       "2 Brazil         386985155 \n",
       "3 India          287470863 \n",
       "4 Mexico         192708723 \n",
       "5 Peru           138903815 \n",
       "6 United Kingdom 129111471 "
      ]
     },
     "metadata": {},
     "output_type": "display_data"
    }
   ],
   "source": [
    "top_5_countries_death =  country %>% \n",
    "                            group_by(Country) %>% \n",
    "                                summarise(totalCases = sum(death)) %>% \n",
    "                                    arrange(desc(totalCases))\n",
    "head(top_5_countries_death)"
   ]
  },
  {
   "cell_type": "code",
   "execution_count": 481,
   "id": "7ae3f93f",
   "metadata": {},
   "outputs": [
    {
     "data": {
      "image/png": "[encoded data removed]",
      "text/plain": [
       "plot without title"
      ]
     },
     "metadata": {
      "image/png": {
       "height": 420,
       "width": 420
      }
     },
     "output_type": "display_data"
    }
   ],
   "source": [
    "ggplot(data = head(top_5_countries_death),aes(x = reorder(Country,totalCases),y = totalCases,fill = Country)) + \n",
    "                geom_bar(stat = \"identity\") + \n",
    "                    labs(title = \"Countries with highest number of death cases\")"
   ]
  },
  {
   "cell_type": "markdown",
   "id": "4e4ed91d",
   "metadata": {},
   "source": [
    "## Countries with lowest number of Death Cases"
   ]
  },
  {
   "cell_type": "code",
   "execution_count": 472,
   "id": "91a08186",
   "metadata": {},
   "outputs": [
    {
     "data": {
      "text/html": [
       "<table class=\"dataframe\">\n",
       "<caption>A tibble: 6 × 2</caption>\n",
       "<thead>\n",
       "\t<tr><th scope=col>Country</th><th scope=col>totalCases</th></tr>\n",
       "\t<tr><th scope=col>&lt;chr&gt;</th><th scope=col>&lt;int&gt;</th></tr>\n",
       "</thead>\n",
       "<tbody>\n",
       "\t<tr><td>Micronesia      </td><td>2080</td></tr>\n",
       "\t<tr><td>Palau           </td><td>1452</td></tr>\n",
       "\t<tr><td>Marshall Islands</td><td> 981</td></tr>\n",
       "\t<tr><td>Korea, North    </td><td> 924</td></tr>\n",
       "\t<tr><td>Nauru           </td><td> 105</td></tr>\n",
       "\t<tr><td>Tuvalu          </td><td>   0</td></tr>\n",
       "</tbody>\n",
       "</table>\n"
      ],
      "text/latex": [
       "A tibble: 6 × 2\n",
       "\\begin{tabular}{ll}\n",
       " Country & totalCases\\\\\n",
       " <chr> & <int>\\\\\n",
       "\\hline\n",
       "\t Micronesia       & 2080\\\\\n",
       "\t Palau            & 1452\\\\\n",
       "\t Marshall Islands &  981\\\\\n",
       "\t Korea, North     &  924\\\\\n",
       "\t Nauru            &  105\\\\\n",
       "\t Tuvalu           &    0\\\\\n",
       "\\end{tabular}\n"
      ],
      "text/markdown": [
       "\n",
       "A tibble: 6 × 2\n",
       "\n",
       "| Country &lt;chr&gt; | totalCases &lt;int&gt; |\n",
       "|---|---|\n",
       "| Micronesia       | 2080 |\n",
       "| Palau            | 1452 |\n",
       "| Marshall Islands |  981 |\n",
       "| Korea, North     |  924 |\n",
       "| Nauru            |  105 |\n",
       "| Tuvalu           |    0 |\n",
       "\n"
      ],
      "text/plain": [
       "  Country          totalCases\n",
       "1 Micronesia       2080      \n",
       "2 Palau            1452      \n",
       "3 Marshall Islands  981      \n",
       "4 Korea, North      924      \n",
       "5 Nauru             105      \n",
       "6 Tuvalu              0      "
      ]
     },
     "metadata": {},
     "output_type": "display_data"
    }
   ],
   "source": [
    "tail(top_5_countries_death)"
   ]
  },
  {
   "cell_type": "code",
   "execution_count": 479,
   "id": "9bb7e346",
   "metadata": {},
   "outputs": [
    {
     "data": {
      "image/png": "[encoded data removed]",
      "text/plain": [
       "plot without title"
      ]
     },
     "metadata": {
      "image/png": {
       "height": 420,
       "width": 420
      }
     },
     "output_type": "display_data"
    }
   ],
   "source": [
    "ggplot(data = tail(top_5_countries_death),aes(x = reorder(Country,totalCases),y = totalCases,fill = Country)) + \n",
    "                geom_bar(stat = \"identity\") + \n",
    "                    labs(title = \"Countries with Lowest number of death cases\")"
   ]
  },
  {
   "cell_type": "markdown",
   "id": "b921b51f",
   "metadata": {},
   "source": [
    "## Monthly_case"
   ]
  },
  {
   "cell_type": "code",
   "execution_count": 530,
   "id": "45354e63",
   "metadata": {},
   "outputs": [],
   "source": [
    "monthly_case = country %>% group_by(month = lubridate::floor_date(date, 'month')) %>%\n",
    "    summarize(total_conf_Bilion = sum(conf)/ 1000000000,total_death_Bilion = sum(death)/ 1000000000)\n",
    "\n",
    "monthly_case = data.frame(monthly_case)\n",
    "\n",
    "monthly_case = monthly_case %>% arrange(desc(total_death_Bilion))"
   ]
  },
  {
   "cell_type": "code",
   "execution_count": 531,
   "id": "e422ddd9",
   "metadata": {},
   "outputs": [
    {
     "data": {
      "text/html": [
       "<table class=\"dataframe\">\n",
       "<caption>A data.frame: 6 × 3</caption>\n",
       "<thead>\n",
       "\t<tr><th></th><th scope=col>month</th><th scope=col>total_conf_Bilion</th><th scope=col>total_death_Bilion</th></tr>\n",
       "\t<tr><th></th><th scope=col>&lt;date&gt;</th><th scope=col>&lt;dbl&gt;</th><th scope=col>&lt;dbl&gt;</th></tr>\n",
       "</thead>\n",
       "<tbody>\n",
       "\t<tr><th scope=row>1</th><td>2020-09-01</td><td>24.72315</td><td>0.3439208</td></tr>\n",
       "\t<tr><th scope=row>2</th><td>2020-08-01</td><td>24.23736</td><td>0.3402134</td></tr>\n",
       "\t<tr><th scope=row>3</th><td>2020-07-01</td><td>22.59159</td><td>0.3244619</td></tr>\n",
       "\t<tr><th scope=row>4</th><td>2020-06-01</td><td>20.64861</td><td>0.3009054</td></tr>\n",
       "\t<tr><th scope=row>5</th><td>2020-05-01</td><td>20.37789</td><td>0.2954270</td></tr>\n",
       "\t<tr><th scope=row>6</th><td>2020-04-01</td><td>18.44656</td><td>0.2672251</td></tr>\n",
       "</tbody>\n",
       "</table>\n"
      ],
      "text/latex": [
       "A data.frame: 6 × 3\n",
       "\\begin{tabular}{r|lll}\n",
       "  & month & total\\_conf\\_Bilion & total\\_death\\_Bilion\\\\\n",
       "  & <date> & <dbl> & <dbl>\\\\\n",
       "\\hline\n",
       "\t1 & 2020-09-01 & 24.72315 & 0.3439208\\\\\n",
       "\t2 & 2020-08-01 & 24.23736 & 0.3402134\\\\\n",
       "\t3 & 2020-07-01 & 22.59159 & 0.3244619\\\\\n",
       "\t4 & 2020-06-01 & 20.64861 & 0.3009054\\\\\n",
       "\t5 & 2020-05-01 & 20.37789 & 0.2954270\\\\\n",
       "\t6 & 2020-04-01 & 18.44656 & 0.2672251\\\\\n",
       "\\end{tabular}\n"
      ],
      "text/markdown": [
       "\n",
       "A data.frame: 6 × 3\n",
       "\n",
       "| <!--/--> | month &lt;date&gt; | total_conf_Bilion &lt;dbl&gt; | total_death_Bilion &lt;dbl&gt; |\n",
       "|---|---|---|---|\n",
       "| 1 | 2020-09-01 | 24.72315 | 0.3439208 |\n",
       "| 2 | 2020-08-01 | 24.23736 | 0.3402134 |\n",
       "| 3 | 2020-07-01 | 22.59159 | 0.3244619 |\n",
       "| 4 | 2020-06-01 | 20.64861 | 0.3009054 |\n",
       "| 5 | 2020-05-01 | 20.37789 | 0.2954270 |\n",
       "| 6 | 2020-04-01 | 18.44656 | 0.2672251 |\n",
       "\n"
      ],
      "text/plain": [
       "  month      total_conf_Bilion total_death_Bilion\n",
       "1 2020-09-01 24.72315          0.3439208         \n",
       "2 2020-08-01 24.23736          0.3402134         \n",
       "3 2020-07-01 22.59159          0.3244619         \n",
       "4 2020-06-01 20.64861          0.3009054         \n",
       "5 2020-05-01 20.37789          0.2954270         \n",
       "6 2020-04-01 18.44656          0.2672251         "
      ]
     },
     "metadata": {},
     "output_type": "display_data"
    }
   ],
   "source": [
    "head(monthly_case)"
   ]
  },
  {
   "cell_type": "code",
   "execution_count": 522,
   "id": "819fecc1",
   "metadata": {},
   "outputs": [
    {
     "data": {
      "image/png": "[encoded data removed]",
      "text/plain": [
       "plot without title"
      ]
     },
     "metadata": {
      "image/png": {
       "height": 420,
       "width": 420
      }
     },
     "output_type": "display_data"
    }
   ],
   "source": [
    "ggplot() + geom_line(data =monthly_case, aes(x=month,y=total_conf_Bilion),color='red') + \n",
    "           geom_line(data =monthly_case, aes(x=month,y=total_death_Bilion),color='blue') + geom_point()"
   ]
  },
  {
   "cell_type": "code",
   "execution_count": null,
   "id": "ff77fdf7",
   "metadata": {},
   "outputs": [],
   "source": [
    "# Observation : Highhest conformation case reported on the month 'October 2020'\n",
    "#               Highest death cases reported on month 'Sepetember 2020'"
   ]
  },
  {
   "cell_type": "code",
   "execution_count": 490,
   "id": "e651e0b3",
   "metadata": {},
   "outputs": [
    {
     "data": {
      "text/html": [
       "<table class=\"dataframe\">\n",
       "<caption>A grouped_df: 6 × 9</caption>\n",
       "<thead>\n",
       "\t<tr><th scope=col>Country</th><th scope=col>Continent</th><th scope=col>date</th><th scope=col>conf</th><th scope=col>death</th><th scope=col>recov</th><th scope=col>Active</th><th scope=col>cumconfirmed</th><th scope=col>days</th></tr>\n",
       "\t<tr><th scope=col>&lt;chr&gt;</th><th scope=col>&lt;chr&gt;</th><th scope=col>&lt;date&gt;</th><th scope=col>&lt;int&gt;</th><th scope=col>&lt;int&gt;</th><th scope=col>&lt;int&gt;</th><th scope=col>&lt;int&gt;</th><th scope=col>&lt;int&gt;</th><th scope=col>&lt;drtn&gt;</th></tr>\n",
       "</thead>\n",
       "<tbody>\n",
       "\t<tr><td>Zimbabwe</td><td>Africa</td><td>2020-01-01</td><td>228298</td><td>5386</td><td>11347</td><td>211565</td><td> 228298</td><td>1 days</td></tr>\n",
       "\t<tr><td>Zimbabwe</td><td>Africa</td><td>2020-01-02</td><td>228705</td><td>5394</td><td>11363</td><td>211948</td><td> 457003</td><td>2 days</td></tr>\n",
       "\t<tr><td>Zimbabwe</td><td>Africa</td><td>2020-01-03</td><td>231352</td><td>5427</td><td>11574</td><td>214351</td><td> 688355</td><td>3 days</td></tr>\n",
       "\t<tr><td>Zimbabwe</td><td>Africa</td><td>2020-01-04</td><td>233507</td><td>5462</td><td>11716</td><td>216329</td><td> 921862</td><td>4 days</td></tr>\n",
       "\t<tr><td>Zimbabwe</td><td>Africa</td><td>2020-01-05</td><td>236251</td><td>5510</td><td>11813</td><td>218928</td><td>1158113</td><td>5 days</td></tr>\n",
       "\t<tr><td>Zimbabwe</td><td>Africa</td><td>2020-01-06</td><td>237982</td><td>5539</td><td>11966</td><td>220477</td><td>1396095</td><td>6 days</td></tr>\n",
       "</tbody>\n",
       "</table>\n"
      ],
      "text/latex": [
       "A grouped\\_df: 6 × 9\n",
       "\\begin{tabular}{lllllllll}\n",
       " Country & Continent & date & conf & death & recov & Active & cumconfirmed & days\\\\\n",
       " <chr> & <chr> & <date> & <int> & <int> & <int> & <int> & <int> & <drtn>\\\\\n",
       "\\hline\n",
       "\t Zimbabwe & Africa & 2020-01-01 & 228298 & 5386 & 11347 & 211565 &  228298 & 1 days\\\\\n",
       "\t Zimbabwe & Africa & 2020-01-02 & 228705 & 5394 & 11363 & 211948 &  457003 & 2 days\\\\\n",
       "\t Zimbabwe & Africa & 2020-01-03 & 231352 & 5427 & 11574 & 214351 &  688355 & 3 days\\\\\n",
       "\t Zimbabwe & Africa & 2020-01-04 & 233507 & 5462 & 11716 & 216329 &  921862 & 4 days\\\\\n",
       "\t Zimbabwe & Africa & 2020-01-05 & 236251 & 5510 & 11813 & 218928 & 1158113 & 5 days\\\\\n",
       "\t Zimbabwe & Africa & 2020-01-06 & 237982 & 5539 & 11966 & 220477 & 1396095 & 6 days\\\\\n",
       "\\end{tabular}\n"
      ],
      "text/markdown": [
       "\n",
       "A grouped_df: 6 × 9\n",
       "\n",
       "| Country &lt;chr&gt; | Continent &lt;chr&gt; | date &lt;date&gt; | conf &lt;int&gt; | death &lt;int&gt; | recov &lt;int&gt; | Active &lt;int&gt; | cumconfirmed &lt;int&gt; | days &lt;drtn&gt; |\n",
       "|---|---|---|---|---|---|---|---|---|\n",
       "| Zimbabwe | Africa | 2020-01-01 | 228298 | 5386 | 11347 | 211565 |  228298 | 1 days |\n",
       "| Zimbabwe | Africa | 2020-01-02 | 228705 | 5394 | 11363 | 211948 |  457003 | 2 days |\n",
       "| Zimbabwe | Africa | 2020-01-03 | 231352 | 5427 | 11574 | 214351 |  688355 | 3 days |\n",
       "| Zimbabwe | Africa | 2020-01-04 | 233507 | 5462 | 11716 | 216329 |  921862 | 4 days |\n",
       "| Zimbabwe | Africa | 2020-01-05 | 236251 | 5510 | 11813 | 218928 | 1158113 | 5 days |\n",
       "| Zimbabwe | Africa | 2020-01-06 | 237982 | 5539 | 11966 | 220477 | 1396095 | 6 days |\n",
       "\n"
      ],
      "text/plain": [
       "  Country  Continent date       conf   death recov Active cumconfirmed days  \n",
       "1 Zimbabwe Africa    2020-01-01 228298 5386  11347 211565  228298      1 days\n",
       "2 Zimbabwe Africa    2020-01-02 228705 5394  11363 211948  457003      2 days\n",
       "3 Zimbabwe Africa    2020-01-03 231352 5427  11574 214351  688355      3 days\n",
       "4 Zimbabwe Africa    2020-01-04 233507 5462  11716 216329  921862      4 days\n",
       "5 Zimbabwe Africa    2020-01-05 236251 5510  11813 218928 1158113      5 days\n",
       "6 Zimbabwe Africa    2020-01-06 237982 5539  11966 220477 1396095      6 days"
      ]
     },
     "metadata": {},
     "output_type": "display_data"
    }
   ],
   "source": [
    "head(country)"
   ]
  },
  {
   "cell_type": "code",
   "execution_count": null,
   "id": "80c787e3",
   "metadata": {},
   "outputs": [],
   "source": []
  },
  {
   "cell_type": "code",
   "execution_count": null,
   "id": "91119c66",
   "metadata": {},
   "outputs": [],
   "source": []
  },
  {
   "cell_type": "code",
   "execution_count": 433,
   "id": "2d86bfa7",
   "metadata": {},
   "outputs": [
    {
     "data": {
      "text/html": [
       "<style>\n",
       ".list-inline {list-style: none; margin:0; padding: 0}\n",
       ".list-inline>li {display: inline-block}\n",
       ".list-inline>li:not(:last-child)::after {content: \"\\00b7\"; padding: 0 .5ex}\n",
       "</style>\n",
       "<ol class=list-inline><li>'Africa'</li><li>'Asia'</li><li>'South America'</li><li>'Oceania'</li><li>'North America'</li><li>'Europe'</li></ol>\n"
      ],
      "text/latex": [
       "\\begin{enumerate*}\n",
       "\\item 'Africa'\n",
       "\\item 'Asia'\n",
       "\\item 'South America'\n",
       "\\item 'Oceania'\n",
       "\\item 'North America'\n",
       "\\item 'Europe'\n",
       "\\end{enumerate*}\n"
      ],
      "text/markdown": [
       "1. 'Africa'\n",
       "2. 'Asia'\n",
       "3. 'South America'\n",
       "4. 'Oceania'\n",
       "5. 'North America'\n",
       "6. 'Europe'\n",
       "\n",
       "\n"
      ],
      "text/plain": [
       "[1] \"Africa\"        \"Asia\"          \"South America\" \"Oceania\"      \n",
       "[5] \"North America\" \"Europe\"       "
      ]
     },
     "metadata": {},
     "output_type": "display_data"
    }
   ],
   "source": [
    "unique(country$Continent)"
   ]
  },
  {
   "cell_type": "code",
   "execution_count": 436,
   "id": "12490d5a",
   "metadata": {},
   "outputs": [
    {
     "data": {
      "text/html": [
       "<table class=\"dataframe\">\n",
       "<caption>A tibble: 6 × 4</caption>\n",
       "<thead>\n",
       "\t<tr><th scope=col>Continent</th><th scope=col>Confirmed</th><th scope=col>Deaths</th><th scope=col>Recovered</th></tr>\n",
       "\t<tr><th scope=col>&lt;chr&gt;</th><th scope=col>&lt;int&gt;</th><th scope=col>&lt;int&gt;</th><th scope=col>&lt;int&gt;</th></tr>\n",
       "</thead>\n",
       "<tbody>\n",
       "\t<tr><td>Africa       </td><td>  7673728</td><td> 208903</td><td> 2622354</td></tr>\n",
       "\t<tr><td>Asia         </td><td> 87064011</td><td>1091954</td><td>32256963</td></tr>\n",
       "\t<tr><td>Europe       </td><td> 45629391</td><td> 435300</td><td> 4345374</td></tr>\n",
       "\t<tr><td>North America</td><td>152556113</td><td>2002039</td><td> 6298082</td></tr>\n",
       "\t<tr><td>Oceania      </td><td> 10575937</td><td>  17886</td><td>   34076</td></tr>\n",
       "\t<tr><td>South America</td><td> 62148346</td><td>1441473</td><td>19928712</td></tr>\n",
       "</tbody>\n",
       "</table>\n"
      ],
      "text/latex": [
       "A tibble: 6 × 4\n",
       "\\begin{tabular}{llll}\n",
       " Continent & Confirmed & Deaths & Recovered\\\\\n",
       " <chr> & <int> & <int> & <int>\\\\\n",
       "\\hline\n",
       "\t Africa        &   7673728 &  208903 &  2622354\\\\\n",
       "\t Asia          &  87064011 & 1091954 & 32256963\\\\\n",
       "\t Europe        &  45629391 &  435300 &  4345374\\\\\n",
       "\t North America & 152556113 & 2002039 &  6298082\\\\\n",
       "\t Oceania       &  10575937 &   17886 &    34076\\\\\n",
       "\t South America &  62148346 & 1441473 & 19928712\\\\\n",
       "\\end{tabular}\n"
      ],
      "text/markdown": [
       "\n",
       "A tibble: 6 × 4\n",
       "\n",
       "| Continent &lt;chr&gt; | Confirmed &lt;int&gt; | Deaths &lt;int&gt; | Recovered &lt;int&gt; |\n",
       "|---|---|---|---|\n",
       "| Africa        |   7673728 |  208903 |  2622354 |\n",
       "| Asia          |  87064011 | 1091954 | 32256963 |\n",
       "| Europe        |  45629391 |  435300 |  4345374 |\n",
       "| North America | 152556113 | 2002039 |  6298082 |\n",
       "| Oceania       |  10575937 |   17886 |    34076 |\n",
       "| South America |  62148346 | 1441473 | 19928712 |\n",
       "\n"
      ],
      "text/plain": [
       "  Continent     Confirmed Deaths  Recovered\n",
       "1 Africa          7673728  208903  2622354 \n",
       "2 Asia           87064011 1091954 32256963 \n",
       "3 Europe         45629391  435300  4345374 \n",
       "4 North America 152556113 2002039  6298082 \n",
       "5 Oceania        10575937   17886    34076 \n",
       "6 South America  62148346 1441473 19928712 "
      ]
     },
     "metadata": {},
     "output_type": "display_data"
    }
   ],
   "source": [
    "country %>% group_by(Continent) %>% summarise(Confirmed = max(conf),\n",
    "            Deaths = max(death), #using max because data is cumulative\n",
    "            Recovered = max(recov))  "
   ]
  },
  {
   "cell_type": "code",
   "execution_count": 256,
   "id": "8085aa1e",
   "metadata": {},
   "outputs": [
    {
     "data": {
      "image/png": "[encoded data removed]",
      "text/plain": [
       "plot without title"
      ]
     },
     "metadata": {
      "image/png": {
       "height": 420,
       "width": 420
      }
     },
     "output_type": "display_data"
    }
   ],
   "source": [
    "ggplot(data = country, mapping = aes(x = Continent, \n",
    "                                      y = date,\n",
    "                                      fill = death)) + \n",
    "  geom_bar(stat = \"identity\", position = \"stack\") +\n",
    "  xlab(\"State\") +\n",
    "  ylab(\"Confirmed Cases\") +\n",
    "  ggtitle(\"Confirmed Cases by State\") +\n",
    "  coord_flip() "
   ]
  },
  {
   "cell_type": "code",
   "execution_count": 257,
   "id": "c4d6325a",
   "metadata": {},
   "outputs": [
    {
     "data": {
      "text/html": [
       "<table class=\"dataframe\">\n",
       "<caption>A grouped_df: 6 × 9</caption>\n",
       "<thead>\n",
       "\t<tr><th scope=col>Country</th><th scope=col>Continent</th><th scope=col>date</th><th scope=col>conf</th><th scope=col>death</th><th scope=col>recov</th><th scope=col>Active</th><th scope=col>cumconfirmed</th><th scope=col>days</th></tr>\n",
       "\t<tr><th scope=col>&lt;chr&gt;</th><th scope=col>&lt;chr&gt;</th><th scope=col>&lt;date&gt;</th><th scope=col>&lt;int&gt;</th><th scope=col>&lt;int&gt;</th><th scope=col>&lt;int&gt;</th><th scope=col>&lt;int&gt;</th><th scope=col>&lt;int&gt;</th><th scope=col>&lt;drtn&gt;</th></tr>\n",
       "</thead>\n",
       "<tbody>\n",
       "\t<tr><td>Zimbabwe</td><td>Africa</td><td>2020-01-01</td><td>228298</td><td>5386</td><td>11347</td><td>211565</td><td> 228298</td><td>1 days</td></tr>\n",
       "\t<tr><td>Zimbabwe</td><td>Africa</td><td>2020-01-02</td><td>228705</td><td>5394</td><td>11363</td><td>211948</td><td> 457003</td><td>2 days</td></tr>\n",
       "\t<tr><td>Zimbabwe</td><td>Africa</td><td>2020-01-03</td><td>231352</td><td>5427</td><td>11574</td><td>214351</td><td> 688355</td><td>3 days</td></tr>\n",
       "\t<tr><td>Zimbabwe</td><td>Africa</td><td>2020-01-04</td><td>233507</td><td>5462</td><td>11716</td><td>216329</td><td> 921862</td><td>4 days</td></tr>\n",
       "\t<tr><td>Zimbabwe</td><td>Africa</td><td>2020-01-05</td><td>236251</td><td>5510</td><td>11813</td><td>218928</td><td>1158113</td><td>5 days</td></tr>\n",
       "\t<tr><td>Zimbabwe</td><td>Africa</td><td>2020-01-06</td><td>237982</td><td>5539</td><td>11966</td><td>220477</td><td>1396095</td><td>6 days</td></tr>\n",
       "</tbody>\n",
       "</table>\n"
      ],
      "text/latex": [
       "A grouped\\_df: 6 × 9\n",
       "\\begin{tabular}{lllllllll}\n",
       " Country & Continent & date & conf & death & recov & Active & cumconfirmed & days\\\\\n",
       " <chr> & <chr> & <date> & <int> & <int> & <int> & <int> & <int> & <drtn>\\\\\n",
       "\\hline\n",
       "\t Zimbabwe & Africa & 2020-01-01 & 228298 & 5386 & 11347 & 211565 &  228298 & 1 days\\\\\n",
       "\t Zimbabwe & Africa & 2020-01-02 & 228705 & 5394 & 11363 & 211948 &  457003 & 2 days\\\\\n",
       "\t Zimbabwe & Africa & 2020-01-03 & 231352 & 5427 & 11574 & 214351 &  688355 & 3 days\\\\\n",
       "\t Zimbabwe & Africa & 2020-01-04 & 233507 & 5462 & 11716 & 216329 &  921862 & 4 days\\\\\n",
       "\t Zimbabwe & Africa & 2020-01-05 & 236251 & 5510 & 11813 & 218928 & 1158113 & 5 days\\\\\n",
       "\t Zimbabwe & Africa & 2020-01-06 & 237982 & 5539 & 11966 & 220477 & 1396095 & 6 days\\\\\n",
       "\\end{tabular}\n"
      ],
      "text/markdown": [
       "\n",
       "A grouped_df: 6 × 9\n",
       "\n",
       "| Country &lt;chr&gt; | Continent &lt;chr&gt; | date &lt;date&gt; | conf &lt;int&gt; | death &lt;int&gt; | recov &lt;int&gt; | Active &lt;int&gt; | cumconfirmed &lt;int&gt; | days &lt;drtn&gt; |\n",
       "|---|---|---|---|---|---|---|---|---|\n",
       "| Zimbabwe | Africa | 2020-01-01 | 228298 | 5386 | 11347 | 211565 |  228298 | 1 days |\n",
       "| Zimbabwe | Africa | 2020-01-02 | 228705 | 5394 | 11363 | 211948 |  457003 | 2 days |\n",
       "| Zimbabwe | Africa | 2020-01-03 | 231352 | 5427 | 11574 | 214351 |  688355 | 3 days |\n",
       "| Zimbabwe | Africa | 2020-01-04 | 233507 | 5462 | 11716 | 216329 |  921862 | 4 days |\n",
       "| Zimbabwe | Africa | 2020-01-05 | 236251 | 5510 | 11813 | 218928 | 1158113 | 5 days |\n",
       "| Zimbabwe | Africa | 2020-01-06 | 237982 | 5539 | 11966 | 220477 | 1396095 | 6 days |\n",
       "\n"
      ],
      "text/plain": [
       "  Country  Continent date       conf   death recov Active cumconfirmed days  \n",
       "1 Zimbabwe Africa    2020-01-01 228298 5386  11347 211565  228298      1 days\n",
       "2 Zimbabwe Africa    2020-01-02 228705 5394  11363 211948  457003      2 days\n",
       "3 Zimbabwe Africa    2020-01-03 231352 5427  11574 214351  688355      3 days\n",
       "4 Zimbabwe Africa    2020-01-04 233507 5462  11716 216329  921862      4 days\n",
       "5 Zimbabwe Africa    2020-01-05 236251 5510  11813 218928 1158113      5 days\n",
       "6 Zimbabwe Africa    2020-01-06 237982 5539  11966 220477 1396095      6 days"
      ]
     },
     "metadata": {},
     "output_type": "display_data"
    }
   ],
   "source": [
    "head(country)"
   ]
  },
  {
   "cell_type": "code",
   "execution_count": 258,
   "id": "58a7f61c",
   "metadata": {},
   "outputs": [],
   "source": [
    "# number cases per 100 cases\n",
    "\n",
    "country$'Deaths / 100 Cases' = round((country$death / country$conf) * 100,2)\n",
    "country$'Recovered / 100 Cases' = round((country$recov / country$conf) * 100,2)\n",
    "country$'Deaths / 100 Recovered' = round((country$death / country$recov) * 100,2)\n"
   ]
  },
  {
   "cell_type": "code",
   "execution_count": 259,
   "id": "8deaeca3",
   "metadata": {},
   "outputs": [
    {
     "data": {
      "text/html": [
       "<table class=\"dataframe\">\n",
       "<caption>A grouped_df: 6 × 12</caption>\n",
       "<thead>\n",
       "\t<tr><th scope=col>Country</th><th scope=col>Continent</th><th scope=col>date</th><th scope=col>conf</th><th scope=col>death</th><th scope=col>recov</th><th scope=col>Active</th><th scope=col>cumconfirmed</th><th scope=col>days</th><th scope=col>Deaths / 100 Cases</th><th scope=col>Recovered / 100 Cases</th><th scope=col>Deaths / 100 Recovered</th></tr>\n",
       "\t<tr><th scope=col>&lt;chr&gt;</th><th scope=col>&lt;chr&gt;</th><th scope=col>&lt;date&gt;</th><th scope=col>&lt;int&gt;</th><th scope=col>&lt;int&gt;</th><th scope=col>&lt;int&gt;</th><th scope=col>&lt;int&gt;</th><th scope=col>&lt;int&gt;</th><th scope=col>&lt;drtn&gt;</th><th scope=col>&lt;dbl&gt;</th><th scope=col>&lt;dbl&gt;</th><th scope=col>&lt;dbl&gt;</th></tr>\n",
       "</thead>\n",
       "<tbody>\n",
       "\t<tr><td>Zimbabwe</td><td>Africa</td><td>2020-01-01</td><td>228298</td><td>5386</td><td>11347</td><td>211565</td><td> 228298</td><td>1 days</td><td>2.36</td><td>4.97</td><td>47.47</td></tr>\n",
       "\t<tr><td>Zimbabwe</td><td>Africa</td><td>2020-01-02</td><td>228705</td><td>5394</td><td>11363</td><td>211948</td><td> 457003</td><td>2 days</td><td>2.36</td><td>4.97</td><td>47.47</td></tr>\n",
       "\t<tr><td>Zimbabwe</td><td>Africa</td><td>2020-01-03</td><td>231352</td><td>5427</td><td>11574</td><td>214351</td><td> 688355</td><td>3 days</td><td>2.35</td><td>5.00</td><td>46.89</td></tr>\n",
       "\t<tr><td>Zimbabwe</td><td>Africa</td><td>2020-01-04</td><td>233507</td><td>5462</td><td>11716</td><td>216329</td><td> 921862</td><td>4 days</td><td>2.34</td><td>5.02</td><td>46.62</td></tr>\n",
       "\t<tr><td>Zimbabwe</td><td>Africa</td><td>2020-01-05</td><td>236251</td><td>5510</td><td>11813</td><td>218928</td><td>1158113</td><td>5 days</td><td>2.33</td><td>5.00</td><td>46.64</td></tr>\n",
       "\t<tr><td>Zimbabwe</td><td>Africa</td><td>2020-01-06</td><td>237982</td><td>5539</td><td>11966</td><td>220477</td><td>1396095</td><td>6 days</td><td>2.33</td><td>5.03</td><td>46.29</td></tr>\n",
       "</tbody>\n",
       "</table>\n"
      ],
      "text/latex": [
       "A grouped\\_df: 6 × 12\n",
       "\\begin{tabular}{llllllllllll}\n",
       " Country & Continent & date & conf & death & recov & Active & cumconfirmed & days & Deaths / 100 Cases & Recovered / 100 Cases & Deaths / 100 Recovered\\\\\n",
       " <chr> & <chr> & <date> & <int> & <int> & <int> & <int> & <int> & <drtn> & <dbl> & <dbl> & <dbl>\\\\\n",
       "\\hline\n",
       "\t Zimbabwe & Africa & 2020-01-01 & 228298 & 5386 & 11347 & 211565 &  228298 & 1 days & 2.36 & 4.97 & 47.47\\\\\n",
       "\t Zimbabwe & Africa & 2020-01-02 & 228705 & 5394 & 11363 & 211948 &  457003 & 2 days & 2.36 & 4.97 & 47.47\\\\\n",
       "\t Zimbabwe & Africa & 2020-01-03 & 231352 & 5427 & 11574 & 214351 &  688355 & 3 days & 2.35 & 5.00 & 46.89\\\\\n",
       "\t Zimbabwe & Africa & 2020-01-04 & 233507 & 5462 & 11716 & 216329 &  921862 & 4 days & 2.34 & 5.02 & 46.62\\\\\n",
       "\t Zimbabwe & Africa & 2020-01-05 & 236251 & 5510 & 11813 & 218928 & 1158113 & 5 days & 2.33 & 5.00 & 46.64\\\\\n",
       "\t Zimbabwe & Africa & 2020-01-06 & 237982 & 5539 & 11966 & 220477 & 1396095 & 6 days & 2.33 & 5.03 & 46.29\\\\\n",
       "\\end{tabular}\n"
      ],
      "text/markdown": [
       "\n",
       "A grouped_df: 6 × 12\n",
       "\n",
       "| Country &lt;chr&gt; | Continent &lt;chr&gt; | date &lt;date&gt; | conf &lt;int&gt; | death &lt;int&gt; | recov &lt;int&gt; | Active &lt;int&gt; | cumconfirmed &lt;int&gt; | days &lt;drtn&gt; | Deaths / 100 Cases &lt;dbl&gt; | Recovered / 100 Cases &lt;dbl&gt; | Deaths / 100 Recovered &lt;dbl&gt; |\n",
       "|---|---|---|---|---|---|---|---|---|---|---|---|\n",
       "| Zimbabwe | Africa | 2020-01-01 | 228298 | 5386 | 11347 | 211565 |  228298 | 1 days | 2.36 | 4.97 | 47.47 |\n",
       "| Zimbabwe | Africa | 2020-01-02 | 228705 | 5394 | 11363 | 211948 |  457003 | 2 days | 2.36 | 4.97 | 47.47 |\n",
       "| Zimbabwe | Africa | 2020-01-03 | 231352 | 5427 | 11574 | 214351 |  688355 | 3 days | 2.35 | 5.00 | 46.89 |\n",
       "| Zimbabwe | Africa | 2020-01-04 | 233507 | 5462 | 11716 | 216329 |  921862 | 4 days | 2.34 | 5.02 | 46.62 |\n",
       "| Zimbabwe | Africa | 2020-01-05 | 236251 | 5510 | 11813 | 218928 | 1158113 | 5 days | 2.33 | 5.00 | 46.64 |\n",
       "| Zimbabwe | Africa | 2020-01-06 | 237982 | 5539 | 11966 | 220477 | 1396095 | 6 days | 2.33 | 5.03 | 46.29 |\n",
       "\n"
      ],
      "text/plain": [
       "  Country  Continent date       conf   death recov Active cumconfirmed days  \n",
       "1 Zimbabwe Africa    2020-01-01 228298 5386  11347 211565  228298      1 days\n",
       "2 Zimbabwe Africa    2020-01-02 228705 5394  11363 211948  457003      2 days\n",
       "3 Zimbabwe Africa    2020-01-03 231352 5427  11574 214351  688355      3 days\n",
       "4 Zimbabwe Africa    2020-01-04 233507 5462  11716 216329  921862      4 days\n",
       "5 Zimbabwe Africa    2020-01-05 236251 5510  11813 218928 1158113      5 days\n",
       "6 Zimbabwe Africa    2020-01-06 237982 5539  11966 220477 1396095      6 days\n",
       "  Deaths / 100 Cases Recovered / 100 Cases Deaths / 100 Recovered\n",
       "1 2.36               4.97                  47.47                 \n",
       "2 2.36               4.97                  47.47                 \n",
       "3 2.35               5.00                  46.89                 \n",
       "4 2.34               5.02                  46.62                 \n",
       "5 2.33               5.00                  46.64                 \n",
       "6 2.33               5.03                  46.29                 "
      ]
     },
     "metadata": {},
     "output_type": "display_data"
    }
   ],
   "source": [
    "head(country)"
   ]
  },
  {
   "cell_type": "code",
   "execution_count": null,
   "id": "e224059d",
   "metadata": {},
   "outputs": [],
   "source": []
  }
 ],
 "metadata": {
  "kernelspec": {
   "display_name": "R",
   "language": "R",
   "name": "ir"
  },
  "language_info": {
   "codemirror_mode": "r",
   "file_extension": ".r",
   "mimetype": "text/x-r-source",
   "name": "R",
   "pygments_lexer": "r",
   "version": "4.2.1"
  }
 },
 "nbformat": 4,
 "nbformat_minor": 5
}
