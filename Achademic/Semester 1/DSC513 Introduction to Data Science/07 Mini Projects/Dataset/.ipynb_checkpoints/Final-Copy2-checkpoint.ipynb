{
 "cells": [
  {
   "cell_type": "code",
   "execution_count": 895,
   "id": "bf2f869a",
   "metadata": {},
   "outputs": [],
   "source": [
    "library(tidyverse)\n",
    "library(lubridate)\n",
    "library(ggplot2)\n",
    "library(tidyr)\n",
    "library(dplyr)"
   ]
  },
  {
   "cell_type": "code",
   "execution_count": 896,
   "id": "dae21a87",
   "metadata": {},
   "outputs": [],
   "source": [
    "options(warn = -1)"
   ]
  },
  {
   "cell_type": "markdown",
   "id": "28094b3c",
   "metadata": {},
   "source": [
    "## Read the Input data"
   ]
  },
  {
   "cell_type": "code",
   "execution_count": 897,
   "id": "a35153d4",
   "metadata": {},
   "outputs": [],
   "source": [
    "confirmedraw = read.csv(\"time_series_covid19_confirmed_global.csv\")\n",
    "\n",
    "deathsraw= read.csv(\"time_series_covid19_deaths_global.csv\")\n",
    "\n",
    "recoveredraw = read.csv(\"time_series_covid19_recovered_global.csv\")"
   ]
  },
  {
   "cell_type": "code",
   "execution_count": 898,
   "id": "05640bab",
   "metadata": {},
   "outputs": [],
   "source": [
    "countryToContinent = read.csv(\"countryToContinent.csv\")\n",
    "\n",
    "countryToContinent$Continent = as.character(countryToContinent$Continent)\n",
    "countryToContinent$Country = as.character(countryToContinent$Country)"
   ]
  },
  {
   "cell_type": "code",
   "execution_count": 899,
   "id": "d61b62e5",
   "metadata": {},
   "outputs": [
    {
     "data": {
      "text/html": [
       "<table class=\"dataframe\">\n",
       "<caption>A data.frame: 6 × 3</caption>\n",
       "<thead>\n",
       "\t<tr><th></th><th scope=col>X</th><th scope=col>Continent</th><th scope=col>Country</th></tr>\n",
       "\t<tr><th></th><th scope=col>&lt;int&gt;</th><th scope=col>&lt;chr&gt;</th><th scope=col>&lt;chr&gt;</th></tr>\n",
       "</thead>\n",
       "<tbody>\n",
       "\t<tr><th scope=row>1</th><td>1</td><td>Africa</td><td>Algeria </td></tr>\n",
       "\t<tr><th scope=row>2</th><td>2</td><td>Africa</td><td>Angola  </td></tr>\n",
       "\t<tr><th scope=row>3</th><td>3</td><td>Africa</td><td>Benin   </td></tr>\n",
       "\t<tr><th scope=row>4</th><td>4</td><td>Africa</td><td>Botswana</td></tr>\n",
       "\t<tr><th scope=row>5</th><td>5</td><td>Africa</td><td>Burkina </td></tr>\n",
       "\t<tr><th scope=row>6</th><td>6</td><td>Africa</td><td>Burundi </td></tr>\n",
       "</tbody>\n",
       "</table>\n"
      ],
      "text/latex": [
       "A data.frame: 6 × 3\n",
       "\\begin{tabular}{r|lll}\n",
       "  & X & Continent & Country\\\\\n",
       "  & <int> & <chr> & <chr>\\\\\n",
       "\\hline\n",
       "\t1 & 1 & Africa & Algeria \\\\\n",
       "\t2 & 2 & Africa & Angola  \\\\\n",
       "\t3 & 3 & Africa & Benin   \\\\\n",
       "\t4 & 4 & Africa & Botswana\\\\\n",
       "\t5 & 5 & Africa & Burkina \\\\\n",
       "\t6 & 6 & Africa & Burundi \\\\\n",
       "\\end{tabular}\n"
      ],
      "text/markdown": [
       "\n",
       "A data.frame: 6 × 3\n",
       "\n",
       "| <!--/--> | X &lt;int&gt; | Continent &lt;chr&gt; | Country &lt;chr&gt; |\n",
       "|---|---|---|---|\n",
       "| 1 | 1 | Africa | Algeria  |\n",
       "| 2 | 2 | Africa | Angola   |\n",
       "| 3 | 3 | Africa | Benin    |\n",
       "| 4 | 4 | Africa | Botswana |\n",
       "| 5 | 5 | Africa | Burkina  |\n",
       "| 6 | 6 | Africa | Burundi  |\n",
       "\n"
      ],
      "text/plain": [
       "  X Continent Country \n",
       "1 1 Africa    Algeria \n",
       "2 2 Africa    Angola  \n",
       "3 3 Africa    Benin   \n",
       "4 4 Africa    Botswana\n",
       "5 5 Africa    Burkina \n",
       "6 6 Africa    Burundi "
      ]
     },
     "metadata": {},
     "output_type": "display_data"
    }
   ],
   "source": [
    "head(countryToContinent)"
   ]
  },
  {
   "cell_type": "code",
   "execution_count": 900,
   "id": "c051b1da",
   "metadata": {},
   "outputs": [
    {
     "name": "stdout",
     "output_type": "stream",
     "text": [
      "[1]  289 1017\n",
      "[1]  289 1001\n",
      "[1]  274 1001\n"
     ]
    }
   ],
   "source": [
    "print(dim(confirmedraw))\n",
    "\n",
    "print(dim(deathsraw))\n",
    "\n",
    "print(dim(recoveredraw))"
   ]
  },
  {
   "cell_type": "code",
   "execution_count": 901,
   "id": "76e40bd3",
   "metadata": {},
   "outputs": [
    {
     "data": {
      "text/html": [
       "<table class=\"dataframe\">\n",
       "<caption>A data.frame: 6 × 1001</caption>\n",
       "<thead>\n",
       "\t<tr><th></th><th scope=col>Province.State</th><th scope=col>Country.Region</th><th scope=col>Lat</th><th scope=col>Long</th><th scope=col>X1.22.2020</th><th scope=col>X1.23.2020</th><th scope=col>X1.24.2020</th><th scope=col>X1.25.2020</th><th scope=col>X1.26.2020</th><th scope=col>X1.27.2020</th><th scope=col>⋯</th><th scope=col>X10.5.2022</th><th scope=col>X10.6.2022</th><th scope=col>X10.7.2022</th><th scope=col>X10.8.2022</th><th scope=col>X10.9.2022</th><th scope=col>X10.10.2022</th><th scope=col>X10.11.2022</th><th scope=col>X10.12.2022</th><th scope=col>X10.13.2022</th><th scope=col>X10.14.2022</th></tr>\n",
       "\t<tr><th></th><th scope=col>&lt;chr&gt;</th><th scope=col>&lt;chr&gt;</th><th scope=col>&lt;dbl&gt;</th><th scope=col>&lt;dbl&gt;</th><th scope=col>&lt;int&gt;</th><th scope=col>&lt;int&gt;</th><th scope=col>&lt;int&gt;</th><th scope=col>&lt;int&gt;</th><th scope=col>&lt;int&gt;</th><th scope=col>&lt;int&gt;</th><th scope=col>⋯</th><th scope=col>&lt;int&gt;</th><th scope=col>&lt;int&gt;</th><th scope=col>&lt;int&gt;</th><th scope=col>&lt;int&gt;</th><th scope=col>&lt;int&gt;</th><th scope=col>&lt;int&gt;</th><th scope=col>&lt;int&gt;</th><th scope=col>&lt;int&gt;</th><th scope=col>&lt;int&gt;</th><th scope=col>&lt;int&gt;</th></tr>\n",
       "</thead>\n",
       "<tbody>\n",
       "\t<tr><th scope=row>1</th><td></td><td>Afghanistan</td><td> 33.93911</td><td>67.70995</td><td>0</td><td>0</td><td>0</td><td>0</td><td>0</td><td>0</td><td>⋯</td><td>0</td><td>0</td><td>0</td><td>0</td><td>0</td><td>0</td><td>0</td><td>0</td><td>0</td><td>0</td></tr>\n",
       "\t<tr><th scope=row>2</th><td></td><td>Albania    </td><td> 41.15330</td><td>20.16830</td><td>0</td><td>0</td><td>0</td><td>0</td><td>0</td><td>0</td><td>⋯</td><td>0</td><td>0</td><td>0</td><td>0</td><td>0</td><td>0</td><td>0</td><td>0</td><td>0</td><td>0</td></tr>\n",
       "\t<tr><th scope=row>3</th><td></td><td>Algeria    </td><td> 28.03390</td><td> 1.65960</td><td>0</td><td>0</td><td>0</td><td>0</td><td>0</td><td>0</td><td>⋯</td><td>0</td><td>0</td><td>0</td><td>0</td><td>0</td><td>0</td><td>0</td><td>0</td><td>0</td><td>0</td></tr>\n",
       "\t<tr><th scope=row>4</th><td></td><td>Andorra    </td><td> 42.50630</td><td> 1.52180</td><td>0</td><td>0</td><td>0</td><td>0</td><td>0</td><td>0</td><td>⋯</td><td>0</td><td>0</td><td>0</td><td>0</td><td>0</td><td>0</td><td>0</td><td>0</td><td>0</td><td>0</td></tr>\n",
       "\t<tr><th scope=row>5</th><td></td><td>Angola     </td><td>-11.20270</td><td>17.87390</td><td>0</td><td>0</td><td>0</td><td>0</td><td>0</td><td>0</td><td>⋯</td><td>0</td><td>0</td><td>0</td><td>0</td><td>0</td><td>0</td><td>0</td><td>0</td><td>0</td><td>0</td></tr>\n",
       "\t<tr><th scope=row>6</th><td></td><td>Antarctica </td><td>-71.94990</td><td>23.34700</td><td>0</td><td>0</td><td>0</td><td>0</td><td>0</td><td>0</td><td>⋯</td><td>0</td><td>0</td><td>0</td><td>0</td><td>0</td><td>0</td><td>0</td><td>0</td><td>0</td><td>0</td></tr>\n",
       "</tbody>\n",
       "</table>\n"
      ],
      "text/latex": [
       "A data.frame: 6 × 1001\n",
       "\\begin{tabular}{r|lllllllllllllllllllll}\n",
       "  & Province.State & Country.Region & Lat & Long & X1.22.2020 & X1.23.2020 & X1.24.2020 & X1.25.2020 & X1.26.2020 & X1.27.2020 & ⋯ & X10.5.2022 & X10.6.2022 & X10.7.2022 & X10.8.2022 & X10.9.2022 & X10.10.2022 & X10.11.2022 & X10.12.2022 & X10.13.2022 & X10.14.2022\\\\\n",
       "  & <chr> & <chr> & <dbl> & <dbl> & <int> & <int> & <int> & <int> & <int> & <int> & ⋯ & <int> & <int> & <int> & <int> & <int> & <int> & <int> & <int> & <int> & <int>\\\\\n",
       "\\hline\n",
       "\t1 &  & Afghanistan &  33.93911 & 67.70995 & 0 & 0 & 0 & 0 & 0 & 0 & ⋯ & 0 & 0 & 0 & 0 & 0 & 0 & 0 & 0 & 0 & 0\\\\\n",
       "\t2 &  & Albania     &  41.15330 & 20.16830 & 0 & 0 & 0 & 0 & 0 & 0 & ⋯ & 0 & 0 & 0 & 0 & 0 & 0 & 0 & 0 & 0 & 0\\\\\n",
       "\t3 &  & Algeria     &  28.03390 &  1.65960 & 0 & 0 & 0 & 0 & 0 & 0 & ⋯ & 0 & 0 & 0 & 0 & 0 & 0 & 0 & 0 & 0 & 0\\\\\n",
       "\t4 &  & Andorra     &  42.50630 &  1.52180 & 0 & 0 & 0 & 0 & 0 & 0 & ⋯ & 0 & 0 & 0 & 0 & 0 & 0 & 0 & 0 & 0 & 0\\\\\n",
       "\t5 &  & Angola      & -11.20270 & 17.87390 & 0 & 0 & 0 & 0 & 0 & 0 & ⋯ & 0 & 0 & 0 & 0 & 0 & 0 & 0 & 0 & 0 & 0\\\\\n",
       "\t6 &  & Antarctica  & -71.94990 & 23.34700 & 0 & 0 & 0 & 0 & 0 & 0 & ⋯ & 0 & 0 & 0 & 0 & 0 & 0 & 0 & 0 & 0 & 0\\\\\n",
       "\\end{tabular}\n"
      ],
      "text/markdown": [
       "\n",
       "A data.frame: 6 × 1001\n",
       "\n",
       "| <!--/--> | Province.State &lt;chr&gt; | Country.Region &lt;chr&gt; | Lat &lt;dbl&gt; | Long &lt;dbl&gt; | X1.22.2020 &lt;int&gt; | X1.23.2020 &lt;int&gt; | X1.24.2020 &lt;int&gt; | X1.25.2020 &lt;int&gt; | X1.26.2020 &lt;int&gt; | X1.27.2020 &lt;int&gt; | ⋯ ⋯ | X10.5.2022 &lt;int&gt; | X10.6.2022 &lt;int&gt; | X10.7.2022 &lt;int&gt; | X10.8.2022 &lt;int&gt; | X10.9.2022 &lt;int&gt; | X10.10.2022 &lt;int&gt; | X10.11.2022 &lt;int&gt; | X10.12.2022 &lt;int&gt; | X10.13.2022 &lt;int&gt; | X10.14.2022 &lt;int&gt; |\n",
       "|---|---|---|---|---|---|---|---|---|---|---|---|---|---|---|---|---|---|---|---|---|---|\n",
       "| 1 | <!----> | Afghanistan |  33.93911 | 67.70995 | 0 | 0 | 0 | 0 | 0 | 0 | ⋯ | 0 | 0 | 0 | 0 | 0 | 0 | 0 | 0 | 0 | 0 |\n",
       "| 2 | <!----> | Albania     |  41.15330 | 20.16830 | 0 | 0 | 0 | 0 | 0 | 0 | ⋯ | 0 | 0 | 0 | 0 | 0 | 0 | 0 | 0 | 0 | 0 |\n",
       "| 3 | <!----> | Algeria     |  28.03390 |  1.65960 | 0 | 0 | 0 | 0 | 0 | 0 | ⋯ | 0 | 0 | 0 | 0 | 0 | 0 | 0 | 0 | 0 | 0 |\n",
       "| 4 | <!----> | Andorra     |  42.50630 |  1.52180 | 0 | 0 | 0 | 0 | 0 | 0 | ⋯ | 0 | 0 | 0 | 0 | 0 | 0 | 0 | 0 | 0 | 0 |\n",
       "| 5 | <!----> | Angola      | -11.20270 | 17.87390 | 0 | 0 | 0 | 0 | 0 | 0 | ⋯ | 0 | 0 | 0 | 0 | 0 | 0 | 0 | 0 | 0 | 0 |\n",
       "| 6 | <!----> | Antarctica  | -71.94990 | 23.34700 | 0 | 0 | 0 | 0 | 0 | 0 | ⋯ | 0 | 0 | 0 | 0 | 0 | 0 | 0 | 0 | 0 | 0 |\n",
       "\n"
      ],
      "text/plain": [
       "  Province.State Country.Region Lat       Long     X1.22.2020 X1.23.2020\n",
       "1                Afghanistan     33.93911 67.70995 0          0         \n",
       "2                Albania         41.15330 20.16830 0          0         \n",
       "3                Algeria         28.03390  1.65960 0          0         \n",
       "4                Andorra         42.50630  1.52180 0          0         \n",
       "5                Angola         -11.20270 17.87390 0          0         \n",
       "6                Antarctica     -71.94990 23.34700 0          0         \n",
       "  X1.24.2020 X1.25.2020 X1.26.2020 X1.27.2020 ⋯ X10.5.2022 X10.6.2022\n",
       "1 0          0          0          0          ⋯ 0          0         \n",
       "2 0          0          0          0          ⋯ 0          0         \n",
       "3 0          0          0          0          ⋯ 0          0         \n",
       "4 0          0          0          0          ⋯ 0          0         \n",
       "5 0          0          0          0          ⋯ 0          0         \n",
       "6 0          0          0          0          ⋯ 0          0         \n",
       "  X10.7.2022 X10.8.2022 X10.9.2022 X10.10.2022 X10.11.2022 X10.12.2022\n",
       "1 0          0          0          0           0           0          \n",
       "2 0          0          0          0           0           0          \n",
       "3 0          0          0          0           0           0          \n",
       "4 0          0          0          0           0           0          \n",
       "5 0          0          0          0           0           0          \n",
       "6 0          0          0          0           0           0          \n",
       "  X10.13.2022 X10.14.2022\n",
       "1 0           0          \n",
       "2 0           0          \n",
       "3 0           0          \n",
       "4 0           0          \n",
       "5 0           0          \n",
       "6 0           0          "
      ]
     },
     "metadata": {},
     "output_type": "display_data"
    }
   ],
   "source": [
    "head(recoveredraw)"
   ]
  },
  {
   "cell_type": "code",
   "execution_count": 902,
   "id": "e4d8883b",
   "metadata": {},
   "outputs": [],
   "source": [
    "formatTheData = function(data,colName) {\n",
    "    \n",
    "    covid_data = data %>% rename('subregion' = 'Province.State','country' = 'Country.Region')\n",
    "    \n",
    "    covid_data = covid_data %>%  pivot_longer(cols = -one_of('country','subregion','Lat','Long')\n",
    "                ,names_to = 'date'\n",
    "               ,values_to = colName\n",
    "               )\n",
    "    \n",
    "    covid_data$date <- covid_data$date %>% sub(\"X\", \"\", .)\n",
    "    \n",
    "    covid_data$date = mdy(covid_data$date)\n",
    "\n",
    "    covid_data = covid_data %>% arrange(date)\n",
    "   \n",
    "    covid_data$Lat = round(covid_data$Lat,3)\n",
    "\n",
    "    covid_data$Long = round(covid_data$Long,3)\n",
    "    \n",
    "    #covid_data = merge(countryToContinent,covid_data,  by.y = \"Country\", by.x = \"Country.Region\")\n",
    "\n",
    "    print(unique(format(covid_data$date, \"%Y\")))\n",
    "    print(dim(covid_data))\n",
    "    \n",
    "    covid_data  = covid_data[covid_data$country != 'canada',]\n",
    "    return(data.frame(covid_data))\n",
    "}"
   ]
  },
  {
   "cell_type": "code",
   "execution_count": 903,
   "id": "0ee10519",
   "metadata": {},
   "outputs": [
    {
     "name": "stdout",
     "output_type": "stream",
     "text": [
      "[1] \"2020\" \"2021\" \"2022\"\n",
      "[1] 292757      6\n",
      "[1] \"2020\" \"2021\" \"2022\"\n",
      "[1] 288133      6\n",
      "[1] \"2020\" \"2021\" \"2022\"\n",
      "[1] 273178      6\n"
     ]
    }
   ],
   "source": [
    "case.conf = formatTheData(confirmedraw,\"conf\")\n",
    "case.death = formatTheData(deathsraw,\"death\")\n",
    "case.recov = formatTheData(recoveredraw,\"recov\")"
   ]
  },
  {
   "cell_type": "code",
   "execution_count": 904,
   "id": "37704518",
   "metadata": {},
   "outputs": [
    {
     "data": {
      "text/html": [
       "<table class=\"dataframe\">\n",
       "<caption>A data.frame: 6 × 6</caption>\n",
       "<thead>\n",
       "\t<tr><th></th><th scope=col>subregion</th><th scope=col>country</th><th scope=col>Lat</th><th scope=col>Long</th><th scope=col>date</th><th scope=col>conf</th></tr>\n",
       "\t<tr><th></th><th scope=col>&lt;chr&gt;</th><th scope=col>&lt;chr&gt;</th><th scope=col>&lt;dbl&gt;</th><th scope=col>&lt;dbl&gt;</th><th scope=col>&lt;date&gt;</th><th scope=col>&lt;int&gt;</th></tr>\n",
       "</thead>\n",
       "<tbody>\n",
       "\t<tr><th scope=row>1</th><td></td><td>Afghanistan</td><td> 33.939</td><td>67.710</td><td>2020-01-22</td><td>0</td></tr>\n",
       "\t<tr><th scope=row>2</th><td></td><td>Albania    </td><td> 41.153</td><td>20.168</td><td>2020-01-22</td><td>0</td></tr>\n",
       "\t<tr><th scope=row>3</th><td></td><td>Algeria    </td><td> 28.034</td><td> 1.660</td><td>2020-01-22</td><td>0</td></tr>\n",
       "\t<tr><th scope=row>4</th><td></td><td>Andorra    </td><td> 42.506</td><td> 1.522</td><td>2020-01-22</td><td>0</td></tr>\n",
       "\t<tr><th scope=row>5</th><td></td><td>Angola     </td><td>-11.203</td><td>17.874</td><td>2020-01-22</td><td>0</td></tr>\n",
       "\t<tr><th scope=row>6</th><td></td><td>Antarctica </td><td>-71.950</td><td>23.347</td><td>2020-01-22</td><td>0</td></tr>\n",
       "</tbody>\n",
       "</table>\n"
      ],
      "text/latex": [
       "A data.frame: 6 × 6\n",
       "\\begin{tabular}{r|llllll}\n",
       "  & subregion & country & Lat & Long & date & conf\\\\\n",
       "  & <chr> & <chr> & <dbl> & <dbl> & <date> & <int>\\\\\n",
       "\\hline\n",
       "\t1 &  & Afghanistan &  33.939 & 67.710 & 2020-01-22 & 0\\\\\n",
       "\t2 &  & Albania     &  41.153 & 20.168 & 2020-01-22 & 0\\\\\n",
       "\t3 &  & Algeria     &  28.034 &  1.660 & 2020-01-22 & 0\\\\\n",
       "\t4 &  & Andorra     &  42.506 &  1.522 & 2020-01-22 & 0\\\\\n",
       "\t5 &  & Angola      & -11.203 & 17.874 & 2020-01-22 & 0\\\\\n",
       "\t6 &  & Antarctica  & -71.950 & 23.347 & 2020-01-22 & 0\\\\\n",
       "\\end{tabular}\n"
      ],
      "text/markdown": [
       "\n",
       "A data.frame: 6 × 6\n",
       "\n",
       "| <!--/--> | subregion &lt;chr&gt; | country &lt;chr&gt; | Lat &lt;dbl&gt; | Long &lt;dbl&gt; | date &lt;date&gt; | conf &lt;int&gt; |\n",
       "|---|---|---|---|---|---|---|\n",
       "| 1 | <!----> | Afghanistan |  33.939 | 67.710 | 2020-01-22 | 0 |\n",
       "| 2 | <!----> | Albania     |  41.153 | 20.168 | 2020-01-22 | 0 |\n",
       "| 3 | <!----> | Algeria     |  28.034 |  1.660 | 2020-01-22 | 0 |\n",
       "| 4 | <!----> | Andorra     |  42.506 |  1.522 | 2020-01-22 | 0 |\n",
       "| 5 | <!----> | Angola      | -11.203 | 17.874 | 2020-01-22 | 0 |\n",
       "| 6 | <!----> | Antarctica  | -71.950 | 23.347 | 2020-01-22 | 0 |\n",
       "\n"
      ],
      "text/plain": [
       "  subregion country     Lat     Long   date       conf\n",
       "1           Afghanistan  33.939 67.710 2020-01-22 0   \n",
       "2           Albania      41.153 20.168 2020-01-22 0   \n",
       "3           Algeria      28.034  1.660 2020-01-22 0   \n",
       "4           Andorra      42.506  1.522 2020-01-22 0   \n",
       "5           Angola      -11.203 17.874 2020-01-22 0   \n",
       "6           Antarctica  -71.950 23.347 2020-01-22 0   "
      ]
     },
     "metadata": {},
     "output_type": "display_data"
    }
   ],
   "source": [
    "head(case.conf)"
   ]
  },
  {
   "cell_type": "code",
   "execution_count": 905,
   "id": "6596fd39",
   "metadata": {},
   "outputs": [],
   "source": [
    "case.conf = case.conf[case.conf$country!= 'Canada' & case.conf$country!= 'China',]\n",
    "case.death = case.death[case.death$country!= 'Canada' & case.death$country!= 'China',]\n",
    "case.recov = case.recov[case.recov$country!= 'Canada' & case.recov$country!= 'China',]"
   ]
  },
  {
   "cell_type": "code",
   "execution_count": 906,
   "id": "4831ea0a",
   "metadata": {},
   "outputs": [],
   "source": [
    "#case.conf[case.conf$country == 'Canada',]"
   ]
  },
  {
   "cell_type": "code",
   "execution_count": 907,
   "id": "b2240b63",
   "metadata": {},
   "outputs": [
    {
     "data": {
      "text/html": [
       "<table class=\"dataframe\">\n",
       "<caption>A data.frame: 6 × 6</caption>\n",
       "<thead>\n",
       "\t<tr><th></th><th scope=col>subregion</th><th scope=col>country</th><th scope=col>Lat</th><th scope=col>Long</th><th scope=col>date</th><th scope=col>conf</th></tr>\n",
       "\t<tr><th></th><th scope=col>&lt;chr&gt;</th><th scope=col>&lt;chr&gt;</th><th scope=col>&lt;dbl&gt;</th><th scope=col>&lt;dbl&gt;</th><th scope=col>&lt;date&gt;</th><th scope=col>&lt;int&gt;</th></tr>\n",
       "</thead>\n",
       "<tbody>\n",
       "\t<tr><th scope=row>1</th><td></td><td>Afghanistan</td><td>33.939</td><td>67.71</td><td>2020-01-22</td><td>0</td></tr>\n",
       "\t<tr><th scope=row>2</th><td></td><td>Afghanistan</td><td>33.939</td><td>67.71</td><td>2020-01-23</td><td>0</td></tr>\n",
       "\t<tr><th scope=row>3</th><td></td><td>Afghanistan</td><td>33.939</td><td>67.71</td><td>2020-01-24</td><td>0</td></tr>\n",
       "\t<tr><th scope=row>4</th><td></td><td>Afghanistan</td><td>33.939</td><td>67.71</td><td>2020-01-25</td><td>0</td></tr>\n",
       "\t<tr><th scope=row>5</th><td></td><td>Afghanistan</td><td>33.939</td><td>67.71</td><td>2020-01-26</td><td>0</td></tr>\n",
       "\t<tr><th scope=row>6</th><td></td><td>Afghanistan</td><td>33.939</td><td>67.71</td><td>2020-01-27</td><td>0</td></tr>\n",
       "</tbody>\n",
       "</table>\n"
      ],
      "text/latex": [
       "A data.frame: 6 × 6\n",
       "\\begin{tabular}{r|llllll}\n",
       "  & subregion & country & Lat & Long & date & conf\\\\\n",
       "  & <chr> & <chr> & <dbl> & <dbl> & <date> & <int>\\\\\n",
       "\\hline\n",
       "\t1 &  & Afghanistan & 33.939 & 67.71 & 2020-01-22 & 0\\\\\n",
       "\t2 &  & Afghanistan & 33.939 & 67.71 & 2020-01-23 & 0\\\\\n",
       "\t3 &  & Afghanistan & 33.939 & 67.71 & 2020-01-24 & 0\\\\\n",
       "\t4 &  & Afghanistan & 33.939 & 67.71 & 2020-01-25 & 0\\\\\n",
       "\t5 &  & Afghanistan & 33.939 & 67.71 & 2020-01-26 & 0\\\\\n",
       "\t6 &  & Afghanistan & 33.939 & 67.71 & 2020-01-27 & 0\\\\\n",
       "\\end{tabular}\n"
      ],
      "text/markdown": [
       "\n",
       "A data.frame: 6 × 6\n",
       "\n",
       "| <!--/--> | subregion &lt;chr&gt; | country &lt;chr&gt; | Lat &lt;dbl&gt; | Long &lt;dbl&gt; | date &lt;date&gt; | conf &lt;int&gt; |\n",
       "|---|---|---|---|---|---|---|\n",
       "| 1 | <!----> | Afghanistan | 33.939 | 67.71 | 2020-01-22 | 0 |\n",
       "| 2 | <!----> | Afghanistan | 33.939 | 67.71 | 2020-01-23 | 0 |\n",
       "| 3 | <!----> | Afghanistan | 33.939 | 67.71 | 2020-01-24 | 0 |\n",
       "| 4 | <!----> | Afghanistan | 33.939 | 67.71 | 2020-01-25 | 0 |\n",
       "| 5 | <!----> | Afghanistan | 33.939 | 67.71 | 2020-01-26 | 0 |\n",
       "| 6 | <!----> | Afghanistan | 33.939 | 67.71 | 2020-01-27 | 0 |\n",
       "\n"
      ],
      "text/plain": [
       "  subregion country     Lat    Long  date       conf\n",
       "1           Afghanistan 33.939 67.71 2020-01-22 0   \n",
       "2           Afghanistan 33.939 67.71 2020-01-23 0   \n",
       "3           Afghanistan 33.939 67.71 2020-01-24 0   \n",
       "4           Afghanistan 33.939 67.71 2020-01-25 0   \n",
       "5           Afghanistan 33.939 67.71 2020-01-26 0   \n",
       "6           Afghanistan 33.939 67.71 2020-01-27 0   "
      ]
     },
     "metadata": {},
     "output_type": "display_data"
    }
   ],
   "source": [
    "#head(case.conf)\n",
    "head(case.conf %>% arrange(country))"
   ]
  },
  {
   "cell_type": "code",
   "execution_count": 908,
   "id": "8a0a5a7b",
   "metadata": {},
   "outputs": [
    {
     "data": {
      "text/html": [
       "<table class=\"dataframe\">\n",
       "<caption>A data.frame: 6 × 6</caption>\n",
       "<thead>\n",
       "\t<tr><th></th><th scope=col>subregion</th><th scope=col>country</th><th scope=col>Lat</th><th scope=col>Long</th><th scope=col>date</th><th scope=col>conf</th></tr>\n",
       "\t<tr><th></th><th scope=col>&lt;chr&gt;</th><th scope=col>&lt;chr&gt;</th><th scope=col>&lt;dbl&gt;</th><th scope=col>&lt;dbl&gt;</th><th scope=col>&lt;date&gt;</th><th scope=col>&lt;int&gt;</th></tr>\n",
       "</thead>\n",
       "<tbody>\n",
       "\t<tr><th scope=row>292752</th><td></td><td>Vietnam             </td><td> 14.058</td><td>108.277</td><td>2022-10-30</td><td>11502474</td></tr>\n",
       "\t<tr><th scope=row>292753</th><td></td><td>West Bank and Gaza  </td><td> 31.952</td><td> 35.233</td><td>2022-10-30</td><td>  703014</td></tr>\n",
       "\t<tr><th scope=row>292754</th><td></td><td>Winter Olympics 2022</td><td> 39.904</td><td>116.407</td><td>2022-10-30</td><td>     535</td></tr>\n",
       "\t<tr><th scope=row>292755</th><td></td><td>Yemen               </td><td> 15.553</td><td> 48.516</td><td>2022-10-30</td><td>   11939</td></tr>\n",
       "\t<tr><th scope=row>292756</th><td></td><td>Zambia              </td><td>-13.134</td><td> 27.849</td><td>2022-10-30</td><td>  333681</td></tr>\n",
       "\t<tr><th scope=row>292757</th><td></td><td>Zimbabwe            </td><td>-19.015</td><td> 29.155</td><td>2022-10-30</td><td>  257893</td></tr>\n",
       "</tbody>\n",
       "</table>\n"
      ],
      "text/latex": [
       "A data.frame: 6 × 6\n",
       "\\begin{tabular}{r|llllll}\n",
       "  & subregion & country & Lat & Long & date & conf\\\\\n",
       "  & <chr> & <chr> & <dbl> & <dbl> & <date> & <int>\\\\\n",
       "\\hline\n",
       "\t292752 &  & Vietnam              &  14.058 & 108.277 & 2022-10-30 & 11502474\\\\\n",
       "\t292753 &  & West Bank and Gaza   &  31.952 &  35.233 & 2022-10-30 &   703014\\\\\n",
       "\t292754 &  & Winter Olympics 2022 &  39.904 & 116.407 & 2022-10-30 &      535\\\\\n",
       "\t292755 &  & Yemen                &  15.553 &  48.516 & 2022-10-30 &    11939\\\\\n",
       "\t292756 &  & Zambia               & -13.134 &  27.849 & 2022-10-30 &   333681\\\\\n",
       "\t292757 &  & Zimbabwe             & -19.015 &  29.155 & 2022-10-30 &   257893\\\\\n",
       "\\end{tabular}\n"
      ],
      "text/markdown": [
       "\n",
       "A data.frame: 6 × 6\n",
       "\n",
       "| <!--/--> | subregion &lt;chr&gt; | country &lt;chr&gt; | Lat &lt;dbl&gt; | Long &lt;dbl&gt; | date &lt;date&gt; | conf &lt;int&gt; |\n",
       "|---|---|---|---|---|---|---|\n",
       "| 292752 | <!----> | Vietnam              |  14.058 | 108.277 | 2022-10-30 | 11502474 |\n",
       "| 292753 | <!----> | West Bank and Gaza   |  31.952 |  35.233 | 2022-10-30 |   703014 |\n",
       "| 292754 | <!----> | Winter Olympics 2022 |  39.904 | 116.407 | 2022-10-30 |      535 |\n",
       "| 292755 | <!----> | Yemen                |  15.553 |  48.516 | 2022-10-30 |    11939 |\n",
       "| 292756 | <!----> | Zambia               | -13.134 |  27.849 | 2022-10-30 |   333681 |\n",
       "| 292757 | <!----> | Zimbabwe             | -19.015 |  29.155 | 2022-10-30 |   257893 |\n",
       "\n"
      ],
      "text/plain": [
       "       subregion country              Lat     Long    date       conf    \n",
       "292752           Vietnam               14.058 108.277 2022-10-30 11502474\n",
       "292753           West Bank and Gaza    31.952  35.233 2022-10-30   703014\n",
       "292754           Winter Olympics 2022  39.904 116.407 2022-10-30      535\n",
       "292755           Yemen                 15.553  48.516 2022-10-30    11939\n",
       "292756           Zambia               -13.134  27.849 2022-10-30   333681\n",
       "292757           Zimbabwe             -19.015  29.155 2022-10-30   257893"
      ]
     },
     "metadata": {},
     "output_type": "display_data"
    }
   ],
   "source": [
    "tail(case.conf)"
   ]
  },
  {
   "cell_type": "code",
   "execution_count": 909,
   "id": "5659ea1d",
   "metadata": {},
   "outputs": [
    {
     "data": {
      "text/html": [
       "<table class=\"dataframe\">\n",
       "<caption>A data.frame: 6 × 6</caption>\n",
       "<thead>\n",
       "\t<tr><th></th><th scope=col>subregion</th><th scope=col>country</th><th scope=col>Lat</th><th scope=col>Long</th><th scope=col>date</th><th scope=col>death</th></tr>\n",
       "\t<tr><th></th><th scope=col>&lt;chr&gt;</th><th scope=col>&lt;chr&gt;</th><th scope=col>&lt;dbl&gt;</th><th scope=col>&lt;dbl&gt;</th><th scope=col>&lt;date&gt;</th><th scope=col>&lt;int&gt;</th></tr>\n",
       "</thead>\n",
       "<tbody>\n",
       "\t<tr><th scope=row>288128</th><td></td><td>Vietnam             </td><td> 14.058</td><td>108.277</td><td>2022-10-14</td><td>43155</td></tr>\n",
       "\t<tr><th scope=row>288129</th><td></td><td>West Bank and Gaza  </td><td> 31.952</td><td> 35.233</td><td>2022-10-14</td><td> 5707</td></tr>\n",
       "\t<tr><th scope=row>288130</th><td></td><td>Winter Olympics 2022</td><td> 39.904</td><td>116.407</td><td>2022-10-14</td><td>    0</td></tr>\n",
       "\t<tr><th scope=row>288131</th><td></td><td>Yemen               </td><td> 15.553</td><td> 48.516</td><td>2022-10-14</td><td> 2158</td></tr>\n",
       "\t<tr><th scope=row>288132</th><td></td><td>Zambia              </td><td>-13.134</td><td> 27.849</td><td>2022-10-14</td><td> 4017</td></tr>\n",
       "\t<tr><th scope=row>288133</th><td></td><td>Zimbabwe            </td><td>-19.015</td><td> 29.155</td><td>2022-10-14</td><td> 5605</td></tr>\n",
       "</tbody>\n",
       "</table>\n"
      ],
      "text/latex": [
       "A data.frame: 6 × 6\n",
       "\\begin{tabular}{r|llllll}\n",
       "  & subregion & country & Lat & Long & date & death\\\\\n",
       "  & <chr> & <chr> & <dbl> & <dbl> & <date> & <int>\\\\\n",
       "\\hline\n",
       "\t288128 &  & Vietnam              &  14.058 & 108.277 & 2022-10-14 & 43155\\\\\n",
       "\t288129 &  & West Bank and Gaza   &  31.952 &  35.233 & 2022-10-14 &  5707\\\\\n",
       "\t288130 &  & Winter Olympics 2022 &  39.904 & 116.407 & 2022-10-14 &     0\\\\\n",
       "\t288131 &  & Yemen                &  15.553 &  48.516 & 2022-10-14 &  2158\\\\\n",
       "\t288132 &  & Zambia               & -13.134 &  27.849 & 2022-10-14 &  4017\\\\\n",
       "\t288133 &  & Zimbabwe             & -19.015 &  29.155 & 2022-10-14 &  5605\\\\\n",
       "\\end{tabular}\n"
      ],
      "text/markdown": [
       "\n",
       "A data.frame: 6 × 6\n",
       "\n",
       "| <!--/--> | subregion &lt;chr&gt; | country &lt;chr&gt; | Lat &lt;dbl&gt; | Long &lt;dbl&gt; | date &lt;date&gt; | death &lt;int&gt; |\n",
       "|---|---|---|---|---|---|---|\n",
       "| 288128 | <!----> | Vietnam              |  14.058 | 108.277 | 2022-10-14 | 43155 |\n",
       "| 288129 | <!----> | West Bank and Gaza   |  31.952 |  35.233 | 2022-10-14 |  5707 |\n",
       "| 288130 | <!----> | Winter Olympics 2022 |  39.904 | 116.407 | 2022-10-14 |     0 |\n",
       "| 288131 | <!----> | Yemen                |  15.553 |  48.516 | 2022-10-14 |  2158 |\n",
       "| 288132 | <!----> | Zambia               | -13.134 |  27.849 | 2022-10-14 |  4017 |\n",
       "| 288133 | <!----> | Zimbabwe             | -19.015 |  29.155 | 2022-10-14 |  5605 |\n",
       "\n"
      ],
      "text/plain": [
       "       subregion country              Lat     Long    date       death\n",
       "288128           Vietnam               14.058 108.277 2022-10-14 43155\n",
       "288129           West Bank and Gaza    31.952  35.233 2022-10-14  5707\n",
       "288130           Winter Olympics 2022  39.904 116.407 2022-10-14     0\n",
       "288131           Yemen                 15.553  48.516 2022-10-14  2158\n",
       "288132           Zambia               -13.134  27.849 2022-10-14  4017\n",
       "288133           Zimbabwe             -19.015  29.155 2022-10-14  5605"
      ]
     },
     "metadata": {},
     "output_type": "display_data"
    }
   ],
   "source": [
    "tail(case.death)"
   ]
  },
  {
   "cell_type": "code",
   "execution_count": 910,
   "id": "c0c02393",
   "metadata": {},
   "outputs": [],
   "source": [
    "# we have to remove recovered data for Canada due to mismatch issue (🤷‍♂ Canada recovered data is counted by Country-wise rather than Province/State-wise)."
   ]
  },
  {
   "cell_type": "code",
   "execution_count": 911,
   "id": "da3469ca",
   "metadata": {},
   "outputs": [
    {
     "data": {
      "text/html": [
       "<table class=\"dataframe\">\n",
       "<caption>A data.frame: 6 × 6</caption>\n",
       "<thead>\n",
       "\t<tr><th></th><th scope=col>subregion</th><th scope=col>country</th><th scope=col>Lat</th><th scope=col>Long</th><th scope=col>date</th><th scope=col>recov</th></tr>\n",
       "\t<tr><th></th><th scope=col>&lt;chr&gt;</th><th scope=col>&lt;chr&gt;</th><th scope=col>&lt;dbl&gt;</th><th scope=col>&lt;dbl&gt;</th><th scope=col>&lt;date&gt;</th><th scope=col>&lt;int&gt;</th></tr>\n",
       "</thead>\n",
       "<tbody>\n",
       "\t<tr><th scope=row>1</th><td></td><td>Afghanistan</td><td> 33.939</td><td>67.710</td><td>2020-01-22</td><td>0</td></tr>\n",
       "\t<tr><th scope=row>2</th><td></td><td>Albania    </td><td> 41.153</td><td>20.168</td><td>2020-01-22</td><td>0</td></tr>\n",
       "\t<tr><th scope=row>3</th><td></td><td>Algeria    </td><td> 28.034</td><td> 1.660</td><td>2020-01-22</td><td>0</td></tr>\n",
       "\t<tr><th scope=row>4</th><td></td><td>Andorra    </td><td> 42.506</td><td> 1.522</td><td>2020-01-22</td><td>0</td></tr>\n",
       "\t<tr><th scope=row>5</th><td></td><td>Angola     </td><td>-11.203</td><td>17.874</td><td>2020-01-22</td><td>0</td></tr>\n",
       "\t<tr><th scope=row>6</th><td></td><td>Antarctica </td><td>-71.950</td><td>23.347</td><td>2020-01-22</td><td>0</td></tr>\n",
       "</tbody>\n",
       "</table>\n"
      ],
      "text/latex": [
       "A data.frame: 6 × 6\n",
       "\\begin{tabular}{r|llllll}\n",
       "  & subregion & country & Lat & Long & date & recov\\\\\n",
       "  & <chr> & <chr> & <dbl> & <dbl> & <date> & <int>\\\\\n",
       "\\hline\n",
       "\t1 &  & Afghanistan &  33.939 & 67.710 & 2020-01-22 & 0\\\\\n",
       "\t2 &  & Albania     &  41.153 & 20.168 & 2020-01-22 & 0\\\\\n",
       "\t3 &  & Algeria     &  28.034 &  1.660 & 2020-01-22 & 0\\\\\n",
       "\t4 &  & Andorra     &  42.506 &  1.522 & 2020-01-22 & 0\\\\\n",
       "\t5 &  & Angola      & -11.203 & 17.874 & 2020-01-22 & 0\\\\\n",
       "\t6 &  & Antarctica  & -71.950 & 23.347 & 2020-01-22 & 0\\\\\n",
       "\\end{tabular}\n"
      ],
      "text/markdown": [
       "\n",
       "A data.frame: 6 × 6\n",
       "\n",
       "| <!--/--> | subregion &lt;chr&gt; | country &lt;chr&gt; | Lat &lt;dbl&gt; | Long &lt;dbl&gt; | date &lt;date&gt; | recov &lt;int&gt; |\n",
       "|---|---|---|---|---|---|---|\n",
       "| 1 | <!----> | Afghanistan |  33.939 | 67.710 | 2020-01-22 | 0 |\n",
       "| 2 | <!----> | Albania     |  41.153 | 20.168 | 2020-01-22 | 0 |\n",
       "| 3 | <!----> | Algeria     |  28.034 |  1.660 | 2020-01-22 | 0 |\n",
       "| 4 | <!----> | Andorra     |  42.506 |  1.522 | 2020-01-22 | 0 |\n",
       "| 5 | <!----> | Angola      | -11.203 | 17.874 | 2020-01-22 | 0 |\n",
       "| 6 | <!----> | Antarctica  | -71.950 | 23.347 | 2020-01-22 | 0 |\n",
       "\n"
      ],
      "text/plain": [
       "  subregion country     Lat     Long   date       recov\n",
       "1           Afghanistan  33.939 67.710 2020-01-22 0    \n",
       "2           Albania      41.153 20.168 2020-01-22 0    \n",
       "3           Algeria      28.034  1.660 2020-01-22 0    \n",
       "4           Andorra      42.506  1.522 2020-01-22 0    \n",
       "5           Angola      -11.203 17.874 2020-01-22 0    \n",
       "6           Antarctica  -71.950 23.347 2020-01-22 0    "
      ]
     },
     "metadata": {},
     "output_type": "display_data"
    }
   ],
   "source": [
    "head(case.recov)"
   ]
  },
  {
   "cell_type": "code",
   "execution_count": 912,
   "id": "b85a5dd0",
   "metadata": {},
   "outputs": [],
   "source": [
    "full_date = full_join(case.conf, case.death, by = c('subregion','country','Lat','Long', 'date'))\n",
    "\n",
    "country = full_join(full_date, case.recov, by = c('subregion','country','Lat','Long', 'date'))"
   ]
  },
  {
   "cell_type": "code",
   "execution_count": 913,
   "id": "bd019df7",
   "metadata": {},
   "outputs": [
    {
     "data": {
      "text/html": [
       "7648"
      ],
      "text/latex": [
       "7648"
      ],
      "text/markdown": [
       "7648"
      ],
      "text/plain": [
       "[1] 7648"
      ]
     },
     "metadata": {},
     "output_type": "display_data"
    }
   ],
   "source": [
    "sum(is.na(country))"
   ]
  },
  {
   "cell_type": "code",
   "execution_count": 914,
   "id": "d180649d",
   "metadata": {},
   "outputs": [],
   "source": [
    "country = country %>% filter(!is.na(Lat) & !is.na(Long) & !is.na(conf) & !is.na(death) & !is.na(recov))\n",
    "\n",
    "country = country[country$recov >=0 & country$death >=0 & country$conf >=0,]"
   ]
  },
  {
   "cell_type": "code",
   "execution_count": 915,
   "id": "46c3ddca",
   "metadata": {},
   "outputs": [
    {
     "data": {
      "text/html": [
       "0"
      ],
      "text/latex": [
       "0"
      ],
      "text/markdown": [
       "0"
      ],
      "text/plain": [
       "[1] 0"
      ]
     },
     "metadata": {},
     "output_type": "display_data"
    }
   ],
   "source": [
    "sum(is.na(country))"
   ]
  },
  {
   "cell_type": "code",
   "execution_count": 916,
   "id": "b2f454b8",
   "metadata": {},
   "outputs": [
    {
     "data": {
      "text/html": [
       "<style>\n",
       ".list-inline {list-style: none; margin:0; padding: 0}\n",
       ".list-inline>li {display: inline-block}\n",
       ".list-inline>li:not(:last-child)::after {content: \"\\00b7\"; padding: 0 .5ex}\n",
       "</style>\n",
       "<ol class=list-inline><li>238275</li><li>8</li></ol>\n"
      ],
      "text/latex": [
       "\\begin{enumerate*}\n",
       "\\item 238275\n",
       "\\item 8\n",
       "\\end{enumerate*}\n"
      ],
      "text/markdown": [
       "1. 238275\n",
       "2. 8\n",
       "\n",
       "\n"
      ],
      "text/plain": [
       "[1] 238275      8"
      ]
     },
     "metadata": {},
     "output_type": "display_data"
    }
   ],
   "source": [
    "dim(country)"
   ]
  },
  {
   "cell_type": "code",
   "execution_count": 917,
   "id": "79872fd7",
   "metadata": {},
   "outputs": [
    {
     "data": {
      "text/html": [
       "199"
      ],
      "text/latex": [
       "199"
      ],
      "text/markdown": [
       "199"
      ],
      "text/plain": [
       "[1] 199"
      ]
     },
     "metadata": {},
     "output_type": "display_data"
    }
   ],
   "source": [
    "length(unique(country$country))"
   ]
  },
  {
   "cell_type": "code",
   "execution_count": null,
   "id": "872df9a3",
   "metadata": {},
   "outputs": [],
   "source": []
  },
  {
   "cell_type": "markdown",
   "id": "21d94f7d",
   "metadata": {},
   "source": [
    "# Compute Active Cases "
   ]
  },
  {
   "cell_type": "code",
   "execution_count": 918,
   "id": "3590cfaf",
   "metadata": {},
   "outputs": [
    {
     "data": {
      "text/html": [
       "<style>\n",
       ".list-inline {list-style: none; margin:0; padding: 0}\n",
       ".list-inline>li {display: inline-block}\n",
       ".list-inline>li:not(:last-child)::after {content: \"\\00b7\"; padding: 0 .5ex}\n",
       "</style>\n",
       "<ol class=list-inline><li>238275</li><li>8</li></ol>\n"
      ],
      "text/latex": [
       "\\begin{enumerate*}\n",
       "\\item 238275\n",
       "\\item 8\n",
       "\\end{enumerate*}\n"
      ],
      "text/markdown": [
       "1. 238275\n",
       "2. 8\n",
       "\n",
       "\n"
      ],
      "text/plain": [
       "[1] 238275      8"
      ]
     },
     "metadata": {},
     "output_type": "display_data"
    }
   ],
   "source": [
    "dim(country)"
   ]
  },
  {
   "cell_type": "code",
   "execution_count": 919,
   "id": "09f0f47b",
   "metadata": {},
   "outputs": [],
   "source": [
    "country$Active = country$conf -  country$death - country$recov\n",
    "\n",
    "country = country[country$Active>=0 & country$recov>=0,]"
   ]
  },
  {
   "cell_type": "code",
   "execution_count": 920,
   "id": "79a62d7f",
   "metadata": {},
   "outputs": [
    {
     "data": {
      "text/html": [
       "<style>\n",
       ".list-inline {list-style: none; margin:0; padding: 0}\n",
       ".list-inline>li {display: inline-block}\n",
       ".list-inline>li:not(:last-child)::after {content: \"\\00b7\"; padding: 0 .5ex}\n",
       "</style>\n",
       "<ol class=list-inline><li>237159</li><li>9</li></ol>\n"
      ],
      "text/latex": [
       "\\begin{enumerate*}\n",
       "\\item 237159\n",
       "\\item 9\n",
       "\\end{enumerate*}\n"
      ],
      "text/markdown": [
       "1. 237159\n",
       "2. 9\n",
       "\n",
       "\n"
      ],
      "text/plain": [
       "[1] 237159      9"
      ]
     },
     "metadata": {},
     "output_type": "display_data"
    }
   ],
   "source": [
    "dim(country)"
   ]
  },
  {
   "cell_type": "code",
   "execution_count": 921,
   "id": "cf9ba108",
   "metadata": {},
   "outputs": [
    {
     "data": {
      "text/html": [
       "<table class=\"dataframe\">\n",
       "<caption>A data.frame: 6 × 9</caption>\n",
       "<thead>\n",
       "\t<tr><th></th><th scope=col>subregion</th><th scope=col>country</th><th scope=col>Lat</th><th scope=col>Long</th><th scope=col>date</th><th scope=col>conf</th><th scope=col>death</th><th scope=col>recov</th><th scope=col>Active</th></tr>\n",
       "\t<tr><th></th><th scope=col>&lt;chr&gt;</th><th scope=col>&lt;chr&gt;</th><th scope=col>&lt;dbl&gt;</th><th scope=col>&lt;dbl&gt;</th><th scope=col>&lt;date&gt;</th><th scope=col>&lt;int&gt;</th><th scope=col>&lt;int&gt;</th><th scope=col>&lt;int&gt;</th><th scope=col>&lt;int&gt;</th></tr>\n",
       "</thead>\n",
       "<tbody>\n",
       "\t<tr><th scope=row>203</th><td></td><td>Thailand</td><td>15.870</td><td>100.993</td><td>2020-01-22</td><td>4</td><td>0</td><td>2</td><td>2</td></tr>\n",
       "\t<tr><th scope=row>442</th><td></td><td>Thailand</td><td>15.870</td><td>100.993</td><td>2020-01-23</td><td>4</td><td>0</td><td>2</td><td>2</td></tr>\n",
       "\t<tr><th scope=row>681</th><td></td><td>Thailand</td><td>15.870</td><td>100.993</td><td>2020-01-24</td><td>5</td><td>0</td><td>3</td><td>2</td></tr>\n",
       "\t<tr><th scope=row>920</th><td></td><td>Thailand</td><td>15.870</td><td>100.993</td><td>2020-01-25</td><td>6</td><td>0</td><td>3</td><td>3</td></tr>\n",
       "\t<tr><th scope=row>1063</th><td></td><td>Japan   </td><td>36.205</td><td>138.253</td><td>2020-01-26</td><td>4</td><td>0</td><td>1</td><td>3</td></tr>\n",
       "\t<tr><th scope=row>1159</th><td></td><td>Thailand</td><td>15.870</td><td>100.993</td><td>2020-01-26</td><td>8</td><td>0</td><td>6</td><td>2</td></tr>\n",
       "</tbody>\n",
       "</table>\n"
      ],
      "text/latex": [
       "A data.frame: 6 × 9\n",
       "\\begin{tabular}{r|lllllllll}\n",
       "  & subregion & country & Lat & Long & date & conf & death & recov & Active\\\\\n",
       "  & <chr> & <chr> & <dbl> & <dbl> & <date> & <int> & <int> & <int> & <int>\\\\\n",
       "\\hline\n",
       "\t203 &  & Thailand & 15.870 & 100.993 & 2020-01-22 & 4 & 0 & 2 & 2\\\\\n",
       "\t442 &  & Thailand & 15.870 & 100.993 & 2020-01-23 & 4 & 0 & 2 & 2\\\\\n",
       "\t681 &  & Thailand & 15.870 & 100.993 & 2020-01-24 & 5 & 0 & 3 & 2\\\\\n",
       "\t920 &  & Thailand & 15.870 & 100.993 & 2020-01-25 & 6 & 0 & 3 & 3\\\\\n",
       "\t1063 &  & Japan    & 36.205 & 138.253 & 2020-01-26 & 4 & 0 & 1 & 3\\\\\n",
       "\t1159 &  & Thailand & 15.870 & 100.993 & 2020-01-26 & 8 & 0 & 6 & 2\\\\\n",
       "\\end{tabular}\n"
      ],
      "text/markdown": [
       "\n",
       "A data.frame: 6 × 9\n",
       "\n",
       "| <!--/--> | subregion &lt;chr&gt; | country &lt;chr&gt; | Lat &lt;dbl&gt; | Long &lt;dbl&gt; | date &lt;date&gt; | conf &lt;int&gt; | death &lt;int&gt; | recov &lt;int&gt; | Active &lt;int&gt; |\n",
       "|---|---|---|---|---|---|---|---|---|---|\n",
       "| 203 | <!----> | Thailand | 15.870 | 100.993 | 2020-01-22 | 4 | 0 | 2 | 2 |\n",
       "| 442 | <!----> | Thailand | 15.870 | 100.993 | 2020-01-23 | 4 | 0 | 2 | 2 |\n",
       "| 681 | <!----> | Thailand | 15.870 | 100.993 | 2020-01-24 | 5 | 0 | 3 | 2 |\n",
       "| 920 | <!----> | Thailand | 15.870 | 100.993 | 2020-01-25 | 6 | 0 | 3 | 3 |\n",
       "| 1063 | <!----> | Japan    | 36.205 | 138.253 | 2020-01-26 | 4 | 0 | 1 | 3 |\n",
       "| 1159 | <!----> | Thailand | 15.870 | 100.993 | 2020-01-26 | 8 | 0 | 6 | 2 |\n",
       "\n"
      ],
      "text/plain": [
       "     subregion country  Lat    Long    date       conf death recov Active\n",
       "203            Thailand 15.870 100.993 2020-01-22 4    0     2     2     \n",
       "442            Thailand 15.870 100.993 2020-01-23 4    0     2     2     \n",
       "681            Thailand 15.870 100.993 2020-01-24 5    0     3     2     \n",
       "920            Thailand 15.870 100.993 2020-01-25 6    0     3     3     \n",
       "1063           Japan    36.205 138.253 2020-01-26 4    0     1     3     \n",
       "1159           Thailand 15.870 100.993 2020-01-26 8    0     6     2     "
      ]
     },
     "metadata": {},
     "output_type": "display_data"
    }
   ],
   "source": [
    "head(country[country$recov !=0,])"
   ]
  },
  {
   "cell_type": "markdown",
   "id": "48c39bd6",
   "metadata": {},
   "source": [
    "## Get 'NewCases' 'NewDeath' and 'New Recovered' 'New Active' details"
   ]
  },
  {
   "cell_type": "code",
   "execution_count": 922,
   "id": "f0e04cee",
   "metadata": {},
   "outputs": [],
   "source": [
    "getNewCases = function(nation,col,newcolname){\n",
    "    df = country\n",
    "    df = df[df$country == nation,]\n",
    "    \n",
    "    df = df %>% arrange(date)\n",
    "    newCases = df[2:dim(df)[1],][,col] - df[1:dim(df)[1],][,col]\n",
    "    newCases = append(newCases,0,0)\n",
    "    \n",
    "    newCases = newCases[-length(newCases)]\n",
    "    df$newCases = as.integer(0)\n",
    "    names(df)[names(df) == \"newCases\"] <- newcol\n",
    "    \n",
    "    df[,newcol] <- newCases\n",
    "\n",
    "    return(df)\n",
    "    }"
   ]
  },
  {
   "cell_type": "markdown",
   "id": "2128cba3",
   "metadata": {},
   "source": [
    "#### Get New Cases"
   ]
  },
  {
   "cell_type": "code",
   "execution_count": 923,
   "id": "f6113c7c",
   "metadata": {},
   "outputs": [],
   "source": [
    "country_newCases <- country\n",
    "country_newCases$newCases = as.integer(0)\n",
    "country_newCases <- country_newCases[0,]\n",
    "\n",
    "newcol = \"newCases\"\n",
    "\n",
    "for(c in unique(country$country))\n",
    "    {\n",
    "    country_newCases = rbind(country_newCases,getNewCases(c,'conf','newCases'))\n",
    "}"
   ]
  },
  {
   "cell_type": "markdown",
   "id": "54ad6214",
   "metadata": {},
   "source": [
    "#### Get New Death Cases"
   ]
  },
  {
   "cell_type": "code",
   "execution_count": 924,
   "id": "552a60eb",
   "metadata": {},
   "outputs": [],
   "source": [
    "\n",
    "country_newDeath <- country\n",
    "country_newDeath$newDeath = as.integer(0)\n",
    "country_newDeath <- country_newDeath[0,]\n",
    "\n",
    "col = \"death\"\n",
    "newcol = \"newDeath\"\n",
    "\n",
    "for(c in unique(country$country))\n",
    "    {\n",
    "    country_newDeath = rbind(country_newDeath,getNewCases(c,col,newcol))\n",
    "}"
   ]
  },
  {
   "cell_type": "markdown",
   "id": "e7d95ad5",
   "metadata": {},
   "source": [
    "#### New Recovered Cases"
   ]
  },
  {
   "cell_type": "code",
   "execution_count": 925,
   "id": "fc6a820b",
   "metadata": {},
   "outputs": [],
   "source": [
    "\n",
    "country_newRecovered <- country\n",
    "country_newRecovered$newRecovered = as.integer(0)\n",
    "country_newRecovered <- country_newRecovered[0,]\n",
    "\n",
    "col = \"recov\"\n",
    "newcol = \"newRecovered\"\n",
    "\n",
    "for(c in unique(country$country))\n",
    "    {\n",
    "    country_newRecovered = rbind(country_newRecovered,getNewCases(c,col,newcol))\n",
    "}"
   ]
  },
  {
   "cell_type": "code",
   "execution_count": 926,
   "id": "0d3af49a",
   "metadata": {},
   "outputs": [],
   "source": [
    "#### New Active Cases"
   ]
  },
  {
   "cell_type": "code",
   "execution_count": 927,
   "id": "ec2cfe2b",
   "metadata": {},
   "outputs": [],
   "source": [
    "\n",
    "country_newActive <- country\n",
    "country_newActive$newActive = as.integer(0)\n",
    "country_newActive <- country_newActive[0,]\n",
    "\n",
    "col = \"Active\"\n",
    "newcol = \"newActive\"\n",
    "\n",
    "for(c in unique(country$country))\n",
    "    {\n",
    "    country_newActive = rbind(country_newActive,getNewCases(c,col,newcol))\n",
    "}"
   ]
  },
  {
   "cell_type": "code",
   "execution_count": null,
   "id": "0714bc39",
   "metadata": {},
   "outputs": [],
   "source": []
  },
  {
   "cell_type": "markdown",
   "id": "c67d4a20",
   "metadata": {},
   "source": [
    "### Merge All cases "
   ]
  },
  {
   "cell_type": "code",
   "execution_count": 928,
   "id": "4117c383",
   "metadata": {},
   "outputs": [],
   "source": [
    "fulldata1 = full_join(country_newCases, country_newDeath, by = c('subregion','country','Lat',\n",
    "                                                            'Long', 'date','conf','death',\n",
    "                                                            'recov','Active'))\n"
   ]
  },
  {
   "cell_type": "code",
   "execution_count": 929,
   "id": "97596fde",
   "metadata": {},
   "outputs": [],
   "source": [
    "fulldata2 = full_join(fulldata1, country_newActive, by = c('subregion','country','Lat',\n",
    "                                                            'Long', 'date','conf','death',\n",
    "                                                            'recov','Active'))"
   ]
  },
  {
   "cell_type": "code",
   "execution_count": 930,
   "id": "f7e757b1",
   "metadata": {},
   "outputs": [],
   "source": [
    "\n",
    "country = full_join(fulldata2, country_newRecovered, by = c('subregion','country','Lat',\n",
    "                                                            'Long', 'date','conf','death',\n",
    "                                                            'recov','Active'))"
   ]
  },
  {
   "cell_type": "code",
   "execution_count": null,
   "id": "92214c3d",
   "metadata": {},
   "outputs": [],
   "source": []
  },
  {
   "cell_type": "code",
   "execution_count": 932,
   "id": "90ba8544",
   "metadata": {},
   "outputs": [
    {
     "data": {
      "text/html": [
       "<table class=\"dataframe\">\n",
       "<caption>A data.frame: 6 × 13</caption>\n",
       "<thead>\n",
       "\t<tr><th></th><th scope=col>subregion</th><th scope=col>country</th><th scope=col>Lat</th><th scope=col>Long</th><th scope=col>date</th><th scope=col>conf</th><th scope=col>death</th><th scope=col>recov</th><th scope=col>Active</th><th scope=col>newCases</th><th scope=col>newDeath</th><th scope=col>newActive</th><th scope=col>newRecovered</th></tr>\n",
       "\t<tr><th></th><th scope=col>&lt;chr&gt;</th><th scope=col>&lt;chr&gt;</th><th scope=col>&lt;dbl&gt;</th><th scope=col>&lt;dbl&gt;</th><th scope=col>&lt;date&gt;</th><th scope=col>&lt;int&gt;</th><th scope=col>&lt;int&gt;</th><th scope=col>&lt;int&gt;</th><th scope=col>&lt;int&gt;</th><th scope=col>&lt;dbl&gt;</th><th scope=col>&lt;dbl&gt;</th><th scope=col>&lt;dbl&gt;</th><th scope=col>&lt;dbl&gt;</th></tr>\n",
       "</thead>\n",
       "<tbody>\n",
       "\t<tr><th scope=row>1</th><td></td><td>Afghanistan</td><td>33.939</td><td>67.71</td><td>2020-01-22</td><td>0</td><td>0</td><td>0</td><td>0</td><td>0</td><td>0</td><td>0</td><td>0</td></tr>\n",
       "\t<tr><th scope=row>2</th><td></td><td>Afghanistan</td><td>33.939</td><td>67.71</td><td>2020-01-23</td><td>0</td><td>0</td><td>0</td><td>0</td><td>0</td><td>0</td><td>0</td><td>0</td></tr>\n",
       "\t<tr><th scope=row>3</th><td></td><td>Afghanistan</td><td>33.939</td><td>67.71</td><td>2020-01-24</td><td>0</td><td>0</td><td>0</td><td>0</td><td>0</td><td>0</td><td>0</td><td>0</td></tr>\n",
       "\t<tr><th scope=row>4</th><td></td><td>Afghanistan</td><td>33.939</td><td>67.71</td><td>2020-01-25</td><td>0</td><td>0</td><td>0</td><td>0</td><td>0</td><td>0</td><td>0</td><td>0</td></tr>\n",
       "\t<tr><th scope=row>5</th><td></td><td>Afghanistan</td><td>33.939</td><td>67.71</td><td>2020-01-26</td><td>0</td><td>0</td><td>0</td><td>0</td><td>0</td><td>0</td><td>0</td><td>0</td></tr>\n",
       "\t<tr><th scope=row>6</th><td></td><td>Afghanistan</td><td>33.939</td><td>67.71</td><td>2020-01-27</td><td>0</td><td>0</td><td>0</td><td>0</td><td>0</td><td>0</td><td>0</td><td>0</td></tr>\n",
       "</tbody>\n",
       "</table>\n"
      ],
      "text/latex": [
       "A data.frame: 6 × 13\n",
       "\\begin{tabular}{r|lllllllllllll}\n",
       "  & subregion & country & Lat & Long & date & conf & death & recov & Active & newCases & newDeath & newActive & newRecovered\\\\\n",
       "  & <chr> & <chr> & <dbl> & <dbl> & <date> & <int> & <int> & <int> & <int> & <dbl> & <dbl> & <dbl> & <dbl>\\\\\n",
       "\\hline\n",
       "\t1 &  & Afghanistan & 33.939 & 67.71 & 2020-01-22 & 0 & 0 & 0 & 0 & 0 & 0 & 0 & 0\\\\\n",
       "\t2 &  & Afghanistan & 33.939 & 67.71 & 2020-01-23 & 0 & 0 & 0 & 0 & 0 & 0 & 0 & 0\\\\\n",
       "\t3 &  & Afghanistan & 33.939 & 67.71 & 2020-01-24 & 0 & 0 & 0 & 0 & 0 & 0 & 0 & 0\\\\\n",
       "\t4 &  & Afghanistan & 33.939 & 67.71 & 2020-01-25 & 0 & 0 & 0 & 0 & 0 & 0 & 0 & 0\\\\\n",
       "\t5 &  & Afghanistan & 33.939 & 67.71 & 2020-01-26 & 0 & 0 & 0 & 0 & 0 & 0 & 0 & 0\\\\\n",
       "\t6 &  & Afghanistan & 33.939 & 67.71 & 2020-01-27 & 0 & 0 & 0 & 0 & 0 & 0 & 0 & 0\\\\\n",
       "\\end{tabular}\n"
      ],
      "text/markdown": [
       "\n",
       "A data.frame: 6 × 13\n",
       "\n",
       "| <!--/--> | subregion &lt;chr&gt; | country &lt;chr&gt; | Lat &lt;dbl&gt; | Long &lt;dbl&gt; | date &lt;date&gt; | conf &lt;int&gt; | death &lt;int&gt; | recov &lt;int&gt; | Active &lt;int&gt; | newCases &lt;dbl&gt; | newDeath &lt;dbl&gt; | newActive &lt;dbl&gt; | newRecovered &lt;dbl&gt; |\n",
       "|---|---|---|---|---|---|---|---|---|---|---|---|---|---|\n",
       "| 1 | <!----> | Afghanistan | 33.939 | 67.71 | 2020-01-22 | 0 | 0 | 0 | 0 | 0 | 0 | 0 | 0 |\n",
       "| 2 | <!----> | Afghanistan | 33.939 | 67.71 | 2020-01-23 | 0 | 0 | 0 | 0 | 0 | 0 | 0 | 0 |\n",
       "| 3 | <!----> | Afghanistan | 33.939 | 67.71 | 2020-01-24 | 0 | 0 | 0 | 0 | 0 | 0 | 0 | 0 |\n",
       "| 4 | <!----> | Afghanistan | 33.939 | 67.71 | 2020-01-25 | 0 | 0 | 0 | 0 | 0 | 0 | 0 | 0 |\n",
       "| 5 | <!----> | Afghanistan | 33.939 | 67.71 | 2020-01-26 | 0 | 0 | 0 | 0 | 0 | 0 | 0 | 0 |\n",
       "| 6 | <!----> | Afghanistan | 33.939 | 67.71 | 2020-01-27 | 0 | 0 | 0 | 0 | 0 | 0 | 0 | 0 |\n",
       "\n"
      ],
      "text/plain": [
       "  subregion country     Lat    Long  date       conf death recov Active\n",
       "1           Afghanistan 33.939 67.71 2020-01-22 0    0     0     0     \n",
       "2           Afghanistan 33.939 67.71 2020-01-23 0    0     0     0     \n",
       "3           Afghanistan 33.939 67.71 2020-01-24 0    0     0     0     \n",
       "4           Afghanistan 33.939 67.71 2020-01-25 0    0     0     0     \n",
       "5           Afghanistan 33.939 67.71 2020-01-26 0    0     0     0     \n",
       "6           Afghanistan 33.939 67.71 2020-01-27 0    0     0     0     \n",
       "  newCases newDeath newActive newRecovered\n",
       "1 0        0        0         0           \n",
       "2 0        0        0         0           \n",
       "3 0        0        0         0           \n",
       "4 0        0        0         0           \n",
       "5 0        0        0         0           \n",
       "6 0        0        0         0           "
      ]
     },
     "metadata": {},
     "output_type": "display_data"
    }
   ],
   "source": [
    "head(country)"
   ]
  },
  {
   "cell_type": "code",
   "execution_count": 933,
   "id": "2233b742",
   "metadata": {},
   "outputs": [
    {
     "data": {
      "text/html": [
       "606354330"
      ],
      "text/latex": [
       "606354330"
      ],
      "text/markdown": [
       "606354330"
      ],
      "text/plain": [
       "[1] 606354330"
      ]
     },
     "metadata": {},
     "output_type": "display_data"
    }
   ],
   "source": [
    "sum(country$newCases)"
   ]
  },
  {
   "cell_type": "code",
   "execution_count": 934,
   "id": "9f5173c9",
   "metadata": {},
   "outputs": [
    {
     "data": {
      "text/html": [
       "44626427"
      ],
      "text/latex": [
       "44626427"
      ],
      "text/markdown": [
       "44626427"
      ],
      "text/plain": [
       "[1] 44626427"
      ]
     },
     "metadata": {},
     "output_type": "display_data"
    }
   ],
   "source": [
    "sum(country[country$country == \"India\",]$newCases)"
   ]
  },
  {
   "cell_type": "code",
   "execution_count": 935,
   "id": "b310e570",
   "metadata": {},
   "outputs": [
    {
     "data": {
      "text/html": [
       "<table class=\"dataframe\">\n",
       "<caption>A data.frame: 6 × 13</caption>\n",
       "<thead>\n",
       "\t<tr><th></th><th scope=col>subregion</th><th scope=col>country</th><th scope=col>Lat</th><th scope=col>Long</th><th scope=col>date</th><th scope=col>conf</th><th scope=col>death</th><th scope=col>recov</th><th scope=col>Active</th><th scope=col>newCases</th><th scope=col>newDeath</th><th scope=col>newActive</th><th scope=col>newRecovered</th></tr>\n",
       "\t<tr><th></th><th scope=col>&lt;chr&gt;</th><th scope=col>&lt;chr&gt;</th><th scope=col>&lt;dbl&gt;</th><th scope=col>&lt;dbl&gt;</th><th scope=col>&lt;date&gt;</th><th scope=col>&lt;int&gt;</th><th scope=col>&lt;int&gt;</th><th scope=col>&lt;int&gt;</th><th scope=col>&lt;int&gt;</th><th scope=col>&lt;dbl&gt;</th><th scope=col>&lt;dbl&gt;</th><th scope=col>&lt;dbl&gt;</th><th scope=col>&lt;dbl&gt;</th></tr>\n",
       "</thead>\n",
       "<tbody>\n",
       "\t<tr><th scope=row>1</th><td></td><td>Afghanistan</td><td>33.939</td><td>67.71</td><td>2020-01-22</td><td>0</td><td>0</td><td>0</td><td>0</td><td>0</td><td>0</td><td>0</td><td>0</td></tr>\n",
       "\t<tr><th scope=row>2</th><td></td><td>Afghanistan</td><td>33.939</td><td>67.71</td><td>2020-01-23</td><td>0</td><td>0</td><td>0</td><td>0</td><td>0</td><td>0</td><td>0</td><td>0</td></tr>\n",
       "\t<tr><th scope=row>3</th><td></td><td>Afghanistan</td><td>33.939</td><td>67.71</td><td>2020-01-24</td><td>0</td><td>0</td><td>0</td><td>0</td><td>0</td><td>0</td><td>0</td><td>0</td></tr>\n",
       "\t<tr><th scope=row>4</th><td></td><td>Afghanistan</td><td>33.939</td><td>67.71</td><td>2020-01-25</td><td>0</td><td>0</td><td>0</td><td>0</td><td>0</td><td>0</td><td>0</td><td>0</td></tr>\n",
       "\t<tr><th scope=row>5</th><td></td><td>Afghanistan</td><td>33.939</td><td>67.71</td><td>2020-01-26</td><td>0</td><td>0</td><td>0</td><td>0</td><td>0</td><td>0</td><td>0</td><td>0</td></tr>\n",
       "\t<tr><th scope=row>6</th><td></td><td>Afghanistan</td><td>33.939</td><td>67.71</td><td>2020-01-27</td><td>0</td><td>0</td><td>0</td><td>0</td><td>0</td><td>0</td><td>0</td><td>0</td></tr>\n",
       "</tbody>\n",
       "</table>\n"
      ],
      "text/latex": [
       "A data.frame: 6 × 13\n",
       "\\begin{tabular}{r|lllllllllllll}\n",
       "  & subregion & country & Lat & Long & date & conf & death & recov & Active & newCases & newDeath & newActive & newRecovered\\\\\n",
       "  & <chr> & <chr> & <dbl> & <dbl> & <date> & <int> & <int> & <int> & <int> & <dbl> & <dbl> & <dbl> & <dbl>\\\\\n",
       "\\hline\n",
       "\t1 &  & Afghanistan & 33.939 & 67.71 & 2020-01-22 & 0 & 0 & 0 & 0 & 0 & 0 & 0 & 0\\\\\n",
       "\t2 &  & Afghanistan & 33.939 & 67.71 & 2020-01-23 & 0 & 0 & 0 & 0 & 0 & 0 & 0 & 0\\\\\n",
       "\t3 &  & Afghanistan & 33.939 & 67.71 & 2020-01-24 & 0 & 0 & 0 & 0 & 0 & 0 & 0 & 0\\\\\n",
       "\t4 &  & Afghanistan & 33.939 & 67.71 & 2020-01-25 & 0 & 0 & 0 & 0 & 0 & 0 & 0 & 0\\\\\n",
       "\t5 &  & Afghanistan & 33.939 & 67.71 & 2020-01-26 & 0 & 0 & 0 & 0 & 0 & 0 & 0 & 0\\\\\n",
       "\t6 &  & Afghanistan & 33.939 & 67.71 & 2020-01-27 & 0 & 0 & 0 & 0 & 0 & 0 & 0 & 0\\\\\n",
       "\\end{tabular}\n"
      ],
      "text/markdown": [
       "\n",
       "A data.frame: 6 × 13\n",
       "\n",
       "| <!--/--> | subregion &lt;chr&gt; | country &lt;chr&gt; | Lat &lt;dbl&gt; | Long &lt;dbl&gt; | date &lt;date&gt; | conf &lt;int&gt; | death &lt;int&gt; | recov &lt;int&gt; | Active &lt;int&gt; | newCases &lt;dbl&gt; | newDeath &lt;dbl&gt; | newActive &lt;dbl&gt; | newRecovered &lt;dbl&gt; |\n",
       "|---|---|---|---|---|---|---|---|---|---|---|---|---|---|\n",
       "| 1 | <!----> | Afghanistan | 33.939 | 67.71 | 2020-01-22 | 0 | 0 | 0 | 0 | 0 | 0 | 0 | 0 |\n",
       "| 2 | <!----> | Afghanistan | 33.939 | 67.71 | 2020-01-23 | 0 | 0 | 0 | 0 | 0 | 0 | 0 | 0 |\n",
       "| 3 | <!----> | Afghanistan | 33.939 | 67.71 | 2020-01-24 | 0 | 0 | 0 | 0 | 0 | 0 | 0 | 0 |\n",
       "| 4 | <!----> | Afghanistan | 33.939 | 67.71 | 2020-01-25 | 0 | 0 | 0 | 0 | 0 | 0 | 0 | 0 |\n",
       "| 5 | <!----> | Afghanistan | 33.939 | 67.71 | 2020-01-26 | 0 | 0 | 0 | 0 | 0 | 0 | 0 | 0 |\n",
       "| 6 | <!----> | Afghanistan | 33.939 | 67.71 | 2020-01-27 | 0 | 0 | 0 | 0 | 0 | 0 | 0 | 0 |\n",
       "\n"
      ],
      "text/plain": [
       "  subregion country     Lat    Long  date       conf death recov Active\n",
       "1           Afghanistan 33.939 67.71 2020-01-22 0    0     0     0     \n",
       "2           Afghanistan 33.939 67.71 2020-01-23 0    0     0     0     \n",
       "3           Afghanistan 33.939 67.71 2020-01-24 0    0     0     0     \n",
       "4           Afghanistan 33.939 67.71 2020-01-25 0    0     0     0     \n",
       "5           Afghanistan 33.939 67.71 2020-01-26 0    0     0     0     \n",
       "6           Afghanistan 33.939 67.71 2020-01-27 0    0     0     0     \n",
       "  newCases newDeath newActive newRecovered\n",
       "1 0        0        0         0           \n",
       "2 0        0        0         0           \n",
       "3 0        0        0         0           \n",
       "4 0        0        0         0           \n",
       "5 0        0        0         0           \n",
       "6 0        0        0         0           "
      ]
     },
     "metadata": {},
     "output_type": "display_data"
    }
   ],
   "source": [
    "head(country)"
   ]
  },
  {
   "cell_type": "markdown",
   "id": "0ed6f6f0",
   "metadata": {},
   "source": [
    "## Insight into Confimed Cases Country wise"
   ]
  },
  {
   "cell_type": "code",
   "execution_count": 936,
   "id": "c9753382",
   "metadata": {},
   "outputs": [],
   "source": [
    "Countrywise_ConfCases = country %>% group_by(country) %>% \n",
    "                                        summarise(totalCases_conf = sum(newCases)) %>% \n",
    "                                        arrange(desc(totalCases_conf))\n",
    "\n",
    "top_10_Country_Highest_ConfCases = head(Countrywise_ConfCases,10)"
   ]
  },
  {
   "cell_type": "code",
   "execution_count": 937,
   "id": "5c4cc9b1",
   "metadata": {},
   "outputs": [
    {
     "data": {
      "text/html": [
       "<table class=\"dataframe\">\n",
       "<caption>A tibble: 6 × 2</caption>\n",
       "<thead>\n",
       "\t<tr><th scope=col>country</th><th scope=col>totalCases_conf</th></tr>\n",
       "\t<tr><th scope=col>&lt;chr&gt;</th><th scope=col>&lt;dbl&gt;</th></tr>\n",
       "</thead>\n",
       "<tbody>\n",
       "\t<tr><td>US          </td><td>96931266</td></tr>\n",
       "\t<tr><td>India       </td><td>44626427</td></tr>\n",
       "\t<tr><td>France      </td><td>35178403</td></tr>\n",
       "\t<tr><td>Brazil      </td><td>34746462</td></tr>\n",
       "\t<tr><td>Germany     </td><td>34608835</td></tr>\n",
       "\t<tr><td>Korea, South</td><td>25098995</td></tr>\n",
       "</tbody>\n",
       "</table>\n"
      ],
      "text/latex": [
       "A tibble: 6 × 2\n",
       "\\begin{tabular}{ll}\n",
       " country & totalCases\\_conf\\\\\n",
       " <chr> & <dbl>\\\\\n",
       "\\hline\n",
       "\t US           & 96931266\\\\\n",
       "\t India        & 44626427\\\\\n",
       "\t France       & 35178403\\\\\n",
       "\t Brazil       & 34746462\\\\\n",
       "\t Germany      & 34608835\\\\\n",
       "\t Korea, South & 25098995\\\\\n",
       "\\end{tabular}\n"
      ],
      "text/markdown": [
       "\n",
       "A tibble: 6 × 2\n",
       "\n",
       "| country &lt;chr&gt; | totalCases_conf &lt;dbl&gt; |\n",
       "|---|---|\n",
       "| US           | 96931266 |\n",
       "| India        | 44626427 |\n",
       "| France       | 35178403 |\n",
       "| Brazil       | 34746462 |\n",
       "| Germany      | 34608835 |\n",
       "| Korea, South | 25098995 |\n",
       "\n"
      ],
      "text/plain": [
       "  country      totalCases_conf\n",
       "1 US           96931266       \n",
       "2 India        44626427       \n",
       "3 France       35178403       \n",
       "4 Brazil       34746462       \n",
       "5 Germany      34608835       \n",
       "6 Korea, South 25098995       "
      ]
     },
     "metadata": {},
     "output_type": "display_data"
    }
   ],
   "source": [
    "head(top_10_Country_Highest_ConfCases)"
   ]
  },
  {
   "cell_type": "code",
   "execution_count": 938,
   "id": "5325fe64",
   "metadata": {},
   "outputs": [
    {
     "data": {
      "image/png": "[encoded data removed]",
      "text/plain": [
       "plot without title"
      ]
     },
     "metadata": {
      "image/png": {
       "height": 420,
       "width": 420
      }
     },
     "output_type": "display_data"
    }
   ],
   "source": [
    "ggplot(data = head(top_10_Country_Highest_ConfCases),aes(x = reorder(country,totalCases_conf),\n",
    "                                                         y = totalCases_conf,fill = country)) + geom_bar(stat = \"identity\") + \n",
    "                    labs(title = \"Countries with highest number of cases(Millions)\") + xlab(\"Country\")"
   ]
  },
  {
   "cell_type": "code",
   "execution_count": 939,
   "id": "c3e7ca49",
   "metadata": {},
   "outputs": [
    {
     "data": {
      "text/html": [
       "<table class=\"dataframe\">\n",
       "<caption>A tibble: 10 × 2</caption>\n",
       "<thead>\n",
       "\t<tr><th scope=col>country</th><th scope=col>totalCases_conf</th></tr>\n",
       "\t<tr><th scope=col>&lt;chr&gt;</th><th scope=col>&lt;dbl&gt;</th></tr>\n",
       "</thead>\n",
       "<tbody>\n",
       "\t<tr><td>Nauru               </td><td>4611</td></tr>\n",
       "\t<tr><td>Kiribati            </td><td>3430</td></tr>\n",
       "\t<tr><td>Summer Olympics 2020</td><td> 865</td></tr>\n",
       "\t<tr><td>Diamond Princess    </td><td> 712</td></tr>\n",
       "\t<tr><td>Winter Olympics 2022</td><td> 535</td></tr>\n",
       "\t<tr><td>Holy See            </td><td>  29</td></tr>\n",
       "\t<tr><td>Tuvalu              </td><td>  20</td></tr>\n",
       "\t<tr><td>Antarctica          </td><td>  11</td></tr>\n",
       "\t<tr><td>MS Zaandam          </td><td>   9</td></tr>\n",
       "\t<tr><td>Korea, North        </td><td>   0</td></tr>\n",
       "</tbody>\n",
       "</table>\n"
      ],
      "text/latex": [
       "A tibble: 10 × 2\n",
       "\\begin{tabular}{ll}\n",
       " country & totalCases\\_conf\\\\\n",
       " <chr> & <dbl>\\\\\n",
       "\\hline\n",
       "\t Nauru                & 4611\\\\\n",
       "\t Kiribati             & 3430\\\\\n",
       "\t Summer Olympics 2020 &  865\\\\\n",
       "\t Diamond Princess     &  712\\\\\n",
       "\t Winter Olympics 2022 &  535\\\\\n",
       "\t Holy See             &   29\\\\\n",
       "\t Tuvalu               &   20\\\\\n",
       "\t Antarctica           &   11\\\\\n",
       "\t MS Zaandam           &    9\\\\\n",
       "\t Korea, North         &    0\\\\\n",
       "\\end{tabular}\n"
      ],
      "text/markdown": [
       "\n",
       "A tibble: 10 × 2\n",
       "\n",
       "| country &lt;chr&gt; | totalCases_conf &lt;dbl&gt; |\n",
       "|---|---|\n",
       "| Nauru                | 4611 |\n",
       "| Kiribati             | 3430 |\n",
       "| Summer Olympics 2020 |  865 |\n",
       "| Diamond Princess     |  712 |\n",
       "| Winter Olympics 2022 |  535 |\n",
       "| Holy See             |   29 |\n",
       "| Tuvalu               |   20 |\n",
       "| Antarctica           |   11 |\n",
       "| MS Zaandam           |    9 |\n",
       "| Korea, North         |    0 |\n",
       "\n"
      ],
      "text/plain": [
       "   country              totalCases_conf\n",
       "1  Nauru                4611           \n",
       "2  Kiribati             3430           \n",
       "3  Summer Olympics 2020  865           \n",
       "4  Diamond Princess      712           \n",
       "5  Winter Olympics 2022  535           \n",
       "6  Holy See               29           \n",
       "7  Tuvalu                 20           \n",
       "8  Antarctica             11           \n",
       "9  MS Zaandam              9           \n",
       "10 Korea, North            0           "
      ]
     },
     "metadata": {},
     "output_type": "display_data"
    }
   ],
   "source": [
    "top_10_Country_lowest_ConfCases = tail(Countrywise_ConfCases %>% arrange(desc(totalCases_conf)),10)\n",
    "\n",
    "top_10_Country_lowest_ConfCases"
   ]
  },
  {
   "cell_type": "code",
   "execution_count": 940,
   "id": "22464a97",
   "metadata": {},
   "outputs": [
    {
     "data": {
      "image/png": "[encoded data removed]",
      "text/plain": [
       "plot without title"
      ]
     },
     "metadata": {
      "image/png": {
       "height": 420,
       "width": 420
      }
     },
     "output_type": "display_data"
    }
   ],
   "source": [
    "ggplot(data = head(top_10_Country_lowest_ConfCases),aes(x = reorder(country,totalCases_conf),\n",
    "                                                         y = totalCases_conf,fill = country)) + geom_bar(stat = \"identity\") + \n",
    "                    labs(title = \"Countries with lowest number of cases(Millions)\") + xlab(\"Country\")"
   ]
  },
  {
   "cell_type": "markdown",
   "id": "e2b291f7",
   "metadata": {},
   "source": [
    "## Insight into Daily Trend on Confirmed Cases"
   ]
  },
  {
   "cell_type": "code",
   "execution_count": 941,
   "id": "daeca460",
   "metadata": {},
   "outputs": [
    {
     "data": {
      "text/html": [
       "<table class=\"dataframe\">\n",
       "<caption>A data.frame: 6 × 2</caption>\n",
       "<thead>\n",
       "\t<tr><th></th><th scope=col>date</th><th scope=col>DailyTrend</th></tr>\n",
       "\t<tr><th></th><th scope=col>&lt;date&gt;</th><th scope=col>&lt;dbl&gt;</th></tr>\n",
       "</thead>\n",
       "<tbody>\n",
       "\t<tr><th scope=row>1</th><td>2020-01-22</td><td> 0</td></tr>\n",
       "\t<tr><th scope=row>2</th><td>2020-01-23</td><td> 3</td></tr>\n",
       "\t<tr><th scope=row>3</th><td>2020-01-24</td><td> 9</td></tr>\n",
       "\t<tr><th scope=row>4</th><td>2020-01-25</td><td> 7</td></tr>\n",
       "\t<tr><th scope=row>5</th><td>2020-01-26</td><td>10</td></tr>\n",
       "\t<tr><th scope=row>6</th><td>2020-01-27</td><td> 6</td></tr>\n",
       "</tbody>\n",
       "</table>\n"
      ],
      "text/latex": [
       "A data.frame: 6 × 2\n",
       "\\begin{tabular}{r|ll}\n",
       "  & date & DailyTrend\\\\\n",
       "  & <date> & <dbl>\\\\\n",
       "\\hline\n",
       "\t1 & 2020-01-22 &  0\\\\\n",
       "\t2 & 2020-01-23 &  3\\\\\n",
       "\t3 & 2020-01-24 &  9\\\\\n",
       "\t4 & 2020-01-25 &  7\\\\\n",
       "\t5 & 2020-01-26 & 10\\\\\n",
       "\t6 & 2020-01-27 &  6\\\\\n",
       "\\end{tabular}\n"
      ],
      "text/markdown": [
       "\n",
       "A data.frame: 6 × 2\n",
       "\n",
       "| <!--/--> | date &lt;date&gt; | DailyTrend &lt;dbl&gt; |\n",
       "|---|---|---|\n",
       "| 1 | 2020-01-22 |  0 |\n",
       "| 2 | 2020-01-23 |  3 |\n",
       "| 3 | 2020-01-24 |  9 |\n",
       "| 4 | 2020-01-25 |  7 |\n",
       "| 5 | 2020-01-26 | 10 |\n",
       "| 6 | 2020-01-27 |  6 |\n",
       "\n"
      ],
      "text/plain": [
       "  date       DailyTrend\n",
       "1 2020-01-22  0        \n",
       "2 2020-01-23  3        \n",
       "3 2020-01-24  9        \n",
       "4 2020-01-25  7        \n",
       "5 2020-01-26 10        \n",
       "6 2020-01-27  6        "
      ]
     },
     "metadata": {},
     "output_type": "display_data"
    }
   ],
   "source": [
    "conf_Cases_daily = data.frame(country %>% group_by(date) %>% summarise(DailyTrend = sum(newCases)))\n",
    "\n",
    "head(conf_Cases_daily)"
   ]
  },
  {
   "cell_type": "code",
   "execution_count": 942,
   "id": "1c501d3f",
   "metadata": {},
   "outputs": [],
   "source": [
    "conf_Cases_daily$DailyTrend <- ifelse(conf_Cases_daily$DailyTrend < 0,0,conf_Cases_daily$DailyTrend)"
   ]
  },
  {
   "cell_type": "code",
   "execution_count": 943,
   "id": "7d888aac",
   "metadata": {},
   "outputs": [
    {
     "data": {
      "image/png": "[encoded data removed]",
      "text/plain": [
       "plot without title"
      ]
     },
     "metadata": {
      "image/png": {
       "height": 420,
       "width": 420
      }
     },
     "output_type": "display_data"
    }
   ],
   "source": [
    "ggplot(conf_Cases_daily,aes(x = date, y = DailyTrend)) + \n",
    "        geom_line() + \n",
    "        labs(title = \"Confimed Cases daily basis\")"
   ]
  },
  {
   "cell_type": "code",
   "execution_count": 944,
   "id": "9c23d2c3",
   "metadata": {},
   "outputs": [
    {
     "data": {
      "text/html": [
       "<table class=\"dataframe\">\n",
       "<caption>A data.frame: 6 × 13</caption>\n",
       "<thead>\n",
       "\t<tr><th></th><th scope=col>subregion</th><th scope=col>country</th><th scope=col>Lat</th><th scope=col>Long</th><th scope=col>date</th><th scope=col>conf</th><th scope=col>death</th><th scope=col>recov</th><th scope=col>Active</th><th scope=col>newCases</th><th scope=col>newDeath</th><th scope=col>newActive</th><th scope=col>newRecovered</th></tr>\n",
       "\t<tr><th></th><th scope=col>&lt;chr&gt;</th><th scope=col>&lt;chr&gt;</th><th scope=col>&lt;dbl&gt;</th><th scope=col>&lt;dbl&gt;</th><th scope=col>&lt;date&gt;</th><th scope=col>&lt;int&gt;</th><th scope=col>&lt;int&gt;</th><th scope=col>&lt;int&gt;</th><th scope=col>&lt;int&gt;</th><th scope=col>&lt;dbl&gt;</th><th scope=col>&lt;dbl&gt;</th><th scope=col>&lt;dbl&gt;</th><th scope=col>&lt;dbl&gt;</th></tr>\n",
       "</thead>\n",
       "<tbody>\n",
       "\t<tr><th scope=row>1</th><td></td><td>Afghanistan</td><td>33.939</td><td>67.71</td><td>2020-01-22</td><td>0</td><td>0</td><td>0</td><td>0</td><td>0</td><td>0</td><td>0</td><td>0</td></tr>\n",
       "\t<tr><th scope=row>2</th><td></td><td>Afghanistan</td><td>33.939</td><td>67.71</td><td>2020-01-23</td><td>0</td><td>0</td><td>0</td><td>0</td><td>0</td><td>0</td><td>0</td><td>0</td></tr>\n",
       "\t<tr><th scope=row>3</th><td></td><td>Afghanistan</td><td>33.939</td><td>67.71</td><td>2020-01-24</td><td>0</td><td>0</td><td>0</td><td>0</td><td>0</td><td>0</td><td>0</td><td>0</td></tr>\n",
       "\t<tr><th scope=row>4</th><td></td><td>Afghanistan</td><td>33.939</td><td>67.71</td><td>2020-01-25</td><td>0</td><td>0</td><td>0</td><td>0</td><td>0</td><td>0</td><td>0</td><td>0</td></tr>\n",
       "\t<tr><th scope=row>5</th><td></td><td>Afghanistan</td><td>33.939</td><td>67.71</td><td>2020-01-26</td><td>0</td><td>0</td><td>0</td><td>0</td><td>0</td><td>0</td><td>0</td><td>0</td></tr>\n",
       "\t<tr><th scope=row>6</th><td></td><td>Afghanistan</td><td>33.939</td><td>67.71</td><td>2020-01-27</td><td>0</td><td>0</td><td>0</td><td>0</td><td>0</td><td>0</td><td>0</td><td>0</td></tr>\n",
       "</tbody>\n",
       "</table>\n"
      ],
      "text/latex": [
       "A data.frame: 6 × 13\n",
       "\\begin{tabular}{r|lllllllllllll}\n",
       "  & subregion & country & Lat & Long & date & conf & death & recov & Active & newCases & newDeath & newActive & newRecovered\\\\\n",
       "  & <chr> & <chr> & <dbl> & <dbl> & <date> & <int> & <int> & <int> & <int> & <dbl> & <dbl> & <dbl> & <dbl>\\\\\n",
       "\\hline\n",
       "\t1 &  & Afghanistan & 33.939 & 67.71 & 2020-01-22 & 0 & 0 & 0 & 0 & 0 & 0 & 0 & 0\\\\\n",
       "\t2 &  & Afghanistan & 33.939 & 67.71 & 2020-01-23 & 0 & 0 & 0 & 0 & 0 & 0 & 0 & 0\\\\\n",
       "\t3 &  & Afghanistan & 33.939 & 67.71 & 2020-01-24 & 0 & 0 & 0 & 0 & 0 & 0 & 0 & 0\\\\\n",
       "\t4 &  & Afghanistan & 33.939 & 67.71 & 2020-01-25 & 0 & 0 & 0 & 0 & 0 & 0 & 0 & 0\\\\\n",
       "\t5 &  & Afghanistan & 33.939 & 67.71 & 2020-01-26 & 0 & 0 & 0 & 0 & 0 & 0 & 0 & 0\\\\\n",
       "\t6 &  & Afghanistan & 33.939 & 67.71 & 2020-01-27 & 0 & 0 & 0 & 0 & 0 & 0 & 0 & 0\\\\\n",
       "\\end{tabular}\n"
      ],
      "text/markdown": [
       "\n",
       "A data.frame: 6 × 13\n",
       "\n",
       "| <!--/--> | subregion &lt;chr&gt; | country &lt;chr&gt; | Lat &lt;dbl&gt; | Long &lt;dbl&gt; | date &lt;date&gt; | conf &lt;int&gt; | death &lt;int&gt; | recov &lt;int&gt; | Active &lt;int&gt; | newCases &lt;dbl&gt; | newDeath &lt;dbl&gt; | newActive &lt;dbl&gt; | newRecovered &lt;dbl&gt; |\n",
       "|---|---|---|---|---|---|---|---|---|---|---|---|---|---|\n",
       "| 1 | <!----> | Afghanistan | 33.939 | 67.71 | 2020-01-22 | 0 | 0 | 0 | 0 | 0 | 0 | 0 | 0 |\n",
       "| 2 | <!----> | Afghanistan | 33.939 | 67.71 | 2020-01-23 | 0 | 0 | 0 | 0 | 0 | 0 | 0 | 0 |\n",
       "| 3 | <!----> | Afghanistan | 33.939 | 67.71 | 2020-01-24 | 0 | 0 | 0 | 0 | 0 | 0 | 0 | 0 |\n",
       "| 4 | <!----> | Afghanistan | 33.939 | 67.71 | 2020-01-25 | 0 | 0 | 0 | 0 | 0 | 0 | 0 | 0 |\n",
       "| 5 | <!----> | Afghanistan | 33.939 | 67.71 | 2020-01-26 | 0 | 0 | 0 | 0 | 0 | 0 | 0 | 0 |\n",
       "| 6 | <!----> | Afghanistan | 33.939 | 67.71 | 2020-01-27 | 0 | 0 | 0 | 0 | 0 | 0 | 0 | 0 |\n",
       "\n"
      ],
      "text/plain": [
       "  subregion country     Lat    Long  date       conf death recov Active\n",
       "1           Afghanistan 33.939 67.71 2020-01-22 0    0     0     0     \n",
       "2           Afghanistan 33.939 67.71 2020-01-23 0    0     0     0     \n",
       "3           Afghanistan 33.939 67.71 2020-01-24 0    0     0     0     \n",
       "4           Afghanistan 33.939 67.71 2020-01-25 0    0     0     0     \n",
       "5           Afghanistan 33.939 67.71 2020-01-26 0    0     0     0     \n",
       "6           Afghanistan 33.939 67.71 2020-01-27 0    0     0     0     \n",
       "  newCases newDeath newActive newRecovered\n",
       "1 0        0        0         0           \n",
       "2 0        0        0         0           \n",
       "3 0        0        0         0           \n",
       "4 0        0        0         0           \n",
       "5 0        0        0         0           \n",
       "6 0        0        0         0           "
      ]
     },
     "metadata": {},
     "output_type": "display_data"
    }
   ],
   "source": [
    "head(country)"
   ]
  },
  {
   "cell_type": "code",
   "execution_count": 945,
   "id": "c64f2f60",
   "metadata": {},
   "outputs": [],
   "source": [
    "death_Cases_country = country %>% group_by(country) %>% \n",
    "                                        summarise(totalCases_Death = sum(newDeath)) %>% \n",
    "                                        arrange(desc(totalCases_Death))"
   ]
  },
  {
   "cell_type": "code",
   "execution_count": 946,
   "id": "855229b5",
   "metadata": {},
   "outputs": [],
   "source": [
    "top_10_Country_Highest_deathCases = head(death_Cases_country %>% arrange(desc(totalCases_Death)),10)\n",
    "\n",
    "top_10_Country_Highest_deathCases$totalCases_Death =  top_10_Country_Highest_deathCases$totalCases_Death / 100000"
   ]
  },
  {
   "cell_type": "code",
   "execution_count": 947,
   "id": "3d100925",
   "metadata": {},
   "outputs": [
    {
     "data": {
      "text/html": [
       "<table class=\"dataframe\">\n",
       "<caption>A tibble: 10 × 2</caption>\n",
       "<thead>\n",
       "\t<tr><th scope=col>country</th><th scope=col>totalCases_Death</th></tr>\n",
       "\t<tr><th scope=col>&lt;chr&gt;</th><th scope=col>&lt;dbl&gt;</th></tr>\n",
       "</thead>\n",
       "<tbody>\n",
       "\t<tr><td>US            </td><td>10.65076</td></tr>\n",
       "\t<tr><td>Brazil        </td><td> 6.87144</td></tr>\n",
       "\t<tr><td>India         </td><td> 5.28874</td></tr>\n",
       "\t<tr><td>Russia        </td><td> 3.80854</td></tr>\n",
       "\t<tr><td>Mexico        </td><td> 3.30254</td></tr>\n",
       "\t<tr><td>Peru          </td><td> 2.16844</td></tr>\n",
       "\t<tr><td>United Kingdom</td><td> 2.07948</td></tr>\n",
       "\t<tr><td>Italy         </td><td> 1.77883</td></tr>\n",
       "\t<tr><td>Indonesia     </td><td> 1.58281</td></tr>\n",
       "\t<tr><td>France        </td><td> 1.52288</td></tr>\n",
       "</tbody>\n",
       "</table>\n"
      ],
      "text/latex": [
       "A tibble: 10 × 2\n",
       "\\begin{tabular}{ll}\n",
       " country & totalCases\\_Death\\\\\n",
       " <chr> & <dbl>\\\\\n",
       "\\hline\n",
       "\t US             & 10.65076\\\\\n",
       "\t Brazil         &  6.87144\\\\\n",
       "\t India          &  5.28874\\\\\n",
       "\t Russia         &  3.80854\\\\\n",
       "\t Mexico         &  3.30254\\\\\n",
       "\t Peru           &  2.16844\\\\\n",
       "\t United Kingdom &  2.07948\\\\\n",
       "\t Italy          &  1.77883\\\\\n",
       "\t Indonesia      &  1.58281\\\\\n",
       "\t France         &  1.52288\\\\\n",
       "\\end{tabular}\n"
      ],
      "text/markdown": [
       "\n",
       "A tibble: 10 × 2\n",
       "\n",
       "| country &lt;chr&gt; | totalCases_Death &lt;dbl&gt; |\n",
       "|---|---|\n",
       "| US             | 10.65076 |\n",
       "| Brazil         |  6.87144 |\n",
       "| India          |  5.28874 |\n",
       "| Russia         |  3.80854 |\n",
       "| Mexico         |  3.30254 |\n",
       "| Peru           |  2.16844 |\n",
       "| United Kingdom |  2.07948 |\n",
       "| Italy          |  1.77883 |\n",
       "| Indonesia      |  1.58281 |\n",
       "| France         |  1.52288 |\n",
       "\n"
      ],
      "text/plain": [
       "   country        totalCases_Death\n",
       "1  US             10.65076        \n",
       "2  Brazil          6.87144        \n",
       "3  India           5.28874        \n",
       "4  Russia          3.80854        \n",
       "5  Mexico          3.30254        \n",
       "6  Peru            2.16844        \n",
       "7  United Kingdom  2.07948        \n",
       "8  Italy           1.77883        \n",
       "9  Indonesia       1.58281        \n",
       "10 France          1.52288        "
      ]
     },
     "metadata": {},
     "output_type": "display_data"
    }
   ],
   "source": [
    "top_10_Country_Highest_deathCases"
   ]
  },
  {
   "cell_type": "code",
   "execution_count": 948,
   "id": "b4bbb6a3",
   "metadata": {},
   "outputs": [
    {
     "data": {
      "image/png": "[encoded data removed]",
      "text/plain": [
       "plot without title"
      ]
     },
     "metadata": {
      "image/png": {
       "height": 420,
       "width": 420
      }
     },
     "output_type": "display_data"
    }
   ],
   "source": [
    "ggplot(data = head(top_10_Country_Highest_deathCases),aes(x = reorder(country,totalCases_Death),\n",
    "                                                         y = totalCases_Death,fill = country)) + geom_bar(stat = \"identity\") + \n",
    "                    labs(title = \"Countries with highest number of Death cases(Lakh)\") + xlab(\"Country\")"
   ]
  },
  {
   "cell_type": "code",
   "execution_count": 949,
   "id": "9703d0e9",
   "metadata": {},
   "outputs": [
    {
     "data": {
      "text/html": [
       "<table class=\"dataframe\">\n",
       "<caption>A tibble: 6 × 2</caption>\n",
       "<thead>\n",
       "\t<tr><th scope=col>country</th><th scope=col>totalCases_Death</th></tr>\n",
       "\t<tr><th scope=col>&lt;chr&gt;</th><th scope=col>&lt;dbl&gt;</th></tr>\n",
       "</thead>\n",
       "<tbody>\n",
       "\t<tr><td>Antarctica          </td><td>0</td></tr>\n",
       "\t<tr><td>Holy See            </td><td>0</td></tr>\n",
       "\t<tr><td>Korea, North        </td><td>0</td></tr>\n",
       "\t<tr><td>Summer Olympics 2020</td><td>0</td></tr>\n",
       "\t<tr><td>Tuvalu              </td><td>0</td></tr>\n",
       "\t<tr><td>Winter Olympics 2022</td><td>0</td></tr>\n",
       "</tbody>\n",
       "</table>\n"
      ],
      "text/latex": [
       "A tibble: 6 × 2\n",
       "\\begin{tabular}{ll}\n",
       " country & totalCases\\_Death\\\\\n",
       " <chr> & <dbl>\\\\\n",
       "\\hline\n",
       "\t Antarctica           & 0\\\\\n",
       "\t Holy See             & 0\\\\\n",
       "\t Korea, North         & 0\\\\\n",
       "\t Summer Olympics 2020 & 0\\\\\n",
       "\t Tuvalu               & 0\\\\\n",
       "\t Winter Olympics 2022 & 0\\\\\n",
       "\\end{tabular}\n"
      ],
      "text/markdown": [
       "\n",
       "A tibble: 6 × 2\n",
       "\n",
       "| country &lt;chr&gt; | totalCases_Death &lt;dbl&gt; |\n",
       "|---|---|\n",
       "| Antarctica           | 0 |\n",
       "| Holy See             | 0 |\n",
       "| Korea, North         | 0 |\n",
       "| Summer Olympics 2020 | 0 |\n",
       "| Tuvalu               | 0 |\n",
       "| Winter Olympics 2022 | 0 |\n",
       "\n"
      ],
      "text/plain": [
       "  country              totalCases_Death\n",
       "1 Antarctica           0               \n",
       "2 Holy See             0               \n",
       "3 Korea, North         0               \n",
       "4 Summer Olympics 2020 0               \n",
       "5 Tuvalu               0               \n",
       "6 Winter Olympics 2022 0               "
      ]
     },
     "metadata": {},
     "output_type": "display_data"
    }
   ],
   "source": [
    "tail(death_Cases_country)"
   ]
  },
  {
   "cell_type": "code",
   "execution_count": 950,
   "id": "f7583780",
   "metadata": {},
   "outputs": [
    {
     "data": {
      "image/png": "[encoded data removed]",
      "text/plain": [
       "plot without title"
      ]
     },
     "metadata": {
      "image/png": {
       "height": 420,
       "width": 420
      }
     },
     "output_type": "display_data"
    }
   ],
   "source": [
    "top_10_Country_lowest_DeathCases = tail(death_Cases_country %>% arrange(desc(totalCases_Death)),10)\n",
    "\n",
    "ggplot(data = head(top_10_Country_lowest_DeathCases),aes(x = reorder(country,totalCases_Death),\n",
    "                                                         y = totalCases_Death,fill = country)) + geom_bar(stat = \"identity\") + \n",
    "                    labs(title = \"Countries with lowest number of cases(Millions)\") + xlab(\"Country\")"
   ]
  },
  {
   "cell_type": "code",
   "execution_count": 951,
   "id": "d6dcc247",
   "metadata": {},
   "outputs": [
    {
     "data": {
      "text/html": [
       "<table class=\"dataframe\">\n",
       "<caption>A data.frame: 6 × 2</caption>\n",
       "<thead>\n",
       "\t<tr><th></th><th scope=col>date</th><th scope=col>DailyTrend</th></tr>\n",
       "\t<tr><th></th><th scope=col>&lt;date&gt;</th><th scope=col>&lt;dbl&gt;</th></tr>\n",
       "</thead>\n",
       "<tbody>\n",
       "\t<tr><th scope=row>1</th><td>2020-01-22</td><td>0</td></tr>\n",
       "\t<tr><th scope=row>2</th><td>2020-01-23</td><td>0</td></tr>\n",
       "\t<tr><th scope=row>3</th><td>2020-01-24</td><td>0</td></tr>\n",
       "\t<tr><th scope=row>4</th><td>2020-01-25</td><td>0</td></tr>\n",
       "\t<tr><th scope=row>5</th><td>2020-01-26</td><td>0</td></tr>\n",
       "\t<tr><th scope=row>6</th><td>2020-01-27</td><td>0</td></tr>\n",
       "</tbody>\n",
       "</table>\n"
      ],
      "text/latex": [
       "A data.frame: 6 × 2\n",
       "\\begin{tabular}{r|ll}\n",
       "  & date & DailyTrend\\\\\n",
       "  & <date> & <dbl>\\\\\n",
       "\\hline\n",
       "\t1 & 2020-01-22 & 0\\\\\n",
       "\t2 & 2020-01-23 & 0\\\\\n",
       "\t3 & 2020-01-24 & 0\\\\\n",
       "\t4 & 2020-01-25 & 0\\\\\n",
       "\t5 & 2020-01-26 & 0\\\\\n",
       "\t6 & 2020-01-27 & 0\\\\\n",
       "\\end{tabular}\n"
      ],
      "text/markdown": [
       "\n",
       "A data.frame: 6 × 2\n",
       "\n",
       "| <!--/--> | date &lt;date&gt; | DailyTrend &lt;dbl&gt; |\n",
       "|---|---|---|\n",
       "| 1 | 2020-01-22 | 0 |\n",
       "| 2 | 2020-01-23 | 0 |\n",
       "| 3 | 2020-01-24 | 0 |\n",
       "| 4 | 2020-01-25 | 0 |\n",
       "| 5 | 2020-01-26 | 0 |\n",
       "| 6 | 2020-01-27 | 0 |\n",
       "\n"
      ],
      "text/plain": [
       "  date       DailyTrend\n",
       "1 2020-01-22 0         \n",
       "2 2020-01-23 0         \n",
       "3 2020-01-24 0         \n",
       "4 2020-01-25 0         \n",
       "5 2020-01-26 0         \n",
       "6 2020-01-27 0         "
      ]
     },
     "metadata": {},
     "output_type": "display_data"
    }
   ],
   "source": [
    "death_Cases_daily = data.frame(country %>% group_by(date) %>% summarise(DailyTrend = sum(newDeath)))\n",
    "\n",
    "head(death_Cases_daily)"
   ]
  },
  {
   "cell_type": "code",
   "execution_count": 952,
   "id": "0c1cad4d",
   "metadata": {},
   "outputs": [],
   "source": [
    "death_Cases_daily$DailyTrend <- ifelse(death_Cases_daily$DailyTrend < 0,0,death_Cases_daily$DailyTrend)"
   ]
  },
  {
   "cell_type": "code",
   "execution_count": 953,
   "id": "2ffd6360",
   "metadata": {},
   "outputs": [
    {
     "data": {
      "image/png": "[encoded data removed]",
      "text/plain": [
       "plot without title"
      ]
     },
     "metadata": {
      "image/png": {
       "height": 420,
       "width": 420
      }
     },
     "output_type": "display_data"
    }
   ],
   "source": [
    "ggplot(death_Cases_daily,aes(x = date, y = DailyTrend)) + \n",
    "        geom_line() + \n",
    "        labs(title = \"Death Cases daily basis\")"
   ]
  },
  {
   "cell_type": "markdown",
   "id": "d6072567",
   "metadata": {},
   "source": [
    "## Insight into 'Recovered' Cases Country wise"
   ]
  },
  {
   "cell_type": "code",
   "execution_count": 954,
   "id": "afa4c72f",
   "metadata": {},
   "outputs": [],
   "source": [
    "recov_Cases_country <- data.frame(country = NA,totalCases = NA)\n",
    "\n",
    "df = country\n",
    "\n",
    "getRecovCasesCounrywise = function(country)\n",
    "{\n",
    "    df = df[df$country == country,]\n",
    "\n",
    "    df$recov_daily = df[2:dim(df)[1],]$recov - df[1:dim(df)[1],]$recov\n",
    "    \n",
    "    df$recov_daily <- ifelse(df$recov_daily < 0,0,df$recov_daily)\n",
    "    \n",
    "    return (data.frame(country = country,totalCases = sum(df$recov_daily)))\n",
    "}"
   ]
  },
  {
   "cell_type": "code",
   "execution_count": 955,
   "id": "03ea0142",
   "metadata": {},
   "outputs": [],
   "source": [
    "for(c in unique(country$country))\n",
    "    {\n",
    "    recov_Cases_country = rbind(recov_Cases_country,getRecovCasesCounrywise(c))\n",
    "}\n",
    "\n",
    "recov_Cases_country = recov_Cases_country %>% filter(!is.na(totalCases))\n",
    "\n",
    "colnames(recov_Cases_country)[2] <- \"totalCases_recov\""
   ]
  },
  {
   "cell_type": "code",
   "execution_count": 956,
   "id": "a4f23843",
   "metadata": {},
   "outputs": [],
   "source": [
    "top_10_Country_Highest_recovCases = head(recov_Cases_country %>% arrange(desc(totalCases_recov)),10)\n",
    "\n",
    "top_10_Country_Highest_recovCases$totalCases_recov =  top_10_Country_Highest_recovCases$totalCases_recov / 1000000"
   ]
  },
  {
   "cell_type": "code",
   "execution_count": 957,
   "id": "e9d6b77a",
   "metadata": {},
   "outputs": [
    {
     "data": {
      "text/html": [
       "<table class=\"dataframe\">\n",
       "<caption>A data.frame: 10 × 2</caption>\n",
       "<thead>\n",
       "\t<tr><th></th><th scope=col>country</th><th scope=col>totalCases_recov</th></tr>\n",
       "\t<tr><th></th><th scope=col>&lt;chr&gt;</th><th scope=col>&lt;dbl&gt;</th></tr>\n",
       "</thead>\n",
       "<tbody>\n",
       "\t<tr><th scope=row>1</th><td>France   </td><td>89.757724</td></tr>\n",
       "\t<tr><th scope=row>2</th><td>Denmark  </td><td>57.572798</td></tr>\n",
       "\t<tr><th scope=row>3</th><td>India    </td><td>30.977006</td></tr>\n",
       "\t<tr><th scope=row>4</th><td>Brazil   </td><td>17.771228</td></tr>\n",
       "\t<tr><th scope=row>5</th><td>Australia</td><td> 7.734785</td></tr>\n",
       "\t<tr><th scope=row>6</th><td>US       </td><td> 6.303715</td></tr>\n",
       "\t<tr><th scope=row>7</th><td>Russia   </td><td> 5.609682</td></tr>\n",
       "\t<tr><th scope=row>8</th><td>Turkey   </td><td> 5.478185</td></tr>\n",
       "\t<tr><th scope=row>9</th><td>Colombia </td><td> 4.681505</td></tr>\n",
       "\t<tr><th scope=row>10</th><td>Argentina</td><td> 4.615834</td></tr>\n",
       "</tbody>\n",
       "</table>\n"
      ],
      "text/latex": [
       "A data.frame: 10 × 2\n",
       "\\begin{tabular}{r|ll}\n",
       "  & country & totalCases\\_recov\\\\\n",
       "  & <chr> & <dbl>\\\\\n",
       "\\hline\n",
       "\t1 & France    & 89.757724\\\\\n",
       "\t2 & Denmark   & 57.572798\\\\\n",
       "\t3 & India     & 30.977006\\\\\n",
       "\t4 & Brazil    & 17.771228\\\\\n",
       "\t5 & Australia &  7.734785\\\\\n",
       "\t6 & US        &  6.303715\\\\\n",
       "\t7 & Russia    &  5.609682\\\\\n",
       "\t8 & Turkey    &  5.478185\\\\\n",
       "\t9 & Colombia  &  4.681505\\\\\n",
       "\t10 & Argentina &  4.615834\\\\\n",
       "\\end{tabular}\n"
      ],
      "text/markdown": [
       "\n",
       "A data.frame: 10 × 2\n",
       "\n",
       "| <!--/--> | country &lt;chr&gt; | totalCases_recov &lt;dbl&gt; |\n",
       "|---|---|---|\n",
       "| 1 | France    | 89.757724 |\n",
       "| 2 | Denmark   | 57.572798 |\n",
       "| 3 | India     | 30.977006 |\n",
       "| 4 | Brazil    | 17.771228 |\n",
       "| 5 | Australia |  7.734785 |\n",
       "| 6 | US        |  6.303715 |\n",
       "| 7 | Russia    |  5.609682 |\n",
       "| 8 | Turkey    |  5.478185 |\n",
       "| 9 | Colombia  |  4.681505 |\n",
       "| 10 | Argentina |  4.615834 |\n",
       "\n"
      ],
      "text/plain": [
       "   country   totalCases_recov\n",
       "1  France    89.757724       \n",
       "2  Denmark   57.572798       \n",
       "3  India     30.977006       \n",
       "4  Brazil    17.771228       \n",
       "5  Australia  7.734785       \n",
       "6  US         6.303715       \n",
       "7  Russia     5.609682       \n",
       "8  Turkey     5.478185       \n",
       "9  Colombia   4.681505       \n",
       "10 Argentina  4.615834       "
      ]
     },
     "metadata": {},
     "output_type": "display_data"
    }
   ],
   "source": [
    "top_10_Country_Highest_recovCases"
   ]
  },
  {
   "cell_type": "code",
   "execution_count": 958,
   "id": "17eb1c3f",
   "metadata": {},
   "outputs": [
    {
     "data": {
      "image/png": "[encoded data removed]",
      "text/plain": [
       "plot without title"
      ]
     },
     "metadata": {
      "image/png": {
       "height": 420,
       "width": 420
      }
     },
     "output_type": "display_data"
    }
   ],
   "source": [
    "ggplot(data = head(top_10_Country_Highest_recovCases),aes(x = reorder(country,totalCases_recov),\n",
    "                                                          y = totalCases_recov,fill = country)) + \n",
    "                geom_bar(stat = \"identity\") + \n",
    "                    labs(title = \"Countries with highest number of cases(Millions)\") + xlab(\"Country\")"
   ]
  },
  {
   "cell_type": "code",
   "execution_count": 959,
   "id": "fd0af572",
   "metadata": {},
   "outputs": [],
   "source": [
    "top_10_Country_lowest_recovCases = tail(recov_Cases_country %>% arrange(desc(totalCases_recov)),20)"
   ]
  },
  {
   "cell_type": "code",
   "execution_count": 960,
   "id": "2ec919ac",
   "metadata": {},
   "outputs": [
    {
     "data": {
      "image/png": "[encoded data removed]",
      "text/plain": [
       "plot without title"
      ]
     },
     "metadata": {
      "image/png": {
       "height": 420,
       "width": 420
      }
     },
     "output_type": "display_data"
    }
   ],
   "source": [
    "ggplot(data = head(top_10_Country_lowest_recovCases),aes(x = reorder(country,totalCases_recov),\n",
    "                                                         y = totalCases_recov,fill = country)) + \n",
    "                geom_bar(stat = \"identity\") + theme(axis.text.x = element_text(angle = 90, vjust = 0.5, hjust=1)) +\n",
    "                    labs(title = \"Countries with lowest number of cases\") + xlab(\"Country\")"
   ]
  },
  {
   "cell_type": "code",
   "execution_count": 961,
   "id": "737d6768",
   "metadata": {},
   "outputs": [
    {
     "data": {
      "text/html": [
       "<table class=\"dataframe\">\n",
       "<caption>A data.frame: 6 × 2</caption>\n",
       "<thead>\n",
       "\t<tr><th></th><th scope=col>date</th><th scope=col>recovCases</th></tr>\n",
       "\t<tr><th></th><th scope=col>&lt;date&gt;</th><th scope=col>&lt;int&gt;</th></tr>\n",
       "</thead>\n",
       "<tbody>\n",
       "\t<tr><th scope=row>1</th><td>2020-01-22</td><td>2</td></tr>\n",
       "\t<tr><th scope=row>2</th><td>2020-01-23</td><td>2</td></tr>\n",
       "\t<tr><th scope=row>3</th><td>2020-01-24</td><td>3</td></tr>\n",
       "\t<tr><th scope=row>4</th><td>2020-01-25</td><td>3</td></tr>\n",
       "\t<tr><th scope=row>5</th><td>2020-01-26</td><td>7</td></tr>\n",
       "\t<tr><th scope=row>6</th><td>2020-01-27</td><td>7</td></tr>\n",
       "</tbody>\n",
       "</table>\n"
      ],
      "text/latex": [
       "A data.frame: 6 × 2\n",
       "\\begin{tabular}{r|ll}\n",
       "  & date & recovCases\\\\\n",
       "  & <date> & <int>\\\\\n",
       "\\hline\n",
       "\t1 & 2020-01-22 & 2\\\\\n",
       "\t2 & 2020-01-23 & 2\\\\\n",
       "\t3 & 2020-01-24 & 3\\\\\n",
       "\t4 & 2020-01-25 & 3\\\\\n",
       "\t5 & 2020-01-26 & 7\\\\\n",
       "\t6 & 2020-01-27 & 7\\\\\n",
       "\\end{tabular}\n"
      ],
      "text/markdown": [
       "\n",
       "A data.frame: 6 × 2\n",
       "\n",
       "| <!--/--> | date &lt;date&gt; | recovCases &lt;int&gt; |\n",
       "|---|---|---|\n",
       "| 1 | 2020-01-22 | 2 |\n",
       "| 2 | 2020-01-23 | 2 |\n",
       "| 3 | 2020-01-24 | 3 |\n",
       "| 4 | 2020-01-25 | 3 |\n",
       "| 5 | 2020-01-26 | 7 |\n",
       "| 6 | 2020-01-27 | 7 |\n",
       "\n"
      ],
      "text/plain": [
       "  date       recovCases\n",
       "1 2020-01-22 2         \n",
       "2 2020-01-23 2         \n",
       "3 2020-01-24 3         \n",
       "4 2020-01-25 3         \n",
       "5 2020-01-26 7         \n",
       "6 2020-01-27 7         "
      ]
     },
     "metadata": {},
     "output_type": "display_data"
    }
   ],
   "source": [
    "recov_Cases_daily = data.frame(country %>% group_by(date) %>% summarise(recovCases = sum(recov)))\n",
    "\n",
    "head(recov_Cases_daily)"
   ]
  },
  {
   "cell_type": "code",
   "execution_count": 962,
   "id": "92e71644",
   "metadata": {},
   "outputs": [],
   "source": [
    "recov_Cases_daily$DailyTrend = recov_Cases_daily[2:dim(recov_Cases_daily)[1],'recovCases'] - \n",
    "                                    recov_Cases_daily[1:dim(recov_Cases_daily)[1],'recovCases']\n",
    "\n",
    "recov_Cases_daily$DailyTrend <- ifelse(recov_Cases_daily$DailyTrend < 0,0,recov_Cases_daily$DailyTrend)"
   ]
  },
  {
   "cell_type": "code",
   "execution_count": 963,
   "id": "1cd68966",
   "metadata": {},
   "outputs": [
    {
     "data": {
      "image/png": "[encoded data removed]",
      "text/plain": [
       "plot without title"
      ]
     },
     "metadata": {
      "image/png": {
       "height": 420,
       "width": 420
      }
     },
     "output_type": "display_data"
    }
   ],
   "source": [
    "ggplot(recov_Cases_daily,aes(x = date, y = DailyTrend)) + \n",
    "        geom_line() + \n",
    "        labs(title = \"Recovered Cases daily basis\")"
   ]
  },
  {
   "cell_type": "markdown",
   "id": "ddf72c89",
   "metadata": {},
   "source": [
    "# All kind of cases in one plot daily basis"
   ]
  },
  {
   "cell_type": "code",
   "execution_count": 964,
   "id": "9edb6e6e",
   "metadata": {},
   "outputs": [
    {
     "data": {
      "image/png": "[encoded data removed]",
      "text/plain": [
       "plot without title"
      ]
     },
     "metadata": {
      "image/png": {
       "height": 420,
       "width": 420
      }
     },
     "output_type": "display_data"
    }
   ],
   "source": [
    "ggplot() + geom_line(data =conf_Cases_daily, aes(x=date,y=DailyTrend),color='red') + \n",
    "           geom_line(data =death_Cases_daily, aes(x=date,y=DailyTrend),color='blue') + \n",
    "           geom_line(data =recov_Cases_daily, aes(x=date,y=DailyTrend),color='black') + geom_point()"
   ]
  },
  {
   "cell_type": "code",
   "execution_count": 965,
   "id": "3ab54877",
   "metadata": {},
   "outputs": [],
   "source": [
    "df_list <- list(conf_Cases_country, death_Cases_country, recov_Cases_country)\n",
    "df_list <- df_list %>% reduce(full_join, by='country')"
   ]
  },
  {
   "cell_type": "code",
   "execution_count": 966,
   "id": "19644c25",
   "metadata": {},
   "outputs": [
    {
     "data": {
      "text/html": [
       "<table class=\"dataframe\">\n",
       "<caption>A data.frame: 6 × 4</caption>\n",
       "<thead>\n",
       "\t<tr><th></th><th scope=col>country</th><th scope=col>totalCases_conf</th><th scope=col>totalCases_Death</th><th scope=col>totalCases_recov</th></tr>\n",
       "\t<tr><th></th><th scope=col>&lt;chr&gt;</th><th scope=col>&lt;dbl&gt;</th><th scope=col>&lt;dbl&gt;</th><th scope=col>&lt;dbl&gt;</th></tr>\n",
       "</thead>\n",
       "<tbody>\n",
       "\t<tr><th scope=row>1</th><td>Afghanistan</td><td>201022</td><td>7809</td><td> 82614</td></tr>\n",
       "\t<tr><th scope=row>2</th><td>Albania    </td><td>332598</td><td>3591</td><td>130314</td></tr>\n",
       "\t<tr><th scope=row>3</th><td>Algeria    </td><td>270734</td><td>6881</td><td>118523</td></tr>\n",
       "\t<tr><th scope=row>4</th><td>Andorra    </td><td> 46366</td><td> 155</td><td> 14382</td></tr>\n",
       "\t<tr><th scope=row>5</th><td>Angola     </td><td>103131</td><td>1917</td><td> 39889</td></tr>\n",
       "\t<tr><th scope=row>6</th><td>Antarctica </td><td>    11</td><td>   0</td><td>     0</td></tr>\n",
       "</tbody>\n",
       "</table>\n"
      ],
      "text/latex": [
       "A data.frame: 6 × 4\n",
       "\\begin{tabular}{r|llll}\n",
       "  & country & totalCases\\_conf & totalCases\\_Death & totalCases\\_recov\\\\\n",
       "  & <chr> & <dbl> & <dbl> & <dbl>\\\\\n",
       "\\hline\n",
       "\t1 & Afghanistan & 201022 & 7809 &  82614\\\\\n",
       "\t2 & Albania     & 332598 & 3591 & 130314\\\\\n",
       "\t3 & Algeria     & 270734 & 6881 & 118523\\\\\n",
       "\t4 & Andorra     &  46366 &  155 &  14382\\\\\n",
       "\t5 & Angola      & 103131 & 1917 &  39889\\\\\n",
       "\t6 & Antarctica  &     11 &    0 &      0\\\\\n",
       "\\end{tabular}\n"
      ],
      "text/markdown": [
       "\n",
       "A data.frame: 6 × 4\n",
       "\n",
       "| <!--/--> | country &lt;chr&gt; | totalCases_conf &lt;dbl&gt; | totalCases_Death &lt;dbl&gt; | totalCases_recov &lt;dbl&gt; |\n",
       "|---|---|---|---|---|\n",
       "| 1 | Afghanistan | 201022 | 7809 |  82614 |\n",
       "| 2 | Albania     | 332598 | 3591 | 130314 |\n",
       "| 3 | Algeria     | 270734 | 6881 | 118523 |\n",
       "| 4 | Andorra     |  46366 |  155 |  14382 |\n",
       "| 5 | Angola      | 103131 | 1917 |  39889 |\n",
       "| 6 | Antarctica  |     11 |    0 |      0 |\n",
       "\n"
      ],
      "text/plain": [
       "  country     totalCases_conf totalCases_Death totalCases_recov\n",
       "1 Afghanistan 201022          7809              82614          \n",
       "2 Albania     332598          3591             130314          \n",
       "3 Algeria     270734          6881             118523          \n",
       "4 Andorra      46366           155              14382          \n",
       "5 Angola      103131          1917              39889          \n",
       "6 Antarctica      11             0                  0          "
      ]
     },
     "metadata": {},
     "output_type": "display_data"
    }
   ],
   "source": [
    "head(df_list)"
   ]
  },
  {
   "cell_type": "markdown",
   "id": "c976d22d",
   "metadata": {},
   "source": [
    "## Correlation between cases 'Confirmed' and 'Recovered'"
   ]
  },
  {
   "cell_type": "code",
   "execution_count": 967,
   "id": "6e10e53b",
   "metadata": {},
   "outputs": [
    {
     "data": {
      "image/png": "[encoded data removed]",
      "text/plain": [
       "plot without title"
      ]
     },
     "metadata": {
      "image/png": {
       "height": 420,
       "width": 420
      }
     },
     "output_type": "display_data"
    }
   ],
   "source": [
    "ggplot(df_list,aes(x = totalCases_conf,y = totalCases_recov)) + geom_point() + ylim(0,1000000) + xlim(0,1000000)"
   ]
  },
  {
   "cell_type": "markdown",
   "id": "13788bba",
   "metadata": {},
   "source": [
    "## Correlation between cases 'Confirmed' and 'Death'"
   ]
  },
  {
   "cell_type": "code",
   "execution_count": 968,
   "id": "44eee0cd",
   "metadata": {},
   "outputs": [
    {
     "data": {
      "image/png": "[encoded data removed]",
      "text/plain": [
       "plot without title"
      ]
     },
     "metadata": {
      "image/png": {
       "height": 420,
       "width": 420
      }
     },
     "output_type": "display_data"
    }
   ],
   "source": [
    "ggplot(df_list,aes(x = totalCases_conf,y = totalCases_Death)) + geom_point() + ylim(0,25000) + xlim(0,1000000)"
   ]
  },
  {
   "cell_type": "code",
   "execution_count": 969,
   "id": "a239838c",
   "metadata": {},
   "outputs": [],
   "source": [
    "df_list$totalCases_conf = df_list$totalCases_conf\n",
    "df_list$totalCases_death = df_list$totalCases_Death\n",
    "df_list$totalCases_recov = df_list$totalCases_recov"
   ]
  },
  {
   "cell_type": "code",
   "execution_count": 970,
   "id": "e50945e0",
   "metadata": {},
   "outputs": [
    {
     "data": {
      "text/html": [
       "<table class=\"dataframe\">\n",
       "<caption>A data.frame: 10 × 5</caption>\n",
       "<thead>\n",
       "\t<tr><th></th><th scope=col>country</th><th scope=col>totalCases_conf</th><th scope=col>totalCases_Death</th><th scope=col>totalCases_recov</th><th scope=col>totalCases_death</th></tr>\n",
       "\t<tr><th></th><th scope=col>&lt;chr&gt;</th><th scope=col>&lt;dbl&gt;</th><th scope=col>&lt;dbl&gt;</th><th scope=col>&lt;dbl&gt;</th><th scope=col>&lt;dbl&gt;</th></tr>\n",
       "</thead>\n",
       "<tbody>\n",
       "\t<tr><th scope=row>1</th><td>France        </td><td>10253231705</td><td> 152288</td><td>89757724</td><td> 152288</td></tr>\n",
       "\t<tr><th scope=row>2</th><td>United Kingdom</td><td> 8528679938</td><td> 207948</td><td> 2260277</td><td> 207948</td></tr>\n",
       "\t<tr><th scope=row>3</th><td>Netherlands   </td><td> 2813862492</td><td>  22721</td><td> 4210989</td><td>  22721</td></tr>\n",
       "\t<tr><th scope=row>4</th><td>Australia     </td><td> 1418548617</td><td>    674</td><td> 7734785</td><td>    674</td></tr>\n",
       "\t<tr><th scope=row>5</th><td>Denmark       </td><td>  945822499</td><td>   7173</td><td>57572798</td><td>   7173</td></tr>\n",
       "\t<tr><th scope=row>6</th><td>China         </td><td>  379033278</td><td>     NA</td><td>      NA</td><td>     NA</td></tr>\n",
       "\t<tr><th scope=row>7</th><td>New Zealand   </td><td>  288744504</td><td>   2055</td><td>  952643</td><td>   2055</td></tr>\n",
       "\t<tr><th scope=row>8</th><td>US            </td><td>   96931266</td><td>1065076</td><td> 6303715</td><td>1065076</td></tr>\n",
       "\t<tr><th scope=row>9</th><td>India         </td><td>   44626586</td><td> 528874</td><td>30977006</td><td> 528874</td></tr>\n",
       "\t<tr><th scope=row>10</th><td>Brazil        </td><td>   34766394</td><td> 687144</td><td>17771228</td><td> 687144</td></tr>\n",
       "</tbody>\n",
       "</table>\n"
      ],
      "text/latex": [
       "A data.frame: 10 × 5\n",
       "\\begin{tabular}{r|lllll}\n",
       "  & country & totalCases\\_conf & totalCases\\_Death & totalCases\\_recov & totalCases\\_death\\\\\n",
       "  & <chr> & <dbl> & <dbl> & <dbl> & <dbl>\\\\\n",
       "\\hline\n",
       "\t1 & France         & 10253231705 &  152288 & 89757724 &  152288\\\\\n",
       "\t2 & United Kingdom &  8528679938 &  207948 &  2260277 &  207948\\\\\n",
       "\t3 & Netherlands    &  2813862492 &   22721 &  4210989 &   22721\\\\\n",
       "\t4 & Australia      &  1418548617 &     674 &  7734785 &     674\\\\\n",
       "\t5 & Denmark        &   945822499 &    7173 & 57572798 &    7173\\\\\n",
       "\t6 & China          &   379033278 &      NA &       NA &      NA\\\\\n",
       "\t7 & New Zealand    &   288744504 &    2055 &   952643 &    2055\\\\\n",
       "\t8 & US             &    96931266 & 1065076 &  6303715 & 1065076\\\\\n",
       "\t9 & India          &    44626586 &  528874 & 30977006 &  528874\\\\\n",
       "\t10 & Brazil         &    34766394 &  687144 & 17771228 &  687144\\\\\n",
       "\\end{tabular}\n"
      ],
      "text/markdown": [
       "\n",
       "A data.frame: 10 × 5\n",
       "\n",
       "| <!--/--> | country &lt;chr&gt; | totalCases_conf &lt;dbl&gt; | totalCases_Death &lt;dbl&gt; | totalCases_recov &lt;dbl&gt; | totalCases_death &lt;dbl&gt; |\n",
       "|---|---|---|---|---|---|\n",
       "| 1 | France         | 10253231705 |  152288 | 89757724 |  152288 |\n",
       "| 2 | United Kingdom |  8528679938 |  207948 |  2260277 |  207948 |\n",
       "| 3 | Netherlands    |  2813862492 |   22721 |  4210989 |   22721 |\n",
       "| 4 | Australia      |  1418548617 |     674 |  7734785 |     674 |\n",
       "| 5 | Denmark        |   945822499 |    7173 | 57572798 |    7173 |\n",
       "| 6 | China          |   379033278 |      NA |       NA |      NA |\n",
       "| 7 | New Zealand    |   288744504 |    2055 |   952643 |    2055 |\n",
       "| 8 | US             |    96931266 | 1065076 |  6303715 | 1065076 |\n",
       "| 9 | India          |    44626586 |  528874 | 30977006 |  528874 |\n",
       "| 10 | Brazil         |    34766394 |  687144 | 17771228 |  687144 |\n",
       "\n"
      ],
      "text/plain": [
       "   country        totalCases_conf totalCases_Death totalCases_recov\n",
       "1  France         10253231705      152288          89757724        \n",
       "2  United Kingdom  8528679938      207948           2260277        \n",
       "3  Netherlands     2813862492       22721           4210989        \n",
       "4  Australia       1418548617         674           7734785        \n",
       "5  Denmark          945822499        7173          57572798        \n",
       "6  China            379033278          NA                NA        \n",
       "7  New Zealand      288744504        2055            952643        \n",
       "8  US                96931266     1065076           6303715        \n",
       "9  India             44626586      528874          30977006        \n",
       "10 Brazil            34766394      687144          17771228        \n",
       "   totalCases_death\n",
       "1   152288         \n",
       "2   207948         \n",
       "3    22721         \n",
       "4      674         \n",
       "5     7173         \n",
       "6       NA         \n",
       "7     2055         \n",
       "8  1065076         \n",
       "9   528874         \n",
       "10  687144         "
      ]
     },
     "metadata": {},
     "output_type": "display_data"
    }
   ],
   "source": [
    "head(df_list %>% arrange(desc(totalCases_conf)),10)"
   ]
  },
  {
   "cell_type": "markdown",
   "id": "39710ed4",
   "metadata": {},
   "source": [
    "## Mortality Rate and Recovery Rate"
   ]
  },
  {
   "cell_type": "code",
   "execution_count": 971,
   "id": "1ac5e6e2",
   "metadata": {},
   "outputs": [],
   "source": [
    "# Mortality rate can be defined as the ratio of number of deaths recorded against the total number of cases recorded and this \n",
    "# is calculated using the following formula:"
   ]
  },
  {
   "cell_type": "code",
   "execution_count": 972,
   "id": "048d0878",
   "metadata": {},
   "outputs": [
    {
     "data": {
      "text/html": [
       "<table class=\"dataframe\">\n",
       "<caption>A data.frame: 1 × 5</caption>\n",
       "<thead>\n",
       "\t<tr><th></th><th scope=col>country</th><th scope=col>totalCases_conf</th><th scope=col>totalCases_Death</th><th scope=col>totalCases_recov</th><th scope=col>totalCases_death</th></tr>\n",
       "\t<tr><th></th><th scope=col>&lt;chr&gt;</th><th scope=col>&lt;dbl&gt;</th><th scope=col>&lt;dbl&gt;</th><th scope=col>&lt;dbl&gt;</th><th scope=col>&lt;dbl&gt;</th></tr>\n",
       "</thead>\n",
       "<tbody>\n",
       "\t<tr><th scope=row>80</th><td>India</td><td>44626586</td><td>528874</td><td>30977006</td><td>528874</td></tr>\n",
       "</tbody>\n",
       "</table>\n"
      ],
      "text/latex": [
       "A data.frame: 1 × 5\n",
       "\\begin{tabular}{r|lllll}\n",
       "  & country & totalCases\\_conf & totalCases\\_Death & totalCases\\_recov & totalCases\\_death\\\\\n",
       "  & <chr> & <dbl> & <dbl> & <dbl> & <dbl>\\\\\n",
       "\\hline\n",
       "\t80 & India & 44626586 & 528874 & 30977006 & 528874\\\\\n",
       "\\end{tabular}\n"
      ],
      "text/markdown": [
       "\n",
       "A data.frame: 1 × 5\n",
       "\n",
       "| <!--/--> | country &lt;chr&gt; | totalCases_conf &lt;dbl&gt; | totalCases_Death &lt;dbl&gt; | totalCases_recov &lt;dbl&gt; | totalCases_death &lt;dbl&gt; |\n",
       "|---|---|---|---|---|---|\n",
       "| 80 | India | 44626586 | 528874 | 30977006 | 528874 |\n",
       "\n"
      ],
      "text/plain": [
       "   country totalCases_conf totalCases_Death totalCases_recov totalCases_death\n",
       "80 India   44626586        528874           30977006         528874          "
      ]
     },
     "metadata": {},
     "output_type": "display_data"
    }
   ],
   "source": [
    "df_list[df_list$country == 'India',]"
   ]
  },
  {
   "cell_type": "code",
   "execution_count": 973,
   "id": "50907e5c",
   "metadata": {},
   "outputs": [],
   "source": [
    "df_list = mutate(df_list,recovery_rate = totalCases_recov / totalCases_conf)\n",
    "\n",
    "df_list = mutate(df_list,mortality_rate = totalCases_death / totalCases_conf)"
   ]
  },
  {
   "cell_type": "markdown",
   "id": "2dd7eb16",
   "metadata": {},
   "source": [
    "## Order based on the highest 'death rate'"
   ]
  },
  {
   "cell_type": "code",
   "execution_count": 974,
   "id": "6ba5eb07",
   "metadata": {},
   "outputs": [
    {
     "data": {
      "text/html": [
       "<table class=\"dataframe\">\n",
       "<caption>A data.frame: 6 × 7</caption>\n",
       "<thead>\n",
       "\t<tr><th></th><th scope=col>country</th><th scope=col>totalCases_conf</th><th scope=col>totalCases_Death</th><th scope=col>totalCases_recov</th><th scope=col>totalCases_death</th><th scope=col>recovery_rate</th><th scope=col>mortality_rate</th></tr>\n",
       "\t<tr><th></th><th scope=col>&lt;chr&gt;</th><th scope=col>&lt;dbl&gt;</th><th scope=col>&lt;dbl&gt;</th><th scope=col>&lt;dbl&gt;</th><th scope=col>&lt;dbl&gt;</th><th scope=col>&lt;dbl&gt;</th><th scope=col>&lt;dbl&gt;</th></tr>\n",
       "</thead>\n",
       "<tbody>\n",
       "\t<tr><th scope=row>1</th><td>MS Zaandam</td><td>      9</td><td>     2</td><td>     7</td><td>     2</td><td>0.7777778</td><td>0.22222222</td></tr>\n",
       "\t<tr><th scope=row>2</th><td>Yemen     </td><td>  11940</td><td>  2158</td><td>  4251</td><td>  2158</td><td>0.3560302</td><td>0.18073702</td></tr>\n",
       "\t<tr><th scope=row>3</th><td>Sudan     </td><td>  63388</td><td>  4963</td><td> 30647</td><td>  4963</td><td>0.4834827</td><td>0.07829558</td></tr>\n",
       "\t<tr><th scope=row>4</th><td>Syria     </td><td>  57332</td><td>  3163</td><td> 22019</td><td>  3163</td><td>0.3840613</td><td>0.05516989</td></tr>\n",
       "\t<tr><th scope=row>5</th><td>Peru      </td><td>4152584</td><td>216844</td><td>789908</td><td>216844</td><td>0.1902208</td><td>0.05221905</td></tr>\n",
       "\t<tr><th scope=row>6</th><td>Somalia   </td><td>  27223</td><td>  1361</td><td>  7661</td><td>  1361</td><td>0.2814164</td><td>0.04999449</td></tr>\n",
       "</tbody>\n",
       "</table>\n"
      ],
      "text/latex": [
       "A data.frame: 6 × 7\n",
       "\\begin{tabular}{r|lllllll}\n",
       "  & country & totalCases\\_conf & totalCases\\_Death & totalCases\\_recov & totalCases\\_death & recovery\\_rate & mortality\\_rate\\\\\n",
       "  & <chr> & <dbl> & <dbl> & <dbl> & <dbl> & <dbl> & <dbl>\\\\\n",
       "\\hline\n",
       "\t1 & MS Zaandam &       9 &      2 &      7 &      2 & 0.7777778 & 0.22222222\\\\\n",
       "\t2 & Yemen      &   11940 &   2158 &   4251 &   2158 & 0.3560302 & 0.18073702\\\\\n",
       "\t3 & Sudan      &   63388 &   4963 &  30647 &   4963 & 0.4834827 & 0.07829558\\\\\n",
       "\t4 & Syria      &   57332 &   3163 &  22019 &   3163 & 0.3840613 & 0.05516989\\\\\n",
       "\t5 & Peru       & 4152584 & 216844 & 789908 & 216844 & 0.1902208 & 0.05221905\\\\\n",
       "\t6 & Somalia    &   27223 &   1361 &   7661 &   1361 & 0.2814164 & 0.04999449\\\\\n",
       "\\end{tabular}\n"
      ],
      "text/markdown": [
       "\n",
       "A data.frame: 6 × 7\n",
       "\n",
       "| <!--/--> | country &lt;chr&gt; | totalCases_conf &lt;dbl&gt; | totalCases_Death &lt;dbl&gt; | totalCases_recov &lt;dbl&gt; | totalCases_death &lt;dbl&gt; | recovery_rate &lt;dbl&gt; | mortality_rate &lt;dbl&gt; |\n",
       "|---|---|---|---|---|---|---|---|\n",
       "| 1 | MS Zaandam |       9 |      2 |      7 |      2 | 0.7777778 | 0.22222222 |\n",
       "| 2 | Yemen      |   11940 |   2158 |   4251 |   2158 | 0.3560302 | 0.18073702 |\n",
       "| 3 | Sudan      |   63388 |   4963 |  30647 |   4963 | 0.4834827 | 0.07829558 |\n",
       "| 4 | Syria      |   57332 |   3163 |  22019 |   3163 | 0.3840613 | 0.05516989 |\n",
       "| 5 | Peru       | 4152584 | 216844 | 789908 | 216844 | 0.1902208 | 0.05221905 |\n",
       "| 6 | Somalia    |   27223 |   1361 |   7661 |   1361 | 0.2814164 | 0.04999449 |\n",
       "\n"
      ],
      "text/plain": [
       "  country    totalCases_conf totalCases_Death totalCases_recov totalCases_death\n",
       "1 MS Zaandam       9              2                7                2          \n",
       "2 Yemen        11940           2158             4251             2158          \n",
       "3 Sudan        63388           4963            30647             4963          \n",
       "4 Syria        57332           3163            22019             3163          \n",
       "5 Peru       4152584         216844           789908           216844          \n",
       "6 Somalia      27223           1361             7661             1361          \n",
       "  recovery_rate mortality_rate\n",
       "1 0.7777778     0.22222222    \n",
       "2 0.3560302     0.18073702    \n",
       "3 0.4834827     0.07829558    \n",
       "4 0.3840613     0.05516989    \n",
       "5 0.1902208     0.05221905    \n",
       "6 0.2814164     0.04999449    "
      ]
     },
     "metadata": {},
     "output_type": "display_data"
    }
   ],
   "source": [
    "head(df_list %>% arrange(desc(mortality_rate)))"
   ]
  },
  {
   "cell_type": "markdown",
   "id": "0c019e00",
   "metadata": {},
   "source": [
    "## Order based on the highest 'recovery_rate'"
   ]
  },
  {
   "cell_type": "code",
   "execution_count": 975,
   "id": "74bef176",
   "metadata": {},
   "outputs": [
    {
     "data": {
      "text/html": [
       "<table class=\"dataframe\">\n",
       "<caption>A data.frame: 6 × 7</caption>\n",
       "<thead>\n",
       "\t<tr><th></th><th scope=col>country</th><th scope=col>totalCases_conf</th><th scope=col>totalCases_Death</th><th scope=col>totalCases_recov</th><th scope=col>totalCases_death</th><th scope=col>recovery_rate</th><th scope=col>mortality_rate</th></tr>\n",
       "\t<tr><th></th><th scope=col>&lt;chr&gt;</th><th scope=col>&lt;dbl&gt;</th><th scope=col>&lt;dbl&gt;</th><th scope=col>&lt;dbl&gt;</th><th scope=col>&lt;dbl&gt;</th><th scope=col>&lt;dbl&gt;</th><th scope=col>&lt;dbl&gt;</th></tr>\n",
       "</thead>\n",
       "<tbody>\n",
       "\t<tr><th scope=row>1</th><td>Diamond Princess</td><td>    712</td><td>    13</td><td>    700</td><td>    13</td><td>0.9831461</td><td>0.01825843</td></tr>\n",
       "\t<tr><th scope=row>2</th><td>Holy See        </td><td>     29</td><td>     0</td><td>     27</td><td>     0</td><td>0.9310345</td><td>0.00000000</td></tr>\n",
       "\t<tr><th scope=row>3</th><td>Tajikistan      </td><td>  17786</td><td>   125</td><td>  15038</td><td>   125</td><td>0.8454965</td><td>0.00702800</td></tr>\n",
       "\t<tr><th scope=row>4</th><td>MS Zaandam      </td><td>      9</td><td>     2</td><td>      7</td><td>     2</td><td>0.7777778</td><td>0.22222222</td></tr>\n",
       "\t<tr><th scope=row>5</th><td>Colombia        </td><td>6308558</td><td>141820</td><td>4681505</td><td>141820</td><td>0.7420880</td><td>0.02248057</td></tr>\n",
       "\t<tr><th scope=row>6</th><td>Djibouti        </td><td>  15690</td><td>   189</td><td>  11491</td><td>   189</td><td>0.7323773</td><td>0.01204589</td></tr>\n",
       "</tbody>\n",
       "</table>\n"
      ],
      "text/latex": [
       "A data.frame: 6 × 7\n",
       "\\begin{tabular}{r|lllllll}\n",
       "  & country & totalCases\\_conf & totalCases\\_Death & totalCases\\_recov & totalCases\\_death & recovery\\_rate & mortality\\_rate\\\\\n",
       "  & <chr> & <dbl> & <dbl> & <dbl> & <dbl> & <dbl> & <dbl>\\\\\n",
       "\\hline\n",
       "\t1 & Diamond Princess &     712 &     13 &     700 &     13 & 0.9831461 & 0.01825843\\\\\n",
       "\t2 & Holy See         &      29 &      0 &      27 &      0 & 0.9310345 & 0.00000000\\\\\n",
       "\t3 & Tajikistan       &   17786 &    125 &   15038 &    125 & 0.8454965 & 0.00702800\\\\\n",
       "\t4 & MS Zaandam       &       9 &      2 &       7 &      2 & 0.7777778 & 0.22222222\\\\\n",
       "\t5 & Colombia         & 6308558 & 141820 & 4681505 & 141820 & 0.7420880 & 0.02248057\\\\\n",
       "\t6 & Djibouti         &   15690 &    189 &   11491 &    189 & 0.7323773 & 0.01204589\\\\\n",
       "\\end{tabular}\n"
      ],
      "text/markdown": [
       "\n",
       "A data.frame: 6 × 7\n",
       "\n",
       "| <!--/--> | country &lt;chr&gt; | totalCases_conf &lt;dbl&gt; | totalCases_Death &lt;dbl&gt; | totalCases_recov &lt;dbl&gt; | totalCases_death &lt;dbl&gt; | recovery_rate &lt;dbl&gt; | mortality_rate &lt;dbl&gt; |\n",
       "|---|---|---|---|---|---|---|---|\n",
       "| 1 | Diamond Princess |     712 |     13 |     700 |     13 | 0.9831461 | 0.01825843 |\n",
       "| 2 | Holy See         |      29 |      0 |      27 |      0 | 0.9310345 | 0.00000000 |\n",
       "| 3 | Tajikistan       |   17786 |    125 |   15038 |    125 | 0.8454965 | 0.00702800 |\n",
       "| 4 | MS Zaandam       |       9 |      2 |       7 |      2 | 0.7777778 | 0.22222222 |\n",
       "| 5 | Colombia         | 6308558 | 141820 | 4681505 | 141820 | 0.7420880 | 0.02248057 |\n",
       "| 6 | Djibouti         |   15690 |    189 |   11491 |    189 | 0.7323773 | 0.01204589 |\n",
       "\n"
      ],
      "text/plain": [
       "  country          totalCases_conf totalCases_Death totalCases_recov\n",
       "1 Diamond Princess     712             13               700         \n",
       "2 Holy See              29              0                27         \n",
       "3 Tajikistan         17786            125             15038         \n",
       "4 MS Zaandam             9              2                 7         \n",
       "5 Colombia         6308558         141820           4681505         \n",
       "6 Djibouti           15690            189             11491         \n",
       "  totalCases_death recovery_rate mortality_rate\n",
       "1     13           0.9831461     0.01825843    \n",
       "2      0           0.9310345     0.00000000    \n",
       "3    125           0.8454965     0.00702800    \n",
       "4      2           0.7777778     0.22222222    \n",
       "5 141820           0.7420880     0.02248057    \n",
       "6    189           0.7323773     0.01204589    "
      ]
     },
     "metadata": {},
     "output_type": "display_data"
    }
   ],
   "source": [
    "head(df_list %>% arrange(desc(recovery_rate)))"
   ]
  },
  {
   "cell_type": "code",
   "execution_count": 976,
   "id": "670f0eb8",
   "metadata": {},
   "outputs": [],
   "source": [
    "df_list <- list(conf_Cases_country, death_Cases_country, recov_Cases_country)\n",
    "df_list <- df_list %>% reduce(full_join, by='country')"
   ]
  },
  {
   "cell_type": "markdown",
   "id": "db22074e",
   "metadata": {},
   "source": [
    "## World Reported Cases"
   ]
  },
  {
   "cell_type": "code",
   "execution_count": 977,
   "id": "67fc8c9b",
   "metadata": {},
   "outputs": [
    {
     "data": {
      "text/html": [
       "25.160772446"
      ],
      "text/latex": [
       "25.160772446"
      ],
      "text/markdown": [
       "25.160772446"
      ],
      "text/plain": [
       "[1] 25.16077"
      ]
     },
     "metadata": {},
     "output_type": "display_data"
    }
   ],
   "source": [
    "sum(df_list$totalCases_conf) /1000000000 # in billion"
   ]
  },
  {
   "cell_type": "code",
   "execution_count": 978,
   "id": "9bebe496",
   "metadata": {},
   "outputs": [
    {
     "data": {
      "text/html": [
       "0"
      ],
      "text/latex": [
       "0"
      ],
      "text/markdown": [
       "0"
      ],
      "text/plain": [
       "[1] 0"
      ]
     },
     "metadata": {},
     "output_type": "display_data"
    }
   ],
   "source": [
    "sum(df_list$totalCases_death) /1000000 # Million"
   ]
  },
  {
   "cell_type": "code",
   "execution_count": 979,
   "id": "f723c0a9",
   "metadata": {},
   "outputs": [
    {
     "data": {
      "text/html": [
       "&lt;NA&gt;"
      ],
      "text/latex": [
       "<NA>"
      ],
      "text/markdown": [
       "&lt;NA&gt;"
      ],
      "text/plain": [
       "[1] NA"
      ]
     },
     "metadata": {},
     "output_type": "display_data"
    }
   ],
   "source": [
    "sum(df_list$totalCases_recov) /1000000 # Million"
   ]
  },
  {
   "cell_type": "markdown",
   "id": "e75aee89",
   "metadata": {},
   "source": [
    "## Average Cases worldwide Recoved on daily wise"
   ]
  },
  {
   "cell_type": "code",
   "execution_count": 980,
   "id": "4cd0b9dd",
   "metadata": {},
   "outputs": [
    {
     "data": {
      "text/html": [
       "<table class=\"dataframe\">\n",
       "<caption>A data.frame: 1 × 1</caption>\n",
       "<thead>\n",
       "\t<tr><th scope=col>mean( in lakh)</th></tr>\n",
       "\t<tr><th scope=col>&lt;dbl&gt;</th></tr>\n",
       "</thead>\n",
       "<tbody>\n",
       "\t<tr><td>1.342568</td></tr>\n",
       "</tbody>\n",
       "</table>\n"
      ],
      "text/latex": [
       "A data.frame: 1 × 1\n",
       "\\begin{tabular}{l}\n",
       " mean( in lakh)\\\\\n",
       " <dbl>\\\\\n",
       "\\hline\n",
       "\t 1.342568\\\\\n",
       "\\end{tabular}\n"
      ],
      "text/markdown": [
       "\n",
       "A data.frame: 1 × 1\n",
       "\n",
       "| mean( in lakh) &lt;dbl&gt; |\n",
       "|---|\n",
       "| 1.342568 |\n",
       "\n"
      ],
      "text/plain": [
       "  mean( in lakh)\n",
       "1 1.342568      "
      ]
     },
     "metadata": {},
     "output_type": "display_data"
    }
   ],
   "source": [
    "# recov_Cases_daily\n",
    "\n",
    "recov_Cases_daily %>% summarise(\"mean( in lakh)\" = mean(DailyTrend)) /100000 "
   ]
  },
  {
   "cell_type": "code",
   "execution_count": 981,
   "id": "1944852f",
   "metadata": {},
   "outputs": [],
   "source": [
    "## Average Cases worldwide Confirmed on daily wise"
   ]
  },
  {
   "cell_type": "code",
   "execution_count": 982,
   "id": "35f7237d",
   "metadata": {},
   "outputs": [
    {
     "data": {
      "text/html": [
       "<table class=\"dataframe\">\n",
       "<caption>A data.frame: 1 × 1</caption>\n",
       "<thead>\n",
       "\t<tr><th scope=col>mean( in lakh)</th></tr>\n",
       "\t<tr><th scope=col>&lt;dbl&gt;</th></tr>\n",
       "</thead>\n",
       "<tbody>\n",
       "\t<tr><td>6.081789</td></tr>\n",
       "</tbody>\n",
       "</table>\n"
      ],
      "text/latex": [
       "A data.frame: 1 × 1\n",
       "\\begin{tabular}{l}\n",
       " mean( in lakh)\\\\\n",
       " <dbl>\\\\\n",
       "\\hline\n",
       "\t 6.081789\\\\\n",
       "\\end{tabular}\n"
      ],
      "text/markdown": [
       "\n",
       "A data.frame: 1 × 1\n",
       "\n",
       "| mean( in lakh) &lt;dbl&gt; |\n",
       "|---|\n",
       "| 6.081789 |\n",
       "\n"
      ],
      "text/plain": [
       "  mean( in lakh)\n",
       "1 6.081789      "
      ]
     },
     "metadata": {},
     "output_type": "display_data"
    }
   ],
   "source": [
    "conf_Cases_daily %>% summarise(\"mean( in lakh)\" = mean(DailyTrend)) / 100000"
   ]
  },
  {
   "cell_type": "code",
   "execution_count": 983,
   "id": "c62feec0",
   "metadata": {},
   "outputs": [],
   "source": [
    "## Average Cases worldwide Recoved on daily wise"
   ]
  },
  {
   "cell_type": "code",
   "execution_count": 984,
   "id": "8bf40eab",
   "metadata": {},
   "outputs": [
    {
     "data": {
      "text/html": [
       "<table class=\"dataframe\">\n",
       "<caption>A data.frame: 1 × 1</caption>\n",
       "<thead>\n",
       "\t<tr><th scope=col>mean( in thousands)</th></tr>\n",
       "\t<tr><th scope=col>&lt;dbl&gt;</th></tr>\n",
       "</thead>\n",
       "<tbody>\n",
       "\t<tr><td>6.50374</td></tr>\n",
       "</tbody>\n",
       "</table>\n"
      ],
      "text/latex": [
       "A data.frame: 1 × 1\n",
       "\\begin{tabular}{l}\n",
       " mean( in thousands)\\\\\n",
       " <dbl>\\\\\n",
       "\\hline\n",
       "\t 6.50374\\\\\n",
       "\\end{tabular}\n"
      ],
      "text/markdown": [
       "\n",
       "A data.frame: 1 × 1\n",
       "\n",
       "| mean( in thousands) &lt;dbl&gt; |\n",
       "|---|\n",
       "| 6.50374 |\n",
       "\n"
      ],
      "text/plain": [
       "  mean( in thousands)\n",
       "1 6.50374            "
      ]
     },
     "metadata": {},
     "output_type": "display_data"
    }
   ],
   "source": [
    "death_Cases_daily %>% summarise(\"mean( in thousands)\" = mean(DailyTrend))/ 1000"
   ]
  },
  {
   "cell_type": "code",
   "execution_count": 985,
   "id": "d5243710",
   "metadata": {},
   "outputs": [],
   "source": [
    "## Plot Recovery and Death Rate"
   ]
  },
  {
   "cell_type": "code",
   "execution_count": 986,
   "id": "f399989f",
   "metadata": {},
   "outputs": [
    {
     "data": {
      "text/html": [
       "<table class=\"dataframe\">\n",
       "<caption>A data.frame: 6 × 13</caption>\n",
       "<thead>\n",
       "\t<tr><th></th><th scope=col>subregion</th><th scope=col>country</th><th scope=col>Lat</th><th scope=col>Long</th><th scope=col>date</th><th scope=col>conf</th><th scope=col>death</th><th scope=col>recov</th><th scope=col>Active</th><th scope=col>newCases</th><th scope=col>newDeath</th><th scope=col>newActive</th><th scope=col>newRecovered</th></tr>\n",
       "\t<tr><th></th><th scope=col>&lt;chr&gt;</th><th scope=col>&lt;chr&gt;</th><th scope=col>&lt;dbl&gt;</th><th scope=col>&lt;dbl&gt;</th><th scope=col>&lt;date&gt;</th><th scope=col>&lt;int&gt;</th><th scope=col>&lt;int&gt;</th><th scope=col>&lt;int&gt;</th><th scope=col>&lt;int&gt;</th><th scope=col>&lt;dbl&gt;</th><th scope=col>&lt;dbl&gt;</th><th scope=col>&lt;dbl&gt;</th><th scope=col>&lt;dbl&gt;</th></tr>\n",
       "</thead>\n",
       "<tbody>\n",
       "\t<tr><th scope=row>237154</th><td></td><td>Zimbabwe</td><td>-19.015</td><td>29.155</td><td>2022-10-09</td><td>257655</td><td>5604</td><td>0</td><td>252051</td><td> 0</td><td>0</td><td> 0</td><td>0</td></tr>\n",
       "\t<tr><th scope=row>237155</th><td></td><td>Zimbabwe</td><td>-19.015</td><td>29.155</td><td>2022-10-10</td><td>257749</td><td>5604</td><td>0</td><td>252145</td><td>94</td><td>0</td><td>94</td><td>0</td></tr>\n",
       "\t<tr><th scope=row>237156</th><td></td><td>Zimbabwe</td><td>-19.015</td><td>29.155</td><td>2022-10-11</td><td>257749</td><td>5604</td><td>0</td><td>252145</td><td> 0</td><td>0</td><td> 0</td><td>0</td></tr>\n",
       "\t<tr><th scope=row>237157</th><td></td><td>Zimbabwe</td><td>-19.015</td><td>29.155</td><td>2022-10-12</td><td>257798</td><td>5604</td><td>0</td><td>252194</td><td>49</td><td>0</td><td>49</td><td>0</td></tr>\n",
       "\t<tr><th scope=row>237158</th><td></td><td>Zimbabwe</td><td>-19.015</td><td>29.155</td><td>2022-10-13</td><td>257827</td><td>5605</td><td>0</td><td>252222</td><td>29</td><td>1</td><td>28</td><td>0</td></tr>\n",
       "\t<tr><th scope=row>237159</th><td></td><td>Zimbabwe</td><td>-19.015</td><td>29.155</td><td>2022-10-14</td><td>257827</td><td>5605</td><td>0</td><td>252222</td><td> 0</td><td>0</td><td> 0</td><td>0</td></tr>\n",
       "</tbody>\n",
       "</table>\n"
      ],
      "text/latex": [
       "A data.frame: 6 × 13\n",
       "\\begin{tabular}{r|lllllllllllll}\n",
       "  & subregion & country & Lat & Long & date & conf & death & recov & Active & newCases & newDeath & newActive & newRecovered\\\\\n",
       "  & <chr> & <chr> & <dbl> & <dbl> & <date> & <int> & <int> & <int> & <int> & <dbl> & <dbl> & <dbl> & <dbl>\\\\\n",
       "\\hline\n",
       "\t237154 &  & Zimbabwe & -19.015 & 29.155 & 2022-10-09 & 257655 & 5604 & 0 & 252051 &  0 & 0 &  0 & 0\\\\\n",
       "\t237155 &  & Zimbabwe & -19.015 & 29.155 & 2022-10-10 & 257749 & 5604 & 0 & 252145 & 94 & 0 & 94 & 0\\\\\n",
       "\t237156 &  & Zimbabwe & -19.015 & 29.155 & 2022-10-11 & 257749 & 5604 & 0 & 252145 &  0 & 0 &  0 & 0\\\\\n",
       "\t237157 &  & Zimbabwe & -19.015 & 29.155 & 2022-10-12 & 257798 & 5604 & 0 & 252194 & 49 & 0 & 49 & 0\\\\\n",
       "\t237158 &  & Zimbabwe & -19.015 & 29.155 & 2022-10-13 & 257827 & 5605 & 0 & 252222 & 29 & 1 & 28 & 0\\\\\n",
       "\t237159 &  & Zimbabwe & -19.015 & 29.155 & 2022-10-14 & 257827 & 5605 & 0 & 252222 &  0 & 0 &  0 & 0\\\\\n",
       "\\end{tabular}\n"
      ],
      "text/markdown": [
       "\n",
       "A data.frame: 6 × 13\n",
       "\n",
       "| <!--/--> | subregion &lt;chr&gt; | country &lt;chr&gt; | Lat &lt;dbl&gt; | Long &lt;dbl&gt; | date &lt;date&gt; | conf &lt;int&gt; | death &lt;int&gt; | recov &lt;int&gt; | Active &lt;int&gt; | newCases &lt;dbl&gt; | newDeath &lt;dbl&gt; | newActive &lt;dbl&gt; | newRecovered &lt;dbl&gt; |\n",
       "|---|---|---|---|---|---|---|---|---|---|---|---|---|---|\n",
       "| 237154 | <!----> | Zimbabwe | -19.015 | 29.155 | 2022-10-09 | 257655 | 5604 | 0 | 252051 |  0 | 0 |  0 | 0 |\n",
       "| 237155 | <!----> | Zimbabwe | -19.015 | 29.155 | 2022-10-10 | 257749 | 5604 | 0 | 252145 | 94 | 0 | 94 | 0 |\n",
       "| 237156 | <!----> | Zimbabwe | -19.015 | 29.155 | 2022-10-11 | 257749 | 5604 | 0 | 252145 |  0 | 0 |  0 | 0 |\n",
       "| 237157 | <!----> | Zimbabwe | -19.015 | 29.155 | 2022-10-12 | 257798 | 5604 | 0 | 252194 | 49 | 0 | 49 | 0 |\n",
       "| 237158 | <!----> | Zimbabwe | -19.015 | 29.155 | 2022-10-13 | 257827 | 5605 | 0 | 252222 | 29 | 1 | 28 | 0 |\n",
       "| 237159 | <!----> | Zimbabwe | -19.015 | 29.155 | 2022-10-14 | 257827 | 5605 | 0 | 252222 |  0 | 0 |  0 | 0 |\n",
       "\n"
      ],
      "text/plain": [
       "       subregion country  Lat     Long   date       conf   death recov Active\n",
       "237154           Zimbabwe -19.015 29.155 2022-10-09 257655 5604  0     252051\n",
       "237155           Zimbabwe -19.015 29.155 2022-10-10 257749 5604  0     252145\n",
       "237156           Zimbabwe -19.015 29.155 2022-10-11 257749 5604  0     252145\n",
       "237157           Zimbabwe -19.015 29.155 2022-10-12 257798 5604  0     252194\n",
       "237158           Zimbabwe -19.015 29.155 2022-10-13 257827 5605  0     252222\n",
       "237159           Zimbabwe -19.015 29.155 2022-10-14 257827 5605  0     252222\n",
       "       newCases newDeath newActive newRecovered\n",
       "237154  0       0         0        0           \n",
       "237155 94       0        94        0           \n",
       "237156  0       0         0        0           \n",
       "237157 49       0        49        0           \n",
       "237158 29       1        28        0           \n",
       "237159  0       0         0        0           "
      ]
     },
     "metadata": {},
     "output_type": "display_data"
    }
   ],
   "source": [
    "tail(country)"
   ]
  },
  {
   "cell_type": "code",
   "execution_count": 987,
   "id": "841f379b",
   "metadata": {},
   "outputs": [],
   "source": [
    "daily = country %>% select('date','recov','conf','death') %>% group_by(date) %>% summarise(total_recov = sum(recov),\n",
    "                                                                                           total_conf = sum(conf),\n",
    "                                                                                           total_death = sum(death))"
   ]
  },
  {
   "cell_type": "code",
   "execution_count": 988,
   "id": "9b610ef7",
   "metadata": {},
   "outputs": [
    {
     "data": {
      "text/html": [
       "<table class=\"dataframe\">\n",
       "<caption>A tibble: 6 × 4</caption>\n",
       "<thead>\n",
       "\t<tr><th scope=col>date</th><th scope=col>total_recov</th><th scope=col>total_conf</th><th scope=col>total_death</th></tr>\n",
       "\t<tr><th scope=col>&lt;date&gt;</th><th scope=col>&lt;int&gt;</th><th scope=col>&lt;int&gt;</th><th scope=col>&lt;int&gt;</th></tr>\n",
       "</thead>\n",
       "<tbody>\n",
       "\t<tr><td>2020-01-22</td><td>2</td><td> 9</td><td>0</td></tr>\n",
       "\t<tr><td>2020-01-23</td><td>2</td><td>12</td><td>0</td></tr>\n",
       "\t<tr><td>2020-01-24</td><td>3</td><td>21</td><td>0</td></tr>\n",
       "\t<tr><td>2020-01-25</td><td>3</td><td>28</td><td>0</td></tr>\n",
       "\t<tr><td>2020-01-26</td><td>7</td><td>42</td><td>0</td></tr>\n",
       "\t<tr><td>2020-01-27</td><td>7</td><td>49</td><td>0</td></tr>\n",
       "</tbody>\n",
       "</table>\n"
      ],
      "text/latex": [
       "A tibble: 6 × 4\n",
       "\\begin{tabular}{llll}\n",
       " date & total\\_recov & total\\_conf & total\\_death\\\\\n",
       " <date> & <int> & <int> & <int>\\\\\n",
       "\\hline\n",
       "\t 2020-01-22 & 2 &  9 & 0\\\\\n",
       "\t 2020-01-23 & 2 & 12 & 0\\\\\n",
       "\t 2020-01-24 & 3 & 21 & 0\\\\\n",
       "\t 2020-01-25 & 3 & 28 & 0\\\\\n",
       "\t 2020-01-26 & 7 & 42 & 0\\\\\n",
       "\t 2020-01-27 & 7 & 49 & 0\\\\\n",
       "\\end{tabular}\n"
      ],
      "text/markdown": [
       "\n",
       "A tibble: 6 × 4\n",
       "\n",
       "| date &lt;date&gt; | total_recov &lt;int&gt; | total_conf &lt;int&gt; | total_death &lt;int&gt; |\n",
       "|---|---|---|---|\n",
       "| 2020-01-22 | 2 |  9 | 0 |\n",
       "| 2020-01-23 | 2 | 12 | 0 |\n",
       "| 2020-01-24 | 3 | 21 | 0 |\n",
       "| 2020-01-25 | 3 | 28 | 0 |\n",
       "| 2020-01-26 | 7 | 42 | 0 |\n",
       "| 2020-01-27 | 7 | 49 | 0 |\n",
       "\n"
      ],
      "text/plain": [
       "  date       total_recov total_conf total_death\n",
       "1 2020-01-22 2            9         0          \n",
       "2 2020-01-23 2           12         0          \n",
       "3 2020-01-24 3           21         0          \n",
       "4 2020-01-25 3           28         0          \n",
       "5 2020-01-26 7           42         0          \n",
       "6 2020-01-27 7           49         0          "
      ]
     },
     "metadata": {},
     "output_type": "display_data"
    }
   ],
   "source": [
    "head(daily)"
   ]
  },
  {
   "cell_type": "code",
   "execution_count": 989,
   "id": "28edf2a9",
   "metadata": {},
   "outputs": [],
   "source": [
    "daily = mutate(daily,recovery_rate = total_recov / total_conf)\n",
    "\n",
    "daily = mutate(daily,mortality_rate = total_death / total_conf)"
   ]
  },
  {
   "cell_type": "code",
   "execution_count": 990,
   "id": "4a839fc9",
   "metadata": {},
   "outputs": [
    {
     "data": {
      "image/png": "[encoded data removed]",
      "text/plain": [
       "plot without title"
      ]
     },
     "metadata": {
      "image/png": {
       "height": 420,
       "width": 420
      }
     },
     "output_type": "display_data"
    }
   ],
   "source": [
    "ggplot(daily,aes(x = date, y = recovery_rate)) + \n",
    "        geom_line() + \n",
    "        labs(title = \"Recovery rate daily basis\")"
   ]
  },
  {
   "cell_type": "code",
   "execution_count": 991,
   "id": "65c1702f",
   "metadata": {},
   "outputs": [
    {
     "data": {
      "image/png": "[encoded data removed]",
      "text/plain": [
       "plot without title"
      ]
     },
     "metadata": {
      "image/png": {
       "height": 420,
       "width": 420
      }
     },
     "output_type": "display_data"
    }
   ],
   "source": [
    "ggplot(daily,aes(x = date, y = mortality_rate)) + \n",
    "        geom_line() + \n",
    "        labs(title = \"Death rate daily basis\")"
   ]
  },
  {
   "cell_type": "markdown",
   "id": "7847acf2",
   "metadata": {},
   "source": [
    "## Analysize Active Cases counry wise"
   ]
  },
  {
   "cell_type": "code",
   "execution_count": 994,
   "id": "8bbaae9b",
   "metadata": {
    "scrolled": true
   },
   "outputs": [
    {
     "data": {
      "text/html": [
       "<table class=\"dataframe\">\n",
       "<caption>A tibble: 6 × 2</caption>\n",
       "<thead>\n",
       "\t<tr><th scope=col>country</th><th scope=col>Active_cases</th></tr>\n",
       "\t<tr><th scope=col>&lt;chr&gt;</th><th scope=col>&lt;dbl&gt;</th></tr>\n",
       "</thead>\n",
       "<tbody>\n",
       "\t<tr><td>US          </td><td>95866190</td></tr>\n",
       "\t<tr><td>India       </td><td>44097553</td></tr>\n",
       "\t<tr><td>France      </td><td>35026115</td></tr>\n",
       "\t<tr><td>Germany     </td><td>34457415</td></tr>\n",
       "\t<tr><td>Brazil      </td><td>34059318</td></tr>\n",
       "\t<tr><td>Korea, South</td><td>25070187</td></tr>\n",
       "</tbody>\n",
       "</table>\n"
      ],
      "text/latex": [
       "A tibble: 6 × 2\n",
       "\\begin{tabular}{ll}\n",
       " country & Active\\_cases\\\\\n",
       " <chr> & <dbl>\\\\\n",
       "\\hline\n",
       "\t US           & 95866190\\\\\n",
       "\t India        & 44097553\\\\\n",
       "\t France       & 35026115\\\\\n",
       "\t Germany      & 34457415\\\\\n",
       "\t Brazil       & 34059318\\\\\n",
       "\t Korea, South & 25070187\\\\\n",
       "\\end{tabular}\n"
      ],
      "text/markdown": [
       "\n",
       "A tibble: 6 × 2\n",
       "\n",
       "| country &lt;chr&gt; | Active_cases &lt;dbl&gt; |\n",
       "|---|---|\n",
       "| US           | 95866190 |\n",
       "| India        | 44097553 |\n",
       "| France       | 35026115 |\n",
       "| Germany      | 34457415 |\n",
       "| Brazil       | 34059318 |\n",
       "| Korea, South | 25070187 |\n",
       "\n"
      ],
      "text/plain": [
       "  country      Active_cases\n",
       "1 US           95866190    \n",
       "2 India        44097553    \n",
       "3 France       35026115    \n",
       "4 Germany      34457415    \n",
       "5 Brazil       34059318    \n",
       "6 Korea, South 25070187    "
      ]
     },
     "metadata": {},
     "output_type": "display_data"
    }
   ],
   "source": []
  },
  {
   "cell_type": "code",
   "execution_count": 1006,
   "id": "9a3f5e04",
   "metadata": {},
   "outputs": [
    {
     "data": {
      "image/png": "[encoded data removed]",
      "text/plain": [
       "plot without title"
      ]
     },
     "metadata": {
      "image/png": {
       "height": 420,
       "width": 420
      }
     },
     "output_type": "display_data"
    }
   ],
   "source": [
    "data = head(country %>% group_by(country) %>% summarise(Active_cases = sum(newActive)) %>% arrange(desc(Active_cases)),40) \n",
    "\n",
    "ggplot(data,aes(x = reorder(country,Active_cases),y = Active_cases,fill = Active_cases)) + \n",
    "geom_bar(stat = \"identity\") + coord_flip() +theme(axis.text.x = element_text(angle = 90, vjust = 0.5, hjust=1))\n"
   ]
  },
  {
   "cell_type": "code",
   "execution_count": 1007,
   "id": "1ac34684",
   "metadata": {},
   "outputs": [
    {
     "data": {
      "text/html": [
       "<table class=\"dataframe\">\n",
       "<caption>A data.frame: 6 × 13</caption>\n",
       "<thead>\n",
       "\t<tr><th></th><th scope=col>subregion</th><th scope=col>country</th><th scope=col>Lat</th><th scope=col>Long</th><th scope=col>date</th><th scope=col>conf</th><th scope=col>death</th><th scope=col>recov</th><th scope=col>Active</th><th scope=col>newCases</th><th scope=col>newDeath</th><th scope=col>newActive</th><th scope=col>newRecovered</th></tr>\n",
       "\t<tr><th></th><th scope=col>&lt;chr&gt;</th><th scope=col>&lt;chr&gt;</th><th scope=col>&lt;dbl&gt;</th><th scope=col>&lt;dbl&gt;</th><th scope=col>&lt;date&gt;</th><th scope=col>&lt;int&gt;</th><th scope=col>&lt;int&gt;</th><th scope=col>&lt;int&gt;</th><th scope=col>&lt;int&gt;</th><th scope=col>&lt;dbl&gt;</th><th scope=col>&lt;dbl&gt;</th><th scope=col>&lt;dbl&gt;</th><th scope=col>&lt;dbl&gt;</th></tr>\n",
       "</thead>\n",
       "<tbody>\n",
       "\t<tr><th scope=row>1</th><td></td><td>Afghanistan</td><td>33.939</td><td>67.71</td><td>2020-01-22</td><td>0</td><td>0</td><td>0</td><td>0</td><td>0</td><td>0</td><td>0</td><td>0</td></tr>\n",
       "\t<tr><th scope=row>2</th><td></td><td>Afghanistan</td><td>33.939</td><td>67.71</td><td>2020-01-23</td><td>0</td><td>0</td><td>0</td><td>0</td><td>0</td><td>0</td><td>0</td><td>0</td></tr>\n",
       "\t<tr><th scope=row>3</th><td></td><td>Afghanistan</td><td>33.939</td><td>67.71</td><td>2020-01-24</td><td>0</td><td>0</td><td>0</td><td>0</td><td>0</td><td>0</td><td>0</td><td>0</td></tr>\n",
       "\t<tr><th scope=row>4</th><td></td><td>Afghanistan</td><td>33.939</td><td>67.71</td><td>2020-01-25</td><td>0</td><td>0</td><td>0</td><td>0</td><td>0</td><td>0</td><td>0</td><td>0</td></tr>\n",
       "\t<tr><th scope=row>5</th><td></td><td>Afghanistan</td><td>33.939</td><td>67.71</td><td>2020-01-26</td><td>0</td><td>0</td><td>0</td><td>0</td><td>0</td><td>0</td><td>0</td><td>0</td></tr>\n",
       "\t<tr><th scope=row>6</th><td></td><td>Afghanistan</td><td>33.939</td><td>67.71</td><td>2020-01-27</td><td>0</td><td>0</td><td>0</td><td>0</td><td>0</td><td>0</td><td>0</td><td>0</td></tr>\n",
       "</tbody>\n",
       "</table>\n"
      ],
      "text/latex": [
       "A data.frame: 6 × 13\n",
       "\\begin{tabular}{r|lllllllllllll}\n",
       "  & subregion & country & Lat & Long & date & conf & death & recov & Active & newCases & newDeath & newActive & newRecovered\\\\\n",
       "  & <chr> & <chr> & <dbl> & <dbl> & <date> & <int> & <int> & <int> & <int> & <dbl> & <dbl> & <dbl> & <dbl>\\\\\n",
       "\\hline\n",
       "\t1 &  & Afghanistan & 33.939 & 67.71 & 2020-01-22 & 0 & 0 & 0 & 0 & 0 & 0 & 0 & 0\\\\\n",
       "\t2 &  & Afghanistan & 33.939 & 67.71 & 2020-01-23 & 0 & 0 & 0 & 0 & 0 & 0 & 0 & 0\\\\\n",
       "\t3 &  & Afghanistan & 33.939 & 67.71 & 2020-01-24 & 0 & 0 & 0 & 0 & 0 & 0 & 0 & 0\\\\\n",
       "\t4 &  & Afghanistan & 33.939 & 67.71 & 2020-01-25 & 0 & 0 & 0 & 0 & 0 & 0 & 0 & 0\\\\\n",
       "\t5 &  & Afghanistan & 33.939 & 67.71 & 2020-01-26 & 0 & 0 & 0 & 0 & 0 & 0 & 0 & 0\\\\\n",
       "\t6 &  & Afghanistan & 33.939 & 67.71 & 2020-01-27 & 0 & 0 & 0 & 0 & 0 & 0 & 0 & 0\\\\\n",
       "\\end{tabular}\n"
      ],
      "text/markdown": [
       "\n",
       "A data.frame: 6 × 13\n",
       "\n",
       "| <!--/--> | subregion &lt;chr&gt; | country &lt;chr&gt; | Lat &lt;dbl&gt; | Long &lt;dbl&gt; | date &lt;date&gt; | conf &lt;int&gt; | death &lt;int&gt; | recov &lt;int&gt; | Active &lt;int&gt; | newCases &lt;dbl&gt; | newDeath &lt;dbl&gt; | newActive &lt;dbl&gt; | newRecovered &lt;dbl&gt; |\n",
       "|---|---|---|---|---|---|---|---|---|---|---|---|---|---|\n",
       "| 1 | <!----> | Afghanistan | 33.939 | 67.71 | 2020-01-22 | 0 | 0 | 0 | 0 | 0 | 0 | 0 | 0 |\n",
       "| 2 | <!----> | Afghanistan | 33.939 | 67.71 | 2020-01-23 | 0 | 0 | 0 | 0 | 0 | 0 | 0 | 0 |\n",
       "| 3 | <!----> | Afghanistan | 33.939 | 67.71 | 2020-01-24 | 0 | 0 | 0 | 0 | 0 | 0 | 0 | 0 |\n",
       "| 4 | <!----> | Afghanistan | 33.939 | 67.71 | 2020-01-25 | 0 | 0 | 0 | 0 | 0 | 0 | 0 | 0 |\n",
       "| 5 | <!----> | Afghanistan | 33.939 | 67.71 | 2020-01-26 | 0 | 0 | 0 | 0 | 0 | 0 | 0 | 0 |\n",
       "| 6 | <!----> | Afghanistan | 33.939 | 67.71 | 2020-01-27 | 0 | 0 | 0 | 0 | 0 | 0 | 0 | 0 |\n",
       "\n"
      ],
      "text/plain": [
       "  subregion country     Lat    Long  date       conf death recov Active\n",
       "1           Afghanistan 33.939 67.71 2020-01-22 0    0     0     0     \n",
       "2           Afghanistan 33.939 67.71 2020-01-23 0    0     0     0     \n",
       "3           Afghanistan 33.939 67.71 2020-01-24 0    0     0     0     \n",
       "4           Afghanistan 33.939 67.71 2020-01-25 0    0     0     0     \n",
       "5           Afghanistan 33.939 67.71 2020-01-26 0    0     0     0     \n",
       "6           Afghanistan 33.939 67.71 2020-01-27 0    0     0     0     \n",
       "  newCases newDeath newActive newRecovered\n",
       "1 0        0        0         0           \n",
       "2 0        0        0         0           \n",
       "3 0        0        0         0           \n",
       "4 0        0        0         0           \n",
       "5 0        0        0         0           \n",
       "6 0        0        0         0           "
      ]
     },
     "metadata": {},
     "output_type": "display_data"
    }
   ],
   "source": [
    "head(country)"
   ]
  },
  {
   "cell_type": "markdown",
   "id": "93332d69",
   "metadata": {},
   "source": [
    "### Group by Month"
   ]
  },
  {
   "cell_type": "code",
   "execution_count": 1040,
   "id": "3046c206",
   "metadata": {},
   "outputs": [],
   "source": [
    "monthwise_cases= country %>% group_by(month = lubridate::floor_date(date, 'month')) %>%\n",
    "    summarize(Conf = sum(newCases),death = sum(newDeath),recov = sum(newRecovered))"
   ]
  },
  {
   "cell_type": "code",
   "execution_count": 1045,
   "id": "741eba03",
   "metadata": {},
   "outputs": [],
   "source": [
    "monthwise_cases = head(monthwise_cases,18)"
   ]
  },
  {
   "cell_type": "code",
   "execution_count": 1046,
   "id": "4bc56749",
   "metadata": {},
   "outputs": [
    {
     "data": {
      "text/html": [
       "<table class=\"dataframe\">\n",
       "<caption>A tibble: 18 × 4</caption>\n",
       "<thead>\n",
       "\t<tr><th scope=col>month</th><th scope=col>Conf</th><th scope=col>death</th><th scope=col>recov</th></tr>\n",
       "\t<tr><th scope=col>&lt;date&gt;</th><th scope=col>&lt;dbl&gt;</th><th scope=col>&lt;dbl&gt;</th><th scope=col>&lt;dbl&gt;</th></tr>\n",
       "</thead>\n",
       "<tbody>\n",
       "\t<tr><td>2020-01-01</td><td>     103</td><td>     1</td><td>       7</td></tr>\n",
       "\t<tr><td>2020-02-01</td><td>    6499</td><td>   108</td><td>     439</td></tr>\n",
       "\t<tr><td>2020-03-01</td><td>  762811</td><td> 43604</td><td>   99048</td></tr>\n",
       "\t<tr><td>2020-04-01</td><td> 2359106</td><td>200814</td><td>  806871</td></tr>\n",
       "\t<tr><td>2020-05-01</td><td> 2862985</td><td>148917</td><td> 1592156</td></tr>\n",
       "\t<tr><td>2020-06-01</td><td> 4273897</td><td>144969</td><td> 2692352</td></tr>\n",
       "\t<tr><td>2020-07-01</td><td> 7089298</td><td>176092</td><td> 4976782</td></tr>\n",
       "\t<tr><td>2020-08-01</td><td> 7909437</td><td>182243</td><td> 6421098</td></tr>\n",
       "\t<tr><td>2020-09-01</td><td> 8449670</td><td>168109</td><td> 6821165</td></tr>\n",
       "\t<tr><td>2020-10-01</td><td>12002950</td><td>183340</td><td> 7060183</td></tr>\n",
       "\t<tr><td>2020-11-01</td><td>17038470</td><td>273980</td><td> 9542802</td></tr>\n",
       "\t<tr><td>2020-12-01</td><td>20078600</td><td>349601</td><td> 6224141</td></tr>\n",
       "\t<tr><td>2021-01-01</td><td>19210656</td><td>406370</td><td> 9698931</td></tr>\n",
       "\t<tr><td>2021-02-01</td><td>10963628</td><td>290286</td><td> 7046702</td></tr>\n",
       "\t<tr><td>2021-03-01</td><td>14407870</td><td>278149</td><td> 8352511</td></tr>\n",
       "\t<tr><td>2021-04-01</td><td>22029954</td><td>354387</td><td>14627537</td></tr>\n",
       "\t<tr><td>2021-05-01</td><td>19015777</td><td>360833</td><td>19520798</td></tr>\n",
       "\t<tr><td>2021-06-01</td><td>11323493</td><td>273871</td><td>11239401</td></tr>\n",
       "</tbody>\n",
       "</table>\n"
      ],
      "text/latex": [
       "A tibble: 18 × 4\n",
       "\\begin{tabular}{llll}\n",
       " month & Conf & death & recov\\\\\n",
       " <date> & <dbl> & <dbl> & <dbl>\\\\\n",
       "\\hline\n",
       "\t 2020-01-01 &      103 &      1 &        7\\\\\n",
       "\t 2020-02-01 &     6499 &    108 &      439\\\\\n",
       "\t 2020-03-01 &   762811 &  43604 &    99048\\\\\n",
       "\t 2020-04-01 &  2359106 & 200814 &   806871\\\\\n",
       "\t 2020-05-01 &  2862985 & 148917 &  1592156\\\\\n",
       "\t 2020-06-01 &  4273897 & 144969 &  2692352\\\\\n",
       "\t 2020-07-01 &  7089298 & 176092 &  4976782\\\\\n",
       "\t 2020-08-01 &  7909437 & 182243 &  6421098\\\\\n",
       "\t 2020-09-01 &  8449670 & 168109 &  6821165\\\\\n",
       "\t 2020-10-01 & 12002950 & 183340 &  7060183\\\\\n",
       "\t 2020-11-01 & 17038470 & 273980 &  9542802\\\\\n",
       "\t 2020-12-01 & 20078600 & 349601 &  6224141\\\\\n",
       "\t 2021-01-01 & 19210656 & 406370 &  9698931\\\\\n",
       "\t 2021-02-01 & 10963628 & 290286 &  7046702\\\\\n",
       "\t 2021-03-01 & 14407870 & 278149 &  8352511\\\\\n",
       "\t 2021-04-01 & 22029954 & 354387 & 14627537\\\\\n",
       "\t 2021-05-01 & 19015777 & 360833 & 19520798\\\\\n",
       "\t 2021-06-01 & 11323493 & 273871 & 11239401\\\\\n",
       "\\end{tabular}\n"
      ],
      "text/markdown": [
       "\n",
       "A tibble: 18 × 4\n",
       "\n",
       "| month &lt;date&gt; | Conf &lt;dbl&gt; | death &lt;dbl&gt; | recov &lt;dbl&gt; |\n",
       "|---|---|---|---|\n",
       "| 2020-01-01 |      103 |      1 |        7 |\n",
       "| 2020-02-01 |     6499 |    108 |      439 |\n",
       "| 2020-03-01 |   762811 |  43604 |    99048 |\n",
       "| 2020-04-01 |  2359106 | 200814 |   806871 |\n",
       "| 2020-05-01 |  2862985 | 148917 |  1592156 |\n",
       "| 2020-06-01 |  4273897 | 144969 |  2692352 |\n",
       "| 2020-07-01 |  7089298 | 176092 |  4976782 |\n",
       "| 2020-08-01 |  7909437 | 182243 |  6421098 |\n",
       "| 2020-09-01 |  8449670 | 168109 |  6821165 |\n",
       "| 2020-10-01 | 12002950 | 183340 |  7060183 |\n",
       "| 2020-11-01 | 17038470 | 273980 |  9542802 |\n",
       "| 2020-12-01 | 20078600 | 349601 |  6224141 |\n",
       "| 2021-01-01 | 19210656 | 406370 |  9698931 |\n",
       "| 2021-02-01 | 10963628 | 290286 |  7046702 |\n",
       "| 2021-03-01 | 14407870 | 278149 |  8352511 |\n",
       "| 2021-04-01 | 22029954 | 354387 | 14627537 |\n",
       "| 2021-05-01 | 19015777 | 360833 | 19520798 |\n",
       "| 2021-06-01 | 11323493 | 273871 | 11239401 |\n",
       "\n"
      ],
      "text/plain": [
       "   month      Conf     death  recov   \n",
       "1  2020-01-01      103      1        7\n",
       "2  2020-02-01     6499    108      439\n",
       "3  2020-03-01   762811  43604    99048\n",
       "4  2020-04-01  2359106 200814   806871\n",
       "5  2020-05-01  2862985 148917  1592156\n",
       "6  2020-06-01  4273897 144969  2692352\n",
       "7  2020-07-01  7089298 176092  4976782\n",
       "8  2020-08-01  7909437 182243  6421098\n",
       "9  2020-09-01  8449670 168109  6821165\n",
       "10 2020-10-01 12002950 183340  7060183\n",
       "11 2020-11-01 17038470 273980  9542802\n",
       "12 2020-12-01 20078600 349601  6224141\n",
       "13 2021-01-01 19210656 406370  9698931\n",
       "14 2021-02-01 10963628 290286  7046702\n",
       "15 2021-03-01 14407870 278149  8352511\n",
       "16 2021-04-01 22029954 354387 14627537\n",
       "17 2021-05-01 19015777 360833 19520798\n",
       "18 2021-06-01 11323493 273871 11239401"
      ]
     },
     "metadata": {},
     "output_type": "display_data"
    }
   ],
   "source": [
    "monthwise_cases"
   ]
  },
  {
   "cell_type": "code",
   "execution_count": 1047,
   "id": "c3cbe8eb",
   "metadata": {},
   "outputs": [
    {
     "data": {
      "image/png": "[encoded data removed]",
      "text/plain": [
       "plot without title"
      ]
     },
     "metadata": {
      "image/png": {
       "height": 420,
       "width": 420
      }
     },
     "output_type": "display_data"
    }
   ],
   "source": [
    "ggplot() + geom_line(data =monthwise_cases, aes(x=month,y=Conf),color='red') + \n",
    "           geom_line(data =monthwise_cases, aes(x=month,y=death),color='blue') + \n",
    "           geom_line(data =monthwise_cases, aes(x=month,y=recov),color='black') + geom_point()"
   ]
  },
  {
   "cell_type": "markdown",
   "id": "66eb6582",
   "metadata": {},
   "source": [
    "### Analyze 'Recovered' and Death' rate"
   ]
  },
  {
   "cell_type": "code",
   "execution_count": 1061,
   "id": "21b262fe",
   "metadata": {},
   "outputs": [],
   "source": [
    "country$newRecovered = abs(country$newRecovered)"
   ]
  },
  {
   "cell_type": "code",
   "execution_count": 1081,
   "id": "a32ebe12",
   "metadata": {},
   "outputs": [
    {
     "data": {
      "image/png": "[encoded data removed]",
      "text/plain": [
       "plot without title"
      ]
     },
     "metadata": {
      "image/png": {
       "height": 420,
       "width": 420
      }
     },
     "output_type": "display_data"
    }
   ],
   "source": [
    "d = head(country %>% select('country','newRecovered','newDeath') %>% \n",
    "                group_by(country)  %>% \n",
    "                    summarise(recov = sum(newRecovered), death = sum(newDeath)),30)\n",
    "\n",
    "ggplot(d,aes(x = recov, y = death,color = country)) + geom_point()"
   ]
  },
  {
   "cell_type": "code",
   "execution_count": null,
   "id": "a05bf3e3",
   "metadata": {},
   "outputs": [],
   "source": []
  },
  {
   "cell_type": "code",
   "execution_count": 1055,
   "id": "5c7dee0f",
   "metadata": {},
   "outputs": [],
   "source": []
  },
  {
   "cell_type": "code",
   "execution_count": null,
   "id": "3ddb73c4",
   "metadata": {},
   "outputs": [],
   "source": []
  }
 ],
 "metadata": {
  "kernelspec": {
   "display_name": "R",
   "language": "R",
   "name": "ir"
  },
  "language_info": {
   "codemirror_mode": "r",
   "file_extension": ".r",
   "mimetype": "text/x-r-source",
   "name": "R",
   "pygments_lexer": "r",
   "version": "4.2.1"
  }
 },
 "nbformat": 4,
 "nbformat_minor": 5
}
