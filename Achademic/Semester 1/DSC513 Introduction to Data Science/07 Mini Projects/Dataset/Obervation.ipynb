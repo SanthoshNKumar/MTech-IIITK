{
 "cells": [
  {
   "cell_type": "code",
   "execution_count": null,
   "id": "48a461b0",
   "metadata": {},
   "outputs": [],
   "source": [
    "1. Dimention of 'time_series_covid19_confirmed_global.csv' is (289x1017)\n",
    "2. Dimention of 'time_series_covid19_deaths_global.csv' is (289x1001)\n",
    "3. Dimention of 'time_series_covid19_recovered_global.csv' is (274x1001)\n",
    "4. Total Days \n",
    "    - 366 Days\n",
    "5. Total Cases (Cumulative Sum) in dataset\n",
    "    a. confirmed: 219884712976\n",
    "    b. Death : 3229649623\n",
    "    c. Recovered :21871753788\n",
    "6. Total Cases (sum) as worldwide\n",
    "    - Death : 3229649623\n",
    "    - Confirmed : 219884712976\n",
    "    - Recovered : 21871753788\n",
    "    - Average case recovered reported per day from '1st Jan 2020' to '31st Dec 2020' is 59758890 (FIVE CRORE NINETY SEVEN LAKH FIFTY)\n",
    "7. Continent wise Cases Reported\n",
    "    - Europe :\n",
    "        - Confimed : 69516084817\n",
    "        - Deaths : 821656020\n",
    "        - Recovered : 4128921334\n",
    "    - Asia : \n",
    "        - Confimed : 64185660907\n",
    "        - Deaths : 703153807\n",
    "        - Recovered : 9120434879\n",
    "8. Country wise Cases Reported ()\n",
    "9. Highhest conformation case reported on the month 'October 2020'\n",
    "10. Highest death cases reported on month 'Sepetember 2020'"
   ]
  },
  {
   "cell_type": "code",
   "execution_count": null,
   "id": "2c0e0cc1",
   "metadata": {},
   "outputs": [],
   "source": [
    "- Q1- Which countries have highest no of cases and deaths per million ?\n",
    "- Q2- Which countries have lowest no of deaths per million ?\n",
    "- Q3- How many countries are present under each continents ?\n",
    "- Q3.1- What are the cases vs death rate across continents ?\n",
    "- Q4- Which are the countries having death rate over 10% ?\n",
    "- Q5- What is the worldwide Coronavirus cases in the month of March ?\n",
    "- Q6- What is the Covid19 spread from March to June"
   ]
  },
  {
   "cell_type": "code",
   "execution_count": null,
   "id": "6a5cd687",
   "metadata": {},
   "outputs": [],
   "source": []
  },
  {
   "cell_type": "code",
   "execution_count": null,
   "id": "9593f642",
   "metadata": {},
   "outputs": [],
   "source": []
  },
  {
   "cell_type": "code",
   "execution_count": null,
   "id": "a82d5f8d",
   "metadata": {},
   "outputs": [],
   "source": [
    "let’s aggregate data into Country/Region wise and group them by Date and Country/Region."
   ]
  },
  {
   "cell_type": "code",
   "execution_count": null,
   "id": "0d0fb4c1",
   "metadata": {},
   "outputs": [],
   "source": [
    "sum() is to get the total count of ‘Confirmed’, ‘Deaths’, ‘Recovered’, ‘Active’ for the given Date and Country/Region."
   ]
  }
 ],
 "metadata": {
  "kernelspec": {
   "display_name": "R",
   "language": "R",
   "name": "ir"
  },
  "language_info": {
   "codemirror_mode": "r",
   "file_extension": ".r",
   "mimetype": "text/x-r-source",
   "name": "R",
   "pygments_lexer": "r",
   "version": "4.2.1"
  }
 },
 "nbformat": 4,
 "nbformat_minor": 5
}
