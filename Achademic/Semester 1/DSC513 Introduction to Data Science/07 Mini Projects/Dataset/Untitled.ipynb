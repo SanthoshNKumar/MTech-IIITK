{
 "cells": [
  {
   "cell_type": "code",
   "execution_count": 2,
   "id": "50cb9d27",
   "metadata": {},
   "outputs": [],
   "source": [
    "library(tidyverse)\n",
    "library(lubridate)\n",
    "library(ggplot2)\n",
    "library(tidyr)\n",
    "library(dplyr)"
   ]
  },
  {
   "cell_type": "code",
   "execution_count": 12,
   "id": "b970e2a0",
   "metadata": {},
   "outputs": [],
   "source": [
    "confirmedraw = read.csv(\"time_series_covid19_confirmed_global.csv\")\n",
    "\n",
    "deathsraw= read.csv(\"time_series_covid19_deaths_global.csv\")\n",
    "\n",
    "recoveredraw = read.csv(\"time_series_covid19_recovered_global.csv\")"
   ]
  },
  {
   "cell_type": "code",
   "execution_count": 15,
   "id": "8cbbd11a",
   "metadata": {},
   "outputs": [
    {
     "name": "stdout",
     "output_type": "stream",
     "text": [
      "[1]  289 1017\n",
      "[1]  289 1001\n",
      "[1]  274 1001\n"
     ]
    }
   ],
   "source": [
    "print(dim(confirmedraw))\n",
    "\n",
    "print(dim(deathsraw))\n",
    "\n",
    "print(dim(recoveredraw))"
   ]
  },
  {
   "cell_type": "code",
   "execution_count": 16,
   "id": "fcf77bd8",
   "metadata": {},
   "outputs": [
    {
     "name": "stderr",
     "output_type": "stream",
     "text": [
      "\u001b[1m\u001b[22m`summarise()` has grouped output by 'Province.State', 'Country.Region'. You can override using the `.groups` argument.\n",
      "\u001b[1m\u001b[22m`summarise()` has grouped output by 'Country.Region'. You can override using the `.groups` argument.\n"
     ]
    },
    {
     "ename": "ERROR",
     "evalue": "Error in merge(countryToContinent, data, by.y = \"Country.Region\", by.x = \"Country\"): object 'countryToContinent' not found\n",
     "output_type": "error",
     "traceback": [
      "Error in merge(countryToContinent, data, by.y = \"Country.Region\", by.x = \"Country\"): object 'countryToContinent' not found\nTraceback:\n",
      "1. formatTheData(confirmedraw, \"conf\")",
      "2. merge(countryToContinent, data, by.y = \"Country.Region\", by.x = \"Country\")   # at line 14 of file <text>"
     ]
    }
   ],
   "source": [
    "case.conf = formatTheData(confirmedraw,\"conf\")\n",
    "case.death = formatTheData(deathsraw,\"death\")\n",
    "case.recov = formatTheData(recoveredraw,\"recov\")"
   ]
  },
  {
   "cell_type": "code",
   "execution_count": null,
   "id": "849a3c20",
   "metadata": {},
   "outputs": [],
   "source": [
    "formatTheData = function(data,colName) {\n",
    "    \n",
    "    data <- data %>% gather(key=\"date\", value= col, -c(Country.Region, Province.State, Lat, Long)) %>%\n",
    "        group_by(Province.State,Country.Region, date) %>% summarize(col=sum(col))\n",
    "    \n",
    "    data$date <- data$date %>% sub(\"X\", \"\", .) %>% as.Date(\"%m.%d.%y\")\n",
    "    \n",
    "    data <- data %>% arrange(date)\n",
    "    \n",
    "    data = data %>% group_by(Country.Region,date) %>% summarise(col=sum(col)) \n",
    "    \n",
    "    colnames(data)[3] <- colName\n",
    "    \n",
    "    data = merge(countryToContinent,data,  by.y = \"Country.Region\", by.x = \"Country\")\n",
    "    \n",
    "    data = select(data, -c('X'))\n",
    "    \n",
    "    data <- data %>% arrange(Country,date)\n",
    "        \n",
    "    return(data)\n",
    "}"
   ]
  },
  {
   "cell_type": "code",
   "execution_count": 20,
   "id": "1b333ccb",
   "metadata": {},
   "outputs": [
    {
     "name": "stderr",
     "output_type": "stream",
     "text": [
      "\u001b[1m\u001b[22m`summarise()` has grouped output by 'Province.State', 'Country.Region'. You can override using the `.groups` argument.\n",
      "\u001b[1m\u001b[22m`summarise()` has grouped output by 'Country.Region'. You can override using the `.groups` argument.\n"
     ]
    },
    {
     "ename": "ERROR",
     "evalue": "Error in merge(countryToContinent, data, by.y = \"Country.Region\", by.x = \"Country\"): object 'countryToContinent' not found\n",
     "output_type": "error",
     "traceback": [
      "Error in merge(countryToContinent, data, by.y = \"Country.Region\", by.x = \"Country\"): object 'countryToContinent' not found\nTraceback:\n",
      "1. formatTheData(deathsraw, \"death\")",
      "2. merge(countryToContinent, data, by.y = \"Country.Region\", by.x = \"Country\")   # at line 14 of file <text>"
     ]
    }
   ],
   "source": [
    "case.death = formatTheData(deathsraw,\"death\")"
   ]
  },
  {
   "cell_type": "code",
   "execution_count": null,
   "id": "18e71e00",
   "metadata": {},
   "outputs": [],
   "source": []
  },
  {
   "cell_type": "code",
   "execution_count": null,
   "id": "383e3384",
   "metadata": {},
   "outputs": [],
   "source": []
  }
 ],
 "metadata": {
  "kernelspec": {
   "display_name": "R",
   "language": "R",
   "name": "ir"
  },
  "language_info": {
   "codemirror_mode": "r",
   "file_extension": ".r",
   "mimetype": "text/x-r-source",
   "name": "R",
   "pygments_lexer": "r",
   "version": "4.2.1"
  }
 },
 "nbformat": 4,
 "nbformat_minor": 5
}
