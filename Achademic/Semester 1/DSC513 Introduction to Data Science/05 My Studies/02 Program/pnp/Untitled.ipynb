{
 "cells": [
  {
   "cell_type": "code",
   "execution_count": 12,
   "id": "2198d33d",
   "metadata": {},
   "outputs": [],
   "source": [
    "library(dplyr)\n",
    "\n",
    "data <-iris"
   ]
  },
  {
   "cell_type": "code",
   "execution_count": 13,
   "id": "59430f14",
   "metadata": {},
   "outputs": [
    {
     "data": {
      "text/html": [
       "<table class=\"dataframe\">\n",
       "<caption>A data.frame: 2 × 5</caption>\n",
       "<thead>\n",
       "\t<tr><th></th><th scope=col>Sepal.Length</th><th scope=col>Sepal.Width</th><th scope=col>Petal.Length</th><th scope=col>Petal.Width</th><th scope=col>Species</th></tr>\n",
       "\t<tr><th></th><th scope=col>&lt;dbl&gt;</th><th scope=col>&lt;dbl&gt;</th><th scope=col>&lt;dbl&gt;</th><th scope=col>&lt;dbl&gt;</th><th scope=col>&lt;fct&gt;</th></tr>\n",
       "</thead>\n",
       "<tbody>\n",
       "\t<tr><th scope=row>1</th><td>5.1</td><td>3.5</td><td>1.4</td><td>0.2</td><td>setosa</td></tr>\n",
       "\t<tr><th scope=row>2</th><td>4.9</td><td>3.0</td><td>1.4</td><td>0.2</td><td>setosa</td></tr>\n",
       "</tbody>\n",
       "</table>\n"
      ],
      "text/latex": [
       "A data.frame: 2 × 5\n",
       "\\begin{tabular}{r|lllll}\n",
       "  & Sepal.Length & Sepal.Width & Petal.Length & Petal.Width & Species\\\\\n",
       "  & <dbl> & <dbl> & <dbl> & <dbl> & <fct>\\\\\n",
       "\\hline\n",
       "\t1 & 5.1 & 3.5 & 1.4 & 0.2 & setosa\\\\\n",
       "\t2 & 4.9 & 3.0 & 1.4 & 0.2 & setosa\\\\\n",
       "\\end{tabular}\n"
      ],
      "text/markdown": [
       "\n",
       "A data.frame: 2 × 5\n",
       "\n",
       "| <!--/--> | Sepal.Length &lt;dbl&gt; | Sepal.Width &lt;dbl&gt; | Petal.Length &lt;dbl&gt; | Petal.Width &lt;dbl&gt; | Species &lt;fct&gt; |\n",
       "|---|---|---|---|---|---|\n",
       "| 1 | 5.1 | 3.5 | 1.4 | 0.2 | setosa |\n",
       "| 2 | 4.9 | 3.0 | 1.4 | 0.2 | setosa |\n",
       "\n"
      ],
      "text/plain": [
       "  Sepal.Length Sepal.Width Petal.Length Petal.Width Species\n",
       "1 5.1          3.5         1.4          0.2         setosa \n",
       "2 4.9          3.0         1.4          0.2         setosa "
      ]
     },
     "metadata": {},
     "output_type": "display_data"
    }
   ],
   "source": [
    "head(data,2)"
   ]
  },
  {
   "cell_type": "code",
   "execution_count": 14,
   "id": "fb57b873",
   "metadata": {},
   "outputs": [
    {
     "data": {
      "text/html": [
       "<table class=\"dataframe\">\n",
       "<caption>A tibble: 3 × 2</caption>\n",
       "<thead>\n",
       "\t<tr><th scope=col>Species</th><th scope=col>count</th></tr>\n",
       "\t<tr><th scope=col>&lt;fct&gt;</th><th scope=col>&lt;int&gt;</th></tr>\n",
       "</thead>\n",
       "<tbody>\n",
       "\t<tr><td>setosa    </td><td>50</td></tr>\n",
       "\t<tr><td>versicolor</td><td>50</td></tr>\n",
       "\t<tr><td>virginica </td><td>50</td></tr>\n",
       "</tbody>\n",
       "</table>\n"
      ],
      "text/latex": [
       "A tibble: 3 × 2\n",
       "\\begin{tabular}{ll}\n",
       " Species & count\\\\\n",
       " <fct> & <int>\\\\\n",
       "\\hline\n",
       "\t setosa     & 50\\\\\n",
       "\t versicolor & 50\\\\\n",
       "\t virginica  & 50\\\\\n",
       "\\end{tabular}\n"
      ],
      "text/markdown": [
       "\n",
       "A tibble: 3 × 2\n",
       "\n",
       "| Species &lt;fct&gt; | count &lt;int&gt; |\n",
       "|---|---|\n",
       "| setosa     | 50 |\n",
       "| versicolor | 50 |\n",
       "| virginica  | 50 |\n",
       "\n"
      ],
      "text/plain": [
       "  Species    count\n",
       "1 setosa     50   \n",
       "2 versicolor 50   \n",
       "3 virginica  50   "
      ]
     },
     "metadata": {},
     "output_type": "display_data"
    }
   ],
   "source": [
    "data %>% group_by(Species) %>% summarise(count = n())"
   ]
  },
  {
   "cell_type": "code",
   "execution_count": null,
   "id": "2861a76a",
   "metadata": {},
   "outputs": [],
   "source": []
  },
  {
   "cell_type": "code",
   "execution_count": 18,
   "id": "e77b16fb",
   "metadata": {},
   "outputs": [
    {
     "data": {
      "text/html": [
       "<style>\n",
       ".list-inline {list-style: none; margin:0; padding: 0}\n",
       ".list-inline>li {display: inline-block}\n",
       ".list-inline>li:not(:last-child)::after {content: \"\\00b7\"; padding: 0 .5ex}\n",
       "</style>\n",
       "<ol class=list-inline><li>16000</li><li>176</li></ol>\n"
      ],
      "text/latex": [
       "\\begin{enumerate*}\n",
       "\\item 16000\n",
       "\\item 176\n",
       "\\end{enumerate*}\n"
      ],
      "text/markdown": [
       "1. 16000\n",
       "2. 176\n",
       "\n",
       "\n"
      ],
      "text/plain": [
       "[1] 16000   176"
      ]
     },
     "metadata": {},
     "output_type": "display_data"
    }
   ],
   "source": [
    "df = read.csv('data.csv')\n",
    "\n",
    "dim(df)"
   ]
  },
  {
   "cell_type": "code",
   "execution_count": 20,
   "id": "5cfc3cef",
   "metadata": {},
   "outputs": [
    {
     "data": {
      "text/html": [
       "<table class=\"dataframe\">\n",
       "<caption>A data.frame: 6 × 176</caption>\n",
       "<thead>\n",
       "\t<tr><th></th><th scope=col>X</th><th scope=col>Time</th><th scope=col>R531NT1559A.VALUE</th><th scope=col>R531NT1950.VALUE</th><th scope=col>X531XT1950.VALUE</th><th scope=col>GD.ActiveGradeName</th><th scope=col>GD.ActiveGradeNumber</th><th scope=col>GD.AutoGradeChangeActive</th><th scope=col>GD.ManualGradeChangeActive</th><th scope=col>GD.OnGradeStatus</th><th scope=col>⋯</th><th scope=col>D33.Drive.Speed.Act</th><th scope=col>D34.Drive.Speed.Act</th><th scope=col>D37.Drive.Speed.Act</th><th scope=col>D36.Drive.Speed.Act</th><th scope=col>D35.Drive.Speed.Act</th><th scope=col>D38.Drive.Speed.Act</th><th scope=col>D42.Drive.Speed.Act</th><th scope=col>D46.Drive.Speed.Act</th><th scope=col>D45.Drive.Speed.Act</th><th scope=col>D47.Drive.Speed.Act</th></tr>\n",
       "\t<tr><th></th><th scope=col>&lt;int&gt;</th><th scope=col>&lt;chr&gt;</th><th scope=col>&lt;lgl&gt;</th><th scope=col>&lt;lgl&gt;</th><th scope=col>&lt;lgl&gt;</th><th scope=col>&lt;chr&gt;</th><th scope=col>&lt;int&gt;</th><th scope=col>&lt;lgl&gt;</th><th scope=col>&lt;lgl&gt;</th><th scope=col>&lt;lgl&gt;</th><th scope=col>⋯</th><th scope=col>&lt;dbl&gt;</th><th scope=col>&lt;dbl&gt;</th><th scope=col>&lt;dbl&gt;</th><th scope=col>&lt;dbl&gt;</th><th scope=col>&lt;dbl&gt;</th><th scope=col>&lt;dbl&gt;</th><th scope=col>&lt;dbl&gt;</th><th scope=col>&lt;dbl&gt;</th><th scope=col>&lt;dbl&gt;</th><th scope=col>&lt;dbl&gt;</th></tr>\n",
       "</thead>\n",
       "<tbody>\n",
       "\t<tr><th scope=row>1</th><td>1</td><td>2022-01-01 05:27:58</td><td>FALSE</td><td>FALSE</td><td>FALSE</td><td>MR080700</td><td>33080700</td><td>FALSE</td><td>FALSE</td><td>TRUE</td><td>⋯</td><td>1498.286</td><td>1498.506</td><td>1502.686</td><td>1502.474</td><td>1506.160</td><td>1508.278</td><td>1509.206</td><td>1501.137</td><td>30.15400</td><td>1501.120</td></tr>\n",
       "\t<tr><th scope=row>2</th><td>2</td><td>2022-01-01 05:28:03</td><td>FALSE</td><td>FALSE</td><td>FALSE</td><td>MR080700</td><td>33080700</td><td>FALSE</td><td>FALSE</td><td>TRUE</td><td>⋯</td><td>1498.291</td><td>1498.155</td><td>1502.920</td><td>1502.544</td><td>1506.489</td><td>1508.164</td><td>1510.177</td><td>1501.327</td><td>29.88133</td><td>1501.236</td></tr>\n",
       "\t<tr><th scope=row>3</th><td>3</td><td>2022-01-01 05:28:08</td><td>FALSE</td><td>FALSE</td><td>FALSE</td><td>MR080700</td><td>33080700</td><td>FALSE</td><td>FALSE</td><td>TRUE</td><td>⋯</td><td>1498.255</td><td>1499.097</td><td>1503.198</td><td>1502.483</td><td>1506.241</td><td>1507.993</td><td>1510.379</td><td>1501.503</td><td>29.90944</td><td>1501.384</td></tr>\n",
       "\t<tr><th scope=row>4</th><td>4</td><td>2022-01-01 05:28:13</td><td>FALSE</td><td>FALSE</td><td>FALSE</td><td>MR080700</td><td>33080700</td><td>FALSE</td><td>FALSE</td><td>TRUE</td><td>⋯</td><td>1498.443</td><td>1498.144</td><td>1503.070</td><td>1502.803</td><td>1506.531</td><td>1508.439</td><td>1509.656</td><td>1501.158</td><td>30.09050</td><td>1501.113</td></tr>\n",
       "\t<tr><th scope=row>5</th><td>5</td><td>2022-01-01 05:28:18</td><td>FALSE</td><td>FALSE</td><td>FALSE</td><td>MR080700</td><td>33080700</td><td>FALSE</td><td>FALSE</td><td>TRUE</td><td>⋯</td><td>1498.291</td><td>1499.055</td><td>1502.633</td><td>1502.588</td><td>1506.463</td><td>1507.743</td><td>1509.705</td><td>1501.279</td><td>29.83308</td><td>1501.277</td></tr>\n",
       "\t<tr><th scope=row>6</th><td>6</td><td>2022-01-01 05:28:23</td><td>FALSE</td><td>FALSE</td><td>FALSE</td><td>MR080700</td><td>33080700</td><td>FALSE</td><td>FALSE</td><td>TRUE</td><td>⋯</td><td>1498.251</td><td>1498.163</td><td>1503.350</td><td>1502.485</td><td>1506.500</td><td>1508.397</td><td>1510.573</td><td>1501.357</td><td>29.92720</td><td>1501.104</td></tr>\n",
       "</tbody>\n",
       "</table>\n"
      ],
      "text/latex": [
       "A data.frame: 6 × 176\n",
       "\\begin{tabular}{r|lllllllllllllllllllll}\n",
       "  & X & Time & R531NT1559A.VALUE & R531NT1950.VALUE & X531XT1950.VALUE & GD.ActiveGradeName & GD.ActiveGradeNumber & GD.AutoGradeChangeActive & GD.ManualGradeChangeActive & GD.OnGradeStatus & ⋯ & D33.Drive.Speed.Act & D34.Drive.Speed.Act & D37.Drive.Speed.Act & D36.Drive.Speed.Act & D35.Drive.Speed.Act & D38.Drive.Speed.Act & D42.Drive.Speed.Act & D46.Drive.Speed.Act & D45.Drive.Speed.Act & D47.Drive.Speed.Act\\\\\n",
       "  & <int> & <chr> & <lgl> & <lgl> & <lgl> & <chr> & <int> & <lgl> & <lgl> & <lgl> & ⋯ & <dbl> & <dbl> & <dbl> & <dbl> & <dbl> & <dbl> & <dbl> & <dbl> & <dbl> & <dbl>\\\\\n",
       "\\hline\n",
       "\t1 & 1 & 2022-01-01 05:27:58 & FALSE & FALSE & FALSE & MR080700 & 33080700 & FALSE & FALSE & TRUE & ⋯ & 1498.286 & 1498.506 & 1502.686 & 1502.474 & 1506.160 & 1508.278 & 1509.206 & 1501.137 & 30.15400 & 1501.120\\\\\n",
       "\t2 & 2 & 2022-01-01 05:28:03 & FALSE & FALSE & FALSE & MR080700 & 33080700 & FALSE & FALSE & TRUE & ⋯ & 1498.291 & 1498.155 & 1502.920 & 1502.544 & 1506.489 & 1508.164 & 1510.177 & 1501.327 & 29.88133 & 1501.236\\\\\n",
       "\t3 & 3 & 2022-01-01 05:28:08 & FALSE & FALSE & FALSE & MR080700 & 33080700 & FALSE & FALSE & TRUE & ⋯ & 1498.255 & 1499.097 & 1503.198 & 1502.483 & 1506.241 & 1507.993 & 1510.379 & 1501.503 & 29.90944 & 1501.384\\\\\n",
       "\t4 & 4 & 2022-01-01 05:28:13 & FALSE & FALSE & FALSE & MR080700 & 33080700 & FALSE & FALSE & TRUE & ⋯ & 1498.443 & 1498.144 & 1503.070 & 1502.803 & 1506.531 & 1508.439 & 1509.656 & 1501.158 & 30.09050 & 1501.113\\\\\n",
       "\t5 & 5 & 2022-01-01 05:28:18 & FALSE & FALSE & FALSE & MR080700 & 33080700 & FALSE & FALSE & TRUE & ⋯ & 1498.291 & 1499.055 & 1502.633 & 1502.588 & 1506.463 & 1507.743 & 1509.705 & 1501.279 & 29.83308 & 1501.277\\\\\n",
       "\t6 & 6 & 2022-01-01 05:28:23 & FALSE & FALSE & FALSE & MR080700 & 33080700 & FALSE & FALSE & TRUE & ⋯ & 1498.251 & 1498.163 & 1503.350 & 1502.485 & 1506.500 & 1508.397 & 1510.573 & 1501.357 & 29.92720 & 1501.104\\\\\n",
       "\\end{tabular}\n"
      ],
      "text/markdown": [
       "\n",
       "A data.frame: 6 × 176\n",
       "\n",
       "| <!--/--> | X &lt;int&gt; | Time &lt;chr&gt; | R531NT1559A.VALUE &lt;lgl&gt; | R531NT1950.VALUE &lt;lgl&gt; | X531XT1950.VALUE &lt;lgl&gt; | GD.ActiveGradeName &lt;chr&gt; | GD.ActiveGradeNumber &lt;int&gt; | GD.AutoGradeChangeActive &lt;lgl&gt; | GD.ManualGradeChangeActive &lt;lgl&gt; | GD.OnGradeStatus &lt;lgl&gt; | ⋯ ⋯ | D33.Drive.Speed.Act &lt;dbl&gt; | D34.Drive.Speed.Act &lt;dbl&gt; | D37.Drive.Speed.Act &lt;dbl&gt; | D36.Drive.Speed.Act &lt;dbl&gt; | D35.Drive.Speed.Act &lt;dbl&gt; | D38.Drive.Speed.Act &lt;dbl&gt; | D42.Drive.Speed.Act &lt;dbl&gt; | D46.Drive.Speed.Act &lt;dbl&gt; | D45.Drive.Speed.Act &lt;dbl&gt; | D47.Drive.Speed.Act &lt;dbl&gt; |\n",
       "|---|---|---|---|---|---|---|---|---|---|---|---|---|---|---|---|---|---|---|---|---|---|\n",
       "| 1 | 1 | 2022-01-01 05:27:58 | FALSE | FALSE | FALSE | MR080700 | 33080700 | FALSE | FALSE | TRUE | ⋯ | 1498.286 | 1498.506 | 1502.686 | 1502.474 | 1506.160 | 1508.278 | 1509.206 | 1501.137 | 30.15400 | 1501.120 |\n",
       "| 2 | 2 | 2022-01-01 05:28:03 | FALSE | FALSE | FALSE | MR080700 | 33080700 | FALSE | FALSE | TRUE | ⋯ | 1498.291 | 1498.155 | 1502.920 | 1502.544 | 1506.489 | 1508.164 | 1510.177 | 1501.327 | 29.88133 | 1501.236 |\n",
       "| 3 | 3 | 2022-01-01 05:28:08 | FALSE | FALSE | FALSE | MR080700 | 33080700 | FALSE | FALSE | TRUE | ⋯ | 1498.255 | 1499.097 | 1503.198 | 1502.483 | 1506.241 | 1507.993 | 1510.379 | 1501.503 | 29.90944 | 1501.384 |\n",
       "| 4 | 4 | 2022-01-01 05:28:13 | FALSE | FALSE | FALSE | MR080700 | 33080700 | FALSE | FALSE | TRUE | ⋯ | 1498.443 | 1498.144 | 1503.070 | 1502.803 | 1506.531 | 1508.439 | 1509.656 | 1501.158 | 30.09050 | 1501.113 |\n",
       "| 5 | 5 | 2022-01-01 05:28:18 | FALSE | FALSE | FALSE | MR080700 | 33080700 | FALSE | FALSE | TRUE | ⋯ | 1498.291 | 1499.055 | 1502.633 | 1502.588 | 1506.463 | 1507.743 | 1509.705 | 1501.279 | 29.83308 | 1501.277 |\n",
       "| 6 | 6 | 2022-01-01 05:28:23 | FALSE | FALSE | FALSE | MR080700 | 33080700 | FALSE | FALSE | TRUE | ⋯ | 1498.251 | 1498.163 | 1503.350 | 1502.485 | 1506.500 | 1508.397 | 1510.573 | 1501.357 | 29.92720 | 1501.104 |\n",
       "\n"
      ],
      "text/plain": [
       "  X Time                R531NT1559A.VALUE R531NT1950.VALUE X531XT1950.VALUE\n",
       "1 1 2022-01-01 05:27:58 FALSE             FALSE            FALSE           \n",
       "2 2 2022-01-01 05:28:03 FALSE             FALSE            FALSE           \n",
       "3 3 2022-01-01 05:28:08 FALSE             FALSE            FALSE           \n",
       "4 4 2022-01-01 05:28:13 FALSE             FALSE            FALSE           \n",
       "5 5 2022-01-01 05:28:18 FALSE             FALSE            FALSE           \n",
       "6 6 2022-01-01 05:28:23 FALSE             FALSE            FALSE           \n",
       "  GD.ActiveGradeName GD.ActiveGradeNumber GD.AutoGradeChangeActive\n",
       "1 MR080700           33080700             FALSE                   \n",
       "2 MR080700           33080700             FALSE                   \n",
       "3 MR080700           33080700             FALSE                   \n",
       "4 MR080700           33080700             FALSE                   \n",
       "5 MR080700           33080700             FALSE                   \n",
       "6 MR080700           33080700             FALSE                   \n",
       "  GD.ManualGradeChangeActive GD.OnGradeStatus ⋯ D33.Drive.Speed.Act\n",
       "1 FALSE                      TRUE             ⋯ 1498.286           \n",
       "2 FALSE                      TRUE             ⋯ 1498.291           \n",
       "3 FALSE                      TRUE             ⋯ 1498.255           \n",
       "4 FALSE                      TRUE             ⋯ 1498.443           \n",
       "5 FALSE                      TRUE             ⋯ 1498.291           \n",
       "6 FALSE                      TRUE             ⋯ 1498.251           \n",
       "  D34.Drive.Speed.Act D37.Drive.Speed.Act D36.Drive.Speed.Act\n",
       "1 1498.506            1502.686            1502.474           \n",
       "2 1498.155            1502.920            1502.544           \n",
       "3 1499.097            1503.198            1502.483           \n",
       "4 1498.144            1503.070            1502.803           \n",
       "5 1499.055            1502.633            1502.588           \n",
       "6 1498.163            1503.350            1502.485           \n",
       "  D35.Drive.Speed.Act D38.Drive.Speed.Act D42.Drive.Speed.Act\n",
       "1 1506.160            1508.278            1509.206           \n",
       "2 1506.489            1508.164            1510.177           \n",
       "3 1506.241            1507.993            1510.379           \n",
       "4 1506.531            1508.439            1509.656           \n",
       "5 1506.463            1507.743            1509.705           \n",
       "6 1506.500            1508.397            1510.573           \n",
       "  D46.Drive.Speed.Act D45.Drive.Speed.Act D47.Drive.Speed.Act\n",
       "1 1501.137            30.15400            1501.120           \n",
       "2 1501.327            29.88133            1501.236           \n",
       "3 1501.503            29.90944            1501.384           \n",
       "4 1501.158            30.09050            1501.113           \n",
       "5 1501.279            29.83308            1501.277           \n",
       "6 1501.357            29.92720            1501.104           "
      ]
     },
     "metadata": {},
     "output_type": "display_data"
    }
   ],
   "source": [
    "head(df)"
   ]
  },
  {
   "cell_type": "code",
   "execution_count": 22,
   "id": "bcc00162",
   "metadata": {},
   "outputs": [
    {
     "data": {
      "text/html": [
       "<table class=\"dataframe\">\n",
       "<caption>A tibble: 1 × 2</caption>\n",
       "<thead>\n",
       "\t<tr><th scope=col>\"GD.ActiveGradeName\"</th><th scope=col>count</th></tr>\n",
       "\t<tr><th scope=col>&lt;chr&gt;</th><th scope=col>&lt;int&gt;</th></tr>\n",
       "</thead>\n",
       "<tbody>\n",
       "\t<tr><td>GD.ActiveGradeName</td><td>16000</td></tr>\n",
       "</tbody>\n",
       "</table>\n"
      ],
      "text/latex": [
       "A tibble: 1 × 2\n",
       "\\begin{tabular}{ll}\n",
       " \"GD.ActiveGradeName\" & count\\\\\n",
       " <chr> & <int>\\\\\n",
       "\\hline\n",
       "\t GD.ActiveGradeName & 16000\\\\\n",
       "\\end{tabular}\n"
      ],
      "text/markdown": [
       "\n",
       "A tibble: 1 × 2\n",
       "\n",
       "| \"GD.ActiveGradeName\" &lt;chr&gt; | count &lt;int&gt; |\n",
       "|---|---|\n",
       "| GD.ActiveGradeName | 16000 |\n",
       "\n"
      ],
      "text/plain": [
       "  \"GD.ActiveGradeName\" count\n",
       "1 GD.ActiveGradeName   16000"
      ]
     },
     "metadata": {},
     "output_type": "display_data"
    }
   ],
   "source": [
    "df %>% group_by('GD.ActiveGradeName') %>% summarise(count = n())"
   ]
  },
  {
   "cell_type": "code",
   "execution_count": 56,
   "id": "1d8eced1",
   "metadata": {},
   "outputs": [],
   "source": [
    "df1 = data.frame(as = df$'GD.ActiveGradeName')"
   ]
  },
  {
   "cell_type": "code",
   "execution_count": 57,
   "id": "fcc7395c",
   "metadata": {},
   "outputs": [],
   "source": [
    "df1$as = as.factor(df1$as)"
   ]
  },
  {
   "cell_type": "code",
   "execution_count": 58,
   "id": "1dc02936",
   "metadata": {},
   "outputs": [
    {
     "data": {
      "text/html": [
       "'factor'"
      ],
      "text/latex": [
       "'factor'"
      ],
      "text/markdown": [
       "'factor'"
      ],
      "text/plain": [
       "[1] \"factor\""
      ]
     },
     "metadata": {},
     "output_type": "display_data"
    }
   ],
   "source": [
    "class(df1$as)"
   ]
  },
  {
   "cell_type": "code",
   "execution_count": 59,
   "id": "21dd2adb",
   "metadata": {},
   "outputs": [
    {
     "data": {
      "text/html": [
       "<table class=\"dataframe\">\n",
       "<caption>A tibble: 1 × 1</caption>\n",
       "<thead>\n",
       "\t<tr><th scope=col>count</th></tr>\n",
       "\t<tr><th scope=col>&lt;int&gt;</th></tr>\n",
       "</thead>\n",
       "<tbody>\n",
       "\t<tr><td>16000</td></tr>\n",
       "</tbody>\n",
       "</table>\n"
      ],
      "text/latex": [
       "A tibble: 1 × 1\n",
       "\\begin{tabular}{l}\n",
       " count\\\\\n",
       " <int>\\\\\n",
       "\\hline\n",
       "\t 16000\\\\\n",
       "\\end{tabular}\n"
      ],
      "text/markdown": [
       "\n",
       "A tibble: 1 × 1\n",
       "\n",
       "| count &lt;int&gt; |\n",
       "|---|\n",
       "| 16000 |\n",
       "\n"
      ],
      "text/plain": [
       "  count\n",
       "1 16000"
      ]
     },
     "metadata": {},
     "output_type": "display_data"
    }
   ],
   "source": [
    "df1 %>% group_by(df1$'GD.ActiveGradeName') %>% summarise(count = n())"
   ]
  },
  {
   "cell_type": "code",
   "execution_count": null,
   "id": "f1c317ac",
   "metadata": {},
   "outputs": [],
   "source": []
  },
  {
   "cell_type": "code",
   "execution_count": null,
   "id": "a4f4f29e",
   "metadata": {},
   "outputs": [],
   "source": []
  },
  {
   "cell_type": "code",
   "execution_count": null,
   "id": "22cd3fbd",
   "metadata": {},
   "outputs": [],
   "source": []
  }
 ],
 "metadata": {
  "kernelspec": {
   "display_name": "R",
   "language": "R",
   "name": "ir"
  },
  "language_info": {
   "codemirror_mode": "r",
   "file_extension": ".r",
   "mimetype": "text/x-r-source",
   "name": "R",
   "pygments_lexer": "r",
   "version": "4.2.1"
  }
 },
 "nbformat": 4,
 "nbformat_minor": 5
}
