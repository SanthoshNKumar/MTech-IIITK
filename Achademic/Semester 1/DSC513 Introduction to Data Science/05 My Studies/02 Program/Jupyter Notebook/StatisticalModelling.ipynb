{
 "cells": [
  {
   "cell_type": "code",
   "execution_count": 34,
   "id": "9bdad31c",
   "metadata": {},
   "outputs": [],
   "source": [
    "# install.packages(\"mosaic\")\n",
    "# install.packages(\"mosaicData\")\n",
    "# install.packages(\"ggstance\")\n",
    "# install.packages(\"ggplot2\")\n",
    "# install.packages(\"statisticalModeling_0.3.0.tar.gz\", repos = NULL, type = \"source\")"
   ]
  },
  {
   "cell_type": "code",
   "execution_count": null,
   "id": "e6caf76c",
   "metadata": {},
   "outputs": [],
   "source": [
    "## Functions Available\n",
    "\n",
    "# 1.Building Linear Model\n",
    "#   model_1 = lm(responseVaribale ~ Exploratory Varibales,data = data_1)\n",
    "\n",
    "# 2. Visualize the Models\n",
    "#   fmodel(model_1)\n",
    "\n",
    "# 3. Building recursive partitioning Model \n",
    "#    model_2<-rpart(net~age+sex,data=Runners,cp=0.002)\n",
    "#         Response Varibale : net;  Exploratory Varible : age and sex\n",
    "#         cp = complexity parameter\n",
    "\n",
    "# 4.Evaluate Models\n",
    "#  example_vals<-data.frame(Age=60,Sex=\"F\",Coverage=200)  # Create Sampple data\n",
    "#  predict(model_2,example_vals)\n",
    "\n",
    "# 5. .Evaluate Models using 'evaluate_model' from 'statisticalModeling'. It is an alternative to 'Predict'\n",
    "#  evaluate_model(insurance_cost_model,example_vals)\n",
    "\n",
    "# 6. Accessing Prediction Performacne\n",
    "#    base_model <- lm(net ~ age + sex, data = Runners_100)\n",
    "#    base_model_output <- predict(base_model, newdata = Runners_100)\n",
    "\n",
    "#    aug_model <- lm(net ~ age + sex + previous, data = Runners_100)\n",
    "#    aug_model_output <- predict(aug_model, newdata = Runners_100)\n",
    "\n",
    "#    mean((base_model_output - aug_model_output) ^ 2, na.rm = TRUE)\n",
    "\n",
    "# 7. Find the case-by-case differences\n",
    "#    base_model_differences <- with(Runners_100, net - base_model_output)\n",
    "#    aug_model_differences <- with(Runners_100,net-aug_model_output)\n",
    "\n",
    "#    mean(base_model_differences ^ 2)\n",
    "#    mean(aug_model_differences ^ 2)\n",
    "\n",
    "# 8. Calculate MSE on the testing data\n",
    "#    Runners_100$training_cases <- rnorm(nrow(Runners_100)) > 0\n",
    "\n",
    "#    base_model <- lm(net~age+sex, data = subset(Runners_100, training_cases))\n",
    "#    Preds <- evaluate_model(base_model, data = subset(Runners_100,!training_cases))\n",
    "#    with(data = Preds, mean((net - Preds$model_output)ˆ2))\n",
    "\n",
    "# 9. Cross Validation \n",
    "#    model <- lm(net ~ age + sex, data = Runners_100)\n",
    "#    in_sample <- evaluate_model(model, data = Runners_100)\n",
    "#    in_sample_error <- with(in_sample, mean((net - model_output)ˆ2, na.rm = TRUE))\n",
    "#    trials <- cv_pred_error(model) # # Calculate MSE for many different trials\n",
    "\n",
    "#     Find confidence interval on trials and compare to training_error\n",
    "#     mosaic::t.test(~ mse, mu = in_sample_error, data = trials)\n",
    "\n",
    "\n",
    "\n"
   ]
  },
  {
   "cell_type": "code",
   "execution_count": 35,
   "id": "02f703d6",
   "metadata": {},
   "outputs": [],
   "source": [
    "library(statisticalModeling)"
   ]
  },
  {
   "cell_type": "code",
   "execution_count": 36,
   "id": "5fd3a99a",
   "metadata": {},
   "outputs": [],
   "source": [
    "library(mosaic)\n",
    "library(mosaicData)\n",
    "library(dplyr)\n",
    "library(ggplot2)"
   ]
  },
  {
   "cell_type": "code",
   "execution_count": 49,
   "id": "bc426abe",
   "metadata": {},
   "outputs": [
    {
     "data": {
      "text/html": [
       "<style>\n",
       ".list-inline {list-style: none; margin:0; padding: 0}\n",
       ".list-inline>li {display: inline-block}\n",
       ".list-inline>li:not(:last-child)::after {content: \"\\00b7\"; padding: 0 .5ex}\n",
       "</style>\n",
       "<ol class=list-inline><li>36</li><li>4</li></ol>\n"
      ],
      "text/latex": [
       "\\begin{enumerate*}\n",
       "\\item 36\n",
       "\\item 4\n",
       "\\end{enumerate*}\n"
      ],
      "text/markdown": [
       "1. 36\n",
       "2. 4\n",
       "\n",
       "\n"
      ],
      "text/plain": [
       "[1] 36  4"
      ]
     },
     "metadata": {},
     "output_type": "display_data"
    }
   ],
   "source": [
    "dim(AARP)"
   ]
  },
  {
   "cell_type": "code",
   "execution_count": 50,
   "id": "8fce9368",
   "metadata": {},
   "outputs": [
    {
     "data": {
      "text/html": [
       "<style>\n",
       ".list-inline {list-style: none; margin:0; padding: 0}\n",
       ".list-inline>li {display: inline-block}\n",
       ".list-inline>li:not(:last-child)::after {content: \"\\00b7\"; padding: 0 .5ex}\n",
       "</style>\n",
       "<ol class=list-inline><li>'Age'</li><li>'Sex'</li><li>'Coverage'</li><li>'Cost'</li></ol>\n"
      ],
      "text/latex": [
       "\\begin{enumerate*}\n",
       "\\item 'Age'\n",
       "\\item 'Sex'\n",
       "\\item 'Coverage'\n",
       "\\item 'Cost'\n",
       "\\end{enumerate*}\n"
      ],
      "text/markdown": [
       "1. 'Age'\n",
       "2. 'Sex'\n",
       "3. 'Coverage'\n",
       "4. 'Cost'\n",
       "\n",
       "\n"
      ],
      "text/plain": [
       "[1] \"Age\"      \"Sex\"      \"Coverage\" \"Cost\"    "
      ]
     },
     "metadata": {},
     "output_type": "display_data"
    }
   ],
   "source": [
    "names(AARP)"
   ]
  },
  {
   "cell_type": "code",
   "execution_count": 51,
   "id": "1e2ff41e",
   "metadata": {},
   "outputs": [
    {
     "data": {
      "text/html": [
       "<table class=\"dataframe\">\n",
       "<caption>A data.frame: 6 × 4</caption>\n",
       "<thead>\n",
       "\t<tr><th></th><th scope=col>Age</th><th scope=col>Sex</th><th scope=col>Coverage</th><th scope=col>Cost</th></tr>\n",
       "\t<tr><th></th><th scope=col>&lt;int&gt;</th><th scope=col>&lt;chr&gt;</th><th scope=col>&lt;int&gt;</th><th scope=col>&lt;dbl&gt;</th></tr>\n",
       "</thead>\n",
       "<tbody>\n",
       "\t<tr><th scope=row>1</th><td>47</td><td>F</td><td>10</td><td> 8.93</td></tr>\n",
       "\t<tr><th scope=row>2</th><td>52</td><td>F</td><td>10</td><td>10.46</td></tr>\n",
       "\t<tr><th scope=row>3</th><td>57</td><td>F</td><td>10</td><td>14.38</td></tr>\n",
       "\t<tr><th scope=row>4</th><td>62</td><td>F</td><td>10</td><td>20.44</td></tr>\n",
       "\t<tr><th scope=row>5</th><td>67</td><td>F</td><td>10</td><td>27.38</td></tr>\n",
       "\t<tr><th scope=row>6</th><td>72</td><td>F</td><td>10</td><td>39.83</td></tr>\n",
       "</tbody>\n",
       "</table>\n"
      ],
      "text/latex": [
       "A data.frame: 6 × 4\n",
       "\\begin{tabular}{r|llll}\n",
       "  & Age & Sex & Coverage & Cost\\\\\n",
       "  & <int> & <chr> & <int> & <dbl>\\\\\n",
       "\\hline\n",
       "\t1 & 47 & F & 10 &  8.93\\\\\n",
       "\t2 & 52 & F & 10 & 10.46\\\\\n",
       "\t3 & 57 & F & 10 & 14.38\\\\\n",
       "\t4 & 62 & F & 10 & 20.44\\\\\n",
       "\t5 & 67 & F & 10 & 27.38\\\\\n",
       "\t6 & 72 & F & 10 & 39.83\\\\\n",
       "\\end{tabular}\n"
      ],
      "text/markdown": [
       "\n",
       "A data.frame: 6 × 4\n",
       "\n",
       "| <!--/--> | Age &lt;int&gt; | Sex &lt;chr&gt; | Coverage &lt;int&gt; | Cost &lt;dbl&gt; |\n",
       "|---|---|---|---|---|\n",
       "| 1 | 47 | F | 10 |  8.93 |\n",
       "| 2 | 52 | F | 10 | 10.46 |\n",
       "| 3 | 57 | F | 10 | 14.38 |\n",
       "| 4 | 62 | F | 10 | 20.44 |\n",
       "| 5 | 67 | F | 10 | 27.38 |\n",
       "| 6 | 72 | F | 10 | 39.83 |\n",
       "\n"
      ],
      "text/plain": [
       "  Age Sex Coverage Cost \n",
       "1 47  F   10        8.93\n",
       "2 52  F   10       10.46\n",
       "3 57  F   10       14.38\n",
       "4 62  F   10       20.44\n",
       "5 67  F   10       27.38\n",
       "6 72  F   10       39.83"
      ]
     },
     "metadata": {},
     "output_type": "display_data"
    }
   ],
   "source": [
    "head(AARP)"
   ]
  },
  {
   "cell_type": "code",
   "execution_count": 52,
   "id": "1f88000f",
   "metadata": {},
   "outputs": [
    {
     "data": {
      "text/html": [
       "52.4141666666667"
      ],
      "text/latex": [
       "52.4141666666667"
      ],
      "text/markdown": [
       "52.4141666666667"
      ],
      "text/plain": [
       "[1] 52.41417"
      ]
     },
     "metadata": {},
     "output_type": "display_data"
    }
   ],
   "source": [
    "mean(AARP$Cost)"
   ]
  },
  {
   "cell_type": "code",
   "execution_count": 54,
   "id": "fdc950e5",
   "metadata": {},
   "outputs": [
    {
     "data": {
      "text/html": [
       "<style>\n",
       ".dl-inline {width: auto; margin:0; padding: 0}\n",
       ".dl-inline>dt, .dl-inline>dd {float: none; width: auto; display: inline-block}\n",
       ".dl-inline>dt::after {content: \":\\0020\"; padding-right: .5ex}\n",
       ".dl-inline>dt:not(:first-of-type) {padding-left: .5ex}\n",
       "</style><dl class=dl-inline><dt>F</dt><dd>47.2977777777778</dd><dt>M</dt><dd>57.5305555555556</dd></dl>\n"
      ],
      "text/latex": [
       "\\begin{description*}\n",
       "\\item[F] 47.2977777777778\n",
       "\\item[M] 57.5305555555556\n",
       "\\end{description*}\n"
      ],
      "text/markdown": [
       "F\n",
       ":   47.2977777777778M\n",
       ":   57.5305555555556\n",
       "\n"
      ],
      "text/plain": [
       "       F        M \n",
       "47.29778 57.53056 "
      ]
     },
     "metadata": {},
     "output_type": "display_data"
    }
   ],
   "source": [
    "mosaic::mean(Cost~Sex,data = AARP)  # 'Exploratory Variable' : Cost =  and Response Variable: 'Sex'"
   ]
  },
  {
   "cell_type": "code",
   "execution_count": 55,
   "id": "5f598366",
   "metadata": {},
   "outputs": [
    {
     "data": {
      "text/html": [
       "<style>\n",
       ".list-inline {list-style: none; margin:0; padding: 0}\n",
       ".list-inline>li {display: inline-block}\n",
       ".list-inline>li:not(:last-child)::after {content: \"\\00b7\"; padding: 0 .5ex}\n",
       "</style>\n",
       "<ol class=list-inline><li>'age'</li><li>'net'</li><li>'gun'</li><li>'sex'</li><li>'year'</li><li>'previous'</li><li>'nruns'</li><li>'start_position'</li></ol>\n"
      ],
      "text/latex": [
       "\\begin{enumerate*}\n",
       "\\item 'age'\n",
       "\\item 'net'\n",
       "\\item 'gun'\n",
       "\\item 'sex'\n",
       "\\item 'year'\n",
       "\\item 'previous'\n",
       "\\item 'nruns'\n",
       "\\item 'start\\_position'\n",
       "\\end{enumerate*}\n"
      ],
      "text/markdown": [
       "1. 'age'\n",
       "2. 'net'\n",
       "3. 'gun'\n",
       "4. 'sex'\n",
       "5. 'year'\n",
       "6. 'previous'\n",
       "7. 'nruns'\n",
       "8. 'start_position'\n",
       "\n",
       "\n"
      ],
      "text/plain": [
       "[1] \"age\"            \"net\"            \"gun\"            \"sex\"           \n",
       "[5] \"year\"           \"previous\"       \"nruns\"          \"start_position\""
      ]
     },
     "metadata": {},
     "output_type": "display_data"
    }
   ],
   "source": [
    "data(Runners)\n",
    "names(Runners)"
   ]
  },
  {
   "cell_type": "code",
   "execution_count": 56,
   "id": "e854f6bf",
   "metadata": {},
   "outputs": [
    {
     "data": {
      "text/html": [
       "<table class=\"dataframe\">\n",
       "<caption>A data.frame: 6 × 8</caption>\n",
       "<thead>\n",
       "\t<tr><th></th><th scope=col>age</th><th scope=col>net</th><th scope=col>gun</th><th scope=col>sex</th><th scope=col>year</th><th scope=col>previous</th><th scope=col>nruns</th><th scope=col>start_position</th></tr>\n",
       "\t<tr><th></th><th scope=col>&lt;int&gt;</th><th scope=col>&lt;dbl&gt;</th><th scope=col>&lt;dbl&gt;</th><th scope=col>&lt;chr&gt;</th><th scope=col>&lt;int&gt;</th><th scope=col>&lt;int&gt;</th><th scope=col>&lt;int&gt;</th><th scope=col>&lt;chr&gt;</th></tr>\n",
       "</thead>\n",
       "<tbody>\n",
       "\t<tr><th scope=row>1</th><td>31</td><td>85.35</td><td>86.88</td><td>M</td><td>2005</td><td>0</td><td>4</td><td>calm </td></tr>\n",
       "\t<tr><th scope=row>2</th><td>32</td><td>91.75</td><td>92.53</td><td>M</td><td>2006</td><td>1</td><td>4</td><td>eager</td></tr>\n",
       "\t<tr><th scope=row>3</th><td>33</td><td>   NA</td><td>92.40</td><td>M</td><td>2007</td><td>2</td><td>4</td><td>NA   </td></tr>\n",
       "\t<tr><th scope=row>4</th><td>34</td><td>   NA</td><td>89.28</td><td>M</td><td>2008</td><td>3</td><td>4</td><td>NA   </td></tr>\n",
       "\t<tr><th scope=row>5</th><td>25</td><td>67.33</td><td>67.48</td><td>M</td><td>2001</td><td>0</td><td>3</td><td>eager</td></tr>\n",
       "\t<tr><th scope=row>6</th><td>26</td><td>70.45</td><td>70.70</td><td>M</td><td>2002</td><td>1</td><td>3</td><td>eager</td></tr>\n",
       "</tbody>\n",
       "</table>\n"
      ],
      "text/latex": [
       "A data.frame: 6 × 8\n",
       "\\begin{tabular}{r|llllllll}\n",
       "  & age & net & gun & sex & year & previous & nruns & start\\_position\\\\\n",
       "  & <int> & <dbl> & <dbl> & <chr> & <int> & <int> & <int> & <chr>\\\\\n",
       "\\hline\n",
       "\t1 & 31 & 85.35 & 86.88 & M & 2005 & 0 & 4 & calm \\\\\n",
       "\t2 & 32 & 91.75 & 92.53 & M & 2006 & 1 & 4 & eager\\\\\n",
       "\t3 & 33 &    NA & 92.40 & M & 2007 & 2 & 4 & NA   \\\\\n",
       "\t4 & 34 &    NA & 89.28 & M & 2008 & 3 & 4 & NA   \\\\\n",
       "\t5 & 25 & 67.33 & 67.48 & M & 2001 & 0 & 3 & eager\\\\\n",
       "\t6 & 26 & 70.45 & 70.70 & M & 2002 & 1 & 3 & eager\\\\\n",
       "\\end{tabular}\n"
      ],
      "text/markdown": [
       "\n",
       "A data.frame: 6 × 8\n",
       "\n",
       "| <!--/--> | age &lt;int&gt; | net &lt;dbl&gt; | gun &lt;dbl&gt; | sex &lt;chr&gt; | year &lt;int&gt; | previous &lt;int&gt; | nruns &lt;int&gt; | start_position &lt;chr&gt; |\n",
       "|---|---|---|---|---|---|---|---|---|\n",
       "| 1 | 31 | 85.35 | 86.88 | M | 2005 | 0 | 4 | calm  |\n",
       "| 2 | 32 | 91.75 | 92.53 | M | 2006 | 1 | 4 | eager |\n",
       "| 3 | 33 |    NA | 92.40 | M | 2007 | 2 | 4 | NA    |\n",
       "| 4 | 34 |    NA | 89.28 | M | 2008 | 3 | 4 | NA    |\n",
       "| 5 | 25 | 67.33 | 67.48 | M | 2001 | 0 | 3 | eager |\n",
       "| 6 | 26 | 70.45 | 70.70 | M | 2002 | 1 | 3 | eager |\n",
       "\n"
      ],
      "text/plain": [
       "  age net   gun   sex year previous nruns start_position\n",
       "1 31  85.35 86.88 M   2005 0        4     calm          \n",
       "2 32  91.75 92.53 M   2006 1        4     eager         \n",
       "3 33     NA 92.40 M   2007 2        4     NA            \n",
       "4 34     NA 89.28 M   2008 3        4     NA            \n",
       "5 25  67.33 67.48 M   2001 0        3     eager         \n",
       "6 26  70.45 70.70 M   2002 1        3     eager         "
      ]
     },
     "metadata": {},
     "output_type": "display_data"
    }
   ],
   "source": [
    "head(Runners)"
   ]
  },
  {
   "cell_type": "code",
   "execution_count": null,
   "id": "eca68500",
   "metadata": {},
   "outputs": [],
   "source": [
    "# The response variable is the variable whose behavior or variation you are trying to understand.\n",
    "# The explanatory variables are the other variables that you want to use to explain the variation in the response\n",
    "\n",
    "# Example : wage ~ exper + sector\n",
    "# The variable to the left of tilde operator is the Response variable, and the otehr variables are the explanatory variables."
   ]
  },
  {
   "cell_type": "code",
   "execution_count": 62,
   "id": "2e304231",
   "metadata": {},
   "outputs": [],
   "source": [
    "# Build models: handicap_model_1, handicap_model_2, handicap_model_3\n",
    "\n",
    "handicap_model_1 <- lm(net~age, data = Runners) # 'Response Variable': net and 'Exploratory Varible':age\n",
    "handicap_model_2 <- lm(net~sex,data=Runners)    # 'Response Varible':  net and 'Exploratory Varible':sex\n",
    "handicap_model_3 <- lm(net~age+sex,data=Runners)# 'Response Varible':  net and 'Exploratory Varible':age and Sex"
   ]
  },
  {
   "cell_type": "code",
   "execution_count": 63,
   "id": "fdd17afe",
   "metadata": {},
   "outputs": [
    {
     "data": {
      "image/png": "[encoded data removed]",
      "text/plain": [
       "plot without title"
      ]
     },
     "metadata": {
      "image/png": {
       "height": 420,
       "width": 420
      }
     },
     "output_type": "display_data"
    }
   ],
   "source": [
    "# visualize the models\n",
    "\n",
    "fmodel(handicap_model_1)"
   ]
  },
  {
   "cell_type": "code",
   "execution_count": 64,
   "id": "aa708a63",
   "metadata": {},
   "outputs": [
    {
     "data": {
      "image/png": "[encoded data removed]",
      "text/plain": [
       "plot without title"
      ]
     },
     "metadata": {
      "image/png": {
       "height": 420,
       "width": 420
      }
     },
     "output_type": "display_data"
    }
   ],
   "source": [
    "fmodel(handicap_model_2)"
   ]
  },
  {
   "cell_type": "code",
   "execution_count": 65,
   "id": "0c65063f",
   "metadata": {},
   "outputs": [
    {
     "data": {
      "image/png": "[encoded data removed]",
      "text/plain": [
       "plot without title"
      ]
     },
     "metadata": {
      "image/png": {
       "height": 420,
       "width": 420
      }
     },
     "output_type": "display_data"
    }
   ],
   "source": [
    "fmodel(handicap_model_3)"
   ]
  },
  {
   "cell_type": "code",
   "execution_count": null,
   "id": "dddaf0f7",
   "metadata": {},
   "outputs": [],
   "source": [
    "# Recursive Partitioning\n",
    "\n",
    "# recursive partitioning architecture has a parameter, cp, that allows you to dial up or down the complexity of the model being built."
   ]
  },
  {
   "cell_type": "code",
   "execution_count": 66,
   "id": "a8d3b489",
   "metadata": {},
   "outputs": [],
   "source": [
    "library(rpart)"
   ]
  },
  {
   "cell_type": "code",
   "execution_count": 67,
   "id": "50d888dc",
   "metadata": {},
   "outputs": [],
   "source": [
    "model_2<-rpart(net~age+sex,data=Runners,cp=0.002)"
   ]
  },
  {
   "cell_type": "code",
   "execution_count": 70,
   "id": "06be4631",
   "metadata": {},
   "outputs": [
    {
     "data": {
      "image/png": "[encoded data removed]",
      "text/plain": [
       "plot without title"
      ]
     },
     "metadata": {
      "image/png": {
       "height": 420,
       "width": 420
      }
     },
     "output_type": "display_data"
    }
   ],
   "source": [
    "fmodel(model_2,~age+sex)"
   ]
  },
  {
   "cell_type": "code",
   "execution_count": null,
   "id": "861a0f8e",
   "metadata": {},
   "outputs": [],
   "source": []
  },
  {
   "cell_type": "code",
   "execution_count": null,
   "id": "a1f0a6ed",
   "metadata": {},
   "outputs": [],
   "source": []
  },
  {
   "cell_type": "code",
   "execution_count": 72,
   "id": "dc69f979",
   "metadata": {},
   "outputs": [],
   "source": [
    "Ran_twice = read.csv(\"sampledata//Ran_twice.csv\")"
   ]
  },
  {
   "cell_type": "code",
   "execution_count": 73,
   "id": "d8db62dd",
   "metadata": {},
   "outputs": [
    {
     "data": {
      "text/html": [
       "<style>\n",
       ".list-inline {list-style: none; margin:0; padding: 0}\n",
       ".list-inline>li {display: inline-block}\n",
       ".list-inline>li:not(:last-child)::after {content: \"\\00b7\"; padding: 0 .5ex}\n",
       "</style>\n",
       "<ol class=list-inline><li>5977</li><li>9</li></ol>\n"
      ],
      "text/latex": [
       "\\begin{enumerate*}\n",
       "\\item 5977\n",
       "\\item 9\n",
       "\\end{enumerate*}\n"
      ],
      "text/markdown": [
       "1. 5977\n",
       "2. 9\n",
       "\n",
       "\n"
      ],
      "text/plain": [
       "[1] 5977    9"
      ]
     },
     "metadata": {},
     "output_type": "display_data"
    }
   ],
   "source": [
    "dim(Ran_twice)"
   ]
  },
  {
   "cell_type": "code",
   "execution_count": 74,
   "id": "f23749b3",
   "metadata": {},
   "outputs": [
    {
     "data": {
      "text/html": [
       "<table class=\"dataframe\">\n",
       "<caption>A data.frame: 6 × 9</caption>\n",
       "<thead>\n",
       "\t<tr><th></th><th scope=col>X.1</th><th scope=col>X</th><th scope=col>age</th><th scope=col>net</th><th scope=col>gun</th><th scope=col>sex</th><th scope=col>year</th><th scope=col>nruns</th><th scope=col>runs_again</th></tr>\n",
       "\t<tr><th></th><th scope=col>&lt;int&gt;</th><th scope=col>&lt;int&gt;</th><th scope=col>&lt;int&gt;</th><th scope=col>&lt;dbl&gt;</th><th scope=col>&lt;dbl&gt;</th><th scope=col>&lt;chr&gt;</th><th scope=col>&lt;int&gt;</th><th scope=col>&lt;int&gt;</th><th scope=col>&lt;lgl&gt;</th></tr>\n",
       "</thead>\n",
       "<tbody>\n",
       "\t<tr><th scope=row>1</th><td>1</td><td> 3</td><td>33</td><td>    NA</td><td> 92.40</td><td>M</td><td>2007</td><td>4</td><td> TRUE</td></tr>\n",
       "\t<tr><th scope=row>2</th><td>2</td><td> 7</td><td>30</td><td> 82.37</td><td> 85.70</td><td>M</td><td>2006</td><td>3</td><td>FALSE</td></tr>\n",
       "\t<tr><th scope=row>3</th><td>3</td><td>10</td><td>29</td><td> 69.32</td><td> 69.68</td><td>M</td><td>2004</td><td>4</td><td> TRUE</td></tr>\n",
       "\t<tr><th scope=row>4</th><td>4</td><td>14</td><td>28</td><td> 79.70</td><td> 80.42</td><td>M</td><td>2002</td><td>8</td><td> TRUE</td></tr>\n",
       "\t<tr><th scope=row>5</th><td>5</td><td>22</td><td>33</td><td>    NA</td><td>105.40</td><td>F</td><td>2008</td><td>3</td><td>FALSE</td></tr>\n",
       "\t<tr><th scope=row>6</th><td>6</td><td>25</td><td>32</td><td>111.80</td><td>121.20</td><td>M</td><td>2006</td><td>3</td><td>FALSE</td></tr>\n",
       "</tbody>\n",
       "</table>\n"
      ],
      "text/latex": [
       "A data.frame: 6 × 9\n",
       "\\begin{tabular}{r|lllllllll}\n",
       "  & X.1 & X & age & net & gun & sex & year & nruns & runs\\_again\\\\\n",
       "  & <int> & <int> & <int> & <dbl> & <dbl> & <chr> & <int> & <int> & <lgl>\\\\\n",
       "\\hline\n",
       "\t1 & 1 &  3 & 33 &     NA &  92.40 & M & 2007 & 4 &  TRUE\\\\\n",
       "\t2 & 2 &  7 & 30 &  82.37 &  85.70 & M & 2006 & 3 & FALSE\\\\\n",
       "\t3 & 3 & 10 & 29 &  69.32 &  69.68 & M & 2004 & 4 &  TRUE\\\\\n",
       "\t4 & 4 & 14 & 28 &  79.70 &  80.42 & M & 2002 & 8 &  TRUE\\\\\n",
       "\t5 & 5 & 22 & 33 &     NA & 105.40 & F & 2008 & 3 & FALSE\\\\\n",
       "\t6 & 6 & 25 & 32 & 111.80 & 121.20 & M & 2006 & 3 & FALSE\\\\\n",
       "\\end{tabular}\n"
      ],
      "text/markdown": [
       "\n",
       "A data.frame: 6 × 9\n",
       "\n",
       "| <!--/--> | X.1 &lt;int&gt; | X &lt;int&gt; | age &lt;int&gt; | net &lt;dbl&gt; | gun &lt;dbl&gt; | sex &lt;chr&gt; | year &lt;int&gt; | nruns &lt;int&gt; | runs_again &lt;lgl&gt; |\n",
       "|---|---|---|---|---|---|---|---|---|---|\n",
       "| 1 | 1 |  3 | 33 |     NA |  92.40 | M | 2007 | 4 |  TRUE |\n",
       "| 2 | 2 |  7 | 30 |  82.37 |  85.70 | M | 2006 | 3 | FALSE |\n",
       "| 3 | 3 | 10 | 29 |  69.32 |  69.68 | M | 2004 | 4 |  TRUE |\n",
       "| 4 | 4 | 14 | 28 |  79.70 |  80.42 | M | 2002 | 8 |  TRUE |\n",
       "| 5 | 5 | 22 | 33 |     NA | 105.40 | F | 2008 | 3 | FALSE |\n",
       "| 6 | 6 | 25 | 32 | 111.80 | 121.20 | M | 2006 | 3 | FALSE |\n",
       "\n"
      ],
      "text/plain": [
       "  X.1 X  age net    gun    sex year nruns runs_again\n",
       "1 1    3 33      NA  92.40 M   2007 4      TRUE     \n",
       "2 2    7 30   82.37  85.70 M   2006 3     FALSE     \n",
       "3 3   10 29   69.32  69.68 M   2004 4      TRUE     \n",
       "4 4   14 28   79.70  80.42 M   2002 8      TRUE     \n",
       "5 5   22 33      NA 105.40 F   2008 3     FALSE     \n",
       "6 6   25 32  111.80 121.20 M   2006 3     FALSE     "
      ]
     },
     "metadata": {},
     "output_type": "display_data"
    }
   ],
   "source": [
    "head(Ran_twice)"
   ]
  },
  {
   "cell_type": "code",
   "execution_count": 75,
   "id": "6b0f19f6",
   "metadata": {},
   "outputs": [],
   "source": [
    "run_again_model<-rpart(runs_again~age+sex+net,data=Ran_twice,cp=0.005)  # Response varibale : runs_again\n",
    "                                                                        # Exploratory Varible = age,sex,net"
   ]
  },
  {
   "cell_type": "code",
   "execution_count": 81,
   "id": "7c36ecd5",
   "metadata": {},
   "outputs": [
    {
     "data": {
      "image/png": "[encoded data removed]",
      "text/plain": [
       "plot without title"
      ]
     },
     "metadata": {
      "image/png": {
       "height": 420,
       "width": 420
      }
     },
     "output_type": "display_data"
    }
   ],
   "source": [
    "#Visualize the model\n",
    "fmodel(run_again_model, ~age+ net, data = Ran_twice)"
   ]
  },
  {
   "cell_type": "code",
   "execution_count": 82,
   "id": "fe012640",
   "metadata": {},
   "outputs": [
    {
     "data": {
      "image/png": "[encoded data removed]",
      "text/plain": [
       "plot without title"
      ]
     },
     "metadata": {
      "image/png": {
       "height": 420,
       "width": 420
      }
     },
     "output_type": "display_data"
    }
   ],
   "source": [
    "#Visualize the model\n",
    "fmodel(run_again_model, ~age+ sex, data = Ran_twice)"
   ]
  },
  {
   "cell_type": "code",
   "execution_count": 83,
   "id": "f09a1cb8",
   "metadata": {},
   "outputs": [
    {
     "name": "stderr",
     "output_type": "stream",
     "text": [
      "Warning message in geom_point(aes_string(color = show_vars[2], linetype = show_vars[2]), :\n",
      "\"\u001b[1m\u001b[22mIgnoring unknown aesthetics: \u001b[32mlinetype\u001b[39m\"\n"
     ]
    },
    {
     "data": {
      "image/png": "[encoded data removed]",
      "text/plain": [
       "plot without title"
      ]
     },
     "metadata": {
      "image/png": {
       "height": 420,
       "width": 420
      }
     },
     "output_type": "display_data"
    }
   ],
   "source": [
    "#Visualize the model\n",
    "fmodel(run_again_model, ~sex+ net, data = Ran_twice)"
   ]
  },
  {
   "cell_type": "code",
   "execution_count": null,
   "id": "64a2875b",
   "metadata": {},
   "outputs": [],
   "source": []
  },
  {
   "cell_type": "code",
   "execution_count": null,
   "id": "eabe74b8",
   "metadata": {},
   "outputs": [],
   "source": [
    "### Evaluating Models"
   ]
  },
  {
   "cell_type": "code",
   "execution_count": 84,
   "id": "a8dd9d23",
   "metadata": {},
   "outputs": [
    {
     "data": {
      "text/html": [
       "<table class=\"dataframe\">\n",
       "<caption>A data.frame: 6 × 4</caption>\n",
       "<thead>\n",
       "\t<tr><th></th><th scope=col>Age</th><th scope=col>Sex</th><th scope=col>Coverage</th><th scope=col>Cost</th></tr>\n",
       "\t<tr><th></th><th scope=col>&lt;int&gt;</th><th scope=col>&lt;chr&gt;</th><th scope=col>&lt;int&gt;</th><th scope=col>&lt;dbl&gt;</th></tr>\n",
       "</thead>\n",
       "<tbody>\n",
       "\t<tr><th scope=row>1</th><td>47</td><td>F</td><td>10</td><td> 8.93</td></tr>\n",
       "\t<tr><th scope=row>2</th><td>52</td><td>F</td><td>10</td><td>10.46</td></tr>\n",
       "\t<tr><th scope=row>3</th><td>57</td><td>F</td><td>10</td><td>14.38</td></tr>\n",
       "\t<tr><th scope=row>4</th><td>62</td><td>F</td><td>10</td><td>20.44</td></tr>\n",
       "\t<tr><th scope=row>5</th><td>67</td><td>F</td><td>10</td><td>27.38</td></tr>\n",
       "\t<tr><th scope=row>6</th><td>72</td><td>F</td><td>10</td><td>39.83</td></tr>\n",
       "</tbody>\n",
       "</table>\n"
      ],
      "text/latex": [
       "A data.frame: 6 × 4\n",
       "\\begin{tabular}{r|llll}\n",
       "  & Age & Sex & Coverage & Cost\\\\\n",
       "  & <int> & <chr> & <int> & <dbl>\\\\\n",
       "\\hline\n",
       "\t1 & 47 & F & 10 &  8.93\\\\\n",
       "\t2 & 52 & F & 10 & 10.46\\\\\n",
       "\t3 & 57 & F & 10 & 14.38\\\\\n",
       "\t4 & 62 & F & 10 & 20.44\\\\\n",
       "\t5 & 67 & F & 10 & 27.38\\\\\n",
       "\t6 & 72 & F & 10 & 39.83\\\\\n",
       "\\end{tabular}\n"
      ],
      "text/markdown": [
       "\n",
       "A data.frame: 6 × 4\n",
       "\n",
       "| <!--/--> | Age &lt;int&gt; | Sex &lt;chr&gt; | Coverage &lt;int&gt; | Cost &lt;dbl&gt; |\n",
       "|---|---|---|---|---|\n",
       "| 1 | 47 | F | 10 |  8.93 |\n",
       "| 2 | 52 | F | 10 | 10.46 |\n",
       "| 3 | 57 | F | 10 | 14.38 |\n",
       "| 4 | 62 | F | 10 | 20.44 |\n",
       "| 5 | 67 | F | 10 | 27.38 |\n",
       "| 6 | 72 | F | 10 | 39.83 |\n",
       "\n"
      ],
      "text/plain": [
       "  Age Sex Coverage Cost \n",
       "1 47  F   10        8.93\n",
       "2 52  F   10       10.46\n",
       "3 57  F   10       14.38\n",
       "4 62  F   10       20.44\n",
       "5 67  F   10       27.38\n",
       "6 72  F   10       39.83"
      ]
     },
     "metadata": {},
     "output_type": "display_data"
    }
   ],
   "source": [
    "head(AARP)"
   ]
  },
  {
   "cell_type": "code",
   "execution_count": 88,
   "id": "ab7b64b7",
   "metadata": {},
   "outputs": [
    {
     "data": {
      "text/html": [
       "<strong>1:</strong> 363.636963492064"
      ],
      "text/latex": [
       "\\textbf{1:} 363.636963492064"
      ],
      "text/markdown": [
       "**1:** 363.636963492064"
      ],
      "text/plain": [
       "      1 \n",
       "363.637 "
      ]
     },
     "metadata": {},
     "output_type": "display_data"
    }
   ],
   "source": [
    "#Build Linear Model\n",
    "\n",
    "# Y : Cost and X : Age;Sex;Coverage \n",
    "insurance_cost_model<-lm(Cost~Age+Sex+Coverage,data=AARP)\n",
    "\n",
    "# Sample data for Prediction\n",
    "example_vals<-data.frame(Age=60,Sex=\"F\",Coverage=200)\n",
    "\n",
    "# Predict the sample data\n",
    "predict(insurance_cost_model,example_vals)"
   ]
  },
  {
   "cell_type": "code",
   "execution_count": 90,
   "id": "6e90fc13",
   "metadata": {},
   "outputs": [
    {
     "data": {
      "text/html": [
       "<table class=\"dataframe\">\n",
       "<caption>A data.frame: 1 × 4</caption>\n",
       "<thead>\n",
       "\t<tr><th scope=col>Age</th><th scope=col>Sex</th><th scope=col>Coverage</th><th scope=col>model_output</th></tr>\n",
       "\t<tr><th scope=col>&lt;dbl&gt;</th><th scope=col>&lt;chr&gt;</th><th scope=col>&lt;dbl&gt;</th><th scope=col>&lt;dbl&gt;</th></tr>\n",
       "</thead>\n",
       "<tbody>\n",
       "\t<tr><td>60</td><td>F</td><td>200</td><td>363.637</td></tr>\n",
       "</tbody>\n",
       "</table>\n"
      ],
      "text/latex": [
       "A data.frame: 1 × 4\n",
       "\\begin{tabular}{llll}\n",
       " Age & Sex & Coverage & model\\_output\\\\\n",
       " <dbl> & <chr> & <dbl> & <dbl>\\\\\n",
       "\\hline\n",
       "\t 60 & F & 200 & 363.637\\\\\n",
       "\\end{tabular}\n"
      ],
      "text/markdown": [
       "\n",
       "A data.frame: 1 × 4\n",
       "\n",
       "| Age &lt;dbl&gt; | Sex &lt;chr&gt; | Coverage &lt;dbl&gt; | model_output &lt;dbl&gt; |\n",
       "|---|---|---|---|\n",
       "| 60 | F | 200 | 363.637 |\n",
       "\n"
      ],
      "text/plain": [
       "  Age Sex Coverage model_output\n",
       "1 60  F   200      363.637     "
      ]
     },
     "metadata": {},
     "output_type": "display_data"
    }
   ],
   "source": [
    "library(statisticalModeling)\n",
    "evaluate_model(insurance_cost_model,example_vals)"
   ]
  },
  {
   "cell_type": "code",
   "execution_count": 97,
   "id": "c3a27010",
   "metadata": {},
   "outputs": [
    {
     "data": {
      "text/html": [
       "<style>\n",
       ".dl-inline {width: auto; margin:0; padding: 0}\n",
       ".dl-inline>dt, .dl-inline>dd {float: none; width: auto; display: inline-block}\n",
       ".dl-inline>dt::after {content: \":\\0020\"; padding-right: .5ex}\n",
       ".dl-inline>dt:not(:first-of-type) {padding-left: .5ex}\n",
       "</style><dl class=dl-inline><dt>1</dt><dd>-99.9872562881563</dd><dt>2</dt><dd>292.884345665446</dd></dl>\n"
      ],
      "text/latex": [
       "\\begin{description*}\n",
       "\\item[1] -99.9872562881563\n",
       "\\item[2] 292.884345665446\n",
       "\\end{description*}\n"
      ],
      "text/markdown": [
       "1\n",
       ":   -99.98725628815632\n",
       ":   292.884345665446\n",
       "\n"
      ],
      "text/plain": [
       "        1         2 \n",
       "-99.98726 292.88435 "
      ]
     },
     "metadata": {},
     "output_type": "display_data"
    },
    {
     "data": {
      "text/html": [
       "<table class=\"dataframe\">\n",
       "<caption>A data.frame: 2 × 4</caption>\n",
       "<thead>\n",
       "\t<tr><th scope=col>Age</th><th scope=col>Sex</th><th scope=col>Coverage</th><th scope=col>model_output</th></tr>\n",
       "\t<tr><th scope=col>&lt;dbl&gt;</th><th scope=col>&lt;chr&gt;</th><th scope=col>&lt;dbl&gt;</th><th scope=col>&lt;dbl&gt;</th></tr>\n",
       "</thead>\n",
       "<tbody>\n",
       "\t<tr><td>30</td><td>F</td><td>  0</td><td>-99.98726</td></tr>\n",
       "\t<tr><td>90</td><td>M</td><td>100</td><td>292.88435</td></tr>\n",
       "</tbody>\n",
       "</table>\n"
      ],
      "text/latex": [
       "A data.frame: 2 × 4\n",
       "\\begin{tabular}{llll}\n",
       " Age & Sex & Coverage & model\\_output\\\\\n",
       " <dbl> & <chr> & <dbl> & <dbl>\\\\\n",
       "\\hline\n",
       "\t 30 & F &   0 & -99.98726\\\\\n",
       "\t 90 & M & 100 & 292.88435\\\\\n",
       "\\end{tabular}\n"
      ],
      "text/markdown": [
       "\n",
       "A data.frame: 2 × 4\n",
       "\n",
       "| Age &lt;dbl&gt; | Sex &lt;chr&gt; | Coverage &lt;dbl&gt; | model_output &lt;dbl&gt; |\n",
       "|---|---|---|---|\n",
       "| 30 | F |   0 | -99.98726 |\n",
       "| 90 | M | 100 | 292.88435 |\n",
       "\n"
      ],
      "text/plain": [
       "  Age Sex Coverage model_output\n",
       "1 30  F     0      -99.98726   \n",
       "2 90  M   100      292.88435   "
      ]
     },
     "metadata": {},
     "output_type": "display_data"
    }
   ],
   "source": [
    "insurance_cost_model <- lm(Cost~Age+Sex+Coverage, data = AARP)\n",
    "\n",
    "new_inputs_1 <- data.frame(Age =c(30,90), Sex = c(\"F\",\"M\"),Coverage = c(0,100))\n",
    "\n",
    "predict(insurance_cost_model, newdata = new_inputs_1)\n",
    "\n",
    "evaluate_model(insurance_cost_model, data = new_inputs_1)"
   ]
  },
  {
   "cell_type": "code",
   "execution_count": 99,
   "id": "a46676d7",
   "metadata": {},
   "outputs": [
    {
     "data": {
      "text/html": [
       "<style>\n",
       ".dl-inline {width: auto; margin:0; padding: 0}\n",
       ".dl-inline>dt, .dl-inline>dd {float: none; width: auto; display: inline-block}\n",
       ".dl-inline>dt::after {content: \":\\0020\"; padding-right: .5ex}\n",
       ".dl-inline>dt:not(:first-of-type) {padding-left: .5ex}\n",
       "</style><dl class=dl-inline><dt>1</dt><dd>-99.9872562881563</dd><dt>2</dt><dd>101.115029426129</dd><dt>3</dt><dd>-89.7544785103785</dd><dt>4</dt><dd>111.347807203907</dd><dt>5</dt><dd>81.5492821733822</dd><dt>6</dt><dd>282.651567887668</dd><dt>7</dt><dd>91.7820599511599</dd><dt>8</dt><dd>292.884345665446</dd></dl>\n"
      ],
      "text/latex": [
       "\\begin{description*}\n",
       "\\item[1] -99.9872562881563\n",
       "\\item[2] 101.115029426129\n",
       "\\item[3] -89.7544785103785\n",
       "\\item[4] 111.347807203907\n",
       "\\item[5] 81.5492821733822\n",
       "\\item[6] 282.651567887668\n",
       "\\item[7] 91.7820599511599\n",
       "\\item[8] 292.884345665446\n",
       "\\end{description*}\n"
      ],
      "text/markdown": [
       "1\n",
       ":   -99.98725628815632\n",
       ":   101.1150294261293\n",
       ":   -89.75447851037854\n",
       ":   111.3478072039075\n",
       ":   81.54928217338226\n",
       ":   282.6515678876687\n",
       ":   91.78205995115998\n",
       ":   292.884345665446\n",
       "\n"
      ],
      "text/plain": [
       "        1         2         3         4         5         6         7         8 \n",
       "-99.98726 101.11503 -89.75448 111.34781  81.54928 282.65157  91.78206 292.88435 "
      ]
     },
     "metadata": {},
     "output_type": "display_data"
    },
    {
     "data": {
      "text/html": [
       "<table class=\"dataframe\">\n",
       "<caption>A data.frame: 8 × 4</caption>\n",
       "<thead>\n",
       "\t<tr><th scope=col>Age</th><th scope=col>Sex</th><th scope=col>Coverage</th><th scope=col>model_output</th></tr>\n",
       "\t<tr><th scope=col>&lt;dbl&gt;</th><th scope=col>&lt;fct&gt;</th><th scope=col>&lt;dbl&gt;</th><th scope=col>&lt;dbl&gt;</th></tr>\n",
       "</thead>\n",
       "<tbody>\n",
       "\t<tr><td>30</td><td>F</td><td>  0</td><td>-99.98726</td></tr>\n",
       "\t<tr><td>90</td><td>F</td><td>  0</td><td>101.11503</td></tr>\n",
       "\t<tr><td>30</td><td>M</td><td>  0</td><td>-89.75448</td></tr>\n",
       "\t<tr><td>90</td><td>M</td><td>  0</td><td>111.34781</td></tr>\n",
       "\t<tr><td>30</td><td>F</td><td>100</td><td> 81.54928</td></tr>\n",
       "\t<tr><td>90</td><td>F</td><td>100</td><td>282.65157</td></tr>\n",
       "\t<tr><td>30</td><td>M</td><td>100</td><td> 91.78206</td></tr>\n",
       "\t<tr><td>90</td><td>M</td><td>100</td><td>292.88435</td></tr>\n",
       "</tbody>\n",
       "</table>\n"
      ],
      "text/latex": [
       "A data.frame: 8 × 4\n",
       "\\begin{tabular}{llll}\n",
       " Age & Sex & Coverage & model\\_output\\\\\n",
       " <dbl> & <fct> & <dbl> & <dbl>\\\\\n",
       "\\hline\n",
       "\t 30 & F &   0 & -99.98726\\\\\n",
       "\t 90 & F &   0 & 101.11503\\\\\n",
       "\t 30 & M &   0 & -89.75448\\\\\n",
       "\t 90 & M &   0 & 111.34781\\\\\n",
       "\t 30 & F & 100 &  81.54928\\\\\n",
       "\t 90 & F & 100 & 282.65157\\\\\n",
       "\t 30 & M & 100 &  91.78206\\\\\n",
       "\t 90 & M & 100 & 292.88435\\\\\n",
       "\\end{tabular}\n"
      ],
      "text/markdown": [
       "\n",
       "A data.frame: 8 × 4\n",
       "\n",
       "| Age &lt;dbl&gt; | Sex &lt;fct&gt; | Coverage &lt;dbl&gt; | model_output &lt;dbl&gt; |\n",
       "|---|---|---|---|\n",
       "| 30 | F |   0 | -99.98726 |\n",
       "| 90 | F |   0 | 101.11503 |\n",
       "| 30 | M |   0 | -89.75448 |\n",
       "| 90 | M |   0 | 111.34781 |\n",
       "| 30 | F | 100 |  81.54928 |\n",
       "| 90 | F | 100 | 282.65157 |\n",
       "| 30 | M | 100 |  91.78206 |\n",
       "| 90 | M | 100 | 292.88435 |\n",
       "\n"
      ],
      "text/plain": [
       "  Age Sex Coverage model_output\n",
       "1 30  F     0      -99.98726   \n",
       "2 90  F     0      101.11503   \n",
       "3 30  M     0      -89.75448   \n",
       "4 90  M     0      111.34781   \n",
       "5 30  F   100       81.54928   \n",
       "6 90  F   100      282.65157   \n",
       "7 30  M   100       91.78206   \n",
       "8 90  M   100      292.88435   "
      ]
     },
     "metadata": {},
     "output_type": "display_data"
    }
   ],
   "source": [
    "new_inputs_2 <- expand.grid(Age =c(30,90), Sex = c(\"F\",\"M\"),Coverage = c(0,100))\n",
    "\n",
    "predict(insurance_cost_model, newdata = new_inputs_2)\n",
    "\n",
    "evaluate_model(insurance_cost_model, data = new_inputs_2)"
   ]
  },
  {
   "cell_type": "code",
   "execution_count": 100,
   "id": "186a679e",
   "metadata": {},
   "outputs": [
    {
     "data": {
      "text/html": [
       "<table class=\"dataframe\">\n",
       "<caption>A data.frame: 12 × 4</caption>\n",
       "<thead>\n",
       "\t<tr><th scope=col>Age</th><th scope=col>Sex</th><th scope=col>Coverage</th><th scope=col>model_output</th></tr>\n",
       "\t<tr><th scope=col>&lt;int&gt;</th><th scope=col>&lt;chr&gt;</th><th scope=col>&lt;dbl&gt;</th><th scope=col>&lt;dbl&gt;</th></tr>\n",
       "</thead>\n",
       "<tbody>\n",
       "\t<tr><td>40</td><td>F</td><td> 0</td><td>-66.4702087</td></tr>\n",
       "\t<tr><td>60</td><td>F</td><td> 0</td><td>  0.5638866</td></tr>\n",
       "\t<tr><td>80</td><td>F</td><td> 0</td><td> 67.5979818</td></tr>\n",
       "\t<tr><td>40</td><td>M</td><td> 0</td><td>-56.2374309</td></tr>\n",
       "\t<tr><td>60</td><td>M</td><td> 0</td><td> 10.7966643</td></tr>\n",
       "\t<tr><td>80</td><td>M</td><td> 0</td><td> 77.8307596</td></tr>\n",
       "\t<tr><td>40</td><td>F</td><td>50</td><td> 24.2980606</td></tr>\n",
       "\t<tr><td>60</td><td>F</td><td>50</td><td> 91.3321558</td></tr>\n",
       "\t<tr><td>80</td><td>F</td><td>50</td><td>158.3662510</td></tr>\n",
       "\t<tr><td>40</td><td>M</td><td>50</td><td> 34.5308383</td></tr>\n",
       "\t<tr><td>60</td><td>M</td><td>50</td><td>101.5649336</td></tr>\n",
       "\t<tr><td>80</td><td>M</td><td>50</td><td>168.5990288</td></tr>\n",
       "</tbody>\n",
       "</table>\n"
      ],
      "text/latex": [
       "A data.frame: 12 × 4\n",
       "\\begin{tabular}{llll}\n",
       " Age & Sex & Coverage & model\\_output\\\\\n",
       " <int> & <chr> & <dbl> & <dbl>\\\\\n",
       "\\hline\n",
       "\t 40 & F &  0 & -66.4702087\\\\\n",
       "\t 60 & F &  0 &   0.5638866\\\\\n",
       "\t 80 & F &  0 &  67.5979818\\\\\n",
       "\t 40 & M &  0 & -56.2374309\\\\\n",
       "\t 60 & M &  0 &  10.7966643\\\\\n",
       "\t 80 & M &  0 &  77.8307596\\\\\n",
       "\t 40 & F & 50 &  24.2980606\\\\\n",
       "\t 60 & F & 50 &  91.3321558\\\\\n",
       "\t 80 & F & 50 & 158.3662510\\\\\n",
       "\t 40 & M & 50 &  34.5308383\\\\\n",
       "\t 60 & M & 50 & 101.5649336\\\\\n",
       "\t 80 & M & 50 & 168.5990288\\\\\n",
       "\\end{tabular}\n"
      ],
      "text/markdown": [
       "\n",
       "A data.frame: 12 × 4\n",
       "\n",
       "| Age &lt;int&gt; | Sex &lt;chr&gt; | Coverage &lt;dbl&gt; | model_output &lt;dbl&gt; |\n",
       "|---|---|---|---|\n",
       "| 40 | F |  0 | -66.4702087 |\n",
       "| 60 | F |  0 |   0.5638866 |\n",
       "| 80 | F |  0 |  67.5979818 |\n",
       "| 40 | M |  0 | -56.2374309 |\n",
       "| 60 | M |  0 |  10.7966643 |\n",
       "| 80 | M |  0 |  77.8307596 |\n",
       "| 40 | F | 50 |  24.2980606 |\n",
       "| 60 | F | 50 |  91.3321558 |\n",
       "| 80 | F | 50 | 158.3662510 |\n",
       "| 40 | M | 50 |  34.5308383 |\n",
       "| 60 | M | 50 | 101.5649336 |\n",
       "| 80 | M | 50 | 168.5990288 |\n",
       "\n"
      ],
      "text/plain": [
       "   Age Sex Coverage model_output\n",
       "1  40  F    0       -66.4702087 \n",
       "2  60  F    0         0.5638866 \n",
       "3  80  F    0        67.5979818 \n",
       "4  40  M    0       -56.2374309 \n",
       "5  60  M    0        10.7966643 \n",
       "6  80  M    0        77.8307596 \n",
       "7  40  F   50        24.2980606 \n",
       "8  60  F   50        91.3321558 \n",
       "9  80  F   50       158.3662510 \n",
       "10 40  M   50        34.5308383 \n",
       "11 60  M   50       101.5649336 \n",
       "12 80  M   50       168.5990288 "
      ]
     },
     "metadata": {},
     "output_type": "display_data"
    }
   ],
   "source": [
    "evaluate_model(insurance_cost_model)"
   ]
  },
  {
   "cell_type": "code",
   "execution_count": 102,
   "id": "5e52d1d6",
   "metadata": {},
   "outputs": [
    {
     "data": {
      "image/png": "[encoded data removed]",
      "text/plain": [
       "plot without title"
      ]
     },
     "metadata": {
      "image/png": {
       "height": 420,
       "width": 420
      }
     },
     "output_type": "display_data"
    }
   ],
   "source": [
    "fmodel(insurance_cost_model, ~ Coverage + Age + Sex)"
   ]
  },
  {
   "cell_type": "code",
   "execution_count": null,
   "id": "5367c405",
   "metadata": {},
   "outputs": [],
   "source": []
  },
  {
   "cell_type": "code",
   "execution_count": 103,
   "id": "e3c5015a",
   "metadata": {},
   "outputs": [],
   "source": [
    "# Get Model Performance"
   ]
  },
  {
   "cell_type": "code",
   "execution_count": 106,
   "id": "41f61221",
   "metadata": {},
   "outputs": [],
   "source": [
    "Runners_100 <- read.csv('sampledata//Runners100.csv')"
   ]
  },
  {
   "cell_type": "code",
   "execution_count": 107,
   "id": "94b744fc",
   "metadata": {},
   "outputs": [
    {
     "data": {
      "text/html": [
       "<style>\n",
       ".list-inline {list-style: none; margin:0; padding: 0}\n",
       ".list-inline>li {display: inline-block}\n",
       ".list-inline>li:not(:last-child)::after {content: \"\\00b7\"; padding: 0 .5ex}\n",
       "</style>\n",
       "<ol class=list-inline><li>100</li><li>9</li></ol>\n"
      ],
      "text/latex": [
       "\\begin{enumerate*}\n",
       "\\item 100\n",
       "\\item 9\n",
       "\\end{enumerate*}\n"
      ],
      "text/markdown": [
       "1. 100\n",
       "2. 9\n",
       "\n",
       "\n"
      ],
      "text/plain": [
       "[1] 100   9"
      ]
     },
     "metadata": {},
     "output_type": "display_data"
    }
   ],
   "source": [
    "dim(Runners_100)"
   ]
  },
  {
   "cell_type": "code",
   "execution_count": 108,
   "id": "2abcab99",
   "metadata": {},
   "outputs": [
    {
     "data": {
      "text/html": [
       "<table class=\"dataframe\">\n",
       "<caption>A data.frame: 6 × 9</caption>\n",
       "<thead>\n",
       "\t<tr><th></th><th scope=col>age</th><th scope=col>net</th><th scope=col>gun</th><th scope=col>sex</th><th scope=col>year</th><th scope=col>previous</th><th scope=col>nruns</th><th scope=col>start_position</th><th scope=col>orig.id</th></tr>\n",
       "\t<tr><th></th><th scope=col>&lt;int&gt;</th><th scope=col>&lt;dbl&gt;</th><th scope=col>&lt;dbl&gt;</th><th scope=col>&lt;chr&gt;</th><th scope=col>&lt;int&gt;</th><th scope=col>&lt;int&gt;</th><th scope=col>&lt;int&gt;</th><th scope=col>&lt;chr&gt;</th><th scope=col>&lt;int&gt;</th></tr>\n",
       "</thead>\n",
       "<tbody>\n",
       "\t<tr><th scope=row>1</th><td>54</td><td>90.00</td><td> 90.28</td><td>F</td><td>2004</td><td>5</td><td>9</td><td>eager </td><td> 5035</td></tr>\n",
       "\t<tr><th scope=row>2</th><td>27</td><td>74.22</td><td> 75.08</td><td>M</td><td>2001</td><td>1</td><td>8</td><td>eager </td><td>   10</td></tr>\n",
       "\t<tr><th scope=row>3</th><td>24</td><td>90.85</td><td> 93.55</td><td>F</td><td>2000</td><td>0</td><td>4</td><td>calm  </td><td> 9271</td></tr>\n",
       "\t<tr><th scope=row>4</th><td>39</td><td>91.70</td><td> 95.18</td><td>F</td><td>2004</td><td>1</td><td>3</td><td>mellow</td><td>  256</td></tr>\n",
       "\t<tr><th scope=row>5</th><td>52</td><td>94.13</td><td> 99.40</td><td>M</td><td>2005</td><td>1</td><td>4</td><td>mellow</td><td> 1175</td></tr>\n",
       "\t<tr><th scope=row>6</th><td>28</td><td>99.13</td><td>105.60</td><td>M</td><td>2003</td><td>1</td><td>5</td><td>mellow</td><td>17334</td></tr>\n",
       "</tbody>\n",
       "</table>\n"
      ],
      "text/latex": [
       "A data.frame: 6 × 9\n",
       "\\begin{tabular}{r|lllllllll}\n",
       "  & age & net & gun & sex & year & previous & nruns & start\\_position & orig.id\\\\\n",
       "  & <int> & <dbl> & <dbl> & <chr> & <int> & <int> & <int> & <chr> & <int>\\\\\n",
       "\\hline\n",
       "\t1 & 54 & 90.00 &  90.28 & F & 2004 & 5 & 9 & eager  &  5035\\\\\n",
       "\t2 & 27 & 74.22 &  75.08 & M & 2001 & 1 & 8 & eager  &    10\\\\\n",
       "\t3 & 24 & 90.85 &  93.55 & F & 2000 & 0 & 4 & calm   &  9271\\\\\n",
       "\t4 & 39 & 91.70 &  95.18 & F & 2004 & 1 & 3 & mellow &   256\\\\\n",
       "\t5 & 52 & 94.13 &  99.40 & M & 2005 & 1 & 4 & mellow &  1175\\\\\n",
       "\t6 & 28 & 99.13 & 105.60 & M & 2003 & 1 & 5 & mellow & 17334\\\\\n",
       "\\end{tabular}\n"
      ],
      "text/markdown": [
       "\n",
       "A data.frame: 6 × 9\n",
       "\n",
       "| <!--/--> | age &lt;int&gt; | net &lt;dbl&gt; | gun &lt;dbl&gt; | sex &lt;chr&gt; | year &lt;int&gt; | previous &lt;int&gt; | nruns &lt;int&gt; | start_position &lt;chr&gt; | orig.id &lt;int&gt; |\n",
       "|---|---|---|---|---|---|---|---|---|---|\n",
       "| 1 | 54 | 90.00 |  90.28 | F | 2004 | 5 | 9 | eager  |  5035 |\n",
       "| 2 | 27 | 74.22 |  75.08 | M | 2001 | 1 | 8 | eager  |    10 |\n",
       "| 3 | 24 | 90.85 |  93.55 | F | 2000 | 0 | 4 | calm   |  9271 |\n",
       "| 4 | 39 | 91.70 |  95.18 | F | 2004 | 1 | 3 | mellow |   256 |\n",
       "| 5 | 52 | 94.13 |  99.40 | M | 2005 | 1 | 4 | mellow |  1175 |\n",
       "| 6 | 28 | 99.13 | 105.60 | M | 2003 | 1 | 5 | mellow | 17334 |\n",
       "\n"
      ],
      "text/plain": [
       "  age net   gun    sex year previous nruns start_position orig.id\n",
       "1 54  90.00  90.28 F   2004 5        9     eager           5035  \n",
       "2 27  74.22  75.08 M   2001 1        8     eager             10  \n",
       "3 24  90.85  93.55 F   2000 0        4     calm            9271  \n",
       "4 39  91.70  95.18 F   2004 1        3     mellow           256  \n",
       "5 52  94.13  99.40 M   2005 1        4     mellow          1175  \n",
       "6 28  99.13 105.60 M   2003 1        5     mellow         17334  "
      ]
     },
     "metadata": {},
     "output_type": "display_data"
    }
   ],
   "source": [
    "head(Runners_100)"
   ]
  },
  {
   "cell_type": "code",
   "execution_count": 109,
   "id": "b1e73c67",
   "metadata": {},
   "outputs": [],
   "source": [
    "# Build a model of net running time\n",
    "\n",
    "base_model <- lm(net ~ age + sex, data = Runners_100)"
   ]
  },
  {
   "cell_type": "code",
   "execution_count": 112,
   "id": "0fe732f1",
   "metadata": {},
   "outputs": [],
   "source": [
    "# Evaluate base_model on the training data\n",
    "base_model_output <- predict(base_model, newdata = Runners_100)"
   ]
  },
  {
   "cell_type": "code",
   "execution_count": 113,
   "id": "753061f8",
   "metadata": {},
   "outputs": [],
   "source": [
    "# Build the augmented model\n",
    "aug_model <- lm(net ~ age + sex + previous, data = Runners_100)"
   ]
  },
  {
   "cell_type": "code",
   "execution_count": 114,
   "id": "cb002cb4",
   "metadata": {},
   "outputs": [],
   "source": [
    "# Evaluate aug_model on the training data\n",
    "aug_model_output <- predict(aug_model, newdata = Runners_100)"
   ]
  },
  {
   "cell_type": "code",
   "execution_count": 116,
   "id": "62089284",
   "metadata": {},
   "outputs": [
    {
     "data": {
      "text/html": [
       "0.51579209929211"
      ],
      "text/latex": [
       "0.51579209929211"
      ],
      "text/markdown": [
       "0.51579209929211"
      ],
      "text/plain": [
       "[1] 0.5157921"
      ]
     },
     "metadata": {},
     "output_type": "display_data"
    }
   ],
   "source": [
    "# How much do the model outputs differ?\n",
    "\n",
    "mean((base_model_output - aug_model_output) ^ 2, na.rm = TRUE)"
   ]
  },
  {
   "cell_type": "code",
   "execution_count": 118,
   "id": "2d345abd",
   "metadata": {},
   "outputs": [],
   "source": [
    "## Prediction performance"
   ]
  },
  {
   "cell_type": "code",
   "execution_count": 120,
   "id": "a91d3a25",
   "metadata": {},
   "outputs": [],
   "source": [
    "# Build and evaluate the base model on Runners_100\n",
    "base_model <- lm(net ~ age + sex, data = Runners_100)\n",
    "base_model_output <- predict(base_model, newdata = Runners_100)"
   ]
  },
  {
   "cell_type": "code",
   "execution_count": 121,
   "id": "2915d64f",
   "metadata": {},
   "outputs": [],
   "source": [
    "# Build and evaluate the augmented model on Runners_100\n",
    "aug_model <- lm(net ~ age+sex+previous, data=Runners_100)\n",
    "aug_model_output <- predict(aug_model, data=Runners_100)"
   ]
  },
  {
   "cell_type": "code",
   "execution_count": 122,
   "id": "99fec918",
   "metadata": {},
   "outputs": [],
   "source": [
    "# Find the case-by-case differences\n",
    "base_model_differences <- with(Runners_100, net - base_model_output)\n",
    "aug_model_differences <- with(Runners_100,net-aug_model_output)"
   ]
  },
  {
   "cell_type": "code",
   "execution_count": 124,
   "id": "1965d0f5",
   "metadata": {},
   "outputs": [
    {
     "data": {
      "text/html": [
       "131.559431797163"
      ],
      "text/latex": [
       "131.559431797163"
      ],
      "text/markdown": [
       "131.559431797163"
      ],
      "text/plain": [
       "[1] 131.5594"
      ]
     },
     "metadata": {},
     "output_type": "display_data"
    }
   ],
   "source": [
    "# Calculate mean square errors\n",
    "mean(base_model_differences ^ 2)"
   ]
  },
  {
   "cell_type": "code",
   "execution_count": 125,
   "id": "a0815a34",
   "metadata": {},
   "outputs": [
    {
     "data": {
      "text/html": [
       "131.043639697871"
      ],
      "text/latex": [
       "131.043639697871"
      ],
      "text/markdown": [
       "131.043639697871"
      ],
      "text/plain": [
       "[1] 131.0436"
      ]
     },
     "metadata": {},
     "output_type": "display_data"
    }
   ],
   "source": [
    "mean(aug_model_differences ^ 2)"
   ]
  },
  {
   "cell_type": "code",
   "execution_count": null,
   "id": "394bdbd5",
   "metadata": {},
   "outputs": [],
   "source": []
  },
  {
   "cell_type": "code",
   "execution_count": 127,
   "id": "6509dae3",
   "metadata": {},
   "outputs": [
    {
     "data": {
      "text/html": [
       "<style>\n",
       ".list-inline {list-style: none; margin:0; padding: 0}\n",
       ".list-inline>li {display: inline-block}\n",
       ".list-inline>li:not(:last-child)::after {content: \"\\00b7\"; padding: 0 .5ex}\n",
       "</style>\n",
       "<ol class=list-inline><li>534</li><li>11</li></ol>\n"
      ],
      "text/latex": [
       "\\begin{enumerate*}\n",
       "\\item 534\n",
       "\\item 11\n",
       "\\end{enumerate*}\n"
      ],
      "text/markdown": [
       "1. 534\n",
       "2. 11\n",
       "\n",
       "\n"
      ],
      "text/plain": [
       "[1] 534  11"
      ]
     },
     "metadata": {},
     "output_type": "display_data"
    }
   ],
   "source": [
    "dim(CPS85)"
   ]
  },
  {
   "cell_type": "code",
   "execution_count": 128,
   "id": "f806bc57",
   "metadata": {},
   "outputs": [
    {
     "data": {
      "text/html": [
       "<table class=\"dataframe\">\n",
       "<caption>A data.frame: 6 × 11</caption>\n",
       "<thead>\n",
       "\t<tr><th></th><th scope=col>wage</th><th scope=col>educ</th><th scope=col>race</th><th scope=col>sex</th><th scope=col>hispanic</th><th scope=col>south</th><th scope=col>married</th><th scope=col>exper</th><th scope=col>union</th><th scope=col>age</th><th scope=col>sector</th></tr>\n",
       "\t<tr><th></th><th scope=col>&lt;dbl&gt;</th><th scope=col>&lt;int&gt;</th><th scope=col>&lt;fct&gt;</th><th scope=col>&lt;fct&gt;</th><th scope=col>&lt;fct&gt;</th><th scope=col>&lt;fct&gt;</th><th scope=col>&lt;fct&gt;</th><th scope=col>&lt;int&gt;</th><th scope=col>&lt;fct&gt;</th><th scope=col>&lt;int&gt;</th><th scope=col>&lt;fct&gt;</th></tr>\n",
       "</thead>\n",
       "<tbody>\n",
       "\t<tr><th scope=row>1</th><td> 9.0</td><td>10</td><td>W</td><td>M</td><td>NH</td><td>NS</td><td>Married</td><td>27</td><td>Not  </td><td>43</td><td>const   </td></tr>\n",
       "\t<tr><th scope=row>2</th><td> 5.5</td><td>12</td><td>W</td><td>M</td><td>NH</td><td>NS</td><td>Married</td><td>20</td><td>Not  </td><td>38</td><td>sales   </td></tr>\n",
       "\t<tr><th scope=row>3</th><td> 3.8</td><td>12</td><td>W</td><td>F</td><td>NH</td><td>NS</td><td>Single </td><td> 4</td><td>Not  </td><td>22</td><td>sales   </td></tr>\n",
       "\t<tr><th scope=row>4</th><td>10.5</td><td>12</td><td>W</td><td>F</td><td>NH</td><td>NS</td><td>Married</td><td>29</td><td>Not  </td><td>47</td><td>clerical</td></tr>\n",
       "\t<tr><th scope=row>5</th><td>15.0</td><td>12</td><td>W</td><td>M</td><td>NH</td><td>NS</td><td>Married</td><td>40</td><td>Union</td><td>58</td><td>const   </td></tr>\n",
       "\t<tr><th scope=row>6</th><td> 9.0</td><td>16</td><td>W</td><td>F</td><td>NH</td><td>NS</td><td>Married</td><td>27</td><td>Not  </td><td>49</td><td>clerical</td></tr>\n",
       "</tbody>\n",
       "</table>\n"
      ],
      "text/latex": [
       "A data.frame: 6 × 11\n",
       "\\begin{tabular}{r|lllllllllll}\n",
       "  & wage & educ & race & sex & hispanic & south & married & exper & union & age & sector\\\\\n",
       "  & <dbl> & <int> & <fct> & <fct> & <fct> & <fct> & <fct> & <int> & <fct> & <int> & <fct>\\\\\n",
       "\\hline\n",
       "\t1 &  9.0 & 10 & W & M & NH & NS & Married & 27 & Not   & 43 & const   \\\\\n",
       "\t2 &  5.5 & 12 & W & M & NH & NS & Married & 20 & Not   & 38 & sales   \\\\\n",
       "\t3 &  3.8 & 12 & W & F & NH & NS & Single  &  4 & Not   & 22 & sales   \\\\\n",
       "\t4 & 10.5 & 12 & W & F & NH & NS & Married & 29 & Not   & 47 & clerical\\\\\n",
       "\t5 & 15.0 & 12 & W & M & NH & NS & Married & 40 & Union & 58 & const   \\\\\n",
       "\t6 &  9.0 & 16 & W & F & NH & NS & Married & 27 & Not   & 49 & clerical\\\\\n",
       "\\end{tabular}\n"
      ],
      "text/markdown": [
       "\n",
       "A data.frame: 6 × 11\n",
       "\n",
       "| <!--/--> | wage &lt;dbl&gt; | educ &lt;int&gt; | race &lt;fct&gt; | sex &lt;fct&gt; | hispanic &lt;fct&gt; | south &lt;fct&gt; | married &lt;fct&gt; | exper &lt;int&gt; | union &lt;fct&gt; | age &lt;int&gt; | sector &lt;fct&gt; |\n",
       "|---|---|---|---|---|---|---|---|---|---|---|---|\n",
       "| 1 |  9.0 | 10 | W | M | NH | NS | Married | 27 | Not   | 43 | const    |\n",
       "| 2 |  5.5 | 12 | W | M | NH | NS | Married | 20 | Not   | 38 | sales    |\n",
       "| 3 |  3.8 | 12 | W | F | NH | NS | Single  |  4 | Not   | 22 | sales    |\n",
       "| 4 | 10.5 | 12 | W | F | NH | NS | Married | 29 | Not   | 47 | clerical |\n",
       "| 5 | 15.0 | 12 | W | M | NH | NS | Married | 40 | Union | 58 | const    |\n",
       "| 6 |  9.0 | 16 | W | F | NH | NS | Married | 27 | Not   | 49 | clerical |\n",
       "\n"
      ],
      "text/plain": [
       "  wage educ race sex hispanic south married exper union age sector  \n",
       "1  9.0 10   W    M   NH       NS    Married 27    Not   43  const   \n",
       "2  5.5 12   W    M   NH       NS    Married 20    Not   38  sales   \n",
       "3  3.8 12   W    F   NH       NS    Single   4    Not   22  sales   \n",
       "4 10.5 12   W    F   NH       NS    Married 29    Not   47  clerical\n",
       "5 15.0 12   W    M   NH       NS    Married 40    Union 58  const   \n",
       "6  9.0 16   W    F   NH       NS    Married 27    Not   49  clerical"
      ]
     },
     "metadata": {},
     "output_type": "display_data"
    }
   ],
   "source": [
    "head(CPS85)"
   ]
  },
  {
   "cell_type": "code",
   "execution_count": 129,
   "id": "672099b3",
   "metadata": {},
   "outputs": [],
   "source": [
    "CPS85$bogus <- rnorm(nrow(CPS85)) > 0"
   ]
  },
  {
   "cell_type": "code",
   "execution_count": 136,
   "id": "7546de5e",
   "metadata": {},
   "outputs": [
    {
     "data": {
      "text/html": [
       "<table class=\"dataframe\">\n",
       "<caption>A data.frame: 4 × 12</caption>\n",
       "<thead>\n",
       "\t<tr><th></th><th scope=col>wage</th><th scope=col>educ</th><th scope=col>race</th><th scope=col>sex</th><th scope=col>hispanic</th><th scope=col>south</th><th scope=col>married</th><th scope=col>exper</th><th scope=col>union</th><th scope=col>age</th><th scope=col>sector</th><th scope=col>bogus</th></tr>\n",
       "\t<tr><th></th><th scope=col>&lt;dbl&gt;</th><th scope=col>&lt;int&gt;</th><th scope=col>&lt;fct&gt;</th><th scope=col>&lt;fct&gt;</th><th scope=col>&lt;fct&gt;</th><th scope=col>&lt;fct&gt;</th><th scope=col>&lt;fct&gt;</th><th scope=col>&lt;int&gt;</th><th scope=col>&lt;fct&gt;</th><th scope=col>&lt;int&gt;</th><th scope=col>&lt;fct&gt;</th><th scope=col>&lt;lgl&gt;</th></tr>\n",
       "</thead>\n",
       "<tbody>\n",
       "\t<tr><th scope=row>1</th><td> 9.0</td><td>10</td><td>W</td><td>M</td><td>NH</td><td>NS</td><td>Married</td><td>27</td><td>Not</td><td>43</td><td>const   </td><td> TRUE</td></tr>\n",
       "\t<tr><th scope=row>2</th><td> 5.5</td><td>12</td><td>W</td><td>M</td><td>NH</td><td>NS</td><td>Married</td><td>20</td><td>Not</td><td>38</td><td>sales   </td><td> TRUE</td></tr>\n",
       "\t<tr><th scope=row>3</th><td> 3.8</td><td>12</td><td>W</td><td>F</td><td>NH</td><td>NS</td><td>Single </td><td> 4</td><td>Not</td><td>22</td><td>sales   </td><td>FALSE</td></tr>\n",
       "\t<tr><th scope=row>4</th><td>10.5</td><td>12</td><td>W</td><td>F</td><td>NH</td><td>NS</td><td>Married</td><td>29</td><td>Not</td><td>47</td><td>clerical</td><td>FALSE</td></tr>\n",
       "</tbody>\n",
       "</table>\n"
      ],
      "text/latex": [
       "A data.frame: 4 × 12\n",
       "\\begin{tabular}{r|llllllllllll}\n",
       "  & wage & educ & race & sex & hispanic & south & married & exper & union & age & sector & bogus\\\\\n",
       "  & <dbl> & <int> & <fct> & <fct> & <fct> & <fct> & <fct> & <int> & <fct> & <int> & <fct> & <lgl>\\\\\n",
       "\\hline\n",
       "\t1 &  9.0 & 10 & W & M & NH & NS & Married & 27 & Not & 43 & const    &  TRUE\\\\\n",
       "\t2 &  5.5 & 12 & W & M & NH & NS & Married & 20 & Not & 38 & sales    &  TRUE\\\\\n",
       "\t3 &  3.8 & 12 & W & F & NH & NS & Single  &  4 & Not & 22 & sales    & FALSE\\\\\n",
       "\t4 & 10.5 & 12 & W & F & NH & NS & Married & 29 & Not & 47 & clerical & FALSE\\\\\n",
       "\\end{tabular}\n"
      ],
      "text/markdown": [
       "\n",
       "A data.frame: 4 × 12\n",
       "\n",
       "| <!--/--> | wage &lt;dbl&gt; | educ &lt;int&gt; | race &lt;fct&gt; | sex &lt;fct&gt; | hispanic &lt;fct&gt; | south &lt;fct&gt; | married &lt;fct&gt; | exper &lt;int&gt; | union &lt;fct&gt; | age &lt;int&gt; | sector &lt;fct&gt; | bogus &lt;lgl&gt; |\n",
       "|---|---|---|---|---|---|---|---|---|---|---|---|---|\n",
       "| 1 |  9.0 | 10 | W | M | NH | NS | Married | 27 | Not | 43 | const    |  TRUE |\n",
       "| 2 |  5.5 | 12 | W | M | NH | NS | Married | 20 | Not | 38 | sales    |  TRUE |\n",
       "| 3 |  3.8 | 12 | W | F | NH | NS | Single  |  4 | Not | 22 | sales    | FALSE |\n",
       "| 4 | 10.5 | 12 | W | F | NH | NS | Married | 29 | Not | 47 | clerical | FALSE |\n",
       "\n"
      ],
      "text/plain": [
       "  wage educ race sex hispanic south married exper union age sector   bogus\n",
       "1  9.0 10   W    M   NH       NS    Married 27    Not   43  const     TRUE\n",
       "2  5.5 12   W    M   NH       NS    Married 20    Not   38  sales     TRUE\n",
       "3  3.8 12   W    F   NH       NS    Single   4    Not   22  sales    FALSE\n",
       "4 10.5 12   W    F   NH       NS    Married 29    Not   47  clerical FALSE"
      ]
     },
     "metadata": {},
     "output_type": "display_data"
    }
   ],
   "source": [
    "head(CPS85,4)"
   ]
  },
  {
   "cell_type": "code",
   "execution_count": 137,
   "id": "011f9e4e",
   "metadata": {},
   "outputs": [],
   "source": [
    "# Make the base model\n",
    "base_model <- lm(wage ~ educ+sector+sex, data = CPS85)"
   ]
  },
  {
   "cell_type": "code",
   "execution_count": 138,
   "id": "8202b6c2",
   "metadata": {},
   "outputs": [],
   "source": [
    "# Make the bogus augmented model\n",
    "aug_model <- lm(wage ~ educ+sector+sex+ bogus, data = CPS85)"
   ]
  },
  {
   "cell_type": "code",
   "execution_count": 139,
   "id": "e56904fb",
   "metadata": {},
   "outputs": [
    {
     "data": {
      "text/html": [
       "19.7330813934437"
      ],
      "text/latex": [
       "19.7330813934437"
      ],
      "text/markdown": [
       "19.7330813934437"
      ],
      "text/plain": [
       "[1] 19.73308"
      ]
     },
     "metadata": {},
     "output_type": "display_data"
    }
   ],
   "source": [
    "# Find the MSE of the base model\n",
    "mean((CPS85$wage - predict(base_model, newdata = CPS85)) ^ 2)"
   ]
  },
  {
   "cell_type": "code",
   "execution_count": 141,
   "id": "4bb030b9",
   "metadata": {},
   "outputs": [
    {
     "data": {
      "text/html": [
       "19.7219565355991"
      ],
      "text/latex": [
       "19.7219565355991"
      ],
      "text/markdown": [
       "19.7219565355991"
      ],
      "text/plain": [
       "[1] 19.72196"
      ]
     },
     "metadata": {},
     "output_type": "display_data"
    }
   ],
   "source": [
    "# Find the MSE of the augmented model\n",
    "mean((CPS85$wage - predict(aug_model, newdata = CPS85)) ^ 2)"
   ]
  },
  {
   "cell_type": "code",
   "execution_count": null,
   "id": "ddac1a5e",
   "metadata": {},
   "outputs": [],
   "source": [
    "## Testing and training datasets"
   ]
  },
  {
   "cell_type": "code",
   "execution_count": 150,
   "id": "9b3da234",
   "metadata": {},
   "outputs": [],
   "source": [
    "Runners_100$training_cases <- rnorm(nrow(Runners_100)) > 0"
   ]
  },
  {
   "cell_type": "code",
   "execution_count": 151,
   "id": "b0aaaeae",
   "metadata": {},
   "outputs": [
    {
     "data": {
      "text/html": [
       "<table class=\"dataframe\">\n",
       "<caption>A data.frame: 6 × 10</caption>\n",
       "<thead>\n",
       "\t<tr><th></th><th scope=col>age</th><th scope=col>net</th><th scope=col>gun</th><th scope=col>sex</th><th scope=col>year</th><th scope=col>previous</th><th scope=col>nruns</th><th scope=col>start_position</th><th scope=col>orig.id</th><th scope=col>training_cases</th></tr>\n",
       "\t<tr><th></th><th scope=col>&lt;int&gt;</th><th scope=col>&lt;dbl&gt;</th><th scope=col>&lt;dbl&gt;</th><th scope=col>&lt;chr&gt;</th><th scope=col>&lt;int&gt;</th><th scope=col>&lt;int&gt;</th><th scope=col>&lt;int&gt;</th><th scope=col>&lt;chr&gt;</th><th scope=col>&lt;int&gt;</th><th scope=col>&lt;lgl&gt;</th></tr>\n",
       "</thead>\n",
       "<tbody>\n",
       "\t<tr><th scope=row>1</th><td>54</td><td>90.00</td><td> 90.28</td><td>F</td><td>2004</td><td>5</td><td>9</td><td>eager </td><td> 5035</td><td> TRUE</td></tr>\n",
       "\t<tr><th scope=row>2</th><td>27</td><td>74.22</td><td> 75.08</td><td>M</td><td>2001</td><td>1</td><td>8</td><td>eager </td><td>   10</td><td> TRUE</td></tr>\n",
       "\t<tr><th scope=row>3</th><td>24</td><td>90.85</td><td> 93.55</td><td>F</td><td>2000</td><td>0</td><td>4</td><td>calm  </td><td> 9271</td><td> TRUE</td></tr>\n",
       "\t<tr><th scope=row>4</th><td>39</td><td>91.70</td><td> 95.18</td><td>F</td><td>2004</td><td>1</td><td>3</td><td>mellow</td><td>  256</td><td>FALSE</td></tr>\n",
       "\t<tr><th scope=row>5</th><td>52</td><td>94.13</td><td> 99.40</td><td>M</td><td>2005</td><td>1</td><td>4</td><td>mellow</td><td> 1175</td><td> TRUE</td></tr>\n",
       "\t<tr><th scope=row>6</th><td>28</td><td>99.13</td><td>105.60</td><td>M</td><td>2003</td><td>1</td><td>5</td><td>mellow</td><td>17334</td><td> TRUE</td></tr>\n",
       "</tbody>\n",
       "</table>\n"
      ],
      "text/latex": [
       "A data.frame: 6 × 10\n",
       "\\begin{tabular}{r|llllllllll}\n",
       "  & age & net & gun & sex & year & previous & nruns & start\\_position & orig.id & training\\_cases\\\\\n",
       "  & <int> & <dbl> & <dbl> & <chr> & <int> & <int> & <int> & <chr> & <int> & <lgl>\\\\\n",
       "\\hline\n",
       "\t1 & 54 & 90.00 &  90.28 & F & 2004 & 5 & 9 & eager  &  5035 &  TRUE\\\\\n",
       "\t2 & 27 & 74.22 &  75.08 & M & 2001 & 1 & 8 & eager  &    10 &  TRUE\\\\\n",
       "\t3 & 24 & 90.85 &  93.55 & F & 2000 & 0 & 4 & calm   &  9271 &  TRUE\\\\\n",
       "\t4 & 39 & 91.70 &  95.18 & F & 2004 & 1 & 3 & mellow &   256 & FALSE\\\\\n",
       "\t5 & 52 & 94.13 &  99.40 & M & 2005 & 1 & 4 & mellow &  1175 &  TRUE\\\\\n",
       "\t6 & 28 & 99.13 & 105.60 & M & 2003 & 1 & 5 & mellow & 17334 &  TRUE\\\\\n",
       "\\end{tabular}\n"
      ],
      "text/markdown": [
       "\n",
       "A data.frame: 6 × 10\n",
       "\n",
       "| <!--/--> | age &lt;int&gt; | net &lt;dbl&gt; | gun &lt;dbl&gt; | sex &lt;chr&gt; | year &lt;int&gt; | previous &lt;int&gt; | nruns &lt;int&gt; | start_position &lt;chr&gt; | orig.id &lt;int&gt; | training_cases &lt;lgl&gt; |\n",
       "|---|---|---|---|---|---|---|---|---|---|---|\n",
       "| 1 | 54 | 90.00 |  90.28 | F | 2004 | 5 | 9 | eager  |  5035 |  TRUE |\n",
       "| 2 | 27 | 74.22 |  75.08 | M | 2001 | 1 | 8 | eager  |    10 |  TRUE |\n",
       "| 3 | 24 | 90.85 |  93.55 | F | 2000 | 0 | 4 | calm   |  9271 |  TRUE |\n",
       "| 4 | 39 | 91.70 |  95.18 | F | 2004 | 1 | 3 | mellow |   256 | FALSE |\n",
       "| 5 | 52 | 94.13 |  99.40 | M | 2005 | 1 | 4 | mellow |  1175 |  TRUE |\n",
       "| 6 | 28 | 99.13 | 105.60 | M | 2003 | 1 | 5 | mellow | 17334 |  TRUE |\n",
       "\n"
      ],
      "text/plain": [
       "  age net   gun    sex year previous nruns start_position orig.id\n",
       "1 54  90.00  90.28 F   2004 5        9     eager           5035  \n",
       "2 27  74.22  75.08 M   2001 1        8     eager             10  \n",
       "3 24  90.85  93.55 F   2000 0        4     calm            9271  \n",
       "4 39  91.70  95.18 F   2004 1        3     mellow           256  \n",
       "5 52  94.13  99.40 M   2005 1        4     mellow          1175  \n",
       "6 28  99.13 105.60 M   2003 1        5     mellow         17334  \n",
       "  training_cases\n",
       "1  TRUE         \n",
       "2  TRUE         \n",
       "3  TRUE         \n",
       "4 FALSE         \n",
       "5  TRUE         \n",
       "6  TRUE         "
      ]
     },
     "metadata": {},
     "output_type": "display_data"
    }
   ],
   "source": [
    "head(Runners_100)"
   ]
  },
  {
   "cell_type": "code",
   "execution_count": 152,
   "id": "c882ee29",
   "metadata": {},
   "outputs": [],
   "source": [
    "# Build base model net ~ age + sex with training cases\n",
    "base_model <- lm(net~age+sex, data = subset(Runners_100, training_cases))"
   ]
  },
  {
   "cell_type": "code",
   "execution_count": 154,
   "id": "5401f965",
   "metadata": {},
   "outputs": [],
   "source": [
    "# Evaluate the model for the testing cases\n",
    "Preds <- evaluate_model(base_model, data = subset(Runners_100,!training_cases))"
   ]
  },
  {
   "cell_type": "code",
   "execution_count": 156,
   "id": "efaa99a4",
   "metadata": {},
   "outputs": [
    {
     "data": {
      "text/html": [
       "140.146814084262"
      ],
      "text/latex": [
       "140.146814084262"
      ],
      "text/markdown": [
       "140.146814084262"
      ],
      "text/plain": [
       "[1] 140.1468"
      ]
     },
     "metadata": {},
     "output_type": "display_data"
    }
   ],
   "source": [
    "# Calculate the MSE on the testing data\n",
    "with(data = Preds, mean((net - Preds$model_output)^2))"
   ]
  },
  {
   "cell_type": "code",
   "execution_count": null,
   "id": "4972f00c",
   "metadata": {},
   "outputs": [],
   "source": [
    "# Repeating random trials"
   ]
  },
  {
   "cell_type": "code",
   "execution_count": 163,
   "id": "c4fdb63f",
   "metadata": {},
   "outputs": [],
   "source": [
    "# The model\n",
    "model <- lm(net ~ age + sex, data = Runners_100)"
   ]
  },
  {
   "cell_type": "code",
   "execution_count": 164,
   "id": "246c8b93",
   "metadata": {},
   "outputs": [],
   "source": [
    "in_sample <- evaluate_model(model, data = Runners_100)\n",
    "\n",
    "in_sample_error <- with(in_sample, mean((net - model_output)^2, na.rm = TRUE))"
   ]
  },
  {
   "cell_type": "code",
   "execution_count": 166,
   "id": "89e3403e",
   "metadata": {},
   "outputs": [],
   "source": [
    "# Calculate MSE for many different trials\n",
    "trials <- cv_pred_error(model)"
   ]
  },
  {
   "cell_type": "code",
   "execution_count": 167,
   "id": "89d2a5dd",
   "metadata": {},
   "outputs": [
    {
     "data": {
      "text/html": [
       "<table class=\"dataframe\">\n",
       "<caption>A data.frame: 5 × 2</caption>\n",
       "<thead>\n",
       "\t<tr><th scope=col>mse</th><th scope=col>model</th></tr>\n",
       "\t<tr><th scope=col>&lt;dbl&gt;</th><th scope=col>&lt;chr&gt;</th></tr>\n",
       "</thead>\n",
       "<tbody>\n",
       "\t<tr><td>141.1940</td><td>model</td></tr>\n",
       "\t<tr><td>138.5841</td><td>model</td></tr>\n",
       "\t<tr><td>138.4227</td><td>model</td></tr>\n",
       "\t<tr><td>138.8256</td><td>model</td></tr>\n",
       "\t<tr><td>140.5025</td><td>model</td></tr>\n",
       "</tbody>\n",
       "</table>\n"
      ],
      "text/latex": [
       "A data.frame: 5 × 2\n",
       "\\begin{tabular}{ll}\n",
       " mse & model\\\\\n",
       " <dbl> & <chr>\\\\\n",
       "\\hline\n",
       "\t 141.1940 & model\\\\\n",
       "\t 138.5841 & model\\\\\n",
       "\t 138.4227 & model\\\\\n",
       "\t 138.8256 & model\\\\\n",
       "\t 140.5025 & model\\\\\n",
       "\\end{tabular}\n"
      ],
      "text/markdown": [
       "\n",
       "A data.frame: 5 × 2\n",
       "\n",
       "| mse &lt;dbl&gt; | model &lt;chr&gt; |\n",
       "|---|---|\n",
       "| 141.1940 | model |\n",
       "| 138.5841 | model |\n",
       "| 138.4227 | model |\n",
       "| 138.8256 | model |\n",
       "| 140.5025 | model |\n",
       "\n"
      ],
      "text/plain": [
       "  mse      model\n",
       "1 141.1940 model\n",
       "2 138.5841 model\n",
       "3 138.4227 model\n",
       "4 138.8256 model\n",
       "5 140.5025 model"
      ]
     },
     "metadata": {},
     "output_type": "display_data"
    }
   ],
   "source": [
    "trials"
   ]
  },
  {
   "cell_type": "code",
   "execution_count": 168,
   "id": "d94c496a",
   "metadata": {},
   "outputs": [
    {
     "data": {
      "text/plain": [
       "\n",
       "\tOne Sample t-test\n",
       "\n",
       "data:  mse\n",
       "t = 14.126, df = 4, p-value = 0.0001458\n",
       "alternative hypothesis: true mean is not equal to 131.5594\n",
       "95 percent confidence interval:\n",
       " 137.9439 141.0676\n",
       "sample estimates:\n",
       "mean of x \n",
       " 139.5058 \n"
      ]
     },
     "metadata": {},
     "output_type": "display_data"
    }
   ],
   "source": [
    "# Find confidence interval on trials and compare to training_error\n",
    "mosaic::t.test(~ mse, mu = in_sample_error, data = trials)"
   ]
  },
  {
   "cell_type": "code",
   "execution_count": null,
   "id": "6983c02c",
   "metadata": {},
   "outputs": [],
   "source": []
  },
  {
   "cell_type": "code",
   "execution_count": null,
   "id": "f3174a64",
   "metadata": {},
   "outputs": [],
   "source": []
  },
  {
   "cell_type": "code",
   "execution_count": null,
   "id": "eb43dc6e",
   "metadata": {},
   "outputs": [],
   "source": []
  },
  {
   "cell_type": "code",
   "execution_count": null,
   "id": "992a5baf",
   "metadata": {},
   "outputs": [],
   "source": []
  }
 ],
 "metadata": {
  "kernelspec": {
   "display_name": "R",
   "language": "R",
   "name": "ir"
  },
  "language_info": {
   "codemirror_mode": "r",
   "file_extension": ".r",
   "mimetype": "text/x-r-source",
   "name": "R",
   "pygments_lexer": "r",
   "version": "4.2.1"
  }
 },
 "nbformat": 4,
 "nbformat_minor": 5
}
