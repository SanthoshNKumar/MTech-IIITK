{
 "cells": [
  {
   "cell_type": "code",
   "execution_count": null,
   "id": "937cf8a7",
   "metadata": {},
   "outputs": [],
   "source": [
    "# Supress Warnings\n",
    "    options(warn=-1) "
   ]
  },
  {
   "cell_type": "code",
   "execution_count": 2,
   "id": "3a8ea97c",
   "metadata": {},
   "outputs": [
    {
     "data": {
      "text/html": [
       "'Santhosh'"
      ],
      "text/latex": [
       "'Santhosh'"
      ],
      "text/markdown": [
       "'Santhosh'"
      ],
      "text/plain": [
       "[1] \"Santhosh\""
      ]
     },
     "metadata": {},
     "output_type": "display_data"
    }
   ],
   "source": [
    "# Remove  not required Char from string\n",
    "\n",
    "var = \"XSanthosh\"\n",
    "\n",
    "sub(\"X\",\"\",var)"
   ]
  },
  {
   "cell_type": "code",
   "execution_count": 21,
   "id": "6ab2773c",
   "metadata": {},
   "outputs": [
    {
     "data": {
      "text/html": [
       "<style>\n",
       ".list-inline {list-style: none; margin:0; padding: 0}\n",
       ".list-inline>li {display: inline-block}\n",
       ".list-inline>li:not(:last-child)::after {content: \"\\00b7\"; padding: 0 .5ex}\n",
       "</style>\n",
       "<ol class=list-inline><li>'06/23/2013'</li><li>'06/30/2013'</li><li>'07/12/2014'</li></ol>\n"
      ],
      "text/latex": [
       "\\begin{enumerate*}\n",
       "\\item '06/23/2013'\n",
       "\\item '06/30/2013'\n",
       "\\item '07/12/2014'\n",
       "\\end{enumerate*}\n"
      ],
      "text/markdown": [
       "1. '06/23/2013'\n",
       "2. '06/30/2013'\n",
       "3. '07/12/2014'\n",
       "\n",
       "\n"
      ],
      "text/plain": [
       "[1] \"06/23/2013\" \"06/30/2013\" \"07/12/2014\""
      ]
     },
     "metadata": {},
     "output_type": "display_data"
    }
   ],
   "source": [
    "# Date format conversion\n",
    "\n",
    "library(lubridate)\n",
    "x <- c(\"06/23/2013\", \"06/30/2013\", \"07/12/2014\")\n",
    "\n",
    "x.date <- mdy(x)\n",
    "\n",
    "x"
   ]
  },
  {
   "cell_type": "code",
   "execution_count": 22,
   "id": "18e9ffea",
   "metadata": {},
   "outputs": [
    {
     "data": {
      "text/html": [
       "'Greater than 10'"
      ],
      "text/latex": [
       "'Greater than 10'"
      ],
      "text/markdown": [
       "'Greater than 10'"
      ],
      "text/plain": [
       "[1] \"Greater than 10\""
      ]
     },
     "metadata": {},
     "output_type": "display_data"
    }
   ],
   "source": [
    "## Multi if else condition in one line\n",
    "val = 13\n",
    "\n",
    "ifelse(val <=10,1,ifelse(val >5,\"Greater than 10\",6))"
   ]
  },
  {
   "cell_type": "code",
   "execution_count": 30,
   "id": "61f8b79c",
   "metadata": {},
   "outputs": [
    {
     "data": {
      "text/html": [
       "<ol>\n",
       "\t<li>1</li>\n",
       "\t<li>1.4142135623731</li>\n",
       "\t<li>1.73205080756888</li>\n",
       "\t<li>2</li>\n",
       "\t<li>2.23606797749979</li>\n",
       "</ol>\n"
      ],
      "text/latex": [
       "\\begin{enumerate}\n",
       "\\item 1\n",
       "\\item 1.4142135623731\n",
       "\\item 1.73205080756888\n",
       "\\item 2\n",
       "\\item 2.23606797749979\n",
       "\\end{enumerate}\n"
      ],
      "text/markdown": [
       "1. 1\n",
       "2. 1.4142135623731\n",
       "3. 1.73205080756888\n",
       "4. 2\n",
       "5. 2.23606797749979\n",
       "\n",
       "\n"
      ],
      "text/plain": [
       "[[1]]\n",
       "[1] 1\n",
       "\n",
       "[[2]]\n",
       "[1] 1.414214\n",
       "\n",
       "[[3]]\n",
       "[1] 1.732051\n",
       "\n",
       "[[4]]\n",
       "[1] 2\n",
       "\n",
       "[[5]]\n",
       "[1] 2.236068\n"
      ]
     },
     "metadata": {},
     "output_type": "display_data"
    }
   ],
   "source": [
    "## List comprehension\n",
    "\n",
    "library(foreach)\n",
    "\n",
    "val = c(1,2,3,4,5)\n",
    "\n",
    "foreach(i=val) %do% sqrt(i)"
   ]
  },
  {
   "cell_type": "code",
   "execution_count": 38,
   "id": "0894b9dd",
   "metadata": {},
   "outputs": [
    {
     "data": {
      "text/html": [
       "<ol>\n",
       "\t<li>1</li>\n",
       "\t<li>4</li>\n",
       "\t<li>9</li>\n",
       "\t<li>16</li>\n",
       "\t<li>25</li>\n",
       "</ol>\n"
      ],
      "text/latex": [
       "\\begin{enumerate}\n",
       "\\item 1\n",
       "\\item 4\n",
       "\\item 9\n",
       "\\item 16\n",
       "\\item 25\n",
       "\\end{enumerate}\n"
      ],
      "text/markdown": [
       "1. 1\n",
       "2. 4\n",
       "3. 9\n",
       "4. 16\n",
       "5. 25\n",
       "\n",
       "\n"
      ],
      "text/plain": [
       "[[1]]\n",
       "[1] 1\n",
       "\n",
       "[[2]]\n",
       "[1] 4\n",
       "\n",
       "[[3]]\n",
       "[1] 9\n",
       "\n",
       "[[4]]\n",
       "[1] 16\n",
       "\n",
       "[[5]]\n",
       "[1] 25\n"
      ]
     },
     "metadata": {},
     "output_type": "display_data"
    }
   ],
   "source": [
    "## List comprehension\n",
    "\n",
    "foreach(i=val) %do% (i*i)"
   ]
  },
  {
   "cell_type": "code",
   "execution_count": 39,
   "id": "719ed21e",
   "metadata": {},
   "outputs": [
    {
     "data": {
      "text/html": [
       "113"
      ],
      "text/latex": [
       "113"
      ],
      "text/markdown": [
       "113"
      ],
      "text/plain": [
       "[1] 113"
      ]
     },
     "metadata": {},
     "output_type": "display_data"
    }
   ],
   "source": [
    "# One Line functions\n",
    "\n",
    "var <- list(47,11,42,13)\n",
    "\n",
    "Reduce(function (x, y) x+y, var)   "
   ]
  },
  {
   "cell_type": "code",
   "execution_count": null,
   "id": "4a480e04",
   "metadata": {},
   "outputs": [],
   "source": []
  },
  {
   "cell_type": "code",
   "execution_count": null,
   "id": "896c1cb4",
   "metadata": {},
   "outputs": [],
   "source": []
  }
 ],
 "metadata": {
  "kernelspec": {
   "display_name": "R",
   "language": "R",
   "name": "ir"
  },
  "language_info": {
   "codemirror_mode": "r",
   "file_extension": ".r",
   "mimetype": "text/x-r-source",
   "name": "R",
   "pygments_lexer": "r",
   "version": "4.2.1"
  }
 },
 "nbformat": 4,
 "nbformat_minor": 5
}
