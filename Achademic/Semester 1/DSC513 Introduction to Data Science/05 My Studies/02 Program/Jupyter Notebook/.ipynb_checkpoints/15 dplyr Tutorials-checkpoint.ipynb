{
 "cells": [
  {
   "cell_type": "code",
   "execution_count": 20,
   "id": "93c81d40",
   "metadata": {},
   "outputs": [],
   "source": [
    "# Install packages\n",
    "# install.packages(\"dplyr\")\n",
    "# install.packages(\"hflights\")"
   ]
  },
  {
   "cell_type": "code",
   "execution_count": 21,
   "id": "262d09b5",
   "metadata": {},
   "outputs": [],
   "source": [
    "library(dplyr)\n",
    "library(hflights)"
   ]
  },
  {
   "cell_type": "code",
   "execution_count": 23,
   "id": "05721b5a",
   "metadata": {},
   "outputs": [
    {
     "data": {
      "text/html": [
       "<table class=\"dataframe\">\n",
       "<caption>A data.frame: 5 × 21</caption>\n",
       "<thead>\n",
       "\t<tr><th></th><th scope=col>Year</th><th scope=col>Month</th><th scope=col>DayofMonth</th><th scope=col>DayOfWeek</th><th scope=col>DepTime</th><th scope=col>ArrTime</th><th scope=col>UniqueCarrier</th><th scope=col>FlightNum</th><th scope=col>TailNum</th><th scope=col>ActualElapsedTime</th><th scope=col>⋯</th><th scope=col>ArrDelay</th><th scope=col>DepDelay</th><th scope=col>Origin</th><th scope=col>Dest</th><th scope=col>Distance</th><th scope=col>TaxiIn</th><th scope=col>TaxiOut</th><th scope=col>Cancelled</th><th scope=col>CancellationCode</th><th scope=col>Diverted</th></tr>\n",
       "\t<tr><th></th><th scope=col>&lt;int&gt;</th><th scope=col>&lt;int&gt;</th><th scope=col>&lt;int&gt;</th><th scope=col>&lt;int&gt;</th><th scope=col>&lt;int&gt;</th><th scope=col>&lt;int&gt;</th><th scope=col>&lt;chr&gt;</th><th scope=col>&lt;int&gt;</th><th scope=col>&lt;chr&gt;</th><th scope=col>&lt;int&gt;</th><th scope=col>⋯</th><th scope=col>&lt;int&gt;</th><th scope=col>&lt;int&gt;</th><th scope=col>&lt;chr&gt;</th><th scope=col>&lt;chr&gt;</th><th scope=col>&lt;int&gt;</th><th scope=col>&lt;int&gt;</th><th scope=col>&lt;int&gt;</th><th scope=col>&lt;int&gt;</th><th scope=col>&lt;chr&gt;</th><th scope=col>&lt;int&gt;</th></tr>\n",
       "</thead>\n",
       "<tbody>\n",
       "\t<tr><th scope=row>5424</th><td>2011</td><td>1</td><td>1</td><td>6</td><td>1400</td><td>1500</td><td>AA</td><td>428</td><td>N576AA</td><td>60</td><td>⋯</td><td>-10</td><td> 0</td><td>IAH</td><td>DFW</td><td>224</td><td>7</td><td>13</td><td>0</td><td></td><td>0</td></tr>\n",
       "\t<tr><th scope=row>5425</th><td>2011</td><td>1</td><td>2</td><td>7</td><td>1401</td><td>1501</td><td>AA</td><td>428</td><td>N557AA</td><td>60</td><td>⋯</td><td> -9</td><td> 1</td><td>IAH</td><td>DFW</td><td>224</td><td>6</td><td> 9</td><td>0</td><td></td><td>0</td></tr>\n",
       "\t<tr><th scope=row>5426</th><td>2011</td><td>1</td><td>3</td><td>1</td><td>1352</td><td>1502</td><td>AA</td><td>428</td><td>N541AA</td><td>70</td><td>⋯</td><td> -8</td><td>-8</td><td>IAH</td><td>DFW</td><td>224</td><td>5</td><td>17</td><td>0</td><td></td><td>0</td></tr>\n",
       "\t<tr><th scope=row>5427</th><td>2011</td><td>1</td><td>4</td><td>2</td><td>1403</td><td>1513</td><td>AA</td><td>428</td><td>N403AA</td><td>70</td><td>⋯</td><td>  3</td><td> 3</td><td>IAH</td><td>DFW</td><td>224</td><td>9</td><td>22</td><td>0</td><td></td><td>0</td></tr>\n",
       "\t<tr><th scope=row>5428</th><td>2011</td><td>1</td><td>5</td><td>3</td><td>1405</td><td>1507</td><td>AA</td><td>428</td><td>N492AA</td><td>62</td><td>⋯</td><td> -3</td><td> 5</td><td>IAH</td><td>DFW</td><td>224</td><td>9</td><td> 9</td><td>0</td><td></td><td>0</td></tr>\n",
       "</tbody>\n",
       "</table>\n"
      ],
      "text/latex": [
       "A data.frame: 5 × 21\n",
       "\\begin{tabular}{r|lllllllllllllllllllll}\n",
       "  & Year & Month & DayofMonth & DayOfWeek & DepTime & ArrTime & UniqueCarrier & FlightNum & TailNum & ActualElapsedTime & ⋯ & ArrDelay & DepDelay & Origin & Dest & Distance & TaxiIn & TaxiOut & Cancelled & CancellationCode & Diverted\\\\\n",
       "  & <int> & <int> & <int> & <int> & <int> & <int> & <chr> & <int> & <chr> & <int> & ⋯ & <int> & <int> & <chr> & <chr> & <int> & <int> & <int> & <int> & <chr> & <int>\\\\\n",
       "\\hline\n",
       "\t5424 & 2011 & 1 & 1 & 6 & 1400 & 1500 & AA & 428 & N576AA & 60 & ⋯ & -10 &  0 & IAH & DFW & 224 & 7 & 13 & 0 &  & 0\\\\\n",
       "\t5425 & 2011 & 1 & 2 & 7 & 1401 & 1501 & AA & 428 & N557AA & 60 & ⋯ &  -9 &  1 & IAH & DFW & 224 & 6 &  9 & 0 &  & 0\\\\\n",
       "\t5426 & 2011 & 1 & 3 & 1 & 1352 & 1502 & AA & 428 & N541AA & 70 & ⋯ &  -8 & -8 & IAH & DFW & 224 & 5 & 17 & 0 &  & 0\\\\\n",
       "\t5427 & 2011 & 1 & 4 & 2 & 1403 & 1513 & AA & 428 & N403AA & 70 & ⋯ &   3 &  3 & IAH & DFW & 224 & 9 & 22 & 0 &  & 0\\\\\n",
       "\t5428 & 2011 & 1 & 5 & 3 & 1405 & 1507 & AA & 428 & N492AA & 62 & ⋯ &  -3 &  5 & IAH & DFW & 224 & 9 &  9 & 0 &  & 0\\\\\n",
       "\\end{tabular}\n"
      ],
      "text/markdown": [
       "\n",
       "A data.frame: 5 × 21\n",
       "\n",
       "| <!--/--> | Year &lt;int&gt; | Month &lt;int&gt; | DayofMonth &lt;int&gt; | DayOfWeek &lt;int&gt; | DepTime &lt;int&gt; | ArrTime &lt;int&gt; | UniqueCarrier &lt;chr&gt; | FlightNum &lt;int&gt; | TailNum &lt;chr&gt; | ActualElapsedTime &lt;int&gt; | ⋯ ⋯ | ArrDelay &lt;int&gt; | DepDelay &lt;int&gt; | Origin &lt;chr&gt; | Dest &lt;chr&gt; | Distance &lt;int&gt; | TaxiIn &lt;int&gt; | TaxiOut &lt;int&gt; | Cancelled &lt;int&gt; | CancellationCode &lt;chr&gt; | Diverted &lt;int&gt; |\n",
       "|---|---|---|---|---|---|---|---|---|---|---|---|---|---|---|---|---|---|---|---|---|---|\n",
       "| 5424 | 2011 | 1 | 1 | 6 | 1400 | 1500 | AA | 428 | N576AA | 60 | ⋯ | -10 |  0 | IAH | DFW | 224 | 7 | 13 | 0 | <!----> | 0 |\n",
       "| 5425 | 2011 | 1 | 2 | 7 | 1401 | 1501 | AA | 428 | N557AA | 60 | ⋯ |  -9 |  1 | IAH | DFW | 224 | 6 |  9 | 0 | <!----> | 0 |\n",
       "| 5426 | 2011 | 1 | 3 | 1 | 1352 | 1502 | AA | 428 | N541AA | 70 | ⋯ |  -8 | -8 | IAH | DFW | 224 | 5 | 17 | 0 | <!----> | 0 |\n",
       "| 5427 | 2011 | 1 | 4 | 2 | 1403 | 1513 | AA | 428 | N403AA | 70 | ⋯ |   3 |  3 | IAH | DFW | 224 | 9 | 22 | 0 | <!----> | 0 |\n",
       "| 5428 | 2011 | 1 | 5 | 3 | 1405 | 1507 | AA | 428 | N492AA | 62 | ⋯ |  -3 |  5 | IAH | DFW | 224 | 9 |  9 | 0 | <!----> | 0 |\n",
       "\n"
      ],
      "text/plain": [
       "     Year Month DayofMonth DayOfWeek DepTime ArrTime UniqueCarrier FlightNum\n",
       "5424 2011 1     1          6         1400    1500    AA            428      \n",
       "5425 2011 1     2          7         1401    1501    AA            428      \n",
       "5426 2011 1     3          1         1352    1502    AA            428      \n",
       "5427 2011 1     4          2         1403    1513    AA            428      \n",
       "5428 2011 1     5          3         1405    1507    AA            428      \n",
       "     TailNum ActualElapsedTime ⋯ ArrDelay DepDelay Origin Dest Distance TaxiIn\n",
       "5424 N576AA  60                ⋯ -10       0       IAH    DFW  224      7     \n",
       "5425 N557AA  60                ⋯  -9       1       IAH    DFW  224      6     \n",
       "5426 N541AA  70                ⋯  -8      -8       IAH    DFW  224      5     \n",
       "5427 N403AA  70                ⋯   3       3       IAH    DFW  224      9     \n",
       "5428 N492AA  62                ⋯  -3       5       IAH    DFW  224      9     \n",
       "     TaxiOut Cancelled CancellationCode Diverted\n",
       "5424 13      0                          0       \n",
       "5425  9      0                          0       \n",
       "5426 17      0                          0       \n",
       "5427 22      0                          0       \n",
       "5428  9      0                          0       "
      ]
     },
     "metadata": {},
     "output_type": "display_data"
    }
   ],
   "source": [
    "\n",
    "data(\"hflights\") # Loading hflights data\n",
    "head(hflights,5)"
   ]
  },
  {
   "cell_type": "code",
   "execution_count": 24,
   "id": "9216e8c6",
   "metadata": {},
   "outputs": [
    {
     "data": {
      "text/html": [
       "<style>\n",
       ".list-inline {list-style: none; margin:0; padding: 0}\n",
       ".list-inline>li {display: inline-block}\n",
       ".list-inline>li:not(:last-child)::after {content: \"\\00b7\"; padding: 0 .5ex}\n",
       "</style>\n",
       "<ol class=list-inline><li>227496</li><li>21</li></ol>\n"
      ],
      "text/latex": [
       "\\begin{enumerate*}\n",
       "\\item 227496\n",
       "\\item 21\n",
       "\\end{enumerate*}\n"
      ],
      "text/markdown": [
       "1. 227496\n",
       "2. 21\n",
       "\n",
       "\n"
      ],
      "text/plain": [
       "[1] 227496     21"
      ]
     },
     "metadata": {},
     "output_type": "display_data"
    }
   ],
   "source": [
    "dim(hflights)"
   ]
  },
  {
   "cell_type": "code",
   "execution_count": 25,
   "id": "374f2aee",
   "metadata": {},
   "outputs": [
    {
     "name": "stdout",
     "output_type": "stream",
     "text": [
      "'data.frame':\t227496 obs. of  21 variables:\n",
      " $ Year             : int  2011 2011 2011 2011 2011 2011 2011 2011 2011 2011 ...\n",
      " $ Month            : int  1 1 1 1 1 1 1 1 1 1 ...\n",
      " $ DayofMonth       : int  1 2 3 4 5 6 7 8 9 10 ...\n",
      " $ DayOfWeek        : int  6 7 1 2 3 4 5 6 7 1 ...\n",
      " $ DepTime          : int  1400 1401 1352 1403 1405 1359 1359 1355 1443 1443 ...\n",
      " $ ArrTime          : int  1500 1501 1502 1513 1507 1503 1509 1454 1554 1553 ...\n",
      " $ UniqueCarrier    : chr  \"AA\" \"AA\" \"AA\" \"AA\" ...\n",
      " $ FlightNum        : int  428 428 428 428 428 428 428 428 428 428 ...\n",
      " $ TailNum          : chr  \"N576AA\" \"N557AA\" \"N541AA\" \"N403AA\" ...\n",
      " $ ActualElapsedTime: int  60 60 70 70 62 64 70 59 71 70 ...\n",
      " $ AirTime          : int  40 45 48 39 44 45 43 40 41 45 ...\n",
      " $ ArrDelay         : int  -10 -9 -8 3 -3 -7 -1 -16 44 43 ...\n",
      " $ DepDelay         : int  0 1 -8 3 5 -1 -1 -5 43 43 ...\n",
      " $ Origin           : chr  \"IAH\" \"IAH\" \"IAH\" \"IAH\" ...\n",
      " $ Dest             : chr  \"DFW\" \"DFW\" \"DFW\" \"DFW\" ...\n",
      " $ Distance         : int  224 224 224 224 224 224 224 224 224 224 ...\n",
      " $ TaxiIn           : int  7 6 5 9 9 6 12 7 8 6 ...\n",
      " $ TaxiOut          : int  13 9 17 22 9 13 15 12 22 19 ...\n",
      " $ Cancelled        : int  0 0 0 0 0 0 0 0 0 0 ...\n",
      " $ CancellationCode : chr  \"\" \"\" \"\" \"\" ...\n",
      " $ Diverted         : int  0 0 0 0 0 0 0 0 0 0 ...\n"
     ]
    }
   ],
   "source": [
    "str(hflights)"
   ]
  },
  {
   "cell_type": "code",
   "execution_count": null,
   "id": "6650491f",
   "metadata": {},
   "outputs": [],
   "source": [
    "# Tibble is a package in the R programming language that is used to manipulate and print data frames\n",
    "# A tribble () is used for creating a row-wise, readable tibble in R. \n",
    "# This is useful for creating small tables of data."
   ]
  },
  {
   "cell_type": "code",
   "execution_count": 29,
   "id": "f7b0dd16",
   "metadata": {},
   "outputs": [
    {
     "name": "stdout",
     "output_type": "stream",
     "text": [
      "\u001b[90m# A tibble: 227,496 × 21\u001b[39m\n",
      "    Year Month DayofMo…¹ DayOf…² DepTime ArrTime Uniqu…³ Fligh…⁴ TailNum Actua…⁵\n",
      "   \u001b[3m\u001b[90m<int>\u001b[39m\u001b[23m \u001b[3m\u001b[90m<int>\u001b[39m\u001b[23m     \u001b[3m\u001b[90m<int>\u001b[39m\u001b[23m   \u001b[3m\u001b[90m<int>\u001b[39m\u001b[23m   \u001b[3m\u001b[90m<int>\u001b[39m\u001b[23m   \u001b[3m\u001b[90m<int>\u001b[39m\u001b[23m \u001b[3m\u001b[90m<chr>\u001b[39m\u001b[23m     \u001b[3m\u001b[90m<int>\u001b[39m\u001b[23m \u001b[3m\u001b[90m<chr>\u001b[39m\u001b[23m     \u001b[3m\u001b[90m<int>\u001b[39m\u001b[23m\n",
      "\u001b[90m 1\u001b[39m  \u001b[4m2\u001b[24m011     1         1       6    \u001b[4m1\u001b[24m400    \u001b[4m1\u001b[24m500 AA          428 N576AA       60\n",
      "\u001b[90m 2\u001b[39m  \u001b[4m2\u001b[24m011     1         2       7    \u001b[4m1\u001b[24m401    \u001b[4m1\u001b[24m501 AA          428 N557AA       60\n",
      "\u001b[90m 3\u001b[39m  \u001b[4m2\u001b[24m011     1         3       1    \u001b[4m1\u001b[24m352    \u001b[4m1\u001b[24m502 AA          428 N541AA       70\n",
      "\u001b[90m 4\u001b[39m  \u001b[4m2\u001b[24m011     1         4       2    \u001b[4m1\u001b[24m403    \u001b[4m1\u001b[24m513 AA          428 N403AA       70\n",
      "\u001b[90m 5\u001b[39m  \u001b[4m2\u001b[24m011     1         5       3    \u001b[4m1\u001b[24m405    \u001b[4m1\u001b[24m507 AA          428 N492AA       62\n",
      "\u001b[90m 6\u001b[39m  \u001b[4m2\u001b[24m011     1         6       4    \u001b[4m1\u001b[24m359    \u001b[4m1\u001b[24m503 AA          428 N262AA       64\n",
      "\u001b[90m 7\u001b[39m  \u001b[4m2\u001b[24m011     1         7       5    \u001b[4m1\u001b[24m359    \u001b[4m1\u001b[24m509 AA          428 N493AA       70\n",
      "\u001b[90m 8\u001b[39m  \u001b[4m2\u001b[24m011     1         8       6    \u001b[4m1\u001b[24m355    \u001b[4m1\u001b[24m454 AA          428 N477AA       59\n",
      "\u001b[90m 9\u001b[39m  \u001b[4m2\u001b[24m011     1         9       7    \u001b[4m1\u001b[24m443    \u001b[4m1\u001b[24m554 AA          428 N476AA       71\n",
      "\u001b[90m10\u001b[39m  \u001b[4m2\u001b[24m011     1        10       1    \u001b[4m1\u001b[24m443    \u001b[4m1\u001b[24m553 AA          428 N504AA       70\n",
      "\u001b[90m11\u001b[39m  \u001b[4m2\u001b[24m011     1        11       2    \u001b[4m1\u001b[24m429    \u001b[4m1\u001b[24m539 AA          428 N565AA       70\n",
      "\u001b[90m12\u001b[39m  \u001b[4m2\u001b[24m011     1        12       3    \u001b[4m1\u001b[24m419    \u001b[4m1\u001b[24m515 AA          428 N577AA       56\n",
      "\u001b[90m13\u001b[39m  \u001b[4m2\u001b[24m011     1        13       4    \u001b[4m1\u001b[24m358    \u001b[4m1\u001b[24m501 AA          428 N476AA       63\n",
      "\u001b[90m14\u001b[39m  \u001b[4m2\u001b[24m011     1        14       5    \u001b[4m1\u001b[24m357    \u001b[4m1\u001b[24m504 AA          428 N552AA       67\n",
      "\u001b[90m15\u001b[39m  \u001b[4m2\u001b[24m011     1        15       6    \u001b[4m1\u001b[24m359    \u001b[4m1\u001b[24m459 AA          428 N462AA       60\n",
      "\u001b[90m16\u001b[39m  \u001b[4m2\u001b[24m011     1        16       7    \u001b[4m1\u001b[24m359    \u001b[4m1\u001b[24m509 AA          428 N555AA       70\n",
      "\u001b[90m17\u001b[39m  \u001b[4m2\u001b[24m011     1        17       1    \u001b[4m1\u001b[24m530    \u001b[4m1\u001b[24m634 AA          428 N518AA       64\n",
      "\u001b[90m18\u001b[39m  \u001b[4m2\u001b[24m011     1        18       2    \u001b[4m1\u001b[24m408    \u001b[4m1\u001b[24m508 AA          428 N507AA       60\n",
      "\u001b[90m# … with 227,478 more rows, 11 more variables: AirTime <int>, ArrDelay <int>,\u001b[39m\n",
      "\u001b[90m#   DepDelay <int>, Origin <chr>, Dest <chr>, Distance <int>, TaxiIn <int>,\u001b[39m\n",
      "\u001b[90m#   TaxiOut <int>, Cancelled <int>, CancellationCode <chr>, Diverted <int>, and\u001b[39m\n",
      "\u001b[90m#   abbreviated variable names ¹​DayofMonth, ²​DayOfWeek, ³​UniqueCarrier,\u001b[39m\n",
      "\u001b[90m#   ⁴​FlightNum, ⁵​ActualElapsedTime\u001b[39m\n"
     ]
    }
   ],
   "source": [
    "flights<-as_tibble(hflights)\n",
    "\n",
    "print(flights, n=18)"
   ]
  },
  {
   "cell_type": "code",
   "execution_count": 30,
   "id": "5207e470",
   "metadata": {},
   "outputs": [
    {
     "data": {
      "text/html": [
       "<table class=\"dataframe\">\n",
       "<caption>A data.frame: 6 × 21</caption>\n",
       "<thead>\n",
       "\t<tr><th scope=col>Year</th><th scope=col>Month</th><th scope=col>DayofMonth</th><th scope=col>DayOfWeek</th><th scope=col>DepTime</th><th scope=col>ArrTime</th><th scope=col>UniqueCarrier</th><th scope=col>FlightNum</th><th scope=col>TailNum</th><th scope=col>ActualElapsedTime</th><th scope=col>⋯</th><th scope=col>ArrDelay</th><th scope=col>DepDelay</th><th scope=col>Origin</th><th scope=col>Dest</th><th scope=col>Distance</th><th scope=col>TaxiIn</th><th scope=col>TaxiOut</th><th scope=col>Cancelled</th><th scope=col>CancellationCode</th><th scope=col>Diverted</th></tr>\n",
       "\t<tr><th scope=col>&lt;int&gt;</th><th scope=col>&lt;int&gt;</th><th scope=col>&lt;int&gt;</th><th scope=col>&lt;int&gt;</th><th scope=col>&lt;int&gt;</th><th scope=col>&lt;int&gt;</th><th scope=col>&lt;chr&gt;</th><th scope=col>&lt;int&gt;</th><th scope=col>&lt;chr&gt;</th><th scope=col>&lt;int&gt;</th><th scope=col>⋯</th><th scope=col>&lt;int&gt;</th><th scope=col>&lt;int&gt;</th><th scope=col>&lt;chr&gt;</th><th scope=col>&lt;chr&gt;</th><th scope=col>&lt;int&gt;</th><th scope=col>&lt;int&gt;</th><th scope=col>&lt;int&gt;</th><th scope=col>&lt;int&gt;</th><th scope=col>&lt;chr&gt;</th><th scope=col>&lt;int&gt;</th></tr>\n",
       "</thead>\n",
       "<tbody>\n",
       "\t<tr><td>2011</td><td>1</td><td>1</td><td>6</td><td>1400</td><td>1500</td><td>AA</td><td>428</td><td>N576AA</td><td>60</td><td>⋯</td><td>-10</td><td> 0</td><td>IAH</td><td>DFW</td><td>224</td><td>7</td><td>13</td><td>0</td><td></td><td>0</td></tr>\n",
       "\t<tr><td>2011</td><td>1</td><td>2</td><td>7</td><td>1401</td><td>1501</td><td>AA</td><td>428</td><td>N557AA</td><td>60</td><td>⋯</td><td> -9</td><td> 1</td><td>IAH</td><td>DFW</td><td>224</td><td>6</td><td> 9</td><td>0</td><td></td><td>0</td></tr>\n",
       "\t<tr><td>2011</td><td>1</td><td>3</td><td>1</td><td>1352</td><td>1502</td><td>AA</td><td>428</td><td>N541AA</td><td>70</td><td>⋯</td><td> -8</td><td>-8</td><td>IAH</td><td>DFW</td><td>224</td><td>5</td><td>17</td><td>0</td><td></td><td>0</td></tr>\n",
       "\t<tr><td>2011</td><td>1</td><td>4</td><td>2</td><td>1403</td><td>1513</td><td>AA</td><td>428</td><td>N403AA</td><td>70</td><td>⋯</td><td>  3</td><td> 3</td><td>IAH</td><td>DFW</td><td>224</td><td>9</td><td>22</td><td>0</td><td></td><td>0</td></tr>\n",
       "\t<tr><td>2011</td><td>1</td><td>5</td><td>3</td><td>1405</td><td>1507</td><td>AA</td><td>428</td><td>N492AA</td><td>62</td><td>⋯</td><td> -3</td><td> 5</td><td>IAH</td><td>DFW</td><td>224</td><td>9</td><td> 9</td><td>0</td><td></td><td>0</td></tr>\n",
       "\t<tr><td>2011</td><td>1</td><td>6</td><td>4</td><td>1359</td><td>1503</td><td>AA</td><td>428</td><td>N262AA</td><td>64</td><td>⋯</td><td> -7</td><td>-1</td><td>IAH</td><td>DFW</td><td>224</td><td>6</td><td>13</td><td>0</td><td></td><td>0</td></tr>\n",
       "</tbody>\n",
       "</table>\n"
      ],
      "text/latex": [
       "A data.frame: 6 × 21\n",
       "\\begin{tabular}{lllllllllllllllllllll}\n",
       " Year & Month & DayofMonth & DayOfWeek & DepTime & ArrTime & UniqueCarrier & FlightNum & TailNum & ActualElapsedTime & ⋯ & ArrDelay & DepDelay & Origin & Dest & Distance & TaxiIn & TaxiOut & Cancelled & CancellationCode & Diverted\\\\\n",
       " <int> & <int> & <int> & <int> & <int> & <int> & <chr> & <int> & <chr> & <int> & ⋯ & <int> & <int> & <chr> & <chr> & <int> & <int> & <int> & <int> & <chr> & <int>\\\\\n",
       "\\hline\n",
       "\t 2011 & 1 & 1 & 6 & 1400 & 1500 & AA & 428 & N576AA & 60 & ⋯ & -10 &  0 & IAH & DFW & 224 & 7 & 13 & 0 &  & 0\\\\\n",
       "\t 2011 & 1 & 2 & 7 & 1401 & 1501 & AA & 428 & N557AA & 60 & ⋯ &  -9 &  1 & IAH & DFW & 224 & 6 &  9 & 0 &  & 0\\\\\n",
       "\t 2011 & 1 & 3 & 1 & 1352 & 1502 & AA & 428 & N541AA & 70 & ⋯ &  -8 & -8 & IAH & DFW & 224 & 5 & 17 & 0 &  & 0\\\\\n",
       "\t 2011 & 1 & 4 & 2 & 1403 & 1513 & AA & 428 & N403AA & 70 & ⋯ &   3 &  3 & IAH & DFW & 224 & 9 & 22 & 0 &  & 0\\\\\n",
       "\t 2011 & 1 & 5 & 3 & 1405 & 1507 & AA & 428 & N492AA & 62 & ⋯ &  -3 &  5 & IAH & DFW & 224 & 9 &  9 & 0 &  & 0\\\\\n",
       "\t 2011 & 1 & 6 & 4 & 1359 & 1503 & AA & 428 & N262AA & 64 & ⋯ &  -7 & -1 & IAH & DFW & 224 & 6 & 13 & 0 &  & 0\\\\\n",
       "\\end{tabular}\n"
      ],
      "text/markdown": [
       "\n",
       "A data.frame: 6 × 21\n",
       "\n",
       "| Year &lt;int&gt; | Month &lt;int&gt; | DayofMonth &lt;int&gt; | DayOfWeek &lt;int&gt; | DepTime &lt;int&gt; | ArrTime &lt;int&gt; | UniqueCarrier &lt;chr&gt; | FlightNum &lt;int&gt; | TailNum &lt;chr&gt; | ActualElapsedTime &lt;int&gt; | ⋯ ⋯ | ArrDelay &lt;int&gt; | DepDelay &lt;int&gt; | Origin &lt;chr&gt; | Dest &lt;chr&gt; | Distance &lt;int&gt; | TaxiIn &lt;int&gt; | TaxiOut &lt;int&gt; | Cancelled &lt;int&gt; | CancellationCode &lt;chr&gt; | Diverted &lt;int&gt; |\n",
       "|---|---|---|---|---|---|---|---|---|---|---|---|---|---|---|---|---|---|---|---|---|\n",
       "| 2011 | 1 | 1 | 6 | 1400 | 1500 | AA | 428 | N576AA | 60 | ⋯ | -10 |  0 | IAH | DFW | 224 | 7 | 13 | 0 | <!----> | 0 |\n",
       "| 2011 | 1 | 2 | 7 | 1401 | 1501 | AA | 428 | N557AA | 60 | ⋯ |  -9 |  1 | IAH | DFW | 224 | 6 |  9 | 0 | <!----> | 0 |\n",
       "| 2011 | 1 | 3 | 1 | 1352 | 1502 | AA | 428 | N541AA | 70 | ⋯ |  -8 | -8 | IAH | DFW | 224 | 5 | 17 | 0 | <!----> | 0 |\n",
       "| 2011 | 1 | 4 | 2 | 1403 | 1513 | AA | 428 | N403AA | 70 | ⋯ |   3 |  3 | IAH | DFW | 224 | 9 | 22 | 0 | <!----> | 0 |\n",
       "| 2011 | 1 | 5 | 3 | 1405 | 1507 | AA | 428 | N492AA | 62 | ⋯ |  -3 |  5 | IAH | DFW | 224 | 9 |  9 | 0 | <!----> | 0 |\n",
       "| 2011 | 1 | 6 | 4 | 1359 | 1503 | AA | 428 | N262AA | 64 | ⋯ |  -7 | -1 | IAH | DFW | 224 | 6 | 13 | 0 | <!----> | 0 |\n",
       "\n"
      ],
      "text/plain": [
       "  Year Month DayofMonth DayOfWeek DepTime ArrTime UniqueCarrier FlightNum\n",
       "1 2011 1     1          6         1400    1500    AA            428      \n",
       "2 2011 1     2          7         1401    1501    AA            428      \n",
       "3 2011 1     3          1         1352    1502    AA            428      \n",
       "4 2011 1     4          2         1403    1513    AA            428      \n",
       "5 2011 1     5          3         1405    1507    AA            428      \n",
       "6 2011 1     6          4         1359    1503    AA            428      \n",
       "  TailNum ActualElapsedTime ⋯ ArrDelay DepDelay Origin Dest Distance TaxiIn\n",
       "1 N576AA  60                ⋯ -10       0       IAH    DFW  224      7     \n",
       "2 N557AA  60                ⋯  -9       1       IAH    DFW  224      6     \n",
       "3 N541AA  70                ⋯  -8      -8       IAH    DFW  224      5     \n",
       "4 N403AA  70                ⋯   3       3       IAH    DFW  224      9     \n",
       "5 N492AA  62                ⋯  -3       5       IAH    DFW  224      9     \n",
       "6 N262AA  64                ⋯  -7      -1       IAH    DFW  224      6     \n",
       "  TaxiOut Cancelled CancellationCode Diverted\n",
       "1 13      0                          0       \n",
       "2  9      0                          0       \n",
       "3 17      0                          0       \n",
       "4 22      0                          0       \n",
       "5  9      0                          0       \n",
       "6 13      0                          0       "
      ]
     },
     "metadata": {},
     "output_type": "display_data"
    }
   ],
   "source": [
    "data.frame(head(flights)) #convert to  a normal data flame to see all the columns"
   ]
  },
  {
   "cell_type": "markdown",
   "id": "037fdf5b",
   "metadata": {},
   "source": [
    "# Select"
   ]
  },
  {
   "cell_type": "code",
   "execution_count": null,
   "id": "90292f43",
   "metadata": {},
   "outputs": [],
   "source": [
    "## Select() Function"
   ]
  },
  {
   "cell_type": "code",
   "execution_count": 33,
   "id": "dcfda163",
   "metadata": {},
   "outputs": [
    {
     "data": {
      "text/html": [
       "<table class=\"dataframe\">\n",
       "<caption>A tibble: 6 × 4</caption>\n",
       "<thead>\n",
       "\t<tr><th scope=col>FlightNum</th><th scope=col>DayOfWeek</th><th scope=col>ArrTime</th><th scope=col>ArrDelay</th></tr>\n",
       "\t<tr><th scope=col>&lt;int&gt;</th><th scope=col>&lt;int&gt;</th><th scope=col>&lt;int&gt;</th><th scope=col>&lt;int&gt;</th></tr>\n",
       "</thead>\n",
       "<tbody>\n",
       "\t<tr><td>428</td><td>6</td><td>1500</td><td>-10</td></tr>\n",
       "\t<tr><td>428</td><td>7</td><td>1501</td><td> -9</td></tr>\n",
       "\t<tr><td>428</td><td>1</td><td>1502</td><td> -8</td></tr>\n",
       "\t<tr><td>428</td><td>2</td><td>1513</td><td>  3</td></tr>\n",
       "\t<tr><td>428</td><td>3</td><td>1507</td><td> -3</td></tr>\n",
       "\t<tr><td>428</td><td>4</td><td>1503</td><td> -7</td></tr>\n",
       "</tbody>\n",
       "</table>\n"
      ],
      "text/latex": [
       "A tibble: 6 × 4\n",
       "\\begin{tabular}{llll}\n",
       " FlightNum & DayOfWeek & ArrTime & ArrDelay\\\\\n",
       " <int> & <int> & <int> & <int>\\\\\n",
       "\\hline\n",
       "\t 428 & 6 & 1500 & -10\\\\\n",
       "\t 428 & 7 & 1501 &  -9\\\\\n",
       "\t 428 & 1 & 1502 &  -8\\\\\n",
       "\t 428 & 2 & 1513 &   3\\\\\n",
       "\t 428 & 3 & 1507 &  -3\\\\\n",
       "\t 428 & 4 & 1503 &  -7\\\\\n",
       "\\end{tabular}\n"
      ],
      "text/markdown": [
       "\n",
       "A tibble: 6 × 4\n",
       "\n",
       "| FlightNum &lt;int&gt; | DayOfWeek &lt;int&gt; | ArrTime &lt;int&gt; | ArrDelay &lt;int&gt; |\n",
       "|---|---|---|---|\n",
       "| 428 | 6 | 1500 | -10 |\n",
       "| 428 | 7 | 1501 |  -9 |\n",
       "| 428 | 1 | 1502 |  -8 |\n",
       "| 428 | 2 | 1513 |   3 |\n",
       "| 428 | 3 | 1507 |  -3 |\n",
       "| 428 | 4 | 1503 |  -7 |\n",
       "\n"
      ],
      "text/plain": [
       "  FlightNum DayOfWeek ArrTime ArrDelay\n",
       "1 428       6         1500    -10     \n",
       "2 428       7         1501     -9     \n",
       "3 428       1         1502     -8     \n",
       "4 428       2         1513      3     \n",
       "5 428       3         1507     -3     \n",
       "6 428       4         1503     -7     "
      ]
     },
     "metadata": {},
     "output_type": "display_data"
    }
   ],
   "source": [
    "# Base R approach to select FlightNum,DayOfWeek, ArrTime, and ArrDelay columns\n",
    "\n",
    "head(flights[,c(\"FlightNum\",\"DayOfWeek\",\"ArrTime\",\"ArrDelay\")])"
   ]
  },
  {
   "cell_type": "code",
   "execution_count": 36,
   "id": "ea5fb8d5",
   "metadata": {},
   "outputs": [
    {
     "data": {
      "text/html": [
       "<table class=\"dataframe\">\n",
       "<caption>A tibble: 6 × 4</caption>\n",
       "<thead>\n",
       "\t<tr><th scope=col>FlightNum</th><th scope=col>DayOfWeek</th><th scope=col>ArrTime</th><th scope=col>ArrDelay</th></tr>\n",
       "\t<tr><th scope=col>&lt;int&gt;</th><th scope=col>&lt;int&gt;</th><th scope=col>&lt;int&gt;</th><th scope=col>&lt;int&gt;</th></tr>\n",
       "</thead>\n",
       "<tbody>\n",
       "\t<tr><td>428</td><td>6</td><td>1500</td><td>-10</td></tr>\n",
       "\t<tr><td>428</td><td>7</td><td>1501</td><td> -9</td></tr>\n",
       "\t<tr><td>428</td><td>1</td><td>1502</td><td> -8</td></tr>\n",
       "\t<tr><td>428</td><td>2</td><td>1513</td><td>  3</td></tr>\n",
       "\t<tr><td>428</td><td>3</td><td>1507</td><td> -3</td></tr>\n",
       "\t<tr><td>428</td><td>4</td><td>1503</td><td> -7</td></tr>\n",
       "</tbody>\n",
       "</table>\n"
      ],
      "text/latex": [
       "A tibble: 6 × 4\n",
       "\\begin{tabular}{llll}\n",
       " FlightNum & DayOfWeek & ArrTime & ArrDelay\\\\\n",
       " <int> & <int> & <int> & <int>\\\\\n",
       "\\hline\n",
       "\t 428 & 6 & 1500 & -10\\\\\n",
       "\t 428 & 7 & 1501 &  -9\\\\\n",
       "\t 428 & 1 & 1502 &  -8\\\\\n",
       "\t 428 & 2 & 1513 &   3\\\\\n",
       "\t 428 & 3 & 1507 &  -3\\\\\n",
       "\t 428 & 4 & 1503 &  -7\\\\\n",
       "\\end{tabular}\n"
      ],
      "text/markdown": [
       "\n",
       "A tibble: 6 × 4\n",
       "\n",
       "| FlightNum &lt;int&gt; | DayOfWeek &lt;int&gt; | ArrTime &lt;int&gt; | ArrDelay &lt;int&gt; |\n",
       "|---|---|---|---|\n",
       "| 428 | 6 | 1500 | -10 |\n",
       "| 428 | 7 | 1501 |  -9 |\n",
       "| 428 | 1 | 1502 |  -8 |\n",
       "| 428 | 2 | 1513 |   3 |\n",
       "| 428 | 3 | 1507 |  -3 |\n",
       "| 428 | 4 | 1503 |  -7 |\n",
       "\n"
      ],
      "text/plain": [
       "  FlightNum DayOfWeek ArrTime ArrDelay\n",
       "1 428       6         1500    -10     \n",
       "2 428       7         1501     -9     \n",
       "3 428       1         1502     -8     \n",
       "4 428       2         1513      3     \n",
       "5 428       3         1507     -3     \n",
       "6 428       4         1503     -7     "
      ]
     },
     "metadata": {},
     "output_type": "display_data"
    }
   ],
   "source": [
    "# select () function to select FlightNum,DayOfWeek, ArrTime, and ArrDelay columns\n",
    "\n",
    "head(select(flights,FlightNum,DayOfWeek,ArrTime,ArrDelay))"
   ]
  },
  {
   "cell_type": "code",
   "execution_count": 37,
   "id": "b1d8b455",
   "metadata": {},
   "outputs": [
    {
     "data": {
      "text/html": [
       "<table class=\"dataframe\">\n",
       "<caption>A tibble: 6 × 7</caption>\n",
       "<thead>\n",
       "\t<tr><th scope=col>DayofMonth</th><th scope=col>DayOfWeek</th><th scope=col>DepTime</th><th scope=col>DepDelay</th><th scope=col>Dest</th><th scope=col>Distance</th><th scope=col>Diverted</th></tr>\n",
       "\t<tr><th scope=col>&lt;int&gt;</th><th scope=col>&lt;int&gt;</th><th scope=col>&lt;int&gt;</th><th scope=col>&lt;int&gt;</th><th scope=col>&lt;chr&gt;</th><th scope=col>&lt;int&gt;</th><th scope=col>&lt;int&gt;</th></tr>\n",
       "</thead>\n",
       "<tbody>\n",
       "\t<tr><td>1</td><td>6</td><td>1400</td><td> 0</td><td>DFW</td><td>224</td><td>0</td></tr>\n",
       "\t<tr><td>2</td><td>7</td><td>1401</td><td> 1</td><td>DFW</td><td>224</td><td>0</td></tr>\n",
       "\t<tr><td>3</td><td>1</td><td>1352</td><td>-8</td><td>DFW</td><td>224</td><td>0</td></tr>\n",
       "\t<tr><td>4</td><td>2</td><td>1403</td><td> 3</td><td>DFW</td><td>224</td><td>0</td></tr>\n",
       "\t<tr><td>5</td><td>3</td><td>1405</td><td> 5</td><td>DFW</td><td>224</td><td>0</td></tr>\n",
       "\t<tr><td>6</td><td>4</td><td>1359</td><td>-1</td><td>DFW</td><td>224</td><td>0</td></tr>\n",
       "</tbody>\n",
       "</table>\n"
      ],
      "text/latex": [
       "A tibble: 6 × 7\n",
       "\\begin{tabular}{lllllll}\n",
       " DayofMonth & DayOfWeek & DepTime & DepDelay & Dest & Distance & Diverted\\\\\n",
       " <int> & <int> & <int> & <int> & <chr> & <int> & <int>\\\\\n",
       "\\hline\n",
       "\t 1 & 6 & 1400 &  0 & DFW & 224 & 0\\\\\n",
       "\t 2 & 7 & 1401 &  1 & DFW & 224 & 0\\\\\n",
       "\t 3 & 1 & 1352 & -8 & DFW & 224 & 0\\\\\n",
       "\t 4 & 2 & 1403 &  3 & DFW & 224 & 0\\\\\n",
       "\t 5 & 3 & 1405 &  5 & DFW & 224 & 0\\\\\n",
       "\t 6 & 4 & 1359 & -1 & DFW & 224 & 0\\\\\n",
       "\\end{tabular}\n"
      ],
      "text/markdown": [
       "\n",
       "A tibble: 6 × 7\n",
       "\n",
       "| DayofMonth &lt;int&gt; | DayOfWeek &lt;int&gt; | DepTime &lt;int&gt; | DepDelay &lt;int&gt; | Dest &lt;chr&gt; | Distance &lt;int&gt; | Diverted &lt;int&gt; |\n",
       "|---|---|---|---|---|---|---|\n",
       "| 1 | 6 | 1400 |  0 | DFW | 224 | 0 |\n",
       "| 2 | 7 | 1401 |  1 | DFW | 224 | 0 |\n",
       "| 3 | 1 | 1352 | -8 | DFW | 224 | 0 |\n",
       "| 4 | 2 | 1403 |  3 | DFW | 224 | 0 |\n",
       "| 5 | 3 | 1405 |  5 | DFW | 224 | 0 |\n",
       "| 6 | 4 | 1359 | -1 | DFW | 224 | 0 |\n",
       "\n"
      ],
      "text/plain": [
       "  DayofMonth DayOfWeek DepTime DepDelay Dest Distance Diverted\n",
       "1 1          6         1400     0       DFW  224      0       \n",
       "2 2          7         1401     1       DFW  224      0       \n",
       "3 3          1         1352    -8       DFW  224      0       \n",
       "4 4          2         1403     3       DFW  224      0       \n",
       "5 5          3         1405     5       DFW  224      0       \n",
       "6 6          4         1359    -1       DFW  224      0       "
      ]
     },
     "metadata": {},
     "output_type": "display_data"
    }
   ],
   "source": [
    "# Suppose we want to keep every variable that starts with a “D”.\n",
    "flightsD<-select(flights,starts_with(\"D\"))\n",
    "\n",
    "head(flightsD)"
   ]
  },
  {
   "cell_type": "code",
   "execution_count": 39,
   "id": "d865fb8b",
   "metadata": {},
   "outputs": [
    {
     "data": {
      "text/html": [
       "<table class=\"dataframe\">\n",
       "<caption>A tibble: 6 × 6</caption>\n",
       "<thead>\n",
       "\t<tr><th scope=col>DepTime</th><th scope=col>ArrTime</th><th scope=col>ActualElapsedTime</th><th scope=col>AirTime</th><th scope=col>Distance</th><th scope=col>CancellationCode</th></tr>\n",
       "\t<tr><th scope=col>&lt;int&gt;</th><th scope=col>&lt;int&gt;</th><th scope=col>&lt;int&gt;</th><th scope=col>&lt;int&gt;</th><th scope=col>&lt;int&gt;</th><th scope=col>&lt;chr&gt;</th></tr>\n",
       "</thead>\n",
       "<tbody>\n",
       "\t<tr><td>1400</td><td>1500</td><td>60</td><td>40</td><td>224</td><td></td></tr>\n",
       "\t<tr><td>1401</td><td>1501</td><td>60</td><td>45</td><td>224</td><td></td></tr>\n",
       "\t<tr><td>1352</td><td>1502</td><td>70</td><td>48</td><td>224</td><td></td></tr>\n",
       "\t<tr><td>1403</td><td>1513</td><td>70</td><td>39</td><td>224</td><td></td></tr>\n",
       "\t<tr><td>1405</td><td>1507</td><td>62</td><td>44</td><td>224</td><td></td></tr>\n",
       "\t<tr><td>1359</td><td>1503</td><td>64</td><td>45</td><td>224</td><td></td></tr>\n",
       "</tbody>\n",
       "</table>\n"
      ],
      "text/latex": [
       "A tibble: 6 × 6\n",
       "\\begin{tabular}{llllll}\n",
       " DepTime & ArrTime & ActualElapsedTime & AirTime & Distance & CancellationCode\\\\\n",
       " <int> & <int> & <int> & <int> & <int> & <chr>\\\\\n",
       "\\hline\n",
       "\t 1400 & 1500 & 60 & 40 & 224 & \\\\\n",
       "\t 1401 & 1501 & 60 & 45 & 224 & \\\\\n",
       "\t 1352 & 1502 & 70 & 48 & 224 & \\\\\n",
       "\t 1403 & 1513 & 70 & 39 & 224 & \\\\\n",
       "\t 1405 & 1507 & 62 & 44 & 224 & \\\\\n",
       "\t 1359 & 1503 & 64 & 45 & 224 & \\\\\n",
       "\\end{tabular}\n"
      ],
      "text/markdown": [
       "\n",
       "A tibble: 6 × 6\n",
       "\n",
       "| DepTime &lt;int&gt; | ArrTime &lt;int&gt; | ActualElapsedTime &lt;int&gt; | AirTime &lt;int&gt; | Distance &lt;int&gt; | CancellationCode &lt;chr&gt; |\n",
       "|---|---|---|---|---|---|\n",
       "| 1400 | 1500 | 60 | 40 | 224 | <!----> |\n",
       "| 1401 | 1501 | 60 | 45 | 224 | <!----> |\n",
       "| 1352 | 1502 | 70 | 48 | 224 | <!----> |\n",
       "| 1403 | 1513 | 70 | 39 | 224 | <!----> |\n",
       "| 1405 | 1507 | 62 | 44 | 224 | <!----> |\n",
       "| 1359 | 1503 | 64 | 45 | 224 | <!----> |\n",
       "\n"
      ],
      "text/plain": [
       "  DepTime ArrTime ActualElapsedTime AirTime Distance CancellationCode\n",
       "1 1400    1500    60                40      224                      \n",
       "2 1401    1501    60                45      224                      \n",
       "3 1352    1502    70                48      224                      \n",
       "4 1403    1513    70                39      224                      \n",
       "5 1405    1507    62                44      224                      \n",
       "6 1359    1503    64                45      224                      "
      ]
     },
     "metadata": {},
     "output_type": "display_data"
    }
   ],
   "source": [
    "# Find out every variable in flights that ends with “s”.\n",
    "\n",
    "flightsends<-select(flights,ends_with(\"e\"))\n",
    "head(flightsends)"
   ]
  },
  {
   "cell_type": "code",
   "execution_count": 41,
   "id": "fdf3d187",
   "metadata": {},
   "outputs": [
    {
     "data": {
      "text/html": [
       "<table class=\"dataframe\">\n",
       "<caption>A data.frame: 6 × 8</caption>\n",
       "<thead>\n",
       "\t<tr><th></th><th scope=col>FlightNum</th><th scope=col>TailNum</th><th scope=col>ActualElapsedTime</th><th scope=col>AirTime</th><th scope=col>ArrDelay</th><th scope=col>DepDelay</th><th scope=col>Origin</th><th scope=col>Dest</th></tr>\n",
       "\t<tr><th></th><th scope=col>&lt;int&gt;</th><th scope=col>&lt;chr&gt;</th><th scope=col>&lt;int&gt;</th><th scope=col>&lt;int&gt;</th><th scope=col>&lt;int&gt;</th><th scope=col>&lt;int&gt;</th><th scope=col>&lt;chr&gt;</th><th scope=col>&lt;chr&gt;</th></tr>\n",
       "</thead>\n",
       "<tbody>\n",
       "\t<tr><th scope=row>5424</th><td>428</td><td>N576AA</td><td>60</td><td>40</td><td>-10</td><td> 0</td><td>IAH</td><td>DFW</td></tr>\n",
       "\t<tr><th scope=row>5425</th><td>428</td><td>N557AA</td><td>60</td><td>45</td><td> -9</td><td> 1</td><td>IAH</td><td>DFW</td></tr>\n",
       "\t<tr><th scope=row>5426</th><td>428</td><td>N541AA</td><td>70</td><td>48</td><td> -8</td><td>-8</td><td>IAH</td><td>DFW</td></tr>\n",
       "\t<tr><th scope=row>5427</th><td>428</td><td>N403AA</td><td>70</td><td>39</td><td>  3</td><td> 3</td><td>IAH</td><td>DFW</td></tr>\n",
       "\t<tr><th scope=row>5428</th><td>428</td><td>N492AA</td><td>62</td><td>44</td><td> -3</td><td> 5</td><td>IAH</td><td>DFW</td></tr>\n",
       "\t<tr><th scope=row>5429</th><td>428</td><td>N262AA</td><td>64</td><td>45</td><td> -7</td><td>-1</td><td>IAH</td><td>DFW</td></tr>\n",
       "</tbody>\n",
       "</table>\n"
      ],
      "text/latex": [
       "A data.frame: 6 × 8\n",
       "\\begin{tabular}{r|llllllll}\n",
       "  & FlightNum & TailNum & ActualElapsedTime & AirTime & ArrDelay & DepDelay & Origin & Dest\\\\\n",
       "  & <int> & <chr> & <int> & <int> & <int> & <int> & <chr> & <chr>\\\\\n",
       "\\hline\n",
       "\t5424 & 428 & N576AA & 60 & 40 & -10 &  0 & IAH & DFW\\\\\n",
       "\t5425 & 428 & N557AA & 60 & 45 &  -9 &  1 & IAH & DFW\\\\\n",
       "\t5426 & 428 & N541AA & 70 & 48 &  -8 & -8 & IAH & DFW\\\\\n",
       "\t5427 & 428 & N403AA & 70 & 39 &   3 &  3 & IAH & DFW\\\\\n",
       "\t5428 & 428 & N492AA & 62 & 44 &  -3 &  5 & IAH & DFW\\\\\n",
       "\t5429 & 428 & N262AA & 64 & 45 &  -7 & -1 & IAH & DFW\\\\\n",
       "\\end{tabular}\n"
      ],
      "text/markdown": [
       "\n",
       "A data.frame: 6 × 8\n",
       "\n",
       "| <!--/--> | FlightNum &lt;int&gt; | TailNum &lt;chr&gt; | ActualElapsedTime &lt;int&gt; | AirTime &lt;int&gt; | ArrDelay &lt;int&gt; | DepDelay &lt;int&gt; | Origin &lt;chr&gt; | Dest &lt;chr&gt; |\n",
       "|---|---|---|---|---|---|---|---|---|\n",
       "| 5424 | 428 | N576AA | 60 | 40 | -10 |  0 | IAH | DFW |\n",
       "| 5425 | 428 | N557AA | 60 | 45 |  -9 |  1 | IAH | DFW |\n",
       "| 5426 | 428 | N541AA | 70 | 48 |  -8 | -8 | IAH | DFW |\n",
       "| 5427 | 428 | N403AA | 70 | 39 |   3 |  3 | IAH | DFW |\n",
       "| 5428 | 428 | N492AA | 62 | 44 |  -3 |  5 | IAH | DFW |\n",
       "| 5429 | 428 | N262AA | 64 | 45 |  -7 | -1 | IAH | DFW |\n",
       "\n"
      ],
      "text/plain": [
       "     FlightNum TailNum ActualElapsedTime AirTime ArrDelay DepDelay Origin Dest\n",
       "5424 428       N576AA  60                40      -10       0       IAH    DFW \n",
       "5425 428       N557AA  60                45       -9       1       IAH    DFW \n",
       "5426 428       N541AA  70                48       -8      -8       IAH    DFW \n",
       "5427 428       N403AA  70                39        3       3       IAH    DFW \n",
       "5428 428       N492AA  62                44       -3       5       IAH    DFW \n",
       "5429 428       N262AA  64                45       -7      -1       IAH    DFW "
      ]
     },
     "metadata": {},
     "output_type": "display_data"
    }
   ],
   "source": [
    "# Print out the columns from FlightNumber to Destination of flights\n",
    "head(select(hflights, 8:15))"
   ]
  },
  {
   "cell_type": "code",
   "execution_count": 42,
   "id": "0348cf63",
   "metadata": {},
   "outputs": [
    {
     "data": {
      "text/html": [
       "<table class=\"dataframe\">\n",
       "<caption>A tibble: 6 × 19</caption>\n",
       "<thead>\n",
       "\t<tr><th scope=col>Year</th><th scope=col>Month</th><th scope=col>DayofMonth</th><th scope=col>DayOfWeek</th><th scope=col>DepTime</th><th scope=col>ArrTime</th><th scope=col>UniqueCarrier</th><th scope=col>FlightNum</th><th scope=col>TailNum</th><th scope=col>ActualElapsedTime</th><th scope=col>AirTime</th><th scope=col>ArrDelay</th><th scope=col>Origin</th><th scope=col>Dest</th><th scope=col>Distance</th><th scope=col>TaxiIn</th><th scope=col>TaxiOut</th><th scope=col>Cancelled</th><th scope=col>Diverted</th></tr>\n",
       "\t<tr><th scope=col>&lt;int&gt;</th><th scope=col>&lt;int&gt;</th><th scope=col>&lt;int&gt;</th><th scope=col>&lt;int&gt;</th><th scope=col>&lt;int&gt;</th><th scope=col>&lt;int&gt;</th><th scope=col>&lt;chr&gt;</th><th scope=col>&lt;int&gt;</th><th scope=col>&lt;chr&gt;</th><th scope=col>&lt;int&gt;</th><th scope=col>&lt;int&gt;</th><th scope=col>&lt;int&gt;</th><th scope=col>&lt;chr&gt;</th><th scope=col>&lt;chr&gt;</th><th scope=col>&lt;int&gt;</th><th scope=col>&lt;int&gt;</th><th scope=col>&lt;int&gt;</th><th scope=col>&lt;int&gt;</th><th scope=col>&lt;int&gt;</th></tr>\n",
       "</thead>\n",
       "<tbody>\n",
       "\t<tr><td>2011</td><td>1</td><td>1</td><td>6</td><td>1400</td><td>1500</td><td>AA</td><td>428</td><td>N576AA</td><td>60</td><td>40</td><td>-10</td><td>IAH</td><td>DFW</td><td>224</td><td>7</td><td>13</td><td>0</td><td>0</td></tr>\n",
       "\t<tr><td>2011</td><td>1</td><td>2</td><td>7</td><td>1401</td><td>1501</td><td>AA</td><td>428</td><td>N557AA</td><td>60</td><td>45</td><td> -9</td><td>IAH</td><td>DFW</td><td>224</td><td>6</td><td> 9</td><td>0</td><td>0</td></tr>\n",
       "\t<tr><td>2011</td><td>1</td><td>3</td><td>1</td><td>1352</td><td>1502</td><td>AA</td><td>428</td><td>N541AA</td><td>70</td><td>48</td><td> -8</td><td>IAH</td><td>DFW</td><td>224</td><td>5</td><td>17</td><td>0</td><td>0</td></tr>\n",
       "\t<tr><td>2011</td><td>1</td><td>4</td><td>2</td><td>1403</td><td>1513</td><td>AA</td><td>428</td><td>N403AA</td><td>70</td><td>39</td><td>  3</td><td>IAH</td><td>DFW</td><td>224</td><td>9</td><td>22</td><td>0</td><td>0</td></tr>\n",
       "\t<tr><td>2011</td><td>1</td><td>5</td><td>3</td><td>1405</td><td>1507</td><td>AA</td><td>428</td><td>N492AA</td><td>62</td><td>44</td><td> -3</td><td>IAH</td><td>DFW</td><td>224</td><td>9</td><td> 9</td><td>0</td><td>0</td></tr>\n",
       "\t<tr><td>2011</td><td>1</td><td>6</td><td>4</td><td>1359</td><td>1503</td><td>AA</td><td>428</td><td>N262AA</td><td>64</td><td>45</td><td> -7</td><td>IAH</td><td>DFW</td><td>224</td><td>6</td><td>13</td><td>0</td><td>0</td></tr>\n",
       "</tbody>\n",
       "</table>\n"
      ],
      "text/latex": [
       "A tibble: 6 × 19\n",
       "\\begin{tabular}{lllllllllllllllllll}\n",
       " Year & Month & DayofMonth & DayOfWeek & DepTime & ArrTime & UniqueCarrier & FlightNum & TailNum & ActualElapsedTime & AirTime & ArrDelay & Origin & Dest & Distance & TaxiIn & TaxiOut & Cancelled & Diverted\\\\\n",
       " <int> & <int> & <int> & <int> & <int> & <int> & <chr> & <int> & <chr> & <int> & <int> & <int> & <chr> & <chr> & <int> & <int> & <int> & <int> & <int>\\\\\n",
       "\\hline\n",
       "\t 2011 & 1 & 1 & 6 & 1400 & 1500 & AA & 428 & N576AA & 60 & 40 & -10 & IAH & DFW & 224 & 7 & 13 & 0 & 0\\\\\n",
       "\t 2011 & 1 & 2 & 7 & 1401 & 1501 & AA & 428 & N557AA & 60 & 45 &  -9 & IAH & DFW & 224 & 6 &  9 & 0 & 0\\\\\n",
       "\t 2011 & 1 & 3 & 1 & 1352 & 1502 & AA & 428 & N541AA & 70 & 48 &  -8 & IAH & DFW & 224 & 5 & 17 & 0 & 0\\\\\n",
       "\t 2011 & 1 & 4 & 2 & 1403 & 1513 & AA & 428 & N403AA & 70 & 39 &   3 & IAH & DFW & 224 & 9 & 22 & 0 & 0\\\\\n",
       "\t 2011 & 1 & 5 & 3 & 1405 & 1507 & AA & 428 & N492AA & 62 & 44 &  -3 & IAH & DFW & 224 & 9 &  9 & 0 & 0\\\\\n",
       "\t 2011 & 1 & 6 & 4 & 1359 & 1503 & AA & 428 & N262AA & 64 & 45 &  -7 & IAH & DFW & 224 & 6 & 13 & 0 & 0\\\\\n",
       "\\end{tabular}\n"
      ],
      "text/markdown": [
       "\n",
       "A tibble: 6 × 19\n",
       "\n",
       "| Year &lt;int&gt; | Month &lt;int&gt; | DayofMonth &lt;int&gt; | DayOfWeek &lt;int&gt; | DepTime &lt;int&gt; | ArrTime &lt;int&gt; | UniqueCarrier &lt;chr&gt; | FlightNum &lt;int&gt; | TailNum &lt;chr&gt; | ActualElapsedTime &lt;int&gt; | AirTime &lt;int&gt; | ArrDelay &lt;int&gt; | Origin &lt;chr&gt; | Dest &lt;chr&gt; | Distance &lt;int&gt; | TaxiIn &lt;int&gt; | TaxiOut &lt;int&gt; | Cancelled &lt;int&gt; | Diverted &lt;int&gt; |\n",
       "|---|---|---|---|---|---|---|---|---|---|---|---|---|---|---|---|---|---|---|\n",
       "| 2011 | 1 | 1 | 6 | 1400 | 1500 | AA | 428 | N576AA | 60 | 40 | -10 | IAH | DFW | 224 | 7 | 13 | 0 | 0 |\n",
       "| 2011 | 1 | 2 | 7 | 1401 | 1501 | AA | 428 | N557AA | 60 | 45 |  -9 | IAH | DFW | 224 | 6 |  9 | 0 | 0 |\n",
       "| 2011 | 1 | 3 | 1 | 1352 | 1502 | AA | 428 | N541AA | 70 | 48 |  -8 | IAH | DFW | 224 | 5 | 17 | 0 | 0 |\n",
       "| 2011 | 1 | 4 | 2 | 1403 | 1513 | AA | 428 | N403AA | 70 | 39 |   3 | IAH | DFW | 224 | 9 | 22 | 0 | 0 |\n",
       "| 2011 | 1 | 5 | 3 | 1405 | 1507 | AA | 428 | N492AA | 62 | 44 |  -3 | IAH | DFW | 224 | 9 |  9 | 0 | 0 |\n",
       "| 2011 | 1 | 6 | 4 | 1359 | 1503 | AA | 428 | N262AA | 64 | 45 |  -7 | IAH | DFW | 224 | 6 | 13 | 0 | 0 |\n",
       "\n"
      ],
      "text/plain": [
       "  Year Month DayofMonth DayOfWeek DepTime ArrTime UniqueCarrier FlightNum\n",
       "1 2011 1     1          6         1400    1500    AA            428      \n",
       "2 2011 1     2          7         1401    1501    AA            428      \n",
       "3 2011 1     3          1         1352    1502    AA            428      \n",
       "4 2011 1     4          2         1403    1513    AA            428      \n",
       "5 2011 1     5          3         1405    1507    AA            428      \n",
       "6 2011 1     6          4         1359    1503    AA            428      \n",
       "  TailNum ActualElapsedTime AirTime ArrDelay Origin Dest Distance TaxiIn\n",
       "1 N576AA  60                40      -10      IAH    DFW  224      7     \n",
       "2 N557AA  60                45       -9      IAH    DFW  224      6     \n",
       "3 N541AA  70                48       -8      IAH    DFW  224      5     \n",
       "4 N403AA  70                39        3      IAH    DFW  224      9     \n",
       "5 N492AA  62                44       -3      IAH    DFW  224      9     \n",
       "6 N262AA  64                45       -7      IAH    DFW  224      6     \n",
       "  TaxiOut Cancelled Diverted\n",
       "1 13      0         0       \n",
       "2  9      0         0       \n",
       "3 17      0         0       \n",
       "4 22      0         0       \n",
       "5  9      0         0       \n",
       "6 13      0         0       "
      ]
     },
     "metadata": {},
     "output_type": "display_data"
    }
   ],
   "source": [
    "# You can also omit variables using the select() function by using the negative sign.\n",
    "\n",
    "flightdrop<-select(flights,-c(CancellationCode,DepDelay))\n",
    "\n",
    "head(flightdrop)"
   ]
  },
  {
   "cell_type": "code",
   "execution_count": 43,
   "id": "97f7cbbc",
   "metadata": {},
   "outputs": [
    {
     "data": {
      "text/html": [
       "<table class=\"dataframe\">\n",
       "<caption>A tibble: 2 × 19</caption>\n",
       "<thead>\n",
       "\t<tr><th scope=col>Year</th><th scope=col>Month</th><th scope=col>DayofMonth</th><th scope=col>DayOfWeek</th><th scope=col>DepTime</th><th scope=col>ArrTime</th><th scope=col>UniqueCarrier</th><th scope=col>FlightNum</th><th scope=col>TailNum</th><th scope=col>ActualElapsedTime</th><th scope=col>AirTime</th><th scope=col>ArrDelay</th><th scope=col>Origin</th><th scope=col>Dest</th><th scope=col>Distance</th><th scope=col>TaxiIn</th><th scope=col>TaxiOut</th><th scope=col>Cancelled</th><th scope=col>Diverted</th></tr>\n",
       "\t<tr><th scope=col>&lt;int&gt;</th><th scope=col>&lt;int&gt;</th><th scope=col>&lt;int&gt;</th><th scope=col>&lt;int&gt;</th><th scope=col>&lt;int&gt;</th><th scope=col>&lt;int&gt;</th><th scope=col>&lt;chr&gt;</th><th scope=col>&lt;int&gt;</th><th scope=col>&lt;chr&gt;</th><th scope=col>&lt;int&gt;</th><th scope=col>&lt;int&gt;</th><th scope=col>&lt;int&gt;</th><th scope=col>&lt;chr&gt;</th><th scope=col>&lt;chr&gt;</th><th scope=col>&lt;int&gt;</th><th scope=col>&lt;int&gt;</th><th scope=col>&lt;int&gt;</th><th scope=col>&lt;int&gt;</th><th scope=col>&lt;int&gt;</th></tr>\n",
       "</thead>\n",
       "<tbody>\n",
       "\t<tr><td>2011</td><td>12</td><td>26</td><td>1</td><td>1427</td><td>1525</td><td>XE</td><td>4225</td><td>N14943</td><td>58</td><td>37</td><td>-7</td><td>IAH</td><td>DAL</td><td>216</td><td>9</td><td>12</td><td>0</td><td>0</td></tr>\n",
       "\t<tr><td>2011</td><td> 7</td><td>15</td><td>5</td><td>1803</td><td>1917</td><td>XE</td><td>2425</td><td>N14974</td><td>74</td><td>49</td><td>-1</td><td>IAH</td><td>BRO</td><td>308</td><td>6</td><td>19</td><td>0</td><td>0</td></tr>\n",
       "</tbody>\n",
       "</table>\n"
      ],
      "text/latex": [
       "A tibble: 2 × 19\n",
       "\\begin{tabular}{lllllllllllllllllll}\n",
       " Year & Month & DayofMonth & DayOfWeek & DepTime & ArrTime & UniqueCarrier & FlightNum & TailNum & ActualElapsedTime & AirTime & ArrDelay & Origin & Dest & Distance & TaxiIn & TaxiOut & Cancelled & Diverted\\\\\n",
       " <int> & <int> & <int> & <int> & <int> & <int> & <chr> & <int> & <chr> & <int> & <int> & <int> & <chr> & <chr> & <int> & <int> & <int> & <int> & <int>\\\\\n",
       "\\hline\n",
       "\t 2011 & 12 & 26 & 1 & 1427 & 1525 & XE & 4225 & N14943 & 58 & 37 & -7 & IAH & DAL & 216 & 9 & 12 & 0 & 0\\\\\n",
       "\t 2011 &  7 & 15 & 5 & 1803 & 1917 & XE & 2425 & N14974 & 74 & 49 & -1 & IAH & BRO & 308 & 6 & 19 & 0 & 0\\\\\n",
       "\\end{tabular}\n"
      ],
      "text/markdown": [
       "\n",
       "A tibble: 2 × 19\n",
       "\n",
       "| Year &lt;int&gt; | Month &lt;int&gt; | DayofMonth &lt;int&gt; | DayOfWeek &lt;int&gt; | DepTime &lt;int&gt; | ArrTime &lt;int&gt; | UniqueCarrier &lt;chr&gt; | FlightNum &lt;int&gt; | TailNum &lt;chr&gt; | ActualElapsedTime &lt;int&gt; | AirTime &lt;int&gt; | ArrDelay &lt;int&gt; | Origin &lt;chr&gt; | Dest &lt;chr&gt; | Distance &lt;int&gt; | TaxiIn &lt;int&gt; | TaxiOut &lt;int&gt; | Cancelled &lt;int&gt; | Diverted &lt;int&gt; |\n",
       "|---|---|---|---|---|---|---|---|---|---|---|---|---|---|---|---|---|---|---|\n",
       "| 2011 | 12 | 26 | 1 | 1427 | 1525 | XE | 4225 | N14943 | 58 | 37 | -7 | IAH | DAL | 216 | 9 | 12 | 0 | 0 |\n",
       "| 2011 |  7 | 15 | 5 | 1803 | 1917 | XE | 2425 | N14974 | 74 | 49 | -1 | IAH | BRO | 308 | 6 | 19 | 0 | 0 |\n",
       "\n"
      ],
      "text/plain": [
       "  Year Month DayofMonth DayOfWeek DepTime ArrTime UniqueCarrier FlightNum\n",
       "1 2011 12    26         1         1427    1525    XE            4225     \n",
       "2 2011  7    15         5         1803    1917    XE            2425     \n",
       "  TailNum ActualElapsedTime AirTime ArrDelay Origin Dest Distance TaxiIn\n",
       "1 N14943  58                37      -7       IAH    DAL  216      9     \n",
       "2 N14974  74                49      -1       IAH    BRO  308      6     \n",
       "  TaxiOut Cancelled Diverted\n",
       "1 12      0         0       \n",
       "2 19      0         0       "
      ]
     },
     "metadata": {},
     "output_type": "display_data"
    }
   ],
   "source": [
    "#select random rows form a data frame\n",
    "sample_n(flightdrop, size=2)"
   ]
  },
  {
   "cell_type": "code",
   "execution_count": 44,
   "id": "5c8d2aef",
   "metadata": {},
   "outputs": [
    {
     "data": {
      "text/html": [
       "<table class=\"dataframe\">\n",
       "<caption>A tibble: 2 × 19</caption>\n",
       "<thead>\n",
       "\t<tr><th scope=col>Year</th><th scope=col>Month</th><th scope=col>DayOfWeek</th><th scope=col>DepTime</th><th scope=col>ArrTime</th><th scope=col>FlightNum</th><th scope=col>TailNum</th><th scope=col>ActualElapsedTime</th><th scope=col>AirTime</th><th scope=col>ArrDelay</th><th scope=col>DepDelay</th><th scope=col>Origin</th><th scope=col>Dest</th><th scope=col>Distance</th><th scope=col>TaxiIn</th><th scope=col>TaxiOut</th><th scope=col>Cancelled</th><th scope=col>CancellationCode</th><th scope=col>Diverted</th></tr>\n",
       "\t<tr><th scope=col>&lt;int&gt;</th><th scope=col>&lt;int&gt;</th><th scope=col>&lt;int&gt;</th><th scope=col>&lt;int&gt;</th><th scope=col>&lt;int&gt;</th><th scope=col>&lt;int&gt;</th><th scope=col>&lt;chr&gt;</th><th scope=col>&lt;int&gt;</th><th scope=col>&lt;int&gt;</th><th scope=col>&lt;int&gt;</th><th scope=col>&lt;int&gt;</th><th scope=col>&lt;chr&gt;</th><th scope=col>&lt;chr&gt;</th><th scope=col>&lt;int&gt;</th><th scope=col>&lt;int&gt;</th><th scope=col>&lt;int&gt;</th><th scope=col>&lt;int&gt;</th><th scope=col>&lt;chr&gt;</th><th scope=col>&lt;int&gt;</th></tr>\n",
       "</thead>\n",
       "<tbody>\n",
       "\t<tr><td>2011</td><td>11</td><td>2</td><td>1219</td><td>1344</td><td> 145</td><td>N932FR</td><td>145</td><td>129</td><td>-3</td><td>-6</td><td>HOU</td><td>DEN</td><td>883</td><td>5</td><td>11</td><td>0</td><td></td><td>0</td></tr>\n",
       "\t<tr><td>2011</td><td>10</td><td>7</td><td>1234</td><td>1557</td><td>1515</td><td>N11612</td><td>143</td><td>121</td><td> 1</td><td> 4</td><td>IAH</td><td>CLT</td><td>912</td><td>7</td><td>15</td><td>0</td><td></td><td>0</td></tr>\n",
       "</tbody>\n",
       "</table>\n"
      ],
      "text/latex": [
       "A tibble: 2 × 19\n",
       "\\begin{tabular}{lllllllllllllllllll}\n",
       " Year & Month & DayOfWeek & DepTime & ArrTime & FlightNum & TailNum & ActualElapsedTime & AirTime & ArrDelay & DepDelay & Origin & Dest & Distance & TaxiIn & TaxiOut & Cancelled & CancellationCode & Diverted\\\\\n",
       " <int> & <int> & <int> & <int> & <int> & <int> & <chr> & <int> & <int> & <int> & <int> & <chr> & <chr> & <int> & <int> & <int> & <int> & <chr> & <int>\\\\\n",
       "\\hline\n",
       "\t 2011 & 11 & 2 & 1219 & 1344 &  145 & N932FR & 145 & 129 & -3 & -6 & HOU & DEN & 883 & 5 & 11 & 0 &  & 0\\\\\n",
       "\t 2011 & 10 & 7 & 1234 & 1557 & 1515 & N11612 & 143 & 121 &  1 &  4 & IAH & CLT & 912 & 7 & 15 & 0 &  & 0\\\\\n",
       "\\end{tabular}\n"
      ],
      "text/markdown": [
       "\n",
       "A tibble: 2 × 19\n",
       "\n",
       "| Year &lt;int&gt; | Month &lt;int&gt; | DayOfWeek &lt;int&gt; | DepTime &lt;int&gt; | ArrTime &lt;int&gt; | FlightNum &lt;int&gt; | TailNum &lt;chr&gt; | ActualElapsedTime &lt;int&gt; | AirTime &lt;int&gt; | ArrDelay &lt;int&gt; | DepDelay &lt;int&gt; | Origin &lt;chr&gt; | Dest &lt;chr&gt; | Distance &lt;int&gt; | TaxiIn &lt;int&gt; | TaxiOut &lt;int&gt; | Cancelled &lt;int&gt; | CancellationCode &lt;chr&gt; | Diverted &lt;int&gt; |\n",
       "|---|---|---|---|---|---|---|---|---|---|---|---|---|---|---|---|---|---|---|\n",
       "| 2011 | 11 | 2 | 1219 | 1344 |  145 | N932FR | 145 | 129 | -3 | -6 | HOU | DEN | 883 | 5 | 11 | 0 | <!----> | 0 |\n",
       "| 2011 | 10 | 7 | 1234 | 1557 | 1515 | N11612 | 143 | 121 |  1 |  4 | IAH | CLT | 912 | 7 | 15 | 0 | <!----> | 0 |\n",
       "\n"
      ],
      "text/plain": [
       "  Year Month DayOfWeek DepTime ArrTime FlightNum TailNum ActualElapsedTime\n",
       "1 2011 11    2         1219    1344     145      N932FR  145              \n",
       "2 2011 10    7         1234    1557    1515      N11612  143              \n",
       "  AirTime ArrDelay DepDelay Origin Dest Distance TaxiIn TaxiOut Cancelled\n",
       "1 129     -3       -6       HOU    DEN  883      5      11      0        \n",
       "2 121      1        4       IAH    CLT  912      7      15      0        \n",
       "  CancellationCode Diverted\n",
       "1                  0       \n",
       "2                  0       "
      ]
     },
     "metadata": {},
     "output_type": "display_data"
    }
   ],
   "source": [
    "flightdrop<-select(flights,-c(3,7))\n",
    "sample_n(flightdrop, size=2)"
   ]
  },
  {
   "cell_type": "markdown",
   "id": "6078407e",
   "metadata": {},
   "source": [
    "# Filter"
   ]
  },
  {
   "cell_type": "code",
   "execution_count": 46,
   "id": "15610af0",
   "metadata": {},
   "outputs": [],
   "source": [
    "# The filter() function is used to extract subsets of rows from a dataframe."
   ]
  },
  {
   "cell_type": "code",
   "execution_count": 48,
   "id": "1c476268",
   "metadata": {},
   "outputs": [
    {
     "data": {
      "text/html": [
       "<table class=\"dataframe\">\n",
       "<caption>A tibble: 6 × 21</caption>\n",
       "<thead>\n",
       "\t<tr><th scope=col>Year</th><th scope=col>Month</th><th scope=col>DayofMonth</th><th scope=col>DayOfWeek</th><th scope=col>DepTime</th><th scope=col>ArrTime</th><th scope=col>UniqueCarrier</th><th scope=col>FlightNum</th><th scope=col>TailNum</th><th scope=col>ActualElapsedTime</th><th scope=col>⋯</th><th scope=col>ArrDelay</th><th scope=col>DepDelay</th><th scope=col>Origin</th><th scope=col>Dest</th><th scope=col>Distance</th><th scope=col>TaxiIn</th><th scope=col>TaxiOut</th><th scope=col>Cancelled</th><th scope=col>CancellationCode</th><th scope=col>Diverted</th></tr>\n",
       "\t<tr><th scope=col>&lt;int&gt;</th><th scope=col>&lt;int&gt;</th><th scope=col>&lt;int&gt;</th><th scope=col>&lt;int&gt;</th><th scope=col>&lt;int&gt;</th><th scope=col>&lt;int&gt;</th><th scope=col>&lt;chr&gt;</th><th scope=col>&lt;int&gt;</th><th scope=col>&lt;chr&gt;</th><th scope=col>&lt;int&gt;</th><th scope=col>⋯</th><th scope=col>&lt;int&gt;</th><th scope=col>&lt;int&gt;</th><th scope=col>&lt;chr&gt;</th><th scope=col>&lt;chr&gt;</th><th scope=col>&lt;int&gt;</th><th scope=col>&lt;int&gt;</th><th scope=col>&lt;int&gt;</th><th scope=col>&lt;int&gt;</th><th scope=col>&lt;chr&gt;</th><th scope=col>&lt;int&gt;</th></tr>\n",
       "</thead>\n",
       "<tbody>\n",
       "\t<tr><td>2011</td><td>1</td><td>1</td><td>6</td><td>1824</td><td>2106</td><td>AS</td><td>731</td><td>N614AS</td><td>282</td><td>⋯</td><td>-4</td><td>-1</td><td>IAH</td><td>SEA</td><td>1874</td><td>7</td><td>20</td><td>0</td><td></td><td>0</td></tr>\n",
       "\t<tr><td>2011</td><td>1</td><td>2</td><td>7</td><td>1823</td><td>2103</td><td>AS</td><td>731</td><td>N627AS</td><td>280</td><td>⋯</td><td>-7</td><td>-2</td><td>IAH</td><td>SEA</td><td>1874</td><td>7</td><td>16</td><td>0</td><td></td><td>0</td></tr>\n",
       "\t<tr><td>2011</td><td>1</td><td>3</td><td>1</td><td>1827</td><td>2107</td><td>AS</td><td>731</td><td>N627AS</td><td>280</td><td>⋯</td><td>-3</td><td> 2</td><td>IAH</td><td>SEA</td><td>1874</td><td>4</td><td>16</td><td>0</td><td></td><td>0</td></tr>\n",
       "\t<tr><td>2011</td><td>1</td><td>4</td><td>2</td><td>1845</td><td>2132</td><td>AS</td><td>731</td><td>N618AS</td><td>287</td><td>⋯</td><td>22</td><td>20</td><td>IAH</td><td>SEA</td><td>1874</td><td>8</td><td>11</td><td>0</td><td></td><td>0</td></tr>\n",
       "\t<tr><td>2011</td><td>1</td><td>5</td><td>3</td><td>1821</td><td>2109</td><td>AS</td><td>731</td><td>N607AS</td><td>288</td><td>⋯</td><td>-1</td><td>-4</td><td>IAH</td><td>SEA</td><td>1874</td><td>5</td><td>10</td><td>0</td><td></td><td>0</td></tr>\n",
       "\t<tr><td>2011</td><td>1</td><td>6</td><td>4</td><td>1834</td><td>2133</td><td>AS</td><td>731</td><td>N624AS</td><td>299</td><td>⋯</td><td>23</td><td> 9</td><td>IAH</td><td>SEA</td><td>1874</td><td>3</td><td>18</td><td>0</td><td></td><td>0</td></tr>\n",
       "</tbody>\n",
       "</table>\n"
      ],
      "text/latex": [
       "A tibble: 6 × 21\n",
       "\\begin{tabular}{lllllllllllllllllllll}\n",
       " Year & Month & DayofMonth & DayOfWeek & DepTime & ArrTime & UniqueCarrier & FlightNum & TailNum & ActualElapsedTime & ⋯ & ArrDelay & DepDelay & Origin & Dest & Distance & TaxiIn & TaxiOut & Cancelled & CancellationCode & Diverted\\\\\n",
       " <int> & <int> & <int> & <int> & <int> & <int> & <chr> & <int> & <chr> & <int> & ⋯ & <int> & <int> & <chr> & <chr> & <int> & <int> & <int> & <int> & <chr> & <int>\\\\\n",
       "\\hline\n",
       "\t 2011 & 1 & 1 & 6 & 1824 & 2106 & AS & 731 & N614AS & 282 & ⋯ & -4 & -1 & IAH & SEA & 1874 & 7 & 20 & 0 &  & 0\\\\\n",
       "\t 2011 & 1 & 2 & 7 & 1823 & 2103 & AS & 731 & N627AS & 280 & ⋯ & -7 & -2 & IAH & SEA & 1874 & 7 & 16 & 0 &  & 0\\\\\n",
       "\t 2011 & 1 & 3 & 1 & 1827 & 2107 & AS & 731 & N627AS & 280 & ⋯ & -3 &  2 & IAH & SEA & 1874 & 4 & 16 & 0 &  & 0\\\\\n",
       "\t 2011 & 1 & 4 & 2 & 1845 & 2132 & AS & 731 & N618AS & 287 & ⋯ & 22 & 20 & IAH & SEA & 1874 & 8 & 11 & 0 &  & 0\\\\\n",
       "\t 2011 & 1 & 5 & 3 & 1821 & 2109 & AS & 731 & N607AS & 288 & ⋯ & -1 & -4 & IAH & SEA & 1874 & 5 & 10 & 0 &  & 0\\\\\n",
       "\t 2011 & 1 & 6 & 4 & 1834 & 2133 & AS & 731 & N624AS & 299 & ⋯ & 23 &  9 & IAH & SEA & 1874 & 3 & 18 & 0 &  & 0\\\\\n",
       "\\end{tabular}\n"
      ],
      "text/markdown": [
       "\n",
       "A tibble: 6 × 21\n",
       "\n",
       "| Year &lt;int&gt; | Month &lt;int&gt; | DayofMonth &lt;int&gt; | DayOfWeek &lt;int&gt; | DepTime &lt;int&gt; | ArrTime &lt;int&gt; | UniqueCarrier &lt;chr&gt; | FlightNum &lt;int&gt; | TailNum &lt;chr&gt; | ActualElapsedTime &lt;int&gt; | ⋯ ⋯ | ArrDelay &lt;int&gt; | DepDelay &lt;int&gt; | Origin &lt;chr&gt; | Dest &lt;chr&gt; | Distance &lt;int&gt; | TaxiIn &lt;int&gt; | TaxiOut &lt;int&gt; | Cancelled &lt;int&gt; | CancellationCode &lt;chr&gt; | Diverted &lt;int&gt; |\n",
       "|---|---|---|---|---|---|---|---|---|---|---|---|---|---|---|---|---|---|---|---|---|\n",
       "| 2011 | 1 | 1 | 6 | 1824 | 2106 | AS | 731 | N614AS | 282 | ⋯ | -4 | -1 | IAH | SEA | 1874 | 7 | 20 | 0 | <!----> | 0 |\n",
       "| 2011 | 1 | 2 | 7 | 1823 | 2103 | AS | 731 | N627AS | 280 | ⋯ | -7 | -2 | IAH | SEA | 1874 | 7 | 16 | 0 | <!----> | 0 |\n",
       "| 2011 | 1 | 3 | 1 | 1827 | 2107 | AS | 731 | N627AS | 280 | ⋯ | -3 |  2 | IAH | SEA | 1874 | 4 | 16 | 0 | <!----> | 0 |\n",
       "| 2011 | 1 | 4 | 2 | 1845 | 2132 | AS | 731 | N618AS | 287 | ⋯ | 22 | 20 | IAH | SEA | 1874 | 8 | 11 | 0 | <!----> | 0 |\n",
       "| 2011 | 1 | 5 | 3 | 1821 | 2109 | AS | 731 | N607AS | 288 | ⋯ | -1 | -4 | IAH | SEA | 1874 | 5 | 10 | 0 | <!----> | 0 |\n",
       "| 2011 | 1 | 6 | 4 | 1834 | 2133 | AS | 731 | N624AS | 299 | ⋯ | 23 |  9 | IAH | SEA | 1874 | 3 | 18 | 0 | <!----> | 0 |\n",
       "\n"
      ],
      "text/plain": [
       "  Year Month DayofMonth DayOfWeek DepTime ArrTime UniqueCarrier FlightNum\n",
       "1 2011 1     1          6         1824    2106    AS            731      \n",
       "2 2011 1     2          7         1823    2103    AS            731      \n",
       "3 2011 1     3          1         1827    2107    AS            731      \n",
       "4 2011 1     4          2         1845    2132    AS            731      \n",
       "5 2011 1     5          3         1821    2109    AS            731      \n",
       "6 2011 1     6          4         1834    2133    AS            731      \n",
       "  TailNum ActualElapsedTime ⋯ ArrDelay DepDelay Origin Dest Distance TaxiIn\n",
       "1 N614AS  282               ⋯ -4       -1       IAH    SEA  1874     7     \n",
       "2 N627AS  280               ⋯ -7       -2       IAH    SEA  1874     7     \n",
       "3 N627AS  280               ⋯ -3        2       IAH    SEA  1874     4     \n",
       "4 N618AS  287               ⋯ 22       20       IAH    SEA  1874     8     \n",
       "5 N607AS  288               ⋯ -1       -4       IAH    SEA  1874     5     \n",
       "6 N624AS  299               ⋯ 23        9       IAH    SEA  1874     3     \n",
       "  TaxiOut Cancelled CancellationCode Diverted\n",
       "1 20      0                          0       \n",
       "2 16      0                          0       \n",
       "3 16      0                          0       \n",
       "4 11      0                          0       \n",
       "5 10      0                          0       \n",
       "6 18      0                          0       "
      ]
     },
     "metadata": {},
     "output_type": "display_data"
    }
   ],
   "source": [
    "head(filter(flights, Distance >= 1000))"
   ]
  },
  {
   "cell_type": "code",
   "execution_count": 50,
   "id": "e9b1749d",
   "metadata": {},
   "outputs": [
    {
     "data": {
      "text/html": [
       "<table class=\"dataframe\">\n",
       "<caption>A data.frame: 6 × 21</caption>\n",
       "<thead>\n",
       "\t<tr><th></th><th scope=col>Year</th><th scope=col>Month</th><th scope=col>DayofMonth</th><th scope=col>DayOfWeek</th><th scope=col>DepTime</th><th scope=col>ArrTime</th><th scope=col>UniqueCarrier</th><th scope=col>FlightNum</th><th scope=col>TailNum</th><th scope=col>ActualElapsedTime</th><th scope=col>⋯</th><th scope=col>ArrDelay</th><th scope=col>DepDelay</th><th scope=col>Origin</th><th scope=col>Dest</th><th scope=col>Distance</th><th scope=col>TaxiIn</th><th scope=col>TaxiOut</th><th scope=col>Cancelled</th><th scope=col>CancellationCode</th><th scope=col>Diverted</th></tr>\n",
       "\t<tr><th></th><th scope=col>&lt;int&gt;</th><th scope=col>&lt;int&gt;</th><th scope=col>&lt;int&gt;</th><th scope=col>&lt;int&gt;</th><th scope=col>&lt;int&gt;</th><th scope=col>&lt;int&gt;</th><th scope=col>&lt;chr&gt;</th><th scope=col>&lt;int&gt;</th><th scope=col>&lt;chr&gt;</th><th scope=col>&lt;int&gt;</th><th scope=col>⋯</th><th scope=col>&lt;int&gt;</th><th scope=col>&lt;int&gt;</th><th scope=col>&lt;chr&gt;</th><th scope=col>&lt;chr&gt;</th><th scope=col>&lt;int&gt;</th><th scope=col>&lt;int&gt;</th><th scope=col>&lt;int&gt;</th><th scope=col>&lt;int&gt;</th><th scope=col>&lt;chr&gt;</th><th scope=col>&lt;int&gt;</th></tr>\n",
       "</thead>\n",
       "<tbody>\n",
       "\t<tr><th scope=row>1</th><td>2011</td><td>1</td><td>1</td><td>6</td><td>1400</td><td>1500</td><td>AA</td><td>428</td><td>N576AA</td><td>60</td><td>⋯</td><td>-10</td><td> 0</td><td>IAH</td><td>DFW</td><td>224</td><td>7</td><td>13</td><td>0</td><td></td><td>0</td></tr>\n",
       "\t<tr><th scope=row>2</th><td>2011</td><td>1</td><td>2</td><td>7</td><td>1401</td><td>1501</td><td>AA</td><td>428</td><td>N557AA</td><td>60</td><td>⋯</td><td> -9</td><td> 1</td><td>IAH</td><td>DFW</td><td>224</td><td>6</td><td> 9</td><td>0</td><td></td><td>0</td></tr>\n",
       "\t<tr><th scope=row>3</th><td>2011</td><td>1</td><td>3</td><td>1</td><td>1352</td><td>1502</td><td>AA</td><td>428</td><td>N541AA</td><td>70</td><td>⋯</td><td> -8</td><td>-8</td><td>IAH</td><td>DFW</td><td>224</td><td>5</td><td>17</td><td>0</td><td></td><td>0</td></tr>\n",
       "\t<tr><th scope=row>4</th><td>2011</td><td>1</td><td>4</td><td>2</td><td>1403</td><td>1513</td><td>AA</td><td>428</td><td>N403AA</td><td>70</td><td>⋯</td><td>  3</td><td> 3</td><td>IAH</td><td>DFW</td><td>224</td><td>9</td><td>22</td><td>0</td><td></td><td>0</td></tr>\n",
       "\t<tr><th scope=row>5</th><td>2011</td><td>1</td><td>5</td><td>3</td><td>1405</td><td>1507</td><td>AA</td><td>428</td><td>N492AA</td><td>62</td><td>⋯</td><td> -3</td><td> 5</td><td>IAH</td><td>DFW</td><td>224</td><td>9</td><td> 9</td><td>0</td><td></td><td>0</td></tr>\n",
       "\t<tr><th scope=row>6</th><td>2011</td><td>1</td><td>6</td><td>4</td><td>1359</td><td>1503</td><td>AA</td><td>428</td><td>N262AA</td><td>64</td><td>⋯</td><td> -7</td><td>-1</td><td>IAH</td><td>DFW</td><td>224</td><td>6</td><td>13</td><td>0</td><td></td><td>0</td></tr>\n",
       "</tbody>\n",
       "</table>\n"
      ],
      "text/latex": [
       "A data.frame: 6 × 21\n",
       "\\begin{tabular}{r|lllllllllllllllllllll}\n",
       "  & Year & Month & DayofMonth & DayOfWeek & DepTime & ArrTime & UniqueCarrier & FlightNum & TailNum & ActualElapsedTime & ⋯ & ArrDelay & DepDelay & Origin & Dest & Distance & TaxiIn & TaxiOut & Cancelled & CancellationCode & Diverted\\\\\n",
       "  & <int> & <int> & <int> & <int> & <int> & <int> & <chr> & <int> & <chr> & <int> & ⋯ & <int> & <int> & <chr> & <chr> & <int> & <int> & <int> & <int> & <chr> & <int>\\\\\n",
       "\\hline\n",
       "\t1 & 2011 & 1 & 1 & 6 & 1400 & 1500 & AA & 428 & N576AA & 60 & ⋯ & -10 &  0 & IAH & DFW & 224 & 7 & 13 & 0 &  & 0\\\\\n",
       "\t2 & 2011 & 1 & 2 & 7 & 1401 & 1501 & AA & 428 & N557AA & 60 & ⋯ &  -9 &  1 & IAH & DFW & 224 & 6 &  9 & 0 &  & 0\\\\\n",
       "\t3 & 2011 & 1 & 3 & 1 & 1352 & 1502 & AA & 428 & N541AA & 70 & ⋯ &  -8 & -8 & IAH & DFW & 224 & 5 & 17 & 0 &  & 0\\\\\n",
       "\t4 & 2011 & 1 & 4 & 2 & 1403 & 1513 & AA & 428 & N403AA & 70 & ⋯ &   3 &  3 & IAH & DFW & 224 & 9 & 22 & 0 &  & 0\\\\\n",
       "\t5 & 2011 & 1 & 5 & 3 & 1405 & 1507 & AA & 428 & N492AA & 62 & ⋯ &  -3 &  5 & IAH & DFW & 224 & 9 &  9 & 0 &  & 0\\\\\n",
       "\t6 & 2011 & 1 & 6 & 4 & 1359 & 1503 & AA & 428 & N262AA & 64 & ⋯ &  -7 & -1 & IAH & DFW & 224 & 6 & 13 & 0 &  & 0\\\\\n",
       "\\end{tabular}\n"
      ],
      "text/markdown": [
       "\n",
       "A data.frame: 6 × 21\n",
       "\n",
       "| <!--/--> | Year &lt;int&gt; | Month &lt;int&gt; | DayofMonth &lt;int&gt; | DayOfWeek &lt;int&gt; | DepTime &lt;int&gt; | ArrTime &lt;int&gt; | UniqueCarrier &lt;chr&gt; | FlightNum &lt;int&gt; | TailNum &lt;chr&gt; | ActualElapsedTime &lt;int&gt; | ⋯ ⋯ | ArrDelay &lt;int&gt; | DepDelay &lt;int&gt; | Origin &lt;chr&gt; | Dest &lt;chr&gt; | Distance &lt;int&gt; | TaxiIn &lt;int&gt; | TaxiOut &lt;int&gt; | Cancelled &lt;int&gt; | CancellationCode &lt;chr&gt; | Diverted &lt;int&gt; |\n",
       "|---|---|---|---|---|---|---|---|---|---|---|---|---|---|---|---|---|---|---|---|---|---|\n",
       "| 1 | 2011 | 1 | 1 | 6 | 1400 | 1500 | AA | 428 | N576AA | 60 | ⋯ | -10 |  0 | IAH | DFW | 224 | 7 | 13 | 0 | <!----> | 0 |\n",
       "| 2 | 2011 | 1 | 2 | 7 | 1401 | 1501 | AA | 428 | N557AA | 60 | ⋯ |  -9 |  1 | IAH | DFW | 224 | 6 |  9 | 0 | <!----> | 0 |\n",
       "| 3 | 2011 | 1 | 3 | 1 | 1352 | 1502 | AA | 428 | N541AA | 70 | ⋯ |  -8 | -8 | IAH | DFW | 224 | 5 | 17 | 0 | <!----> | 0 |\n",
       "| 4 | 2011 | 1 | 4 | 2 | 1403 | 1513 | AA | 428 | N403AA | 70 | ⋯ |   3 |  3 | IAH | DFW | 224 | 9 | 22 | 0 | <!----> | 0 |\n",
       "| 5 | 2011 | 1 | 5 | 3 | 1405 | 1507 | AA | 428 | N492AA | 62 | ⋯ |  -3 |  5 | IAH | DFW | 224 | 9 |  9 | 0 | <!----> | 0 |\n",
       "| 6 | 2011 | 1 | 6 | 4 | 1359 | 1503 | AA | 428 | N262AA | 64 | ⋯ |  -7 | -1 | IAH | DFW | 224 | 6 | 13 | 0 | <!----> | 0 |\n",
       "\n"
      ],
      "text/plain": [
       "  Year Month DayofMonth DayOfWeek DepTime ArrTime UniqueCarrier FlightNum\n",
       "1 2011 1     1          6         1400    1500    AA            428      \n",
       "2 2011 1     2          7         1401    1501    AA            428      \n",
       "3 2011 1     3          1         1352    1502    AA            428      \n",
       "4 2011 1     4          2         1403    1513    AA            428      \n",
       "5 2011 1     5          3         1405    1507    AA            428      \n",
       "6 2011 1     6          4         1359    1503    AA            428      \n",
       "  TailNum ActualElapsedTime ⋯ ArrDelay DepDelay Origin Dest Distance TaxiIn\n",
       "1 N576AA  60                ⋯ -10       0       IAH    DFW  224      7     \n",
       "2 N557AA  60                ⋯  -9       1       IAH    DFW  224      6     \n",
       "3 N541AA  70                ⋯  -8      -8       IAH    DFW  224      5     \n",
       "4 N403AA  70                ⋯   3       3       IAH    DFW  224      9     \n",
       "5 N492AA  62                ⋯  -3       5       IAH    DFW  224      9     \n",
       "6 N262AA  64                ⋯  -7      -1       IAH    DFW  224      6     \n",
       "  TaxiOut Cancelled CancellationCode Diverted\n",
       "1 13      0                          0       \n",
       "2  9      0                          0       \n",
       "3 17      0                          0       \n",
       "4 22      0                          0       \n",
       "5  9      0                          0       \n",
       "6 13      0                          0       "
      ]
     },
     "metadata": {},
     "output_type": "display_data"
    }
   ],
   "source": [
    "# Select the flights that had DFW as their destination.\n",
    "\n",
    "fdest <- filter(hflights, Dest == 'DFW')\n",
    "head(fdest)"
   ]
  },
  {
   "cell_type": "code",
   "execution_count": 52,
   "id": "ad9e9ac5",
   "metadata": {},
   "outputs": [
    {
     "data": {
      "text/html": [
       "<table class=\"dataframe\">\n",
       "<caption>A tibble: 6 × 21</caption>\n",
       "<thead>\n",
       "\t<tr><th scope=col>Year</th><th scope=col>Month</th><th scope=col>DayofMonth</th><th scope=col>DayOfWeek</th><th scope=col>DepTime</th><th scope=col>ArrTime</th><th scope=col>UniqueCarrier</th><th scope=col>FlightNum</th><th scope=col>TailNum</th><th scope=col>ActualElapsedTime</th><th scope=col>⋯</th><th scope=col>ArrDelay</th><th scope=col>DepDelay</th><th scope=col>Origin</th><th scope=col>Dest</th><th scope=col>Distance</th><th scope=col>TaxiIn</th><th scope=col>TaxiOut</th><th scope=col>Cancelled</th><th scope=col>CancellationCode</th><th scope=col>Diverted</th></tr>\n",
       "\t<tr><th scope=col>&lt;int&gt;</th><th scope=col>&lt;int&gt;</th><th scope=col>&lt;int&gt;</th><th scope=col>&lt;int&gt;</th><th scope=col>&lt;int&gt;</th><th scope=col>&lt;int&gt;</th><th scope=col>&lt;chr&gt;</th><th scope=col>&lt;int&gt;</th><th scope=col>&lt;chr&gt;</th><th scope=col>&lt;int&gt;</th><th scope=col>⋯</th><th scope=col>&lt;int&gt;</th><th scope=col>&lt;int&gt;</th><th scope=col>&lt;chr&gt;</th><th scope=col>&lt;chr&gt;</th><th scope=col>&lt;int&gt;</th><th scope=col>&lt;int&gt;</th><th scope=col>&lt;int&gt;</th><th scope=col>&lt;int&gt;</th><th scope=col>&lt;chr&gt;</th><th scope=col>&lt;int&gt;</th></tr>\n",
       "</thead>\n",
       "<tbody>\n",
       "\t<tr><td>2011</td><td>1</td><td> 2</td><td>7</td><td>1401</td><td>1501</td><td>AA</td><td>428</td><td>N557AA</td><td>60</td><td>⋯</td><td>-9</td><td> 1</td><td>IAH</td><td>DFW</td><td>224</td><td>6</td><td> 9</td><td>0</td><td></td><td>0</td></tr>\n",
       "\t<tr><td>2011</td><td>1</td><td> 5</td><td>3</td><td>1405</td><td>1507</td><td>AA</td><td>428</td><td>N492AA</td><td>62</td><td>⋯</td><td>-3</td><td> 5</td><td>IAH</td><td>DFW</td><td>224</td><td>9</td><td> 9</td><td>0</td><td></td><td>0</td></tr>\n",
       "\t<tr><td>2011</td><td>1</td><td>18</td><td>2</td><td>1408</td><td>1508</td><td>AA</td><td>428</td><td>N507AA</td><td>60</td><td>⋯</td><td>-2</td><td> 8</td><td>IAH</td><td>DFW</td><td>224</td><td>7</td><td>11</td><td>0</td><td></td><td>0</td></tr>\n",
       "\t<tr><td>2011</td><td>1</td><td>18</td><td>2</td><td> 721</td><td> 827</td><td>AA</td><td>460</td><td>N558AA</td><td>66</td><td>⋯</td><td>-8</td><td> 1</td><td>IAH</td><td>DFW</td><td>224</td><td>7</td><td>13</td><td>0</td><td></td><td>0</td></tr>\n",
       "\t<tr><td>2011</td><td>1</td><td>12</td><td>3</td><td>2015</td><td>2113</td><td>AA</td><td>533</td><td>N555AA</td><td>58</td><td>⋯</td><td>-7</td><td>10</td><td>IAH</td><td>DFW</td><td>224</td><td>9</td><td>10</td><td>0</td><td></td><td>0</td></tr>\n",
       "\t<tr><td>2011</td><td>1</td><td>13</td><td>4</td><td>2020</td><td>2116</td><td>AA</td><td>533</td><td>N4XCAA</td><td>56</td><td>⋯</td><td>-4</td><td>15</td><td>IAH</td><td>DFW</td><td>224</td><td>4</td><td> 8</td><td>0</td><td></td><td>0</td></tr>\n",
       "</tbody>\n",
       "</table>\n"
      ],
      "text/latex": [
       "A tibble: 6 × 21\n",
       "\\begin{tabular}{lllllllllllllllllllll}\n",
       " Year & Month & DayofMonth & DayOfWeek & DepTime & ArrTime & UniqueCarrier & FlightNum & TailNum & ActualElapsedTime & ⋯ & ArrDelay & DepDelay & Origin & Dest & Distance & TaxiIn & TaxiOut & Cancelled & CancellationCode & Diverted\\\\\n",
       " <int> & <int> & <int> & <int> & <int> & <int> & <chr> & <int> & <chr> & <int> & ⋯ & <int> & <int> & <chr> & <chr> & <int> & <int> & <int> & <int> & <chr> & <int>\\\\\n",
       "\\hline\n",
       "\t 2011 & 1 &  2 & 7 & 1401 & 1501 & AA & 428 & N557AA & 60 & ⋯ & -9 &  1 & IAH & DFW & 224 & 6 &  9 & 0 &  & 0\\\\\n",
       "\t 2011 & 1 &  5 & 3 & 1405 & 1507 & AA & 428 & N492AA & 62 & ⋯ & -3 &  5 & IAH & DFW & 224 & 9 &  9 & 0 &  & 0\\\\\n",
       "\t 2011 & 1 & 18 & 2 & 1408 & 1508 & AA & 428 & N507AA & 60 & ⋯ & -2 &  8 & IAH & DFW & 224 & 7 & 11 & 0 &  & 0\\\\\n",
       "\t 2011 & 1 & 18 & 2 &  721 &  827 & AA & 460 & N558AA & 66 & ⋯ & -8 &  1 & IAH & DFW & 224 & 7 & 13 & 0 &  & 0\\\\\n",
       "\t 2011 & 1 & 12 & 3 & 2015 & 2113 & AA & 533 & N555AA & 58 & ⋯ & -7 & 10 & IAH & DFW & 224 & 9 & 10 & 0 &  & 0\\\\\n",
       "\t 2011 & 1 & 13 & 4 & 2020 & 2116 & AA & 533 & N4XCAA & 56 & ⋯ & -4 & 15 & IAH & DFW & 224 & 4 &  8 & 0 &  & 0\\\\\n",
       "\\end{tabular}\n"
      ],
      "text/markdown": [
       "\n",
       "A tibble: 6 × 21\n",
       "\n",
       "| Year &lt;int&gt; | Month &lt;int&gt; | DayofMonth &lt;int&gt; | DayOfWeek &lt;int&gt; | DepTime &lt;int&gt; | ArrTime &lt;int&gt; | UniqueCarrier &lt;chr&gt; | FlightNum &lt;int&gt; | TailNum &lt;chr&gt; | ActualElapsedTime &lt;int&gt; | ⋯ ⋯ | ArrDelay &lt;int&gt; | DepDelay &lt;int&gt; | Origin &lt;chr&gt; | Dest &lt;chr&gt; | Distance &lt;int&gt; | TaxiIn &lt;int&gt; | TaxiOut &lt;int&gt; | Cancelled &lt;int&gt; | CancellationCode &lt;chr&gt; | Diverted &lt;int&gt; |\n",
       "|---|---|---|---|---|---|---|---|---|---|---|---|---|---|---|---|---|---|---|---|---|\n",
       "| 2011 | 1 |  2 | 7 | 1401 | 1501 | AA | 428 | N557AA | 60 | ⋯ | -9 |  1 | IAH | DFW | 224 | 6 |  9 | 0 | <!----> | 0 |\n",
       "| 2011 | 1 |  5 | 3 | 1405 | 1507 | AA | 428 | N492AA | 62 | ⋯ | -3 |  5 | IAH | DFW | 224 | 9 |  9 | 0 | <!----> | 0 |\n",
       "| 2011 | 1 | 18 | 2 | 1408 | 1508 | AA | 428 | N507AA | 60 | ⋯ | -2 |  8 | IAH | DFW | 224 | 7 | 11 | 0 | <!----> | 0 |\n",
       "| 2011 | 1 | 18 | 2 |  721 |  827 | AA | 460 | N558AA | 66 | ⋯ | -8 |  1 | IAH | DFW | 224 | 7 | 13 | 0 | <!----> | 0 |\n",
       "| 2011 | 1 | 12 | 3 | 2015 | 2113 | AA | 533 | N555AA | 58 | ⋯ | -7 | 10 | IAH | DFW | 224 | 9 | 10 | 0 | <!----> | 0 |\n",
       "| 2011 | 1 | 13 | 4 | 2020 | 2116 | AA | 533 | N4XCAA | 56 | ⋯ | -4 | 15 | IAH | DFW | 224 | 4 |  8 | 0 | <!----> | 0 |\n",
       "\n"
      ],
      "text/plain": [
       "  Year Month DayofMonth DayOfWeek DepTime ArrTime UniqueCarrier FlightNum\n",
       "1 2011 1      2         7         1401    1501    AA            428      \n",
       "2 2011 1      5         3         1405    1507    AA            428      \n",
       "3 2011 1     18         2         1408    1508    AA            428      \n",
       "4 2011 1     18         2          721     827    AA            460      \n",
       "5 2011 1     12         3         2015    2113    AA            533      \n",
       "6 2011 1     13         4         2020    2116    AA            533      \n",
       "  TailNum ActualElapsedTime ⋯ ArrDelay DepDelay Origin Dest Distance TaxiIn\n",
       "1 N557AA  60                ⋯ -9        1       IAH    DFW  224      6     \n",
       "2 N492AA  62                ⋯ -3        5       IAH    DFW  224      9     \n",
       "3 N507AA  60                ⋯ -2        8       IAH    DFW  224      7     \n",
       "4 N558AA  66                ⋯ -8        1       IAH    DFW  224      7     \n",
       "5 N555AA  58                ⋯ -7       10       IAH    DFW  224      9     \n",
       "6 N4XCAA  56                ⋯ -4       15       IAH    DFW  224      4     \n",
       "  TaxiOut Cancelled CancellationCode Diverted\n",
       "1  9      0                          0       \n",
       "2  9      0                          0       \n",
       "3 11      0                          0       \n",
       "4 13      0                          0       \n",
       "5 10      0                          0       \n",
       "6  8      0                          0       "
      ]
     },
     "metadata": {},
     "output_type": "display_data"
    }
   ],
   "source": [
    "# Find out all flights that departed late but arrived ahead of schedule.\n",
    "head(filter(flights, DepDelay > 0 & ArrDelay < 0))"
   ]
  },
  {
   "cell_type": "code",
   "execution_count": 54,
   "id": "b6fa0144",
   "metadata": {},
   "outputs": [
    {
     "data": {
      "text/html": [
       "<table class=\"dataframe\">\n",
       "<caption>A tibble: 6 × 3</caption>\n",
       "<thead>\n",
       "\t<tr><th scope=col>AirTime</th><th scope=col>ArrDelay</th><th scope=col>DepDelay</th></tr>\n",
       "\t<tr><th scope=col>&lt;int&gt;</th><th scope=col>&lt;int&gt;</th><th scope=col>&lt;int&gt;</th></tr>\n",
       "</thead>\n",
       "<tbody>\n",
       "\t<tr><td>255</td><td>-4</td><td>-1</td></tr>\n",
       "\t<tr><td>257</td><td>-7</td><td>-2</td></tr>\n",
       "\t<tr><td>260</td><td>-3</td><td> 2</td></tr>\n",
       "\t<tr><td>268</td><td>22</td><td>20</td></tr>\n",
       "\t<tr><td>273</td><td>-1</td><td>-4</td></tr>\n",
       "\t<tr><td>278</td><td>23</td><td> 9</td></tr>\n",
       "</tbody>\n",
       "</table>\n"
      ],
      "text/latex": [
       "A tibble: 6 × 3\n",
       "\\begin{tabular}{lll}\n",
       " AirTime & ArrDelay & DepDelay\\\\\n",
       " <int> & <int> & <int>\\\\\n",
       "\\hline\n",
       "\t 255 & -4 & -1\\\\\n",
       "\t 257 & -7 & -2\\\\\n",
       "\t 260 & -3 &  2\\\\\n",
       "\t 268 & 22 & 20\\\\\n",
       "\t 273 & -1 & -4\\\\\n",
       "\t 278 & 23 &  9\\\\\n",
       "\\end{tabular}\n"
      ],
      "text/markdown": [
       "\n",
       "A tibble: 6 × 3\n",
       "\n",
       "| AirTime &lt;int&gt; | ArrDelay &lt;int&gt; | DepDelay &lt;int&gt; |\n",
       "|---|---|---|\n",
       "| 255 | -4 | -1 |\n",
       "| 257 | -7 | -2 |\n",
       "| 260 | -3 |  2 |\n",
       "| 268 | 22 | 20 |\n",
       "| 273 | -1 | -4 |\n",
       "| 278 | 23 |  9 |\n",
       "\n"
      ],
      "text/plain": [
       "  AirTime ArrDelay DepDelay\n",
       "1 255     -4       -1      \n",
       "2 257     -7       -2      \n",
       "3 260     -3        2      \n",
       "4 268     22       20      \n",
       "5 273     -1       -4      \n",
       "6 278     23        9      "
      ]
     },
     "metadata": {},
     "output_type": "display_data"
    }
   ],
   "source": [
    "# Extract the flight AirTime,ArrDelay and DepDelay,where origin = “IAH” and ActualElapsedTime greater than 200.\n",
    "\n",
    "flights1<-filter(flights,Origin==\"IAH\"& ActualElapsedTime>200)\n",
    "head(select(flights1,c(AirTime,ArrDelay,DepDelay)))"
   ]
  },
  {
   "cell_type": "markdown",
   "id": "0011fdf0",
   "metadata": {},
   "source": [
    "# arrange()"
   ]
  },
  {
   "cell_type": "code",
   "execution_count": null,
   "id": "3fbda59c",
   "metadata": {},
   "outputs": [],
   "source": [
    "# The arrange() function is used to reorder rows of a data frame according to one of the variables/columns\n",
    "# The default is in ascending order."
   ]
  },
  {
   "cell_type": "code",
   "execution_count": 55,
   "id": "fe46ef12",
   "metadata": {},
   "outputs": [
    {
     "data": {
      "text/html": [
       "<table class=\"dataframe\">\n",
       "<caption>A tibble: 3 × 21</caption>\n",
       "<thead>\n",
       "\t<tr><th scope=col>Year</th><th scope=col>Month</th><th scope=col>DayofMonth</th><th scope=col>DayOfWeek</th><th scope=col>DepTime</th><th scope=col>ArrTime</th><th scope=col>UniqueCarrier</th><th scope=col>FlightNum</th><th scope=col>TailNum</th><th scope=col>ActualElapsedTime</th><th scope=col>⋯</th><th scope=col>ArrDelay</th><th scope=col>DepDelay</th><th scope=col>Origin</th><th scope=col>Dest</th><th scope=col>Distance</th><th scope=col>TaxiIn</th><th scope=col>TaxiOut</th><th scope=col>Cancelled</th><th scope=col>CancellationCode</th><th scope=col>Diverted</th></tr>\n",
       "\t<tr><th scope=col>&lt;int&gt;</th><th scope=col>&lt;int&gt;</th><th scope=col>&lt;int&gt;</th><th scope=col>&lt;int&gt;</th><th scope=col>&lt;int&gt;</th><th scope=col>&lt;int&gt;</th><th scope=col>&lt;chr&gt;</th><th scope=col>&lt;int&gt;</th><th scope=col>&lt;chr&gt;</th><th scope=col>&lt;int&gt;</th><th scope=col>⋯</th><th scope=col>&lt;int&gt;</th><th scope=col>&lt;int&gt;</th><th scope=col>&lt;chr&gt;</th><th scope=col>&lt;chr&gt;</th><th scope=col>&lt;int&gt;</th><th scope=col>&lt;int&gt;</th><th scope=col>&lt;int&gt;</th><th scope=col>&lt;int&gt;</th><th scope=col>&lt;chr&gt;</th><th scope=col>&lt;int&gt;</th></tr>\n",
       "</thead>\n",
       "<tbody>\n",
       "\t<tr><td>2011</td><td>2</td><td>23</td><td>3</td><td>947</td><td>1030</td><td>XE</td><td>2204</td><td>N17928</td><td>43</td><td>⋯</td><td>29</td><td> 32</td><td>IAH</td><td>BPT</td><td>79</td><td>5</td><td>16</td><td>0</td><td></td><td>0</td></tr>\n",
       "\t<tr><td>2011</td><td>3</td><td> 1</td><td>2</td><td>921</td><td>1015</td><td>XE</td><td>2204</td><td>N14940</td><td>54</td><td>⋯</td><td>14</td><td>  6</td><td>IAH</td><td>BPT</td><td>79</td><td>5</td><td>19</td><td>0</td><td></td><td>0</td></tr>\n",
       "\t<tr><td>2011</td><td>3</td><td> 2</td><td>3</td><td>905</td><td>1001</td><td>XE</td><td>2204</td><td>N14943</td><td>56</td><td>⋯</td><td> 0</td><td>-10</td><td>IAH</td><td>BPT</td><td>79</td><td>5</td><td>22</td><td>0</td><td></td><td>0</td></tr>\n",
       "</tbody>\n",
       "</table>\n"
      ],
      "text/latex": [
       "A tibble: 3 × 21\n",
       "\\begin{tabular}{lllllllllllllllllllll}\n",
       " Year & Month & DayofMonth & DayOfWeek & DepTime & ArrTime & UniqueCarrier & FlightNum & TailNum & ActualElapsedTime & ⋯ & ArrDelay & DepDelay & Origin & Dest & Distance & TaxiIn & TaxiOut & Cancelled & CancellationCode & Diverted\\\\\n",
       " <int> & <int> & <int> & <int> & <int> & <int> & <chr> & <int> & <chr> & <int> & ⋯ & <int> & <int> & <chr> & <chr> & <int> & <int> & <int> & <int> & <chr> & <int>\\\\\n",
       "\\hline\n",
       "\t 2011 & 2 & 23 & 3 & 947 & 1030 & XE & 2204 & N17928 & 43 & ⋯ & 29 &  32 & IAH & BPT & 79 & 5 & 16 & 0 &  & 0\\\\\n",
       "\t 2011 & 3 &  1 & 2 & 921 & 1015 & XE & 2204 & N14940 & 54 & ⋯ & 14 &   6 & IAH & BPT & 79 & 5 & 19 & 0 &  & 0\\\\\n",
       "\t 2011 & 3 &  2 & 3 & 905 & 1001 & XE & 2204 & N14943 & 56 & ⋯ &  0 & -10 & IAH & BPT & 79 & 5 & 22 & 0 &  & 0\\\\\n",
       "\\end{tabular}\n"
      ],
      "text/markdown": [
       "\n",
       "A tibble: 3 × 21\n",
       "\n",
       "| Year &lt;int&gt; | Month &lt;int&gt; | DayofMonth &lt;int&gt; | DayOfWeek &lt;int&gt; | DepTime &lt;int&gt; | ArrTime &lt;int&gt; | UniqueCarrier &lt;chr&gt; | FlightNum &lt;int&gt; | TailNum &lt;chr&gt; | ActualElapsedTime &lt;int&gt; | ⋯ ⋯ | ArrDelay &lt;int&gt; | DepDelay &lt;int&gt; | Origin &lt;chr&gt; | Dest &lt;chr&gt; | Distance &lt;int&gt; | TaxiIn &lt;int&gt; | TaxiOut &lt;int&gt; | Cancelled &lt;int&gt; | CancellationCode &lt;chr&gt; | Diverted &lt;int&gt; |\n",
       "|---|---|---|---|---|---|---|---|---|---|---|---|---|---|---|---|---|---|---|---|---|\n",
       "| 2011 | 2 | 23 | 3 | 947 | 1030 | XE | 2204 | N17928 | 43 | ⋯ | 29 |  32 | IAH | BPT | 79 | 5 | 16 | 0 | <!----> | 0 |\n",
       "| 2011 | 3 |  1 | 2 | 921 | 1015 | XE | 2204 | N14940 | 54 | ⋯ | 14 |   6 | IAH | BPT | 79 | 5 | 19 | 0 | <!----> | 0 |\n",
       "| 2011 | 3 |  2 | 3 | 905 | 1001 | XE | 2204 | N14943 | 56 | ⋯ |  0 | -10 | IAH | BPT | 79 | 5 | 22 | 0 | <!----> | 0 |\n",
       "\n"
      ],
      "text/plain": [
       "  Year Month DayofMonth DayOfWeek DepTime ArrTime UniqueCarrier FlightNum\n",
       "1 2011 2     23         3         947     1030    XE            2204     \n",
       "2 2011 3      1         2         921     1015    XE            2204     \n",
       "3 2011 3      2         3         905     1001    XE            2204     \n",
       "  TailNum ActualElapsedTime ⋯ ArrDelay DepDelay Origin Dest Distance TaxiIn\n",
       "1 N17928  43                ⋯ 29        32      IAH    BPT  79       5     \n",
       "2 N14940  54                ⋯ 14         6      IAH    BPT  79       5     \n",
       "3 N14943  56                ⋯  0       -10      IAH    BPT  79       5     \n",
       "  TaxiOut Cancelled CancellationCode Diverted\n",
       "1 16      0                          0       \n",
       "2 19      0                          0       \n",
       "3 22      0                          0       "
      ]
     },
     "metadata": {},
     "output_type": "display_data"
    }
   ],
   "source": [
    "# Sort the flights data by the Distance in ascending order.\n",
    "\n",
    "flightSort<-arrange(flights,Distance)\n",
    "head(flightSort,3) #See the first 3 rows"
   ]
  },
  {
   "cell_type": "code",
   "execution_count": 56,
   "id": "18a59c73",
   "metadata": {},
   "outputs": [
    {
     "data": {
      "text/html": [
       "<table class=\"dataframe\">\n",
       "<caption>A tibble: 3 × 21</caption>\n",
       "<thead>\n",
       "\t<tr><th scope=col>Year</th><th scope=col>Month</th><th scope=col>DayofMonth</th><th scope=col>DayOfWeek</th><th scope=col>DepTime</th><th scope=col>ArrTime</th><th scope=col>UniqueCarrier</th><th scope=col>FlightNum</th><th scope=col>TailNum</th><th scope=col>ActualElapsedTime</th><th scope=col>⋯</th><th scope=col>ArrDelay</th><th scope=col>DepDelay</th><th scope=col>Origin</th><th scope=col>Dest</th><th scope=col>Distance</th><th scope=col>TaxiIn</th><th scope=col>TaxiOut</th><th scope=col>Cancelled</th><th scope=col>CancellationCode</th><th scope=col>Diverted</th></tr>\n",
       "\t<tr><th scope=col>&lt;int&gt;</th><th scope=col>&lt;int&gt;</th><th scope=col>&lt;int&gt;</th><th scope=col>&lt;int&gt;</th><th scope=col>&lt;int&gt;</th><th scope=col>&lt;int&gt;</th><th scope=col>&lt;chr&gt;</th><th scope=col>&lt;int&gt;</th><th scope=col>&lt;chr&gt;</th><th scope=col>&lt;int&gt;</th><th scope=col>⋯</th><th scope=col>&lt;int&gt;</th><th scope=col>&lt;int&gt;</th><th scope=col>&lt;chr&gt;</th><th scope=col>&lt;chr&gt;</th><th scope=col>&lt;int&gt;</th><th scope=col>&lt;int&gt;</th><th scope=col>&lt;int&gt;</th><th scope=col>&lt;int&gt;</th><th scope=col>&lt;chr&gt;</th><th scope=col>&lt;int&gt;</th></tr>\n",
       "</thead>\n",
       "<tbody>\n",
       "\t<tr><td>2011</td><td>12</td><td>3</td><td>6</td><td>935</td><td>1408</td><td>CO</td><td>1</td><td>N76055</td><td>513</td><td>⋯</td><td>-2</td><td>0</td><td>IAH</td><td>HNL</td><td>3904</td><td>4</td><td>16</td><td>0</td><td></td><td>0</td></tr>\n",
       "\t<tr><td>2011</td><td>12</td><td>2</td><td>5</td><td>937</td><td>1415</td><td>CO</td><td>1</td><td>N69059</td><td>518</td><td>⋯</td><td> 5</td><td>2</td><td>IAH</td><td>HNL</td><td>3904</td><td>7</td><td>23</td><td>0</td><td></td><td>0</td></tr>\n",
       "\t<tr><td>2011</td><td>12</td><td>1</td><td>4</td><td>936</td><td>1431</td><td>CO</td><td>1</td><td>N67058</td><td>535</td><td>⋯</td><td>21</td><td>1</td><td>IAH</td><td>HNL</td><td>3904</td><td>3</td><td>14</td><td>0</td><td></td><td>0</td></tr>\n",
       "</tbody>\n",
       "</table>\n"
      ],
      "text/latex": [
       "A tibble: 3 × 21\n",
       "\\begin{tabular}{lllllllllllllllllllll}\n",
       " Year & Month & DayofMonth & DayOfWeek & DepTime & ArrTime & UniqueCarrier & FlightNum & TailNum & ActualElapsedTime & ⋯ & ArrDelay & DepDelay & Origin & Dest & Distance & TaxiIn & TaxiOut & Cancelled & CancellationCode & Diverted\\\\\n",
       " <int> & <int> & <int> & <int> & <int> & <int> & <chr> & <int> & <chr> & <int> & ⋯ & <int> & <int> & <chr> & <chr> & <int> & <int> & <int> & <int> & <chr> & <int>\\\\\n",
       "\\hline\n",
       "\t 2011 & 12 & 3 & 6 & 935 & 1408 & CO & 1 & N76055 & 513 & ⋯ & -2 & 0 & IAH & HNL & 3904 & 4 & 16 & 0 &  & 0\\\\\n",
       "\t 2011 & 12 & 2 & 5 & 937 & 1415 & CO & 1 & N69059 & 518 & ⋯ &  5 & 2 & IAH & HNL & 3904 & 7 & 23 & 0 &  & 0\\\\\n",
       "\t 2011 & 12 & 1 & 4 & 936 & 1431 & CO & 1 & N67058 & 535 & ⋯ & 21 & 1 & IAH & HNL & 3904 & 3 & 14 & 0 &  & 0\\\\\n",
       "\\end{tabular}\n"
      ],
      "text/markdown": [
       "\n",
       "A tibble: 3 × 21\n",
       "\n",
       "| Year &lt;int&gt; | Month &lt;int&gt; | DayofMonth &lt;int&gt; | DayOfWeek &lt;int&gt; | DepTime &lt;int&gt; | ArrTime &lt;int&gt; | UniqueCarrier &lt;chr&gt; | FlightNum &lt;int&gt; | TailNum &lt;chr&gt; | ActualElapsedTime &lt;int&gt; | ⋯ ⋯ | ArrDelay &lt;int&gt; | DepDelay &lt;int&gt; | Origin &lt;chr&gt; | Dest &lt;chr&gt; | Distance &lt;int&gt; | TaxiIn &lt;int&gt; | TaxiOut &lt;int&gt; | Cancelled &lt;int&gt; | CancellationCode &lt;chr&gt; | Diverted &lt;int&gt; |\n",
       "|---|---|---|---|---|---|---|---|---|---|---|---|---|---|---|---|---|---|---|---|---|\n",
       "| 2011 | 12 | 3 | 6 | 935 | 1408 | CO | 1 | N76055 | 513 | ⋯ | -2 | 0 | IAH | HNL | 3904 | 4 | 16 | 0 | <!----> | 0 |\n",
       "| 2011 | 12 | 2 | 5 | 937 | 1415 | CO | 1 | N69059 | 518 | ⋯ |  5 | 2 | IAH | HNL | 3904 | 7 | 23 | 0 | <!----> | 0 |\n",
       "| 2011 | 12 | 1 | 4 | 936 | 1431 | CO | 1 | N67058 | 535 | ⋯ | 21 | 1 | IAH | HNL | 3904 | 3 | 14 | 0 | <!----> | 0 |\n",
       "\n"
      ],
      "text/plain": [
       "  Year Month DayofMonth DayOfWeek DepTime ArrTime UniqueCarrier FlightNum\n",
       "1 2011 12    3          6         935     1408    CO            1        \n",
       "2 2011 12    2          5         937     1415    CO            1        \n",
       "3 2011 12    1          4         936     1431    CO            1        \n",
       "  TailNum ActualElapsedTime ⋯ ArrDelay DepDelay Origin Dest Distance TaxiIn\n",
       "1 N76055  513               ⋯ -2       0        IAH    HNL  3904     4     \n",
       "2 N69059  518               ⋯  5       2        IAH    HNL  3904     7     \n",
       "3 N67058  535               ⋯ 21       1        IAH    HNL  3904     3     \n",
       "  TaxiOut Cancelled CancellationCode Diverted\n",
       "1 16      0                          0       \n",
       "2 23      0                          0       \n",
       "3 14      0                          0       "
      ]
     },
     "metadata": {},
     "output_type": "display_data"
    }
   ],
   "source": [
    "tail(flightSort,3) #See the last 3 rows"
   ]
  },
  {
   "cell_type": "code",
   "execution_count": 57,
   "id": "8130e8e7",
   "metadata": {},
   "outputs": [],
   "source": [
    "# Columns can be arranged in descending order too by using the special desc() operator.\n",
    "flightSort<-arrange(flights,desc(Distance))"
   ]
  },
  {
   "cell_type": "code",
   "execution_count": 62,
   "id": "5a7bf324",
   "metadata": {},
   "outputs": [
    {
     "data": {
      "text/html": [
       "<table class=\"dataframe\">\n",
       "<caption>A tibble: 6 × 2</caption>\n",
       "<thead>\n",
       "\t<tr><th scope=col>UniqueCarrier</th><th scope=col>DepDelay</th></tr>\n",
       "\t<tr><th scope=col>&lt;chr&gt;</th><th scope=col>&lt;int&gt;</th></tr>\n",
       "</thead>\n",
       "<tbody>\n",
       "\t<tr><td>OO</td><td>-33</td></tr>\n",
       "\t<tr><td>MQ</td><td>-23</td></tr>\n",
       "\t<tr><td>XE</td><td>-19</td></tr>\n",
       "\t<tr><td>XE</td><td>-19</td></tr>\n",
       "\t<tr><td>CO</td><td>-18</td></tr>\n",
       "\t<tr><td>EV</td><td>-18</td></tr>\n",
       "</tbody>\n",
       "</table>\n"
      ],
      "text/latex": [
       "A tibble: 6 × 2\n",
       "\\begin{tabular}{ll}\n",
       " UniqueCarrier & DepDelay\\\\\n",
       " <chr> & <int>\\\\\n",
       "\\hline\n",
       "\t OO & -33\\\\\n",
       "\t MQ & -23\\\\\n",
       "\t XE & -19\\\\\n",
       "\t XE & -19\\\\\n",
       "\t CO & -18\\\\\n",
       "\t EV & -18\\\\\n",
       "\\end{tabular}\n"
      ],
      "text/markdown": [
       "\n",
       "A tibble: 6 × 2\n",
       "\n",
       "| UniqueCarrier &lt;chr&gt; | DepDelay &lt;int&gt; |\n",
       "|---|---|\n",
       "| OO | -33 |\n",
       "| MQ | -23 |\n",
       "| XE | -19 |\n",
       "| XE | -19 |\n",
       "| CO | -18 |\n",
       "| EV | -18 |\n",
       "\n"
      ],
      "text/plain": [
       "  UniqueCarrier DepDelay\n",
       "1 OO            -33     \n",
       "2 MQ            -23     \n",
       "3 XE            -19     \n",
       "4 XE            -19     \n",
       "5 CO            -18     \n",
       "6 EV            -18     "
      ]
     },
     "metadata": {},
     "output_type": "display_data"
    }
   ],
   "source": [
    "# Select UniqueCarrier and DepDelay columns and sort by DepDelay\n",
    "head(flights %>% #chaining method\n",
    "     select(UniqueCarrier, DepDelay) %>%\n",
    "            arrange(DepDelay))"
   ]
  },
  {
   "cell_type": "code",
   "execution_count": 64,
   "id": "507c4a3f",
   "metadata": {},
   "outputs": [
    {
     "data": {
      "text/html": [
       "<table class=\"dataframe\">\n",
       "<caption>A tibble: 6 × 21</caption>\n",
       "<thead>\n",
       "\t<tr><th scope=col>Year</th><th scope=col>Month</th><th scope=col>DayofMonth</th><th scope=col>DayOfWeek</th><th scope=col>DepTime</th><th scope=col>ArrTime</th><th scope=col>UniqueCarrier</th><th scope=col>FlightNum</th><th scope=col>TailNum</th><th scope=col>ActualElapsedTime</th><th scope=col>⋯</th><th scope=col>ArrDelay</th><th scope=col>DepDelay</th><th scope=col>Origin</th><th scope=col>Dest</th><th scope=col>Distance</th><th scope=col>TaxiIn</th><th scope=col>TaxiOut</th><th scope=col>Cancelled</th><th scope=col>CancellationCode</th><th scope=col>Diverted</th></tr>\n",
       "\t<tr><th scope=col>&lt;int&gt;</th><th scope=col>&lt;int&gt;</th><th scope=col>&lt;int&gt;</th><th scope=col>&lt;int&gt;</th><th scope=col>&lt;int&gt;</th><th scope=col>&lt;int&gt;</th><th scope=col>&lt;chr&gt;</th><th scope=col>&lt;int&gt;</th><th scope=col>&lt;chr&gt;</th><th scope=col>&lt;int&gt;</th><th scope=col>⋯</th><th scope=col>&lt;int&gt;</th><th scope=col>&lt;int&gt;</th><th scope=col>&lt;chr&gt;</th><th scope=col>&lt;chr&gt;</th><th scope=col>&lt;int&gt;</th><th scope=col>&lt;int&gt;</th><th scope=col>&lt;int&gt;</th><th scope=col>&lt;int&gt;</th><th scope=col>&lt;chr&gt;</th><th scope=col>&lt;int&gt;</th></tr>\n",
       "</thead>\n",
       "<tbody>\n",
       "\t<tr><td>2011</td><td>8</td><td>14</td><td>7</td><td>619</td><td>1133</td><td>B6</td><td>620</td><td>N612JB</td><td>254</td><td>⋯</td><td>33</td><td>-11</td><td>HOU</td><td>JFK</td><td>1428</td><td>23</td><td>13</td><td>0</td><td></td><td>0</td></tr>\n",
       "\t<tr><td>2011</td><td>6</td><td> 2</td><td>4</td><td>648</td><td>1138</td><td>B6</td><td>620</td><td>N306JB</td><td>230</td><td>⋯</td><td>12</td><td>-12</td><td>HOU</td><td>JFK</td><td>1428</td><td> 7</td><td>12</td><td>0</td><td></td><td>0</td></tr>\n",
       "\t<tr><td>2011</td><td>5</td><td>21</td><td>6</td><td>741</td><td>1225</td><td>B6</td><td>620</td><td>N236JB</td><td>224</td><td>⋯</td><td>59</td><td> 41</td><td>HOU</td><td>JFK</td><td>1428</td><td> 5</td><td>11</td><td>0</td><td></td><td>0</td></tr>\n",
       "\t<tr><td>2011</td><td>7</td><td> 1</td><td>5</td><td>700</td><td>1145</td><td>B6</td><td>620</td><td>N316JB</td><td>225</td><td>⋯</td><td>10</td><td> -5</td><td>HOU</td><td>JFK</td><td>1428</td><td> 3</td><td>16</td><td>0</td><td></td><td>0</td></tr>\n",
       "\t<tr><td>2011</td><td>7</td><td>15</td><td>5</td><td>630</td><td>1111</td><td>B6</td><td>620</td><td>N641JB</td><td>221</td><td>⋯</td><td>11</td><td>  0</td><td>HOU</td><td>JFK</td><td>1428</td><td> 7</td><td> 9</td><td>0</td><td></td><td>0</td></tr>\n",
       "\t<tr><td>2011</td><td>7</td><td>17</td><td>7</td><td>623</td><td>1114</td><td>B6</td><td>620</td><td>N746JB</td><td>231</td><td>⋯</td><td>14</td><td> -7</td><td>HOU</td><td>JFK</td><td>1428</td><td> 6</td><td>21</td><td>0</td><td></td><td>0</td></tr>\n",
       "</tbody>\n",
       "</table>\n"
      ],
      "text/latex": [
       "A tibble: 6 × 21\n",
       "\\begin{tabular}{lllllllllllllllllllll}\n",
       " Year & Month & DayofMonth & DayOfWeek & DepTime & ArrTime & UniqueCarrier & FlightNum & TailNum & ActualElapsedTime & ⋯ & ArrDelay & DepDelay & Origin & Dest & Distance & TaxiIn & TaxiOut & Cancelled & CancellationCode & Diverted\\\\\n",
       " <int> & <int> & <int> & <int> & <int> & <int> & <chr> & <int> & <chr> & <int> & ⋯ & <int> & <int> & <chr> & <chr> & <int> & <int> & <int> & <int> & <chr> & <int>\\\\\n",
       "\\hline\n",
       "\t 2011 & 8 & 14 & 7 & 619 & 1133 & B6 & 620 & N612JB & 254 & ⋯ & 33 & -11 & HOU & JFK & 1428 & 23 & 13 & 0 &  & 0\\\\\n",
       "\t 2011 & 6 &  2 & 4 & 648 & 1138 & B6 & 620 & N306JB & 230 & ⋯ & 12 & -12 & HOU & JFK & 1428 &  7 & 12 & 0 &  & 0\\\\\n",
       "\t 2011 & 5 & 21 & 6 & 741 & 1225 & B6 & 620 & N236JB & 224 & ⋯ & 59 &  41 & HOU & JFK & 1428 &  5 & 11 & 0 &  & 0\\\\\n",
       "\t 2011 & 7 &  1 & 5 & 700 & 1145 & B6 & 620 & N316JB & 225 & ⋯ & 10 &  -5 & HOU & JFK & 1428 &  3 & 16 & 0 &  & 0\\\\\n",
       "\t 2011 & 7 & 15 & 5 & 630 & 1111 & B6 & 620 & N641JB & 221 & ⋯ & 11 &   0 & HOU & JFK & 1428 &  7 &  9 & 0 &  & 0\\\\\n",
       "\t 2011 & 7 & 17 & 7 & 623 & 1114 & B6 & 620 & N746JB & 231 & ⋯ & 14 &  -7 & HOU & JFK & 1428 &  6 & 21 & 0 &  & 0\\\\\n",
       "\\end{tabular}\n"
      ],
      "text/markdown": [
       "\n",
       "A tibble: 6 × 21\n",
       "\n",
       "| Year &lt;int&gt; | Month &lt;int&gt; | DayofMonth &lt;int&gt; | DayOfWeek &lt;int&gt; | DepTime &lt;int&gt; | ArrTime &lt;int&gt; | UniqueCarrier &lt;chr&gt; | FlightNum &lt;int&gt; | TailNum &lt;chr&gt; | ActualElapsedTime &lt;int&gt; | ⋯ ⋯ | ArrDelay &lt;int&gt; | DepDelay &lt;int&gt; | Origin &lt;chr&gt; | Dest &lt;chr&gt; | Distance &lt;int&gt; | TaxiIn &lt;int&gt; | TaxiOut &lt;int&gt; | Cancelled &lt;int&gt; | CancellationCode &lt;chr&gt; | Diverted &lt;int&gt; |\n",
       "|---|---|---|---|---|---|---|---|---|---|---|---|---|---|---|---|---|---|---|---|---|\n",
       "| 2011 | 8 | 14 | 7 | 619 | 1133 | B6 | 620 | N612JB | 254 | ⋯ | 33 | -11 | HOU | JFK | 1428 | 23 | 13 | 0 | <!----> | 0 |\n",
       "| 2011 | 6 |  2 | 4 | 648 | 1138 | B6 | 620 | N306JB | 230 | ⋯ | 12 | -12 | HOU | JFK | 1428 |  7 | 12 | 0 | <!----> | 0 |\n",
       "| 2011 | 5 | 21 | 6 | 741 | 1225 | B6 | 620 | N236JB | 224 | ⋯ | 59 |  41 | HOU | JFK | 1428 |  5 | 11 | 0 | <!----> | 0 |\n",
       "| 2011 | 7 |  1 | 5 | 700 | 1145 | B6 | 620 | N316JB | 225 | ⋯ | 10 |  -5 | HOU | JFK | 1428 |  3 | 16 | 0 | <!----> | 0 |\n",
       "| 2011 | 7 | 15 | 5 | 630 | 1111 | B6 | 620 | N641JB | 221 | ⋯ | 11 |   0 | HOU | JFK | 1428 |  7 |  9 | 0 | <!----> | 0 |\n",
       "| 2011 | 7 | 17 | 7 | 623 | 1114 | B6 | 620 | N746JB | 231 | ⋯ | 14 |  -7 | HOU | JFK | 1428 |  6 | 21 | 0 | <!----> | 0 |\n",
       "\n"
      ],
      "text/plain": [
       "  Year Month DayofMonth DayOfWeek DepTime ArrTime UniqueCarrier FlightNum\n",
       "1 2011 8     14         7         619     1133    B6            620      \n",
       "2 2011 6      2         4         648     1138    B6            620      \n",
       "3 2011 5     21         6         741     1225    B6            620      \n",
       "4 2011 7      1         5         700     1145    B6            620      \n",
       "5 2011 7     15         5         630     1111    B6            620      \n",
       "6 2011 7     17         7         623     1114    B6            620      \n",
       "  TailNum ActualElapsedTime ⋯ ArrDelay DepDelay Origin Dest Distance TaxiIn\n",
       "1 N612JB  254               ⋯ 33       -11      HOU    JFK  1428     23    \n",
       "2 N306JB  230               ⋯ 12       -12      HOU    JFK  1428      7    \n",
       "3 N236JB  224               ⋯ 59        41      HOU    JFK  1428      5    \n",
       "4 N316JB  225               ⋯ 10        -5      HOU    JFK  1428      3    \n",
       "5 N641JB  221               ⋯ 11         0      HOU    JFK  1428      7    \n",
       "6 N746JB  231               ⋯ 14        -7      HOU    JFK  1428      6    \n",
       "  TaxiOut Cancelled CancellationCode Diverted\n",
       "1 13      0                          0       \n",
       "2 12      0                          0       \n",
       "3 11      0                          0       \n",
       "4 16      0                          0       \n",
       "5  9      0                          0       \n",
       "6 21      0                          0       "
      ]
     },
     "metadata": {},
     "output_type": "display_data"
    }
   ],
   "source": [
    "# Print out all flights leaving to JFK before 10am and arrange according to decreasing AirTime.\n",
    "head(arrange(filter(flights, Dest == 'JFK' & DepTime<1000), desc(AirTime)))"
   ]
  },
  {
   "cell_type": "markdown",
   "id": "6dcdb179",
   "metadata": {},
   "source": [
    "# mutate()"
   ]
  },
  {
   "cell_type": "code",
   "execution_count": null,
   "id": "e69a0eca",
   "metadata": {},
   "outputs": [],
   "source": [
    "# The mutate() function exists to compute transformations of variables in a data frame.\n",
    "# you want to create new varibles that derived from existing varibles and mutate() provides a clean interface for doing that."
   ]
  },
  {
   "cell_type": "code",
   "execution_count": 65,
   "id": "73bbd27e",
   "metadata": {},
   "outputs": [
    {
     "data": {
      "text/html": [
       "<table class=\"dataframe\">\n",
       "<caption>A tibble: 6 × 22</caption>\n",
       "<thead>\n",
       "\t<tr><th scope=col>Year</th><th scope=col>Month</th><th scope=col>DayofMonth</th><th scope=col>DayOfWeek</th><th scope=col>DepTime</th><th scope=col>ArrTime</th><th scope=col>UniqueCarrier</th><th scope=col>FlightNum</th><th scope=col>TailNum</th><th scope=col>ActualElapsedTime</th><th scope=col>⋯</th><th scope=col>DepDelay</th><th scope=col>Origin</th><th scope=col>Dest</th><th scope=col>Distance</th><th scope=col>TaxiIn</th><th scope=col>TaxiOut</th><th scope=col>Cancelled</th><th scope=col>CancellationCode</th><th scope=col>Diverted</th><th scope=col>Speed</th></tr>\n",
       "\t<tr><th scope=col>&lt;int&gt;</th><th scope=col>&lt;int&gt;</th><th scope=col>&lt;int&gt;</th><th scope=col>&lt;int&gt;</th><th scope=col>&lt;int&gt;</th><th scope=col>&lt;int&gt;</th><th scope=col>&lt;chr&gt;</th><th scope=col>&lt;int&gt;</th><th scope=col>&lt;chr&gt;</th><th scope=col>&lt;int&gt;</th><th scope=col>⋯</th><th scope=col>&lt;int&gt;</th><th scope=col>&lt;chr&gt;</th><th scope=col>&lt;chr&gt;</th><th scope=col>&lt;int&gt;</th><th scope=col>&lt;int&gt;</th><th scope=col>&lt;int&gt;</th><th scope=col>&lt;int&gt;</th><th scope=col>&lt;chr&gt;</th><th scope=col>&lt;int&gt;</th><th scope=col>&lt;dbl&gt;</th></tr>\n",
       "</thead>\n",
       "<tbody>\n",
       "\t<tr><td>2011</td><td>1</td><td>1</td><td>6</td><td>1400</td><td>1500</td><td>AA</td><td>428</td><td>N576AA</td><td>60</td><td>⋯</td><td> 0</td><td>IAH</td><td>DFW</td><td>224</td><td>7</td><td>13</td><td>0</td><td></td><td>0</td><td>336.0000</td></tr>\n",
       "\t<tr><td>2011</td><td>1</td><td>2</td><td>7</td><td>1401</td><td>1501</td><td>AA</td><td>428</td><td>N557AA</td><td>60</td><td>⋯</td><td> 1</td><td>IAH</td><td>DFW</td><td>224</td><td>6</td><td> 9</td><td>0</td><td></td><td>0</td><td>298.6667</td></tr>\n",
       "\t<tr><td>2011</td><td>1</td><td>3</td><td>1</td><td>1352</td><td>1502</td><td>AA</td><td>428</td><td>N541AA</td><td>70</td><td>⋯</td><td>-8</td><td>IAH</td><td>DFW</td><td>224</td><td>5</td><td>17</td><td>0</td><td></td><td>0</td><td>280.0000</td></tr>\n",
       "\t<tr><td>2011</td><td>1</td><td>4</td><td>2</td><td>1403</td><td>1513</td><td>AA</td><td>428</td><td>N403AA</td><td>70</td><td>⋯</td><td> 3</td><td>IAH</td><td>DFW</td><td>224</td><td>9</td><td>22</td><td>0</td><td></td><td>0</td><td>344.6154</td></tr>\n",
       "\t<tr><td>2011</td><td>1</td><td>5</td><td>3</td><td>1405</td><td>1507</td><td>AA</td><td>428</td><td>N492AA</td><td>62</td><td>⋯</td><td> 5</td><td>IAH</td><td>DFW</td><td>224</td><td>9</td><td> 9</td><td>0</td><td></td><td>0</td><td>305.4545</td></tr>\n",
       "\t<tr><td>2011</td><td>1</td><td>6</td><td>4</td><td>1359</td><td>1503</td><td>AA</td><td>428</td><td>N262AA</td><td>64</td><td>⋯</td><td>-1</td><td>IAH</td><td>DFW</td><td>224</td><td>6</td><td>13</td><td>0</td><td></td><td>0</td><td>298.6667</td></tr>\n",
       "</tbody>\n",
       "</table>\n"
      ],
      "text/latex": [
       "A tibble: 6 × 22\n",
       "\\begin{tabular}{lllllllllllllllllllll}\n",
       " Year & Month & DayofMonth & DayOfWeek & DepTime & ArrTime & UniqueCarrier & FlightNum & TailNum & ActualElapsedTime & ⋯ & DepDelay & Origin & Dest & Distance & TaxiIn & TaxiOut & Cancelled & CancellationCode & Diverted & Speed\\\\\n",
       " <int> & <int> & <int> & <int> & <int> & <int> & <chr> & <int> & <chr> & <int> & ⋯ & <int> & <chr> & <chr> & <int> & <int> & <int> & <int> & <chr> & <int> & <dbl>\\\\\n",
       "\\hline\n",
       "\t 2011 & 1 & 1 & 6 & 1400 & 1500 & AA & 428 & N576AA & 60 & ⋯ &  0 & IAH & DFW & 224 & 7 & 13 & 0 &  & 0 & 336.0000\\\\\n",
       "\t 2011 & 1 & 2 & 7 & 1401 & 1501 & AA & 428 & N557AA & 60 & ⋯ &  1 & IAH & DFW & 224 & 6 &  9 & 0 &  & 0 & 298.6667\\\\\n",
       "\t 2011 & 1 & 3 & 1 & 1352 & 1502 & AA & 428 & N541AA & 70 & ⋯ & -8 & IAH & DFW & 224 & 5 & 17 & 0 &  & 0 & 280.0000\\\\\n",
       "\t 2011 & 1 & 4 & 2 & 1403 & 1513 & AA & 428 & N403AA & 70 & ⋯ &  3 & IAH & DFW & 224 & 9 & 22 & 0 &  & 0 & 344.6154\\\\\n",
       "\t 2011 & 1 & 5 & 3 & 1405 & 1507 & AA & 428 & N492AA & 62 & ⋯ &  5 & IAH & DFW & 224 & 9 &  9 & 0 &  & 0 & 305.4545\\\\\n",
       "\t 2011 & 1 & 6 & 4 & 1359 & 1503 & AA & 428 & N262AA & 64 & ⋯ & -1 & IAH & DFW & 224 & 6 & 13 & 0 &  & 0 & 298.6667\\\\\n",
       "\\end{tabular}\n"
      ],
      "text/markdown": [
       "\n",
       "A tibble: 6 × 22\n",
       "\n",
       "| Year &lt;int&gt; | Month &lt;int&gt; | DayofMonth &lt;int&gt; | DayOfWeek &lt;int&gt; | DepTime &lt;int&gt; | ArrTime &lt;int&gt; | UniqueCarrier &lt;chr&gt; | FlightNum &lt;int&gt; | TailNum &lt;chr&gt; | ActualElapsedTime &lt;int&gt; | ⋯ ⋯ | DepDelay &lt;int&gt; | Origin &lt;chr&gt; | Dest &lt;chr&gt; | Distance &lt;int&gt; | TaxiIn &lt;int&gt; | TaxiOut &lt;int&gt; | Cancelled &lt;int&gt; | CancellationCode &lt;chr&gt; | Diverted &lt;int&gt; | Speed &lt;dbl&gt; |\n",
       "|---|---|---|---|---|---|---|---|---|---|---|---|---|---|---|---|---|---|---|---|---|\n",
       "| 2011 | 1 | 1 | 6 | 1400 | 1500 | AA | 428 | N576AA | 60 | ⋯ |  0 | IAH | DFW | 224 | 7 | 13 | 0 | <!----> | 0 | 336.0000 |\n",
       "| 2011 | 1 | 2 | 7 | 1401 | 1501 | AA | 428 | N557AA | 60 | ⋯ |  1 | IAH | DFW | 224 | 6 |  9 | 0 | <!----> | 0 | 298.6667 |\n",
       "| 2011 | 1 | 3 | 1 | 1352 | 1502 | AA | 428 | N541AA | 70 | ⋯ | -8 | IAH | DFW | 224 | 5 | 17 | 0 | <!----> | 0 | 280.0000 |\n",
       "| 2011 | 1 | 4 | 2 | 1403 | 1513 | AA | 428 | N403AA | 70 | ⋯ |  3 | IAH | DFW | 224 | 9 | 22 | 0 | <!----> | 0 | 344.6154 |\n",
       "| 2011 | 1 | 5 | 3 | 1405 | 1507 | AA | 428 | N492AA | 62 | ⋯ |  5 | IAH | DFW | 224 | 9 |  9 | 0 | <!----> | 0 | 305.4545 |\n",
       "| 2011 | 1 | 6 | 4 | 1359 | 1503 | AA | 428 | N262AA | 64 | ⋯ | -1 | IAH | DFW | 224 | 6 | 13 | 0 | <!----> | 0 | 298.6667 |\n",
       "\n"
      ],
      "text/plain": [
       "  Year Month DayofMonth DayOfWeek DepTime ArrTime UniqueCarrier FlightNum\n",
       "1 2011 1     1          6         1400    1500    AA            428      \n",
       "2 2011 1     2          7         1401    1501    AA            428      \n",
       "3 2011 1     3          1         1352    1502    AA            428      \n",
       "4 2011 1     4          2         1403    1513    AA            428      \n",
       "5 2011 1     5          3         1405    1507    AA            428      \n",
       "6 2011 1     6          4         1359    1503    AA            428      \n",
       "  TailNum ActualElapsedTime ⋯ DepDelay Origin Dest Distance TaxiIn TaxiOut\n",
       "1 N576AA  60                ⋯  0       IAH    DFW  224      7      13     \n",
       "2 N557AA  60                ⋯  1       IAH    DFW  224      6       9     \n",
       "3 N541AA  70                ⋯ -8       IAH    DFW  224      5      17     \n",
       "4 N403AA  70                ⋯  3       IAH    DFW  224      9      22     \n",
       "5 N492AA  62                ⋯  5       IAH    DFW  224      9       9     \n",
       "6 N262AA  64                ⋯ -1       IAH    DFW  224      6      13     \n",
       "  Cancelled CancellationCode Diverted Speed   \n",
       "1 0                          0        336.0000\n",
       "2 0                          0        298.6667\n",
       "3 0                          0        280.0000\n",
       "4 0                          0        344.6154\n",
       "5 0                          0        305.4545\n",
       "6 0                          0        298.6667"
      ]
     },
     "metadata": {},
     "output_type": "display_data"
    }
   ],
   "source": [
    "flights <- flights %>% mutate(Speed = Distance/AirTime*60)\n",
    "\n",
    "head(flights)  # Observe here new column 'Speed' added    "
   ]
  },
  {
   "cell_type": "code",
   "execution_count": 67,
   "id": "135a4834",
   "metadata": {},
   "outputs": [
    {
     "data": {
      "text/html": [
       "<table class=\"dataframe\">\n",
       "<caption>A tibble: 6 × 3</caption>\n",
       "<thead>\n",
       "\t<tr><th scope=col>UniqueCarrier</th><th scope=col>Cancelled</th><th scope=col>Diverted</th></tr>\n",
       "\t<tr><th scope=col>&lt;chr&gt;</th><th scope=col>&lt;dbl&gt;</th><th scope=col>&lt;dbl&gt;</th></tr>\n",
       "</thead>\n",
       "<tbody>\n",
       "\t<tr><td>AA</td><td>0.018495684</td><td>0.001849568</td></tr>\n",
       "\t<tr><td>AS</td><td>0.000000000</td><td>0.002739726</td></tr>\n",
       "\t<tr><td>B6</td><td>0.025899281</td><td>0.005755396</td></tr>\n",
       "\t<tr><td>CO</td><td>0.006782614</td><td>0.002627370</td></tr>\n",
       "\t<tr><td>DL</td><td>0.015903067</td><td>0.003029156</td></tr>\n",
       "\t<tr><td>EV</td><td>0.034482759</td><td>0.003176044</td></tr>\n",
       "</tbody>\n",
       "</table>\n"
      ],
      "text/latex": [
       "A tibble: 6 × 3\n",
       "\\begin{tabular}{lll}\n",
       " UniqueCarrier & Cancelled & Diverted\\\\\n",
       " <chr> & <dbl> & <dbl>\\\\\n",
       "\\hline\n",
       "\t AA & 0.018495684 & 0.001849568\\\\\n",
       "\t AS & 0.000000000 & 0.002739726\\\\\n",
       "\t B6 & 0.025899281 & 0.005755396\\\\\n",
       "\t CO & 0.006782614 & 0.002627370\\\\\n",
       "\t DL & 0.015903067 & 0.003029156\\\\\n",
       "\t EV & 0.034482759 & 0.003176044\\\\\n",
       "\\end{tabular}\n"
      ],
      "text/markdown": [
       "\n",
       "A tibble: 6 × 3\n",
       "\n",
       "| UniqueCarrier &lt;chr&gt; | Cancelled &lt;dbl&gt; | Diverted &lt;dbl&gt; |\n",
       "|---|---|---|\n",
       "| AA | 0.018495684 | 0.001849568 |\n",
       "| AS | 0.000000000 | 0.002739726 |\n",
       "| B6 | 0.025899281 | 0.005755396 |\n",
       "| CO | 0.006782614 | 0.002627370 |\n",
       "| DL | 0.015903067 | 0.003029156 |\n",
       "| EV | 0.034482759 | 0.003176044 |\n",
       "\n"
      ],
      "text/plain": [
       "  UniqueCarrier Cancelled   Diverted   \n",
       "1 AA            0.018495684 0.001849568\n",
       "2 AS            0.000000000 0.002739726\n",
       "3 B6            0.025899281 0.005755396\n",
       "4 CO            0.006782614 0.002627370\n",
       "5 DL            0.015903067 0.003029156\n",
       "6 EV            0.034482759 0.003176044"
      ]
     },
     "metadata": {},
     "output_type": "display_data"
    }
   ],
   "source": [
    "# calculate the percentage of flights canceled or diverted\n",
    "head(flights %>%\n",
    "    group_by(UniqueCarrier) %>%\n",
    "        summarise_each(funs(mean), Cancelled, Diverted))"
   ]
  },
  {
   "cell_type": "code",
   "execution_count": 70,
   "id": "870aa091",
   "metadata": {},
   "outputs": [
    {
     "name": "stderr",
     "output_type": "stream",
     "text": [
      "\u001b[1m\u001b[22mAdding missing grouping variables: `UniqueCarrier`\n"
     ]
    },
    {
     "data": {
      "text/html": [
       "<table class=\"dataframe\">\n",
       "<caption>A grouped_df: 6 × 4</caption>\n",
       "<thead>\n",
       "\t<tr><th scope=col>UniqueCarrier</th><th scope=col>Month</th><th scope=col>DayofMonth</th><th scope=col>DepDelay</th></tr>\n",
       "\t<tr><th scope=col>&lt;chr&gt;</th><th scope=col>&lt;int&gt;</th><th scope=col>&lt;int&gt;</th><th scope=col>&lt;int&gt;</th></tr>\n",
       "</thead>\n",
       "<tbody>\n",
       "\t<tr><td>AA</td><td>12</td><td>12</td><td>970</td></tr>\n",
       "\t<tr><td>AA</td><td>11</td><td>19</td><td>677</td></tr>\n",
       "\t<tr><td>AS</td><td> 2</td><td>28</td><td>172</td></tr>\n",
       "\t<tr><td>AS</td><td> 7</td><td> 6</td><td>138</td></tr>\n",
       "\t<tr><td>B6</td><td>10</td><td>29</td><td>310</td></tr>\n",
       "\t<tr><td>B6</td><td> 8</td><td>19</td><td>283</td></tr>\n",
       "</tbody>\n",
       "</table>\n"
      ],
      "text/latex": [
       "A grouped\\_df: 6 × 4\n",
       "\\begin{tabular}{llll}\n",
       " UniqueCarrier & Month & DayofMonth & DepDelay\\\\\n",
       " <chr> & <int> & <int> & <int>\\\\\n",
       "\\hline\n",
       "\t AA & 12 & 12 & 970\\\\\n",
       "\t AA & 11 & 19 & 677\\\\\n",
       "\t AS &  2 & 28 & 172\\\\\n",
       "\t AS &  7 &  6 & 138\\\\\n",
       "\t B6 & 10 & 29 & 310\\\\\n",
       "\t B6 &  8 & 19 & 283\\\\\n",
       "\\end{tabular}\n"
      ],
      "text/markdown": [
       "\n",
       "A grouped_df: 6 × 4\n",
       "\n",
       "| UniqueCarrier &lt;chr&gt; | Month &lt;int&gt; | DayofMonth &lt;int&gt; | DepDelay &lt;int&gt; |\n",
       "|---|---|---|---|\n",
       "| AA | 12 | 12 | 970 |\n",
       "| AA | 11 | 19 | 677 |\n",
       "| AS |  2 | 28 | 172 |\n",
       "| AS |  7 |  6 | 138 |\n",
       "| B6 | 10 | 29 | 310 |\n",
       "| B6 |  8 | 19 | 283 |\n",
       "\n"
      ],
      "text/plain": [
       "  UniqueCarrier Month DayofMonth DepDelay\n",
       "1 AA            12    12         970     \n",
       "2 AA            11    19         677     \n",
       "3 AS             2    28         172     \n",
       "4 AS             7     6         138     \n",
       "5 B6            10    29         310     \n",
       "6 B6             8    19         283     "
      ]
     },
     "metadata": {},
     "output_type": "display_data"
    }
   ],
   "source": [
    "# Combining filter, mutate, and arrange\n",
    "\n",
    "# For each UniqueCarrier, calculate which two days of the year they had their longest departure delays\n",
    "\n",
    "head(flights %>%\n",
    "    group_by(UniqueCarrier) %>%\n",
    "    select(Month, DayofMonth, DepDelay) %>%\n",
    "    filter(min_rank(desc(DepDelay)) <= 2) %>%\n",
    "    arrange(UniqueCarrier, desc(DepDelay)))"
   ]
  },
  {
   "cell_type": "code",
   "execution_count": 71,
   "id": "2ddbb1d7",
   "metadata": {},
   "outputs": [
    {
     "data": {
      "text/html": [
       "<table class=\"dataframe\">\n",
       "<caption>A tibble: 6 × 3</caption>\n",
       "<thead>\n",
       "\t<tr><th scope=col>Month</th><th scope=col>flight_count</th><th scope=col>change</th></tr>\n",
       "\t<tr><th scope=col>&lt;int&gt;</th><th scope=col>&lt;int&gt;</th><th scope=col>&lt;int&gt;</th></tr>\n",
       "</thead>\n",
       "<tbody>\n",
       "\t<tr><td>1</td><td>18910</td><td>   NA</td></tr>\n",
       "\t<tr><td>2</td><td>17128</td><td>-1782</td></tr>\n",
       "\t<tr><td>3</td><td>19470</td><td> 2342</td></tr>\n",
       "\t<tr><td>4</td><td>18593</td><td> -877</td></tr>\n",
       "\t<tr><td>5</td><td>19172</td><td>  579</td></tr>\n",
       "\t<tr><td>6</td><td>19600</td><td>  428</td></tr>\n",
       "</tbody>\n",
       "</table>\n"
      ],
      "text/latex": [
       "A tibble: 6 × 3\n",
       "\\begin{tabular}{lll}\n",
       " Month & flight\\_count & change\\\\\n",
       " <int> & <int> & <int>\\\\\n",
       "\\hline\n",
       "\t 1 & 18910 &    NA\\\\\n",
       "\t 2 & 17128 & -1782\\\\\n",
       "\t 3 & 19470 &  2342\\\\\n",
       "\t 4 & 18593 &  -877\\\\\n",
       "\t 5 & 19172 &   579\\\\\n",
       "\t 6 & 19600 &   428\\\\\n",
       "\\end{tabular}\n"
      ],
      "text/markdown": [
       "\n",
       "A tibble: 6 × 3\n",
       "\n",
       "| Month &lt;int&gt; | flight_count &lt;int&gt; | change &lt;int&gt; |\n",
       "|---|---|---|\n",
       "| 1 | 18910 |    NA |\n",
       "| 2 | 17128 | -1782 |\n",
       "| 3 | 19470 |  2342 |\n",
       "| 4 | 18593 |  -877 |\n",
       "| 5 | 19172 |   579 |\n",
       "| 6 | 19600 |   428 |\n",
       "\n"
      ],
      "text/plain": [
       "  Month flight_count change\n",
       "1 1     18910           NA \n",
       "2 2     17128        -1782 \n",
       "3 3     19470         2342 \n",
       "4 4     18593         -877 \n",
       "5 5     19172          579 \n",
       "6 6     19600          428 "
      ]
     },
     "metadata": {},
     "output_type": "display_data"
    }
   ],
   "source": [
    "# For each month, calculate the number of flights and the change from the previous month\n",
    "head(flights %>%\n",
    "    group_by(Month) %>%\n",
    "    summarise(flight_count = n()) %>%\n",
    "    mutate(change = flight_count - lag(flight_count)))"
   ]
  },
  {
   "cell_type": "code",
   "execution_count": null,
   "id": "5d9c4534",
   "metadata": {},
   "outputs": [],
   "source": []
  }
 ],
 "metadata": {
  "kernelspec": {
   "display_name": "R",
   "language": "R",
   "name": "ir"
  },
  "language_info": {
   "codemirror_mode": "r",
   "file_extension": ".r",
   "mimetype": "text/x-r-source",
   "name": "R",
   "pygments_lexer": "r",
   "version": "4.2.1"
  }
 },
 "nbformat": 4,
 "nbformat_minor": 5
}
