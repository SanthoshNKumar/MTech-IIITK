{
 "cells": [
  {
   "cell_type": "code",
   "execution_count": 2,
   "id": "a46c2ba7",
   "metadata": {},
   "outputs": [],
   "source": [
    "#install.packages(\"logr\")"
   ]
  },
  {
   "cell_type": "code",
   "execution_count": null,
   "id": "df392095",
   "metadata": {},
   "outputs": [],
   "source": [
    "# logr functions\n",
    "    1. log_open()\n",
    "    2. log_print()\n",
    "    3. log_close()"
   ]
  },
  {
   "cell_type": "code",
   "execution_count": 5,
   "id": "cbb1e853",
   "metadata": {},
   "outputs": [
    {
     "ename": "ERROR",
     "evalue": "Error in library(logr): there is no package called 'logr'\n",
     "output_type": "error",
     "traceback": [
      "Error in library(logr): there is no package called 'logr'\nTraceback:\n",
      "1. library(logr)"
     ]
    }
   ],
   "source": [
    "library(logr)\n",
    "\n",
    "tmp <- file.path(\"C:\\\\RAKDeploy\", \"test.log\")\n",
    "\n",
    "# Create log file\n",
    "lf <- log_open(tmp)\n",
    "\n",
    "# Print data to log\n",
    "log_print(\"High Mileage Cars Subset\")\n",
    "\n",
    "# Perform operations\n",
    "hmc <- subset(mtcars, mtcars$mpg > 20)\n",
    "\n",
    "# Print data to log\n",
    "log_print(hmc)\n",
    "\n",
    "# Close log\n",
    "log_close()"
   ]
  },
  {
   "cell_type": "code",
   "execution_count": null,
   "id": "dff16390",
   "metadata": {},
   "outputs": [],
   "source": []
  }
 ],
 "metadata": {
  "kernelspec": {
   "display_name": "R",
   "language": "R",
   "name": "ir"
  },
  "language_info": {
   "codemirror_mode": "r",
   "file_extension": ".r",
   "mimetype": "text/x-r-source",
   "name": "R",
   "pygments_lexer": "r",
   "version": "4.2.1"
  }
 },
 "nbformat": 4,
 "nbformat_minor": 5
}
