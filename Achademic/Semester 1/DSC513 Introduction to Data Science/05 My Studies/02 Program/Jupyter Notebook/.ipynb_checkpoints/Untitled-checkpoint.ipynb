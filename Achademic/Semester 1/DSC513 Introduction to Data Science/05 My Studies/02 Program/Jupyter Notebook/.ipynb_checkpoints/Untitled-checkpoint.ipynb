{
 "cells": [
  {
   "cell_type": "code",
   "execution_count": 4,
   "id": "bc4328e8",
   "metadata": {},
   "outputs": [
    {
     "name": "stdout",
     "output_type": "stream",
     "text": [
      "package 'log4r' successfully unpacked and MD5 sums checked\n",
      "\n",
      "The downloaded binary packages are in\n",
      "\tC:\\Users\\INSAKUM46\\AppData\\Local\\Temp\\Rtmp25bOzY\\downloaded_packages\n"
     ]
    }
   ],
   "source": [
    "install.packages('log4r')"
   ]
  },
  {
   "cell_type": "code",
   "execution_count": 6,
   "id": "22296e1f",
   "metadata": {},
   "outputs": [],
   "source": [
    "library('log4r')"
   ]
  },
  {
   "cell_type": "code",
   "execution_count": 7,
   "id": "b852f379",
   "metadata": {},
   "outputs": [],
   "source": [
    "logger <- create.logger(logfile = 'debugging.log', level = 'DEBUG')"
   ]
  },
  {
   "cell_type": "code",
   "execution_count": 8,
   "id": "8364a21d",
   "metadata": {},
   "outputs": [
    {
     "name": "stdout",
     "output_type": "stream",
     "text": [
      "[1] \"logfile.log\"\n"
     ]
    }
   ],
   "source": [
    "print(logfile(logger))"
   ]
  },
  {
   "cell_type": "code",
   "execution_count": 9,
   "id": "d51a0237",
   "metadata": {},
   "outputs": [],
   "source": [
    "logfile(logger) <- 'debug.log'\n",
    "debug(logger, 'A Debugging Message')"
   ]
  },
  {
   "cell_type": "code",
   "execution_count": null,
   "id": "dc66fc42",
   "metadata": {},
   "outputs": [],
   "source": []
  },
  {
   "cell_type": "code",
   "execution_count": null,
   "id": "0cca7fc0",
   "metadata": {},
   "outputs": [],
   "source": []
  }
 ],
 "metadata": {
  "kernelspec": {
   "display_name": "R",
   "language": "R",
   "name": "ir"
  },
  "language_info": {
   "codemirror_mode": "r",
   "file_extension": ".r",
   "mimetype": "text/x-r-source",
   "name": "R",
   "pygments_lexer": "r",
   "version": "4.2.1"
  }
 },
 "nbformat": 4,
 "nbformat_minor": 5
}
