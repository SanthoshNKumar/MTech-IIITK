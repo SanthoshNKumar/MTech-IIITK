{
 "cells": [
  {
   "cell_type": "markdown",
   "id": "871323f4",
   "metadata": {},
   "source": [
    "# If else"
   ]
  },
  {
   "cell_type": "code",
   "execution_count": 1,
   "id": "f0eda4ff",
   "metadata": {},
   "outputs": [
    {
     "name": "stdout",
     "output_type": "stream",
     "text": [
      "[1] \"You dont have instagram account\"\n"
     ]
    }
   ],
   "source": [
    "medium <- \"LinkedIn\"\n",
    "    num_views <- 10000\n",
    "\n",
    "    if(medium == 'instagram'){\n",
    "      print(\"Great,You have a instagram account\")\n",
    "    }else{\n",
    "      print(\"You dont have instagram account\")\n",
    "    }"
   ]
  },
  {
   "cell_type": "markdown",
   "id": "db213ba4",
   "metadata": {},
   "source": [
    "# else if"
   ]
  },
  {
   "cell_type": "code",
   "execution_count": 2,
   "id": "ea513b03",
   "metadata": {},
   "outputs": [
    {
     "name": "stdout",
     "output_type": "stream",
     "text": [
      "[1] \"Not enough for today\"\n"
     ]
    }
   ],
   "source": [
    "quantity <-  10\n",
    "\n",
    "# Create multiple condition statement\n",
    "\n",
    "if (quantity <20) {\n",
    "      print('Not enough for today')\n",
    "} else if (quantity > 20  &quantity <= 30) {\n",
    "     print('Average day')\n",
    "} else {\n",
    "      print('What a great day!')\n",
    "}"
   ]
  },
  {
   "cell_type": "code",
   "execution_count": 3,
   "id": "aad0f4fb",
   "metadata": {},
   "outputs": [
    {
     "name": "stdout",
     "output_type": "stream",
     "text": [
      "A vat rate of 8% is applied. The total price is 10.8"
     ]
    }
   ],
   "source": [
    "category <- 'A'\n",
    "price <- 10\n",
    "\n",
    "if (category =='A'){\n",
    "  cat('A vat rate of 8% is applied.','The total price is',price *1.08)  \n",
    "} else if (category =='B'){\n",
    "    cat('A vat rate of 10% is applied.','The total price is',price *1.10)  \n",
    "} else {\n",
    "    cat('A vat rate of 20% is applied.','The total price is',price *1.20)  \n",
    "}"
   ]
  },
  {
   "cell_type": "code",
   "execution_count": null,
   "id": "40fc074b",
   "metadata": {},
   "outputs": [],
   "source": []
  },
  {
   "cell_type": "markdown",
   "id": "d9f5f4e7",
   "metadata": {},
   "source": [
    "## One line If else condition"
   ]
  },
  {
   "cell_type": "code",
   "execution_count": 12,
   "id": "030531eb",
   "metadata": {},
   "outputs": [
    {
     "data": {
      "text/html": [
       "1"
      ],
      "text/latex": [
       "1"
      ],
      "text/markdown": [
       "1"
      ],
      "text/plain": [
       "[1] 1"
      ]
     },
     "metadata": {},
     "output_type": "display_data"
    }
   ],
   "source": [
    "val = 10\n",
    "\n",
    "ifelse(val <=10,1,0) # set 1 if val is less than 1 else 0"
   ]
  },
  {
   "cell_type": "code",
   "execution_count": 17,
   "id": "f6d04550",
   "metadata": {},
   "outputs": [
    {
     "data": {
      "text/html": [
       "'Greater than 10'"
      ],
      "text/latex": [
       "'Greater than 10'"
      ],
      "text/markdown": [
       "'Greater than 10'"
      ],
      "text/plain": [
       "[1] \"Greater than 10\""
      ]
     },
     "metadata": {},
     "output_type": "display_data"
    }
   ],
   "source": [
    "# Multi if else condition\n",
    "\n",
    "val = 13\n",
    "\n",
    "ifelse(val <=10,1,ifelse(val >5,\"Greater than 10\",6))"
   ]
  },
  {
   "cell_type": "code",
   "execution_count": null,
   "id": "5f9f4489",
   "metadata": {},
   "outputs": [],
   "source": []
  }
 ],
 "metadata": {
  "kernelspec": {
   "display_name": "R",
   "language": "R",
   "name": "ir"
  },
  "language_info": {
   "codemirror_mode": "r",
   "file_extension": ".r",
   "mimetype": "text/x-r-source",
   "name": "R",
   "pygments_lexer": "r",
   "version": "4.2.1"
  }
 },
 "nbformat": 4,
 "nbformat_minor": 5
}
