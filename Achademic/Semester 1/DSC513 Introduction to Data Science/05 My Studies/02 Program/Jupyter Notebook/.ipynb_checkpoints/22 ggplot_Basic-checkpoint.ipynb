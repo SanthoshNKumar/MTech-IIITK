{
 "cells": [
  {
   "cell_type": "code",
   "execution_count": null,
   "id": "614e801e",
   "metadata": {},
   "outputs": [],
   "source": [
    "# https://argoshare.is.ed.ac.uk/healthyr_book/scales.html\n",
    "# http://www.sthda.com/english/wiki/ggplot2-essentials\n",
    "\n",
    "# ggplot\n",
    "\n",
    "# gg : grammar of graphics"
   ]
  },
  {
   "cell_type": "markdown",
   "id": "2924aef1",
   "metadata": {},
   "source": [
    "# Graphics Elements"
   ]
  },
  {
   "cell_type": "code",
   "execution_count": null,
   "id": "74642e13",
   "metadata": {},
   "outputs": [],
   "source": [
    "# data\n",
    "# aesthetics mapping\n",
    "# geometry\n",
    "# coordinates\n",
    "# themes"
   ]
  },
  {
   "cell_type": "code",
   "execution_count": null,
   "id": "00968b34",
   "metadata": {},
   "outputs": [],
   "source": []
  },
  {
   "cell_type": "markdown",
   "id": "1c9fe0a1",
   "metadata": {},
   "source": [
    "## Aesthetic"
   ]
  },
  {
   "cell_type": "code",
   "execution_count": null,
   "id": "b1537dcc",
   "metadata": {},
   "outputs": [],
   "source": [
    "# Aesthetic mappings describe how variables in the data are mapped to visual properties (aesthetics) of geoms.\n",
    "# aes() function is often used within other graphing elements to specify the desired aesthetics."
   ]
  },
  {
   "cell_type": "code",
   "execution_count": null,
   "id": "6742de50",
   "metadata": {},
   "outputs": [],
   "source": []
  },
  {
   "cell_type": "markdown",
   "id": "d2cfb166",
   "metadata": {},
   "source": [
    "# geom (geometric object)"
   ]
  },
  {
   "cell_type": "code",
   "execution_count": null,
   "id": "e064ffd7",
   "metadata": {},
   "outputs": [],
   "source": [
    "# A layer combines data, aesthetic mapping, a geom (geometric object), a stat (statistical transformation), and a position \n",
    "# adjustment. "
   ]
  },
  {
   "cell_type": "markdown",
   "id": "bc1d489e",
   "metadata": {},
   "source": [
    "## Different geoms in ggplot"
   ]
  },
  {
   "cell_type": "code",
   "execution_count": null,
   "id": "9f770855",
   "metadata": {},
   "outputs": [],
   "source": [
    "1. geom_area\n",
    "2. geom_bar : (counts values)\n",
    "3. geom_line : \n",
    "4. geom_point : scatter plot\n",
    "5. geom_col\n",
    "6. geom_histogram\n",
    "7. geom_boxplot\n",
    "8. geom_text\n",
    "9. geom_polygon\n",
    "10. geom_path\n",
    "11. geom_density\n",
    "12. geom_violin"
   ]
  },
  {
   "cell_type": "markdown",
   "id": "f4d61fcd",
   "metadata": {},
   "source": [
    "## Anatomy of a ggplot "
   ]
  },
  {
   "cell_type": "code",
   "execution_count": null,
   "id": "75f7aaf3",
   "metadata": {},
   "outputs": [],
   "source": [
    "# Syntax\n",
    "\n",
    "# ggplot(data = <DATA>, mapping = aes(<MAPPINGS>)) +  <GEOM_FUNCTION>()\n",
    "\n",
    "# example\n",
    "# ggplot(data, aes(x,y)) + geom_point(aes(color,fill))"
   ]
  },
  {
   "cell_type": "code",
   "execution_count": null,
   "id": "4ccc3097",
   "metadata": {},
   "outputs": [],
   "source": [
    "# gapdata2007 %>% ggplot(aes(x = gdpPercap, y = lifeExp))\n",
    "\n",
    "# ggplot(gapdata2007, aes(x = gdpPercap, y = lifeExp))\n",
    "\n",
    "# gapdata2007 %>% ggplot(aes(x = gdpPercap, y = lifeExp)) + geom_point()\n",
    "\n",
    "# gapdata2007 %>% ggplot(aes(x = gdpPercap, y = lifeExp, colour = continent)) + geom_point()\n",
    "\n",
    "# gapdata2007 %>%  ggplot(aes(x = gdpPercap, y = lifeExp, colour = continent)) + geom_point(shape = 1)\n",
    "\n",
    "# gapdata2007 %>% ggplot(aes(x = gdpPercap, y = lifeExp, colour = continent)) + geom_point(shape = 1) + facet_wrap(~continent)\n",
    "\n",
    "# gapdata2007 %>%  ggplot(aes(x = gdpPercap/1000, y = lifeExp, colour = continent)) + geom_point(shape = 1) + \n",
    "#                                  facet_wrap(~continent) + theme_bw()\n",
    "\n"
   ]
  },
  {
   "cell_type": "markdown",
   "id": "ee7b29d1",
   "metadata": {},
   "source": [
    "### Scatterplot"
   ]
  },
  {
   "cell_type": "code",
   "execution_count": null,
   "id": "74f354e5",
   "metadata": {},
   "outputs": [],
   "source": [
    "\n",
    "# gapdata2007 %>%  ggplot(aes(x = gdpPercap/1000, y = lifeExp, size = pop)) + geom_point(shape = 1, alpha = 0.5)\n",
    "                # alpha = 0.5(slightly transparent)\n",
    "                # shape = 1(points hollow)"
   ]
  },
  {
   "cell_type": "markdown",
   "id": "6e7d2503",
   "metadata": {},
   "source": [
    "### Line plot/Time Sereis plot"
   ]
  },
  {
   "cell_type": "code",
   "execution_count": null,
   "id": "1fcc2050",
   "metadata": {},
   "outputs": [],
   "source": [
    "# gapdata %>% filter(country == \"United Kingdom\") %>% ggplot(aes(x = year, y = lifeExp)) + geom_line()\n",
    "\n",
    "# group plots\n",
    "# gapdata %>% ggplot(aes(x = year, y = lifeExp, group = country)) + geom_line()"
   ]
  },
  {
   "cell_type": "markdown",
   "id": "dca7fa37",
   "metadata": {},
   "source": [
    "###  Summarised data"
   ]
  },
  {
   "cell_type": "code",
   "execution_count": null,
   "id": "d0ef25bc",
   "metadata": {},
   "outputs": [],
   "source": [
    "# gapdata2007 %>% filter(country %in% c(\"United Kingdom\",\"France\",\"Germany\")) %>% ggplot(aes(x=country,y=lifeExp)) + geom_col() "
   ]
  },
  {
   "cell_type": "markdown",
   "id": "47963f14",
   "metadata": {},
   "source": [
    "### Bar chart : Countable data"
   ]
  },
  {
   "cell_type": "code",
   "execution_count": null,
   "id": "085a52f2",
   "metadata": {},
   "outputs": [],
   "source": [
    "# geom_bar() requires here\n",
    "\n",
    "# gapdata2007 %>%  ggplot(aes(x = continent)) + geom_bar()\n",
    "\n",
    "# gapdata2007 %>% ggplot(aes(x = continent, colour = country)) + geom_bar(fill = NA) + theme(legend.position = \"none\")\n",
    "\n",
    "# gapdata2007 %>%  ggplot(aes(x = \"Global\", fill = continent)) + geom_bar()\n",
    "\n",
    "# gapdata2007 %>%  ggplot(aes(x = \"Global\", fill = continent)) + geom_bar(binwidth = 50)"
   ]
  },
  {
   "cell_type": "markdown",
   "id": "d721f294",
   "metadata": {},
   "source": [
    "### Histogram"
   ]
  },
  {
   "cell_type": "code",
   "execution_count": 1,
   "id": "2702fe5f",
   "metadata": {},
   "outputs": [],
   "source": [
    "# gapdata2007 %>% ggplot(aes(x = lifeExp)) + geom_histogram(binwidth = 10)"
   ]
  },
  {
   "cell_type": "markdown",
   "id": "afa5fa51",
   "metadata": {},
   "source": [
    "###  Box plots"
   ]
  },
  {
   "cell_type": "code",
   "execution_count": null,
   "id": "22b98de2",
   "metadata": {},
   "outputs": [],
   "source": [
    "# gapdata2007 %>% ggplot(aes(x = continent, y = lifeExp)) + geom_boxplot()"
   ]
  },
  {
   "cell_type": "markdown",
   "id": "26e17fca",
   "metadata": {},
   "source": [
    "### Multiple Geoms"
   ]
  },
  {
   "cell_type": "code",
   "execution_count": null,
   "id": "035392ee",
   "metadata": {},
   "outputs": [],
   "source": [
    "# gapdata2007 %>% \n",
    "  ggplot(aes(x = continent, y = lifeExp)) +\n",
    "  \n",
    "  # First geom - boxplot\n",
    "  geom_boxplot() +\n",
    "  \n",
    "  # Second geom - jitter with its own aes(colour = )\n",
    "  geom_jitter(aes(colour = continent)) +\n",
    "  \n",
    "  # Third geom - label, with its own dataset (label_data) and aes(label = )\n",
    "  geom_label(data = label_data, aes(label = country))"
   ]
  },
  {
   "cell_type": "markdown",
   "id": "21a5a6d1",
   "metadata": {},
   "source": [
    "### Titles and labels"
   ]
  },
  {
   "cell_type": "code",
   "execution_count": null,
   "id": "13999f7e",
   "metadata": {},
   "outputs": [],
   "source": [
    "p <- ggplot(ToothGrowth, aes(x=dose, y=len)) + geom_boxplot()\n",
    "\n",
    "# one way\n",
    "# p + ggtitle(\"Plot of length \\n by dose\") + xlab(\"Dose (mg)\") + ylab(\"Teeth length\")\n",
    "\n",
    "# second way\n",
    "# p + labs(title=\"Plot of length \\n by dose\", x =\"Dose (mg)\", y = \"Teeth length\")\n",
    "\n",
    "# Modify legend titles\n",
    "# p + labs(title=\"Plot of length \\n by dose\", x =\"Dose (mg)\", y = \"Teeth length\",fill = \"Dose (mg)\")\n"
   ]
  },
  {
   "cell_type": "markdown",
   "id": "527af33d",
   "metadata": {},
   "source": [
    "### Change the appearance of the main title and axis labels"
   ]
  },
  {
   "cell_type": "code",
   "execution_count": null,
   "id": "dd74a5da",
   "metadata": {},
   "outputs": [],
   "source": [
    "\n",
    "# Change the color, the size and the face of the main title, x and y axis labels\n",
    "\n",
    "p + theme( plot.title = element_text(color=\"red\", size=14, face=\"bold.italic\"),\n",
    "           axis.title.x = element_text(color=\"blue\", size=14, face=\"bold\"),\n",
    "           axis.title.y = element_text(color=\"#993333\", size=14, face=\"bold\") )"
   ]
  },
  {
   "cell_type": "markdown",
   "id": "7c555b12",
   "metadata": {},
   "source": [
    "### Remove x and y axis labels"
   ]
  },
  {
   "cell_type": "code",
   "execution_count": null,
   "id": "beee28af",
   "metadata": {},
   "outputs": [],
   "source": [
    "# Hide the main title and axis titles\n",
    "\n",
    "p + theme( plot.title = element_blank(),\n",
    "           axis.title.x = element_blank(),\n",
    "           axis.title.y = element_blank())"
   ]
  },
  {
   "cell_type": "markdown",
   "id": "8f219f58",
   "metadata": {},
   "source": [
    "### Legend "
   ]
  },
  {
   "cell_type": "code",
   "execution_count": null,
   "id": "7d3b5e7d",
   "metadata": {},
   "outputs": [],
   "source": [
    "mynamestheme <- theme( plot.title = element_text(family = \"Helvetica\", face = \"bold\", size = (15\n",
    "                                                                                              \n",
    "                       legend.title = element_text(colour = \"steelblue\", face = \"bold.italic\", family = \"Helvetica\"),\n",
    "                       legend.text = element_text(face = \"italic\", colour = \"steelblue4\", family = \"Helvetica\"),\n",
    "                      \n",
    "                       axis.title = element_text(family = \"Helvetica\", size = (10), colour = \"steelblue4\"),\n",
    "                       axis.text = element_text(family = \"Courier\", colour = \"cornflowerblue\", size = (10)) )"
   ]
  },
  {
   "cell_type": "code",
   "execution_count": null,
   "id": "aca3a8ea",
   "metadata": {},
   "outputs": [],
   "source": [
    "# p + labs(title=\"Plot of length \\n by dose\", x =\"Dose (mg)\", y = \"Teeth length\",fill = \"Dose (mg)\")"
   ]
  },
  {
   "cell_type": "markdown",
   "id": "10772c3b",
   "metadata": {},
   "source": [
    "### Save plots"
   ]
  },
  {
   "cell_type": "code",
   "execution_count": null,
   "id": "c53b077b",
   "metadata": {},
   "outputs": [],
   "source": []
  }
 ],
 "metadata": {
  "kernelspec": {
   "display_name": "R",
   "language": "R",
   "name": "ir"
  },
  "language_info": {
   "codemirror_mode": "r",
   "file_extension": ".r",
   "mimetype": "text/x-r-source",
   "name": "R",
   "pygments_lexer": "r",
   "version": "4.2.1"
  }
 },
 "nbformat": 4,
 "nbformat_minor": 5
}
