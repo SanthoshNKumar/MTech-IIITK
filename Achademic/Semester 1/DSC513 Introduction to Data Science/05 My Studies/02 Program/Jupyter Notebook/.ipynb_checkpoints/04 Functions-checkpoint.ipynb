{
 "cells": [
  {
   "cell_type": "markdown",
   "id": "35d874a7",
   "metadata": {},
   "source": [
    "# Create Functions"
   ]
  },
  {
   "cell_type": "markdown",
   "id": "7d0303c3",
   "metadata": {},
   "source": [
    "## Function without Arguments/Parameters"
   ]
  },
  {
   "cell_type": "code",
   "execution_count": 5,
   "id": "dd52ca80",
   "metadata": {},
   "outputs": [
    {
     "data": {
      "text/html": [
       "25"
      ],
      "text/latex": [
       "25"
      ],
      "text/markdown": [
       "25"
      ],
      "text/plain": [
       "[1] 25"
      ]
     },
     "metadata": {},
     "output_type": "display_data"
    }
   ],
   "source": [
    "five_two <-function(){\n",
    "    5^2\n",
    "}\n",
    "\n",
    "five_two()\n"
   ]
  },
  {
   "cell_type": "markdown",
   "id": "53da17d7",
   "metadata": {},
   "source": [
    "# Function with parameter"
   ]
  },
  {
   "cell_type": "code",
   "execution_count": 6,
   "id": "4a7417c8",
   "metadata": {},
   "outputs": [
    {
     "data": {
      "text/html": [
       "25"
      ],
      "text/latex": [
       "25"
      ],
      "text/markdown": [
       "25"
      ],
      "text/plain": [
       "[1] 25"
      ]
     },
     "metadata": {},
     "output_type": "display_data"
    }
   ],
   "source": [
    "pow_two <-function(x){\n",
    "    x^2\n",
    "}\n",
    "\n",
    "pow_two(5)"
   ]
  },
  {
   "cell_type": "markdown",
   "id": "64eb442e",
   "metadata": {},
   "source": [
    "# Multi arguments function"
   ]
  },
  {
   "cell_type": "code",
   "execution_count": 8,
   "id": "56866763",
   "metadata": {},
   "outputs": [
    {
     "data": {
      "text/html": [
       "8"
      ],
      "text/latex": [
       "8"
      ],
      "text/markdown": [
       "8"
      ],
      "text/plain": [
       "[1] 8"
      ]
     },
     "metadata": {},
     "output_type": "display_data"
    }
   ],
   "source": [
    "times <- function(x,y) {\n",
    "  x*y\n",
    "    }\n",
    "\n",
    "times(2,4)"
   ]
  },
  {
   "cell_type": "markdown",
   "id": "a4234d0c",
   "metadata": {},
   "source": [
    "# Function with Default parameters"
   ]
  },
  {
   "cell_type": "code",
   "execution_count": 1,
   "id": "371fea54",
   "metadata": {},
   "outputs": [
    {
     "name": "stdout",
     "output_type": "stream",
     "text": [
      "[1] 20\n"
     ]
    }
   ],
   "source": [
    "function_name <- function(a, b= 10){  \n",
    "    print(a+b);  \n",
    "}  \n",
    "\n",
    "function_name(10)"
   ]
  },
  {
   "cell_type": "code",
   "execution_count": 2,
   "id": "888b52c6",
   "metadata": {},
   "outputs": [
    {
     "name": "stdout",
     "output_type": "stream",
     "text": [
      "[1] 50\n"
     ]
    }
   ],
   "source": [
    "function_name(20,30)"
   ]
  },
  {
   "cell_type": "code",
   "execution_count": null,
   "id": "a701d6d2",
   "metadata": {},
   "outputs": [],
   "source": []
  },
  {
   "cell_type": "code",
   "execution_count": 3,
   "id": "a87e107e",
   "metadata": {},
   "outputs": [
    {
     "data": {
      "text/html": [
       "'Negative'"
      ],
      "text/latex": [
       "'Negative'"
      ],
      "text/markdown": [
       "'Negative'"
      ],
      "text/plain": [
       "[1] \"Negative\""
      ]
     },
     "metadata": {},
     "output_type": "display_data"
    }
   ],
   "source": [
    "check <- function(x) {\n",
    "    if (x > 0) {\n",
    "        result <- \"Positive\"\n",
    "}\n",
    "    \n",
    "else if (x < 0) {\n",
    "    result <- \"Negative\"\n",
    "}\n",
    "    \n",
    "else {\n",
    "    result <- \"Zero\"\n",
    "}\n",
    "    \n",
    "    return(result)\n",
    "    \n",
    "}\n",
    "\n",
    "check(-1)"
   ]
  },
  {
   "cell_type": "code",
   "execution_count": 4,
   "id": "b5424285",
   "metadata": {},
   "outputs": [
    {
     "data": {
      "text/html": [
       "'Zero'"
      ],
      "text/latex": [
       "'Zero'"
      ],
      "text/markdown": [
       "'Zero'"
      ],
      "text/plain": [
       "[1] \"Zero\""
      ]
     },
     "metadata": {},
     "output_type": "display_data"
    }
   ],
   "source": [
    "check(0)"
   ]
  },
  {
   "cell_type": "code",
   "execution_count": 5,
   "id": "8deddc2e",
   "metadata": {},
   "outputs": [
    {
     "data": {
      "text/html": [
       "'Positive'"
      ],
      "text/latex": [
       "'Positive'"
      ],
      "text/markdown": [
       "'Positive'"
      ],
      "text/plain": [
       "[1] \"Positive\""
      ]
     },
     "metadata": {},
     "output_type": "display_data"
    }
   ],
   "source": [
    "check(10)"
   ]
  },
  {
   "cell_type": "markdown",
   "id": "70513935",
   "metadata": {},
   "source": [
    "## Return Multi Values"
   ]
  },
  {
   "cell_type": "code",
   "execution_count": 6,
   "id": "67c8e768",
   "metadata": {},
   "outputs": [
    {
     "data": {
      "text/html": [
       "<ol>\n",
       "\t<li>6</li>\n",
       "\t<li>-2</li>\n",
       "\t<li>8</li>\n",
       "\t<li>2</li>\n",
       "</ol>\n"
      ],
      "text/latex": [
       "\\begin{enumerate}\n",
       "\\item 6\n",
       "\\item -2\n",
       "\\item 8\n",
       "\\item 2\n",
       "\\end{enumerate}\n"
      ],
      "text/markdown": [
       "1. 6\n",
       "2. -2\n",
       "3. 8\n",
       "4. 2\n",
       "\n",
       "\n"
      ],
      "text/plain": [
       "[[1]]\n",
       "[1] 6\n",
       "\n",
       "[[2]]\n",
       "[1] -2\n",
       "\n",
       "[[3]]\n",
       "[1] 8\n",
       "\n",
       "[[4]]\n",
       "[1] 2\n"
      ]
     },
     "metadata": {},
     "output_type": "display_data"
    }
   ],
   "source": [
    "arithmetic = function(val1,val2) {   \n",
    "    # add     \n",
    "    add=val1+val2\n",
    "   \n",
    "    # subtract\n",
    "    sub=val1-val2\n",
    "\n",
    "    # multiply\n",
    "    mul=val1*val2\n",
    "\n",
    "    # divide\n",
    "    div=val2/val1\n",
    "\n",
    "    # return the result as a list\n",
    "    return(list(add,sub,mul,div))\n",
    "}\n",
    "\n",
    "arithmetic(2,4)"
   ]
  },
  {
   "cell_type": "code",
   "execution_count": null,
   "id": "9591e691",
   "metadata": {},
   "outputs": [],
   "source": []
  }
 ],
 "metadata": {
  "kernelspec": {
   "display_name": "R",
   "language": "R",
   "name": "ir"
  },
  "language_info": {
   "codemirror_mode": "r",
   "file_extension": ".r",
   "mimetype": "text/x-r-source",
   "name": "R",
   "pygments_lexer": "r",
   "version": "4.2.1"
  }
 },
 "nbformat": 4,
 "nbformat_minor": 5
}
