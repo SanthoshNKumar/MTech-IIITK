{
 "cells": [
  {
   "cell_type": "code",
   "execution_count": null,
   "id": "89d5e9ba",
   "metadata": {},
   "outputs": [],
   "source": [
    "# try(): it helps us to continue with the execution of the program even when an error occurs.\n",
    "# tryCatch(): it helps to handle the conditions and control what happens based on the conditions.\n",
    "# withCallingHandlers(): it is an alternative to tryCatch() that takes care of the local handlers."
   ]
  },
  {
   "cell_type": "markdown",
   "id": "04735fbd",
   "metadata": {},
   "source": [
    "### Without Exception Handling"
   ]
  },
  {
   "cell_type": "code",
   "execution_count": 1,
   "id": "1fcfdddb",
   "metadata": {},
   "outputs": [
    {
     "name": "stdout",
     "output_type": "stream",
     "text": [
      "[1] \"log of 1 = 0\"\n",
      "[1] \"log of 2 = 0.693147180559945\"\n",
      "[1] \"log of 4 = 1.38629436111989\"\n"
     ]
    },
    {
     "name": "stderr",
     "output_type": "stream",
     "text": [
      "Warning message in log(input):\n",
      "\"NaNs produced\"\n"
     ]
    },
    {
     "name": "stdout",
     "output_type": "stream",
     "text": [
      "[1] \"log of -5 = NaN\"\n"
     ]
    },
    {
     "ename": "ERROR",
     "evalue": "Error in log(input): non-numeric argument to mathematical function\n",
     "output_type": "error",
     "traceback": [
      "Error in log(input): non-numeric argument to mathematical function\nTraceback:\n",
      "1. print(paste(\"log of\", input, \"=\", log(input)))",
      "2. paste(\"log of\", input, \"=\", log(input))"
     ]
    }
   ],
   "source": [
    "inputs = list(1, 2, 4, -5, 'oops', 0, 10)\n",
    "\n",
    "for(input in inputs) {\n",
    "    print(paste(\"log of\", input, \"=\", log(input)))\n",
    "}"
   ]
  },
  {
   "cell_type": "markdown",
   "id": "d58b720c",
   "metadata": {},
   "source": [
    "### With Try Block"
   ]
  },
  {
   "cell_type": "code",
   "execution_count": 2,
   "id": "a893bbe0",
   "metadata": {},
   "outputs": [
    {
     "name": "stdout",
     "output_type": "stream",
     "text": [
      "[1] \"log of 1 = 0\"\n",
      "[1] \"log of 2 = 0.693147180559945\"\n",
      "[1] \"log of 4 = 1.38629436111989\"\n"
     ]
    },
    {
     "name": "stderr",
     "output_type": "stream",
     "text": [
      "Warning message in log(input):\n",
      "\"NaNs produced\"\n"
     ]
    },
    {
     "name": "stdout",
     "output_type": "stream",
     "text": [
      "[1] \"log of -5 = NaN\"\n",
      "Error in log(input) : non-numeric argument to mathematical function\n",
      "[1] \"log of 0 = -Inf\"\n",
      "[1] \"log of 10 = 2.30258509299405\"\n"
     ]
    }
   ],
   "source": [
    "for(input in inputs) {\n",
    "    try(print(paste(\"log of\", input, \"=\", log(input))))\n",
    "}"
   ]
  },
  {
   "cell_type": "markdown",
   "id": "f7c71e94",
   "metadata": {},
   "source": [
    "### With tryCatch Block"
   ]
  },
  {
   "cell_type": "code",
   "execution_count": 4,
   "id": "6675f662",
   "metadata": {},
   "outputs": [
    {
     "name": "stdout",
     "output_type": "stream",
     "text": [
      "[1] \"log of 1 = 0\"\n",
      "[1] \"log of 2 = 0.693147180559945\"\n",
      "[1] \"log of 4 = 1.38629436111989\"\n",
      "[1] \"negative argument -5\"\n",
      "[1] \"non-numeric argument oops\"\n",
      "[1] \"log of 0 = -Inf\"\n",
      "[1] \"log of 10 = 2.30258509299405\"\n"
     ]
    }
   ],
   "source": [
    "for(input in inputs) {\n",
    "     tryCatch(print(paste(\"log of\", input, \"=\", log(input))),\n",
    "              warning = function(w) {print(paste(\"negative argument\", input));\n",
    "                                     log(-input)},\n",
    "              error = function(e) {print(paste(\"non-numeric argument\", input));\n",
    "                                   NaN})\n",
    "}"
   ]
  },
  {
   "cell_type": "code",
   "execution_count": 5,
   "id": "ef271067",
   "metadata": {},
   "outputs": [
    {
     "name": "stdout",
     "output_type": "stream",
     "text": [
      "[1] \"robust log of 1 = 0\"\n",
      "[1] \"robust log of 2 = 0.693147180559945\"\n",
      "[1] \"robust log of 4 = 1.38629436111989\"\n",
      "[1] \"negative argument -5\"\n",
      "[1] \"robust log of -5 = 1.6094379124341\"\n",
      "[1] \"non-numeric argument oops\"\n",
      "[1] \"robust log of oops = NaN\"\n",
      "[1] \"robust log of 0 = -Inf\"\n",
      "[1] \"robust log of 10 = 2.30258509299405\"\n"
     ]
    }
   ],
   "source": [
    "robustLog = function(x) {\n",
    "    tryCatch(log(x),\n",
    "             warning = function(w) {print(paste(\"negative argument\", x)); \n",
    "                                    log(-x)},\n",
    "             error = function(e) {print(paste(\"non-numeric argument\", x)); \n",
    "                                  NaN}) \n",
    "}\n",
    "\n",
    "for(input in inputs) {\n",
    "    print(paste(\"robust log of\", input, \"=\", robustLog(input)))\n",
    "}"
   ]
  },
  {
   "cell_type": "code",
   "execution_count": 51,
   "id": "df6cbd4b",
   "metadata": {},
   "outputs": [],
   "source": [
    "devide<-function(va1,va2){\n",
    "    tryCatch(print(log(va1),warning = function(w) {write.to.log(w)}))\n",
    "}\n",
    "\n"
   ]
  },
  {
   "cell_type": "code",
   "execution_count": 52,
   "id": "a0121db0",
   "metadata": {},
   "outputs": [
    {
     "name": "stdout",
     "output_type": "stream",
     "text": [
      "[1] 0.6931472\n"
     ]
    }
   ],
   "source": [
    "devide(2,4)"
   ]
  },
  {
   "cell_type": "code",
   "execution_count": 53,
   "id": "43361c97",
   "metadata": {},
   "outputs": [
    {
     "name": "stdout",
     "output_type": "stream",
     "text": [
      "[1] -Inf\n"
     ]
    }
   ],
   "source": [
    "devide(0,4)"
   ]
  },
  {
   "cell_type": "code",
   "execution_count": 54,
   "id": "157078dc",
   "metadata": {},
   "outputs": [
    {
     "name": "stdout",
     "output_type": "stream",
     "text": [
      "[1] 0.6931472\n"
     ]
    }
   ],
   "source": [
    "devide(2,0)"
   ]
  },
  {
   "cell_type": "code",
   "execution_count": 55,
   "id": "a8e1bfc0",
   "metadata": {},
   "outputs": [
    {
     "ename": "ERROR",
     "evalue": "Error in log(va1): non-numeric argument to mathematical function\n",
     "output_type": "error",
     "traceback": [
      "Error in log(va1): non-numeric argument to mathematical function\nTraceback:\n",
      "1. devide(\"adsa\", 0)",
      "2. tryCatch(print(log(va1), warning = function(w) {\n .     write.to.log(w)\n . }))   # at line 2 of file <text>",
      "3. tryCatchList(expr, classes, parentenv, handlers)",
      "4. print(log(va1), warning = function(w) {\n .     write.to.log(w)\n . })   # at line 2 of file <text>"
     ]
    }
   ],
   "source": [
    "devide(\"adsa\",0)"
   ]
  },
  {
   "cell_type": "code",
   "execution_count": 63,
   "id": "a70d02c9",
   "metadata": {},
   "outputs": [
    {
     "name": "stdout",
     "output_type": "stream",
     "text": [
      "[1] \"Hey, a warning\"\n"
     ]
    }
   ],
   "source": [
    "tryCatch( { result <- log(\"NA\"); print(result) }\n",
    "          , error = function(e) { print(\"Hey, a warning\") })"
   ]
  },
  {
   "cell_type": "code",
   "execution_count": 71,
   "id": "fbfc18ad",
   "metadata": {},
   "outputs": [
    {
     "name": "stdout",
     "output_type": "stream",
     "text": [
      "[1] \"sdfdsaf\"\n"
     ]
    }
   ],
   "source": [
    "library(logr)\n",
    "\n",
    "tmp <- file.path(\"log\", \"test.log\")\n",
    "\n",
    "# Create log file\n",
    "lf <- log_open(tmp)\n",
    "\n",
    "tryCatch( { result <- log(\"NA\"); print(result) }\n",
    "          , error = function(e) { log_print(\"sdfdsaf\") })\n",
    "\n"
   ]
  },
  {
   "cell_type": "code",
   "execution_count": 78,
   "id": "ea37ede3",
   "metadata": {},
   "outputs": [
    {
     "name": "stdout",
     "output_type": "stream",
     "text": [
      "<simpleError in log(\"NA\"): non-numeric argument to mathematical function>\n"
     ]
    }
   ],
   "source": [
    "tryCatch( { result <- log(\"NA\"); print(result)},error = function(e) {log_print(e)})"
   ]
  },
  {
   "cell_type": "code",
   "execution_count": 79,
   "id": "7fda15b9",
   "metadata": {},
   "outputs": [
    {
     "data": {
      "text/plain": [
       "[[1]]\n",
       "IRkernel::main()\n",
       "\n",
       "[[2]]\n",
       "kernel$run()\n",
       "\n",
       "[[3]]\n",
       "handle_shell()\n",
       "\n",
       "[[4]]\n",
       "executor$execute(msg)\n",
       "\n",
       "[[5]]\n",
       "tryCatch(evaluate(request$content$code, envir = .GlobalEnv, output_handler = oh, \n",
       "    stop_on_error = 1L), interrupt = function(cond) {\n",
       "    log_debug(\"Interrupt during execution\")\n",
       "    interrupted <<- TRUE\n",
       "}, error = .self$handle_error)\n",
       "\n",
       "[[6]]\n",
       "tryCatchList(expr, classes, parentenv, handlers)\n",
       "\n",
       "[[7]]\n",
       "tryCatchOne(tryCatchList(expr, names[-nh], parentenv, handlers[-nh]), \n",
       "    names[nh], parentenv, handlers[[nh]])\n",
       "\n",
       "[[8]]\n",
       "doTryCatch(return(expr), name, parentenv, handler)\n",
       "\n",
       "[[9]]\n",
       "tryCatchList(expr, names[-nh], parentenv, handlers[-nh])\n",
       "\n",
       "[[10]]\n",
       "tryCatchOne(expr, names, parentenv, handlers[[1L]])\n",
       "\n",
       "[[11]]\n",
       "doTryCatch(return(expr), name, parentenv, handler)\n",
       "\n",
       "[[12]]\n",
       "evaluate(request$content$code, envir = .GlobalEnv, output_handler = oh, \n",
       "    stop_on_error = 1L)\n",
       "\n",
       "[[13]]\n",
       "evaluate_call(expr, parsed$src[[i]], envir = envir, enclos = enclos, \n",
       "    debug = debug, last = i == length(out), use_try = stop_on_error != \n",
       "        2L, keep_warning = keep_warning, keep_message = keep_message, \n",
       "    output_handler = output_handler, include_timing = include_timing)\n",
       "\n",
       "[[14]]\n",
       "timing_fn(handle(ev <- withCallingHandlers(withVisible(eval_with_user_handlers(expr, \n",
       "    envir, enclos, user_handlers)), warning = wHandler, error = eHandler, \n",
       "    message = mHandler)))\n",
       "\n",
       "[[15]]\n",
       "handle(ev <- withCallingHandlers(withVisible(eval_with_user_handlers(expr, \n",
       "    envir, enclos, user_handlers)), warning = wHandler, error = eHandler, \n",
       "    message = mHandler))\n",
       "\n",
       "[[16]]\n",
       "try(f, silent = TRUE)\n",
       "\n",
       "[[17]]\n",
       "tryCatch(expr, error = function(e) {\n",
       "    call <- conditionCall(e)\n",
       "    if (!is.null(call)) {\n",
       "        if (identical(call[[1L]], quote(doTryCatch))) \n",
       "            call <- sys.call(-4L)\n",
       "        dcall <- deparse(call, nlines = 1L)\n",
       "        prefix <- paste(\"Error in\", dcall, \": \")\n",
       "        LONG <- 75L\n",
       "        sm <- strsplit(conditionMessage(e), \"\\n\")[[1L]]\n",
       "        w <- 14L + nchar(dcall, type = \"w\") + nchar(sm[1L], type = \"w\")\n",
       "        if (is.na(w)) \n",
       "            w <- 14L + nchar(dcall, type = \"b\") + nchar(sm[1L], \n",
       "                type = \"b\")\n",
       "        if (w > LONG) \n",
       "            prefix <- paste0(prefix, \"\\n  \")\n",
       "    }\n",
       "    else prefix <- \"Error : \"\n",
       "    msg <- paste0(prefix, conditionMessage(e), \"\\n\")\n",
       "    .Internal(seterrmessage(msg[1L]))\n",
       "    if (!silent && isTRUE(getOption(\"show.error.messages\"))) {\n",
       "        cat(msg, file = outFile)\n",
       "        .Internal(printDeferredWarnings())\n",
       "    }\n",
       "    invisible(structure(msg, class = \"try-error\", condition = e))\n",
       "})\n",
       "\n",
       "[[18]]\n",
       "tryCatchList(expr, classes, parentenv, handlers)\n",
       "\n",
       "[[19]]\n",
       "tryCatchOne(expr, names, parentenv, handlers[[1L]])\n",
       "\n",
       "[[20]]\n",
       "doTryCatch(return(expr), name, parentenv, handler)\n",
       "\n",
       "[[21]]\n",
       "withCallingHandlers(withVisible(eval_with_user_handlers(expr, \n",
       "    envir, enclos, user_handlers)), warning = wHandler, error = eHandler, \n",
       "    message = mHandler)\n",
       "\n",
       "[[22]]\n",
       "withVisible(eval_with_user_handlers(expr, envir, enclos, user_handlers))\n",
       "\n",
       "[[23]]\n",
       "eval_with_user_handlers(expr, envir, enclos, user_handlers)\n",
       "\n",
       "[[24]]\n",
       "eval(expr, envir, enclos)\n",
       "\n",
       "[[25]]\n",
       "eval(expr, envir, enclos)\n",
       "\n",
       "[[26]]\n",
       "tryCatch({\n",
       "    result <- log(\"NA\")\n",
       "    print(result)\n",
       "}, error = function(e) {\n",
       "    sys.calls()\n",
       "})\n",
       "\n",
       "[[27]]\n",
       "tryCatchList(expr, classes, parentenv, handlers)\n",
       "\n",
       "[[28]]\n",
       "tryCatchOne(expr, names, parentenv, handlers[[1L]])\n",
       "\n",
       "[[29]]\n",
       "value[[3L]](cond)\n"
      ]
     },
     "metadata": {},
     "output_type": "display_data"
    }
   ],
   "source": [
    "tryCatch( { result <- log(\"NA\"); print(result)},error = function(e) {sys.calls()})"
   ]
  },
  {
   "cell_type": "code",
   "execution_count": null,
   "id": "347d412f",
   "metadata": {},
   "outputs": [],
   "source": []
  }
 ],
 "metadata": {
  "kernelspec": {
   "display_name": "R",
   "language": "R",
   "name": "ir"
  },
  "language_info": {
   "codemirror_mode": "r",
   "file_extension": ".r",
   "mimetype": "text/x-r-source",
   "name": "R",
   "pygments_lexer": "r",
   "version": "4.2.1"
  }
 },
 "nbformat": 4,
 "nbformat_minor": 5
}
