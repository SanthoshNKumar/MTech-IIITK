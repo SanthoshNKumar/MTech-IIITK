{
 "cells": [
  {
   "cell_type": "code",
   "execution_count": null,
   "id": "2fd2a727",
   "metadata": {},
   "outputs": [],
   "source": [
    "# Index\n",
    "   : In r Index of values for vector or list always starts from '1'"
   ]
  },
  {
   "cell_type": "code",
   "execution_count": null,
   "id": "a6ad453c",
   "metadata": {},
   "outputs": [],
   "source": [
    "# Supress Warnings\n",
    "    options(warn=-1) "
   ]
  },
  {
   "cell_type": "code",
   "execution_count": null,
   "id": "d9410714",
   "metadata": {},
   "outputs": [],
   "source": [
    "# Install package \n",
    "\tinstall.packages(\"plotrix\")"
   ]
  },
  {
   "cell_type": "code",
   "execution_count": null,
   "id": "8f10b4db",
   "metadata": {},
   "outputs": [],
   "source": [
    "# Call the Library\n",
    "\tlibrary(plotrix)"
   ]
  },
  {
   "cell_type": "code",
   "execution_count": null,
   "id": "7ce8cba9",
   "metadata": {},
   "outputs": [],
   "source": [
    "set.seed(456)"
   ]
  },
  {
   "cell_type": "markdown",
   "id": "bec862be",
   "metadata": {},
   "source": [
    "# Print Satements"
   ]
  },
  {
   "cell_type": "code",
   "execution_count": 72,
   "id": "1230beae",
   "metadata": {},
   "outputs": [
    {
     "name": "stdout",
     "output_type": "stream",
     "text": [
      "[1] \"Hi Santhosh\"\n"
     ]
    }
   ],
   "source": [
    "# using print\n",
    " \n",
    " print(\"Hi Santhosh\")"
   ]
  },
  {
   "cell_type": "code",
   "execution_count": 75,
   "id": "8907d76b",
   "metadata": {},
   "outputs": [
    {
     "name": "stdout",
     "output_type": "stream",
     "text": [
      "[1] \"Santhosh from Mysore\"\n"
     ]
    }
   ],
   "source": [
    "# Concatenation/ paste\n",
    "\n",
    "x <- \"Mysore\"\n",
    "\n",
    "print(paste0(\"Santhosh from \",x))"
   ]
  },
  {
   "cell_type": "code",
   "execution_count": 83,
   "id": "0c5e227e",
   "metadata": {},
   "outputs": [
    {
     "data": {
      "text/html": [
       "'Mysore is best'"
      ],
      "text/latex": [
       "'Mysore is best'"
      ],
      "text/markdown": [
       "'Mysore is best'"
      ],
      "text/plain": [
       "[1] \"Mysore is best\""
      ]
     },
     "metadata": {},
     "output_type": "display_data"
    }
   ],
   "source": [
    "x <- \"Mysore\"\n",
    "\n",
    " # string print\n",
    "    sprintf(\"%s is best\", x)"
   ]
  },
  {
   "cell_type": "code",
   "execution_count": 86,
   "id": "cfd78f04",
   "metadata": {},
   "outputs": [
    {
     "data": {
      "text/html": [
       "'String: Welcome to Programiz'"
      ],
      "text/latex": [
       "'String: Welcome to Programiz'"
      ],
      "text/markdown": [
       "'String: Welcome to Programiz'"
      ],
      "text/plain": [
       "[1] \"String: Welcome to Programiz\""
      ]
     },
     "metadata": {},
     "output_type": "display_data"
    }
   ],
   "source": [
    "    myString <- \"Welcome to Programiz\"\n",
    "\n",
    "    # print formatted string\n",
    "    sprintf(\"String: %s\", myString)"
   ]
  },
  {
   "cell_type": "code",
   "execution_count": 79,
   "id": "043d0aca",
   "metadata": {},
   "outputs": [
    {
     "data": {
      "text/html": [
       "'255 is integer'"
      ],
      "text/latex": [
       "'255 is integer'"
      ],
      "text/markdown": [
       "'255 is integer'"
      ],
      "text/plain": [
       "[1] \"255 is integer\""
      ]
     },
     "metadata": {},
     "output_type": "display_data"
    }
   ],
   "source": [
    "# Print integer values\n",
    "    x1 = 255  \n",
    "\n",
    "    sprintf(\"%d is integer\", x1)"
   ]
  },
  {
   "cell_type": "code",
   "execution_count": 87,
   "id": "c95e26f5",
   "metadata": {},
   "outputs": [
    {
     "data": {
      "text/html": [
       "'Integer Value: 123'"
      ],
      "text/latex": [
       "'Integer Value: 123'"
      ],
      "text/markdown": [
       "'Integer Value: 123'"
      ],
      "text/plain": [
       "[1] \"Integer Value: 123\""
      ]
     },
     "metadata": {},
     "output_type": "display_data"
    }
   ],
   "source": [
    "    myInteger <- 123\n",
    "    sprintf(\"Integer Value: %d\", myInteger)"
   ]
  },
  {
   "cell_type": "code",
   "execution_count": 82,
   "id": "0f4f2347",
   "metadata": {},
   "outputs": [
    {
     "data": {
      "text/html": [
       "'23.140000 is float'"
      ],
      "text/latex": [
       "'23.140000 is float'"
      ],
      "text/markdown": [
       "'23.140000 is float'"
      ],
      "text/plain": [
       "[1] \"23.140000 is float\""
      ]
     },
     "metadata": {},
     "output_type": "display_data"
    }
   ],
   "source": [
    "# float print\n",
    "\n",
    "    x2 = 23.14  \n",
    "\n",
    "    sprintf(\"%f is float\", x2)"
   ]
  },
  {
   "cell_type": "code",
   "execution_count": 84,
   "id": "34f1ad37",
   "metadata": {},
   "outputs": [
    {
     "name": "stdout",
     "output_type": "stream",
     "text": [
      "Mysore is best\n"
     ]
    }
   ],
   "source": [
    "# Print output using cat() function\n",
    "x = \"Mysore\"\n",
    "\n",
    "cat(x, \"is best\\n\")"
   ]
  },
  {
   "cell_type": "code",
   "execution_count": 88,
   "id": "40f6dc3e",
   "metadata": {},
   "outputs": [
    {
     "name": "stdout",
     "output_type": "stream",
     "text": [
      "Welcome to  Programiz"
     ]
    }
   ],
   "source": [
    "message <- \"Programiz\"\n",
    "cat(\"Welcome to \", message)"
   ]
  },
  {
   "cell_type": "code",
   "execution_count": 100,
   "id": "e061f3ad",
   "metadata": {},
   "outputs": [
    {
     "name": "stdout",
     "output_type": "stream",
     "text": [
      "Hi Interes 10.2 value 103"
     ]
    }
   ],
   "source": [
    "## print multiple values in statements\n",
    "\n",
    "r = 10.2\n",
    "interest= 103\n",
    "\n",
    "cat(\"Hi Interes\",r,\"value\",interest)"
   ]
  },
  {
   "cell_type": "markdown",
   "id": "cfede505",
   "metadata": {},
   "source": [
    "# Variables"
   ]
  },
  {
   "cell_type": "code",
   "execution_count": 1,
   "id": "e99075e1",
   "metadata": {},
   "outputs": [
    {
     "name": "stdout",
     "output_type": "stream",
     "text": [
      "[1] \"Santhosh\"\n",
      "[1] 45\n"
     ]
    }
   ],
   "source": [
    "# Variable assignment\n",
    "\n",
    "    myString <- \"Santhosh\" # or myString = \"Santhosh\"\n",
    "    print(myString)\n",
    "\n",
    "    x <- 45\n",
    "    print(x)"
   ]
  },
  {
   "cell_type": "markdown",
   "id": "f3fdafef",
   "metadata": {},
   "source": [
    "# Data Types"
   ]
  },
  {
   "cell_type": "code",
   "execution_count": 3,
   "id": "c534bfbf",
   "metadata": {},
   "outputs": [
    {
     "name": "stdout",
     "output_type": "stream",
     "text": [
      "[1] \"logical\"\n"
     ]
    }
   ],
   "source": [
    "# Data type : logical\n",
    "    v <- TRUE\n",
    "    print(class(v))"
   ]
  },
  {
   "cell_type": "code",
   "execution_count": 4,
   "id": "468b35fc",
   "metadata": {},
   "outputs": [
    {
     "name": "stdout",
     "output_type": "stream",
     "text": [
      "[1] \"numeric\"\n"
     ]
    }
   ],
   "source": [
    "# Data type : Numeric\n",
    "    num <-23.5\n",
    "    print(class(num))"
   ]
  },
  {
   "cell_type": "code",
   "execution_count": 5,
   "id": "bda9422a",
   "metadata": {},
   "outputs": [
    {
     "name": "stdout",
     "output_type": "stream",
     "text": [
      "[1] \"integer\"\n"
     ]
    }
   ],
   "source": [
    "# Data type : Integer\n",
    "    num1 <- 2L\n",
    "    print(class(num1))"
   ]
  },
  {
   "cell_type": "code",
   "execution_count": 10,
   "id": "521c269b",
   "metadata": {},
   "outputs": [
    {
     "data": {
      "text/html": [
       "'character'"
      ],
      "text/latex": [
       "'character'"
      ],
      "text/markdown": [
       "'character'"
      ],
      "text/plain": [
       "[1] \"character\""
      ]
     },
     "metadata": {},
     "output_type": "display_data"
    }
   ],
   "source": [
    "# Data type : Character\n",
    "    myString <- \"Santhosh\"\n",
    "    class(myString)"
   ]
  },
  {
   "cell_type": "code",
   "execution_count": null,
   "id": "8d2ff9ba",
   "metadata": {},
   "outputs": [],
   "source": []
  },
  {
   "cell_type": "markdown",
   "id": "44d5f14e",
   "metadata": {},
   "source": [
    "# Vector or List"
   ]
  },
  {
   "cell_type": "code",
   "execution_count": 65,
   "id": "29c33829",
   "metadata": {},
   "outputs": [],
   "source": [
    "# Vectors / list creation\n",
    "\n",
    "    colors <- c('red','green',\"yellow\")"
   ]
  },
  {
   "cell_type": "code",
   "execution_count": 66,
   "id": "9e30cfaf",
   "metadata": {},
   "outputs": [
    {
     "name": "stdout",
     "output_type": "stream",
     "text": [
      "[1] \"green\"\n"
     ]
    }
   ],
   "source": [
    "# get the elements of vector on index wise    \n",
    "    print(colors[2])"
   ]
  },
  {
   "cell_type": "code",
   "execution_count": 67,
   "id": "32fb6ff3",
   "metadata": {},
   "outputs": [
    {
     "data": {
      "text/html": [
       "<style>\n",
       ".list-inline {list-style: none; margin:0; padding: 0}\n",
       ".list-inline>li {display: inline-block}\n",
       ".list-inline>li:not(:last-child)::after {content: \"\\00b7\"; padding: 0 .5ex}\n",
       "</style>\n",
       "<ol class=list-inline><li>'red'</li><li>'green'</li><li>'yellow'</li><li>'black'</li></ol>\n"
      ],
      "text/latex": [
       "\\begin{enumerate*}\n",
       "\\item 'red'\n",
       "\\item 'green'\n",
       "\\item 'yellow'\n",
       "\\item 'black'\n",
       "\\end{enumerate*}\n"
      ],
      "text/markdown": [
       "1. 'red'\n",
       "2. 'green'\n",
       "3. 'yellow'\n",
       "4. 'black'\n",
       "\n",
       "\n"
      ],
      "text/plain": [
       "[1] \"red\"    \"green\"  \"yellow\" \"black\" "
      ]
     },
     "metadata": {},
     "output_type": "display_data"
    }
   ],
   "source": [
    "# Append the values in vector    \n",
    "\n",
    "    colors<- append(colors, 'black')\n",
    "\n",
    "    colors"
   ]
  },
  {
   "cell_type": "code",
   "execution_count": 68,
   "id": "1c9cffe2",
   "metadata": {},
   "outputs": [
    {
     "data": {
      "text/html": [
       "<style>\n",
       ".list-inline {list-style: none; margin:0; padding: 0}\n",
       ".list-inline>li {display: inline-block}\n",
       ".list-inline>li:not(:last-child)::after {content: \"\\00b7\"; padding: 0 .5ex}\n",
       "</style>\n",
       "<ol class=list-inline><li>'red'</li><li>'pink'</li><li>'green'</li><li>'yellow'</li><li>'black'</li></ol>\n"
      ],
      "text/latex": [
       "\\begin{enumerate*}\n",
       "\\item 'red'\n",
       "\\item 'pink'\n",
       "\\item 'green'\n",
       "\\item 'yellow'\n",
       "\\item 'black'\n",
       "\\end{enumerate*}\n"
      ],
      "text/markdown": [
       "1. 'red'\n",
       "2. 'pink'\n",
       "3. 'green'\n",
       "4. 'yellow'\n",
       "5. 'black'\n",
       "\n",
       "\n"
      ],
      "text/plain": [
       "[1] \"red\"    \"pink\"   \"green\"  \"yellow\" \"black\" "
      ]
     },
     "metadata": {},
     "output_type": "display_data"
    }
   ],
   "source": [
    "# Append at specific positions (1st Postion)\n",
    "\n",
    "    colors<- append(colors, 'pink', 1)\n",
    "\n",
    "    colors"
   ]
  },
  {
   "cell_type": "code",
   "execution_count": 69,
   "id": "44e1c2e9",
   "metadata": {},
   "outputs": [
    {
     "data": {
      "text/html": [
       "<style>\n",
       ".list-inline {list-style: none; margin:0; padding: 0}\n",
       ".list-inline>li {display: inline-block}\n",
       ".list-inline>li:not(:last-child)::after {content: \"\\00b7\"; padding: 0 .5ex}\n",
       "</style>\n",
       "<ol class=list-inline><li>'red'</li><li>'pink'</li><li>'yellow'</li><li>'black'</li></ol>\n"
      ],
      "text/latex": [
       "\\begin{enumerate*}\n",
       "\\item 'red'\n",
       "\\item 'pink'\n",
       "\\item 'yellow'\n",
       "\\item 'black'\n",
       "\\end{enumerate*}\n"
      ],
      "text/markdown": [
       "1. 'red'\n",
       "2. 'pink'\n",
       "3. 'yellow'\n",
       "4. 'black'\n",
       "\n",
       "\n"
      ],
      "text/plain": [
       "[1] \"red\"    \"pink\"   \"yellow\" \"black\" "
      ]
     },
     "metadata": {},
     "output_type": "display_data"
    }
   ],
   "source": [
    "    # Remove item from list based on index value\n",
    "\n",
    "    colors[-3]"
   ]
  },
  {
   "cell_type": "code",
   "execution_count": 71,
   "id": "ece0532c",
   "metadata": {},
   "outputs": [
    {
     "data": {
      "text/html": [
       "<style>\n",
       ".list-inline {list-style: none; margin:0; padding: 0}\n",
       ".list-inline>li {display: inline-block}\n",
       ".list-inline>li:not(:last-child)::after {content: \"\\00b7\"; padding: 0 .5ex}\n",
       "</style>\n",
       "<ol class=list-inline><li>'pink'</li><li>'yellow'</li><li>'black'</li></ol>\n"
      ],
      "text/latex": [
       "\\begin{enumerate*}\n",
       "\\item 'pink'\n",
       "\\item 'yellow'\n",
       "\\item 'black'\n",
       "\\end{enumerate*}\n"
      ],
      "text/markdown": [
       "1. 'pink'\n",
       "2. 'yellow'\n",
       "3. 'black'\n",
       "\n",
       "\n"
      ],
      "text/plain": [
       "[1] \"pink\"   \"yellow\" \"black\" "
      ]
     },
     "metadata": {},
     "output_type": "display_data"
    }
   ],
   "source": [
    "   # Remove multiple Items frm list\n",
    "     colors[c(-1,-3)]"
   ]
  },
  {
   "cell_type": "markdown",
   "id": "53e96cc4",
   "metadata": {},
   "source": [
    "## List Comprehension"
   ]
  },
  {
   "cell_type": "code",
   "execution_count": 62,
   "id": "8e0a84ca",
   "metadata": {},
   "outputs": [
    {
     "data": {
      "text/html": [
       "<ol>\n",
       "\t<li><ol>\n",
       "\t<li>3</li>\n",
       "\t<li>8</li>\n",
       "</ol>\n",
       "</li>\n",
       "\t<li><ol>\n",
       "\t<li>9</li>\n",
       "</ol>\n",
       "</li>\n",
       "\t<li><ol>\n",
       "\t<li>5</li>\n",
       "\t<li>10</li>\n",
       "</ol>\n",
       "</li>\n",
       "</ol>\n"
      ],
      "text/latex": [
       "\\begin{enumerate}\n",
       "\\item \\begin{enumerate}\n",
       "\\item 3\n",
       "\\item 8\n",
       "\\end{enumerate}\n",
       "\n",
       "\\item \\begin{enumerate}\n",
       "\\item 9\n",
       "\\end{enumerate}\n",
       "\n",
       "\\item \\begin{enumerate}\n",
       "\\item 5\n",
       "\\item 10\n",
       "\\end{enumerate}\n",
       "\n",
       "\\end{enumerate}\n"
      ],
      "text/markdown": [
       "1. 1. 3\n",
       "2. 8\n",
       "\n",
       "\n",
       "\n",
       "2. 1. 9\n",
       "\n",
       "\n",
       "\n",
       "3. 1. 5\n",
       "2. 10\n",
       "\n",
       "\n",
       "\n",
       "\n",
       "\n"
      ],
      "text/plain": [
       "[[1]]\n",
       "[[1]][[1]]\n",
       "[1] 3\n",
       "\n",
       "[[1]][[2]]\n",
       "[1] 8\n",
       "\n",
       "\n",
       "[[2]]\n",
       "[[2]][[1]]\n",
       "[1] 9\n",
       "\n",
       "\n",
       "[[3]]\n",
       "[[3]][[1]]\n",
       "[1] 5\n",
       "\n",
       "[[3]][[2]]\n",
       "[1] 10\n",
       "\n"
      ]
     },
     "metadata": {},
     "output_type": "display_data"
    }
   ],
   "source": [
    "require(foreach)\n",
    "\n",
    "list_a = c(1, 2, 3)\n",
    "list_b = c(2,7)\n",
    "\n",
    "different_num  <- foreach(a=list_a) %:% foreach(b=list_b) %:% when(a!=b) %do% sum(a,b)\n",
    "\n",
    "different_num"
   ]
  },
  {
   "cell_type": "code",
   "execution_count": 102,
   "id": "8eab8de0",
   "metadata": {},
   "outputs": [
    {
     "data": {
      "text/html": [
       "<ol>\n",
       "\t<li>1</li>\n",
       "\t<li>1.4142135623731</li>\n",
       "\t<li>1.73205080756888</li>\n",
       "\t<li>2</li>\n",
       "\t<li>2.23606797749979</li>\n",
       "</ol>\n"
      ],
      "text/latex": [
       "\\begin{enumerate}\n",
       "\\item 1\n",
       "\\item 1.4142135623731\n",
       "\\item 1.73205080756888\n",
       "\\item 2\n",
       "\\item 2.23606797749979\n",
       "\\end{enumerate}\n"
      ],
      "text/markdown": [
       "1. 1\n",
       "2. 1.4142135623731\n",
       "3. 1.73205080756888\n",
       "4. 2\n",
       "5. 2.23606797749979\n",
       "\n",
       "\n"
      ],
      "text/plain": [
       "[[1]]\n",
       "[1] 1\n",
       "\n",
       "[[2]]\n",
       "[1] 1.414214\n",
       "\n",
       "[[3]]\n",
       "[1] 1.732051\n",
       "\n",
       "[[4]]\n",
       "[1] 2\n",
       "\n",
       "[[5]]\n",
       "[1] 2.236068\n"
      ]
     },
     "metadata": {},
     "output_type": "display_data"
    }
   ],
   "source": [
    "library(foreach)\n",
    "\n",
    "val = c(1,2,3,4,5)\n",
    "\n",
    "foreach(i=val) %do% sqrt(i)"
   ]
  },
  {
   "cell_type": "code",
   "execution_count": 103,
   "id": "d84407ee",
   "metadata": {},
   "outputs": [
    {
     "data": {
      "text/html": [
       "<ol>\n",
       "\t<li>1</li>\n",
       "\t<li>4</li>\n",
       "\t<li>9</li>\n",
       "\t<li>16</li>\n",
       "\t<li>25</li>\n",
       "</ol>\n"
      ],
      "text/latex": [
       "\\begin{enumerate}\n",
       "\\item 1\n",
       "\\item 4\n",
       "\\item 9\n",
       "\\item 16\n",
       "\\item 25\n",
       "\\end{enumerate}\n"
      ],
      "text/markdown": [
       "1. 1\n",
       "2. 4\n",
       "3. 9\n",
       "4. 16\n",
       "5. 25\n",
       "\n",
       "\n"
      ],
      "text/plain": [
       "[[1]]\n",
       "[1] 1\n",
       "\n",
       "[[2]]\n",
       "[1] 4\n",
       "\n",
       "[[3]]\n",
       "[1] 9\n",
       "\n",
       "[[4]]\n",
       "[1] 16\n",
       "\n",
       "[[5]]\n",
       "[1] 25\n"
      ]
     },
     "metadata": {},
     "output_type": "display_data"
    }
   ],
   "source": [
    "val1 = c(1,2,3,4,5)\n",
    "val2 = c(1,2,3,4,5)\n",
    "\n",
    "foreach(i=val1,j=val2) %do% (i*j)"
   ]
  },
  {
   "cell_type": "code",
   "execution_count": 104,
   "id": "ef7f8370",
   "metadata": {},
   "outputs": [
    {
     "data": {
      "text/html": [
       "<ol>\n",
       "\t<li>1</li>\n",
       "\t<li>4</li>\n",
       "\t<li>9</li>\n",
       "\t<li>16</li>\n",
       "\t<li>25</li>\n",
       "</ol>\n"
      ],
      "text/latex": [
       "\\begin{enumerate}\n",
       "\\item 1\n",
       "\\item 4\n",
       "\\item 9\n",
       "\\item 16\n",
       "\\item 25\n",
       "\\end{enumerate}\n"
      ],
      "text/markdown": [
       "1. 1\n",
       "2. 4\n",
       "3. 9\n",
       "4. 16\n",
       "5. 25\n",
       "\n",
       "\n"
      ],
      "text/plain": [
       "[[1]]\n",
       "[1] 1\n",
       "\n",
       "[[2]]\n",
       "[1] 4\n",
       "\n",
       "[[3]]\n",
       "[1] 9\n",
       "\n",
       "[[4]]\n",
       "[1] 16\n",
       "\n",
       "[[5]]\n",
       "[1] 25\n"
      ]
     },
     "metadata": {},
     "output_type": "display_data"
    }
   ],
   "source": [
    "foreach(i=val) %do% (i*i)"
   ]
  },
  {
   "cell_type": "markdown",
   "id": "605420a3",
   "metadata": {},
   "source": [
    "# Matrix"
   ]
  },
  {
   "cell_type": "code",
   "execution_count": 43,
   "id": "766fb1bd",
   "metadata": {},
   "outputs": [
    {
     "data": {
      "text/html": [
       "<table class=\"dataframe\">\n",
       "<caption>A matrix: 3 × 2 of type dbl</caption>\n",
       "<tbody>\n",
       "\t<tr><td>1</td><td>2</td></tr>\n",
       "\t<tr><td>3</td><td>4</td></tr>\n",
       "\t<tr><td>5</td><td>6</td></tr>\n",
       "</tbody>\n",
       "</table>\n"
      ],
      "text/latex": [
       "A matrix: 3 × 2 of type dbl\n",
       "\\begin{tabular}{ll}\n",
       "\t 1 & 2\\\\\n",
       "\t 3 & 4\\\\\n",
       "\t 5 & 6\\\\\n",
       "\\end{tabular}\n"
      ],
      "text/markdown": [
       "\n",
       "A matrix: 3 × 2 of type dbl\n",
       "\n",
       "| 1 | 2 |\n",
       "| 3 | 4 |\n",
       "| 5 | 6 |\n",
       "\n"
      ],
      "text/plain": [
       "     [,1] [,2]\n",
       "[1,] 1    2   \n",
       "[2,] 3    4   \n",
       "[3,] 5    6   "
      ]
     },
     "metadata": {},
     "output_type": "display_data"
    }
   ],
   "source": [
    "# Create Matrix\n",
    "    M = matrix(c(1,2,3,4,5,6),nrow = 3,ncol = 2,byrow = TRUE)\n",
    "    M"
   ]
  },
  {
   "cell_type": "code",
   "execution_count": 39,
   "id": "6d135ce1",
   "metadata": {},
   "outputs": [
    {
     "data": {
      "text/html": [
       "<table class=\"dataframe\">\n",
       "<caption>A matrix: 5 × 2 of type int</caption>\n",
       "<tbody>\n",
       "\t<tr><td>1</td><td> 6</td></tr>\n",
       "\t<tr><td>2</td><td> 7</td></tr>\n",
       "\t<tr><td>3</td><td> 8</td></tr>\n",
       "\t<tr><td>4</td><td> 9</td></tr>\n",
       "\t<tr><td>5</td><td>10</td></tr>\n",
       "</tbody>\n",
       "</table>\n"
      ],
      "text/latex": [
       "A matrix: 5 × 2 of type int\n",
       "\\begin{tabular}{ll}\n",
       "\t 1 &  6\\\\\n",
       "\t 2 &  7\\\\\n",
       "\t 3 &  8\\\\\n",
       "\t 4 &  9\\\\\n",
       "\t 5 & 10\\\\\n",
       "\\end{tabular}\n"
      ],
      "text/markdown": [
       "\n",
       "A matrix: 5 × 2 of type int\n",
       "\n",
       "| 1 |  6 |\n",
       "| 2 |  7 |\n",
       "| 3 |  8 |\n",
       "| 4 |  9 |\n",
       "| 5 | 10 |\n",
       "\n"
      ],
      "text/plain": [
       "     [,1] [,2]\n",
       "[1,] 1     6  \n",
       "[2,] 2     7  \n",
       "[3,] 3     8  \n",
       "[4,] 4     9  \n",
       "[5,] 5    10  "
      ]
     },
     "metadata": {},
     "output_type": "display_data"
    }
   ],
   "source": [
    "    matrix(1:10, ncol = 2)"
   ]
  },
  {
   "cell_type": "code",
   "execution_count": 40,
   "id": "98c15b54",
   "metadata": {},
   "outputs": [
    {
     "data": {
      "text/html": [
       "<table class=\"dataframe\">\n",
       "<caption>A matrix: 3 × 3 of type int</caption>\n",
       "<tbody>\n",
       "\t<tr><td>1</td><td>4</td><td>7</td></tr>\n",
       "\t<tr><td>2</td><td>5</td><td>8</td></tr>\n",
       "\t<tr><td>3</td><td>6</td><td>9</td></tr>\n",
       "</tbody>\n",
       "</table>\n"
      ],
      "text/latex": [
       "A matrix: 3 × 3 of type int\n",
       "\\begin{tabular}{lll}\n",
       "\t 1 & 4 & 7\\\\\n",
       "\t 2 & 5 & 8\\\\\n",
       "\t 3 & 6 & 9\\\\\n",
       "\\end{tabular}\n"
      ],
      "text/markdown": [
       "\n",
       "A matrix: 3 × 3 of type int\n",
       "\n",
       "| 1 | 4 | 7 |\n",
       "| 2 | 5 | 8 |\n",
       "| 3 | 6 | 9 |\n",
       "\n"
      ],
      "text/plain": [
       "     [,1] [,2] [,3]\n",
       "[1,] 1    4    7   \n",
       "[2,] 2    5    8   \n",
       "[3,] 3    6    9   "
      ]
     },
     "metadata": {},
     "output_type": "display_data"
    }
   ],
   "source": [
    "    vector1=1:9\n",
    "    matrix(vector1, nrow = 3)"
   ]
  },
  {
   "cell_type": "code",
   "execution_count": 42,
   "id": "bbe4c07d",
   "metadata": {},
   "outputs": [
    {
     "data": {
      "text/html": [
       "<table class=\"dataframe\">\n",
       "<caption>A matrix: 3 × 3 of type dbl</caption>\n",
       "<tbody>\n",
       "\t<tr><td>0</td><td>0</td><td>0</td></tr>\n",
       "\t<tr><td>0</td><td>0</td><td>0</td></tr>\n",
       "\t<tr><td>0</td><td>0</td><td>0</td></tr>\n",
       "</tbody>\n",
       "</table>\n"
      ],
      "text/latex": [
       "A matrix: 3 × 3 of type dbl\n",
       "\\begin{tabular}{lll}\n",
       "\t 0 & 0 & 0\\\\\n",
       "\t 0 & 0 & 0\\\\\n",
       "\t 0 & 0 & 0\\\\\n",
       "\\end{tabular}\n"
      ],
      "text/markdown": [
       "\n",
       "A matrix: 3 × 3 of type dbl\n",
       "\n",
       "| 0 | 0 | 0 |\n",
       "| 0 | 0 | 0 |\n",
       "| 0 | 0 | 0 |\n",
       "\n"
      ],
      "text/plain": [
       "     [,1] [,2] [,3]\n",
       "[1,] 0    0    0   \n",
       "[2,] 0    0    0   \n",
       "[3,] 0    0    0   "
      ]
     },
     "metadata": {},
     "output_type": "display_data"
    }
   ],
   "source": [
    "#  create a matrix of zeros\n",
    "    zero_matrix <- matrix(rep(0, 9),ncol = 3, nrow = 3)\n",
    "\n",
    "    zero_matrix"
   ]
  },
  {
   "cell_type": "code",
   "execution_count": 44,
   "id": "e0612f8a",
   "metadata": {},
   "outputs": [
    {
     "data": {
      "text/html": [
       "<style>\n",
       ".list-inline {list-style: none; margin:0; padding: 0}\n",
       ".list-inline>li {display: inline-block}\n",
       ".list-inline>li:not(:last-child)::after {content: \"\\00b7\"; padding: 0 .5ex}\n",
       "</style>\n",
       "<ol class=list-inline><li>3</li><li>2</li></ol>\n"
      ],
      "text/latex": [
       "\\begin{enumerate*}\n",
       "\\item 3\n",
       "\\item 2\n",
       "\\end{enumerate*}\n"
      ],
      "text/markdown": [
       "1. 3\n",
       "2. 2\n",
       "\n",
       "\n"
      ],
      "text/plain": [
       "[1] 3 2"
      ]
     },
     "metadata": {},
     "output_type": "display_data"
    }
   ],
   "source": [
    "# Check the dimention of the matrix\n",
    "\n",
    "    dim(M)"
   ]
  },
  {
   "cell_type": "code",
   "execution_count": 1,
   "id": "e49f8a18",
   "metadata": {},
   "outputs": [
    {
     "data": {
      "text/html": [
       "<table class=\"dataframe\">\n",
       "<caption>A matrix: 3 × 3 of type dbl</caption>\n",
       "<tbody>\n",
       "\t<tr><td>1</td><td>4</td><td>7</td></tr>\n",
       "\t<tr><td>2</td><td>5</td><td>8</td></tr>\n",
       "\t<tr><td>3</td><td>6</td><td>9</td></tr>\n",
       "</tbody>\n",
       "</table>\n"
      ],
      "text/latex": [
       "A matrix: 3 × 3 of type dbl\n",
       "\\begin{tabular}{lll}\n",
       "\t 1 & 4 & 7\\\\\n",
       "\t 2 & 5 & 8\\\\\n",
       "\t 3 & 6 & 9\\\\\n",
       "\\end{tabular}\n"
      ],
      "text/markdown": [
       "\n",
       "A matrix: 3 × 3 of type dbl\n",
       "\n",
       "| 1 | 4 | 7 |\n",
       "| 2 | 5 | 8 |\n",
       "| 3 | 6 | 9 |\n",
       "\n"
      ],
      "text/plain": [
       "     [,1] [,2] [,3]\n",
       "[1,] 1    4    7   \n",
       "[2,] 2    5    8   \n",
       "[3,] 3    6    9   "
      ]
     },
     "metadata": {},
     "output_type": "display_data"
    }
   ],
   "source": [
    "    matrix(c(1, 2, 3, 4, 5, 6, 7, 8, 9), nrow = 3)"
   ]
  },
  {
   "cell_type": "code",
   "execution_count": 2,
   "id": "fbe84f9b",
   "metadata": {},
   "outputs": [
    {
     "data": {
      "text/html": [
       "<table class=\"dataframe\">\n",
       "<caption>A matrix: 5 × 2 of type int</caption>\n",
       "<tbody>\n",
       "\t<tr><td>1</td><td> 6</td></tr>\n",
       "\t<tr><td>2</td><td> 7</td></tr>\n",
       "\t<tr><td>3</td><td> 8</td></tr>\n",
       "\t<tr><td>4</td><td> 9</td></tr>\n",
       "\t<tr><td>5</td><td>10</td></tr>\n",
       "</tbody>\n",
       "</table>\n"
      ],
      "text/latex": [
       "A matrix: 5 × 2 of type int\n",
       "\\begin{tabular}{ll}\n",
       "\t 1 &  6\\\\\n",
       "\t 2 &  7\\\\\n",
       "\t 3 &  8\\\\\n",
       "\t 4 &  9\\\\\n",
       "\t 5 & 10\\\\\n",
       "\\end{tabular}\n"
      ],
      "text/markdown": [
       "\n",
       "A matrix: 5 × 2 of type int\n",
       "\n",
       "| 1 |  6 |\n",
       "| 2 |  7 |\n",
       "| 3 |  8 |\n",
       "| 4 |  9 |\n",
       "| 5 | 10 |\n",
       "\n"
      ],
      "text/plain": [
       "     [,1] [,2]\n",
       "[1,] 1     6  \n",
       "[2,] 2     7  \n",
       "[3,] 3     8  \n",
       "[4,] 4     9  \n",
       "[5,] 5    10  "
      ]
     },
     "metadata": {},
     "output_type": "display_data"
    }
   ],
   "source": [
    "    matrix(1:10, ncol = 2)"
   ]
  },
  {
   "cell_type": "code",
   "execution_count": 3,
   "id": "1e81f706",
   "metadata": {},
   "outputs": [
    {
     "data": {
      "text/html": [
       "<table class=\"dataframe\">\n",
       "<caption>A matrix: 3 × 3 of type int</caption>\n",
       "<tbody>\n",
       "\t<tr><td>1</td><td>4</td><td>7</td></tr>\n",
       "\t<tr><td>2</td><td>5</td><td>8</td></tr>\n",
       "\t<tr><td>3</td><td>6</td><td>9</td></tr>\n",
       "</tbody>\n",
       "</table>\n"
      ],
      "text/latex": [
       "A matrix: 3 × 3 of type int\n",
       "\\begin{tabular}{lll}\n",
       "\t 1 & 4 & 7\\\\\n",
       "\t 2 & 5 & 8\\\\\n",
       "\t 3 & 6 & 9\\\\\n",
       "\\end{tabular}\n"
      ],
      "text/markdown": [
       "\n",
       "A matrix: 3 × 3 of type int\n",
       "\n",
       "| 1 | 4 | 7 |\n",
       "| 2 | 5 | 8 |\n",
       "| 3 | 6 | 9 |\n",
       "\n"
      ],
      "text/plain": [
       "     [,1] [,2] [,3]\n",
       "[1,] 1    4    7   \n",
       "[2,] 2    5    8   \n",
       "[3,] 3    6    9   "
      ]
     },
     "metadata": {},
     "output_type": "display_data"
    }
   ],
   "source": [
    "    vector1=1:9\n",
    "    matrix(vector1, nrow = 3)"
   ]
  },
  {
   "cell_type": "code",
   "execution_count": 4,
   "id": "15b78b29",
   "metadata": {},
   "outputs": [
    {
     "data": {
      "text/html": [
       "<table class=\"dataframe\">\n",
       "<caption>A matrix: 3 × 3 of type dbl</caption>\n",
       "<tbody>\n",
       "\t<tr><td>3</td><td>6</td><td> 9</td></tr>\n",
       "\t<tr><td>4</td><td>7</td><td>10</td></tr>\n",
       "\t<tr><td>5</td><td>8</td><td>11</td></tr>\n",
       "</tbody>\n",
       "</table>\n"
      ],
      "text/latex": [
       "A matrix: 3 × 3 of type dbl\n",
       "\\begin{tabular}{lll}\n",
       "\t 3 & 6 &  9\\\\\n",
       "\t 4 & 7 & 10\\\\\n",
       "\t 5 & 8 & 11\\\\\n",
       "\\end{tabular}\n"
      ],
      "text/markdown": [
       "\n",
       "A matrix: 3 × 3 of type dbl\n",
       "\n",
       "| 3 | 6 |  9 |\n",
       "| 4 | 7 | 10 |\n",
       "| 5 | 8 | 11 |\n",
       "\n"
      ],
      "text/plain": [
       "     [,1] [,2] [,3]\n",
       "[1,] 3    6     9  \n",
       "[2,] 4    7    10  \n",
       "[3,] 5    8    11  "
      ]
     },
     "metadata": {},
     "output_type": "display_data"
    }
   ],
   "source": [
    "matrix1 = matrix(vector1, nrow = 3)\n",
    "matrix2=matrix1 + 2\n",
    "matrix2"
   ]
  },
  {
   "cell_type": "code",
   "execution_count": 5,
   "id": "d9214b92",
   "metadata": {},
   "outputs": [
    {
     "data": {
      "text/html": [
       "<table class=\"dataframe\">\n",
       "<caption>A matrix: 3 × 3 of type dbl</caption>\n",
       "<tbody>\n",
       "\t<tr><td>2</td><td>2</td><td>2</td></tr>\n",
       "\t<tr><td>2</td><td>2</td><td>2</td></tr>\n",
       "\t<tr><td>2</td><td>2</td><td>2</td></tr>\n",
       "</tbody>\n",
       "</table>\n"
      ],
      "text/latex": [
       "A matrix: 3 × 3 of type dbl\n",
       "\\begin{tabular}{lll}\n",
       "\t 2 & 2 & 2\\\\\n",
       "\t 2 & 2 & 2\\\\\n",
       "\t 2 & 2 & 2\\\\\n",
       "\\end{tabular}\n"
      ],
      "text/markdown": [
       "\n",
       "A matrix: 3 × 3 of type dbl\n",
       "\n",
       "| 2 | 2 | 2 |\n",
       "| 2 | 2 | 2 |\n",
       "| 2 | 2 | 2 |\n",
       "\n"
      ],
      "text/plain": [
       "     [,1] [,2] [,3]\n",
       "[1,] 2    2    2   \n",
       "[2,] 2    2    2   \n",
       "[3,] 2    2    2   "
      ]
     },
     "metadata": {},
     "output_type": "display_data"
    }
   ],
   "source": [
    "matrix2 - matrix1 # Subtraction of two matrices"
   ]
  },
  {
   "cell_type": "code",
   "execution_count": 6,
   "id": "241e53e0",
   "metadata": {},
   "outputs": [
    {
     "data": {
      "text/html": [
       "<table class=\"dataframe\">\n",
       "<caption>A matrix: 3 × 3 of type dbl</caption>\n",
       "<tbody>\n",
       "\t<tr><td> 3</td><td>24</td><td>63</td></tr>\n",
       "\t<tr><td> 8</td><td>35</td><td>80</td></tr>\n",
       "\t<tr><td>15</td><td>48</td><td>99</td></tr>\n",
       "</tbody>\n",
       "</table>\n"
      ],
      "text/latex": [
       "A matrix: 3 × 3 of type dbl\n",
       "\\begin{tabular}{lll}\n",
       "\t  3 & 24 & 63\\\\\n",
       "\t  8 & 35 & 80\\\\\n",
       "\t 15 & 48 & 99\\\\\n",
       "\\end{tabular}\n"
      ],
      "text/markdown": [
       "\n",
       "A matrix: 3 × 3 of type dbl\n",
       "\n",
       "|  3 | 24 | 63 |\n",
       "|  8 | 35 | 80 |\n",
       "| 15 | 48 | 99 |\n",
       "\n"
      ],
      "text/plain": [
       "     [,1] [,2] [,3]\n",
       "[1,]  3   24   63  \n",
       "[2,]  8   35   80  \n",
       "[3,] 15   48   99  "
      ]
     },
     "metadata": {},
     "output_type": "display_data"
    }
   ],
   "source": [
    "matrix1 * matrix2"
   ]
  },
  {
   "cell_type": "code",
   "execution_count": 7,
   "id": "9cec8c8b",
   "metadata": {},
   "outputs": [
    {
     "data": {
      "text/html": [
       "<table class=\"dataframe\">\n",
       "<caption>A matrix: 3 × 3 of type int</caption>\n",
       "<tbody>\n",
       "\t<tr><td>1</td><td>2</td><td>3</td></tr>\n",
       "\t<tr><td>4</td><td>5</td><td>6</td></tr>\n",
       "\t<tr><td>7</td><td>8</td><td>9</td></tr>\n",
       "</tbody>\n",
       "</table>\n"
      ],
      "text/latex": [
       "A matrix: 3 × 3 of type int\n",
       "\\begin{tabular}{lll}\n",
       "\t 1 & 2 & 3\\\\\n",
       "\t 4 & 5 & 6\\\\\n",
       "\t 7 & 8 & 9\\\\\n",
       "\\end{tabular}\n"
      ],
      "text/markdown": [
       "\n",
       "A matrix: 3 × 3 of type int\n",
       "\n",
       "| 1 | 2 | 3 |\n",
       "| 4 | 5 | 6 |\n",
       "| 7 | 8 | 9 |\n",
       "\n"
      ],
      "text/plain": [
       "     [,1] [,2] [,3]\n",
       "[1,] 1    2    3   \n",
       "[2,] 4    5    6   \n",
       "[3,] 7    8    9   "
      ]
     },
     "metadata": {},
     "output_type": "display_data"
    }
   ],
   "source": [
    "t(matrix1)"
   ]
  },
  {
   "cell_type": "code",
   "execution_count": 8,
   "id": "5fbce619",
   "metadata": {},
   "outputs": [
    {
     "data": {
      "text/html": [
       "<table class=\"dataframe\">\n",
       "<caption>A matrix: 6 × 3 of type dbl</caption>\n",
       "<tbody>\n",
       "\t<tr><td>1</td><td>4</td><td> 7</td></tr>\n",
       "\t<tr><td>2</td><td>5</td><td> 8</td></tr>\n",
       "\t<tr><td>3</td><td>6</td><td> 9</td></tr>\n",
       "\t<tr><td>3</td><td>6</td><td> 9</td></tr>\n",
       "\t<tr><td>4</td><td>7</td><td>10</td></tr>\n",
       "\t<tr><td>5</td><td>8</td><td>11</td></tr>\n",
       "</tbody>\n",
       "</table>\n"
      ],
      "text/latex": [
       "A matrix: 6 × 3 of type dbl\n",
       "\\begin{tabular}{lll}\n",
       "\t 1 & 4 &  7\\\\\n",
       "\t 2 & 5 &  8\\\\\n",
       "\t 3 & 6 &  9\\\\\n",
       "\t 3 & 6 &  9\\\\\n",
       "\t 4 & 7 & 10\\\\\n",
       "\t 5 & 8 & 11\\\\\n",
       "\\end{tabular}\n"
      ],
      "text/markdown": [
       "\n",
       "A matrix: 6 × 3 of type dbl\n",
       "\n",
       "| 1 | 4 |  7 |\n",
       "| 2 | 5 |  8 |\n",
       "| 3 | 6 |  9 |\n",
       "| 3 | 6 |  9 |\n",
       "| 4 | 7 | 10 |\n",
       "| 5 | 8 | 11 |\n",
       "\n"
      ],
      "text/plain": [
       "     [,1] [,2] [,3]\n",
       "[1,] 1    4     7  \n",
       "[2,] 2    5     8  \n",
       "[3,] 3    6     9  \n",
       "[4,] 3    6     9  \n",
       "[5,] 4    7    10  \n",
       "[6,] 5    8    11  "
      ]
     },
     "metadata": {},
     "output_type": "display_data"
    }
   ],
   "source": [
    "rbind(matrix1,matrix2)"
   ]
  },
  {
   "cell_type": "code",
   "execution_count": 9,
   "id": "d3491e5b",
   "metadata": {},
   "outputs": [
    {
     "data": {
      "text/html": [
       "<table class=\"dataframe\">\n",
       "<caption>A matrix: 3 × 6 of type dbl</caption>\n",
       "<tbody>\n",
       "\t<tr><td>1</td><td>4</td><td>7</td><td>3</td><td>6</td><td> 9</td></tr>\n",
       "\t<tr><td>2</td><td>5</td><td>8</td><td>4</td><td>7</td><td>10</td></tr>\n",
       "\t<tr><td>3</td><td>6</td><td>9</td><td>5</td><td>8</td><td>11</td></tr>\n",
       "</tbody>\n",
       "</table>\n"
      ],
      "text/latex": [
       "A matrix: 3 × 6 of type dbl\n",
       "\\begin{tabular}{llllll}\n",
       "\t 1 & 4 & 7 & 3 & 6 &  9\\\\\n",
       "\t 2 & 5 & 8 & 4 & 7 & 10\\\\\n",
       "\t 3 & 6 & 9 & 5 & 8 & 11\\\\\n",
       "\\end{tabular}\n"
      ],
      "text/markdown": [
       "\n",
       "A matrix: 3 × 6 of type dbl\n",
       "\n",
       "| 1 | 4 | 7 | 3 | 6 |  9 |\n",
       "| 2 | 5 | 8 | 4 | 7 | 10 |\n",
       "| 3 | 6 | 9 | 5 | 8 | 11 |\n",
       "\n"
      ],
      "text/plain": [
       "     [,1] [,2] [,3] [,4] [,5] [,6]\n",
       "[1,] 1    4    7    3    6     9  \n",
       "[2,] 2    5    8    4    7    10  \n",
       "[3,] 3    6    9    5    8    11  "
      ]
     },
     "metadata": {},
     "output_type": "display_data"
    }
   ],
   "source": [
    "cbind(matrix1,matrix2)"
   ]
  },
  {
   "cell_type": "markdown",
   "id": "e7a08795",
   "metadata": {},
   "source": [
    "# Factors"
   ]
  },
  {
   "cell_type": "code",
   "execution_count": null,
   "id": "9c07c372",
   "metadata": {},
   "outputs": [],
   "source": [
    "# It stores the vector along with the distinct values of the elements in the vector as labels."
   ]
  },
  {
   "cell_type": "code",
   "execution_count": 53,
   "id": "7094465e",
   "metadata": {},
   "outputs": [
    {
     "data": {
      "text/html": [
       "<style>\n",
       ".list-inline {list-style: none; margin:0; padding: 0}\n",
       ".list-inline>li {display: inline-block}\n",
       ".list-inline>li:not(:last-child)::after {content: \"\\00b7\"; padding: 0 .5ex}\n",
       "</style>\n",
       "<ol class=list-inline><li>'green'</li><li>'red'</li><li>'yellow'</li></ol>\n"
      ],
      "text/latex": [
       "\\begin{enumerate*}\n",
       "\\item 'green'\n",
       "\\item 'red'\n",
       "\\item 'yellow'\n",
       "\\end{enumerate*}\n"
      ],
      "text/markdown": [
       "1. 'green'\n",
       "2. 'red'\n",
       "3. 'yellow'\n",
       "\n",
       "\n"
      ],
      "text/plain": [
       "[1] \"green\"  \"red\"    \"yellow\""
      ]
     },
     "metadata": {},
     "output_type": "display_data"
    }
   ],
   "source": [
    "apple_colors <- c('green','green','yellow','red','red','red','green')\n",
    "\n",
    "factor_apple <- factor(apple_colors)\n",
    "\n",
    "levels(factor_apple)"
   ]
  },
  {
   "cell_type": "code",
   "execution_count": 54,
   "id": "c0b70d2c",
   "metadata": {},
   "outputs": [
    {
     "name": "stdout",
     "output_type": "stream",
     "text": [
      "[1] 3\n"
     ]
    }
   ],
   "source": [
    "print(nlevels(factor_apple))"
   ]
  },
  {
   "cell_type": "markdown",
   "id": "bf30ae3f",
   "metadata": {},
   "source": [
    "# Lists"
   ]
  },
  {
   "cell_type": "code",
   "execution_count": 10,
   "id": "abe4e6f7",
   "metadata": {},
   "outputs": [],
   "source": [
    "# While vectors and matrices/arrays can hold only data of a single type, while lists and data frames can combine data of \n",
    "# different types."
   ]
  },
  {
   "cell_type": "code",
   "execution_count": 11,
   "id": "a5aa7e4c",
   "metadata": {},
   "outputs": [
    {
     "data": {
      "text/html": [
       "<ol>\n",
       "\t<li>1</li>\n",
       "\t<li>2</li>\n",
       "\t<li>5.6</li>\n",
       "\t<li>8</li>\n",
       "\t<li>4</li>\n",
       "</ol>\n"
      ],
      "text/latex": [
       "\\begin{enumerate}\n",
       "\\item 1\n",
       "\\item 2\n",
       "\\item 5.6\n",
       "\\item 8\n",
       "\\item 4\n",
       "\\end{enumerate}\n"
      ],
      "text/markdown": [
       "1. 1\n",
       "2. 2\n",
       "3. 5.6\n",
       "4. 8\n",
       "5. 4\n",
       "\n",
       "\n"
      ],
      "text/plain": [
       "[[1]]\n",
       "[1] 1\n",
       "\n",
       "[[2]]\n",
       "[1] 2\n",
       "\n",
       "[[3]]\n",
       "[1] 5.6\n",
       "\n",
       "[[4]]\n",
       "[1] 8\n",
       "\n",
       "[[5]]\n",
       "[1] 4\n"
      ]
     },
     "metadata": {},
     "output_type": "display_data"
    }
   ],
   "source": [
    "x<-list(1,2,5.6,8,4)\n",
    "x"
   ]
  },
  {
   "cell_type": "code",
   "execution_count": 12,
   "id": "0da52aeb",
   "metadata": {},
   "outputs": [
    {
     "data": {
      "text/html": [
       "<ol>\n",
       "\t<li><style>\n",
       ".list-inline {list-style: none; margin:0; padding: 0}\n",
       ".list-inline>li {display: inline-block}\n",
       ".list-inline>li:not(:last-child)::after {content: \"\\00b7\"; padding: 0 .5ex}\n",
       "</style>\n",
       "<ol class=list-inline><li>3</li><li>4</li><li>5</li><li>6</li><li>7</li><li>8</li><li>9</li><li>10</li></ol>\n",
       "</li>\n",
       "</ol>\n"
      ],
      "text/latex": [
       "\\begin{enumerate}\n",
       "\\item \\begin{enumerate*}\n",
       "\\item 3\n",
       "\\item 4\n",
       "\\item 5\n",
       "\\item 6\n",
       "\\item 7\n",
       "\\item 8\n",
       "\\item 9\n",
       "\\item 10\n",
       "\\end{enumerate*}\n",
       "\n",
       "\\end{enumerate}\n"
      ],
      "text/markdown": [
       "1. 1. 3\n",
       "2. 4\n",
       "3. 5\n",
       "4. 6\n",
       "5. 7\n",
       "6. 8\n",
       "7. 9\n",
       "8. 10\n",
       "\n",
       "\n",
       "\n",
       "\n",
       "\n"
      ],
      "text/plain": [
       "[[1]]\n",
       "[1]  3  4  5  6  7  8  9 10\n"
      ]
     },
     "metadata": {},
     "output_type": "display_data"
    }
   ],
   "source": [
    "y=list(3:10)\n",
    "y"
   ]
  },
  {
   "cell_type": "code",
   "execution_count": 13,
   "id": "d61e76a3",
   "metadata": {},
   "outputs": [
    {
     "data": {
      "text/html": [
       "<ol>\n",
       "\t<li>'Apple'</li>\n",
       "\t<li>'Orange'</li>\n",
       "\t<li>'Grapes'</li>\n",
       "\t<li>'Jackfruit'</li>\n",
       "</ol>\n"
      ],
      "text/latex": [
       "\\begin{enumerate}\n",
       "\\item 'Apple'\n",
       "\\item 'Orange'\n",
       "\\item 'Grapes'\n",
       "\\item 'Jackfruit'\n",
       "\\end{enumerate}\n"
      ],
      "text/markdown": [
       "1. 'Apple'\n",
       "2. 'Orange'\n",
       "3. 'Grapes'\n",
       "4. 'Jackfruit'\n",
       "\n",
       "\n"
      ],
      "text/plain": [
       "[[1]]\n",
       "[1] \"Apple\"\n",
       "\n",
       "[[2]]\n",
       "[1] \"Orange\"\n",
       "\n",
       "[[3]]\n",
       "[1] \"Grapes\"\n",
       "\n",
       "[[4]]\n",
       "[1] \"Jackfruit\"\n"
      ]
     },
     "metadata": {},
     "output_type": "display_data"
    }
   ],
   "source": [
    "z=list(\"Apple\",\"Orange\",\"Grapes\",\"Jackfruit\")\n",
    "z"
   ]
  },
  {
   "cell_type": "code",
   "execution_count": 14,
   "id": "7f3a625d",
   "metadata": {},
   "outputs": [
    {
     "data": {
      "text/html": [
       "<ol>\n",
       "\t<li><style>\n",
       ".list-inline {list-style: none; margin:0; padding: 0}\n",
       ".list-inline>li {display: inline-block}\n",
       ".list-inline>li:not(:last-child)::after {content: \"\\00b7\"; padding: 0 .5ex}\n",
       "</style>\n",
       "<ol class=list-inline><li>1</li><li>2</li><li>3</li><li>4</li><li>5</li></ol>\n",
       "</li>\n",
       "\t<li>TRUE</li>\n",
       "\t<li>'Fruits'</li>\n",
       "\t<li><ol>\n",
       "\t<li><style>\n",
       ".list-inline {list-style: none; margin:0; padding: 0}\n",
       ".list-inline>li {display: inline-block}\n",
       ".list-inline>li:not(:last-child)::after {content: \"\\00b7\"; padding: 0 .5ex}\n",
       "</style>\n",
       "<ol class=list-inline><li>1</li><li>2</li><li>3</li></ol>\n",
       "</li>\n",
       "\t<li>5</li>\n",
       "</ol>\n",
       "</li>\n",
       "</ol>\n"
      ],
      "text/latex": [
       "\\begin{enumerate}\n",
       "\\item \\begin{enumerate*}\n",
       "\\item 1\n",
       "\\item 2\n",
       "\\item 3\n",
       "\\item 4\n",
       "\\item 5\n",
       "\\end{enumerate*}\n",
       "\n",
       "\\item TRUE\n",
       "\\item 'Fruits'\n",
       "\\item \\begin{enumerate}\n",
       "\\item \\begin{enumerate*}\n",
       "\\item 1\n",
       "\\item 2\n",
       "\\item 3\n",
       "\\end{enumerate*}\n",
       "\n",
       "\\item 5\n",
       "\\end{enumerate}\n",
       "\n",
       "\\end{enumerate}\n"
      ],
      "text/markdown": [
       "1. 1. 1\n",
       "2. 2\n",
       "3. 3\n",
       "4. 4\n",
       "5. 5\n",
       "\n",
       "\n",
       "\n",
       "2. TRUE\n",
       "3. 'Fruits'\n",
       "4. 1. 1. 1\n",
       "2. 2\n",
       "3. 3\n",
       "\n",
       "\n",
       "\n",
       "2. 5\n",
       "\n",
       "\n",
       "\n",
       "\n",
       "\n"
      ],
      "text/plain": [
       "[[1]]\n",
       "[1] 1 2 3 4 5\n",
       "\n",
       "[[2]]\n",
       "[1] TRUE\n",
       "\n",
       "[[3]]\n",
       "[1] \"Fruits\"\n",
       "\n",
       "[[4]]\n",
       "[[4]][[1]]\n",
       "[1] 1 2 3\n",
       "\n",
       "[[4]][[2]]\n",
       "[1] 5\n",
       "\n"
      ]
     },
     "metadata": {},
     "output_type": "display_data"
    }
   ],
   "source": [
    "x <- list(1:5, TRUE, \"Fruits\", list(1:3, 5))\n",
    "x"
   ]
  },
  {
   "cell_type": "code",
   "execution_count": 16,
   "id": "b2059bfa",
   "metadata": {},
   "outputs": [
    {
     "data": {
      "text/html": [
       "TRUE"
      ],
      "text/latex": [
       "TRUE"
      ],
      "text/markdown": [
       "TRUE"
      ],
      "text/plain": [
       "[1] TRUE"
      ]
     },
     "metadata": {},
     "output_type": "display_data"
    }
   ],
   "source": [
    "# Here x has 4 elements: a numeric vector, a logical, a string and another list. \n",
    "# We can select an entry of x with double square brackets:\n",
    "\n",
    "x[[2]]"
   ]
  },
  {
   "cell_type": "code",
   "execution_count": 17,
   "id": "eba4ca2c",
   "metadata": {},
   "outputs": [
    {
     "data": {
      "text/html": [
       "<ol>\n",
       "\t<li><style>\n",
       ".list-inline {list-style: none; margin:0; padding: 0}\n",
       ".list-inline>li {display: inline-block}\n",
       ".list-inline>li:not(:last-child)::after {content: \"\\00b7\"; padding: 0 .5ex}\n",
       "</style>\n",
       "<ol class=list-inline><li>1</li><li>2</li><li>3</li><li>4</li><li>5</li></ol>\n",
       "</li>\n",
       "\t<li><ol>\n",
       "\t<li><style>\n",
       ".list-inline {list-style: none; margin:0; padding: 0}\n",
       ".list-inline>li {display: inline-block}\n",
       ".list-inline>li:not(:last-child)::after {content: \"\\00b7\"; padding: 0 .5ex}\n",
       "</style>\n",
       "<ol class=list-inline><li>1</li><li>2</li><li>3</li></ol>\n",
       "</li>\n",
       "\t<li>5</li>\n",
       "</ol>\n",
       "</li>\n",
       "</ol>\n"
      ],
      "text/latex": [
       "\\begin{enumerate}\n",
       "\\item \\begin{enumerate*}\n",
       "\\item 1\n",
       "\\item 2\n",
       "\\item 3\n",
       "\\item 4\n",
       "\\item 5\n",
       "\\end{enumerate*}\n",
       "\n",
       "\\item \\begin{enumerate}\n",
       "\\item \\begin{enumerate*}\n",
       "\\item 1\n",
       "\\item 2\n",
       "\\item 3\n",
       "\\end{enumerate*}\n",
       "\n",
       "\\item 5\n",
       "\\end{enumerate}\n",
       "\n",
       "\\end{enumerate}\n"
      ],
      "text/markdown": [
       "1. 1. 1\n",
       "2. 2\n",
       "3. 3\n",
       "4. 4\n",
       "5. 5\n",
       "\n",
       "\n",
       "\n",
       "2. 1. 1. 1\n",
       "2. 2\n",
       "3. 3\n",
       "\n",
       "\n",
       "\n",
       "2. 5\n",
       "\n",
       "\n",
       "\n",
       "\n",
       "\n"
      ],
      "text/plain": [
       "[[1]]\n",
       "[1] 1 2 3 4 5\n",
       "\n",
       "[[2]]\n",
       "[[2]][[1]]\n",
       "[1] 1 2 3\n",
       "\n",
       "[[2]][[2]]\n",
       "[1] 5\n",
       "\n"
      ]
     },
     "metadata": {},
     "output_type": "display_data"
    }
   ],
   "source": [
    "x[c(1,4)]"
   ]
  },
  {
   "cell_type": "code",
   "execution_count": 18,
   "id": "d3e4de0e",
   "metadata": {},
   "outputs": [
    {
     "data": {
      "text/html": [
       "<dl>\n",
       "\t<dt>$name</dt>\n",
       "\t\t<dd>'Introduction to AI and Data Science'</dd>\n",
       "\t<dt>$level</dt>\n",
       "\t\t<dd><style>\n",
       ".list-inline {list-style: none; margin:0; padding: 0}\n",
       ".list-inline>li {display: inline-block}\n",
       ".list-inline>li:not(:last-child)::after {content: \"\\00b7\"; padding: 0 .5ex}\n",
       "</style>\n",
       "<ol class=list-inline><li>'masters'</li><li>'PhD'</li></ol>\n",
       "</dd>\n",
       "\t<dt>$date</dt>\n",
       "\t\t<dd><dl>\n",
       "\t<dt>$from</dt>\n",
       "\t\t<dd>'August 1'</dd>\n",
       "\t<dt>$to</dt>\n",
       "\t\t<dd>'December 31'</dd>\n",
       "</dl>\n",
       "</dd>\n",
       "\t<dt>$maxnumber</dt>\n",
       "\t\t<dd>25</dd>\n",
       "</dl>\n"
      ],
      "text/latex": [
       "\\begin{description}\n",
       "\\item[\\$name] 'Introduction to AI and Data Science'\n",
       "\\item[\\$level] \\begin{enumerate*}\n",
       "\\item 'masters'\n",
       "\\item 'PhD'\n",
       "\\end{enumerate*}\n",
       "\n",
       "\\item[\\$date] \\begin{description}\n",
       "\\item[\\$from] 'August 1'\n",
       "\\item[\\$to] 'December 31'\n",
       "\\end{description}\n",
       "\n",
       "\\item[\\$maxnumber] 25\n",
       "\\end{description}\n"
      ],
      "text/markdown": [
       "$name\n",
       ":   'Introduction to AI and Data Science'\n",
       "$level\n",
       ":   1. 'masters'\n",
       "2. 'PhD'\n",
       "\n",
       "\n",
       "\n",
       "$date\n",
       ":   $from\n",
       ":   'August 1'\n",
       "$to\n",
       ":   'December 31'\n",
       "\n",
       "\n",
       "\n",
       "$maxnumber\n",
       ":   25\n",
       "\n",
       "\n"
      ],
      "text/plain": [
       "$name\n",
       "[1] \"Introduction to AI and Data Science\"\n",
       "\n",
       "$level\n",
       "[1] \"masters\" \"PhD\"    \n",
       "\n",
       "$date\n",
       "$date$from\n",
       "[1] \"August 1\"\n",
       "\n",
       "$date$to\n",
       "[1] \"December 31\"\n",
       "\n",
       "\n",
       "$maxnumber\n",
       "[1] 25\n"
      ]
     },
     "metadata": {},
     "output_type": "display_data"
    }
   ],
   "source": [
    "course <- list(name=\"Introduction to AI and Data Science\",level=c(\"masters\",\"PhD\"),\n",
    "date=list(from=\"August 1\",to=\"December 31\"),maxnumber=25)\n",
    "course"
   ]
  },
  {
   "cell_type": "code",
   "execution_count": 19,
   "id": "fbba707b",
   "metadata": {},
   "outputs": [
    {
     "data": {
      "text/html": [
       "<style>\n",
       ".list-inline {list-style: none; margin:0; padding: 0}\n",
       ".list-inline>li {display: inline-block}\n",
       ".list-inline>li:not(:last-child)::after {content: \"\\00b7\"; padding: 0 .5ex}\n",
       "</style>\n",
       "<ol class=list-inline><li>'name'</li><li>'level'</li><li>'date'</li><li>'maxnumber'</li></ol>\n"
      ],
      "text/latex": [
       "\\begin{enumerate*}\n",
       "\\item 'name'\n",
       "\\item 'level'\n",
       "\\item 'date'\n",
       "\\item 'maxnumber'\n",
       "\\end{enumerate*}\n"
      ],
      "text/markdown": [
       "1. 'name'\n",
       "2. 'level'\n",
       "3. 'date'\n",
       "4. 'maxnumber'\n",
       "\n",
       "\n"
      ],
      "text/plain": [
       "[1] \"name\"      \"level\"     \"date\"      \"maxnumber\""
      ]
     },
     "metadata": {},
     "output_type": "display_data"
    }
   ],
   "source": [
    "names(course)"
   ]
  },
  {
   "cell_type": "code",
   "execution_count": 20,
   "id": "78cf6497",
   "metadata": {},
   "outputs": [
    {
     "data": {
      "text/html": [
       "<dl>\n",
       "\t<dt>$name</dt>\n",
       "\t\t<dd>'Introduction to AI and Data Science'</dd>\n",
       "\t<dt>$level</dt>\n",
       "\t\t<dd><style>\n",
       ".list-inline {list-style: none; margin:0; padding: 0}\n",
       ".list-inline>li {display: inline-block}\n",
       ".list-inline>li:not(:last-child)::after {content: \"\\00b7\"; padding: 0 .5ex}\n",
       "</style>\n",
       "<ol class=list-inline><li>'masters'</li><li>'PhD'</li></ol>\n",
       "</dd>\n",
       "\t<dt>$date</dt>\n",
       "\t\t<dd><dl>\n",
       "\t<dt>$from</dt>\n",
       "\t\t<dd>'August 1'</dd>\n",
       "\t<dt>$to</dt>\n",
       "\t\t<dd>'December 31'</dd>\n",
       "</dl>\n",
       "</dd>\n",
       "\t<dt>$maxnumber</dt>\n",
       "\t\t<dd>25</dd>\n",
       "\t<dt>$No_of_Hours</dt>\n",
       "\t\t<dd>45</dd>\n",
       "</dl>\n"
      ],
      "text/latex": [
       "\\begin{description}\n",
       "\\item[\\$name] 'Introduction to AI and Data Science'\n",
       "\\item[\\$level] \\begin{enumerate*}\n",
       "\\item 'masters'\n",
       "\\item 'PhD'\n",
       "\\end{enumerate*}\n",
       "\n",
       "\\item[\\$date] \\begin{description}\n",
       "\\item[\\$from] 'August 1'\n",
       "\\item[\\$to] 'December 31'\n",
       "\\end{description}\n",
       "\n",
       "\\item[\\$maxnumber] 25\n",
       "\\item[\\$No\\_of\\_Hours] 45\n",
       "\\end{description}\n"
      ],
      "text/markdown": [
       "$name\n",
       ":   'Introduction to AI and Data Science'\n",
       "$level\n",
       ":   1. 'masters'\n",
       "2. 'PhD'\n",
       "\n",
       "\n",
       "\n",
       "$date\n",
       ":   $from\n",
       ":   'August 1'\n",
       "$to\n",
       ":   'December 31'\n",
       "\n",
       "\n",
       "\n",
       "$maxnumber\n",
       ":   25\n",
       "$No_of_Hours\n",
       ":   45\n",
       "\n",
       "\n"
      ],
      "text/plain": [
       "$name\n",
       "[1] \"Introduction to AI and Data Science\"\n",
       "\n",
       "$level\n",
       "[1] \"masters\" \"PhD\"    \n",
       "\n",
       "$date\n",
       "$date$from\n",
       "[1] \"August 1\"\n",
       "\n",
       "$date$to\n",
       "[1] \"December 31\"\n",
       "\n",
       "\n",
       "$maxnumber\n",
       "[1] 25\n",
       "\n",
       "$No_of_Hours\n",
       "[1] 45\n"
      ]
     },
     "metadata": {},
     "output_type": "display_data"
    }
   ],
   "source": [
    "course$No_of_Hours <-45 \n",
    "course"
   ]
  },
  {
   "cell_type": "code",
   "execution_count": 21,
   "id": "839f613e",
   "metadata": {},
   "outputs": [
    {
     "data": {
      "text/html": [
       "<dl>\n",
       "\t<dt>$name</dt>\n",
       "\t\t<dd>'Introduction to AI and Data Science'</dd>\n",
       "\t<dt>$date</dt>\n",
       "\t\t<dd><dl>\n",
       "\t<dt>$from</dt>\n",
       "\t\t<dd>'August 1'</dd>\n",
       "\t<dt>$to</dt>\n",
       "\t\t<dd>'December 31'</dd>\n",
       "</dl>\n",
       "</dd>\n",
       "\t<dt>$maxnumber</dt>\n",
       "\t\t<dd>25</dd>\n",
       "\t<dt>$No_of_Hours</dt>\n",
       "\t\t<dd>45</dd>\n",
       "</dl>\n"
      ],
      "text/latex": [
       "\\begin{description}\n",
       "\\item[\\$name] 'Introduction to AI and Data Science'\n",
       "\\item[\\$date] \\begin{description}\n",
       "\\item[\\$from] 'August 1'\n",
       "\\item[\\$to] 'December 31'\n",
       "\\end{description}\n",
       "\n",
       "\\item[\\$maxnumber] 25\n",
       "\\item[\\$No\\_of\\_Hours] 45\n",
       "\\end{description}\n"
      ],
      "text/markdown": [
       "$name\n",
       ":   'Introduction to AI and Data Science'\n",
       "$date\n",
       ":   $from\n",
       ":   'August 1'\n",
       "$to\n",
       ":   'December 31'\n",
       "\n",
       "\n",
       "\n",
       "$maxnumber\n",
       ":   25\n",
       "$No_of_Hours\n",
       ":   45\n",
       "\n",
       "\n"
      ],
      "text/plain": [
       "$name\n",
       "[1] \"Introduction to AI and Data Science\"\n",
       "\n",
       "$date\n",
       "$date$from\n",
       "[1] \"August 1\"\n",
       "\n",
       "$date$to\n",
       "[1] \"December 31\"\n",
       "\n",
       "\n",
       "$maxnumber\n",
       "[1] 25\n",
       "\n",
       "$No_of_Hours\n",
       "[1] 45\n"
      ]
     },
     "metadata": {},
     "output_type": "display_data"
    }
   ],
   "source": [
    "course$level<- NULL\n",
    "course"
   ]
  },
  {
   "cell_type": "code",
   "execution_count": null,
   "id": "7179c973",
   "metadata": {},
   "outputs": [],
   "source": [
    "# The unlist() function is used to convert a list to vector in R. Th\n",
    "# The unlist() function takes the list as an argument and returns the Vector."
   ]
  },
  {
   "cell_type": "code",
   "execution_count": 22,
   "id": "e82baed3",
   "metadata": {},
   "outputs": [
    {
     "data": {
      "text/html": [
       "<style>\n",
       ".dl-inline {width: auto; margin:0; padding: 0}\n",
       ".dl-inline>dt, .dl-inline>dd {float: none; width: auto; display: inline-block}\n",
       ".dl-inline>dt::after {content: \":\\0020\"; padding-right: .5ex}\n",
       ".dl-inline>dt:not(:first-of-type) {padding-left: .5ex}\n",
       "</style><dl class=dl-inline><dt>name</dt><dd>'Introduction to AI and Data Science'</dd><dt>date.from</dt><dd>'August 1'</dd><dt>date.to</dt><dd>'December 31'</dd><dt>maxnumber</dt><dd>'25'</dd><dt>No_of_Hours</dt><dd>'45'</dd></dl>\n"
      ],
      "text/latex": [
       "\\begin{description*}\n",
       "\\item[name] 'Introduction to AI and Data Science'\n",
       "\\item[date.from] 'August 1'\n",
       "\\item[date.to] 'December 31'\n",
       "\\item[maxnumber] '25'\n",
       "\\item[No\\textbackslash{}\\_of\\textbackslash{}\\_Hours] '45'\n",
       "\\end{description*}\n"
      ],
      "text/markdown": [
       "name\n",
       ":   'Introduction to AI and Data Science'date.from\n",
       ":   'August 1'date.to\n",
       ":   'December 31'maxnumber\n",
       ":   '25'No_of_Hours\n",
       ":   '45'\n",
       "\n"
      ],
      "text/plain": [
       "                                 name                             date.from \n",
       "\"Introduction to AI and Data Science\"                            \"August 1\" \n",
       "                              date.to                             maxnumber \n",
       "                        \"December 31\"                                  \"25\" \n",
       "                          No_of_Hours \n",
       "                                 \"45\" "
      ]
     },
     "metadata": {},
     "output_type": "display_data"
    }
   ],
   "source": [
    "course1<-unlist(course)\n",
    "course1"
   ]
  },
  {
   "cell_type": "code",
   "execution_count": 23,
   "id": "6d0f7651",
   "metadata": {},
   "outputs": [
    {
     "data": {
      "text/html": [
       "<style>\n",
       ".list-inline {list-style: none; margin:0; padding: 0}\n",
       ".list-inline>li {display: inline-block}\n",
       ".list-inline>li:not(:last-child)::after {content: \"\\00b7\"; padding: 0 .5ex}\n",
       "</style>\n",
       "<ol class=list-inline><li>1</li><li>2</li><li>3</li><li>4</li><li>5</li><li>6</li><li>7</li><li>14</li><li>15</li><li>16</li><li>17</li><li>18</li><li>19</li><li>20</li><li>1</li><li>2</li><li>3</li><li>4</li><li>5</li><li>6</li><li>7</li><li>14</li><li>15</li><li>16</li><li>17</li><li>18</li><li>19</li><li>20</li><li>1</li><li>2</li><li>3</li><li>4</li><li>5</li><li>6</li><li>7</li><li>14</li><li>15</li><li>16</li><li>17</li><li>18</li><li>19</li><li>20</li><li>1</li><li>2</li><li>3</li><li>4</li><li>5</li><li>6</li></ol>\n"
      ],
      "text/latex": [
       "\\begin{enumerate*}\n",
       "\\item 1\n",
       "\\item 2\n",
       "\\item 3\n",
       "\\item 4\n",
       "\\item 5\n",
       "\\item 6\n",
       "\\item 7\n",
       "\\item 14\n",
       "\\item 15\n",
       "\\item 16\n",
       "\\item 17\n",
       "\\item 18\n",
       "\\item 19\n",
       "\\item 20\n",
       "\\item 1\n",
       "\\item 2\n",
       "\\item 3\n",
       "\\item 4\n",
       "\\item 5\n",
       "\\item 6\n",
       "\\item 7\n",
       "\\item 14\n",
       "\\item 15\n",
       "\\item 16\n",
       "\\item 17\n",
       "\\item 18\n",
       "\\item 19\n",
       "\\item 20\n",
       "\\item 1\n",
       "\\item 2\n",
       "\\item 3\n",
       "\\item 4\n",
       "\\item 5\n",
       "\\item 6\n",
       "\\item 7\n",
       "\\item 14\n",
       "\\item 15\n",
       "\\item 16\n",
       "\\item 17\n",
       "\\item 18\n",
       "\\item 19\n",
       "\\item 20\n",
       "\\item 1\n",
       "\\item 2\n",
       "\\item 3\n",
       "\\item 4\n",
       "\\item 5\n",
       "\\item 6\n",
       "\\end{enumerate*}\n"
      ],
      "text/markdown": [
       "1. 1\n",
       "2. 2\n",
       "3. 3\n",
       "4. 4\n",
       "5. 5\n",
       "6. 6\n",
       "7. 7\n",
       "8. 14\n",
       "9. 15\n",
       "10. 16\n",
       "11. 17\n",
       "12. 18\n",
       "13. 19\n",
       "14. 20\n",
       "15. 1\n",
       "16. 2\n",
       "17. 3\n",
       "18. 4\n",
       "19. 5\n",
       "20. 6\n",
       "21. 7\n",
       "22. 14\n",
       "23. 15\n",
       "24. 16\n",
       "25. 17\n",
       "26. 18\n",
       "27. 19\n",
       "28. 20\n",
       "29. 1\n",
       "30. 2\n",
       "31. 3\n",
       "32. 4\n",
       "33. 5\n",
       "34. 6\n",
       "35. 7\n",
       "36. 14\n",
       "37. 15\n",
       "38. 16\n",
       "39. 17\n",
       "40. 18\n",
       "41. 19\n",
       "42. 20\n",
       "43. 1\n",
       "44. 2\n",
       "45. 3\n",
       "46. 4\n",
       "47. 5\n",
       "48. 6\n",
       "\n",
       "\n"
      ],
      "text/plain": [
       ", , 1\n",
       "\n",
       "     [,1] [,2] [,3] [,4]\n",
       "[1,]    1    5   15   19\n",
       "[2,]    2    6   16   20\n",
       "[3,]    3    7   17    1\n",
       "[4,]    4   14   18    2\n",
       "\n",
       ", , 2\n",
       "\n",
       "     [,1] [,2] [,3] [,4]\n",
       "[1,]    3    7   17    1\n",
       "[2,]    4   14   18    2\n",
       "[3,]    5   15   19    3\n",
       "[4,]    6   16   20    4\n",
       "\n",
       ", , 3\n",
       "\n",
       "     [,1] [,2] [,3] [,4]\n",
       "[1,]    5   15   19    3\n",
       "[2,]    6   16   20    4\n",
       "[3,]    7   17    1    5\n",
       "[4,]   14   18    2    6\n"
      ]
     },
     "metadata": {},
     "output_type": "display_data"
    }
   ],
   "source": [
    "list1=(1:7)\n",
    "list2=(14:20)\n",
    "data <- list(list1,list2)\n",
    "arr <- array(as.numeric(unlist(data)), dim = c(4, 4,3))\n",
    "arr"
   ]
  },
  {
   "cell_type": "code",
   "execution_count": null,
   "id": "c34798dc",
   "metadata": {},
   "outputs": [],
   "source": []
  }
 ],
 "metadata": {
  "kernelspec": {
   "display_name": "R",
   "language": "R",
   "name": "ir"
  },
  "language_info": {
   "codemirror_mode": "r",
   "file_extension": ".r",
   "mimetype": "text/x-r-source",
   "name": "R",
   "pygments_lexer": "r",
   "version": "4.2.1"
  }
 },
 "nbformat": 4,
 "nbformat_minor": 5
}
