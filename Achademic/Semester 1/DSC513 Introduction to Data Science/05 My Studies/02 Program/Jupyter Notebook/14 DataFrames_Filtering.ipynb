{
 "cells": [
  {
   "cell_type": "code",
   "execution_count": null,
   "id": "0b31d100",
   "metadata": {},
   "outputs": [],
   "source": [
    "# dplyr, at its core, consists of 5 functions\n",
    "\n",
    "    # filter() selects rows based on their values\n",
    "\n",
    "    # mutate() creates new variables\n",
    "\n",
    "    # select() picks columns by name\n",
    "\n",
    "    # summarise() calculates summary statistics\n",
    "\n",
    "    # arrange() sorts the rows\n",
    "\n",
    "\n",
    "# Relational operators are used to compare values. In R generally (and in dplyr specifically), those are:\n",
    "\n",
    "    # == (Equal to)\n",
    "    # != (Not equal to)\n",
    "    # < (Less than)\n",
    "    # <= (Less than or equal to)\n",
    "    # > (Greater than)\n",
    "    # >= (Greater than or equal to\n",
    "\n",
    "# logical operators\n",
    "\n",
    "    # ! (logical NOT)\n",
    "    # & (logical AND)\n",
    "    # | (logical OR)\n",
    "\n",
    "# additional operators\n",
    "\n",
    "    # %in% : Checks if a value is in an array of multiple values\n",
    "    # is.na() : Checks whether a value is NA"
   ]
  },
  {
   "cell_type": "code",
   "execution_count": null,
   "id": "a5e6ff63",
   "metadata": {},
   "outputs": [],
   "source": [
    "# %>% is called the forward pipe operator in R. \n",
    "\n",
    "# It provides a mechanism for chaining commands with a new forward-pipe operator, %>%."
   ]
  },
  {
   "cell_type": "code",
   "execution_count": null,
   "id": "2eb00a9e",
   "metadata": {},
   "outputs": [],
   "source": [
    "1. Select Rows based on Column Value\n",
    "    df[df$gender == 'M',]\n",
    "\n",
    "2. Select Rows by list of Column Values\n",
    "    df[df$state %in% c('CA','AZ','PH'),]\n",
    "\n",
    "3. Select Rows based on Multiple Columns\n",
    "    df[df$gender == 'M' & df$id > 15,]\n",
    "\n",
    "4. Using is.element() to Select Rows by Column Values\n",
    "    df[is.element(df$state, c('CA','AZ','PH')),]\n",
    "\n",
    "5. Using subset()\n",
    "    subset(df, state %in% c(\"CA\", \"AZ\", \"PH\"))\n",
    "\n",
    "6. Using dplyr::filter()\n",
    "\n",
    "    ibrary(dplyr)\n",
    "    dplyr::filter(df, state %in% c(\"CA\", \"AZ\", \"PH\"))\n",
    "\n",
    "7. Using data.table\n",
    "\n",
    "    library(data.table)\n",
    "    setDT(df, key = 'state')[J(c(\"CA\", \"AZ\", \"PH\"))]"
   ]
  },
  {
   "cell_type": "code",
   "execution_count": 29,
   "id": "a23accb2",
   "metadata": {},
   "outputs": [
    {
     "data": {
      "text/html": [
       "<style>\n",
       ".list-inline {list-style: none; margin:0; padding: 0}\n",
       ".list-inline>li {display: inline-block}\n",
       ".list-inline>li:not(:last-child)::after {content: \"\\00b7\"; padding: 0 .5ex}\n",
       "</style>\n",
       "<ol class=list-inline><li>1624</li><li>7</li></ol>\n"
      ],
      "text/latex": [
       "\\begin{enumerate*}\n",
       "\\item 1624\n",
       "\\item 7\n",
       "\\end{enumerate*}\n"
      ],
      "text/markdown": [
       "1. 1624\n",
       "2. 7\n",
       "\n",
       "\n"
      ],
      "text/plain": [
       "[1] 1624    7"
      ]
     },
     "metadata": {},
     "output_type": "display_data"
    }
   ],
   "source": [
    "read.csv(\"sampledata\\\\vehicle.csv\") -> data\n",
    "\n",
    "dim(data)"
   ]
  },
  {
   "cell_type": "code",
   "execution_count": 3,
   "id": "8bd88f61",
   "metadata": {},
   "outputs": [
    {
     "data": {
      "text/html": [
       "<table class=\"dataframe\">\n",
       "<caption>A data.frame: 3 × 7</caption>\n",
       "<thead>\n",
       "\t<tr><th></th><th scope=col>Vehicle</th><th scope=col>fm</th><th scope=col>Mileage</th><th scope=col>lh</th><th scope=col>lc</th><th scope=col>mc</th><th scope=col>State</th></tr>\n",
       "\t<tr><th></th><th scope=col>&lt;int&gt;</th><th scope=col>&lt;dbl&gt;</th><th scope=col>&lt;dbl&gt;</th><th scope=col>&lt;dbl&gt;</th><th scope=col>&lt;dbl&gt;</th><th scope=col>&lt;dbl&gt;</th><th scope=col>&lt;chr&gt;</th></tr>\n",
       "</thead>\n",
       "<tbody>\n",
       "\t<tr><th scope=row>1</th><td>1</td><td> 0</td><td>  863</td><td>1.1</td><td> 66.30</td><td>697.23</td><td>MS</td></tr>\n",
       "\t<tr><th scope=row>2</th><td>2</td><td>10</td><td> 4644</td><td>2.4</td><td>233.03</td><td>119.66</td><td>CA</td></tr>\n",
       "\t<tr><th scope=row>3</th><td>3</td><td>15</td><td>16330</td><td>4.2</td><td>325.08</td><td>175.46</td><td>WI</td></tr>\n",
       "</tbody>\n",
       "</table>\n"
      ],
      "text/latex": [
       "A data.frame: 3 × 7\n",
       "\\begin{tabular}{r|lllllll}\n",
       "  & Vehicle & fm & Mileage & lh & lc & mc & State\\\\\n",
       "  & <int> & <dbl> & <dbl> & <dbl> & <dbl> & <dbl> & <chr>\\\\\n",
       "\\hline\n",
       "\t1 & 1 &  0 &   863 & 1.1 &  66.30 & 697.23 & MS\\\\\n",
       "\t2 & 2 & 10 &  4644 & 2.4 & 233.03 & 119.66 & CA\\\\\n",
       "\t3 & 3 & 15 & 16330 & 4.2 & 325.08 & 175.46 & WI\\\\\n",
       "\\end{tabular}\n"
      ],
      "text/markdown": [
       "\n",
       "A data.frame: 3 × 7\n",
       "\n",
       "| <!--/--> | Vehicle &lt;int&gt; | fm &lt;dbl&gt; | Mileage &lt;dbl&gt; | lh &lt;dbl&gt; | lc &lt;dbl&gt; | mc &lt;dbl&gt; | State &lt;chr&gt; |\n",
       "|---|---|---|---|---|---|---|---|\n",
       "| 1 | 1 |  0 |   863 | 1.1 |  66.30 | 697.23 | MS |\n",
       "| 2 | 2 | 10 |  4644 | 2.4 | 233.03 | 119.66 | CA |\n",
       "| 3 | 3 | 15 | 16330 | 4.2 | 325.08 | 175.46 | WI |\n",
       "\n"
      ],
      "text/plain": [
       "  Vehicle fm Mileage lh  lc     mc     State\n",
       "1 1        0   863   1.1  66.30 697.23 MS   \n",
       "2 2       10  4644   2.4 233.03 119.66 CA   \n",
       "3 3       15 16330   4.2 325.08 175.46 WI   "
      ]
     },
     "metadata": {},
     "output_type": "display_data"
    }
   ],
   "source": [
    "head(data,3)"
   ]
  },
  {
   "cell_type": "code",
   "execution_count": null,
   "id": "b83644f4",
   "metadata": {},
   "outputs": [],
   "source": [
    "# ‘%>%’ (pipe) forward"
   ]
  },
  {
   "cell_type": "code",
   "execution_count": 2,
   "id": "cc396efa",
   "metadata": {},
   "outputs": [
    {
     "data": {
      "text/html": [
       "<style>\n",
       ".list-inline {list-style: none; margin:0; padding: 0}\n",
       ".list-inline>li {display: inline-block}\n",
       ".list-inline>li:not(:last-child)::after {content: \"\\00b7\"; padding: 0 .5ex}\n",
       "</style>\n",
       "<ol class=list-inline><li>'Vehicle'</li><li>'fm'</li><li>'Mileage'</li><li>'lh'</li><li>'lc'</li><li>'mc'</li><li>'State'</li></ol>\n"
      ],
      "text/latex": [
       "\\begin{enumerate*}\n",
       "\\item 'Vehicle'\n",
       "\\item 'fm'\n",
       "\\item 'Mileage'\n",
       "\\item 'lh'\n",
       "\\item 'lc'\n",
       "\\item 'mc'\n",
       "\\item 'State'\n",
       "\\end{enumerate*}\n"
      ],
      "text/markdown": [
       "1. 'Vehicle'\n",
       "2. 'fm'\n",
       "3. 'Mileage'\n",
       "4. 'lh'\n",
       "5. 'lc'\n",
       "6. 'mc'\n",
       "7. 'State'\n",
       "\n",
       "\n"
      ],
      "text/plain": [
       "[1] \"Vehicle\" \"fm\"      \"Mileage\" \"lh\"      \"lc\"      \"mc\"      \"State\"  "
      ]
     },
     "metadata": {},
     "output_type": "display_data"
    }
   ],
   "source": [
    "names(data)"
   ]
  },
  {
   "cell_type": "markdown",
   "id": "33e14066",
   "metadata": {},
   "source": [
    "## Selection based on a single comparative condition on a column"
   ]
  },
  {
   "cell_type": "code",
   "execution_count": 10,
   "id": "a39830c2",
   "metadata": {},
   "outputs": [
    {
     "data": {
      "text/html": [
       "<table class=\"dataframe\">\n",
       "<caption>A data.frame: 6 × 7</caption>\n",
       "<thead>\n",
       "\t<tr><th></th><th scope=col>Vehicle</th><th scope=col>fm</th><th scope=col>Mileage</th><th scope=col>lh</th><th scope=col>lc</th><th scope=col>mc</th><th scope=col>State</th></tr>\n",
       "\t<tr><th></th><th scope=col>&lt;int&gt;</th><th scope=col>&lt;dbl&gt;</th><th scope=col>&lt;dbl&gt;</th><th scope=col>&lt;dbl&gt;</th><th scope=col>&lt;dbl&gt;</th><th scope=col>&lt;dbl&gt;</th><th scope=col>&lt;chr&gt;</th></tr>\n",
       "</thead>\n",
       "<tbody>\n",
       "\t<tr><th scope=row>2</th><td> 2</td><td>10</td><td> 4644</td><td>2.4</td><td>233.03</td><td>119.66</td><td>CA</td></tr>\n",
       "\t<tr><th scope=row>22</th><td>22</td><td>11</td><td>20694</td><td>2.3</td><td>194.48</td><td>119.66</td><td>CA</td></tr>\n",
       "\t<tr><th scope=row>41</th><td>41</td><td> 4</td><td> 3879</td><td>1.8</td><td>122.25</td><td>175.46</td><td>CA</td></tr>\n",
       "\t<tr><th scope=row>45</th><td>45</td><td> 4</td><td> 6244</td><td>3.3</td><td>267.30</td><td>204.95</td><td>CA</td></tr>\n",
       "\t<tr><th scope=row>48</th><td>48</td><td>15</td><td>13394</td><td>4.1</td><td>325.92</td><td>171.04</td><td>CA</td></tr>\n",
       "\t<tr><th scope=row>64</th><td>64</td><td>13</td><td>28305</td><td>1.3</td><td>107.10</td><td>175.46</td><td>CA</td></tr>\n",
       "</tbody>\n",
       "</table>\n"
      ],
      "text/latex": [
       "A data.frame: 6 × 7\n",
       "\\begin{tabular}{r|lllllll}\n",
       "  & Vehicle & fm & Mileage & lh & lc & mc & State\\\\\n",
       "  & <int> & <dbl> & <dbl> & <dbl> & <dbl> & <dbl> & <chr>\\\\\n",
       "\\hline\n",
       "\t2 &  2 & 10 &  4644 & 2.4 & 233.03 & 119.66 & CA\\\\\n",
       "\t22 & 22 & 11 & 20694 & 2.3 & 194.48 & 119.66 & CA\\\\\n",
       "\t41 & 41 &  4 &  3879 & 1.8 & 122.25 & 175.46 & CA\\\\\n",
       "\t45 & 45 &  4 &  6244 & 3.3 & 267.30 & 204.95 & CA\\\\\n",
       "\t48 & 48 & 15 & 13394 & 4.1 & 325.92 & 171.04 & CA\\\\\n",
       "\t64 & 64 & 13 & 28305 & 1.3 & 107.10 & 175.46 & CA\\\\\n",
       "\\end{tabular}\n"
      ],
      "text/markdown": [
       "\n",
       "A data.frame: 6 × 7\n",
       "\n",
       "| <!--/--> | Vehicle &lt;int&gt; | fm &lt;dbl&gt; | Mileage &lt;dbl&gt; | lh &lt;dbl&gt; | lc &lt;dbl&gt; | mc &lt;dbl&gt; | State &lt;chr&gt; |\n",
       "|---|---|---|---|---|---|---|---|\n",
       "| 2 |  2 | 10 |  4644 | 2.4 | 233.03 | 119.66 | CA |\n",
       "| 22 | 22 | 11 | 20694 | 2.3 | 194.48 | 119.66 | CA |\n",
       "| 41 | 41 |  4 |  3879 | 1.8 | 122.25 | 175.46 | CA |\n",
       "| 45 | 45 |  4 |  6244 | 3.3 | 267.30 | 204.95 | CA |\n",
       "| 48 | 48 | 15 | 13394 | 4.1 | 325.92 | 171.04 | CA |\n",
       "| 64 | 64 | 13 | 28305 | 1.3 | 107.10 | 175.46 | CA |\n",
       "\n"
      ],
      "text/plain": [
       "   Vehicle fm Mileage lh  lc     mc     State\n",
       "2   2      10  4644   2.4 233.03 119.66 CA   \n",
       "22 22      11 20694   2.3 194.48 119.66 CA   \n",
       "41 41       4  3879   1.8 122.25 175.46 CA   \n",
       "45 45       4  6244   3.3 267.30 204.95 CA   \n",
       "48 48      15 13394   4.1 325.92 171.04 CA   \n",
       "64 64      13 28305   1.3 107.10 175.46 CA   "
      ]
     },
     "metadata": {},
     "output_type": "display_data"
    }
   ],
   "source": [
    "head(data[data$'State' == 'CA',],6)"
   ]
  },
  {
   "cell_type": "code",
   "execution_count": null,
   "id": "9e501c29",
   "metadata": {},
   "outputs": [],
   "source": []
  },
  {
   "cell_type": "markdown",
   "id": "1e8f4b79",
   "metadata": {},
   "source": [
    "## Selection based on multiple comparative conditions on a column"
   ]
  },
  {
   "cell_type": "code",
   "execution_count": 35,
   "id": "90ea8ddb",
   "metadata": {},
   "outputs": [
    {
     "data": {
      "text/html": [
       "<table class=\"dataframe\">\n",
       "<caption>A data.frame: 6 × 7</caption>\n",
       "<thead>\n",
       "\t<tr><th></th><th scope=col>Vehicle</th><th scope=col>fm</th><th scope=col>Mileage</th><th scope=col>lh</th><th scope=col>lc</th><th scope=col>mc</th><th scope=col>State</th></tr>\n",
       "\t<tr><th></th><th scope=col>&lt;int&gt;</th><th scope=col>&lt;dbl&gt;</th><th scope=col>&lt;dbl&gt;</th><th scope=col>&lt;dbl&gt;</th><th scope=col>&lt;dbl&gt;</th><th scope=col>&lt;dbl&gt;</th><th scope=col>&lt;chr&gt;</th></tr>\n",
       "</thead>\n",
       "<tbody>\n",
       "\t<tr><th scope=row>1</th><td> 1</td><td> 0</td><td>  863</td><td>1.1</td><td> 66.30</td><td>697.23</td><td>MS</td></tr>\n",
       "\t<tr><th scope=row>2</th><td> 2</td><td>10</td><td> 4644</td><td>2.4</td><td>233.03</td><td>119.66</td><td>CA</td></tr>\n",
       "\t<tr><th scope=row>22</th><td>22</td><td>11</td><td>20694</td><td>2.3</td><td>194.48</td><td>119.66</td><td>CA</td></tr>\n",
       "\t<tr><th scope=row>41</th><td>41</td><td> 4</td><td> 3879</td><td>1.8</td><td>122.25</td><td>175.46</td><td>CA</td></tr>\n",
       "\t<tr><th scope=row>45</th><td>45</td><td> 4</td><td> 6244</td><td>3.3</td><td>267.30</td><td>204.95</td><td>CA</td></tr>\n",
       "\t<tr><th scope=row>48</th><td>48</td><td>15</td><td>13394</td><td>4.1</td><td>325.92</td><td>171.04</td><td>CA</td></tr>\n",
       "</tbody>\n",
       "</table>\n"
      ],
      "text/latex": [
       "A data.frame: 6 × 7\n",
       "\\begin{tabular}{r|lllllll}\n",
       "  & Vehicle & fm & Mileage & lh & lc & mc & State\\\\\n",
       "  & <int> & <dbl> & <dbl> & <dbl> & <dbl> & <dbl> & <chr>\\\\\n",
       "\\hline\n",
       "\t1 &  1 &  0 &   863 & 1.1 &  66.30 & 697.23 & MS\\\\\n",
       "\t2 &  2 & 10 &  4644 & 2.4 & 233.03 & 119.66 & CA\\\\\n",
       "\t22 & 22 & 11 & 20694 & 2.3 & 194.48 & 119.66 & CA\\\\\n",
       "\t41 & 41 &  4 &  3879 & 1.8 & 122.25 & 175.46 & CA\\\\\n",
       "\t45 & 45 &  4 &  6244 & 3.3 & 267.30 & 204.95 & CA\\\\\n",
       "\t48 & 48 & 15 & 13394 & 4.1 & 325.92 & 171.04 & CA\\\\\n",
       "\\end{tabular}\n"
      ],
      "text/markdown": [
       "\n",
       "A data.frame: 6 × 7\n",
       "\n",
       "| <!--/--> | Vehicle &lt;int&gt; | fm &lt;dbl&gt; | Mileage &lt;dbl&gt; | lh &lt;dbl&gt; | lc &lt;dbl&gt; | mc &lt;dbl&gt; | State &lt;chr&gt; |\n",
       "|---|---|---|---|---|---|---|---|\n",
       "| 1 |  1 |  0 |   863 | 1.1 |  66.30 | 697.23 | MS |\n",
       "| 2 |  2 | 10 |  4644 | 2.4 | 233.03 | 119.66 | CA |\n",
       "| 22 | 22 | 11 | 20694 | 2.3 | 194.48 | 119.66 | CA |\n",
       "| 41 | 41 |  4 |  3879 | 1.8 | 122.25 | 175.46 | CA |\n",
       "| 45 | 45 |  4 |  6244 | 3.3 | 267.30 | 204.95 | CA |\n",
       "| 48 | 48 | 15 | 13394 | 4.1 | 325.92 | 171.04 | CA |\n",
       "\n"
      ],
      "text/plain": [
       "   Vehicle fm Mileage lh  lc     mc     State\n",
       "1   1       0   863   1.1  66.30 697.23 MS   \n",
       "2   2      10  4644   2.4 233.03 119.66 CA   \n",
       "22 22      11 20694   2.3 194.48 119.66 CA   \n",
       "41 41       4  3879   1.8 122.25 175.46 CA   \n",
       "45 45       4  6244   3.3 267.30 204.95 CA   \n",
       "48 48      15 13394   4.1 325.92 171.04 CA   "
      ]
     },
     "metadata": {},
     "output_type": "display_data"
    }
   ],
   "source": [
    "# Simple Filter using []\n",
    "\n",
    "head(data[data$'State' %in% c ('CA','MS'),],6)"
   ]
  },
  {
   "cell_type": "markdown",
   "id": "dd45c09c",
   "metadata": {},
   "source": [
    "## Multi Condition"
   ]
  },
  {
   "cell_type": "code",
   "execution_count": 32,
   "id": "91556b01",
   "metadata": {},
   "outputs": [
    {
     "data": {
      "text/html": [
       "<table class=\"dataframe\">\n",
       "<caption>A data.frame: 6 × 7</caption>\n",
       "<thead>\n",
       "\t<tr><th></th><th scope=col>Vehicle</th><th scope=col>fm</th><th scope=col>Mileage</th><th scope=col>lh</th><th scope=col>lc</th><th scope=col>mc</th><th scope=col>State</th></tr>\n",
       "\t<tr><th></th><th scope=col>&lt;int&gt;</th><th scope=col>&lt;dbl&gt;</th><th scope=col>&lt;dbl&gt;</th><th scope=col>&lt;dbl&gt;</th><th scope=col>&lt;dbl&gt;</th><th scope=col>&lt;dbl&gt;</th><th scope=col>&lt;chr&gt;</th></tr>\n",
       "</thead>\n",
       "<tbody>\n",
       "\t<tr><th scope=row>1</th><td>  1</td><td> 0</td><td>  863</td><td> 1.1</td><td> 66.30</td><td>697.23</td><td>MS</td></tr>\n",
       "\t<tr><th scope=row>56</th><td> 56</td><td>13</td><td>90325</td><td> 0.8</td><td> 50.85</td><td>119.66</td><td>MS</td></tr>\n",
       "\t<tr><th scope=row>93</th><td> 93</td><td>21</td><td>37693</td><td>14.3</td><td>871.43</td><td>401.10</td><td>MS</td></tr>\n",
       "\t<tr><th scope=row>305</th><td>305</td><td>13</td><td>17185</td><td> 1.9</td><td>141.77</td><td>192.71</td><td>MS</td></tr>\n",
       "\t<tr><th scope=row>864</th><td>864</td><td> 5</td><td>10070</td><td> 1.6</td><td> 89.28</td><td>317.75</td><td>MS</td></tr>\n",
       "\t<tr><th scope=row>971</th><td>971</td><td>10</td><td>27353</td><td> 1.6</td><td> 89.28</td><td>119.66</td><td>MS</td></tr>\n",
       "</tbody>\n",
       "</table>\n"
      ],
      "text/latex": [
       "A data.frame: 6 × 7\n",
       "\\begin{tabular}{r|lllllll}\n",
       "  & Vehicle & fm & Mileage & lh & lc & mc & State\\\\\n",
       "  & <int> & <dbl> & <dbl> & <dbl> & <dbl> & <dbl> & <chr>\\\\\n",
       "\\hline\n",
       "\t1 &   1 &  0 &   863 &  1.1 &  66.30 & 697.23 & MS\\\\\n",
       "\t56 &  56 & 13 & 90325 &  0.8 &  50.85 & 119.66 & MS\\\\\n",
       "\t93 &  93 & 21 & 37693 & 14.3 & 871.43 & 401.10 & MS\\\\\n",
       "\t305 & 305 & 13 & 17185 &  1.9 & 141.77 & 192.71 & MS\\\\\n",
       "\t864 & 864 &  5 & 10070 &  1.6 &  89.28 & 317.75 & MS\\\\\n",
       "\t971 & 971 & 10 & 27353 &  1.6 &  89.28 & 119.66 & MS\\\\\n",
       "\\end{tabular}\n"
      ],
      "text/markdown": [
       "\n",
       "A data.frame: 6 × 7\n",
       "\n",
       "| <!--/--> | Vehicle &lt;int&gt; | fm &lt;dbl&gt; | Mileage &lt;dbl&gt; | lh &lt;dbl&gt; | lc &lt;dbl&gt; | mc &lt;dbl&gt; | State &lt;chr&gt; |\n",
       "|---|---|---|---|---|---|---|---|\n",
       "| 1 |   1 |  0 |   863 |  1.1 |  66.30 | 697.23 | MS |\n",
       "| 56 |  56 | 13 | 90325 |  0.8 |  50.85 | 119.66 | MS |\n",
       "| 93 |  93 | 21 | 37693 | 14.3 | 871.43 | 401.10 | MS |\n",
       "| 305 | 305 | 13 | 17185 |  1.9 | 141.77 | 192.71 | MS |\n",
       "| 864 | 864 |  5 | 10070 |  1.6 |  89.28 | 317.75 | MS |\n",
       "| 971 | 971 | 10 | 27353 |  1.6 |  89.28 | 119.66 | MS |\n",
       "\n"
      ],
      "text/plain": [
       "    Vehicle fm Mileage lh   lc     mc     State\n",
       "1     1      0   863    1.1  66.30 697.23 MS   \n",
       "56   56     13 90325    0.8  50.85 119.66 MS   \n",
       "93   93     21 37693   14.3 871.43 401.10 MS   \n",
       "305 305     13 17185    1.9 141.77 192.71 MS   \n",
       "864 864      5 10070    1.6  89.28 317.75 MS   \n",
       "971 971     10 27353    1.6  89.28 119.66 MS   "
      ]
     },
     "metadata": {},
     "output_type": "display_data"
    }
   ],
   "source": [
    "head(data[data$State == 'MS' & data$lc > 50,])"
   ]
  },
  {
   "cell_type": "code",
   "execution_count": 33,
   "id": "dff17ac9",
   "metadata": {},
   "outputs": [
    {
     "data": {
      "text/html": [
       "<table class=\"dataframe\">\n",
       "<caption>A data.frame: 5 × 7</caption>\n",
       "<thead>\n",
       "\t<tr><th></th><th scope=col>Vehicle</th><th scope=col>fm</th><th scope=col>Mileage</th><th scope=col>lh</th><th scope=col>lc</th><th scope=col>mc</th><th scope=col>State</th></tr>\n",
       "\t<tr><th></th><th scope=col>&lt;int&gt;</th><th scope=col>&lt;dbl&gt;</th><th scope=col>&lt;dbl&gt;</th><th scope=col>&lt;dbl&gt;</th><th scope=col>&lt;dbl&gt;</th><th scope=col>&lt;dbl&gt;</th><th scope=col>&lt;chr&gt;</th></tr>\n",
       "</thead>\n",
       "<tbody>\n",
       "\t<tr><th scope=row>93</th><td> 93</td><td>21</td><td>37693</td><td>14.3</td><td>871.43</td><td>401.10</td><td>MS</td></tr>\n",
       "\t<tr><th scope=row>205</th><td>205</td><td>13</td><td>38255</td><td> 9.0</td><td>628.93</td><td>421.41</td><td>OR</td></tr>\n",
       "\t<tr><th scope=row>343</th><td>343</td><td>10</td><td>17464</td><td> 3.7</td><td>236.80</td><td>119.66</td><td>OR</td></tr>\n",
       "\t<tr><th scope=row>352</th><td>352</td><td>16</td><td>48424</td><td> 7.7</td><td>564.04</td><td>179.79</td><td>OR</td></tr>\n",
       "\t<tr><th scope=row>396</th><td>396</td><td>12</td><td> 6724</td><td> 6.7</td><td>529.02</td><td>119.66</td><td>OR</td></tr>\n",
       "</tbody>\n",
       "</table>\n"
      ],
      "text/latex": [
       "A data.frame: 5 × 7\n",
       "\\begin{tabular}{r|lllllll}\n",
       "  & Vehicle & fm & Mileage & lh & lc & mc & State\\\\\n",
       "  & <int> & <dbl> & <dbl> & <dbl> & <dbl> & <dbl> & <chr>\\\\\n",
       "\\hline\n",
       "\t93 &  93 & 21 & 37693 & 14.3 & 871.43 & 401.10 & MS\\\\\n",
       "\t205 & 205 & 13 & 38255 &  9.0 & 628.93 & 421.41 & OR\\\\\n",
       "\t343 & 343 & 10 & 17464 &  3.7 & 236.80 & 119.66 & OR\\\\\n",
       "\t352 & 352 & 16 & 48424 &  7.7 & 564.04 & 179.79 & OR\\\\\n",
       "\t396 & 396 & 12 &  6724 &  6.7 & 529.02 & 119.66 & OR\\\\\n",
       "\\end{tabular}\n"
      ],
      "text/markdown": [
       "\n",
       "A data.frame: 5 × 7\n",
       "\n",
       "| <!--/--> | Vehicle &lt;int&gt; | fm &lt;dbl&gt; | Mileage &lt;dbl&gt; | lh &lt;dbl&gt; | lc &lt;dbl&gt; | mc &lt;dbl&gt; | State &lt;chr&gt; |\n",
       "|---|---|---|---|---|---|---|---|\n",
       "| 93 |  93 | 21 | 37693 | 14.3 | 871.43 | 401.10 | MS |\n",
       "| 205 | 205 | 13 | 38255 |  9.0 | 628.93 | 421.41 | OR |\n",
       "| 343 | 343 | 10 | 17464 |  3.7 | 236.80 | 119.66 | OR |\n",
       "| 352 | 352 | 16 | 48424 |  7.7 | 564.04 | 179.79 | OR |\n",
       "| 396 | 396 | 12 |  6724 |  6.7 | 529.02 | 119.66 | OR |\n",
       "\n"
      ],
      "text/plain": [
       "    Vehicle fm Mileage lh   lc     mc     State\n",
       "93   93     21 37693   14.3 871.43 401.10 MS   \n",
       "205 205     13 38255    9.0 628.93 421.41 OR   \n",
       "343 343     10 17464    3.7 236.80 119.66 OR   \n",
       "352 352     16 48424    7.7 564.04 179.79 OR   \n",
       "396 396     12  6724    6.7 529.02 119.66 OR   "
      ]
     },
     "metadata": {},
     "output_type": "display_data"
    }
   ],
   "source": [
    "data2 = data[data$State %in% c(\"MS\",\"OR\") & data$lc > 200,]\n",
    "\n",
    "head(data2,5)"
   ]
  },
  {
   "cell_type": "code",
   "execution_count": null,
   "id": "b0eefeb8",
   "metadata": {},
   "outputs": [],
   "source": [
    "# Using subset()\n",
    "\n",
    "# Subset : The subset() method is concerned with the rows. The row numbers are retained while applying this method. "
   ]
  },
  {
   "cell_type": "code",
   "execution_count": 34,
   "id": "4f76556f",
   "metadata": {},
   "outputs": [
    {
     "data": {
      "text/html": [
       "<table class=\"dataframe\">\n",
       "<caption>A data.frame: 6 × 7</caption>\n",
       "<thead>\n",
       "\t<tr><th></th><th scope=col>Vehicle</th><th scope=col>fm</th><th scope=col>Mileage</th><th scope=col>lh</th><th scope=col>lc</th><th scope=col>mc</th><th scope=col>State</th></tr>\n",
       "\t<tr><th></th><th scope=col>&lt;int&gt;</th><th scope=col>&lt;dbl&gt;</th><th scope=col>&lt;dbl&gt;</th><th scope=col>&lt;dbl&gt;</th><th scope=col>&lt;dbl&gt;</th><th scope=col>&lt;dbl&gt;</th><th scope=col>&lt;chr&gt;</th></tr>\n",
       "</thead>\n",
       "<tbody>\n",
       "\t<tr><th scope=row>1</th><td>  1</td><td> 0</td><td>  863</td><td> 1.1</td><td> 66.30</td><td>697.23</td><td>MS</td></tr>\n",
       "\t<tr><th scope=row>56</th><td> 56</td><td>13</td><td>90325</td><td> 0.8</td><td> 50.85</td><td>119.66</td><td>MS</td></tr>\n",
       "\t<tr><th scope=row>93</th><td> 93</td><td>21</td><td>37693</td><td>14.3</td><td>871.43</td><td>401.10</td><td>MS</td></tr>\n",
       "\t<tr><th scope=row>305</th><td>305</td><td>13</td><td>17185</td><td> 1.9</td><td>141.77</td><td>192.71</td><td>MS</td></tr>\n",
       "\t<tr><th scope=row>864</th><td>864</td><td> 5</td><td>10070</td><td> 1.6</td><td> 89.28</td><td>317.75</td><td>MS</td></tr>\n",
       "\t<tr><th scope=row>971</th><td>971</td><td>10</td><td>27353</td><td> 1.6</td><td> 89.28</td><td>119.66</td><td>MS</td></tr>\n",
       "</tbody>\n",
       "</table>\n"
      ],
      "text/latex": [
       "A data.frame: 6 × 7\n",
       "\\begin{tabular}{r|lllllll}\n",
       "  & Vehicle & fm & Mileage & lh & lc & mc & State\\\\\n",
       "  & <int> & <dbl> & <dbl> & <dbl> & <dbl> & <dbl> & <chr>\\\\\n",
       "\\hline\n",
       "\t1 &   1 &  0 &   863 &  1.1 &  66.30 & 697.23 & MS\\\\\n",
       "\t56 &  56 & 13 & 90325 &  0.8 &  50.85 & 119.66 & MS\\\\\n",
       "\t93 &  93 & 21 & 37693 & 14.3 & 871.43 & 401.10 & MS\\\\\n",
       "\t305 & 305 & 13 & 17185 &  1.9 & 141.77 & 192.71 & MS\\\\\n",
       "\t864 & 864 &  5 & 10070 &  1.6 &  89.28 & 317.75 & MS\\\\\n",
       "\t971 & 971 & 10 & 27353 &  1.6 &  89.28 & 119.66 & MS\\\\\n",
       "\\end{tabular}\n"
      ],
      "text/markdown": [
       "\n",
       "A data.frame: 6 × 7\n",
       "\n",
       "| <!--/--> | Vehicle &lt;int&gt; | fm &lt;dbl&gt; | Mileage &lt;dbl&gt; | lh &lt;dbl&gt; | lc &lt;dbl&gt; | mc &lt;dbl&gt; | State &lt;chr&gt; |\n",
       "|---|---|---|---|---|---|---|---|\n",
       "| 1 |   1 |  0 |   863 |  1.1 |  66.30 | 697.23 | MS |\n",
       "| 56 |  56 | 13 | 90325 |  0.8 |  50.85 | 119.66 | MS |\n",
       "| 93 |  93 | 21 | 37693 | 14.3 | 871.43 | 401.10 | MS |\n",
       "| 305 | 305 | 13 | 17185 |  1.9 | 141.77 | 192.71 | MS |\n",
       "| 864 | 864 |  5 | 10070 |  1.6 |  89.28 | 317.75 | MS |\n",
       "| 971 | 971 | 10 | 27353 |  1.6 |  89.28 | 119.66 | MS |\n",
       "\n"
      ],
      "text/plain": [
       "    Vehicle fm Mileage lh   lc     mc     State\n",
       "1     1      0   863    1.1  66.30 697.23 MS   \n",
       "56   56     13 90325    0.8  50.85 119.66 MS   \n",
       "93   93     21 37693   14.3 871.43 401.10 MS   \n",
       "305 305     13 17185    1.9 141.77 192.71 MS   \n",
       "864 864      5 10070    1.6  89.28 317.75 MS   \n",
       "971 971     10 27353    1.6  89.28 119.66 MS   "
      ]
     },
     "metadata": {},
     "output_type": "display_data"
    }
   ],
   "source": [
    "head(subset(data, State == 'MS'))"
   ]
  },
  {
   "cell_type": "code",
   "execution_count": 37,
   "id": "e78fb1f4",
   "metadata": {},
   "outputs": [
    {
     "name": "stdout",
     "output_type": "stream",
     "text": [
      "  Vehicle fm Mileage  lh     lc     mc State\n",
      "1       1  0     863 1.1  66.30 697.23    MS\n",
      "2       2 10    4644 2.4 233.03 119.66    CA\n",
      "3       3 15   16330 4.2 325.08 175.46    WI\n",
      "4       4  0      13 1.0  66.64   0.00    OR\n",
      "5       5 13   22537 4.5 328.66 175.46    AZ\n"
     ]
    }
   ],
   "source": [
    "data2 = subset(data, State %in% c(\"MS\",\"OR\") | lc > 200)\n",
    "\n",
    "print(head(data2,5))"
   ]
  },
  {
   "cell_type": "markdown",
   "id": "f69fb6dc",
   "metadata": {},
   "source": [
    "## Using dplyr library"
   ]
  },
  {
   "cell_type": "code",
   "execution_count": 38,
   "id": "c2d60007",
   "metadata": {},
   "outputs": [
    {
     "data": {
      "text/html": [
       "<table class=\"dataframe\">\n",
       "<caption>A data.frame: 4 × 7</caption>\n",
       "<thead>\n",
       "\t<tr><th></th><th scope=col>Vehicle</th><th scope=col>fm</th><th scope=col>Mileage</th><th scope=col>lh</th><th scope=col>lc</th><th scope=col>mc</th><th scope=col>State</th></tr>\n",
       "\t<tr><th></th><th scope=col>&lt;int&gt;</th><th scope=col>&lt;dbl&gt;</th><th scope=col>&lt;dbl&gt;</th><th scope=col>&lt;dbl&gt;</th><th scope=col>&lt;dbl&gt;</th><th scope=col>&lt;dbl&gt;</th><th scope=col>&lt;chr&gt;</th></tr>\n",
       "</thead>\n",
       "<tbody>\n",
       "\t<tr><th scope=row>1</th><td> 2</td><td>10</td><td> 4644</td><td>2.4</td><td>233.03</td><td>119.66</td><td>CA</td></tr>\n",
       "\t<tr><th scope=row>2</th><td>22</td><td>11</td><td>20694</td><td>2.3</td><td>194.48</td><td>119.66</td><td>CA</td></tr>\n",
       "\t<tr><th scope=row>3</th><td>41</td><td> 4</td><td> 3879</td><td>1.8</td><td>122.25</td><td>175.46</td><td>CA</td></tr>\n",
       "\t<tr><th scope=row>4</th><td>45</td><td> 4</td><td> 6244</td><td>3.3</td><td>267.30</td><td>204.95</td><td>CA</td></tr>\n",
       "</tbody>\n",
       "</table>\n"
      ],
      "text/latex": [
       "A data.frame: 4 × 7\n",
       "\\begin{tabular}{r|lllllll}\n",
       "  & Vehicle & fm & Mileage & lh & lc & mc & State\\\\\n",
       "  & <int> & <dbl> & <dbl> & <dbl> & <dbl> & <dbl> & <chr>\\\\\n",
       "\\hline\n",
       "\t1 &  2 & 10 &  4644 & 2.4 & 233.03 & 119.66 & CA\\\\\n",
       "\t2 & 22 & 11 & 20694 & 2.3 & 194.48 & 119.66 & CA\\\\\n",
       "\t3 & 41 &  4 &  3879 & 1.8 & 122.25 & 175.46 & CA\\\\\n",
       "\t4 & 45 &  4 &  6244 & 3.3 & 267.30 & 204.95 & CA\\\\\n",
       "\\end{tabular}\n"
      ],
      "text/markdown": [
       "\n",
       "A data.frame: 4 × 7\n",
       "\n",
       "| <!--/--> | Vehicle &lt;int&gt; | fm &lt;dbl&gt; | Mileage &lt;dbl&gt; | lh &lt;dbl&gt; | lc &lt;dbl&gt; | mc &lt;dbl&gt; | State &lt;chr&gt; |\n",
       "|---|---|---|---|---|---|---|---|\n",
       "| 1 |  2 | 10 |  4644 | 2.4 | 233.03 | 119.66 | CA |\n",
       "| 2 | 22 | 11 | 20694 | 2.3 | 194.48 | 119.66 | CA |\n",
       "| 3 | 41 |  4 |  3879 | 1.8 | 122.25 | 175.46 | CA |\n",
       "| 4 | 45 |  4 |  6244 | 3.3 | 267.30 | 204.95 | CA |\n",
       "\n"
      ],
      "text/plain": [
       "  Vehicle fm Mileage lh  lc     mc     State\n",
       "1  2      10  4644   2.4 233.03 119.66 CA   \n",
       "2 22      11 20694   2.3 194.48 119.66 CA   \n",
       "3 41       4  3879   1.8 122.25 175.46 CA   \n",
       "4 45       4  6244   3.3 267.30 204.95 CA   "
      ]
     },
     "metadata": {},
     "output_type": "display_data"
    }
   ],
   "source": [
    "library(\"dplyr\")\n",
    "\n",
    "# 01 Filter data where State is 'CA'  : Single Condition\n",
    "# Filtering by one criterion\n",
    "data2 = data %>% filter(State == \"CA\")\n",
    "\n",
    "head(data2,4)"
   ]
  },
  {
   "cell_type": "code",
   "execution_count": 39,
   "id": "755525f6",
   "metadata": {},
   "outputs": [
    {
     "data": {
      "text/html": [
       "<table class=\"dataframe\">\n",
       "<caption>A data.frame: 6 × 7</caption>\n",
       "<thead>\n",
       "\t<tr><th></th><th scope=col>Vehicle</th><th scope=col>fm</th><th scope=col>Mileage</th><th scope=col>lh</th><th scope=col>lc</th><th scope=col>mc</th><th scope=col>State</th></tr>\n",
       "\t<tr><th></th><th scope=col>&lt;int&gt;</th><th scope=col>&lt;dbl&gt;</th><th scope=col>&lt;dbl&gt;</th><th scope=col>&lt;dbl&gt;</th><th scope=col>&lt;dbl&gt;</th><th scope=col>&lt;dbl&gt;</th><th scope=col>&lt;chr&gt;</th></tr>\n",
       "</thead>\n",
       "<tbody>\n",
       "\t<tr><th scope=row>1</th><td> 2</td><td>10</td><td> 4644</td><td>2.4</td><td>233.03</td><td>119.66</td><td>CA</td></tr>\n",
       "\t<tr><th scope=row>2</th><td>22</td><td>11</td><td>20694</td><td>2.3</td><td>194.48</td><td>119.66</td><td>CA</td></tr>\n",
       "\t<tr><th scope=row>3</th><td>41</td><td> 4</td><td> 3879</td><td>1.8</td><td>122.25</td><td>175.46</td><td>CA</td></tr>\n",
       "\t<tr><th scope=row>4</th><td>45</td><td> 4</td><td> 6244</td><td>3.3</td><td>267.30</td><td>204.95</td><td>CA</td></tr>\n",
       "\t<tr><th scope=row>5</th><td>48</td><td>15</td><td>13394</td><td>4.1</td><td>325.92</td><td>171.04</td><td>CA</td></tr>\n",
       "\t<tr><th scope=row>6</th><td>64</td><td>13</td><td>28305</td><td>1.3</td><td>107.10</td><td>175.46</td><td>CA</td></tr>\n",
       "</tbody>\n",
       "</table>\n"
      ],
      "text/latex": [
       "A data.frame: 6 × 7\n",
       "\\begin{tabular}{r|lllllll}\n",
       "  & Vehicle & fm & Mileage & lh & lc & mc & State\\\\\n",
       "  & <int> & <dbl> & <dbl> & <dbl> & <dbl> & <dbl> & <chr>\\\\\n",
       "\\hline\n",
       "\t1 &  2 & 10 &  4644 & 2.4 & 233.03 & 119.66 & CA\\\\\n",
       "\t2 & 22 & 11 & 20694 & 2.3 & 194.48 & 119.66 & CA\\\\\n",
       "\t3 & 41 &  4 &  3879 & 1.8 & 122.25 & 175.46 & CA\\\\\n",
       "\t4 & 45 &  4 &  6244 & 3.3 & 267.30 & 204.95 & CA\\\\\n",
       "\t5 & 48 & 15 & 13394 & 4.1 & 325.92 & 171.04 & CA\\\\\n",
       "\t6 & 64 & 13 & 28305 & 1.3 & 107.10 & 175.46 & CA\\\\\n",
       "\\end{tabular}\n"
      ],
      "text/markdown": [
       "\n",
       "A data.frame: 6 × 7\n",
       "\n",
       "| <!--/--> | Vehicle &lt;int&gt; | fm &lt;dbl&gt; | Mileage &lt;dbl&gt; | lh &lt;dbl&gt; | lc &lt;dbl&gt; | mc &lt;dbl&gt; | State &lt;chr&gt; |\n",
       "|---|---|---|---|---|---|---|---|\n",
       "| 1 |  2 | 10 |  4644 | 2.4 | 233.03 | 119.66 | CA |\n",
       "| 2 | 22 | 11 | 20694 | 2.3 | 194.48 | 119.66 | CA |\n",
       "| 3 | 41 |  4 |  3879 | 1.8 | 122.25 | 175.46 | CA |\n",
       "| 4 | 45 |  4 |  6244 | 3.3 | 267.30 | 204.95 | CA |\n",
       "| 5 | 48 | 15 | 13394 | 4.1 | 325.92 | 171.04 | CA |\n",
       "| 6 | 64 | 13 | 28305 | 1.3 | 107.10 | 175.46 | CA |\n",
       "\n"
      ],
      "text/plain": [
       "  Vehicle fm Mileage lh  lc     mc     State\n",
       "1  2      10  4644   2.4 233.03 119.66 CA   \n",
       "2 22      11 20694   2.3 194.48 119.66 CA   \n",
       "3 41       4  3879   1.8 122.25 175.46 CA   \n",
       "4 45       4  6244   3.3 267.30 204.95 CA   \n",
       "5 48      15 13394   4.1 325.92 171.04 CA   \n",
       "6 64      13 28305   1.3 107.10 175.46 CA   "
      ]
     },
     "metadata": {},
     "output_type": "display_data"
    }
   ],
   "source": [
    "library(dplyr)\n",
    "\n",
    "head(filter(data,data$State == 'CA'))"
   ]
  },
  {
   "cell_type": "code",
   "execution_count": 36,
   "id": "a3d7b87b",
   "metadata": {},
   "outputs": [
    {
     "data": {
      "text/html": [
       "<table class=\"dataframe\">\n",
       "<caption>A data.frame: 6 × 7</caption>\n",
       "<thead>\n",
       "\t<tr><th></th><th scope=col>Vehicle</th><th scope=col>fm</th><th scope=col>Mileage</th><th scope=col>lh</th><th scope=col>lc</th><th scope=col>mc</th><th scope=col>State</th></tr>\n",
       "\t<tr><th></th><th scope=col>&lt;int&gt;</th><th scope=col>&lt;dbl&gt;</th><th scope=col>&lt;dbl&gt;</th><th scope=col>&lt;dbl&gt;</th><th scope=col>&lt;dbl&gt;</th><th scope=col>&lt;dbl&gt;</th><th scope=col>&lt;chr&gt;</th></tr>\n",
       "</thead>\n",
       "<tbody>\n",
       "\t<tr><th scope=row>1</th><td> 2</td><td>10</td><td> 4644</td><td>2.4</td><td>233.03</td><td>119.66</td><td>CA</td></tr>\n",
       "\t<tr><th scope=row>2</th><td>22</td><td>11</td><td>20694</td><td>2.3</td><td>194.48</td><td>119.66</td><td>CA</td></tr>\n",
       "\t<tr><th scope=row>3</th><td>41</td><td> 4</td><td> 3879</td><td>1.8</td><td>122.25</td><td>175.46</td><td>CA</td></tr>\n",
       "\t<tr><th scope=row>4</th><td>45</td><td> 4</td><td> 6244</td><td>3.3</td><td>267.30</td><td>204.95</td><td>CA</td></tr>\n",
       "\t<tr><th scope=row>5</th><td>48</td><td>15</td><td>13394</td><td>4.1</td><td>325.92</td><td>171.04</td><td>CA</td></tr>\n",
       "\t<tr><th scope=row>6</th><td>64</td><td>13</td><td>28305</td><td>1.3</td><td>107.10</td><td>175.46</td><td>CA</td></tr>\n",
       "</tbody>\n",
       "</table>\n"
      ],
      "text/latex": [
       "A data.frame: 6 × 7\n",
       "\\begin{tabular}{r|lllllll}\n",
       "  & Vehicle & fm & Mileage & lh & lc & mc & State\\\\\n",
       "  & <int> & <dbl> & <dbl> & <dbl> & <dbl> & <dbl> & <chr>\\\\\n",
       "\\hline\n",
       "\t1 &  2 & 10 &  4644 & 2.4 & 233.03 & 119.66 & CA\\\\\n",
       "\t2 & 22 & 11 & 20694 & 2.3 & 194.48 & 119.66 & CA\\\\\n",
       "\t3 & 41 &  4 &  3879 & 1.8 & 122.25 & 175.46 & CA\\\\\n",
       "\t4 & 45 &  4 &  6244 & 3.3 & 267.30 & 204.95 & CA\\\\\n",
       "\t5 & 48 & 15 & 13394 & 4.1 & 325.92 & 171.04 & CA\\\\\n",
       "\t6 & 64 & 13 & 28305 & 1.3 & 107.10 & 175.46 & CA\\\\\n",
       "\\end{tabular}\n"
      ],
      "text/markdown": [
       "\n",
       "A data.frame: 6 × 7\n",
       "\n",
       "| <!--/--> | Vehicle &lt;int&gt; | fm &lt;dbl&gt; | Mileage &lt;dbl&gt; | lh &lt;dbl&gt; | lc &lt;dbl&gt; | mc &lt;dbl&gt; | State &lt;chr&gt; |\n",
       "|---|---|---|---|---|---|---|---|\n",
       "| 1 |  2 | 10 |  4644 | 2.4 | 233.03 | 119.66 | CA |\n",
       "| 2 | 22 | 11 | 20694 | 2.3 | 194.48 | 119.66 | CA |\n",
       "| 3 | 41 |  4 |  3879 | 1.8 | 122.25 | 175.46 | CA |\n",
       "| 4 | 45 |  4 |  6244 | 3.3 | 267.30 | 204.95 | CA |\n",
       "| 5 | 48 | 15 | 13394 | 4.1 | 325.92 | 171.04 | CA |\n",
       "| 6 | 64 | 13 | 28305 | 1.3 | 107.10 | 175.46 | CA |\n",
       "\n"
      ],
      "text/plain": [
       "  Vehicle fm Mileage lh  lc     mc     State\n",
       "1  2      10  4644   2.4 233.03 119.66 CA   \n",
       "2 22      11 20694   2.3 194.48 119.66 CA   \n",
       "3 41       4  3879   1.8 122.25 175.46 CA   \n",
       "4 45       4  6244   3.3 267.30 204.95 CA   \n",
       "5 48      15 13394   4.1 325.92 171.04 CA   \n",
       "6 64      13 28305   1.3 107.10 175.46 CA   "
      ]
     },
     "metadata": {},
     "output_type": "display_data"
    }
   ],
   "source": [
    "head(dplyr::filter(data,data$State == 'CA'))"
   ]
  },
  {
   "cell_type": "code",
   "execution_count": 26,
   "id": "5ab8edae",
   "metadata": {},
   "outputs": [
    {
     "data": {
      "text/html": [
       "<table class=\"dataframe\">\n",
       "<caption>A data.frame: 6 × 7</caption>\n",
       "<thead>\n",
       "\t<tr><th></th><th scope=col>Vehicle</th><th scope=col>fm</th><th scope=col>Mileage</th><th scope=col>lh</th><th scope=col>lc</th><th scope=col>mc</th><th scope=col>State</th></tr>\n",
       "\t<tr><th></th><th scope=col>&lt;int&gt;</th><th scope=col>&lt;dbl&gt;</th><th scope=col>&lt;dbl&gt;</th><th scope=col>&lt;dbl&gt;</th><th scope=col>&lt;dbl&gt;</th><th scope=col>&lt;dbl&gt;</th><th scope=col>&lt;chr&gt;</th></tr>\n",
       "</thead>\n",
       "<tbody>\n",
       "\t<tr><th scope=row>1</th><td> 1</td><td> 0</td><td>  863</td><td>1.1</td><td> 66.30</td><td>697.23</td><td>MS</td></tr>\n",
       "\t<tr><th scope=row>2</th><td> 2</td><td>10</td><td> 4644</td><td>2.4</td><td>233.03</td><td>119.66</td><td>CA</td></tr>\n",
       "\t<tr><th scope=row>3</th><td>22</td><td>11</td><td>20694</td><td>2.3</td><td>194.48</td><td>119.66</td><td>CA</td></tr>\n",
       "\t<tr><th scope=row>4</th><td>41</td><td> 4</td><td> 3879</td><td>1.8</td><td>122.25</td><td>175.46</td><td>CA</td></tr>\n",
       "\t<tr><th scope=row>5</th><td>45</td><td> 4</td><td> 6244</td><td>3.3</td><td>267.30</td><td>204.95</td><td>CA</td></tr>\n",
       "\t<tr><th scope=row>6</th><td>48</td><td>15</td><td>13394</td><td>4.1</td><td>325.92</td><td>171.04</td><td>CA</td></tr>\n",
       "</tbody>\n",
       "</table>\n"
      ],
      "text/latex": [
       "A data.frame: 6 × 7\n",
       "\\begin{tabular}{r|lllllll}\n",
       "  & Vehicle & fm & Mileage & lh & lc & mc & State\\\\\n",
       "  & <int> & <dbl> & <dbl> & <dbl> & <dbl> & <dbl> & <chr>\\\\\n",
       "\\hline\n",
       "\t1 &  1 &  0 &   863 & 1.1 &  66.30 & 697.23 & MS\\\\\n",
       "\t2 &  2 & 10 &  4644 & 2.4 & 233.03 & 119.66 & CA\\\\\n",
       "\t3 & 22 & 11 & 20694 & 2.3 & 194.48 & 119.66 & CA\\\\\n",
       "\t4 & 41 &  4 &  3879 & 1.8 & 122.25 & 175.46 & CA\\\\\n",
       "\t5 & 45 &  4 &  6244 & 3.3 & 267.30 & 204.95 & CA\\\\\n",
       "\t6 & 48 & 15 & 13394 & 4.1 & 325.92 & 171.04 & CA\\\\\n",
       "\\end{tabular}\n"
      ],
      "text/markdown": [
       "\n",
       "A data.frame: 6 × 7\n",
       "\n",
       "| <!--/--> | Vehicle &lt;int&gt; | fm &lt;dbl&gt; | Mileage &lt;dbl&gt; | lh &lt;dbl&gt; | lc &lt;dbl&gt; | mc &lt;dbl&gt; | State &lt;chr&gt; |\n",
       "|---|---|---|---|---|---|---|---|\n",
       "| 1 |  1 |  0 |   863 | 1.1 |  66.30 | 697.23 | MS |\n",
       "| 2 |  2 | 10 |  4644 | 2.4 | 233.03 | 119.66 | CA |\n",
       "| 3 | 22 | 11 | 20694 | 2.3 | 194.48 | 119.66 | CA |\n",
       "| 4 | 41 |  4 |  3879 | 1.8 | 122.25 | 175.46 | CA |\n",
       "| 5 | 45 |  4 |  6244 | 3.3 | 267.30 | 204.95 | CA |\n",
       "| 6 | 48 | 15 | 13394 | 4.1 | 325.92 | 171.04 | CA |\n",
       "\n"
      ],
      "text/plain": [
       "  Vehicle fm Mileage lh  lc     mc     State\n",
       "1  1       0   863   1.1  66.30 697.23 MS   \n",
       "2  2      10  4644   2.4 233.03 119.66 CA   \n",
       "3 22      11 20694   2.3 194.48 119.66 CA   \n",
       "4 41       4  3879   1.8 122.25 175.46 CA   \n",
       "5 45       4  6244   3.3 267.30 204.95 CA   \n",
       "6 48      15 13394   4.1 325.92 171.04 CA   "
      ]
     },
     "metadata": {},
     "output_type": "display_data"
    }
   ],
   "source": [
    "head(filter(data,data$State %in% c('CA','MS')))"
   ]
  },
  {
   "cell_type": "markdown",
   "id": "29ce7917",
   "metadata": {},
   "source": [
    "## Using Subset"
   ]
  },
  {
   "cell_type": "code",
   "execution_count": 28,
   "id": "00ed394a",
   "metadata": {},
   "outputs": [
    {
     "data": {
      "text/html": [
       "<table class=\"dataframe\">\n",
       "<caption>A data.frame: 13 × 2</caption>\n",
       "<thead>\n",
       "\t<tr><th></th><th scope=col>lh</th><th scope=col>lc</th></tr>\n",
       "\t<tr><th></th><th scope=col>&lt;dbl&gt;</th><th scope=col>&lt;dbl&gt;</th></tr>\n",
       "</thead>\n",
       "<tbody>\n",
       "\t<tr><th scope=row>1</th><td> 1.1</td><td> 66.30</td></tr>\n",
       "\t<tr><th scope=row>56</th><td> 0.8</td><td> 50.85</td></tr>\n",
       "\t<tr><th scope=row>93</th><td>14.3</td><td>871.43</td></tr>\n",
       "\t<tr><th scope=row>305</th><td> 1.9</td><td>141.77</td></tr>\n",
       "\t<tr><th scope=row>864</th><td> 1.6</td><td> 89.28</td></tr>\n",
       "\t<tr><th scope=row>971</th><td> 1.6</td><td> 89.28</td></tr>\n",
       "\t<tr><th scope=row>1033</th><td> 1.2</td><td> 71.02</td></tr>\n",
       "\t<tr><th scope=row>1148</th><td> 1.0</td><td> 55.50</td></tr>\n",
       "\t<tr><th scope=row>1159</th><td> 8.1</td><td>604.41</td></tr>\n",
       "\t<tr><th scope=row>1178</th><td> 2.6</td><td>189.10</td></tr>\n",
       "\t<tr><th scope=row>1238</th><td> 1.2</td><td> 69.88</td></tr>\n",
       "\t<tr><th scope=row>1293</th><td> 1.4</td><td> 77.70</td></tr>\n",
       "\t<tr><th scope=row>1295</th><td> 0.7</td><td> 46.13</td></tr>\n",
       "</tbody>\n",
       "</table>\n"
      ],
      "text/latex": [
       "A data.frame: 13 × 2\n",
       "\\begin{tabular}{r|ll}\n",
       "  & lh & lc\\\\\n",
       "  & <dbl> & <dbl>\\\\\n",
       "\\hline\n",
       "\t1 &  1.1 &  66.30\\\\\n",
       "\t56 &  0.8 &  50.85\\\\\n",
       "\t93 & 14.3 & 871.43\\\\\n",
       "\t305 &  1.9 & 141.77\\\\\n",
       "\t864 &  1.6 &  89.28\\\\\n",
       "\t971 &  1.6 &  89.28\\\\\n",
       "\t1033 &  1.2 &  71.02\\\\\n",
       "\t1148 &  1.0 &  55.50\\\\\n",
       "\t1159 &  8.1 & 604.41\\\\\n",
       "\t1178 &  2.6 & 189.10\\\\\n",
       "\t1238 &  1.2 &  69.88\\\\\n",
       "\t1293 &  1.4 &  77.70\\\\\n",
       "\t1295 &  0.7 &  46.13\\\\\n",
       "\\end{tabular}\n"
      ],
      "text/markdown": [
       "\n",
       "A data.frame: 13 × 2\n",
       "\n",
       "| <!--/--> | lh &lt;dbl&gt; | lc &lt;dbl&gt; |\n",
       "|---|---|---|\n",
       "| 1 |  1.1 |  66.30 |\n",
       "| 56 |  0.8 |  50.85 |\n",
       "| 93 | 14.3 | 871.43 |\n",
       "| 305 |  1.9 | 141.77 |\n",
       "| 864 |  1.6 |  89.28 |\n",
       "| 971 |  1.6 |  89.28 |\n",
       "| 1033 |  1.2 |  71.02 |\n",
       "| 1148 |  1.0 |  55.50 |\n",
       "| 1159 |  8.1 | 604.41 |\n",
       "| 1178 |  2.6 | 189.10 |\n",
       "| 1238 |  1.2 |  69.88 |\n",
       "| 1293 |  1.4 |  77.70 |\n",
       "| 1295 |  0.7 |  46.13 |\n",
       "\n"
      ],
      "text/plain": [
       "     lh   lc    \n",
       "1     1.1  66.30\n",
       "56    0.8  50.85\n",
       "93   14.3 871.43\n",
       "305   1.9 141.77\n",
       "864   1.6  89.28\n",
       "971   1.6  89.28\n",
       "1033  1.2  71.02\n",
       "1148  1.0  55.50\n",
       "1159  8.1 604.41\n",
       "1178  2.6 189.10\n",
       "1238  1.2  69.88\n",
       "1293  1.4  77.70\n",
       "1295  0.7  46.13"
      ]
     },
     "metadata": {},
     "output_type": "display_data"
    }
   ],
   "source": [
    "# Filter DataFrame by column name id and name.\n",
    "subset(data,State == 'MS',select = c('lh','lc'))"
   ]
  },
  {
   "cell_type": "code",
   "execution_count": 37,
   "id": "280db274",
   "metadata": {},
   "outputs": [
    {
     "data": {
      "text/html": [
       "<table class=\"dataframe\">\n",
       "<caption>A data.frame: 0 × 7</caption>\n",
       "<thead>\n",
       "\t<tr><th scope=col>Vehicle</th><th scope=col>fm</th><th scope=col>Mileage</th><th scope=col>lh</th><th scope=col>lc</th><th scope=col>mc</th><th scope=col>State</th></tr>\n",
       "\t<tr><th scope=col>&lt;int&gt;</th><th scope=col>&lt;dbl&gt;</th><th scope=col>&lt;dbl&gt;</th><th scope=col>&lt;dbl&gt;</th><th scope=col>&lt;dbl&gt;</th><th scope=col>&lt;dbl&gt;</th><th scope=col>&lt;chr&gt;</th></tr>\n",
       "</thead>\n",
       "<tbody>\n",
       "</tbody>\n",
       "</table>\n"
      ],
      "text/latex": [
       "A data.frame: 0 × 7\n",
       "\\begin{tabular}{lllllll}\n",
       " Vehicle & fm & Mileage & lh & lc & mc & State\\\\\n",
       " <int> & <dbl> & <dbl> & <dbl> & <dbl> & <dbl> & <chr>\\\\\n",
       "\\hline\n",
       "\\end{tabular}\n"
      ],
      "text/markdown": [
       "\n",
       "A data.frame: 0 × 7\n",
       "\n",
       "| Vehicle &lt;int&gt; | fm &lt;dbl&gt; | Mileage &lt;dbl&gt; | lh &lt;dbl&gt; | lc &lt;dbl&gt; | mc &lt;dbl&gt; | State &lt;chr&gt; |\n",
       "|---|---|---|---|---|---|---|\n",
       "\n"
      ],
      "text/plain": [
       "     Vehicle fm Mileage lh lc mc State"
      ]
     },
     "metadata": {},
     "output_type": "display_data"
    }
   ],
   "source": [
    "data[is.element(data$state, c('CA','AZ','PH')),]"
   ]
  },
  {
   "cell_type": "code",
   "execution_count": null,
   "id": "7356d5e1",
   "metadata": {},
   "outputs": [],
   "source": []
  },
  {
   "cell_type": "code",
   "execution_count": 2,
   "id": "1e08f62d",
   "metadata": {},
   "outputs": [
    {
     "data": {
      "text/html": [
       "<table class=\"dataframe\">\n",
       "<caption>A data.frame: 5 × 7</caption>\n",
       "<thead>\n",
       "\t<tr><th></th><th scope=col>Vehicle</th><th scope=col>fm</th><th scope=col>Mileage</th><th scope=col>lh</th><th scope=col>lc</th><th scope=col>mc</th><th scope=col>State</th></tr>\n",
       "\t<tr><th></th><th scope=col>&lt;int&gt;</th><th scope=col>&lt;dbl&gt;</th><th scope=col>&lt;dbl&gt;</th><th scope=col>&lt;dbl&gt;</th><th scope=col>&lt;dbl&gt;</th><th scope=col>&lt;dbl&gt;</th><th scope=col>&lt;chr&gt;</th></tr>\n",
       "</thead>\n",
       "<tbody>\n",
       "\t<tr><th scope=row>1</th><td>1</td><td> 0</td><td>  863</td><td>1.1</td><td> 66.30</td><td>697.23</td><td>MS</td></tr>\n",
       "\t<tr><th scope=row>2</th><td>2</td><td>10</td><td> 4644</td><td>2.4</td><td>233.03</td><td>119.66</td><td>CA</td></tr>\n",
       "\t<tr><th scope=row>3</th><td>3</td><td>15</td><td>16330</td><td>4.2</td><td>325.08</td><td>175.46</td><td>WI</td></tr>\n",
       "\t<tr><th scope=row>4</th><td>4</td><td> 0</td><td>   13</td><td>1.0</td><td> 66.64</td><td>  0.00</td><td>OR</td></tr>\n",
       "\t<tr><th scope=row>5</th><td>5</td><td>13</td><td>22537</td><td>4.5</td><td>328.66</td><td>175.46</td><td>AZ</td></tr>\n",
       "</tbody>\n",
       "</table>\n"
      ],
      "text/latex": [
       "A data.frame: 5 × 7\n",
       "\\begin{tabular}{r|lllllll}\n",
       "  & Vehicle & fm & Mileage & lh & lc & mc & State\\\\\n",
       "  & <int> & <dbl> & <dbl> & <dbl> & <dbl> & <dbl> & <chr>\\\\\n",
       "\\hline\n",
       "\t1 & 1 &  0 &   863 & 1.1 &  66.30 & 697.23 & MS\\\\\n",
       "\t2 & 2 & 10 &  4644 & 2.4 & 233.03 & 119.66 & CA\\\\\n",
       "\t3 & 3 & 15 & 16330 & 4.2 & 325.08 & 175.46 & WI\\\\\n",
       "\t4 & 4 &  0 &    13 & 1.0 &  66.64 &   0.00 & OR\\\\\n",
       "\t5 & 5 & 13 & 22537 & 4.5 & 328.66 & 175.46 & AZ\\\\\n",
       "\\end{tabular}\n"
      ],
      "text/markdown": [
       "\n",
       "A data.frame: 5 × 7\n",
       "\n",
       "| <!--/--> | Vehicle &lt;int&gt; | fm &lt;dbl&gt; | Mileage &lt;dbl&gt; | lh &lt;dbl&gt; | lc &lt;dbl&gt; | mc &lt;dbl&gt; | State &lt;chr&gt; |\n",
       "|---|---|---|---|---|---|---|---|\n",
       "| 1 | 1 |  0 |   863 | 1.1 |  66.30 | 697.23 | MS |\n",
       "| 2 | 2 | 10 |  4644 | 2.4 | 233.03 | 119.66 | CA |\n",
       "| 3 | 3 | 15 | 16330 | 4.2 | 325.08 | 175.46 | WI |\n",
       "| 4 | 4 |  0 |    13 | 1.0 |  66.64 |   0.00 | OR |\n",
       "| 5 | 5 | 13 | 22537 | 4.5 | 328.66 | 175.46 | AZ |\n",
       "\n"
      ],
      "text/plain": [
       "  Vehicle fm Mileage lh  lc     mc     State\n",
       "1 1        0   863   1.1  66.30 697.23 MS   \n",
       "2 2       10  4644   2.4 233.03 119.66 CA   \n",
       "3 3       15 16330   4.2 325.08 175.46 WI   \n",
       "4 4        0    13   1.0  66.64   0.00 OR   \n",
       "5 5       13 22537   4.5 328.66 175.46 AZ   "
      ]
     },
     "metadata": {},
     "output_type": "display_data"
    }
   ],
   "source": [
    "read.csv(\"sampledata\\\\vehicle.csv\") -> data\n",
    "\n",
    "head(data,5)"
   ]
  },
  {
   "cell_type": "code",
   "execution_count": 16,
   "id": "a738ba66",
   "metadata": {},
   "outputs": [
    {
     "data": {
      "text/html": [
       "<table class=\"dataframe\">\n",
       "<caption>A data.frame: 6 × 7</caption>\n",
       "<thead>\n",
       "\t<tr><th></th><th scope=col>Vehicle</th><th scope=col>fm</th><th scope=col>Mileage</th><th scope=col>lh</th><th scope=col>lc</th><th scope=col>mc</th><th scope=col>State</th></tr>\n",
       "\t<tr><th></th><th scope=col>&lt;int&gt;</th><th scope=col>&lt;dbl&gt;</th><th scope=col>&lt;dbl&gt;</th><th scope=col>&lt;dbl&gt;</th><th scope=col>&lt;dbl&gt;</th><th scope=col>&lt;dbl&gt;</th><th scope=col>&lt;chr&gt;</th></tr>\n",
       "</thead>\n",
       "<tbody>\n",
       "\t<tr><th scope=row>1</th><td> 2</td><td>10</td><td> 4644</td><td>2.4</td><td>233.03</td><td>119.66</td><td>CA</td></tr>\n",
       "\t<tr><th scope=row>2</th><td>22</td><td>11</td><td>20694</td><td>2.3</td><td>194.48</td><td>119.66</td><td>CA</td></tr>\n",
       "\t<tr><th scope=row>3</th><td>41</td><td> 4</td><td> 3879</td><td>1.8</td><td>122.25</td><td>175.46</td><td>CA</td></tr>\n",
       "\t<tr><th scope=row>4</th><td>45</td><td> 4</td><td> 6244</td><td>3.3</td><td>267.30</td><td>204.95</td><td>CA</td></tr>\n",
       "\t<tr><th scope=row>5</th><td>48</td><td>15</td><td>13394</td><td>4.1</td><td>325.92</td><td>171.04</td><td>CA</td></tr>\n",
       "\t<tr><th scope=row>6</th><td>64</td><td>13</td><td>28305</td><td>1.3</td><td>107.10</td><td>175.46</td><td>CA</td></tr>\n",
       "</tbody>\n",
       "</table>\n"
      ],
      "text/latex": [
       "A data.frame: 6 × 7\n",
       "\\begin{tabular}{r|lllllll}\n",
       "  & Vehicle & fm & Mileage & lh & lc & mc & State\\\\\n",
       "  & <int> & <dbl> & <dbl> & <dbl> & <dbl> & <dbl> & <chr>\\\\\n",
       "\\hline\n",
       "\t1 &  2 & 10 &  4644 & 2.4 & 233.03 & 119.66 & CA\\\\\n",
       "\t2 & 22 & 11 & 20694 & 2.3 & 194.48 & 119.66 & CA\\\\\n",
       "\t3 & 41 &  4 &  3879 & 1.8 & 122.25 & 175.46 & CA\\\\\n",
       "\t4 & 45 &  4 &  6244 & 3.3 & 267.30 & 204.95 & CA\\\\\n",
       "\t5 & 48 & 15 & 13394 & 4.1 & 325.92 & 171.04 & CA\\\\\n",
       "\t6 & 64 & 13 & 28305 & 1.3 & 107.10 & 175.46 & CA\\\\\n",
       "\\end{tabular}\n"
      ],
      "text/markdown": [
       "\n",
       "A data.frame: 6 × 7\n",
       "\n",
       "| <!--/--> | Vehicle &lt;int&gt; | fm &lt;dbl&gt; | Mileage &lt;dbl&gt; | lh &lt;dbl&gt; | lc &lt;dbl&gt; | mc &lt;dbl&gt; | State &lt;chr&gt; |\n",
       "|---|---|---|---|---|---|---|---|\n",
       "| 1 |  2 | 10 |  4644 | 2.4 | 233.03 | 119.66 | CA |\n",
       "| 2 | 22 | 11 | 20694 | 2.3 | 194.48 | 119.66 | CA |\n",
       "| 3 | 41 |  4 |  3879 | 1.8 | 122.25 | 175.46 | CA |\n",
       "| 4 | 45 |  4 |  6244 | 3.3 | 267.30 | 204.95 | CA |\n",
       "| 5 | 48 | 15 | 13394 | 4.1 | 325.92 | 171.04 | CA |\n",
       "| 6 | 64 | 13 | 28305 | 1.3 | 107.10 | 175.46 | CA |\n",
       "\n"
      ],
      "text/plain": [
       "  Vehicle fm Mileage lh  lc     mc     State\n",
       "1  2      10  4644   2.4 233.03 119.66 CA   \n",
       "2 22      11 20694   2.3 194.48 119.66 CA   \n",
       "3 41       4  3879   1.8 122.25 175.46 CA   \n",
       "4 45       4  6244   3.3 267.30 204.95 CA   \n",
       "5 48      15 13394   4.1 325.92 171.04 CA   \n",
       "6 64      13 28305   1.3 107.10 175.46 CA   "
      ]
     },
     "metadata": {},
     "output_type": "display_data"
    }
   ],
   "source": [
    "library(dplyr)\n",
    "\n",
    "df = data %>% filter(data$State == 'CA')\n",
    "\n",
    "head(df)"
   ]
  },
  {
   "cell_type": "markdown",
   "id": "c92efa75",
   "metadata": {},
   "source": [
    "### Select Columns by applying filter with a value"
   ]
  },
  {
   "cell_type": "code",
   "execution_count": 18,
   "id": "7c83bbce",
   "metadata": {},
   "outputs": [
    {
     "data": {
      "text/html": [
       "<table class=\"dataframe\">\n",
       "<caption>A data.frame: 5 × 7</caption>\n",
       "<thead>\n",
       "\t<tr><th></th><th scope=col>Vehicle</th><th scope=col>fm</th><th scope=col>Mileage</th><th scope=col>lh</th><th scope=col>lc</th><th scope=col>mc</th><th scope=col>State</th></tr>\n",
       "\t<tr><th></th><th scope=col>&lt;int&gt;</th><th scope=col>&lt;dbl&gt;</th><th scope=col>&lt;dbl&gt;</th><th scope=col>&lt;dbl&gt;</th><th scope=col>&lt;dbl&gt;</th><th scope=col>&lt;dbl&gt;</th><th scope=col>&lt;chr&gt;</th></tr>\n",
       "</thead>\n",
       "<tbody>\n",
       "\t<tr><th scope=row>1</th><td>  1</td><td> 0</td><td>  863</td><td> 1.1</td><td> 66.30</td><td>697.23</td><td>MS</td></tr>\n",
       "\t<tr><th scope=row>2</th><td> 56</td><td>13</td><td>90325</td><td> 0.8</td><td> 50.85</td><td>119.66</td><td>MS</td></tr>\n",
       "\t<tr><th scope=row>3</th><td> 93</td><td>21</td><td>37693</td><td>14.3</td><td>871.43</td><td>401.10</td><td>MS</td></tr>\n",
       "\t<tr><th scope=row>4</th><td>305</td><td>13</td><td>17185</td><td> 1.9</td><td>141.77</td><td>192.71</td><td>MS</td></tr>\n",
       "\t<tr><th scope=row>5</th><td>864</td><td> 5</td><td>10070</td><td> 1.6</td><td> 89.28</td><td>317.75</td><td>MS</td></tr>\n",
       "</tbody>\n",
       "</table>\n"
      ],
      "text/latex": [
       "A data.frame: 5 × 7\n",
       "\\begin{tabular}{r|lllllll}\n",
       "  & Vehicle & fm & Mileage & lh & lc & mc & State\\\\\n",
       "  & <int> & <dbl> & <dbl> & <dbl> & <dbl> & <dbl> & <chr>\\\\\n",
       "\\hline\n",
       "\t1 &   1 &  0 &   863 &  1.1 &  66.30 & 697.23 & MS\\\\\n",
       "\t2 &  56 & 13 & 90325 &  0.8 &  50.85 & 119.66 & MS\\\\\n",
       "\t3 &  93 & 21 & 37693 & 14.3 & 871.43 & 401.10 & MS\\\\\n",
       "\t4 & 305 & 13 & 17185 &  1.9 & 141.77 & 192.71 & MS\\\\\n",
       "\t5 & 864 &  5 & 10070 &  1.6 &  89.28 & 317.75 & MS\\\\\n",
       "\\end{tabular}\n"
      ],
      "text/markdown": [
       "\n",
       "A data.frame: 5 × 7\n",
       "\n",
       "| <!--/--> | Vehicle &lt;int&gt; | fm &lt;dbl&gt; | Mileage &lt;dbl&gt; | lh &lt;dbl&gt; | lc &lt;dbl&gt; | mc &lt;dbl&gt; | State &lt;chr&gt; |\n",
       "|---|---|---|---|---|---|---|---|\n",
       "| 1 |   1 |  0 |   863 |  1.1 |  66.30 | 697.23 | MS |\n",
       "| 2 |  56 | 13 | 90325 |  0.8 |  50.85 | 119.66 | MS |\n",
       "| 3 |  93 | 21 | 37693 | 14.3 | 871.43 | 401.10 | MS |\n",
       "| 4 | 305 | 13 | 17185 |  1.9 | 141.77 | 192.71 | MS |\n",
       "| 5 | 864 |  5 | 10070 |  1.6 |  89.28 | 317.75 | MS |\n",
       "\n"
      ],
      "text/plain": [
       "  Vehicle fm Mileage lh   lc     mc     State\n",
       "1   1      0   863    1.1  66.30 697.23 MS   \n",
       "2  56     13 90325    0.8  50.85 119.66 MS   \n",
       "3  93     21 37693   14.3 871.43 401.10 MS   \n",
       "4 305     13 17185    1.9 141.77 192.71 MS   \n",
       "5 864      5 10070    1.6  89.28 317.75 MS   "
      ]
     },
     "metadata": {},
     "output_type": "display_data"
    }
   ],
   "source": [
    "data2 = data %>% \n",
    "         select('Vehicle','fm','Mileage','lh','lc','mc','State') %>%\n",
    "         filter(State == \"MS\")\n",
    "\n",
    "head(data2,5)"
   ]
  },
  {
   "cell_type": "code",
   "execution_count": null,
   "id": "ab33676c",
   "metadata": {},
   "outputs": [],
   "source": []
  },
  {
   "cell_type": "code",
   "execution_count": 19,
   "id": "a8266e2a",
   "metadata": {},
   "outputs": [
    {
     "data": {
      "text/html": [
       "<table class=\"dataframe\">\n",
       "<caption>A data.frame: 2 × 7</caption>\n",
       "<thead>\n",
       "\t<tr><th></th><th scope=col>Vehicle</th><th scope=col>fm</th><th scope=col>Mileage</th><th scope=col>lh</th><th scope=col>lc</th><th scope=col>mc</th><th scope=col>State</th></tr>\n",
       "\t<tr><th></th><th scope=col>&lt;int&gt;</th><th scope=col>&lt;dbl&gt;</th><th scope=col>&lt;dbl&gt;</th><th scope=col>&lt;dbl&gt;</th><th scope=col>&lt;dbl&gt;</th><th scope=col>&lt;dbl&gt;</th><th scope=col>&lt;chr&gt;</th></tr>\n",
       "</thead>\n",
       "<tbody>\n",
       "\t<tr><th scope=row>1</th><td>  93</td><td>21</td><td>37693</td><td>14.3</td><td>871.43</td><td>401.10</td><td>MS</td></tr>\n",
       "\t<tr><th scope=row>2</th><td>1159</td><td>10</td><td>32462</td><td> 8.1</td><td>604.41</td><td>500.69</td><td>MS</td></tr>\n",
       "</tbody>\n",
       "</table>\n"
      ],
      "text/latex": [
       "A data.frame: 2 × 7\n",
       "\\begin{tabular}{r|lllllll}\n",
       "  & Vehicle & fm & Mileage & lh & lc & mc & State\\\\\n",
       "  & <int> & <dbl> & <dbl> & <dbl> & <dbl> & <dbl> & <chr>\\\\\n",
       "\\hline\n",
       "\t1 &   93 & 21 & 37693 & 14.3 & 871.43 & 401.10 & MS\\\\\n",
       "\t2 & 1159 & 10 & 32462 &  8.1 & 604.41 & 500.69 & MS\\\\\n",
       "\\end{tabular}\n"
      ],
      "text/markdown": [
       "\n",
       "A data.frame: 2 × 7\n",
       "\n",
       "| <!--/--> | Vehicle &lt;int&gt; | fm &lt;dbl&gt; | Mileage &lt;dbl&gt; | lh &lt;dbl&gt; | lc &lt;dbl&gt; | mc &lt;dbl&gt; | State &lt;chr&gt; |\n",
       "|---|---|---|---|---|---|---|---|\n",
       "| 1 |   93 | 21 | 37693 | 14.3 | 871.43 | 401.10 | MS |\n",
       "| 2 | 1159 | 10 | 32462 |  8.1 | 604.41 | 500.69 | MS |\n",
       "\n"
      ],
      "text/plain": [
       "  Vehicle fm Mileage lh   lc     mc     State\n",
       "1   93    21 37693   14.3 871.43 401.10 MS   \n",
       "2 1159    10 32462    8.1 604.41 500.69 MS   "
      ]
     },
     "metadata": {},
     "output_type": "display_data"
    }
   ],
   "source": [
    "data2 = data %>% \n",
    "         select('Vehicle','fm','Mileage','lh','lc','mc','State') %>%\n",
    "         filter(State == \"MS\" & lc > 200)\n",
    "\n",
    "head(data2,5)"
   ]
  },
  {
   "cell_type": "code",
   "execution_count": 20,
   "id": "3db77d3d",
   "metadata": {},
   "outputs": [
    {
     "data": {
      "text/html": [
       "<table class=\"dataframe\">\n",
       "<caption>A data.frame: 5 × 7</caption>\n",
       "<thead>\n",
       "\t<tr><th></th><th scope=col>Vehicle</th><th scope=col>fm</th><th scope=col>Mileage</th><th scope=col>lh</th><th scope=col>lc</th><th scope=col>mc</th><th scope=col>State</th></tr>\n",
       "\t<tr><th></th><th scope=col>&lt;int&gt;</th><th scope=col>&lt;dbl&gt;</th><th scope=col>&lt;dbl&gt;</th><th scope=col>&lt;dbl&gt;</th><th scope=col>&lt;dbl&gt;</th><th scope=col>&lt;dbl&gt;</th><th scope=col>&lt;chr&gt;</th></tr>\n",
       "</thead>\n",
       "<tbody>\n",
       "\t<tr><th scope=row>1</th><td>2</td><td>10</td><td> 4644</td><td>2.4</td><td>233.03</td><td>119.66</td><td>CA</td></tr>\n",
       "\t<tr><th scope=row>2</th><td>3</td><td>15</td><td>16330</td><td>4.2</td><td>325.08</td><td>175.46</td><td>WI</td></tr>\n",
       "\t<tr><th scope=row>3</th><td>5</td><td>13</td><td>22537</td><td>4.5</td><td>328.66</td><td>175.46</td><td>AZ</td></tr>\n",
       "\t<tr><th scope=row>4</th><td>6</td><td>21</td><td>40931</td><td>3.1</td><td>205.28</td><td>175.46</td><td>FL</td></tr>\n",
       "\t<tr><th scope=row>5</th><td>8</td><td> 5</td><td>11051</td><td>2.9</td><td>208.80</td><td>270.04</td><td>GA</td></tr>\n",
       "</tbody>\n",
       "</table>\n"
      ],
      "text/latex": [
       "A data.frame: 5 × 7\n",
       "\\begin{tabular}{r|lllllll}\n",
       "  & Vehicle & fm & Mileage & lh & lc & mc & State\\\\\n",
       "  & <int> & <dbl> & <dbl> & <dbl> & <dbl> & <dbl> & <chr>\\\\\n",
       "\\hline\n",
       "\t1 & 2 & 10 &  4644 & 2.4 & 233.03 & 119.66 & CA\\\\\n",
       "\t2 & 3 & 15 & 16330 & 4.2 & 325.08 & 175.46 & WI\\\\\n",
       "\t3 & 5 & 13 & 22537 & 4.5 & 328.66 & 175.46 & AZ\\\\\n",
       "\t4 & 6 & 21 & 40931 & 3.1 & 205.28 & 175.46 & FL\\\\\n",
       "\t5 & 8 &  5 & 11051 & 2.9 & 208.80 & 270.04 & GA\\\\\n",
       "\\end{tabular}\n"
      ],
      "text/markdown": [
       "\n",
       "A data.frame: 5 × 7\n",
       "\n",
       "| <!--/--> | Vehicle &lt;int&gt; | fm &lt;dbl&gt; | Mileage &lt;dbl&gt; | lh &lt;dbl&gt; | lc &lt;dbl&gt; | mc &lt;dbl&gt; | State &lt;chr&gt; |\n",
       "|---|---|---|---|---|---|---|---|\n",
       "| 1 | 2 | 10 |  4644 | 2.4 | 233.03 | 119.66 | CA |\n",
       "| 2 | 3 | 15 | 16330 | 4.2 | 325.08 | 175.46 | WI |\n",
       "| 3 | 5 | 13 | 22537 | 4.5 | 328.66 | 175.46 | AZ |\n",
       "| 4 | 6 | 21 | 40931 | 3.1 | 205.28 | 175.46 | FL |\n",
       "| 5 | 8 |  5 | 11051 | 2.9 | 208.80 | 270.04 | GA |\n",
       "\n"
      ],
      "text/plain": [
       "  Vehicle fm Mileage lh  lc     mc     State\n",
       "1 2       10  4644   2.4 233.03 119.66 CA   \n",
       "2 3       15 16330   4.2 325.08 175.46 WI   \n",
       "3 5       13 22537   4.5 328.66 175.46 AZ   \n",
       "4 6       21 40931   3.1 205.28 175.46 FL   \n",
       "5 8        5 11051   2.9 208.80 270.04 GA   "
      ]
     },
     "metadata": {},
     "output_type": "display_data"
    }
   ],
   "source": [
    "data2 = data %>% \n",
    "         select('Vehicle','fm','Mileage','lh','lc','mc','State') %>%\n",
    "         filter(State != \"MS\" & lc > 200)\n",
    "\n",
    "head(data2,5)"
   ]
  },
  {
   "cell_type": "code",
   "execution_count": null,
   "id": "a548bac8",
   "metadata": {},
   "outputs": [],
   "source": []
  },
  {
   "cell_type": "code",
   "execution_count": 21,
   "id": "30e4d782",
   "metadata": {},
   "outputs": [
    {
     "data": {
      "text/html": [
       "<table class=\"dataframe\">\n",
       "<caption>A data.frame: 0 × 7</caption>\n",
       "<thead>\n",
       "\t<tr><th scope=col>Vehicle</th><th scope=col>fm</th><th scope=col>Mileage</th><th scope=col>lh</th><th scope=col>lc</th><th scope=col>mc</th><th scope=col>State</th></tr>\n",
       "\t<tr><th scope=col>&lt;int&gt;</th><th scope=col>&lt;dbl&gt;</th><th scope=col>&lt;dbl&gt;</th><th scope=col>&lt;dbl&gt;</th><th scope=col>&lt;dbl&gt;</th><th scope=col>&lt;dbl&gt;</th><th scope=col>&lt;chr&gt;</th></tr>\n",
       "</thead>\n",
       "<tbody>\n",
       "</tbody>\n",
       "</table>\n"
      ],
      "text/latex": [
       "A data.frame: 0 × 7\n",
       "\\begin{tabular}{lllllll}\n",
       " Vehicle & fm & Mileage & lh & lc & mc & State\\\\\n",
       " <int> & <dbl> & <dbl> & <dbl> & <dbl> & <dbl> & <chr>\\\\\n",
       "\\hline\n",
       "\\end{tabular}\n"
      ],
      "text/markdown": [
       "\n",
       "A data.frame: 0 × 7\n",
       "\n",
       "| Vehicle &lt;int&gt; | fm &lt;dbl&gt; | Mileage &lt;dbl&gt; | lh &lt;dbl&gt; | lc &lt;dbl&gt; | mc &lt;dbl&gt; | State &lt;chr&gt; |\n",
       "|---|---|---|---|---|---|---|\n",
       "\n"
      ],
      "text/plain": [
       "     Vehicle fm Mileage lh lc mc State"
      ]
     },
     "metadata": {},
     "output_type": "display_data"
    }
   ],
   "source": [
    "data2 = data %>% \n",
    "        select('Vehicle','fm','Mileage','lh','lc','mc','State') %>%\n",
    "        filter(State %in% c(read.csv(\"sampledata\\\\vehicle.csv\")))\n",
    "\n",
    "head(data2,5)"
   ]
  },
  {
   "cell_type": "code",
   "execution_count": 25,
   "id": "aa15ea9a",
   "metadata": {},
   "outputs": [
    {
     "name": "stdout",
     "output_type": "stream",
     "text": [
      "  State   n\n",
      "1    CA 200\n",
      "2    WI  13\n"
     ]
    }
   ],
   "source": [
    "data2 = data %>% \n",
    "        select('Vehicle','fm','Mileage','lh','lc','mc','State') %>%\n",
    "        filter(State %in% c(\"CA\",\"WI\")) %>%\n",
    "        count(State)\n",
    "\n",
    "print(head(data2,5))"
   ]
  },
  {
   "cell_type": "code",
   "execution_count": 31,
   "id": "842830cd",
   "metadata": {},
   "outputs": [
    {
     "data": {
      "text/html": [
       "<table class=\"dataframe\">\n",
       "<caption>A data.frame: 5 × 2</caption>\n",
       "<thead>\n",
       "\t<tr><th></th><th scope=col>State</th><th scope=col>n</th></tr>\n",
       "\t<tr><th></th><th scope=col>&lt;chr&gt;</th><th scope=col>&lt;int&gt;</th></tr>\n",
       "</thead>\n",
       "<tbody>\n",
       "\t<tr><th scope=row>1</th><td>* </td><td> 1</td></tr>\n",
       "\t<tr><th scope=row>2</th><td>AK</td><td> 4</td></tr>\n",
       "\t<tr><th scope=row>3</th><td>AL</td><td>26</td></tr>\n",
       "\t<tr><th scope=row>4</th><td>AR</td><td> 9</td></tr>\n",
       "\t<tr><th scope=row>5</th><td>AZ</td><td>61</td></tr>\n",
       "</tbody>\n",
       "</table>\n"
      ],
      "text/latex": [
       "A data.frame: 5 × 2\n",
       "\\begin{tabular}{r|ll}\n",
       "  & State & n\\\\\n",
       "  & <chr> & <int>\\\\\n",
       "\\hline\n",
       "\t1 & *  &  1\\\\\n",
       "\t2 & AK &  4\\\\\n",
       "\t3 & AL & 26\\\\\n",
       "\t4 & AR &  9\\\\\n",
       "\t5 & AZ & 61\\\\\n",
       "\\end{tabular}\n"
      ],
      "text/markdown": [
       "\n",
       "A data.frame: 5 × 2\n",
       "\n",
       "| <!--/--> | State &lt;chr&gt; | n &lt;int&gt; |\n",
       "|---|---|---|\n",
       "| 1 | *  |  1 |\n",
       "| 2 | AK |  4 |\n",
       "| 3 | AL | 26 |\n",
       "| 4 | AR |  9 |\n",
       "| 5 | AZ | 61 |\n",
       "\n"
      ],
      "text/plain": [
       "  State n \n",
       "1 *      1\n",
       "2 AK     4\n",
       "3 AL    26\n",
       "4 AR     9\n",
       "5 AZ    61"
      ]
     },
     "metadata": {},
     "output_type": "display_data"
    }
   ],
   "source": [
    "# Reverse the condition logic\n",
    "\n",
    "data2 = data %>% \n",
    "        select('Vehicle','fm','Mileage','lh','lc','mc','State') %>%\n",
    "        filter(!State %in% c(\"CA\",\"WI\")) %>%\n",
    "        count(State)\n",
    "\n",
    "head(data2,5)"
   ]
  },
  {
   "cell_type": "code",
   "execution_count": 29,
   "id": "9dc9a5f8",
   "metadata": {},
   "outputs": [
    {
     "data": {
      "text/html": [
       "<table class=\"dataframe\">\n",
       "<caption>A data.frame: 0 × 7</caption>\n",
       "<thead>\n",
       "\t<tr><th scope=col>Vehicle</th><th scope=col>fm</th><th scope=col>Mileage</th><th scope=col>lh</th><th scope=col>lc</th><th scope=col>mc</th><th scope=col>State</th></tr>\n",
       "\t<tr><th scope=col>&lt;int&gt;</th><th scope=col>&lt;dbl&gt;</th><th scope=col>&lt;dbl&gt;</th><th scope=col>&lt;dbl&gt;</th><th scope=col>&lt;dbl&gt;</th><th scope=col>&lt;dbl&gt;</th><th scope=col>&lt;chr&gt;</th></tr>\n",
       "</thead>\n",
       "<tbody>\n",
       "</tbody>\n",
       "</table>\n"
      ],
      "text/latex": [
       "A data.frame: 0 × 7\n",
       "\\begin{tabular}{lllllll}\n",
       " Vehicle & fm & Mileage & lh & lc & mc & State\\\\\n",
       " <int> & <dbl> & <dbl> & <dbl> & <dbl> & <dbl> & <chr>\\\\\n",
       "\\hline\n",
       "\\end{tabular}\n"
      ],
      "text/markdown": [
       "\n",
       "A data.frame: 0 × 7\n",
       "\n",
       "| Vehicle &lt;int&gt; | fm &lt;dbl&gt; | Mileage &lt;dbl&gt; | lh &lt;dbl&gt; | lc &lt;dbl&gt; | mc &lt;dbl&gt; | State &lt;chr&gt; |\n",
       "|---|---|---|---|---|---|---|\n",
       "\n"
      ],
      "text/plain": [
       "     Vehicle fm Mileage lh lc mc State"
      ]
     },
     "metadata": {},
     "output_type": "display_data"
    }
   ],
   "source": [
    "data2 = data %>% \n",
    "        select('Vehicle','fm','Mileage','lh','lc','mc','State') %>%\n",
    "        filter(is.na('State'))\n",
    "\n",
    "head(data2,5)"
   ]
  },
  {
   "cell_type": "code",
   "execution_count": 30,
   "id": "abbac7dd",
   "metadata": {},
   "outputs": [
    {
     "data": {
      "text/html": [
       "<table class=\"dataframe\">\n",
       "<caption>A data.frame: 5 × 7</caption>\n",
       "<thead>\n",
       "\t<tr><th></th><th scope=col>Vehicle</th><th scope=col>fm</th><th scope=col>Mileage</th><th scope=col>lh</th><th scope=col>lc</th><th scope=col>mc</th><th scope=col>State</th></tr>\n",
       "\t<tr><th></th><th scope=col>&lt;int&gt;</th><th scope=col>&lt;dbl&gt;</th><th scope=col>&lt;dbl&gt;</th><th scope=col>&lt;dbl&gt;</th><th scope=col>&lt;dbl&gt;</th><th scope=col>&lt;dbl&gt;</th><th scope=col>&lt;chr&gt;</th></tr>\n",
       "</thead>\n",
       "<tbody>\n",
       "\t<tr><th scope=row>1</th><td>1</td><td> 0</td><td>  863</td><td>1.1</td><td> 66.30</td><td>697.23</td><td>MS</td></tr>\n",
       "\t<tr><th scope=row>2</th><td>2</td><td>10</td><td> 4644</td><td>2.4</td><td>233.03</td><td>119.66</td><td>CA</td></tr>\n",
       "\t<tr><th scope=row>3</th><td>3</td><td>15</td><td>16330</td><td>4.2</td><td>325.08</td><td>175.46</td><td>WI</td></tr>\n",
       "\t<tr><th scope=row>4</th><td>4</td><td> 0</td><td>   13</td><td>1.0</td><td> 66.64</td><td>  0.00</td><td>OR</td></tr>\n",
       "\t<tr><th scope=row>5</th><td>5</td><td>13</td><td>22537</td><td>4.5</td><td>328.66</td><td>175.46</td><td>AZ</td></tr>\n",
       "</tbody>\n",
       "</table>\n"
      ],
      "text/latex": [
       "A data.frame: 5 × 7\n",
       "\\begin{tabular}{r|lllllll}\n",
       "  & Vehicle & fm & Mileage & lh & lc & mc & State\\\\\n",
       "  & <int> & <dbl> & <dbl> & <dbl> & <dbl> & <dbl> & <chr>\\\\\n",
       "\\hline\n",
       "\t1 & 1 &  0 &   863 & 1.1 &  66.30 & 697.23 & MS\\\\\n",
       "\t2 & 2 & 10 &  4644 & 2.4 & 233.03 & 119.66 & CA\\\\\n",
       "\t3 & 3 & 15 & 16330 & 4.2 & 325.08 & 175.46 & WI\\\\\n",
       "\t4 & 4 &  0 &    13 & 1.0 &  66.64 &   0.00 & OR\\\\\n",
       "\t5 & 5 & 13 & 22537 & 4.5 & 328.66 & 175.46 & AZ\\\\\n",
       "\\end{tabular}\n"
      ],
      "text/markdown": [
       "\n",
       "A data.frame: 5 × 7\n",
       "\n",
       "| <!--/--> | Vehicle &lt;int&gt; | fm &lt;dbl&gt; | Mileage &lt;dbl&gt; | lh &lt;dbl&gt; | lc &lt;dbl&gt; | mc &lt;dbl&gt; | State &lt;chr&gt; |\n",
       "|---|---|---|---|---|---|---|---|\n",
       "| 1 | 1 |  0 |   863 | 1.1 |  66.30 | 697.23 | MS |\n",
       "| 2 | 2 | 10 |  4644 | 2.4 | 233.03 | 119.66 | CA |\n",
       "| 3 | 3 | 15 | 16330 | 4.2 | 325.08 | 175.46 | WI |\n",
       "| 4 | 4 |  0 |    13 | 1.0 |  66.64 |   0.00 | OR |\n",
       "| 5 | 5 | 13 | 22537 | 4.5 | 328.66 | 175.46 | AZ |\n",
       "\n"
      ],
      "text/plain": [
       "  Vehicle fm Mileage lh  lc     mc     State\n",
       "1 1        0   863   1.1  66.30 697.23 MS   \n",
       "2 2       10  4644   2.4 233.03 119.66 CA   \n",
       "3 3       15 16330   4.2 325.08 175.46 WI   \n",
       "4 4        0    13   1.0  66.64   0.00 OR   \n",
       "5 5       13 22537   4.5 328.66 175.46 AZ   "
      ]
     },
     "metadata": {},
     "output_type": "display_data"
    }
   ],
   "source": [
    "data2 = data %>% \n",
    "        select('Vehicle','fm','Mileage','lh','lc','mc','State') %>%\n",
    "        filter(!is.na('State'))\n",
    "\n",
    "head(data2,5)"
   ]
  },
  {
   "cell_type": "code",
   "execution_count": 40,
   "id": "cc545ea0",
   "metadata": {},
   "outputs": [
    {
     "data": {
      "text/html": [
       "<table class=\"dataframe\">\n",
       "<caption>A data.frame: 4 × 7</caption>\n",
       "<thead>\n",
       "\t<tr><th></th><th scope=col>Vehicle</th><th scope=col>fm</th><th scope=col>Mileage</th><th scope=col>lh</th><th scope=col>lc</th><th scope=col>mc</th><th scope=col>State</th></tr>\n",
       "\t<tr><th></th><th scope=col>&lt;int&gt;</th><th scope=col>&lt;dbl&gt;</th><th scope=col>&lt;dbl&gt;</th><th scope=col>&lt;dbl&gt;</th><th scope=col>&lt;dbl&gt;</th><th scope=col>&lt;dbl&gt;</th><th scope=col>&lt;chr&gt;</th></tr>\n",
       "</thead>\n",
       "<tbody>\n",
       "\t<tr><th scope=row>1</th><td> 2</td><td>10</td><td> 4644</td><td> 2.4</td><td>233.03</td><td>119.66</td><td>CA</td></tr>\n",
       "\t<tr><th scope=row>2</th><td> 6</td><td>21</td><td>40931</td><td> 3.1</td><td>205.28</td><td>175.46</td><td>FL</td></tr>\n",
       "\t<tr><th scope=row>3</th><td>11</td><td>17</td><td>24879</td><td> 3.5</td><td>260.29</td><td>119.66</td><td>TX</td></tr>\n",
       "\t<tr><th scope=row>4</th><td>13</td><td>14</td><td>29782</td><td>10.0</td><td>695.10</td><td>228.12</td><td>FL</td></tr>\n",
       "</tbody>\n",
       "</table>\n"
      ],
      "text/latex": [
       "A data.frame: 4 × 7\n",
       "\\begin{tabular}{r|lllllll}\n",
       "  & Vehicle & fm & Mileage & lh & lc & mc & State\\\\\n",
       "  & <int> & <dbl> & <dbl> & <dbl> & <dbl> & <dbl> & <chr>\\\\\n",
       "\\hline\n",
       "\t1 &  2 & 10 &  4644 &  2.4 & 233.03 & 119.66 & CA\\\\\n",
       "\t2 &  6 & 21 & 40931 &  3.1 & 205.28 & 175.46 & FL\\\\\n",
       "\t3 & 11 & 17 & 24879 &  3.5 & 260.29 & 119.66 & TX\\\\\n",
       "\t4 & 13 & 14 & 29782 & 10.0 & 695.10 & 228.12 & FL\\\\\n",
       "\\end{tabular}\n"
      ],
      "text/markdown": [
       "\n",
       "A data.frame: 4 × 7\n",
       "\n",
       "| <!--/--> | Vehicle &lt;int&gt; | fm &lt;dbl&gt; | Mileage &lt;dbl&gt; | lh &lt;dbl&gt; | lc &lt;dbl&gt; | mc &lt;dbl&gt; | State &lt;chr&gt; |\n",
       "|---|---|---|---|---|---|---|---|\n",
       "| 1 |  2 | 10 |  4644 |  2.4 | 233.03 | 119.66 | CA |\n",
       "| 2 |  6 | 21 | 40931 |  3.1 | 205.28 | 175.46 | FL |\n",
       "| 3 | 11 | 17 | 24879 |  3.5 | 260.29 | 119.66 | TX |\n",
       "| 4 | 13 | 14 | 29782 | 10.0 | 695.10 | 228.12 | FL |\n",
       "\n"
      ],
      "text/plain": [
       "  Vehicle fm Mileage lh   lc     mc     State\n",
       "1  2      10  4644    2.4 233.03 119.66 CA   \n",
       "2  6      21 40931    3.1 205.28 175.46 FL   \n",
       "3 11      17 24879    3.5 260.29 119.66 TX   \n",
       "4 13      14 29782   10.0 695.10 228.12 FL   "
      ]
     },
     "metadata": {},
     "output_type": "display_data"
    }
   ],
   "source": [
    "# 02 Filter data where State is 'CA'  : Multi Condition\n",
    "\n",
    "data2 = data %>% \n",
    "          filter(State == \"CA\" | State == \"TX\" | State == \"FL\")\n",
    "\n",
    "head(data2,4)"
   ]
  },
  {
   "cell_type": "code",
   "execution_count": 41,
   "id": "cd2e4940",
   "metadata": {},
   "outputs": [
    {
     "data": {
      "text/html": [
       "<table class=\"dataframe\">\n",
       "<caption>A data.frame: 4 × 7</caption>\n",
       "<thead>\n",
       "\t<tr><th></th><th scope=col>Vehicle</th><th scope=col>fm</th><th scope=col>Mileage</th><th scope=col>lh</th><th scope=col>lc</th><th scope=col>mc</th><th scope=col>State</th></tr>\n",
       "\t<tr><th></th><th scope=col>&lt;int&gt;</th><th scope=col>&lt;dbl&gt;</th><th scope=col>&lt;dbl&gt;</th><th scope=col>&lt;dbl&gt;</th><th scope=col>&lt;dbl&gt;</th><th scope=col>&lt;dbl&gt;</th><th scope=col>&lt;chr&gt;</th></tr>\n",
       "</thead>\n",
       "<tbody>\n",
       "\t<tr><th scope=row>1</th><td>2</td><td>10</td><td> 4644</td><td>2.4</td><td>233.03</td><td>119.66</td><td>CA</td></tr>\n",
       "\t<tr><th scope=row>2</th><td>3</td><td>15</td><td>16330</td><td>4.2</td><td>325.08</td><td>175.46</td><td>WI</td></tr>\n",
       "\t<tr><th scope=row>3</th><td>5</td><td>13</td><td>22537</td><td>4.5</td><td>328.66</td><td>175.46</td><td>AZ</td></tr>\n",
       "\t<tr><th scope=row>4</th><td>6</td><td>21</td><td>40931</td><td>3.1</td><td>205.28</td><td>175.46</td><td>FL</td></tr>\n",
       "</tbody>\n",
       "</table>\n"
      ],
      "text/latex": [
       "A data.frame: 4 × 7\n",
       "\\begin{tabular}{r|lllllll}\n",
       "  & Vehicle & fm & Mileage & lh & lc & mc & State\\\\\n",
       "  & <int> & <dbl> & <dbl> & <dbl> & <dbl> & <dbl> & <chr>\\\\\n",
       "\\hline\n",
       "\t1 & 2 & 10 &  4644 & 2.4 & 233.03 & 119.66 & CA\\\\\n",
       "\t2 & 3 & 15 & 16330 & 4.2 & 325.08 & 175.46 & WI\\\\\n",
       "\t3 & 5 & 13 & 22537 & 4.5 & 328.66 & 175.46 & AZ\\\\\n",
       "\t4 & 6 & 21 & 40931 & 3.1 & 205.28 & 175.46 & FL\\\\\n",
       "\\end{tabular}\n"
      ],
      "text/markdown": [
       "\n",
       "A data.frame: 4 × 7\n",
       "\n",
       "| <!--/--> | Vehicle &lt;int&gt; | fm &lt;dbl&gt; | Mileage &lt;dbl&gt; | lh &lt;dbl&gt; | lc &lt;dbl&gt; | mc &lt;dbl&gt; | State &lt;chr&gt; |\n",
       "|---|---|---|---|---|---|---|---|\n",
       "| 1 | 2 | 10 |  4644 | 2.4 | 233.03 | 119.66 | CA |\n",
       "| 2 | 3 | 15 | 16330 | 4.2 | 325.08 | 175.46 | WI |\n",
       "| 3 | 5 | 13 | 22537 | 4.5 | 328.66 | 175.46 | AZ |\n",
       "| 4 | 6 | 21 | 40931 | 3.1 | 205.28 | 175.46 | FL |\n",
       "\n"
      ],
      "text/plain": [
       "  Vehicle fm Mileage lh  lc     mc     State\n",
       "1 2       10  4644   2.4 233.03 119.66 CA   \n",
       "2 3       15 16330   4.2 325.08 175.46 WI   \n",
       "3 5       13 22537   4.5 328.66 175.46 AZ   \n",
       "4 6       21 40931   3.1 205.28 175.46 FL   "
      ]
     },
     "metadata": {},
     "output_type": "display_data"
    }
   ],
   "source": [
    "# 02 Filtering by multiple criteria within a single logical expression\n",
    "\n",
    "data2 = data %>% \n",
    "          filter(State == \"CA\" & lc > 200 & lh > 4 | fm > 8)\n",
    "head(data2,4)"
   ]
  },
  {
   "cell_type": "code",
   "execution_count": 42,
   "id": "f9912048",
   "metadata": {},
   "outputs": [
    {
     "data": {
      "text/html": [
       "<table class=\"dataframe\">\n",
       "<caption>A data.frame: 6 × 7</caption>\n",
       "<thead>\n",
       "\t<tr><th></th><th scope=col>Vehicle</th><th scope=col>fm</th><th scope=col>Mileage</th><th scope=col>lh</th><th scope=col>lc</th><th scope=col>mc</th><th scope=col>State</th></tr>\n",
       "\t<tr><th></th><th scope=col>&lt;int&gt;</th><th scope=col>&lt;dbl&gt;</th><th scope=col>&lt;dbl&gt;</th><th scope=col>&lt;dbl&gt;</th><th scope=col>&lt;dbl&gt;</th><th scope=col>&lt;dbl&gt;</th><th scope=col>&lt;chr&gt;</th></tr>\n",
       "</thead>\n",
       "<tbody>\n",
       "\t<tr><th scope=row>1</th><td> 2</td><td>10</td><td> 4644</td><td> 2.4</td><td>233.03</td><td>119.66</td><td>CA</td></tr>\n",
       "\t<tr><th scope=row>2</th><td> 6</td><td>21</td><td>40931</td><td> 3.1</td><td>205.28</td><td>175.46</td><td>FL</td></tr>\n",
       "\t<tr><th scope=row>3</th><td>11</td><td>17</td><td>24879</td><td> 3.5</td><td>260.29</td><td>119.66</td><td>TX</td></tr>\n",
       "\t<tr><th scope=row>4</th><td>13</td><td>14</td><td>29782</td><td>10.0</td><td>695.10</td><td>228.12</td><td>FL</td></tr>\n",
       "\t<tr><th scope=row>5</th><td>19</td><td>12</td><td>44865</td><td> 4.9</td><td>319.51</td><td>119.66</td><td>FL</td></tr>\n",
       "\t<tr><th scope=row>6</th><td>22</td><td>11</td><td>20694</td><td> 2.3</td><td>194.48</td><td>119.66</td><td>CA</td></tr>\n",
       "</tbody>\n",
       "</table>\n"
      ],
      "text/latex": [
       "A data.frame: 6 × 7\n",
       "\\begin{tabular}{r|lllllll}\n",
       "  & Vehicle & fm & Mileage & lh & lc & mc & State\\\\\n",
       "  & <int> & <dbl> & <dbl> & <dbl> & <dbl> & <dbl> & <chr>\\\\\n",
       "\\hline\n",
       "\t1 &  2 & 10 &  4644 &  2.4 & 233.03 & 119.66 & CA\\\\\n",
       "\t2 &  6 & 21 & 40931 &  3.1 & 205.28 & 175.46 & FL\\\\\n",
       "\t3 & 11 & 17 & 24879 &  3.5 & 260.29 & 119.66 & TX\\\\\n",
       "\t4 & 13 & 14 & 29782 & 10.0 & 695.10 & 228.12 & FL\\\\\n",
       "\t5 & 19 & 12 & 44865 &  4.9 & 319.51 & 119.66 & FL\\\\\n",
       "\t6 & 22 & 11 & 20694 &  2.3 & 194.48 & 119.66 & CA\\\\\n",
       "\\end{tabular}\n"
      ],
      "text/markdown": [
       "\n",
       "A data.frame: 6 × 7\n",
       "\n",
       "| <!--/--> | Vehicle &lt;int&gt; | fm &lt;dbl&gt; | Mileage &lt;dbl&gt; | lh &lt;dbl&gt; | lc &lt;dbl&gt; | mc &lt;dbl&gt; | State &lt;chr&gt; |\n",
       "|---|---|---|---|---|---|---|---|\n",
       "| 1 |  2 | 10 |  4644 |  2.4 | 233.03 | 119.66 | CA |\n",
       "| 2 |  6 | 21 | 40931 |  3.1 | 205.28 | 175.46 | FL |\n",
       "| 3 | 11 | 17 | 24879 |  3.5 | 260.29 | 119.66 | TX |\n",
       "| 4 | 13 | 14 | 29782 | 10.0 | 695.10 | 228.12 | FL |\n",
       "| 5 | 19 | 12 | 44865 |  4.9 | 319.51 | 119.66 | FL |\n",
       "| 6 | 22 | 11 | 20694 |  2.3 | 194.48 | 119.66 | CA |\n",
       "\n"
      ],
      "text/plain": [
       "  Vehicle fm Mileage lh   lc     mc     State\n",
       "1  2      10  4644    2.4 233.03 119.66 CA   \n",
       "2  6      21 40931    3.1 205.28 175.46 FL   \n",
       "3 11      17 24879    3.5 260.29 119.66 TX   \n",
       "4 13      14 29782   10.0 695.10 228.12 FL   \n",
       "5 19      12 44865    4.9 319.51 119.66 FL   \n",
       "6 22      11 20694    2.3 194.48 119.66 CA   "
      ]
     },
     "metadata": {},
     "output_type": "display_data"
    }
   ],
   "source": [
    "# 03 Filter data as like above and add arrange function on other varibale\n",
    "\n",
    "data2 = data %>% \n",
    "          filter(State == \"CA\" | State == \"TX\" | State == \"FL\") %>%\n",
    "          arrange(desc('Mileage'))\n",
    "\n",
    "head(data2)"
   ]
  },
  {
   "cell_type": "code",
   "execution_count": 43,
   "id": "da6015ae",
   "metadata": {},
   "outputs": [
    {
     "data": {
      "text/html": [
       "<table class=\"dataframe\">\n",
       "<caption>A data.frame: 1 × 7</caption>\n",
       "<thead>\n",
       "\t<tr><th scope=col>Avg_lc</th><th scope=col>sd_lc</th><th scope=col>max_lc</th><th scope=col>min_lc</th><th scope=col>sum_lc</th><th scope=col>median_lc</th><th scope=col>total</th></tr>\n",
       "\t<tr><th scope=col>&lt;dbl&gt;</th><th scope=col>&lt;dbl&gt;</th><th scope=col>&lt;dbl&gt;</th><th scope=col>&lt;dbl&gt;</th><th scope=col>&lt;dbl&gt;</th><th scope=col>&lt;dbl&gt;</th><th scope=col>&lt;int&gt;</th></tr>\n",
       "</thead>\n",
       "<tbody>\n",
       "\t<tr><td>242.918</td><td>219.5726</td><td>3234.41</td><td>0</td><td>394498.8</td><td>195.595</td><td>1624</td></tr>\n",
       "</tbody>\n",
       "</table>\n"
      ],
      "text/latex": [
       "A data.frame: 1 × 7\n",
       "\\begin{tabular}{lllllll}\n",
       " Avg\\_lc & sd\\_lc & max\\_lc & min\\_lc & sum\\_lc & median\\_lc & total\\\\\n",
       " <dbl> & <dbl> & <dbl> & <dbl> & <dbl> & <dbl> & <int>\\\\\n",
       "\\hline\n",
       "\t 242.918 & 219.5726 & 3234.41 & 0 & 394498.8 & 195.595 & 1624\\\\\n",
       "\\end{tabular}\n"
      ],
      "text/markdown": [
       "\n",
       "A data.frame: 1 × 7\n",
       "\n",
       "| Avg_lc &lt;dbl&gt; | sd_lc &lt;dbl&gt; | max_lc &lt;dbl&gt; | min_lc &lt;dbl&gt; | sum_lc &lt;dbl&gt; | median_lc &lt;dbl&gt; | total &lt;int&gt; |\n",
       "|---|---|---|---|---|---|---|\n",
       "| 242.918 | 219.5726 | 3234.41 | 0 | 394498.8 | 195.595 | 1624 |\n",
       "\n"
      ],
      "text/plain": [
       "  Avg_lc  sd_lc    max_lc  min_lc sum_lc   median_lc total\n",
       "1 242.918 219.5726 3234.41 0      394498.8 195.595   1624 "
      ]
     },
     "metadata": {},
     "output_type": "display_data"
    }
   ],
   "source": [
    "# 04 Filter data by applying Statistical Info\n",
    "\n",
    "data %>%\n",
    "  summarise(Avg_lc = mean(lc),\n",
    "            sd_lc = sd(lc),\n",
    "            max_lc = max(lc),\n",
    "            min_lc = min(lc),\n",
    "            sum_lc = sum(lc),\n",
    "            median_lc = median(lc),\n",
    "            total = n())"
   ]
  },
  {
   "cell_type": "code",
   "execution_count": 44,
   "id": "9201b8ea",
   "metadata": {},
   "outputs": [
    {
     "name": "stdout",
     "output_type": "stream",
     "text": [
      "  Vehicle fm Mileage   lh     lc     mc State\n",
      "1       3 15   16330  4.2 325.08 175.46    WI\n",
      "2       5 13   22537  4.5 328.66 175.46    AZ\n",
      "3      11 17   24879  3.5 260.29 119.66    TX\n",
      "4      13 14   29782 10.0 695.10 228.12    FL\n",
      "5      15 13   21946  3.8 312.36 175.46    MA\n",
      "6      19 12   44865  4.9 319.51 119.66    FL\n"
     ]
    }
   ],
   "source": [
    "# Get the data where lc value is greater than the mean of lc\n",
    "\n",
    "data2 <-  data %>%\n",
    "            filter (data$lc > mean(data$lc,na.rm = TRUE))\n",
    "\n",
    "print(head(data2))"
   ]
  },
  {
   "cell_type": "code",
   "execution_count": 45,
   "id": "7778248c",
   "metadata": {},
   "outputs": [
    {
     "data": {
      "text/html": [
       "<table class=\"dataframe\">\n",
       "<caption>A data.frame: 10 × 7</caption>\n",
       "<thead>\n",
       "\t<tr><th></th><th scope=col>Vehicle</th><th scope=col>fm</th><th scope=col>Mileage</th><th scope=col>lh</th><th scope=col>lc</th><th scope=col>mc</th><th scope=col>State</th></tr>\n",
       "\t<tr><th></th><th scope=col>&lt;int&gt;</th><th scope=col>&lt;dbl&gt;</th><th scope=col>&lt;dbl&gt;</th><th scope=col>&lt;dbl&gt;</th><th scope=col>&lt;dbl&gt;</th><th scope=col>&lt;dbl&gt;</th><th scope=col>&lt;chr&gt;</th></tr>\n",
       "</thead>\n",
       "<tbody>\n",
       "\t<tr><th scope=row>1</th><td> 1</td><td> 0</td><td>  863</td><td>1.1</td><td> 66.30</td><td>697.23</td><td>MS</td></tr>\n",
       "\t<tr><th scope=row>2</th><td> 2</td><td>10</td><td> 4644</td><td>2.4</td><td>233.03</td><td>119.66</td><td>CA</td></tr>\n",
       "\t<tr><th scope=row>3</th><td> 3</td><td>15</td><td>16330</td><td>4.2</td><td>325.08</td><td>175.46</td><td>WI</td></tr>\n",
       "\t<tr><th scope=row>4</th><td> 4</td><td> 0</td><td>   13</td><td>1.0</td><td> 66.64</td><td>  0.00</td><td>OR</td></tr>\n",
       "\t<tr><th scope=row>5</th><td> 5</td><td>13</td><td>22537</td><td>4.5</td><td>328.66</td><td>175.46</td><td>AZ</td></tr>\n",
       "\t<tr><th scope=row>6</th><td> 6</td><td>21</td><td>40931</td><td>3.1</td><td>205.28</td><td>175.46</td><td>FL</td></tr>\n",
       "\t<tr><th scope=row>7</th><td> 7</td><td>11</td><td>34762</td><td>0.7</td><td> 49.17</td><td>145.20</td><td>LA</td></tr>\n",
       "\t<tr><th scope=row>8</th><td> 8</td><td> 5</td><td>11051</td><td>2.9</td><td>208.80</td><td>270.04</td><td>GA</td></tr>\n",
       "\t<tr><th scope=row>9</th><td> 9</td><td> 8</td><td> 7003</td><td>3.4</td><td>212.06</td><td>119.66</td><td>WA</td></tr>\n",
       "\t<tr><th scope=row>10</th><td>10</td><td> 1</td><td>   11</td><td>0.7</td><td> 44.43</td><td>  0.00</td><td>PA</td></tr>\n",
       "</tbody>\n",
       "</table>\n"
      ],
      "text/latex": [
       "A data.frame: 10 × 7\n",
       "\\begin{tabular}{r|lllllll}\n",
       "  & Vehicle & fm & Mileage & lh & lc & mc & State\\\\\n",
       "  & <int> & <dbl> & <dbl> & <dbl> & <dbl> & <dbl> & <chr>\\\\\n",
       "\\hline\n",
       "\t1 &  1 &  0 &   863 & 1.1 &  66.30 & 697.23 & MS\\\\\n",
       "\t2 &  2 & 10 &  4644 & 2.4 & 233.03 & 119.66 & CA\\\\\n",
       "\t3 &  3 & 15 & 16330 & 4.2 & 325.08 & 175.46 & WI\\\\\n",
       "\t4 &  4 &  0 &    13 & 1.0 &  66.64 &   0.00 & OR\\\\\n",
       "\t5 &  5 & 13 & 22537 & 4.5 & 328.66 & 175.46 & AZ\\\\\n",
       "\t6 &  6 & 21 & 40931 & 3.1 & 205.28 & 175.46 & FL\\\\\n",
       "\t7 &  7 & 11 & 34762 & 0.7 &  49.17 & 145.20 & LA\\\\\n",
       "\t8 &  8 &  5 & 11051 & 2.9 & 208.80 & 270.04 & GA\\\\\n",
       "\t9 &  9 &  8 &  7003 & 3.4 & 212.06 & 119.66 & WA\\\\\n",
       "\t10 & 10 &  1 &    11 & 0.7 &  44.43 &   0.00 & PA\\\\\n",
       "\\end{tabular}\n"
      ],
      "text/markdown": [
       "\n",
       "A data.frame: 10 × 7\n",
       "\n",
       "| <!--/--> | Vehicle &lt;int&gt; | fm &lt;dbl&gt; | Mileage &lt;dbl&gt; | lh &lt;dbl&gt; | lc &lt;dbl&gt; | mc &lt;dbl&gt; | State &lt;chr&gt; |\n",
       "|---|---|---|---|---|---|---|---|\n",
       "| 1 |  1 |  0 |   863 | 1.1 |  66.30 | 697.23 | MS |\n",
       "| 2 |  2 | 10 |  4644 | 2.4 | 233.03 | 119.66 | CA |\n",
       "| 3 |  3 | 15 | 16330 | 4.2 | 325.08 | 175.46 | WI |\n",
       "| 4 |  4 |  0 |    13 | 1.0 |  66.64 |   0.00 | OR |\n",
       "| 5 |  5 | 13 | 22537 | 4.5 | 328.66 | 175.46 | AZ |\n",
       "| 6 |  6 | 21 | 40931 | 3.1 | 205.28 | 175.46 | FL |\n",
       "| 7 |  7 | 11 | 34762 | 0.7 |  49.17 | 145.20 | LA |\n",
       "| 8 |  8 |  5 | 11051 | 2.9 | 208.80 | 270.04 | GA |\n",
       "| 9 |  9 |  8 |  7003 | 3.4 | 212.06 | 119.66 | WA |\n",
       "| 10 | 10 |  1 |    11 | 0.7 |  44.43 |   0.00 | PA |\n",
       "\n"
      ],
      "text/plain": [
       "   Vehicle fm Mileage lh  lc     mc     State\n",
       "1   1       0   863   1.1  66.30 697.23 MS   \n",
       "2   2      10  4644   2.4 233.03 119.66 CA   \n",
       "3   3      15 16330   4.2 325.08 175.46 WI   \n",
       "4   4       0    13   1.0  66.64   0.00 OR   \n",
       "5   5      13 22537   4.5 328.66 175.46 AZ   \n",
       "6   6      21 40931   3.1 205.28 175.46 FL   \n",
       "7   7      11 34762   0.7  49.17 145.20 LA   \n",
       "8   8       5 11051   2.9 208.80 270.04 GA   \n",
       "9   9       8  7003   3.4 212.06 119.66 WA   \n",
       "10 10       1    11   0.7  44.43   0.00 PA   "
      ]
     },
     "metadata": {},
     "output_type": "display_data"
    }
   ],
   "source": [
    "#\n",
    "\n",
    "data2 = data %>% \n",
    "          select(-starts_with(\"user.\"), -starts_with(\"milestone.\"), \n",
    "         -starts_with(\"pull_\"), -ends_with(\"url\"))\n",
    "\n",
    "head(data2,10)"
   ]
  },
  {
   "cell_type": "code",
   "execution_count": 46,
   "id": "984fbf38",
   "metadata": {},
   "outputs": [
    {
     "data": {
      "text/html": [
       "<table class=\"dataframe\">\n",
       "<caption>A data.frame: 10 × 7</caption>\n",
       "<thead>\n",
       "\t<tr><th></th><th scope=col>Vehicle</th><th scope=col>fm</th><th scope=col>Mileage</th><th scope=col>lh</th><th scope=col>lc</th><th scope=col>mc</th><th scope=col>State</th></tr>\n",
       "\t<tr><th></th><th scope=col>&lt;int&gt;</th><th scope=col>&lt;dbl&gt;</th><th scope=col>&lt;dbl&gt;</th><th scope=col>&lt;dbl&gt;</th><th scope=col>&lt;dbl&gt;</th><th scope=col>&lt;dbl&gt;</th><th scope=col>&lt;chr&gt;</th></tr>\n",
       "</thead>\n",
       "<tbody>\n",
       "\t<tr><th scope=row>1</th><td> 1</td><td> 0</td><td>  863</td><td>1.1</td><td> 66.30</td><td>697.23</td><td>MS</td></tr>\n",
       "\t<tr><th scope=row>2</th><td> 2</td><td>10</td><td> 4644</td><td>2.4</td><td>233.03</td><td>119.66</td><td>CA</td></tr>\n",
       "\t<tr><th scope=row>3</th><td> 3</td><td>15</td><td>16330</td><td>4.2</td><td>325.08</td><td>175.46</td><td>WI</td></tr>\n",
       "\t<tr><th scope=row>4</th><td> 4</td><td> 0</td><td>   13</td><td>1.0</td><td> 66.64</td><td>  0.00</td><td>OR</td></tr>\n",
       "\t<tr><th scope=row>5</th><td> 5</td><td>13</td><td>22537</td><td>4.5</td><td>328.66</td><td>175.46</td><td>AZ</td></tr>\n",
       "\t<tr><th scope=row>6</th><td> 6</td><td>21</td><td>40931</td><td>3.1</td><td>205.28</td><td>175.46</td><td>FL</td></tr>\n",
       "\t<tr><th scope=row>7</th><td> 7</td><td>11</td><td>34762</td><td>0.7</td><td> 49.17</td><td>145.20</td><td>LA</td></tr>\n",
       "\t<tr><th scope=row>8</th><td> 8</td><td> 5</td><td>11051</td><td>2.9</td><td>208.80</td><td>270.04</td><td>GA</td></tr>\n",
       "\t<tr><th scope=row>9</th><td> 9</td><td> 8</td><td> 7003</td><td>3.4</td><td>212.06</td><td>119.66</td><td>WA</td></tr>\n",
       "\t<tr><th scope=row>10</th><td>10</td><td> 1</td><td>   11</td><td>0.7</td><td> 44.43</td><td>  0.00</td><td>PA</td></tr>\n",
       "</tbody>\n",
       "</table>\n"
      ],
      "text/latex": [
       "A data.frame: 10 × 7\n",
       "\\begin{tabular}{r|lllllll}\n",
       "  & Vehicle & fm & Mileage & lh & lc & mc & State\\\\\n",
       "  & <int> & <dbl> & <dbl> & <dbl> & <dbl> & <dbl> & <chr>\\\\\n",
       "\\hline\n",
       "\t1 &  1 &  0 &   863 & 1.1 &  66.30 & 697.23 & MS\\\\\n",
       "\t2 &  2 & 10 &  4644 & 2.4 & 233.03 & 119.66 & CA\\\\\n",
       "\t3 &  3 & 15 & 16330 & 4.2 & 325.08 & 175.46 & WI\\\\\n",
       "\t4 &  4 &  0 &    13 & 1.0 &  66.64 &   0.00 & OR\\\\\n",
       "\t5 &  5 & 13 & 22537 & 4.5 & 328.66 & 175.46 & AZ\\\\\n",
       "\t6 &  6 & 21 & 40931 & 3.1 & 205.28 & 175.46 & FL\\\\\n",
       "\t7 &  7 & 11 & 34762 & 0.7 &  49.17 & 145.20 & LA\\\\\n",
       "\t8 &  8 &  5 & 11051 & 2.9 & 208.80 & 270.04 & GA\\\\\n",
       "\t9 &  9 &  8 &  7003 & 3.4 & 212.06 & 119.66 & WA\\\\\n",
       "\t10 & 10 &  1 &    11 & 0.7 &  44.43 &   0.00 & PA\\\\\n",
       "\\end{tabular}\n"
      ],
      "text/markdown": [
       "\n",
       "A data.frame: 10 × 7\n",
       "\n",
       "| <!--/--> | Vehicle &lt;int&gt; | fm &lt;dbl&gt; | Mileage &lt;dbl&gt; | lh &lt;dbl&gt; | lc &lt;dbl&gt; | mc &lt;dbl&gt; | State &lt;chr&gt; |\n",
       "|---|---|---|---|---|---|---|---|\n",
       "| 1 |  1 |  0 |   863 | 1.1 |  66.30 | 697.23 | MS |\n",
       "| 2 |  2 | 10 |  4644 | 2.4 | 233.03 | 119.66 | CA |\n",
       "| 3 |  3 | 15 | 16330 | 4.2 | 325.08 | 175.46 | WI |\n",
       "| 4 |  4 |  0 |    13 | 1.0 |  66.64 |   0.00 | OR |\n",
       "| 5 |  5 | 13 | 22537 | 4.5 | 328.66 | 175.46 | AZ |\n",
       "| 6 |  6 | 21 | 40931 | 3.1 | 205.28 | 175.46 | FL |\n",
       "| 7 |  7 | 11 | 34762 | 0.7 |  49.17 | 145.20 | LA |\n",
       "| 8 |  8 |  5 | 11051 | 2.9 | 208.80 | 270.04 | GA |\n",
       "| 9 |  9 |  8 |  7003 | 3.4 | 212.06 | 119.66 | WA |\n",
       "| 10 | 10 |  1 |    11 | 0.7 |  44.43 |   0.00 | PA |\n",
       "\n"
      ],
      "text/plain": [
       "   Vehicle fm Mileage lh  lc     mc     State\n",
       "1   1       0   863   1.1  66.30 697.23 MS   \n",
       "2   2      10  4644   2.4 233.03 119.66 CA   \n",
       "3   3      15 16330   4.2 325.08 175.46 WI   \n",
       "4   4       0    13   1.0  66.64   0.00 OR   \n",
       "5   5      13 22537   4.5 328.66 175.46 AZ   \n",
       "6   6      21 40931   3.1 205.28 175.46 FL   \n",
       "7   7      11 34762   0.7  49.17 145.20 LA   \n",
       "8   8       5 11051   2.9 208.80 270.04 GA   \n",
       "9   9       8  7003   3.4 212.06 119.66 WA   \n",
       "10 10       1    11   0.7  44.43   0.00 PA   "
      ]
     },
     "metadata": {},
     "output_type": "display_data"
    }
   ],
   "source": [
    "# Filter dataframe if the column type is numneric\n",
    "dats2 <- data %>% \n",
    "    select_if(is.numeric)\n",
    "\n",
    "head(data2,10)"
   ]
  },
  {
   "cell_type": "code",
   "execution_count": null,
   "id": "f8e280dc",
   "metadata": {},
   "outputs": [],
   "source": []
  }
 ],
 "metadata": {
  "kernelspec": {
   "display_name": "R",
   "language": "R",
   "name": "ir"
  },
  "language_info": {
   "codemirror_mode": "r",
   "file_extension": ".r",
   "mimetype": "text/x-r-source",
   "name": "R",
   "pygments_lexer": "r",
   "version": "4.2.1"
  }
 },
 "nbformat": 4,
 "nbformat_minor": 5
}
