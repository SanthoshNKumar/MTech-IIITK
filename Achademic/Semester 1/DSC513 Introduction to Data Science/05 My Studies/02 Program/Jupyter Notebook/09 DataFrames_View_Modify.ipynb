{
 "cells": [
  {
   "cell_type": "markdown",
   "id": "6bc4805b",
   "metadata": {},
   "source": [
    "# Create Dataframe"
   ]
  },
  {
   "cell_type": "code",
   "execution_count": 26,
   "id": "ee679932",
   "metadata": {},
   "outputs": [],
   "source": [
    "df = read.csv(\"sampledata//heart.csv\")"
   ]
  },
  {
   "cell_type": "code",
   "execution_count": 27,
   "id": "78bfc883",
   "metadata": {},
   "outputs": [
    {
     "data": {
      "text/html": [
       "<table class=\"dataframe\">\n",
       "<caption>A data.frame: 6 × 14</caption>\n",
       "<thead>\n",
       "\t<tr><th></th><th scope=col>age</th><th scope=col>sex</th><th scope=col>cp</th><th scope=col>trestbps</th><th scope=col>chol</th><th scope=col>fbs</th><th scope=col>restecg</th><th scope=col>thalach</th><th scope=col>exang</th><th scope=col>oldpeak</th><th scope=col>slope</th><th scope=col>ca</th><th scope=col>thal</th><th scope=col>target</th></tr>\n",
       "\t<tr><th></th><th scope=col>&lt;int&gt;</th><th scope=col>&lt;int&gt;</th><th scope=col>&lt;int&gt;</th><th scope=col>&lt;int&gt;</th><th scope=col>&lt;int&gt;</th><th scope=col>&lt;int&gt;</th><th scope=col>&lt;int&gt;</th><th scope=col>&lt;int&gt;</th><th scope=col>&lt;int&gt;</th><th scope=col>&lt;dbl&gt;</th><th scope=col>&lt;int&gt;</th><th scope=col>&lt;int&gt;</th><th scope=col>&lt;int&gt;</th><th scope=col>&lt;int&gt;</th></tr>\n",
       "</thead>\n",
       "<tbody>\n",
       "\t<tr><th scope=row>1</th><td>52</td><td>1</td><td>0</td><td>125</td><td>212</td><td>0</td><td>1</td><td>168</td><td>0</td><td>1.0</td><td>2</td><td>2</td><td>3</td><td>0</td></tr>\n",
       "\t<tr><th scope=row>2</th><td>53</td><td>1</td><td>0</td><td>140</td><td>203</td><td>1</td><td>0</td><td>155</td><td>1</td><td>3.1</td><td>0</td><td>0</td><td>3</td><td>0</td></tr>\n",
       "\t<tr><th scope=row>3</th><td>70</td><td>1</td><td>0</td><td>145</td><td>174</td><td>0</td><td>1</td><td>125</td><td>1</td><td>2.6</td><td>0</td><td>0</td><td>3</td><td>0</td></tr>\n",
       "\t<tr><th scope=row>4</th><td>61</td><td>1</td><td>0</td><td>148</td><td>203</td><td>0</td><td>1</td><td>161</td><td>0</td><td>0.0</td><td>2</td><td>1</td><td>3</td><td>0</td></tr>\n",
       "\t<tr><th scope=row>5</th><td>62</td><td>0</td><td>0</td><td>138</td><td>294</td><td>1</td><td>1</td><td>106</td><td>0</td><td>1.9</td><td>1</td><td>3</td><td>2</td><td>0</td></tr>\n",
       "\t<tr><th scope=row>6</th><td>58</td><td>0</td><td>0</td><td>100</td><td>248</td><td>0</td><td>0</td><td>122</td><td>0</td><td>1.0</td><td>1</td><td>0</td><td>2</td><td>1</td></tr>\n",
       "</tbody>\n",
       "</table>\n"
      ],
      "text/latex": [
       "A data.frame: 6 × 14\n",
       "\\begin{tabular}{r|llllllllllllll}\n",
       "  & age & sex & cp & trestbps & chol & fbs & restecg & thalach & exang & oldpeak & slope & ca & thal & target\\\\\n",
       "  & <int> & <int> & <int> & <int> & <int> & <int> & <int> & <int> & <int> & <dbl> & <int> & <int> & <int> & <int>\\\\\n",
       "\\hline\n",
       "\t1 & 52 & 1 & 0 & 125 & 212 & 0 & 1 & 168 & 0 & 1.0 & 2 & 2 & 3 & 0\\\\\n",
       "\t2 & 53 & 1 & 0 & 140 & 203 & 1 & 0 & 155 & 1 & 3.1 & 0 & 0 & 3 & 0\\\\\n",
       "\t3 & 70 & 1 & 0 & 145 & 174 & 0 & 1 & 125 & 1 & 2.6 & 0 & 0 & 3 & 0\\\\\n",
       "\t4 & 61 & 1 & 0 & 148 & 203 & 0 & 1 & 161 & 0 & 0.0 & 2 & 1 & 3 & 0\\\\\n",
       "\t5 & 62 & 0 & 0 & 138 & 294 & 1 & 1 & 106 & 0 & 1.9 & 1 & 3 & 2 & 0\\\\\n",
       "\t6 & 58 & 0 & 0 & 100 & 248 & 0 & 0 & 122 & 0 & 1.0 & 1 & 0 & 2 & 1\\\\\n",
       "\\end{tabular}\n"
      ],
      "text/markdown": [
       "\n",
       "A data.frame: 6 × 14\n",
       "\n",
       "| <!--/--> | age &lt;int&gt; | sex &lt;int&gt; | cp &lt;int&gt; | trestbps &lt;int&gt; | chol &lt;int&gt; | fbs &lt;int&gt; | restecg &lt;int&gt; | thalach &lt;int&gt; | exang &lt;int&gt; | oldpeak &lt;dbl&gt; | slope &lt;int&gt; | ca &lt;int&gt; | thal &lt;int&gt; | target &lt;int&gt; |\n",
       "|---|---|---|---|---|---|---|---|---|---|---|---|---|---|---|\n",
       "| 1 | 52 | 1 | 0 | 125 | 212 | 0 | 1 | 168 | 0 | 1.0 | 2 | 2 | 3 | 0 |\n",
       "| 2 | 53 | 1 | 0 | 140 | 203 | 1 | 0 | 155 | 1 | 3.1 | 0 | 0 | 3 | 0 |\n",
       "| 3 | 70 | 1 | 0 | 145 | 174 | 0 | 1 | 125 | 1 | 2.6 | 0 | 0 | 3 | 0 |\n",
       "| 4 | 61 | 1 | 0 | 148 | 203 | 0 | 1 | 161 | 0 | 0.0 | 2 | 1 | 3 | 0 |\n",
       "| 5 | 62 | 0 | 0 | 138 | 294 | 1 | 1 | 106 | 0 | 1.9 | 1 | 3 | 2 | 0 |\n",
       "| 6 | 58 | 0 | 0 | 100 | 248 | 0 | 0 | 122 | 0 | 1.0 | 1 | 0 | 2 | 1 |\n",
       "\n"
      ],
      "text/plain": [
       "  age sex cp trestbps chol fbs restecg thalach exang oldpeak slope ca thal\n",
       "1 52  1   0  125      212  0   1       168     0     1.0     2     2  3   \n",
       "2 53  1   0  140      203  1   0       155     1     3.1     0     0  3   \n",
       "3 70  1   0  145      174  0   1       125     1     2.6     0     0  3   \n",
       "4 61  1   0  148      203  0   1       161     0     0.0     2     1  3   \n",
       "5 62  0   0  138      294  1   1       106     0     1.9     1     3  2   \n",
       "6 58  0   0  100      248  0   0       122     0     1.0     1     0  2   \n",
       "  target\n",
       "1 0     \n",
       "2 0     \n",
       "3 0     \n",
       "4 0     \n",
       "5 0     \n",
       "6 1     "
      ]
     },
     "metadata": {},
     "output_type": "display_data"
    }
   ],
   "source": [
    "head(df)"
   ]
  },
  {
   "cell_type": "code",
   "execution_count": 28,
   "id": "c30f556e",
   "metadata": {},
   "outputs": [
    {
     "data": {
      "text/html": [
       "<table class=\"dataframe\">\n",
       "<caption>A data.frame: 3 × 14</caption>\n",
       "<thead>\n",
       "\t<tr><th></th><th scope=col>age</th><th scope=col>sex</th><th scope=col>cp</th><th scope=col>trestbps</th><th scope=col>chol</th><th scope=col>fbs</th><th scope=col>restecg</th><th scope=col>thalach</th><th scope=col>exang</th><th scope=col>oldpeak</th><th scope=col>slope</th><th scope=col>ca</th><th scope=col>thal</th><th scope=col>target</th></tr>\n",
       "\t<tr><th></th><th scope=col>&lt;int&gt;</th><th scope=col>&lt;int&gt;</th><th scope=col>&lt;int&gt;</th><th scope=col>&lt;int&gt;</th><th scope=col>&lt;int&gt;</th><th scope=col>&lt;int&gt;</th><th scope=col>&lt;int&gt;</th><th scope=col>&lt;int&gt;</th><th scope=col>&lt;int&gt;</th><th scope=col>&lt;dbl&gt;</th><th scope=col>&lt;int&gt;</th><th scope=col>&lt;int&gt;</th><th scope=col>&lt;int&gt;</th><th scope=col>&lt;int&gt;</th></tr>\n",
       "</thead>\n",
       "<tbody>\n",
       "\t<tr><th scope=row>1</th><td>52</td><td>1</td><td>0</td><td>125</td><td>212</td><td>0</td><td>1</td><td>168</td><td>0</td><td>1.0</td><td>2</td><td>2</td><td>3</td><td>0</td></tr>\n",
       "\t<tr><th scope=row>2</th><td>53</td><td>1</td><td>0</td><td>140</td><td>203</td><td>1</td><td>0</td><td>155</td><td>1</td><td>3.1</td><td>0</td><td>0</td><td>3</td><td>0</td></tr>\n",
       "\t<tr><th scope=row>3</th><td>70</td><td>1</td><td>0</td><td>145</td><td>174</td><td>0</td><td>1</td><td>125</td><td>1</td><td>2.6</td><td>0</td><td>0</td><td>3</td><td>0</td></tr>\n",
       "</tbody>\n",
       "</table>\n"
      ],
      "text/latex": [
       "A data.frame: 3 × 14\n",
       "\\begin{tabular}{r|llllllllllllll}\n",
       "  & age & sex & cp & trestbps & chol & fbs & restecg & thalach & exang & oldpeak & slope & ca & thal & target\\\\\n",
       "  & <int> & <int> & <int> & <int> & <int> & <int> & <int> & <int> & <int> & <dbl> & <int> & <int> & <int> & <int>\\\\\n",
       "\\hline\n",
       "\t1 & 52 & 1 & 0 & 125 & 212 & 0 & 1 & 168 & 0 & 1.0 & 2 & 2 & 3 & 0\\\\\n",
       "\t2 & 53 & 1 & 0 & 140 & 203 & 1 & 0 & 155 & 1 & 3.1 & 0 & 0 & 3 & 0\\\\\n",
       "\t3 & 70 & 1 & 0 & 145 & 174 & 0 & 1 & 125 & 1 & 2.6 & 0 & 0 & 3 & 0\\\\\n",
       "\\end{tabular}\n"
      ],
      "text/markdown": [
       "\n",
       "A data.frame: 3 × 14\n",
       "\n",
       "| <!--/--> | age &lt;int&gt; | sex &lt;int&gt; | cp &lt;int&gt; | trestbps &lt;int&gt; | chol &lt;int&gt; | fbs &lt;int&gt; | restecg &lt;int&gt; | thalach &lt;int&gt; | exang &lt;int&gt; | oldpeak &lt;dbl&gt; | slope &lt;int&gt; | ca &lt;int&gt; | thal &lt;int&gt; | target &lt;int&gt; |\n",
       "|---|---|---|---|---|---|---|---|---|---|---|---|---|---|---|\n",
       "| 1 | 52 | 1 | 0 | 125 | 212 | 0 | 1 | 168 | 0 | 1.0 | 2 | 2 | 3 | 0 |\n",
       "| 2 | 53 | 1 | 0 | 140 | 203 | 1 | 0 | 155 | 1 | 3.1 | 0 | 0 | 3 | 0 |\n",
       "| 3 | 70 | 1 | 0 | 145 | 174 | 0 | 1 | 125 | 1 | 2.6 | 0 | 0 | 3 | 0 |\n",
       "\n"
      ],
      "text/plain": [
       "  age sex cp trestbps chol fbs restecg thalach exang oldpeak slope ca thal\n",
       "1 52  1   0  125      212  0   1       168     0     1.0     2     2  3   \n",
       "2 53  1   0  140      203  1   0       155     1     3.1     0     0  3   \n",
       "3 70  1   0  145      174  0   1       125     1     2.6     0     0  3   \n",
       "  target\n",
       "1 0     \n",
       "2 0     \n",
       "3 0     "
      ]
     },
     "metadata": {},
     "output_type": "display_data"
    }
   ],
   "source": [
    "head(df,3)"
   ]
  },
  {
   "cell_type": "code",
   "execution_count": 29,
   "id": "fa6cf019",
   "metadata": {},
   "outputs": [
    {
     "data": {
      "text/html": [
       "<table class=\"dataframe\">\n",
       "<caption>A data.frame: 6 × 14</caption>\n",
       "<thead>\n",
       "\t<tr><th></th><th scope=col>age</th><th scope=col>sex</th><th scope=col>cp</th><th scope=col>trestbps</th><th scope=col>chol</th><th scope=col>fbs</th><th scope=col>restecg</th><th scope=col>thalach</th><th scope=col>exang</th><th scope=col>oldpeak</th><th scope=col>slope</th><th scope=col>ca</th><th scope=col>thal</th><th scope=col>target</th></tr>\n",
       "\t<tr><th></th><th scope=col>&lt;int&gt;</th><th scope=col>&lt;int&gt;</th><th scope=col>&lt;int&gt;</th><th scope=col>&lt;int&gt;</th><th scope=col>&lt;int&gt;</th><th scope=col>&lt;int&gt;</th><th scope=col>&lt;int&gt;</th><th scope=col>&lt;int&gt;</th><th scope=col>&lt;int&gt;</th><th scope=col>&lt;dbl&gt;</th><th scope=col>&lt;int&gt;</th><th scope=col>&lt;int&gt;</th><th scope=col>&lt;int&gt;</th><th scope=col>&lt;int&gt;</th></tr>\n",
       "</thead>\n",
       "<tbody>\n",
       "\t<tr><th scope=row>1020</th><td>47</td><td>1</td><td>0</td><td>112</td><td>204</td><td>0</td><td>1</td><td>143</td><td>0</td><td>0.1</td><td>2</td><td>0</td><td>2</td><td>1</td></tr>\n",
       "\t<tr><th scope=row>1021</th><td>59</td><td>1</td><td>1</td><td>140</td><td>221</td><td>0</td><td>1</td><td>164</td><td>1</td><td>0.0</td><td>2</td><td>0</td><td>2</td><td>1</td></tr>\n",
       "\t<tr><th scope=row>1022</th><td>60</td><td>1</td><td>0</td><td>125</td><td>258</td><td>0</td><td>0</td><td>141</td><td>1</td><td>2.8</td><td>1</td><td>1</td><td>3</td><td>0</td></tr>\n",
       "\t<tr><th scope=row>1023</th><td>47</td><td>1</td><td>0</td><td>110</td><td>275</td><td>0</td><td>0</td><td>118</td><td>1</td><td>1.0</td><td>1</td><td>1</td><td>2</td><td>0</td></tr>\n",
       "\t<tr><th scope=row>1024</th><td>50</td><td>0</td><td>0</td><td>110</td><td>254</td><td>0</td><td>0</td><td>159</td><td>0</td><td>0.0</td><td>2</td><td>0</td><td>2</td><td>1</td></tr>\n",
       "\t<tr><th scope=row>1025</th><td>54</td><td>1</td><td>0</td><td>120</td><td>188</td><td>0</td><td>1</td><td>113</td><td>0</td><td>1.4</td><td>1</td><td>1</td><td>3</td><td>0</td></tr>\n",
       "</tbody>\n",
       "</table>\n"
      ],
      "text/latex": [
       "A data.frame: 6 × 14\n",
       "\\begin{tabular}{r|llllllllllllll}\n",
       "  & age & sex & cp & trestbps & chol & fbs & restecg & thalach & exang & oldpeak & slope & ca & thal & target\\\\\n",
       "  & <int> & <int> & <int> & <int> & <int> & <int> & <int> & <int> & <int> & <dbl> & <int> & <int> & <int> & <int>\\\\\n",
       "\\hline\n",
       "\t1020 & 47 & 1 & 0 & 112 & 204 & 0 & 1 & 143 & 0 & 0.1 & 2 & 0 & 2 & 1\\\\\n",
       "\t1021 & 59 & 1 & 1 & 140 & 221 & 0 & 1 & 164 & 1 & 0.0 & 2 & 0 & 2 & 1\\\\\n",
       "\t1022 & 60 & 1 & 0 & 125 & 258 & 0 & 0 & 141 & 1 & 2.8 & 1 & 1 & 3 & 0\\\\\n",
       "\t1023 & 47 & 1 & 0 & 110 & 275 & 0 & 0 & 118 & 1 & 1.0 & 1 & 1 & 2 & 0\\\\\n",
       "\t1024 & 50 & 0 & 0 & 110 & 254 & 0 & 0 & 159 & 0 & 0.0 & 2 & 0 & 2 & 1\\\\\n",
       "\t1025 & 54 & 1 & 0 & 120 & 188 & 0 & 1 & 113 & 0 & 1.4 & 1 & 1 & 3 & 0\\\\\n",
       "\\end{tabular}\n"
      ],
      "text/markdown": [
       "\n",
       "A data.frame: 6 × 14\n",
       "\n",
       "| <!--/--> | age &lt;int&gt; | sex &lt;int&gt; | cp &lt;int&gt; | trestbps &lt;int&gt; | chol &lt;int&gt; | fbs &lt;int&gt; | restecg &lt;int&gt; | thalach &lt;int&gt; | exang &lt;int&gt; | oldpeak &lt;dbl&gt; | slope &lt;int&gt; | ca &lt;int&gt; | thal &lt;int&gt; | target &lt;int&gt; |\n",
       "|---|---|---|---|---|---|---|---|---|---|---|---|---|---|---|\n",
       "| 1020 | 47 | 1 | 0 | 112 | 204 | 0 | 1 | 143 | 0 | 0.1 | 2 | 0 | 2 | 1 |\n",
       "| 1021 | 59 | 1 | 1 | 140 | 221 | 0 | 1 | 164 | 1 | 0.0 | 2 | 0 | 2 | 1 |\n",
       "| 1022 | 60 | 1 | 0 | 125 | 258 | 0 | 0 | 141 | 1 | 2.8 | 1 | 1 | 3 | 0 |\n",
       "| 1023 | 47 | 1 | 0 | 110 | 275 | 0 | 0 | 118 | 1 | 1.0 | 1 | 1 | 2 | 0 |\n",
       "| 1024 | 50 | 0 | 0 | 110 | 254 | 0 | 0 | 159 | 0 | 0.0 | 2 | 0 | 2 | 1 |\n",
       "| 1025 | 54 | 1 | 0 | 120 | 188 | 0 | 1 | 113 | 0 | 1.4 | 1 | 1 | 3 | 0 |\n",
       "\n"
      ],
      "text/plain": [
       "     age sex cp trestbps chol fbs restecg thalach exang oldpeak slope ca thal\n",
       "1020 47  1   0  112      204  0   1       143     0     0.1     2     0  2   \n",
       "1021 59  1   1  140      221  0   1       164     1     0.0     2     0  2   \n",
       "1022 60  1   0  125      258  0   0       141     1     2.8     1     1  3   \n",
       "1023 47  1   0  110      275  0   0       118     1     1.0     1     1  2   \n",
       "1024 50  0   0  110      254  0   0       159     0     0.0     2     0  2   \n",
       "1025 54  1   0  120      188  0   1       113     0     1.4     1     1  3   \n",
       "     target\n",
       "1020 1     \n",
       "1021 1     \n",
       "1022 0     \n",
       "1023 0     \n",
       "1024 1     \n",
       "1025 0     "
      ]
     },
     "metadata": {},
     "output_type": "display_data"
    }
   ],
   "source": [
    "tail(df)"
   ]
  },
  {
   "cell_type": "code",
   "execution_count": 30,
   "id": "f043231e",
   "metadata": {},
   "outputs": [
    {
     "data": {
      "text/html": [
       "<table class=\"dataframe\">\n",
       "<caption>A data.frame: 3 × 14</caption>\n",
       "<thead>\n",
       "\t<tr><th></th><th scope=col>age</th><th scope=col>sex</th><th scope=col>cp</th><th scope=col>trestbps</th><th scope=col>chol</th><th scope=col>fbs</th><th scope=col>restecg</th><th scope=col>thalach</th><th scope=col>exang</th><th scope=col>oldpeak</th><th scope=col>slope</th><th scope=col>ca</th><th scope=col>thal</th><th scope=col>target</th></tr>\n",
       "\t<tr><th></th><th scope=col>&lt;int&gt;</th><th scope=col>&lt;int&gt;</th><th scope=col>&lt;int&gt;</th><th scope=col>&lt;int&gt;</th><th scope=col>&lt;int&gt;</th><th scope=col>&lt;int&gt;</th><th scope=col>&lt;int&gt;</th><th scope=col>&lt;int&gt;</th><th scope=col>&lt;int&gt;</th><th scope=col>&lt;dbl&gt;</th><th scope=col>&lt;int&gt;</th><th scope=col>&lt;int&gt;</th><th scope=col>&lt;int&gt;</th><th scope=col>&lt;int&gt;</th></tr>\n",
       "</thead>\n",
       "<tbody>\n",
       "\t<tr><th scope=row>1023</th><td>47</td><td>1</td><td>0</td><td>110</td><td>275</td><td>0</td><td>0</td><td>118</td><td>1</td><td>1.0</td><td>1</td><td>1</td><td>2</td><td>0</td></tr>\n",
       "\t<tr><th scope=row>1024</th><td>50</td><td>0</td><td>0</td><td>110</td><td>254</td><td>0</td><td>0</td><td>159</td><td>0</td><td>0.0</td><td>2</td><td>0</td><td>2</td><td>1</td></tr>\n",
       "\t<tr><th scope=row>1025</th><td>54</td><td>1</td><td>0</td><td>120</td><td>188</td><td>0</td><td>1</td><td>113</td><td>0</td><td>1.4</td><td>1</td><td>1</td><td>3</td><td>0</td></tr>\n",
       "</tbody>\n",
       "</table>\n"
      ],
      "text/latex": [
       "A data.frame: 3 × 14\n",
       "\\begin{tabular}{r|llllllllllllll}\n",
       "  & age & sex & cp & trestbps & chol & fbs & restecg & thalach & exang & oldpeak & slope & ca & thal & target\\\\\n",
       "  & <int> & <int> & <int> & <int> & <int> & <int> & <int> & <int> & <int> & <dbl> & <int> & <int> & <int> & <int>\\\\\n",
       "\\hline\n",
       "\t1023 & 47 & 1 & 0 & 110 & 275 & 0 & 0 & 118 & 1 & 1.0 & 1 & 1 & 2 & 0\\\\\n",
       "\t1024 & 50 & 0 & 0 & 110 & 254 & 0 & 0 & 159 & 0 & 0.0 & 2 & 0 & 2 & 1\\\\\n",
       "\t1025 & 54 & 1 & 0 & 120 & 188 & 0 & 1 & 113 & 0 & 1.4 & 1 & 1 & 3 & 0\\\\\n",
       "\\end{tabular}\n"
      ],
      "text/markdown": [
       "\n",
       "A data.frame: 3 × 14\n",
       "\n",
       "| <!--/--> | age &lt;int&gt; | sex &lt;int&gt; | cp &lt;int&gt; | trestbps &lt;int&gt; | chol &lt;int&gt; | fbs &lt;int&gt; | restecg &lt;int&gt; | thalach &lt;int&gt; | exang &lt;int&gt; | oldpeak &lt;dbl&gt; | slope &lt;int&gt; | ca &lt;int&gt; | thal &lt;int&gt; | target &lt;int&gt; |\n",
       "|---|---|---|---|---|---|---|---|---|---|---|---|---|---|---|\n",
       "| 1023 | 47 | 1 | 0 | 110 | 275 | 0 | 0 | 118 | 1 | 1.0 | 1 | 1 | 2 | 0 |\n",
       "| 1024 | 50 | 0 | 0 | 110 | 254 | 0 | 0 | 159 | 0 | 0.0 | 2 | 0 | 2 | 1 |\n",
       "| 1025 | 54 | 1 | 0 | 120 | 188 | 0 | 1 | 113 | 0 | 1.4 | 1 | 1 | 3 | 0 |\n",
       "\n"
      ],
      "text/plain": [
       "     age sex cp trestbps chol fbs restecg thalach exang oldpeak slope ca thal\n",
       "1023 47  1   0  110      275  0   0       118     1     1.0     1     1  2   \n",
       "1024 50  0   0  110      254  0   0       159     0     0.0     2     0  2   \n",
       "1025 54  1   0  120      188  0   1       113     0     1.4     1     1  3   \n",
       "     target\n",
       "1023 0     \n",
       "1024 1     \n",
       "1025 0     "
      ]
     },
     "metadata": {},
     "output_type": "display_data"
    }
   ],
   "source": [
    "tail(df,3)"
   ]
  },
  {
   "cell_type": "code",
   "execution_count": 31,
   "id": "c199d1a1",
   "metadata": {},
   "outputs": [
    {
     "data": {
      "text/html": [
       "<table class=\"dataframe\">\n",
       "<caption>A data.frame: 1025 × 14</caption>\n",
       "<thead>\n",
       "\t<tr><th scope=col>age</th><th scope=col>sex</th><th scope=col>cp</th><th scope=col>trestbps</th><th scope=col>chol</th><th scope=col>fbs</th><th scope=col>restecg</th><th scope=col>thalach</th><th scope=col>exang</th><th scope=col>oldpeak</th><th scope=col>slope</th><th scope=col>ca</th><th scope=col>thal</th><th scope=col>target</th></tr>\n",
       "\t<tr><th scope=col>&lt;int&gt;</th><th scope=col>&lt;int&gt;</th><th scope=col>&lt;int&gt;</th><th scope=col>&lt;int&gt;</th><th scope=col>&lt;int&gt;</th><th scope=col>&lt;int&gt;</th><th scope=col>&lt;int&gt;</th><th scope=col>&lt;int&gt;</th><th scope=col>&lt;int&gt;</th><th scope=col>&lt;dbl&gt;</th><th scope=col>&lt;int&gt;</th><th scope=col>&lt;int&gt;</th><th scope=col>&lt;int&gt;</th><th scope=col>&lt;int&gt;</th></tr>\n",
       "</thead>\n",
       "<tbody>\n",
       "\t<tr><td>52</td><td>1</td><td>0</td><td>125</td><td>212</td><td>0</td><td>1</td><td>168</td><td>0</td><td>1.0</td><td>2</td><td>2</td><td>3</td><td>0</td></tr>\n",
       "\t<tr><td>53</td><td>1</td><td>0</td><td>140</td><td>203</td><td>1</td><td>0</td><td>155</td><td>1</td><td>3.1</td><td>0</td><td>0</td><td>3</td><td>0</td></tr>\n",
       "\t<tr><td>70</td><td>1</td><td>0</td><td>145</td><td>174</td><td>0</td><td>1</td><td>125</td><td>1</td><td>2.6</td><td>0</td><td>0</td><td>3</td><td>0</td></tr>\n",
       "\t<tr><td>61</td><td>1</td><td>0</td><td>148</td><td>203</td><td>0</td><td>1</td><td>161</td><td>0</td><td>0.0</td><td>2</td><td>1</td><td>3</td><td>0</td></tr>\n",
       "\t<tr><td>62</td><td>0</td><td>0</td><td>138</td><td>294</td><td>1</td><td>1</td><td>106</td><td>0</td><td>1.9</td><td>1</td><td>3</td><td>2</td><td>0</td></tr>\n",
       "\t<tr><td>58</td><td>0</td><td>0</td><td>100</td><td>248</td><td>0</td><td>0</td><td>122</td><td>0</td><td>1.0</td><td>1</td><td>0</td><td>2</td><td>1</td></tr>\n",
       "\t<tr><td>58</td><td>1</td><td>0</td><td>114</td><td>318</td><td>0</td><td>2</td><td>140</td><td>0</td><td>4.4</td><td>0</td><td>3</td><td>1</td><td>0</td></tr>\n",
       "\t<tr><td>55</td><td>1</td><td>0</td><td>160</td><td>289</td><td>0</td><td>0</td><td>145</td><td>1</td><td>0.8</td><td>1</td><td>1</td><td>3</td><td>0</td></tr>\n",
       "\t<tr><td>46</td><td>1</td><td>0</td><td>120</td><td>249</td><td>0</td><td>0</td><td>144</td><td>0</td><td>0.8</td><td>2</td><td>0</td><td>3</td><td>0</td></tr>\n",
       "\t<tr><td>54</td><td>1</td><td>0</td><td>122</td><td>286</td><td>0</td><td>0</td><td>116</td><td>1</td><td>3.2</td><td>1</td><td>2</td><td>2</td><td>0</td></tr>\n",
       "\t<tr><td>71</td><td>0</td><td>0</td><td>112</td><td>149</td><td>0</td><td>1</td><td>125</td><td>0</td><td>1.6</td><td>1</td><td>0</td><td>2</td><td>1</td></tr>\n",
       "\t<tr><td>43</td><td>0</td><td>0</td><td>132</td><td>341</td><td>1</td><td>0</td><td>136</td><td>1</td><td>3.0</td><td>1</td><td>0</td><td>3</td><td>0</td></tr>\n",
       "\t<tr><td>34</td><td>0</td><td>1</td><td>118</td><td>210</td><td>0</td><td>1</td><td>192</td><td>0</td><td>0.7</td><td>2</td><td>0</td><td>2</td><td>1</td></tr>\n",
       "\t<tr><td>51</td><td>1</td><td>0</td><td>140</td><td>298</td><td>0</td><td>1</td><td>122</td><td>1</td><td>4.2</td><td>1</td><td>3</td><td>3</td><td>0</td></tr>\n",
       "\t<tr><td>52</td><td>1</td><td>0</td><td>128</td><td>204</td><td>1</td><td>1</td><td>156</td><td>1</td><td>1.0</td><td>1</td><td>0</td><td>0</td><td>0</td></tr>\n",
       "\t<tr><td>34</td><td>0</td><td>1</td><td>118</td><td>210</td><td>0</td><td>1</td><td>192</td><td>0</td><td>0.7</td><td>2</td><td>0</td><td>2</td><td>1</td></tr>\n",
       "\t<tr><td>51</td><td>0</td><td>2</td><td>140</td><td>308</td><td>0</td><td>0</td><td>142</td><td>0</td><td>1.5</td><td>2</td><td>1</td><td>2</td><td>1</td></tr>\n",
       "\t<tr><td>54</td><td>1</td><td>0</td><td>124</td><td>266</td><td>0</td><td>0</td><td>109</td><td>1</td><td>2.2</td><td>1</td><td>1</td><td>3</td><td>0</td></tr>\n",
       "\t<tr><td>50</td><td>0</td><td>1</td><td>120</td><td>244</td><td>0</td><td>1</td><td>162</td><td>0</td><td>1.1</td><td>2</td><td>0</td><td>2</td><td>1</td></tr>\n",
       "\t<tr><td>58</td><td>1</td><td>2</td><td>140</td><td>211</td><td>1</td><td>0</td><td>165</td><td>0</td><td>0.0</td><td>2</td><td>0</td><td>2</td><td>1</td></tr>\n",
       "\t<tr><td>60</td><td>1</td><td>2</td><td>140</td><td>185</td><td>0</td><td>0</td><td>155</td><td>0</td><td>3.0</td><td>1</td><td>0</td><td>2</td><td>0</td></tr>\n",
       "\t<tr><td>67</td><td>0</td><td>0</td><td>106</td><td>223</td><td>0</td><td>1</td><td>142</td><td>0</td><td>0.3</td><td>2</td><td>2</td><td>2</td><td>1</td></tr>\n",
       "\t<tr><td>45</td><td>1</td><td>0</td><td>104</td><td>208</td><td>0</td><td>0</td><td>148</td><td>1</td><td>3.0</td><td>1</td><td>0</td><td>2</td><td>1</td></tr>\n",
       "\t<tr><td>63</td><td>0</td><td>2</td><td>135</td><td>252</td><td>0</td><td>0</td><td>172</td><td>0</td><td>0.0</td><td>2</td><td>0</td><td>2</td><td>1</td></tr>\n",
       "\t<tr><td>42</td><td>0</td><td>2</td><td>120</td><td>209</td><td>0</td><td>1</td><td>173</td><td>0</td><td>0.0</td><td>1</td><td>0</td><td>2</td><td>1</td></tr>\n",
       "\t<tr><td>61</td><td>0</td><td>0</td><td>145</td><td>307</td><td>0</td><td>0</td><td>146</td><td>1</td><td>1.0</td><td>1</td><td>0</td><td>3</td><td>0</td></tr>\n",
       "\t<tr><td>44</td><td>1</td><td>2</td><td>130</td><td>233</td><td>0</td><td>1</td><td>179</td><td>1</td><td>0.4</td><td>2</td><td>0</td><td>2</td><td>1</td></tr>\n",
       "\t<tr><td>58</td><td>0</td><td>1</td><td>136</td><td>319</td><td>1</td><td>0</td><td>152</td><td>0</td><td>0.0</td><td>2</td><td>2</td><td>2</td><td>0</td></tr>\n",
       "\t<tr><td>56</td><td>1</td><td>2</td><td>130</td><td>256</td><td>1</td><td>0</td><td>142</td><td>1</td><td>0.6</td><td>1</td><td>1</td><td>1</td><td>0</td></tr>\n",
       "\t<tr><td>55</td><td>0</td><td>0</td><td>180</td><td>327</td><td>0</td><td>2</td><td>117</td><td>1</td><td>3.4</td><td>1</td><td>0</td><td>2</td><td>0</td></tr>\n",
       "\t<tr><td>⋮</td><td>⋮</td><td>⋮</td><td>⋮</td><td>⋮</td><td>⋮</td><td>⋮</td><td>⋮</td><td>⋮</td><td>⋮</td><td>⋮</td><td>⋮</td><td>⋮</td><td>⋮</td></tr>\n",
       "\t<tr><td>44</td><td>1</td><td>1</td><td>120</td><td>263</td><td>0</td><td>1</td><td>173</td><td>0</td><td>0.0</td><td>2</td><td>0</td><td>3</td><td>1</td></tr>\n",
       "\t<tr><td>56</td><td>0</td><td>0</td><td>134</td><td>409</td><td>0</td><td>0</td><td>150</td><td>1</td><td>1.9</td><td>1</td><td>2</td><td>3</td><td>0</td></tr>\n",
       "\t<tr><td>54</td><td>1</td><td>0</td><td>120</td><td>188</td><td>0</td><td>1</td><td>113</td><td>0</td><td>1.4</td><td>1</td><td>1</td><td>3</td><td>0</td></tr>\n",
       "\t<tr><td>42</td><td>1</td><td>0</td><td>136</td><td>315</td><td>0</td><td>1</td><td>125</td><td>1</td><td>1.8</td><td>1</td><td>0</td><td>1</td><td>0</td></tr>\n",
       "\t<tr><td>67</td><td>1</td><td>0</td><td>125</td><td>254</td><td>1</td><td>1</td><td>163</td><td>0</td><td>0.2</td><td>1</td><td>2</td><td>3</td><td>0</td></tr>\n",
       "\t<tr><td>64</td><td>1</td><td>0</td><td>145</td><td>212</td><td>0</td><td>0</td><td>132</td><td>0</td><td>2.0</td><td>1</td><td>2</td><td>1</td><td>0</td></tr>\n",
       "\t<tr><td>42</td><td>1</td><td>0</td><td>140</td><td>226</td><td>0</td><td>1</td><td>178</td><td>0</td><td>0.0</td><td>2</td><td>0</td><td>2</td><td>1</td></tr>\n",
       "\t<tr><td>66</td><td>1</td><td>0</td><td>112</td><td>212</td><td>0</td><td>0</td><td>132</td><td>1</td><td>0.1</td><td>2</td><td>1</td><td>2</td><td>0</td></tr>\n",
       "\t<tr><td>52</td><td>1</td><td>0</td><td>108</td><td>233</td><td>1</td><td>1</td><td>147</td><td>0</td><td>0.1</td><td>2</td><td>3</td><td>3</td><td>1</td></tr>\n",
       "\t<tr><td>51</td><td>0</td><td>2</td><td>140</td><td>308</td><td>0</td><td>0</td><td>142</td><td>0</td><td>1.5</td><td>2</td><td>1</td><td>2</td><td>1</td></tr>\n",
       "\t<tr><td>55</td><td>0</td><td>0</td><td>128</td><td>205</td><td>0</td><td>2</td><td>130</td><td>1</td><td>2.0</td><td>1</td><td>1</td><td>3</td><td>0</td></tr>\n",
       "\t<tr><td>58</td><td>1</td><td>2</td><td>140</td><td>211</td><td>1</td><td>0</td><td>165</td><td>0</td><td>0.0</td><td>2</td><td>0</td><td>2</td><td>1</td></tr>\n",
       "\t<tr><td>56</td><td>1</td><td>3</td><td>120</td><td>193</td><td>0</td><td>0</td><td>162</td><td>0</td><td>1.9</td><td>1</td><td>0</td><td>3</td><td>1</td></tr>\n",
       "\t<tr><td>42</td><td>1</td><td>1</td><td>120</td><td>295</td><td>0</td><td>1</td><td>162</td><td>0</td><td>0.0</td><td>2</td><td>0</td><td>2</td><td>1</td></tr>\n",
       "\t<tr><td>40</td><td>1</td><td>0</td><td>152</td><td>223</td><td>0</td><td>1</td><td>181</td><td>0</td><td>0.0</td><td>2</td><td>0</td><td>3</td><td>0</td></tr>\n",
       "\t<tr><td>51</td><td>1</td><td>0</td><td>140</td><td>299</td><td>0</td><td>1</td><td>173</td><td>1</td><td>1.6</td><td>2</td><td>0</td><td>3</td><td>0</td></tr>\n",
       "\t<tr><td>45</td><td>1</td><td>1</td><td>128</td><td>308</td><td>0</td><td>0</td><td>170</td><td>0</td><td>0.0</td><td>2</td><td>0</td><td>2</td><td>1</td></tr>\n",
       "\t<tr><td>48</td><td>1</td><td>1</td><td>110</td><td>229</td><td>0</td><td>1</td><td>168</td><td>0</td><td>1.0</td><td>0</td><td>0</td><td>3</td><td>0</td></tr>\n",
       "\t<tr><td>58</td><td>1</td><td>0</td><td>114</td><td>318</td><td>0</td><td>2</td><td>140</td><td>0</td><td>4.4</td><td>0</td><td>3</td><td>1</td><td>0</td></tr>\n",
       "\t<tr><td>44</td><td>0</td><td>2</td><td>108</td><td>141</td><td>0</td><td>1</td><td>175</td><td>0</td><td>0.6</td><td>1</td><td>0</td><td>2</td><td>1</td></tr>\n",
       "\t<tr><td>58</td><td>1</td><td>0</td><td>128</td><td>216</td><td>0</td><td>0</td><td>131</td><td>1</td><td>2.2</td><td>1</td><td>3</td><td>3</td><td>0</td></tr>\n",
       "\t<tr><td>65</td><td>1</td><td>3</td><td>138</td><td>282</td><td>1</td><td>0</td><td>174</td><td>0</td><td>1.4</td><td>1</td><td>1</td><td>2</td><td>0</td></tr>\n",
       "\t<tr><td>53</td><td>1</td><td>0</td><td>123</td><td>282</td><td>0</td><td>1</td><td> 95</td><td>1</td><td>2.0</td><td>1</td><td>2</td><td>3</td><td>0</td></tr>\n",
       "\t<tr><td>41</td><td>1</td><td>0</td><td>110</td><td>172</td><td>0</td><td>0</td><td>158</td><td>0</td><td>0.0</td><td>2</td><td>0</td><td>3</td><td>0</td></tr>\n",
       "\t<tr><td>47</td><td>1</td><td>0</td><td>112</td><td>204</td><td>0</td><td>1</td><td>143</td><td>0</td><td>0.1</td><td>2</td><td>0</td><td>2</td><td>1</td></tr>\n",
       "\t<tr><td>59</td><td>1</td><td>1</td><td>140</td><td>221</td><td>0</td><td>1</td><td>164</td><td>1</td><td>0.0</td><td>2</td><td>0</td><td>2</td><td>1</td></tr>\n",
       "\t<tr><td>60</td><td>1</td><td>0</td><td>125</td><td>258</td><td>0</td><td>0</td><td>141</td><td>1</td><td>2.8</td><td>1</td><td>1</td><td>3</td><td>0</td></tr>\n",
       "\t<tr><td>47</td><td>1</td><td>0</td><td>110</td><td>275</td><td>0</td><td>0</td><td>118</td><td>1</td><td>1.0</td><td>1</td><td>1</td><td>2</td><td>0</td></tr>\n",
       "\t<tr><td>50</td><td>0</td><td>0</td><td>110</td><td>254</td><td>0</td><td>0</td><td>159</td><td>0</td><td>0.0</td><td>2</td><td>0</td><td>2</td><td>1</td></tr>\n",
       "\t<tr><td>54</td><td>1</td><td>0</td><td>120</td><td>188</td><td>0</td><td>1</td><td>113</td><td>0</td><td>1.4</td><td>1</td><td>1</td><td>3</td><td>0</td></tr>\n",
       "</tbody>\n",
       "</table>\n"
      ],
      "text/latex": [
       "A data.frame: 1025 × 14\n",
       "\\begin{tabular}{llllllllllllll}\n",
       " age & sex & cp & trestbps & chol & fbs & restecg & thalach & exang & oldpeak & slope & ca & thal & target\\\\\n",
       " <int> & <int> & <int> & <int> & <int> & <int> & <int> & <int> & <int> & <dbl> & <int> & <int> & <int> & <int>\\\\\n",
       "\\hline\n",
       "\t 52 & 1 & 0 & 125 & 212 & 0 & 1 & 168 & 0 & 1.0 & 2 & 2 & 3 & 0\\\\\n",
       "\t 53 & 1 & 0 & 140 & 203 & 1 & 0 & 155 & 1 & 3.1 & 0 & 0 & 3 & 0\\\\\n",
       "\t 70 & 1 & 0 & 145 & 174 & 0 & 1 & 125 & 1 & 2.6 & 0 & 0 & 3 & 0\\\\\n",
       "\t 61 & 1 & 0 & 148 & 203 & 0 & 1 & 161 & 0 & 0.0 & 2 & 1 & 3 & 0\\\\\n",
       "\t 62 & 0 & 0 & 138 & 294 & 1 & 1 & 106 & 0 & 1.9 & 1 & 3 & 2 & 0\\\\\n",
       "\t 58 & 0 & 0 & 100 & 248 & 0 & 0 & 122 & 0 & 1.0 & 1 & 0 & 2 & 1\\\\\n",
       "\t 58 & 1 & 0 & 114 & 318 & 0 & 2 & 140 & 0 & 4.4 & 0 & 3 & 1 & 0\\\\\n",
       "\t 55 & 1 & 0 & 160 & 289 & 0 & 0 & 145 & 1 & 0.8 & 1 & 1 & 3 & 0\\\\\n",
       "\t 46 & 1 & 0 & 120 & 249 & 0 & 0 & 144 & 0 & 0.8 & 2 & 0 & 3 & 0\\\\\n",
       "\t 54 & 1 & 0 & 122 & 286 & 0 & 0 & 116 & 1 & 3.2 & 1 & 2 & 2 & 0\\\\\n",
       "\t 71 & 0 & 0 & 112 & 149 & 0 & 1 & 125 & 0 & 1.6 & 1 & 0 & 2 & 1\\\\\n",
       "\t 43 & 0 & 0 & 132 & 341 & 1 & 0 & 136 & 1 & 3.0 & 1 & 0 & 3 & 0\\\\\n",
       "\t 34 & 0 & 1 & 118 & 210 & 0 & 1 & 192 & 0 & 0.7 & 2 & 0 & 2 & 1\\\\\n",
       "\t 51 & 1 & 0 & 140 & 298 & 0 & 1 & 122 & 1 & 4.2 & 1 & 3 & 3 & 0\\\\\n",
       "\t 52 & 1 & 0 & 128 & 204 & 1 & 1 & 156 & 1 & 1.0 & 1 & 0 & 0 & 0\\\\\n",
       "\t 34 & 0 & 1 & 118 & 210 & 0 & 1 & 192 & 0 & 0.7 & 2 & 0 & 2 & 1\\\\\n",
       "\t 51 & 0 & 2 & 140 & 308 & 0 & 0 & 142 & 0 & 1.5 & 2 & 1 & 2 & 1\\\\\n",
       "\t 54 & 1 & 0 & 124 & 266 & 0 & 0 & 109 & 1 & 2.2 & 1 & 1 & 3 & 0\\\\\n",
       "\t 50 & 0 & 1 & 120 & 244 & 0 & 1 & 162 & 0 & 1.1 & 2 & 0 & 2 & 1\\\\\n",
       "\t 58 & 1 & 2 & 140 & 211 & 1 & 0 & 165 & 0 & 0.0 & 2 & 0 & 2 & 1\\\\\n",
       "\t 60 & 1 & 2 & 140 & 185 & 0 & 0 & 155 & 0 & 3.0 & 1 & 0 & 2 & 0\\\\\n",
       "\t 67 & 0 & 0 & 106 & 223 & 0 & 1 & 142 & 0 & 0.3 & 2 & 2 & 2 & 1\\\\\n",
       "\t 45 & 1 & 0 & 104 & 208 & 0 & 0 & 148 & 1 & 3.0 & 1 & 0 & 2 & 1\\\\\n",
       "\t 63 & 0 & 2 & 135 & 252 & 0 & 0 & 172 & 0 & 0.0 & 2 & 0 & 2 & 1\\\\\n",
       "\t 42 & 0 & 2 & 120 & 209 & 0 & 1 & 173 & 0 & 0.0 & 1 & 0 & 2 & 1\\\\\n",
       "\t 61 & 0 & 0 & 145 & 307 & 0 & 0 & 146 & 1 & 1.0 & 1 & 0 & 3 & 0\\\\\n",
       "\t 44 & 1 & 2 & 130 & 233 & 0 & 1 & 179 & 1 & 0.4 & 2 & 0 & 2 & 1\\\\\n",
       "\t 58 & 0 & 1 & 136 & 319 & 1 & 0 & 152 & 0 & 0.0 & 2 & 2 & 2 & 0\\\\\n",
       "\t 56 & 1 & 2 & 130 & 256 & 1 & 0 & 142 & 1 & 0.6 & 1 & 1 & 1 & 0\\\\\n",
       "\t 55 & 0 & 0 & 180 & 327 & 0 & 2 & 117 & 1 & 3.4 & 1 & 0 & 2 & 0\\\\\n",
       "\t ⋮ & ⋮ & ⋮ & ⋮ & ⋮ & ⋮ & ⋮ & ⋮ & ⋮ & ⋮ & ⋮ & ⋮ & ⋮ & ⋮\\\\\n",
       "\t 44 & 1 & 1 & 120 & 263 & 0 & 1 & 173 & 0 & 0.0 & 2 & 0 & 3 & 1\\\\\n",
       "\t 56 & 0 & 0 & 134 & 409 & 0 & 0 & 150 & 1 & 1.9 & 1 & 2 & 3 & 0\\\\\n",
       "\t 54 & 1 & 0 & 120 & 188 & 0 & 1 & 113 & 0 & 1.4 & 1 & 1 & 3 & 0\\\\\n",
       "\t 42 & 1 & 0 & 136 & 315 & 0 & 1 & 125 & 1 & 1.8 & 1 & 0 & 1 & 0\\\\\n",
       "\t 67 & 1 & 0 & 125 & 254 & 1 & 1 & 163 & 0 & 0.2 & 1 & 2 & 3 & 0\\\\\n",
       "\t 64 & 1 & 0 & 145 & 212 & 0 & 0 & 132 & 0 & 2.0 & 1 & 2 & 1 & 0\\\\\n",
       "\t 42 & 1 & 0 & 140 & 226 & 0 & 1 & 178 & 0 & 0.0 & 2 & 0 & 2 & 1\\\\\n",
       "\t 66 & 1 & 0 & 112 & 212 & 0 & 0 & 132 & 1 & 0.1 & 2 & 1 & 2 & 0\\\\\n",
       "\t 52 & 1 & 0 & 108 & 233 & 1 & 1 & 147 & 0 & 0.1 & 2 & 3 & 3 & 1\\\\\n",
       "\t 51 & 0 & 2 & 140 & 308 & 0 & 0 & 142 & 0 & 1.5 & 2 & 1 & 2 & 1\\\\\n",
       "\t 55 & 0 & 0 & 128 & 205 & 0 & 2 & 130 & 1 & 2.0 & 1 & 1 & 3 & 0\\\\\n",
       "\t 58 & 1 & 2 & 140 & 211 & 1 & 0 & 165 & 0 & 0.0 & 2 & 0 & 2 & 1\\\\\n",
       "\t 56 & 1 & 3 & 120 & 193 & 0 & 0 & 162 & 0 & 1.9 & 1 & 0 & 3 & 1\\\\\n",
       "\t 42 & 1 & 1 & 120 & 295 & 0 & 1 & 162 & 0 & 0.0 & 2 & 0 & 2 & 1\\\\\n",
       "\t 40 & 1 & 0 & 152 & 223 & 0 & 1 & 181 & 0 & 0.0 & 2 & 0 & 3 & 0\\\\\n",
       "\t 51 & 1 & 0 & 140 & 299 & 0 & 1 & 173 & 1 & 1.6 & 2 & 0 & 3 & 0\\\\\n",
       "\t 45 & 1 & 1 & 128 & 308 & 0 & 0 & 170 & 0 & 0.0 & 2 & 0 & 2 & 1\\\\\n",
       "\t 48 & 1 & 1 & 110 & 229 & 0 & 1 & 168 & 0 & 1.0 & 0 & 0 & 3 & 0\\\\\n",
       "\t 58 & 1 & 0 & 114 & 318 & 0 & 2 & 140 & 0 & 4.4 & 0 & 3 & 1 & 0\\\\\n",
       "\t 44 & 0 & 2 & 108 & 141 & 0 & 1 & 175 & 0 & 0.6 & 1 & 0 & 2 & 1\\\\\n",
       "\t 58 & 1 & 0 & 128 & 216 & 0 & 0 & 131 & 1 & 2.2 & 1 & 3 & 3 & 0\\\\\n",
       "\t 65 & 1 & 3 & 138 & 282 & 1 & 0 & 174 & 0 & 1.4 & 1 & 1 & 2 & 0\\\\\n",
       "\t 53 & 1 & 0 & 123 & 282 & 0 & 1 &  95 & 1 & 2.0 & 1 & 2 & 3 & 0\\\\\n",
       "\t 41 & 1 & 0 & 110 & 172 & 0 & 0 & 158 & 0 & 0.0 & 2 & 0 & 3 & 0\\\\\n",
       "\t 47 & 1 & 0 & 112 & 204 & 0 & 1 & 143 & 0 & 0.1 & 2 & 0 & 2 & 1\\\\\n",
       "\t 59 & 1 & 1 & 140 & 221 & 0 & 1 & 164 & 1 & 0.0 & 2 & 0 & 2 & 1\\\\\n",
       "\t 60 & 1 & 0 & 125 & 258 & 0 & 0 & 141 & 1 & 2.8 & 1 & 1 & 3 & 0\\\\\n",
       "\t 47 & 1 & 0 & 110 & 275 & 0 & 0 & 118 & 1 & 1.0 & 1 & 1 & 2 & 0\\\\\n",
       "\t 50 & 0 & 0 & 110 & 254 & 0 & 0 & 159 & 0 & 0.0 & 2 & 0 & 2 & 1\\\\\n",
       "\t 54 & 1 & 0 & 120 & 188 & 0 & 1 & 113 & 0 & 1.4 & 1 & 1 & 3 & 0\\\\\n",
       "\\end{tabular}\n"
      ],
      "text/markdown": [
       "\n",
       "A data.frame: 1025 × 14\n",
       "\n",
       "| age &lt;int&gt; | sex &lt;int&gt; | cp &lt;int&gt; | trestbps &lt;int&gt; | chol &lt;int&gt; | fbs &lt;int&gt; | restecg &lt;int&gt; | thalach &lt;int&gt; | exang &lt;int&gt; | oldpeak &lt;dbl&gt; | slope &lt;int&gt; | ca &lt;int&gt; | thal &lt;int&gt; | target &lt;int&gt; |\n",
       "|---|---|---|---|---|---|---|---|---|---|---|---|---|---|\n",
       "| 52 | 1 | 0 | 125 | 212 | 0 | 1 | 168 | 0 | 1.0 | 2 | 2 | 3 | 0 |\n",
       "| 53 | 1 | 0 | 140 | 203 | 1 | 0 | 155 | 1 | 3.1 | 0 | 0 | 3 | 0 |\n",
       "| 70 | 1 | 0 | 145 | 174 | 0 | 1 | 125 | 1 | 2.6 | 0 | 0 | 3 | 0 |\n",
       "| 61 | 1 | 0 | 148 | 203 | 0 | 1 | 161 | 0 | 0.0 | 2 | 1 | 3 | 0 |\n",
       "| 62 | 0 | 0 | 138 | 294 | 1 | 1 | 106 | 0 | 1.9 | 1 | 3 | 2 | 0 |\n",
       "| 58 | 0 | 0 | 100 | 248 | 0 | 0 | 122 | 0 | 1.0 | 1 | 0 | 2 | 1 |\n",
       "| 58 | 1 | 0 | 114 | 318 | 0 | 2 | 140 | 0 | 4.4 | 0 | 3 | 1 | 0 |\n",
       "| 55 | 1 | 0 | 160 | 289 | 0 | 0 | 145 | 1 | 0.8 | 1 | 1 | 3 | 0 |\n",
       "| 46 | 1 | 0 | 120 | 249 | 0 | 0 | 144 | 0 | 0.8 | 2 | 0 | 3 | 0 |\n",
       "| 54 | 1 | 0 | 122 | 286 | 0 | 0 | 116 | 1 | 3.2 | 1 | 2 | 2 | 0 |\n",
       "| 71 | 0 | 0 | 112 | 149 | 0 | 1 | 125 | 0 | 1.6 | 1 | 0 | 2 | 1 |\n",
       "| 43 | 0 | 0 | 132 | 341 | 1 | 0 | 136 | 1 | 3.0 | 1 | 0 | 3 | 0 |\n",
       "| 34 | 0 | 1 | 118 | 210 | 0 | 1 | 192 | 0 | 0.7 | 2 | 0 | 2 | 1 |\n",
       "| 51 | 1 | 0 | 140 | 298 | 0 | 1 | 122 | 1 | 4.2 | 1 | 3 | 3 | 0 |\n",
       "| 52 | 1 | 0 | 128 | 204 | 1 | 1 | 156 | 1 | 1.0 | 1 | 0 | 0 | 0 |\n",
       "| 34 | 0 | 1 | 118 | 210 | 0 | 1 | 192 | 0 | 0.7 | 2 | 0 | 2 | 1 |\n",
       "| 51 | 0 | 2 | 140 | 308 | 0 | 0 | 142 | 0 | 1.5 | 2 | 1 | 2 | 1 |\n",
       "| 54 | 1 | 0 | 124 | 266 | 0 | 0 | 109 | 1 | 2.2 | 1 | 1 | 3 | 0 |\n",
       "| 50 | 0 | 1 | 120 | 244 | 0 | 1 | 162 | 0 | 1.1 | 2 | 0 | 2 | 1 |\n",
       "| 58 | 1 | 2 | 140 | 211 | 1 | 0 | 165 | 0 | 0.0 | 2 | 0 | 2 | 1 |\n",
       "| 60 | 1 | 2 | 140 | 185 | 0 | 0 | 155 | 0 | 3.0 | 1 | 0 | 2 | 0 |\n",
       "| 67 | 0 | 0 | 106 | 223 | 0 | 1 | 142 | 0 | 0.3 | 2 | 2 | 2 | 1 |\n",
       "| 45 | 1 | 0 | 104 | 208 | 0 | 0 | 148 | 1 | 3.0 | 1 | 0 | 2 | 1 |\n",
       "| 63 | 0 | 2 | 135 | 252 | 0 | 0 | 172 | 0 | 0.0 | 2 | 0 | 2 | 1 |\n",
       "| 42 | 0 | 2 | 120 | 209 | 0 | 1 | 173 | 0 | 0.0 | 1 | 0 | 2 | 1 |\n",
       "| 61 | 0 | 0 | 145 | 307 | 0 | 0 | 146 | 1 | 1.0 | 1 | 0 | 3 | 0 |\n",
       "| 44 | 1 | 2 | 130 | 233 | 0 | 1 | 179 | 1 | 0.4 | 2 | 0 | 2 | 1 |\n",
       "| 58 | 0 | 1 | 136 | 319 | 1 | 0 | 152 | 0 | 0.0 | 2 | 2 | 2 | 0 |\n",
       "| 56 | 1 | 2 | 130 | 256 | 1 | 0 | 142 | 1 | 0.6 | 1 | 1 | 1 | 0 |\n",
       "| 55 | 0 | 0 | 180 | 327 | 0 | 2 | 117 | 1 | 3.4 | 1 | 0 | 2 | 0 |\n",
       "| ⋮ | ⋮ | ⋮ | ⋮ | ⋮ | ⋮ | ⋮ | ⋮ | ⋮ | ⋮ | ⋮ | ⋮ | ⋮ | ⋮ |\n",
       "| 44 | 1 | 1 | 120 | 263 | 0 | 1 | 173 | 0 | 0.0 | 2 | 0 | 3 | 1 |\n",
       "| 56 | 0 | 0 | 134 | 409 | 0 | 0 | 150 | 1 | 1.9 | 1 | 2 | 3 | 0 |\n",
       "| 54 | 1 | 0 | 120 | 188 | 0 | 1 | 113 | 0 | 1.4 | 1 | 1 | 3 | 0 |\n",
       "| 42 | 1 | 0 | 136 | 315 | 0 | 1 | 125 | 1 | 1.8 | 1 | 0 | 1 | 0 |\n",
       "| 67 | 1 | 0 | 125 | 254 | 1 | 1 | 163 | 0 | 0.2 | 1 | 2 | 3 | 0 |\n",
       "| 64 | 1 | 0 | 145 | 212 | 0 | 0 | 132 | 0 | 2.0 | 1 | 2 | 1 | 0 |\n",
       "| 42 | 1 | 0 | 140 | 226 | 0 | 1 | 178 | 0 | 0.0 | 2 | 0 | 2 | 1 |\n",
       "| 66 | 1 | 0 | 112 | 212 | 0 | 0 | 132 | 1 | 0.1 | 2 | 1 | 2 | 0 |\n",
       "| 52 | 1 | 0 | 108 | 233 | 1 | 1 | 147 | 0 | 0.1 | 2 | 3 | 3 | 1 |\n",
       "| 51 | 0 | 2 | 140 | 308 | 0 | 0 | 142 | 0 | 1.5 | 2 | 1 | 2 | 1 |\n",
       "| 55 | 0 | 0 | 128 | 205 | 0 | 2 | 130 | 1 | 2.0 | 1 | 1 | 3 | 0 |\n",
       "| 58 | 1 | 2 | 140 | 211 | 1 | 0 | 165 | 0 | 0.0 | 2 | 0 | 2 | 1 |\n",
       "| 56 | 1 | 3 | 120 | 193 | 0 | 0 | 162 | 0 | 1.9 | 1 | 0 | 3 | 1 |\n",
       "| 42 | 1 | 1 | 120 | 295 | 0 | 1 | 162 | 0 | 0.0 | 2 | 0 | 2 | 1 |\n",
       "| 40 | 1 | 0 | 152 | 223 | 0 | 1 | 181 | 0 | 0.0 | 2 | 0 | 3 | 0 |\n",
       "| 51 | 1 | 0 | 140 | 299 | 0 | 1 | 173 | 1 | 1.6 | 2 | 0 | 3 | 0 |\n",
       "| 45 | 1 | 1 | 128 | 308 | 0 | 0 | 170 | 0 | 0.0 | 2 | 0 | 2 | 1 |\n",
       "| 48 | 1 | 1 | 110 | 229 | 0 | 1 | 168 | 0 | 1.0 | 0 | 0 | 3 | 0 |\n",
       "| 58 | 1 | 0 | 114 | 318 | 0 | 2 | 140 | 0 | 4.4 | 0 | 3 | 1 | 0 |\n",
       "| 44 | 0 | 2 | 108 | 141 | 0 | 1 | 175 | 0 | 0.6 | 1 | 0 | 2 | 1 |\n",
       "| 58 | 1 | 0 | 128 | 216 | 0 | 0 | 131 | 1 | 2.2 | 1 | 3 | 3 | 0 |\n",
       "| 65 | 1 | 3 | 138 | 282 | 1 | 0 | 174 | 0 | 1.4 | 1 | 1 | 2 | 0 |\n",
       "| 53 | 1 | 0 | 123 | 282 | 0 | 1 |  95 | 1 | 2.0 | 1 | 2 | 3 | 0 |\n",
       "| 41 | 1 | 0 | 110 | 172 | 0 | 0 | 158 | 0 | 0.0 | 2 | 0 | 3 | 0 |\n",
       "| 47 | 1 | 0 | 112 | 204 | 0 | 1 | 143 | 0 | 0.1 | 2 | 0 | 2 | 1 |\n",
       "| 59 | 1 | 1 | 140 | 221 | 0 | 1 | 164 | 1 | 0.0 | 2 | 0 | 2 | 1 |\n",
       "| 60 | 1 | 0 | 125 | 258 | 0 | 0 | 141 | 1 | 2.8 | 1 | 1 | 3 | 0 |\n",
       "| 47 | 1 | 0 | 110 | 275 | 0 | 0 | 118 | 1 | 1.0 | 1 | 1 | 2 | 0 |\n",
       "| 50 | 0 | 0 | 110 | 254 | 0 | 0 | 159 | 0 | 0.0 | 2 | 0 | 2 | 1 |\n",
       "| 54 | 1 | 0 | 120 | 188 | 0 | 1 | 113 | 0 | 1.4 | 1 | 1 | 3 | 0 |\n",
       "\n"
      ],
      "text/plain": [
       "     age sex cp trestbps chol fbs restecg thalach exang oldpeak slope ca thal\n",
       "1    52  1   0  125      212  0   1       168     0     1.0     2     2  3   \n",
       "2    53  1   0  140      203  1   0       155     1     3.1     0     0  3   \n",
       "3    70  1   0  145      174  0   1       125     1     2.6     0     0  3   \n",
       "4    61  1   0  148      203  0   1       161     0     0.0     2     1  3   \n",
       "5    62  0   0  138      294  1   1       106     0     1.9     1     3  2   \n",
       "6    58  0   0  100      248  0   0       122     0     1.0     1     0  2   \n",
       "7    58  1   0  114      318  0   2       140     0     4.4     0     3  1   \n",
       "8    55  1   0  160      289  0   0       145     1     0.8     1     1  3   \n",
       "9    46  1   0  120      249  0   0       144     0     0.8     2     0  3   \n",
       "10   54  1   0  122      286  0   0       116     1     3.2     1     2  2   \n",
       "11   71  0   0  112      149  0   1       125     0     1.6     1     0  2   \n",
       "12   43  0   0  132      341  1   0       136     1     3.0     1     0  3   \n",
       "13   34  0   1  118      210  0   1       192     0     0.7     2     0  2   \n",
       "14   51  1   0  140      298  0   1       122     1     4.2     1     3  3   \n",
       "15   52  1   0  128      204  1   1       156     1     1.0     1     0  0   \n",
       "16   34  0   1  118      210  0   1       192     0     0.7     2     0  2   \n",
       "17   51  0   2  140      308  0   0       142     0     1.5     2     1  2   \n",
       "18   54  1   0  124      266  0   0       109     1     2.2     1     1  3   \n",
       "19   50  0   1  120      244  0   1       162     0     1.1     2     0  2   \n",
       "20   58  1   2  140      211  1   0       165     0     0.0     2     0  2   \n",
       "21   60  1   2  140      185  0   0       155     0     3.0     1     0  2   \n",
       "22   67  0   0  106      223  0   1       142     0     0.3     2     2  2   \n",
       "23   45  1   0  104      208  0   0       148     1     3.0     1     0  2   \n",
       "24   63  0   2  135      252  0   0       172     0     0.0     2     0  2   \n",
       "25   42  0   2  120      209  0   1       173     0     0.0     1     0  2   \n",
       "26   61  0   0  145      307  0   0       146     1     1.0     1     0  3   \n",
       "27   44  1   2  130      233  0   1       179     1     0.4     2     0  2   \n",
       "28   58  0   1  136      319  1   0       152     0     0.0     2     2  2   \n",
       "29   56  1   2  130      256  1   0       142     1     0.6     1     1  1   \n",
       "30   55  0   0  180      327  0   2       117     1     3.4     1     0  2   \n",
       "⋮    ⋮   ⋮   ⋮  ⋮        ⋮    ⋮   ⋮       ⋮       ⋮     ⋮       ⋮     ⋮  ⋮   \n",
       "996  44  1   1  120      263  0   1       173     0     0.0     2     0  3   \n",
       "997  56  0   0  134      409  0   0       150     1     1.9     1     2  3   \n",
       "998  54  1   0  120      188  0   1       113     0     1.4     1     1  3   \n",
       "999  42  1   0  136      315  0   1       125     1     1.8     1     0  1   \n",
       "1000 67  1   0  125      254  1   1       163     0     0.2     1     2  3   \n",
       "1001 64  1   0  145      212  0   0       132     0     2.0     1     2  1   \n",
       "1002 42  1   0  140      226  0   1       178     0     0.0     2     0  2   \n",
       "1003 66  1   0  112      212  0   0       132     1     0.1     2     1  2   \n",
       "1004 52  1   0  108      233  1   1       147     0     0.1     2     3  3   \n",
       "1005 51  0   2  140      308  0   0       142     0     1.5     2     1  2   \n",
       "1006 55  0   0  128      205  0   2       130     1     2.0     1     1  3   \n",
       "1007 58  1   2  140      211  1   0       165     0     0.0     2     0  2   \n",
       "1008 56  1   3  120      193  0   0       162     0     1.9     1     0  3   \n",
       "1009 42  1   1  120      295  0   1       162     0     0.0     2     0  2   \n",
       "1010 40  1   0  152      223  0   1       181     0     0.0     2     0  3   \n",
       "1011 51  1   0  140      299  0   1       173     1     1.6     2     0  3   \n",
       "1012 45  1   1  128      308  0   0       170     0     0.0     2     0  2   \n",
       "1013 48  1   1  110      229  0   1       168     0     1.0     0     0  3   \n",
       "1014 58  1   0  114      318  0   2       140     0     4.4     0     3  1   \n",
       "1015 44  0   2  108      141  0   1       175     0     0.6     1     0  2   \n",
       "1016 58  1   0  128      216  0   0       131     1     2.2     1     3  3   \n",
       "1017 65  1   3  138      282  1   0       174     0     1.4     1     1  2   \n",
       "1018 53  1   0  123      282  0   1        95     1     2.0     1     2  3   \n",
       "1019 41  1   0  110      172  0   0       158     0     0.0     2     0  3   \n",
       "1020 47  1   0  112      204  0   1       143     0     0.1     2     0  2   \n",
       "1021 59  1   1  140      221  0   1       164     1     0.0     2     0  2   \n",
       "1022 60  1   0  125      258  0   0       141     1     2.8     1     1  3   \n",
       "1023 47  1   0  110      275  0   0       118     1     1.0     1     1  2   \n",
       "1024 50  0   0  110      254  0   0       159     0     0.0     2     0  2   \n",
       "1025 54  1   0  120      188  0   1       113     0     1.4     1     1  3   \n",
       "     target\n",
       "1    0     \n",
       "2    0     \n",
       "3    0     \n",
       "4    0     \n",
       "5    0     \n",
       "6    1     \n",
       "7    0     \n",
       "8    0     \n",
       "9    0     \n",
       "10   0     \n",
       "11   1     \n",
       "12   0     \n",
       "13   1     \n",
       "14   0     \n",
       "15   0     \n",
       "16   1     \n",
       "17   1     \n",
       "18   0     \n",
       "19   1     \n",
       "20   1     \n",
       "21   0     \n",
       "22   1     \n",
       "23   1     \n",
       "24   1     \n",
       "25   1     \n",
       "26   0     \n",
       "27   1     \n",
       "28   0     \n",
       "29   0     \n",
       "30   0     \n",
       "⋮    ⋮     \n",
       "996  1     \n",
       "997  0     \n",
       "998  0     \n",
       "999  0     \n",
       "1000 0     \n",
       "1001 0     \n",
       "1002 1     \n",
       "1003 0     \n",
       "1004 1     \n",
       "1005 1     \n",
       "1006 0     \n",
       "1007 1     \n",
       "1008 1     \n",
       "1009 1     \n",
       "1010 0     \n",
       "1011 0     \n",
       "1012 1     \n",
       "1013 0     \n",
       "1014 0     \n",
       "1015 1     \n",
       "1016 0     \n",
       "1017 0     \n",
       "1018 0     \n",
       "1019 0     \n",
       "1020 1     \n",
       "1021 1     \n",
       "1022 0     \n",
       "1023 0     \n",
       "1024 1     \n",
       "1025 0     "
      ]
     },
     "metadata": {},
     "output_type": "display_data"
    }
   ],
   "source": [
    "View(df)"
   ]
  },
  {
   "cell_type": "markdown",
   "id": "d9bb967a",
   "metadata": {},
   "source": [
    "## Size/Dimention of the dataframe"
   ]
  },
  {
   "cell_type": "code",
   "execution_count": 32,
   "id": "b6971da2",
   "metadata": {},
   "outputs": [
    {
     "data": {
      "text/html": [
       "<style>\n",
       ".list-inline {list-style: none; margin:0; padding: 0}\n",
       ".list-inline>li {display: inline-block}\n",
       ".list-inline>li:not(:last-child)::after {content: \"\\00b7\"; padding: 0 .5ex}\n",
       "</style>\n",
       "<ol class=list-inline><li>1025</li><li>14</li></ol>\n"
      ],
      "text/latex": [
       "\\begin{enumerate*}\n",
       "\\item 1025\n",
       "\\item 14\n",
       "\\end{enumerate*}\n"
      ],
      "text/markdown": [
       "1. 1025\n",
       "2. 14\n",
       "\n",
       "\n"
      ],
      "text/plain": [
       "[1] 1025   14"
      ]
     },
     "metadata": {},
     "output_type": "display_data"
    }
   ],
   "source": [
    "dim(df) # rows,col"
   ]
  },
  {
   "cell_type": "markdown",
   "id": "0f6cfcd5",
   "metadata": {},
   "source": [
    "# Column Count"
   ]
  },
  {
   "cell_type": "code",
   "execution_count": 34,
   "id": "4c12af77",
   "metadata": {},
   "outputs": [
    {
     "data": {
      "text/html": [
       "14"
      ],
      "text/latex": [
       "14"
      ],
      "text/markdown": [
       "14"
      ],
      "text/plain": [
       "[1] 14"
      ]
     },
     "metadata": {},
     "output_type": "display_data"
    }
   ],
   "source": [
    "ncol(df)"
   ]
  },
  {
   "cell_type": "markdown",
   "id": "de373598",
   "metadata": {},
   "source": [
    "# Row Count"
   ]
  },
  {
   "cell_type": "code",
   "execution_count": 35,
   "id": "59bff4e7",
   "metadata": {},
   "outputs": [
    {
     "data": {
      "text/html": [
       "1025"
      ],
      "text/latex": [
       "1025"
      ],
      "text/markdown": [
       "1025"
      ],
      "text/plain": [
       "[1] 1025"
      ]
     },
     "metadata": {},
     "output_type": "display_data"
    }
   ],
   "source": [
    "nrow(df)"
   ]
  },
  {
   "cell_type": "markdown",
   "id": "eca861ac",
   "metadata": {},
   "source": [
    "# Column Names"
   ]
  },
  {
   "cell_type": "code",
   "execution_count": 36,
   "id": "3440e2c9",
   "metadata": {},
   "outputs": [
    {
     "data": {
      "text/html": [
       "<style>\n",
       ".list-inline {list-style: none; margin:0; padding: 0}\n",
       ".list-inline>li {display: inline-block}\n",
       ".list-inline>li:not(:last-child)::after {content: \"\\00b7\"; padding: 0 .5ex}\n",
       "</style>\n",
       "<ol class=list-inline><li>'age'</li><li>'sex'</li><li>'cp'</li><li>'trestbps'</li><li>'chol'</li><li>'fbs'</li><li>'restecg'</li><li>'thalach'</li><li>'exang'</li><li>'oldpeak'</li><li>'slope'</li><li>'ca'</li><li>'thal'</li><li>'target'</li></ol>\n"
      ],
      "text/latex": [
       "\\begin{enumerate*}\n",
       "\\item 'age'\n",
       "\\item 'sex'\n",
       "\\item 'cp'\n",
       "\\item 'trestbps'\n",
       "\\item 'chol'\n",
       "\\item 'fbs'\n",
       "\\item 'restecg'\n",
       "\\item 'thalach'\n",
       "\\item 'exang'\n",
       "\\item 'oldpeak'\n",
       "\\item 'slope'\n",
       "\\item 'ca'\n",
       "\\item 'thal'\n",
       "\\item 'target'\n",
       "\\end{enumerate*}\n"
      ],
      "text/markdown": [
       "1. 'age'\n",
       "2. 'sex'\n",
       "3. 'cp'\n",
       "4. 'trestbps'\n",
       "5. 'chol'\n",
       "6. 'fbs'\n",
       "7. 'restecg'\n",
       "8. 'thalach'\n",
       "9. 'exang'\n",
       "10. 'oldpeak'\n",
       "11. 'slope'\n",
       "12. 'ca'\n",
       "13. 'thal'\n",
       "14. 'target'\n",
       "\n",
       "\n"
      ],
      "text/plain": [
       " [1] \"age\"      \"sex\"      \"cp\"       \"trestbps\" \"chol\"     \"fbs\"     \n",
       " [7] \"restecg\"  \"thalach\"  \"exang\"    \"oldpeak\"  \"slope\"    \"ca\"      \n",
       "[13] \"thal\"     \"target\"  "
      ]
     },
     "metadata": {},
     "output_type": "display_data"
    }
   ],
   "source": [
    "colnames(df)"
   ]
  },
  {
   "cell_type": "code",
   "execution_count": 37,
   "id": "ff2eede7",
   "metadata": {},
   "outputs": [
    {
     "data": {
      "text/html": [
       "<style>\n",
       ".list-inline {list-style: none; margin:0; padding: 0}\n",
       ".list-inline>li {display: inline-block}\n",
       ".list-inline>li:not(:last-child)::after {content: \"\\00b7\"; padding: 0 .5ex}\n",
       "</style>\n",
       "<ol class=list-inline><li>'age'</li><li>'sex'</li><li>'cp'</li><li>'trestbps'</li><li>'chol'</li><li>'fbs'</li><li>'restecg'</li><li>'thalach'</li><li>'exang'</li><li>'oldpeak'</li><li>'slope'</li><li>'ca'</li><li>'thal'</li><li>'target'</li></ol>\n"
      ],
      "text/latex": [
       "\\begin{enumerate*}\n",
       "\\item 'age'\n",
       "\\item 'sex'\n",
       "\\item 'cp'\n",
       "\\item 'trestbps'\n",
       "\\item 'chol'\n",
       "\\item 'fbs'\n",
       "\\item 'restecg'\n",
       "\\item 'thalach'\n",
       "\\item 'exang'\n",
       "\\item 'oldpeak'\n",
       "\\item 'slope'\n",
       "\\item 'ca'\n",
       "\\item 'thal'\n",
       "\\item 'target'\n",
       "\\end{enumerate*}\n"
      ],
      "text/markdown": [
       "1. 'age'\n",
       "2. 'sex'\n",
       "3. 'cp'\n",
       "4. 'trestbps'\n",
       "5. 'chol'\n",
       "6. 'fbs'\n",
       "7. 'restecg'\n",
       "8. 'thalach'\n",
       "9. 'exang'\n",
       "10. 'oldpeak'\n",
       "11. 'slope'\n",
       "12. 'ca'\n",
       "13. 'thal'\n",
       "14. 'target'\n",
       "\n",
       "\n"
      ],
      "text/plain": [
       " [1] \"age\"      \"sex\"      \"cp\"       \"trestbps\" \"chol\"     \"fbs\"     \n",
       " [7] \"restecg\"  \"thalach\"  \"exang\"    \"oldpeak\"  \"slope\"    \"ca\"      \n",
       "[13] \"thal\"     \"target\"  "
      ]
     },
     "metadata": {},
     "output_type": "display_data"
    }
   ],
   "source": [
    "names(df)"
   ]
  },
  {
   "cell_type": "code",
   "execution_count": 38,
   "id": "e4e3272b",
   "metadata": {},
   "outputs": [
    {
     "data": {
      "text/html": [
       "<style>\n",
       ".list-inline {list-style: none; margin:0; padding: 0}\n",
       ".list-inline>li {display: inline-block}\n",
       ".list-inline>li:not(:last-child)::after {content: \"\\00b7\"; padding: 0 .5ex}\n",
       "</style>\n",
       "<ol class=list-inline><li>'CC1'</li><li>'CC2'</li><li>'cp'</li><li>'trestbps'</li><li>'chol'</li><li>'fbs'</li><li>'restecg'</li><li>'thalach'</li><li>'exang'</li><li>'oldpeak'</li><li>'slope'</li><li>'ca'</li><li>'thal'</li><li>'target'</li></ol>\n"
      ],
      "text/latex": [
       "\\begin{enumerate*}\n",
       "\\item 'CC1'\n",
       "\\item 'CC2'\n",
       "\\item 'cp'\n",
       "\\item 'trestbps'\n",
       "\\item 'chol'\n",
       "\\item 'fbs'\n",
       "\\item 'restecg'\n",
       "\\item 'thalach'\n",
       "\\item 'exang'\n",
       "\\item 'oldpeak'\n",
       "\\item 'slope'\n",
       "\\item 'ca'\n",
       "\\item 'thal'\n",
       "\\item 'target'\n",
       "\\end{enumerate*}\n"
      ],
      "text/markdown": [
       "1. 'CC1'\n",
       "2. 'CC2'\n",
       "3. 'cp'\n",
       "4. 'trestbps'\n",
       "5. 'chol'\n",
       "6. 'fbs'\n",
       "7. 'restecg'\n",
       "8. 'thalach'\n",
       "9. 'exang'\n",
       "10. 'oldpeak'\n",
       "11. 'slope'\n",
       "12. 'ca'\n",
       "13. 'thal'\n",
       "14. 'target'\n",
       "\n",
       "\n"
      ],
      "text/plain": [
       " [1] \"CC1\"      \"CC2\"      \"cp\"       \"trestbps\" \"chol\"     \"fbs\"     \n",
       " [7] \"restecg\"  \"thalach\"  \"exang\"    \"oldpeak\"  \"slope\"    \"ca\"      \n",
       "[13] \"thal\"     \"target\"  "
      ]
     },
     "metadata": {},
     "output_type": "display_data"
    }
   ],
   "source": [
    "colnames(df)[1] <- 'CC1'\n",
    "colnames(df)[2] <- 'CC2'\n",
    "\n",
    "colnames(df)"
   ]
  },
  {
   "cell_type": "markdown",
   "id": "96ae56bb",
   "metadata": {},
   "source": [
    "## View Single Column in data frame"
   ]
  },
  {
   "cell_type": "code",
   "execution_count": 40,
   "id": "48640e7d",
   "metadata": {},
   "outputs": [
    {
     "data": {
      "text/html": [
       "<style>\n",
       ".list-inline {list-style: none; margin:0; padding: 0}\n",
       ".list-inline>li {display: inline-block}\n",
       ".list-inline>li:not(:last-child)::after {content: \"\\00b7\"; padding: 0 .5ex}\n",
       "</style>\n",
       "<ol class=list-inline><li>0</li><li>0</li><li>0</li><li>0</li><li>0</li><li>1</li><li>0</li><li>0</li><li>0</li><li>0</li><li>1</li><li>0</li><li>1</li><li>0</li><li>0</li><li>1</li><li>1</li><li>0</li><li>1</li><li>1</li><li>0</li><li>1</li><li>1</li><li>1</li><li>1</li><li>0</li><li>1</li><li>0</li><li>0</li><li>0</li><li>0</li><li>1</li><li>0</li><li>0</li><li>1</li><li>0</li><li>1</li><li>1</li><li>1</li><li>0</li><li>1</li><li>1</li><li>0</li><li>0</li><li>1</li><li>1</li><li>1</li><li>0</li><li>1</li><li>0</li><li>1</li><li>0</li><li>1</li><li>0</li><li>0</li><li>0</li><li>1</li><li>1</li><li>0</li><li>0</li><li>1</li><li>1</li><li>0</li><li>1</li><li>1</li><li>0</li><li>1</li><li>0</li><li>1</li><li>0</li><li>0</li><li>0</li><li>0</li><li>0</li><li>0</li><li>1</li><li>1</li><li>0</li><li>1</li><li>1</li><li>0</li><li>0</li><li>0</li><li>1</li><li>1</li><li>1</li><li>1</li><li>0</li><li>0</li><li>0</li><li>1</li><li>1</li><li>0</li><li>0</li><li>1</li><li>1</li><li>1</li><li>0</li><li>0</li><li>1</li><li>1</li><li>1</li><li>1</li><li>1</li><li>1</li><li>0</li><li>0</li><li>0</li><li>0</li><li>0</li><li>0</li><li>1</li><li>0</li><li>0</li><li>0</li><li>0</li><li>0</li><li>0</li><li>1</li><li>1</li><li>1</li><li>0</li><li>0</li><li>1</li><li>0</li><li>1</li><li>1</li><li>1</li><li>1</li><li>1</li><li>1</li><li>1</li><li>1</li><li>1</li><li>1</li><li>0</li><li>1</li><li>1</li><li>1</li><li>1</li><li>0</li><li>0</li><li>0</li><li>1</li><li>1</li><li>0</li><li>1</li><li>0</li><li>1</li><li>1</li><li>0</li><li>0</li><li>0</li><li>1</li><li>0</li><li>1</li><li>1</li><li>1</li><li>1</li><li>1</li><li>0</li><li>1</li><li>0</li><li>0</li><li>0</li><li>0</li><li>0</li><li>1</li><li>1</li><li>1</li><li>1</li><li>0</li><li>1</li><li>1</li><li>0</li><li>0</li><li>0</li><li>0</li><li>0</li><li>0</li><li>0</li><li>1</li><li>0</li><li>1</li><li>1</li><li>0</li><li>0</li><li>0</li><li>0</li><li>0</li><li>1</li><li>1</li><li>1</li><li>1</li><li>0</li><li>1</li><li>0</li><li>1</li><li>1</li><li>0</li><li>⋯</li><li>1</li><li>1</li><li>0</li><li>1</li><li>0</li><li>1</li><li>1</li><li>1</li><li>0</li><li>0</li><li>0</li><li>1</li><li>1</li><li>1</li><li>1</li><li>0</li><li>1</li><li>0</li><li>0</li><li>0</li><li>0</li><li>1</li><li>0</li><li>1</li><li>0</li><li>0</li><li>1</li><li>0</li><li>0</li><li>0</li><li>1</li><li>1</li><li>1</li><li>1</li><li>0</li><li>0</li><li>0</li><li>0</li><li>0</li><li>0</li><li>1</li><li>1</li><li>1</li><li>1</li><li>1</li><li>1</li><li>1</li><li>1</li><li>1</li><li>0</li><li>0</li><li>0</li><li>1</li><li>0</li><li>1</li><li>1</li><li>0</li><li>0</li><li>0</li><li>0</li><li>0</li><li>0</li><li>1</li><li>0</li><li>0</li><li>0</li><li>1</li><li>0</li><li>0</li><li>0</li><li>0</li><li>1</li><li>1</li><li>1</li><li>1</li><li>0</li><li>1</li><li>0</li><li>0</li><li>1</li><li>0</li><li>1</li><li>1</li><li>0</li><li>0</li><li>0</li><li>0</li><li>0</li><li>1</li><li>0</li><li>0</li><li>0</li><li>1</li><li>0</li><li>0</li><li>0</li><li>0</li><li>1</li><li>1</li><li>0</li><li>0</li><li>0</li><li>1</li><li>0</li><li>0</li><li>0</li><li>0</li><li>1</li><li>0</li><li>1</li><li>1</li><li>1</li><li>0</li><li>1</li><li>1</li><li>0</li><li>1</li><li>1</li><li>1</li><li>0</li><li>1</li><li>1</li><li>1</li><li>0</li><li>1</li><li>0</li><li>0</li><li>1</li><li>1</li><li>1</li><li>1</li><li>1</li><li>0</li><li>1</li><li>1</li><li>1</li><li>1</li><li>1</li><li>0</li><li>1</li><li>1</li><li>0</li><li>1</li><li>0</li><li>1</li><li>1</li><li>1</li><li>1</li><li>1</li><li>1</li><li>0</li><li>0</li><li>1</li><li>0</li><li>0</li><li>1</li><li>0</li><li>1</li><li>1</li><li>1</li><li>1</li><li>0</li><li>0</li><li>0</li><li>1</li><li>1</li><li>0</li><li>1</li><li>0</li><li>0</li><li>1</li><li>0</li><li>0</li><li>0</li><li>0</li><li>0</li><li>1</li><li>0</li><li>1</li><li>1</li><li>0</li><li>1</li><li>1</li><li>1</li><li>0</li><li>0</li><li>1</li><li>0</li><li>0</li><li>1</li><li>0</li><li>0</li><li>0</li><li>0</li><li>1</li><li>1</li><li>0</li><li>0</li><li>1</li><li>0</li></ol>\n"
      ],
      "text/latex": [
       "\\begin{enumerate*}\n",
       "\\item 0\n",
       "\\item 0\n",
       "\\item 0\n",
       "\\item 0\n",
       "\\item 0\n",
       "\\item 1\n",
       "\\item 0\n",
       "\\item 0\n",
       "\\item 0\n",
       "\\item 0\n",
       "\\item 1\n",
       "\\item 0\n",
       "\\item 1\n",
       "\\item 0\n",
       "\\item 0\n",
       "\\item 1\n",
       "\\item 1\n",
       "\\item 0\n",
       "\\item 1\n",
       "\\item 1\n",
       "\\item 0\n",
       "\\item 1\n",
       "\\item 1\n",
       "\\item 1\n",
       "\\item 1\n",
       "\\item 0\n",
       "\\item 1\n",
       "\\item 0\n",
       "\\item 0\n",
       "\\item 0\n",
       "\\item 0\n",
       "\\item 1\n",
       "\\item 0\n",
       "\\item 0\n",
       "\\item 1\n",
       "\\item 0\n",
       "\\item 1\n",
       "\\item 1\n",
       "\\item 1\n",
       "\\item 0\n",
       "\\item 1\n",
       "\\item 1\n",
       "\\item 0\n",
       "\\item 0\n",
       "\\item 1\n",
       "\\item 1\n",
       "\\item 1\n",
       "\\item 0\n",
       "\\item 1\n",
       "\\item 0\n",
       "\\item 1\n",
       "\\item 0\n",
       "\\item 1\n",
       "\\item 0\n",
       "\\item 0\n",
       "\\item 0\n",
       "\\item 1\n",
       "\\item 1\n",
       "\\item 0\n",
       "\\item 0\n",
       "\\item 1\n",
       "\\item 1\n",
       "\\item 0\n",
       "\\item 1\n",
       "\\item 1\n",
       "\\item 0\n",
       "\\item 1\n",
       "\\item 0\n",
       "\\item 1\n",
       "\\item 0\n",
       "\\item 0\n",
       "\\item 0\n",
       "\\item 0\n",
       "\\item 0\n",
       "\\item 0\n",
       "\\item 1\n",
       "\\item 1\n",
       "\\item 0\n",
       "\\item 1\n",
       "\\item 1\n",
       "\\item 0\n",
       "\\item 0\n",
       "\\item 0\n",
       "\\item 1\n",
       "\\item 1\n",
       "\\item 1\n",
       "\\item 1\n",
       "\\item 0\n",
       "\\item 0\n",
       "\\item 0\n",
       "\\item 1\n",
       "\\item 1\n",
       "\\item 0\n",
       "\\item 0\n",
       "\\item 1\n",
       "\\item 1\n",
       "\\item 1\n",
       "\\item 0\n",
       "\\item 0\n",
       "\\item 1\n",
       "\\item 1\n",
       "\\item 1\n",
       "\\item 1\n",
       "\\item 1\n",
       "\\item 1\n",
       "\\item 0\n",
       "\\item 0\n",
       "\\item 0\n",
       "\\item 0\n",
       "\\item 0\n",
       "\\item 0\n",
       "\\item 1\n",
       "\\item 0\n",
       "\\item 0\n",
       "\\item 0\n",
       "\\item 0\n",
       "\\item 0\n",
       "\\item 0\n",
       "\\item 1\n",
       "\\item 1\n",
       "\\item 1\n",
       "\\item 0\n",
       "\\item 0\n",
       "\\item 1\n",
       "\\item 0\n",
       "\\item 1\n",
       "\\item 1\n",
       "\\item 1\n",
       "\\item 1\n",
       "\\item 1\n",
       "\\item 1\n",
       "\\item 1\n",
       "\\item 1\n",
       "\\item 1\n",
       "\\item 1\n",
       "\\item 0\n",
       "\\item 1\n",
       "\\item 1\n",
       "\\item 1\n",
       "\\item 1\n",
       "\\item 0\n",
       "\\item 0\n",
       "\\item 0\n",
       "\\item 1\n",
       "\\item 1\n",
       "\\item 0\n",
       "\\item 1\n",
       "\\item 0\n",
       "\\item 1\n",
       "\\item 1\n",
       "\\item 0\n",
       "\\item 0\n",
       "\\item 0\n",
       "\\item 1\n",
       "\\item 0\n",
       "\\item 1\n",
       "\\item 1\n",
       "\\item 1\n",
       "\\item 1\n",
       "\\item 1\n",
       "\\item 0\n",
       "\\item 1\n",
       "\\item 0\n",
       "\\item 0\n",
       "\\item 0\n",
       "\\item 0\n",
       "\\item 0\n",
       "\\item 1\n",
       "\\item 1\n",
       "\\item 1\n",
       "\\item 1\n",
       "\\item 0\n",
       "\\item 1\n",
       "\\item 1\n",
       "\\item 0\n",
       "\\item 0\n",
       "\\item 0\n",
       "\\item 0\n",
       "\\item 0\n",
       "\\item 0\n",
       "\\item 0\n",
       "\\item 1\n",
       "\\item 0\n",
       "\\item 1\n",
       "\\item 1\n",
       "\\item 0\n",
       "\\item 0\n",
       "\\item 0\n",
       "\\item 0\n",
       "\\item 0\n",
       "\\item 1\n",
       "\\item 1\n",
       "\\item 1\n",
       "\\item 1\n",
       "\\item 0\n",
       "\\item 1\n",
       "\\item 0\n",
       "\\item 1\n",
       "\\item 1\n",
       "\\item 0\n",
       "\\item ⋯\n",
       "\\item 1\n",
       "\\item 1\n",
       "\\item 0\n",
       "\\item 1\n",
       "\\item 0\n",
       "\\item 1\n",
       "\\item 1\n",
       "\\item 1\n",
       "\\item 0\n",
       "\\item 0\n",
       "\\item 0\n",
       "\\item 1\n",
       "\\item 1\n",
       "\\item 1\n",
       "\\item 1\n",
       "\\item 0\n",
       "\\item 1\n",
       "\\item 0\n",
       "\\item 0\n",
       "\\item 0\n",
       "\\item 0\n",
       "\\item 1\n",
       "\\item 0\n",
       "\\item 1\n",
       "\\item 0\n",
       "\\item 0\n",
       "\\item 1\n",
       "\\item 0\n",
       "\\item 0\n",
       "\\item 0\n",
       "\\item 1\n",
       "\\item 1\n",
       "\\item 1\n",
       "\\item 1\n",
       "\\item 0\n",
       "\\item 0\n",
       "\\item 0\n",
       "\\item 0\n",
       "\\item 0\n",
       "\\item 0\n",
       "\\item 1\n",
       "\\item 1\n",
       "\\item 1\n",
       "\\item 1\n",
       "\\item 1\n",
       "\\item 1\n",
       "\\item 1\n",
       "\\item 1\n",
       "\\item 1\n",
       "\\item 0\n",
       "\\item 0\n",
       "\\item 0\n",
       "\\item 1\n",
       "\\item 0\n",
       "\\item 1\n",
       "\\item 1\n",
       "\\item 0\n",
       "\\item 0\n",
       "\\item 0\n",
       "\\item 0\n",
       "\\item 0\n",
       "\\item 0\n",
       "\\item 1\n",
       "\\item 0\n",
       "\\item 0\n",
       "\\item 0\n",
       "\\item 1\n",
       "\\item 0\n",
       "\\item 0\n",
       "\\item 0\n",
       "\\item 0\n",
       "\\item 1\n",
       "\\item 1\n",
       "\\item 1\n",
       "\\item 1\n",
       "\\item 0\n",
       "\\item 1\n",
       "\\item 0\n",
       "\\item 0\n",
       "\\item 1\n",
       "\\item 0\n",
       "\\item 1\n",
       "\\item 1\n",
       "\\item 0\n",
       "\\item 0\n",
       "\\item 0\n",
       "\\item 0\n",
       "\\item 0\n",
       "\\item 1\n",
       "\\item 0\n",
       "\\item 0\n",
       "\\item 0\n",
       "\\item 1\n",
       "\\item 0\n",
       "\\item 0\n",
       "\\item 0\n",
       "\\item 0\n",
       "\\item 1\n",
       "\\item 1\n",
       "\\item 0\n",
       "\\item 0\n",
       "\\item 0\n",
       "\\item 1\n",
       "\\item 0\n",
       "\\item 0\n",
       "\\item 0\n",
       "\\item 0\n",
       "\\item 1\n",
       "\\item 0\n",
       "\\item 1\n",
       "\\item 1\n",
       "\\item 1\n",
       "\\item 0\n",
       "\\item 1\n",
       "\\item 1\n",
       "\\item 0\n",
       "\\item 1\n",
       "\\item 1\n",
       "\\item 1\n",
       "\\item 0\n",
       "\\item 1\n",
       "\\item 1\n",
       "\\item 1\n",
       "\\item 0\n",
       "\\item 1\n",
       "\\item 0\n",
       "\\item 0\n",
       "\\item 1\n",
       "\\item 1\n",
       "\\item 1\n",
       "\\item 1\n",
       "\\item 1\n",
       "\\item 0\n",
       "\\item 1\n",
       "\\item 1\n",
       "\\item 1\n",
       "\\item 1\n",
       "\\item 1\n",
       "\\item 0\n",
       "\\item 1\n",
       "\\item 1\n",
       "\\item 0\n",
       "\\item 1\n",
       "\\item 0\n",
       "\\item 1\n",
       "\\item 1\n",
       "\\item 1\n",
       "\\item 1\n",
       "\\item 1\n",
       "\\item 1\n",
       "\\item 0\n",
       "\\item 0\n",
       "\\item 1\n",
       "\\item 0\n",
       "\\item 0\n",
       "\\item 1\n",
       "\\item 0\n",
       "\\item 1\n",
       "\\item 1\n",
       "\\item 1\n",
       "\\item 1\n",
       "\\item 0\n",
       "\\item 0\n",
       "\\item 0\n",
       "\\item 1\n",
       "\\item 1\n",
       "\\item 0\n",
       "\\item 1\n",
       "\\item 0\n",
       "\\item 0\n",
       "\\item 1\n",
       "\\item 0\n",
       "\\item 0\n",
       "\\item 0\n",
       "\\item 0\n",
       "\\item 0\n",
       "\\item 1\n",
       "\\item 0\n",
       "\\item 1\n",
       "\\item 1\n",
       "\\item 0\n",
       "\\item 1\n",
       "\\item 1\n",
       "\\item 1\n",
       "\\item 0\n",
       "\\item 0\n",
       "\\item 1\n",
       "\\item 0\n",
       "\\item 0\n",
       "\\item 1\n",
       "\\item 0\n",
       "\\item 0\n",
       "\\item 0\n",
       "\\item 0\n",
       "\\item 1\n",
       "\\item 1\n",
       "\\item 0\n",
       "\\item 0\n",
       "\\item 1\n",
       "\\item 0\n",
       "\\end{enumerate*}\n"
      ],
      "text/markdown": [
       "1. 0\n",
       "2. 0\n",
       "3. 0\n",
       "4. 0\n",
       "5. 0\n",
       "6. 1\n",
       "7. 0\n",
       "8. 0\n",
       "9. 0\n",
       "10. 0\n",
       "11. 1\n",
       "12. 0\n",
       "13. 1\n",
       "14. 0\n",
       "15. 0\n",
       "16. 1\n",
       "17. 1\n",
       "18. 0\n",
       "19. 1\n",
       "20. 1\n",
       "21. 0\n",
       "22. 1\n",
       "23. 1\n",
       "24. 1\n",
       "25. 1\n",
       "26. 0\n",
       "27. 1\n",
       "28. 0\n",
       "29. 0\n",
       "30. 0\n",
       "31. 0\n",
       "32. 1\n",
       "33. 0\n",
       "34. 0\n",
       "35. 1\n",
       "36. 0\n",
       "37. 1\n",
       "38. 1\n",
       "39. 1\n",
       "40. 0\n",
       "41. 1\n",
       "42. 1\n",
       "43. 0\n",
       "44. 0\n",
       "45. 1\n",
       "46. 1\n",
       "47. 1\n",
       "48. 0\n",
       "49. 1\n",
       "50. 0\n",
       "51. 1\n",
       "52. 0\n",
       "53. 1\n",
       "54. 0\n",
       "55. 0\n",
       "56. 0\n",
       "57. 1\n",
       "58. 1\n",
       "59. 0\n",
       "60. 0\n",
       "61. 1\n",
       "62. 1\n",
       "63. 0\n",
       "64. 1\n",
       "65. 1\n",
       "66. 0\n",
       "67. 1\n",
       "68. 0\n",
       "69. 1\n",
       "70. 0\n",
       "71. 0\n",
       "72. 0\n",
       "73. 0\n",
       "74. 0\n",
       "75. 0\n",
       "76. 1\n",
       "77. 1\n",
       "78. 0\n",
       "79. 1\n",
       "80. 1\n",
       "81. 0\n",
       "82. 0\n",
       "83. 0\n",
       "84. 1\n",
       "85. 1\n",
       "86. 1\n",
       "87. 1\n",
       "88. 0\n",
       "89. 0\n",
       "90. 0\n",
       "91. 1\n",
       "92. 1\n",
       "93. 0\n",
       "94. 0\n",
       "95. 1\n",
       "96. 1\n",
       "97. 1\n",
       "98. 0\n",
       "99. 0\n",
       "100. 1\n",
       "101. 1\n",
       "102. 1\n",
       "103. 1\n",
       "104. 1\n",
       "105. 1\n",
       "106. 0\n",
       "107. 0\n",
       "108. 0\n",
       "109. 0\n",
       "110. 0\n",
       "111. 0\n",
       "112. 1\n",
       "113. 0\n",
       "114. 0\n",
       "115. 0\n",
       "116. 0\n",
       "117. 0\n",
       "118. 0\n",
       "119. 1\n",
       "120. 1\n",
       "121. 1\n",
       "122. 0\n",
       "123. 0\n",
       "124. 1\n",
       "125. 0\n",
       "126. 1\n",
       "127. 1\n",
       "128. 1\n",
       "129. 1\n",
       "130. 1\n",
       "131. 1\n",
       "132. 1\n",
       "133. 1\n",
       "134. 1\n",
       "135. 1\n",
       "136. 0\n",
       "137. 1\n",
       "138. 1\n",
       "139. 1\n",
       "140. 1\n",
       "141. 0\n",
       "142. 0\n",
       "143. 0\n",
       "144. 1\n",
       "145. 1\n",
       "146. 0\n",
       "147. 1\n",
       "148. 0\n",
       "149. 1\n",
       "150. 1\n",
       "151. 0\n",
       "152. 0\n",
       "153. 0\n",
       "154. 1\n",
       "155. 0\n",
       "156. 1\n",
       "157. 1\n",
       "158. 1\n",
       "159. 1\n",
       "160. 1\n",
       "161. 0\n",
       "162. 1\n",
       "163. 0\n",
       "164. 0\n",
       "165. 0\n",
       "166. 0\n",
       "167. 0\n",
       "168. 1\n",
       "169. 1\n",
       "170. 1\n",
       "171. 1\n",
       "172. 0\n",
       "173. 1\n",
       "174. 1\n",
       "175. 0\n",
       "176. 0\n",
       "177. 0\n",
       "178. 0\n",
       "179. 0\n",
       "180. 0\n",
       "181. 0\n",
       "182. 1\n",
       "183. 0\n",
       "184. 1\n",
       "185. 1\n",
       "186. 0\n",
       "187. 0\n",
       "188. 0\n",
       "189. 0\n",
       "190. 0\n",
       "191. 1\n",
       "192. 1\n",
       "193. 1\n",
       "194. 1\n",
       "195. 0\n",
       "196. 1\n",
       "197. 0\n",
       "198. 1\n",
       "199. 1\n",
       "200. 0\n",
       "201. ⋯\n",
       "202. 1\n",
       "203. 1\n",
       "204. 0\n",
       "205. 1\n",
       "206. 0\n",
       "207. 1\n",
       "208. 1\n",
       "209. 1\n",
       "210. 0\n",
       "211. 0\n",
       "212. 0\n",
       "213. 1\n",
       "214. 1\n",
       "215. 1\n",
       "216. 1\n",
       "217. 0\n",
       "218. 1\n",
       "219. 0\n",
       "220. 0\n",
       "221. 0\n",
       "222. 0\n",
       "223. 1\n",
       "224. 0\n",
       "225. 1\n",
       "226. 0\n",
       "227. 0\n",
       "228. 1\n",
       "229. 0\n",
       "230. 0\n",
       "231. 0\n",
       "232. 1\n",
       "233. 1\n",
       "234. 1\n",
       "235. 1\n",
       "236. 0\n",
       "237. 0\n",
       "238. 0\n",
       "239. 0\n",
       "240. 0\n",
       "241. 0\n",
       "242. 1\n",
       "243. 1\n",
       "244. 1\n",
       "245. 1\n",
       "246. 1\n",
       "247. 1\n",
       "248. 1\n",
       "249. 1\n",
       "250. 1\n",
       "251. 0\n",
       "252. 0\n",
       "253. 0\n",
       "254. 1\n",
       "255. 0\n",
       "256. 1\n",
       "257. 1\n",
       "258. 0\n",
       "259. 0\n",
       "260. 0\n",
       "261. 0\n",
       "262. 0\n",
       "263. 0\n",
       "264. 1\n",
       "265. 0\n",
       "266. 0\n",
       "267. 0\n",
       "268. 1\n",
       "269. 0\n",
       "270. 0\n",
       "271. 0\n",
       "272. 0\n",
       "273. 1\n",
       "274. 1\n",
       "275. 1\n",
       "276. 1\n",
       "277. 0\n",
       "278. 1\n",
       "279. 0\n",
       "280. 0\n",
       "281. 1\n",
       "282. 0\n",
       "283. 1\n",
       "284. 1\n",
       "285. 0\n",
       "286. 0\n",
       "287. 0\n",
       "288. 0\n",
       "289. 0\n",
       "290. 1\n",
       "291. 0\n",
       "292. 0\n",
       "293. 0\n",
       "294. 1\n",
       "295. 0\n",
       "296. 0\n",
       "297. 0\n",
       "298. 0\n",
       "299. 1\n",
       "300. 1\n",
       "301. 0\n",
       "302. 0\n",
       "303. 0\n",
       "304. 1\n",
       "305. 0\n",
       "306. 0\n",
       "307. 0\n",
       "308. 0\n",
       "309. 1\n",
       "310. 0\n",
       "311. 1\n",
       "312. 1\n",
       "313. 1\n",
       "314. 0\n",
       "315. 1\n",
       "316. 1\n",
       "317. 0\n",
       "318. 1\n",
       "319. 1\n",
       "320. 1\n",
       "321. 0\n",
       "322. 1\n",
       "323. 1\n",
       "324. 1\n",
       "325. 0\n",
       "326. 1\n",
       "327. 0\n",
       "328. 0\n",
       "329. 1\n",
       "330. 1\n",
       "331. 1\n",
       "332. 1\n",
       "333. 1\n",
       "334. 0\n",
       "335. 1\n",
       "336. 1\n",
       "337. 1\n",
       "338. 1\n",
       "339. 1\n",
       "340. 0\n",
       "341. 1\n",
       "342. 1\n",
       "343. 0\n",
       "344. 1\n",
       "345. 0\n",
       "346. 1\n",
       "347. 1\n",
       "348. 1\n",
       "349. 1\n",
       "350. 1\n",
       "351. 1\n",
       "352. 0\n",
       "353. 0\n",
       "354. 1\n",
       "355. 0\n",
       "356. 0\n",
       "357. 1\n",
       "358. 0\n",
       "359. 1\n",
       "360. 1\n",
       "361. 1\n",
       "362. 1\n",
       "363. 0\n",
       "364. 0\n",
       "365. 0\n",
       "366. 1\n",
       "367. 1\n",
       "368. 0\n",
       "369. 1\n",
       "370. 0\n",
       "371. 0\n",
       "372. 1\n",
       "373. 0\n",
       "374. 0\n",
       "375. 0\n",
       "376. 0\n",
       "377. 0\n",
       "378. 1\n",
       "379. 0\n",
       "380. 1\n",
       "381. 1\n",
       "382. 0\n",
       "383. 1\n",
       "384. 1\n",
       "385. 1\n",
       "386. 0\n",
       "387. 0\n",
       "388. 1\n",
       "389. 0\n",
       "390. 0\n",
       "391. 1\n",
       "392. 0\n",
       "393. 0\n",
       "394. 0\n",
       "395. 0\n",
       "396. 1\n",
       "397. 1\n",
       "398. 0\n",
       "399. 0\n",
       "400. 1\n",
       "401. 0\n",
       "\n",
       "\n"
      ],
      "text/plain": [
       "   [1] 0 0 0 0 0 1 0 0 0 0 1 0 1 0 0 1 1 0 1 1 0 1 1 1 1 0 1 0 0 0 0 1 0 0 1 0 1\n",
       "  [38] 1 1 0 1 1 0 0 1 1 1 0 1 0 1 0 1 0 0 0 1 1 0 0 1 1 0 1 1 0 1 0 1 0 0 0 0 0\n",
       "  [75] 0 1 1 0 1 1 0 0 0 1 1 1 1 0 0 0 1 1 0 0 1 1 1 0 0 1 1 1 1 1 1 0 0 0 0 0 0\n",
       " [112] 1 0 0 0 0 0 0 1 1 1 0 0 1 0 1 1 1 1 1 1 1 1 1 1 0 1 1 1 1 0 0 0 1 1 0 1 0\n",
       " [149] 1 1 0 0 0 1 0 1 1 1 1 1 0 1 0 0 0 0 0 1 1 1 1 0 1 1 0 0 0 0 0 0 0 1 0 1 1\n",
       " [186] 0 0 0 0 0 1 1 1 1 0 1 0 1 1 0 1 1 1 1 1 1 0 1 1 0 1 0 0 1 1 1 0 1 0 0 0 0\n",
       " [223] 1 1 1 1 0 1 1 0 0 1 0 1 1 1 0 0 0 0 1 0 1 0 1 1 0 0 1 1 0 1 0 0 0 1 1 1 0\n",
       " [260] 1 1 1 1 1 0 1 0 0 0 1 1 1 1 0 1 0 1 1 0 1 1 1 1 1 0 1 1 1 1 0 1 0 1 1 0 0\n",
       " [297] 0 0 1 1 1 1 1 0 1 0 1 1 0 1 0 0 0 1 1 1 1 1 0 1 1 1 0 0 1 1 0 0 0 1 1 0 1\n",
       " [334] 1 0 0 1 1 0 0 1 1 1 1 1 0 0 1 0 0 1 0 0 1 0 1 0 0 0 1 1 1 1 1 0 1 0 0 1 1\n",
       " [371] 0 0 1 0 1 1 1 1 0 1 0 0 0 0 0 1 1 0 0 1 0 0 1 0 0 1 0 0 1 1 0 1 1 1 0 0 1\n",
       " [408] 0 1 0 1 0 0 0 0 1 1 1 1 1 1 1 1 0 0 0 1 1 0 0 0 0 1 1 1 1 0 0 1 0 0 0 0 1\n",
       " [445] 1 1 1 0 1 0 0 1 0 1 0 1 0 1 1 1 0 1 1 1 1 1 1 0 1 0 1 1 1 1 0 1 0 0 1 0 0\n",
       " [482] 0 0 1 0 0 0 0 1 1 1 1 0 0 1 1 0 0 1 1 1 1 1 1 0 1 0 1 0 0 1 0 0 0 1 0 0 1\n",
       " [519] 0 0 0 1 1 0 0 1 0 1 1 1 0 1 0 1 1 1 1 1 0 1 0 1 1 0 1 0 0 1 1 1 0 0 0 1 0\n",
       " [556] 0 0 1 1 0 1 1 1 0 0 1 1 1 1 1 1 0 1 0 0 1 1 0 1 0 1 1 1 0 0 1 0 0 0 0 1 0\n",
       " [593] 0 0 0 0 1 1 0 1 0 0 1 1 1 1 0 0 0 0 0 0 0 0 0 1 1 1 1 0 0 0 0 0 1 0 0 0 1\n",
       " [630] 0 0 1 1 0 0 1 0 1 0 1 1 0 1 1 1 0 0 1 1 1 0 1 1 0 1 1 0 1 0 1 0 0 1 1 1 1\n",
       " [667] 1 0 1 0 0 0 1 1 0 0 0 0 1 0 1 0 0 0 0 0 0 0 0 1 1 1 0 1 0 0 1 0 0 0 1 0 1\n",
       " [704] 1 1 0 0 1 1 0 1 0 1 1 1 1 0 0 1 1 0 1 1 1 1 0 0 1 0 1 1 0 1 1 0 1 0 0 0 0\n",
       " [741] 1 1 0 1 1 1 0 0 1 1 1 1 1 1 1 1 0 1 1 0 0 1 1 1 0 0 0 0 1 1 1 1 0 0 1 1 0\n",
       " [778] 0 0 1 0 0 1 1 1 0 0 0 0 0 0 0 0 1 0 1 1 0 0 1 0 1 0 0 1 1 0 1 1 1 0 0 0 0\n",
       " [815] 1 1 1 1 1 0 0 0 0 1 0 1 1 0 1 0 1 1 1 0 0 0 1 1 1 1 0 1 0 0 0 0 1 0 1 0 0\n",
       " [852] 1 0 0 0 1 1 1 1 0 0 0 0 0 0 1 1 1 1 1 1 1 1 1 0 0 0 1 0 1 1 0 0 0 0 0 0 1\n",
       " [889] 0 0 0 1 0 0 0 0 1 1 1 1 0 1 0 0 1 0 1 1 0 0 0 0 0 1 0 0 0 1 0 0 0 0 1 1 0\n",
       " [926] 0 0 1 0 0 0 0 1 0 1 1 1 0 1 1 0 1 1 1 0 1 1 1 0 1 0 0 1 1 1 1 1 0 1 1 1 1\n",
       " [963] 1 0 1 1 0 1 0 1 1 1 1 1 1 0 0 1 0 0 1 0 1 1 1 1 0 0 0 1 1 0 1 0 0 1 0 0 0\n",
       "[1000] 0 0 1 0 1 1 0 1 1 1 0 0 1 0 0 1 0 0 0 0 1 1 0 0 1 0"
      ]
     },
     "metadata": {},
     "output_type": "display_data"
    }
   ],
   "source": [
    "df$target"
   ]
  },
  {
   "cell_type": "markdown",
   "id": "c01e18ef",
   "metadata": {},
   "source": [
    "## Get Unique/Distinct Items from Dataframe Column"
   ]
  },
  {
   "cell_type": "code",
   "execution_count": 56,
   "id": "dfd4e9c5",
   "metadata": {},
   "outputs": [],
   "source": [
    "read.csv(\"sampledata\\\\vehicle.csv\") -> data"
   ]
  },
  {
   "cell_type": "code",
   "execution_count": 57,
   "id": "c7590bd4",
   "metadata": {},
   "outputs": [
    {
     "data": {
      "text/html": [
       "<style>\n",
       ".list-inline {list-style: none; margin:0; padding: 0}\n",
       ".list-inline>li {display: inline-block}\n",
       ".list-inline>li:not(:last-child)::after {content: \"\\00b7\"; padding: 0 .5ex}\n",
       "</style>\n",
       "<ol class=list-inline><li>'MS'</li><li>'CA'</li><li>'WI'</li><li>'OR'</li><li>'AZ'</li><li>'FL'</li><li>'LA'</li><li>'GA'</li><li>'WA'</li><li>'PA'</li><li>'TX'</li><li>'OH'</li><li>'MA'</li><li>'VA'</li><li>'CO'</li><li>'NH'</li><li>'IN'</li><li>'MT'</li><li>'NY'</li><li>'UT'</li><li>'NJ'</li><li>'MI'</li><li>'MN'</li><li>'IL'</li><li>'CT'</li><li>'SC'</li><li>'NC'</li><li>'NM'</li><li>'ME'</li><li>'SD'</li><li>'ID'</li><li>'TN'</li><li>'NE'</li><li>'MO'</li><li>'MD'</li><li>'AL'</li><li>'IA'</li><li>'OK'</li><li>'KS'</li><li>'AR'</li><li>'KY'</li><li>'WY'</li><li>'NV'</li><li>'VT'</li><li>'AK'</li><li>'ND'</li><li>'HI'</li><li>'WV'</li><li>'DE'</li><li>'RI'</li><li>'*'</li></ol>\n"
      ],
      "text/latex": [
       "\\begin{enumerate*}\n",
       "\\item 'MS'\n",
       "\\item 'CA'\n",
       "\\item 'WI'\n",
       "\\item 'OR'\n",
       "\\item 'AZ'\n",
       "\\item 'FL'\n",
       "\\item 'LA'\n",
       "\\item 'GA'\n",
       "\\item 'WA'\n",
       "\\item 'PA'\n",
       "\\item 'TX'\n",
       "\\item 'OH'\n",
       "\\item 'MA'\n",
       "\\item 'VA'\n",
       "\\item 'CO'\n",
       "\\item 'NH'\n",
       "\\item 'IN'\n",
       "\\item 'MT'\n",
       "\\item 'NY'\n",
       "\\item 'UT'\n",
       "\\item 'NJ'\n",
       "\\item 'MI'\n",
       "\\item 'MN'\n",
       "\\item 'IL'\n",
       "\\item 'CT'\n",
       "\\item 'SC'\n",
       "\\item 'NC'\n",
       "\\item 'NM'\n",
       "\\item 'ME'\n",
       "\\item 'SD'\n",
       "\\item 'ID'\n",
       "\\item 'TN'\n",
       "\\item 'NE'\n",
       "\\item 'MO'\n",
       "\\item 'MD'\n",
       "\\item 'AL'\n",
       "\\item 'IA'\n",
       "\\item 'OK'\n",
       "\\item 'KS'\n",
       "\\item 'AR'\n",
       "\\item 'KY'\n",
       "\\item 'WY'\n",
       "\\item 'NV'\n",
       "\\item 'VT'\n",
       "\\item 'AK'\n",
       "\\item 'ND'\n",
       "\\item 'HI'\n",
       "\\item 'WV'\n",
       "\\item 'DE'\n",
       "\\item 'RI'\n",
       "\\item '*'\n",
       "\\end{enumerate*}\n"
      ],
      "text/markdown": [
       "1. 'MS'\n",
       "2. 'CA'\n",
       "3. 'WI'\n",
       "4. 'OR'\n",
       "5. 'AZ'\n",
       "6. 'FL'\n",
       "7. 'LA'\n",
       "8. 'GA'\n",
       "9. 'WA'\n",
       "10. 'PA'\n",
       "11. 'TX'\n",
       "12. 'OH'\n",
       "13. 'MA'\n",
       "14. 'VA'\n",
       "15. 'CO'\n",
       "16. 'NH'\n",
       "17. 'IN'\n",
       "18. 'MT'\n",
       "19. 'NY'\n",
       "20. 'UT'\n",
       "21. 'NJ'\n",
       "22. 'MI'\n",
       "23. 'MN'\n",
       "24. 'IL'\n",
       "25. 'CT'\n",
       "26. 'SC'\n",
       "27. 'NC'\n",
       "28. 'NM'\n",
       "29. 'ME'\n",
       "30. 'SD'\n",
       "31. 'ID'\n",
       "32. 'TN'\n",
       "33. 'NE'\n",
       "34. 'MO'\n",
       "35. 'MD'\n",
       "36. 'AL'\n",
       "37. 'IA'\n",
       "38. 'OK'\n",
       "39. 'KS'\n",
       "40. 'AR'\n",
       "41. 'KY'\n",
       "42. 'WY'\n",
       "43. 'NV'\n",
       "44. 'VT'\n",
       "45. 'AK'\n",
       "46. 'ND'\n",
       "47. 'HI'\n",
       "48. 'WV'\n",
       "49. 'DE'\n",
       "50. 'RI'\n",
       "51. '*'\n",
       "\n",
       "\n"
      ],
      "text/plain": [
       " [1] \"MS\" \"CA\" \"WI\" \"OR\" \"AZ\" \"FL\" \"LA\" \"GA\" \"WA\" \"PA\" \"TX\" \"OH\" \"MA\" \"VA\" \"CO\"\n",
       "[16] \"NH\" \"IN\" \"MT\" \"NY\" \"UT\" \"NJ\" \"MI\" \"MN\" \"IL\" \"CT\" \"SC\" \"NC\" \"NM\" \"ME\" \"SD\"\n",
       "[31] \"ID\" \"TN\" \"NE\" \"MO\" \"MD\" \"AL\" \"IA\" \"OK\" \"KS\" \"AR\" \"KY\" \"WY\" \"NV\" \"VT\" \"AK\"\n",
       "[46] \"ND\" \"HI\" \"WV\" \"DE\" \"RI\" \"*\" "
      ]
     },
     "metadata": {},
     "output_type": "display_data"
    }
   ],
   "source": [
    "(unique(data$State))"
   ]
  },
  {
   "cell_type": "markdown",
   "id": "900b09f3",
   "metadata": {},
   "source": [
    "## Find & Count Unique Values in R"
   ]
  },
  {
   "cell_type": "code",
   "execution_count": 58,
   "id": "69834fe6",
   "metadata": {},
   "outputs": [
    {
     "data": {
      "text/plain": [
       "\n",
       "  *  AK  AL  AR  AZ  CA  CO  CT  DE  FL  GA  HI  IA  ID  IL  IN  KS  KY  LA  MA \n",
       "  1   4  26   9  61 200  35  12   1 168  75   4  11  18  16  17  14  14  49  21 \n",
       " MD  ME  MI  MN  MO  MS  MT  NC  ND  NE  NH  NJ  NM  NV  NY  OH  OK  OR  PA  RI \n",
       " 12   4  36  20  30  13  10  48   2   8   5  21  12  18  31  28  32  28  43   2 \n",
       " SC  SD  TN  TX  UT  VA  VT  WA  WI  WV  WY \n",
       " 30  11  29 293  25  32   3  22  13   3   4 "
      ]
     },
     "metadata": {},
     "output_type": "display_data"
    }
   ],
   "source": [
    "table(data$State)"
   ]
  },
  {
   "cell_type": "markdown",
   "id": "7fad2bd4",
   "metadata": {},
   "source": [
    "# Sort"
   ]
  },
  {
   "cell_type": "code",
   "execution_count": 59,
   "id": "6c929f13",
   "metadata": {},
   "outputs": [
    {
     "data": {
      "text/html": [
       "<style>\n",
       ".list-inline {list-style: none; margin:0; padding: 0}\n",
       ".list-inline>li {display: inline-block}\n",
       ".list-inline>li:not(:last-child)::after {content: \"\\00b7\"; padding: 0 .5ex}\n",
       "</style>\n",
       "<ol class=list-inline><li>-1</li><li>0</li><li>1</li><li>2</li><li>3</li><li>4</li><li>5</li><li>6</li><li>7</li><li>8</li><li>9</li><li>10</li><li>11</li><li>12</li><li>13</li><li>14</li><li>15</li><li>16</li><li>17</li><li>18</li><li>19</li><li>20</li><li>21</li><li>22</li><li>23</li></ol>\n"
      ],
      "text/latex": [
       "\\begin{enumerate*}\n",
       "\\item -1\n",
       "\\item 0\n",
       "\\item 1\n",
       "\\item 2\n",
       "\\item 3\n",
       "\\item 4\n",
       "\\item 5\n",
       "\\item 6\n",
       "\\item 7\n",
       "\\item 8\n",
       "\\item 9\n",
       "\\item 10\n",
       "\\item 11\n",
       "\\item 12\n",
       "\\item 13\n",
       "\\item 14\n",
       "\\item 15\n",
       "\\item 16\n",
       "\\item 17\n",
       "\\item 18\n",
       "\\item 19\n",
       "\\item 20\n",
       "\\item 21\n",
       "\\item 22\n",
       "\\item 23\n",
       "\\end{enumerate*}\n"
      ],
      "text/markdown": [
       "1. -1\n",
       "2. 0\n",
       "3. 1\n",
       "4. 2\n",
       "5. 3\n",
       "6. 4\n",
       "7. 5\n",
       "8. 6\n",
       "9. 7\n",
       "10. 8\n",
       "11. 9\n",
       "12. 10\n",
       "13. 11\n",
       "14. 12\n",
       "15. 13\n",
       "16. 14\n",
       "17. 15\n",
       "18. 16\n",
       "19. 17\n",
       "20. 18\n",
       "21. 19\n",
       "22. 20\n",
       "23. 21\n",
       "24. 22\n",
       "25. 23\n",
       "\n",
       "\n"
      ],
      "text/plain": [
       " [1] -1  0  1  2  3  4  5  6  7  8  9 10 11 12 13 14 15 16 17 18 19 20 21 22 23"
      ]
     },
     "metadata": {},
     "output_type": "display_data"
    }
   ],
   "source": [
    "sort(unique(data$fm))"
   ]
  },
  {
   "cell_type": "code",
   "execution_count": 60,
   "id": "742bef32",
   "metadata": {},
   "outputs": [
    {
     "data": {
      "text/html": [
       "<style>\n",
       ".list-inline {list-style: none; margin:0; padding: 0}\n",
       ".list-inline>li {display: inline-block}\n",
       ".list-inline>li:not(:last-child)::after {content: \"\\00b7\"; padding: 0 .5ex}\n",
       "</style>\n",
       "<ol class=list-inline><li>23</li><li>22</li><li>21</li><li>20</li><li>19</li><li>18</li><li>17</li><li>16</li><li>15</li><li>14</li><li>13</li><li>12</li><li>11</li><li>10</li><li>9</li><li>8</li><li>7</li><li>6</li><li>5</li><li>4</li><li>3</li><li>2</li><li>1</li><li>0</li><li>-1</li></ol>\n"
      ],
      "text/latex": [
       "\\begin{enumerate*}\n",
       "\\item 23\n",
       "\\item 22\n",
       "\\item 21\n",
       "\\item 20\n",
       "\\item 19\n",
       "\\item 18\n",
       "\\item 17\n",
       "\\item 16\n",
       "\\item 15\n",
       "\\item 14\n",
       "\\item 13\n",
       "\\item 12\n",
       "\\item 11\n",
       "\\item 10\n",
       "\\item 9\n",
       "\\item 8\n",
       "\\item 7\n",
       "\\item 6\n",
       "\\item 5\n",
       "\\item 4\n",
       "\\item 3\n",
       "\\item 2\n",
       "\\item 1\n",
       "\\item 0\n",
       "\\item -1\n",
       "\\end{enumerate*}\n"
      ],
      "text/markdown": [
       "1. 23\n",
       "2. 22\n",
       "3. 21\n",
       "4. 20\n",
       "5. 19\n",
       "6. 18\n",
       "7. 17\n",
       "8. 16\n",
       "9. 15\n",
       "10. 14\n",
       "11. 13\n",
       "12. 12\n",
       "13. 11\n",
       "14. 10\n",
       "15. 9\n",
       "16. 8\n",
       "17. 7\n",
       "18. 6\n",
       "19. 5\n",
       "20. 4\n",
       "21. 3\n",
       "22. 2\n",
       "23. 1\n",
       "24. 0\n",
       "25. -1\n",
       "\n",
       "\n"
      ],
      "text/plain": [
       " [1] 23 22 21 20 19 18 17 16 15 14 13 12 11 10  9  8  7  6  5  4  3  2  1  0 -1"
      ]
     },
     "metadata": {},
     "output_type": "display_data"
    }
   ],
   "source": [
    "sort(unique(data$fm),decreasing = TRUE)"
   ]
  },
  {
   "cell_type": "code",
   "execution_count": 61,
   "id": "57e7acb8",
   "metadata": {},
   "outputs": [
    {
     "data": {
      "text/plain": [
       "\n",
       " -1   0   1   2   3   4   5   6   7   8   9  10  11  12  13  14  15  16  17  18 \n",
       "  7 115 119  72  66  60  69  68  71  80  71  92  94 107  79  83  60  61  62  43 \n",
       " 19  20  21  22  23 \n",
       " 54  33  31  23   4 "
      ]
     },
     "metadata": {},
     "output_type": "display_data"
    }
   ],
   "source": [
    "table(data$fm)"
   ]
  },
  {
   "cell_type": "markdown",
   "id": "1e762917",
   "metadata": {},
   "source": [
    "# Order"
   ]
  },
  {
   "cell_type": "code",
   "execution_count": 83,
   "id": "058fe927",
   "metadata": {},
   "outputs": [
    {
     "data": {
      "text/html": [
       "<table class=\"dataframe\">\n",
       "<caption>A data.frame: 6 × 14</caption>\n",
       "<thead>\n",
       "\t<tr><th></th><th scope=col>age</th><th scope=col>sex</th><th scope=col>cp</th><th scope=col>trestbps</th><th scope=col>chol</th><th scope=col>fbs</th><th scope=col>restecg</th><th scope=col>thalach</th><th scope=col>exang</th><th scope=col>oldpeak</th><th scope=col>slope</th><th scope=col>ca</th><th scope=col>thal</th><th scope=col>target</th></tr>\n",
       "\t<tr><th></th><th scope=col>&lt;int&gt;</th><th scope=col>&lt;int&gt;</th><th scope=col>&lt;int&gt;</th><th scope=col>&lt;int&gt;</th><th scope=col>&lt;int&gt;</th><th scope=col>&lt;int&gt;</th><th scope=col>&lt;int&gt;</th><th scope=col>&lt;int&gt;</th><th scope=col>&lt;int&gt;</th><th scope=col>&lt;dbl&gt;</th><th scope=col>&lt;int&gt;</th><th scope=col>&lt;int&gt;</th><th scope=col>&lt;int&gt;</th><th scope=col>&lt;int&gt;</th></tr>\n",
       "</thead>\n",
       "<tbody>\n",
       "\t<tr><th scope=row>1</th><td>52</td><td>1</td><td>0</td><td>125</td><td>212</td><td>0</td><td>1</td><td>168</td><td>0</td><td>1.0</td><td>2</td><td>2</td><td>3</td><td>0</td></tr>\n",
       "\t<tr><th scope=row>2</th><td>53</td><td>1</td><td>0</td><td>140</td><td>203</td><td>1</td><td>0</td><td>155</td><td>1</td><td>3.1</td><td>0</td><td>0</td><td>3</td><td>0</td></tr>\n",
       "\t<tr><th scope=row>3</th><td>70</td><td>1</td><td>0</td><td>145</td><td>174</td><td>0</td><td>1</td><td>125</td><td>1</td><td>2.6</td><td>0</td><td>0</td><td>3</td><td>0</td></tr>\n",
       "\t<tr><th scope=row>4</th><td>61</td><td>1</td><td>0</td><td>148</td><td>203</td><td>0</td><td>1</td><td>161</td><td>0</td><td>0.0</td><td>2</td><td>1</td><td>3</td><td>0</td></tr>\n",
       "\t<tr><th scope=row>5</th><td>62</td><td>0</td><td>0</td><td>138</td><td>294</td><td>1</td><td>1</td><td>106</td><td>0</td><td>1.9</td><td>1</td><td>3</td><td>2</td><td>0</td></tr>\n",
       "\t<tr><th scope=row>6</th><td>58</td><td>0</td><td>0</td><td>100</td><td>248</td><td>0</td><td>0</td><td>122</td><td>0</td><td>1.0</td><td>1</td><td>0</td><td>2</td><td>1</td></tr>\n",
       "</tbody>\n",
       "</table>\n"
      ],
      "text/latex": [
       "A data.frame: 6 × 14\n",
       "\\begin{tabular}{r|llllllllllllll}\n",
       "  & age & sex & cp & trestbps & chol & fbs & restecg & thalach & exang & oldpeak & slope & ca & thal & target\\\\\n",
       "  & <int> & <int> & <int> & <int> & <int> & <int> & <int> & <int> & <int> & <dbl> & <int> & <int> & <int> & <int>\\\\\n",
       "\\hline\n",
       "\t1 & 52 & 1 & 0 & 125 & 212 & 0 & 1 & 168 & 0 & 1.0 & 2 & 2 & 3 & 0\\\\\n",
       "\t2 & 53 & 1 & 0 & 140 & 203 & 1 & 0 & 155 & 1 & 3.1 & 0 & 0 & 3 & 0\\\\\n",
       "\t3 & 70 & 1 & 0 & 145 & 174 & 0 & 1 & 125 & 1 & 2.6 & 0 & 0 & 3 & 0\\\\\n",
       "\t4 & 61 & 1 & 0 & 148 & 203 & 0 & 1 & 161 & 0 & 0.0 & 2 & 1 & 3 & 0\\\\\n",
       "\t5 & 62 & 0 & 0 & 138 & 294 & 1 & 1 & 106 & 0 & 1.9 & 1 & 3 & 2 & 0\\\\\n",
       "\t6 & 58 & 0 & 0 & 100 & 248 & 0 & 0 & 122 & 0 & 1.0 & 1 & 0 & 2 & 1\\\\\n",
       "\\end{tabular}\n"
      ],
      "text/markdown": [
       "\n",
       "A data.frame: 6 × 14\n",
       "\n",
       "| <!--/--> | age &lt;int&gt; | sex &lt;int&gt; | cp &lt;int&gt; | trestbps &lt;int&gt; | chol &lt;int&gt; | fbs &lt;int&gt; | restecg &lt;int&gt; | thalach &lt;int&gt; | exang &lt;int&gt; | oldpeak &lt;dbl&gt; | slope &lt;int&gt; | ca &lt;int&gt; | thal &lt;int&gt; | target &lt;int&gt; |\n",
       "|---|---|---|---|---|---|---|---|---|---|---|---|---|---|---|\n",
       "| 1 | 52 | 1 | 0 | 125 | 212 | 0 | 1 | 168 | 0 | 1.0 | 2 | 2 | 3 | 0 |\n",
       "| 2 | 53 | 1 | 0 | 140 | 203 | 1 | 0 | 155 | 1 | 3.1 | 0 | 0 | 3 | 0 |\n",
       "| 3 | 70 | 1 | 0 | 145 | 174 | 0 | 1 | 125 | 1 | 2.6 | 0 | 0 | 3 | 0 |\n",
       "| 4 | 61 | 1 | 0 | 148 | 203 | 0 | 1 | 161 | 0 | 0.0 | 2 | 1 | 3 | 0 |\n",
       "| 5 | 62 | 0 | 0 | 138 | 294 | 1 | 1 | 106 | 0 | 1.9 | 1 | 3 | 2 | 0 |\n",
       "| 6 | 58 | 0 | 0 | 100 | 248 | 0 | 0 | 122 | 0 | 1.0 | 1 | 0 | 2 | 1 |\n",
       "\n"
      ],
      "text/plain": [
       "  age sex cp trestbps chol fbs restecg thalach exang oldpeak slope ca thal\n",
       "1 52  1   0  125      212  0   1       168     0     1.0     2     2  3   \n",
       "2 53  1   0  140      203  1   0       155     1     3.1     0     0  3   \n",
       "3 70  1   0  145      174  0   1       125     1     2.6     0     0  3   \n",
       "4 61  1   0  148      203  0   1       161     0     0.0     2     1  3   \n",
       "5 62  0   0  138      294  1   1       106     0     1.9     1     3  2   \n",
       "6 58  0   0  100      248  0   0       122     0     1.0     1     0  2   \n",
       "  target\n",
       "1 0     \n",
       "2 0     \n",
       "3 0     \n",
       "4 0     \n",
       "5 0     \n",
       "6 1     "
      ]
     },
     "metadata": {},
     "output_type": "display_data"
    }
   ],
   "source": [
    "df = read.csv(\"sampledata//heart.csv\")\n",
    "\n",
    "head(df)"
   ]
  },
  {
   "cell_type": "markdown",
   "id": "c2bec30b",
   "metadata": {},
   "source": [
    "## Rename Columns "
   ]
  },
  {
   "cell_type": "code",
   "execution_count": 84,
   "id": "92457f0f",
   "metadata": {},
   "outputs": [
    {
     "data": {
      "text/html": [
       "<style>\n",
       ".list-inline {list-style: none; margin:0; padding: 0}\n",
       ".list-inline>li {display: inline-block}\n",
       ".list-inline>li:not(:last-child)::after {content: \"\\00b7\"; padding: 0 .5ex}\n",
       "</style>\n",
       "<ol class=list-inline><li>'age'</li><li>'sex'</li><li>'cp'</li><li>'trestbps'</li><li>'chol'</li><li>'fbs'</li><li>'restecg'</li><li>'thalach'</li><li>'exang'</li><li>'oldpeak'</li><li>'slope'</li><li>'ca'</li><li>'thal'</li><li>'target'</li></ol>\n"
      ],
      "text/latex": [
       "\\begin{enumerate*}\n",
       "\\item 'age'\n",
       "\\item 'sex'\n",
       "\\item 'cp'\n",
       "\\item 'trestbps'\n",
       "\\item 'chol'\n",
       "\\item 'fbs'\n",
       "\\item 'restecg'\n",
       "\\item 'thalach'\n",
       "\\item 'exang'\n",
       "\\item 'oldpeak'\n",
       "\\item 'slope'\n",
       "\\item 'ca'\n",
       "\\item 'thal'\n",
       "\\item 'target'\n",
       "\\end{enumerate*}\n"
      ],
      "text/markdown": [
       "1. 'age'\n",
       "2. 'sex'\n",
       "3. 'cp'\n",
       "4. 'trestbps'\n",
       "5. 'chol'\n",
       "6. 'fbs'\n",
       "7. 'restecg'\n",
       "8. 'thalach'\n",
       "9. 'exang'\n",
       "10. 'oldpeak'\n",
       "11. 'slope'\n",
       "12. 'ca'\n",
       "13. 'thal'\n",
       "14. 'target'\n",
       "\n",
       "\n"
      ],
      "text/plain": [
       " [1] \"age\"      \"sex\"      \"cp\"       \"trestbps\" \"chol\"     \"fbs\"     \n",
       " [7] \"restecg\"  \"thalach\"  \"exang\"    \"oldpeak\"  \"slope\"    \"ca\"      \n",
       "[13] \"thal\"     \"target\"  "
      ]
     },
     "metadata": {},
     "output_type": "display_data"
    }
   ],
   "source": [
    "colnames(df)"
   ]
  },
  {
   "cell_type": "code",
   "execution_count": 85,
   "id": "2cae2ce2",
   "metadata": {},
   "outputs": [],
   "source": [
    "colnames(df)[which(names(df) == \"exang\")] <- \"Exang\""
   ]
  },
  {
   "cell_type": "code",
   "execution_count": 86,
   "id": "381b7939",
   "metadata": {},
   "outputs": [
    {
     "data": {
      "text/html": [
       "<table class=\"dataframe\">\n",
       "<caption>A data.frame: 1 × 14</caption>\n",
       "<thead>\n",
       "\t<tr><th></th><th scope=col>age</th><th scope=col>sex</th><th scope=col>cp</th><th scope=col>trestbps</th><th scope=col>chol</th><th scope=col>fbs</th><th scope=col>restecg</th><th scope=col>thalach</th><th scope=col>Exang</th><th scope=col>oldpeak</th><th scope=col>slope</th><th scope=col>ca</th><th scope=col>thal</th><th scope=col>target</th></tr>\n",
       "\t<tr><th></th><th scope=col>&lt;int&gt;</th><th scope=col>&lt;int&gt;</th><th scope=col>&lt;int&gt;</th><th scope=col>&lt;int&gt;</th><th scope=col>&lt;int&gt;</th><th scope=col>&lt;int&gt;</th><th scope=col>&lt;int&gt;</th><th scope=col>&lt;int&gt;</th><th scope=col>&lt;int&gt;</th><th scope=col>&lt;dbl&gt;</th><th scope=col>&lt;int&gt;</th><th scope=col>&lt;int&gt;</th><th scope=col>&lt;int&gt;</th><th scope=col>&lt;int&gt;</th></tr>\n",
       "</thead>\n",
       "<tbody>\n",
       "\t<tr><th scope=row>1</th><td>52</td><td>1</td><td>0</td><td>125</td><td>212</td><td>0</td><td>1</td><td>168</td><td>0</td><td>1</td><td>2</td><td>2</td><td>3</td><td>0</td></tr>\n",
       "</tbody>\n",
       "</table>\n"
      ],
      "text/latex": [
       "A data.frame: 1 × 14\n",
       "\\begin{tabular}{r|llllllllllllll}\n",
       "  & age & sex & cp & trestbps & chol & fbs & restecg & thalach & Exang & oldpeak & slope & ca & thal & target\\\\\n",
       "  & <int> & <int> & <int> & <int> & <int> & <int> & <int> & <int> & <int> & <dbl> & <int> & <int> & <int> & <int>\\\\\n",
       "\\hline\n",
       "\t1 & 52 & 1 & 0 & 125 & 212 & 0 & 1 & 168 & 0 & 1 & 2 & 2 & 3 & 0\\\\\n",
       "\\end{tabular}\n"
      ],
      "text/markdown": [
       "\n",
       "A data.frame: 1 × 14\n",
       "\n",
       "| <!--/--> | age &lt;int&gt; | sex &lt;int&gt; | cp &lt;int&gt; | trestbps &lt;int&gt; | chol &lt;int&gt; | fbs &lt;int&gt; | restecg &lt;int&gt; | thalach &lt;int&gt; | Exang &lt;int&gt; | oldpeak &lt;dbl&gt; | slope &lt;int&gt; | ca &lt;int&gt; | thal &lt;int&gt; | target &lt;int&gt; |\n",
       "|---|---|---|---|---|---|---|---|---|---|---|---|---|---|---|\n",
       "| 1 | 52 | 1 | 0 | 125 | 212 | 0 | 1 | 168 | 0 | 1 | 2 | 2 | 3 | 0 |\n",
       "\n"
      ],
      "text/plain": [
       "  age sex cp trestbps chol fbs restecg thalach Exang oldpeak slope ca thal\n",
       "1 52  1   0  125      212  0   1       168     0     1       2     2  3   \n",
       "  target\n",
       "1 0     "
      ]
     },
     "metadata": {},
     "output_type": "display_data"
    }
   ],
   "source": [
    "head(df,1)"
   ]
  },
  {
   "cell_type": "code",
   "execution_count": 87,
   "id": "14c52a92",
   "metadata": {},
   "outputs": [],
   "source": [
    "# Rename Single Column\n",
    "\n",
    "colnames(df)[1] <- 'Age'"
   ]
  },
  {
   "cell_type": "code",
   "execution_count": 88,
   "id": "1244e30e",
   "metadata": {},
   "outputs": [
    {
     "data": {
      "text/html": [
       "<table class=\"dataframe\">\n",
       "<caption>A data.frame: 1 × 14</caption>\n",
       "<thead>\n",
       "\t<tr><th></th><th scope=col>Age</th><th scope=col>sex</th><th scope=col>cp</th><th scope=col>trestbps</th><th scope=col>chol</th><th scope=col>fbs</th><th scope=col>restecg</th><th scope=col>thalach</th><th scope=col>Exang</th><th scope=col>oldpeak</th><th scope=col>slope</th><th scope=col>ca</th><th scope=col>thal</th><th scope=col>target</th></tr>\n",
       "\t<tr><th></th><th scope=col>&lt;int&gt;</th><th scope=col>&lt;int&gt;</th><th scope=col>&lt;int&gt;</th><th scope=col>&lt;int&gt;</th><th scope=col>&lt;int&gt;</th><th scope=col>&lt;int&gt;</th><th scope=col>&lt;int&gt;</th><th scope=col>&lt;int&gt;</th><th scope=col>&lt;int&gt;</th><th scope=col>&lt;dbl&gt;</th><th scope=col>&lt;int&gt;</th><th scope=col>&lt;int&gt;</th><th scope=col>&lt;int&gt;</th><th scope=col>&lt;int&gt;</th></tr>\n",
       "</thead>\n",
       "<tbody>\n",
       "\t<tr><th scope=row>1</th><td>52</td><td>1</td><td>0</td><td>125</td><td>212</td><td>0</td><td>1</td><td>168</td><td>0</td><td>1</td><td>2</td><td>2</td><td>3</td><td>0</td></tr>\n",
       "</tbody>\n",
       "</table>\n"
      ],
      "text/latex": [
       "A data.frame: 1 × 14\n",
       "\\begin{tabular}{r|llllllllllllll}\n",
       "  & Age & sex & cp & trestbps & chol & fbs & restecg & thalach & Exang & oldpeak & slope & ca & thal & target\\\\\n",
       "  & <int> & <int> & <int> & <int> & <int> & <int> & <int> & <int> & <int> & <dbl> & <int> & <int> & <int> & <int>\\\\\n",
       "\\hline\n",
       "\t1 & 52 & 1 & 0 & 125 & 212 & 0 & 1 & 168 & 0 & 1 & 2 & 2 & 3 & 0\\\\\n",
       "\\end{tabular}\n"
      ],
      "text/markdown": [
       "\n",
       "A data.frame: 1 × 14\n",
       "\n",
       "| <!--/--> | Age &lt;int&gt; | sex &lt;int&gt; | cp &lt;int&gt; | trestbps &lt;int&gt; | chol &lt;int&gt; | fbs &lt;int&gt; | restecg &lt;int&gt; | thalach &lt;int&gt; | Exang &lt;int&gt; | oldpeak &lt;dbl&gt; | slope &lt;int&gt; | ca &lt;int&gt; | thal &lt;int&gt; | target &lt;int&gt; |\n",
       "|---|---|---|---|---|---|---|---|---|---|---|---|---|---|---|\n",
       "| 1 | 52 | 1 | 0 | 125 | 212 | 0 | 1 | 168 | 0 | 1 | 2 | 2 | 3 | 0 |\n",
       "\n"
      ],
      "text/plain": [
       "  Age sex cp trestbps chol fbs restecg thalach Exang oldpeak slope ca thal\n",
       "1 52  1   0  125      212  0   1       168     0     1       2     2  3   \n",
       "  target\n",
       "1 0     "
      ]
     },
     "metadata": {},
     "output_type": "display_data"
    }
   ],
   "source": [
    "head(df,1)"
   ]
  },
  {
   "cell_type": "markdown",
   "id": "d008b48e",
   "metadata": {},
   "source": [
    "## Rename All columns "
   ]
  },
  {
   "cell_type": "code",
   "execution_count": 89,
   "id": "cc91ad9a",
   "metadata": {},
   "outputs": [
    {
     "data": {
      "text/html": [
       "<table class=\"dataframe\">\n",
       "<caption>A data.frame: 1 × 14</caption>\n",
       "<thead>\n",
       "\t<tr><th></th><th scope=col>Age</th><th scope=col>Sex</th><th scope=col>CP</th><th scope=col>Trestbps</th><th scope=col>Chol</th><th scope=col>Fbs</th><th scope=col>Restecg</th><th scope=col>Thalach</th><th scope=col>Exang</th><th scope=col>Oldpeak</th><th scope=col>Slope</th><th scope=col>CA</th><th scope=col>Thal</th><th scope=col>Target</th></tr>\n",
       "\t<tr><th></th><th scope=col>&lt;int&gt;</th><th scope=col>&lt;int&gt;</th><th scope=col>&lt;int&gt;</th><th scope=col>&lt;int&gt;</th><th scope=col>&lt;int&gt;</th><th scope=col>&lt;int&gt;</th><th scope=col>&lt;int&gt;</th><th scope=col>&lt;int&gt;</th><th scope=col>&lt;int&gt;</th><th scope=col>&lt;dbl&gt;</th><th scope=col>&lt;int&gt;</th><th scope=col>&lt;int&gt;</th><th scope=col>&lt;int&gt;</th><th scope=col>&lt;int&gt;</th></tr>\n",
       "</thead>\n",
       "<tbody>\n",
       "\t<tr><th scope=row>1</th><td>52</td><td>1</td><td>0</td><td>125</td><td>212</td><td>0</td><td>1</td><td>168</td><td>0</td><td>1</td><td>2</td><td>2</td><td>3</td><td>0</td></tr>\n",
       "</tbody>\n",
       "</table>\n"
      ],
      "text/latex": [
       "A data.frame: 1 × 14\n",
       "\\begin{tabular}{r|llllllllllllll}\n",
       "  & Age & Sex & CP & Trestbps & Chol & Fbs & Restecg & Thalach & Exang & Oldpeak & Slope & CA & Thal & Target\\\\\n",
       "  & <int> & <int> & <int> & <int> & <int> & <int> & <int> & <int> & <int> & <dbl> & <int> & <int> & <int> & <int>\\\\\n",
       "\\hline\n",
       "\t1 & 52 & 1 & 0 & 125 & 212 & 0 & 1 & 168 & 0 & 1 & 2 & 2 & 3 & 0\\\\\n",
       "\\end{tabular}\n"
      ],
      "text/markdown": [
       "\n",
       "A data.frame: 1 × 14\n",
       "\n",
       "| <!--/--> | Age &lt;int&gt; | Sex &lt;int&gt; | CP &lt;int&gt; | Trestbps &lt;int&gt; | Chol &lt;int&gt; | Fbs &lt;int&gt; | Restecg &lt;int&gt; | Thalach &lt;int&gt; | Exang &lt;int&gt; | Oldpeak &lt;dbl&gt; | Slope &lt;int&gt; | CA &lt;int&gt; | Thal &lt;int&gt; | Target &lt;int&gt; |\n",
       "|---|---|---|---|---|---|---|---|---|---|---|---|---|---|---|\n",
       "| 1 | 52 | 1 | 0 | 125 | 212 | 0 | 1 | 168 | 0 | 1 | 2 | 2 | 3 | 0 |\n",
       "\n"
      ],
      "text/plain": [
       "  Age Sex CP Trestbps Chol Fbs Restecg Thalach Exang Oldpeak Slope CA Thal\n",
       "1 52  1   0  125      212  0   1       168     0     1       2     2  3   \n",
       "  Target\n",
       "1 0     "
      ]
     },
     "metadata": {},
     "output_type": "display_data"
    }
   ],
   "source": [
    "col_names = c (\"Age\",\"Sex\",\"CP\",\"Trestbps\",\"Chol\",\"Fbs\",\"Restecg\",\"Thalach\",\"Exang\",\"Oldpeak\",\"Slope\",\"CA\",\"Thal\",\"Target\")\n",
    "\n",
    "colnames(df) = col_names\n",
    "\n",
    "head(df,1)"
   ]
  },
  {
   "cell_type": "code",
   "execution_count": null,
   "id": "6a6bf109",
   "metadata": {},
   "outputs": [],
   "source": []
  },
  {
   "cell_type": "code",
   "execution_count": 90,
   "id": "d32c2190",
   "metadata": {},
   "outputs": [],
   "source": [
    "# Using setNames\n",
    "df <- setNames(df, col_names)"
   ]
  },
  {
   "cell_type": "code",
   "execution_count": 91,
   "id": "f41e67d9",
   "metadata": {},
   "outputs": [
    {
     "data": {
      "text/html": [
       "<table class=\"dataframe\">\n",
       "<caption>A data.frame: 1 × 14</caption>\n",
       "<thead>\n",
       "\t<tr><th></th><th scope=col>Age</th><th scope=col>Sex</th><th scope=col>CP</th><th scope=col>Trestbps</th><th scope=col>Chol</th><th scope=col>Fbs</th><th scope=col>Restecg</th><th scope=col>Thalach</th><th scope=col>Exang</th><th scope=col>Oldpeak</th><th scope=col>Slope</th><th scope=col>CA</th><th scope=col>Thal</th><th scope=col>Target</th></tr>\n",
       "\t<tr><th></th><th scope=col>&lt;int&gt;</th><th scope=col>&lt;int&gt;</th><th scope=col>&lt;int&gt;</th><th scope=col>&lt;int&gt;</th><th scope=col>&lt;int&gt;</th><th scope=col>&lt;int&gt;</th><th scope=col>&lt;int&gt;</th><th scope=col>&lt;int&gt;</th><th scope=col>&lt;int&gt;</th><th scope=col>&lt;dbl&gt;</th><th scope=col>&lt;int&gt;</th><th scope=col>&lt;int&gt;</th><th scope=col>&lt;int&gt;</th><th scope=col>&lt;int&gt;</th></tr>\n",
       "</thead>\n",
       "<tbody>\n",
       "\t<tr><th scope=row>1</th><td>52</td><td>1</td><td>0</td><td>125</td><td>212</td><td>0</td><td>1</td><td>168</td><td>0</td><td>1</td><td>2</td><td>2</td><td>3</td><td>0</td></tr>\n",
       "</tbody>\n",
       "</table>\n"
      ],
      "text/latex": [
       "A data.frame: 1 × 14\n",
       "\\begin{tabular}{r|llllllllllllll}\n",
       "  & Age & Sex & CP & Trestbps & Chol & Fbs & Restecg & Thalach & Exang & Oldpeak & Slope & CA & Thal & Target\\\\\n",
       "  & <int> & <int> & <int> & <int> & <int> & <int> & <int> & <int> & <int> & <dbl> & <int> & <int> & <int> & <int>\\\\\n",
       "\\hline\n",
       "\t1 & 52 & 1 & 0 & 125 & 212 & 0 & 1 & 168 & 0 & 1 & 2 & 2 & 3 & 0\\\\\n",
       "\\end{tabular}\n"
      ],
      "text/markdown": [
       "\n",
       "A data.frame: 1 × 14\n",
       "\n",
       "| <!--/--> | Age &lt;int&gt; | Sex &lt;int&gt; | CP &lt;int&gt; | Trestbps &lt;int&gt; | Chol &lt;int&gt; | Fbs &lt;int&gt; | Restecg &lt;int&gt; | Thalach &lt;int&gt; | Exang &lt;int&gt; | Oldpeak &lt;dbl&gt; | Slope &lt;int&gt; | CA &lt;int&gt; | Thal &lt;int&gt; | Target &lt;int&gt; |\n",
       "|---|---|---|---|---|---|---|---|---|---|---|---|---|---|---|\n",
       "| 1 | 52 | 1 | 0 | 125 | 212 | 0 | 1 | 168 | 0 | 1 | 2 | 2 | 3 | 0 |\n",
       "\n"
      ],
      "text/plain": [
       "  Age Sex CP Trestbps Chol Fbs Restecg Thalach Exang Oldpeak Slope CA Thal\n",
       "1 52  1   0  125      212  0   1       168     0     1       2     2  3   \n",
       "  Target\n",
       "1 0     "
      ]
     },
     "metadata": {},
     "output_type": "display_data"
    }
   ],
   "source": [
    "head(df,1)"
   ]
  },
  {
   "cell_type": "markdown",
   "id": "69880b3a",
   "metadata": {},
   "source": [
    "## Add New Columns"
   ]
  },
  {
   "cell_type": "code",
   "execution_count": 92,
   "id": "c219be1c",
   "metadata": {},
   "outputs": [],
   "source": [
    "df$column1 = \"NA\""
   ]
  },
  {
   "cell_type": "code",
   "execution_count": 93,
   "id": "1f47fabf",
   "metadata": {},
   "outputs": [
    {
     "data": {
      "text/html": [
       "<table class=\"dataframe\">\n",
       "<caption>A data.frame: 1 × 15</caption>\n",
       "<thead>\n",
       "\t<tr><th></th><th scope=col>Age</th><th scope=col>Sex</th><th scope=col>CP</th><th scope=col>Trestbps</th><th scope=col>Chol</th><th scope=col>Fbs</th><th scope=col>Restecg</th><th scope=col>Thalach</th><th scope=col>Exang</th><th scope=col>Oldpeak</th><th scope=col>Slope</th><th scope=col>CA</th><th scope=col>Thal</th><th scope=col>Target</th><th scope=col>column1</th></tr>\n",
       "\t<tr><th></th><th scope=col>&lt;int&gt;</th><th scope=col>&lt;int&gt;</th><th scope=col>&lt;int&gt;</th><th scope=col>&lt;int&gt;</th><th scope=col>&lt;int&gt;</th><th scope=col>&lt;int&gt;</th><th scope=col>&lt;int&gt;</th><th scope=col>&lt;int&gt;</th><th scope=col>&lt;int&gt;</th><th scope=col>&lt;dbl&gt;</th><th scope=col>&lt;int&gt;</th><th scope=col>&lt;int&gt;</th><th scope=col>&lt;int&gt;</th><th scope=col>&lt;int&gt;</th><th scope=col>&lt;chr&gt;</th></tr>\n",
       "</thead>\n",
       "<tbody>\n",
       "\t<tr><th scope=row>1</th><td>52</td><td>1</td><td>0</td><td>125</td><td>212</td><td>0</td><td>1</td><td>168</td><td>0</td><td>1</td><td>2</td><td>2</td><td>3</td><td>0</td><td>NA</td></tr>\n",
       "</tbody>\n",
       "</table>\n"
      ],
      "text/latex": [
       "A data.frame: 1 × 15\n",
       "\\begin{tabular}{r|lllllllllllllll}\n",
       "  & Age & Sex & CP & Trestbps & Chol & Fbs & Restecg & Thalach & Exang & Oldpeak & Slope & CA & Thal & Target & column1\\\\\n",
       "  & <int> & <int> & <int> & <int> & <int> & <int> & <int> & <int> & <int> & <dbl> & <int> & <int> & <int> & <int> & <chr>\\\\\n",
       "\\hline\n",
       "\t1 & 52 & 1 & 0 & 125 & 212 & 0 & 1 & 168 & 0 & 1 & 2 & 2 & 3 & 0 & NA\\\\\n",
       "\\end{tabular}\n"
      ],
      "text/markdown": [
       "\n",
       "A data.frame: 1 × 15\n",
       "\n",
       "| <!--/--> | Age &lt;int&gt; | Sex &lt;int&gt; | CP &lt;int&gt; | Trestbps &lt;int&gt; | Chol &lt;int&gt; | Fbs &lt;int&gt; | Restecg &lt;int&gt; | Thalach &lt;int&gt; | Exang &lt;int&gt; | Oldpeak &lt;dbl&gt; | Slope &lt;int&gt; | CA &lt;int&gt; | Thal &lt;int&gt; | Target &lt;int&gt; | column1 &lt;chr&gt; |\n",
       "|---|---|---|---|---|---|---|---|---|---|---|---|---|---|---|---|\n",
       "| 1 | 52 | 1 | 0 | 125 | 212 | 0 | 1 | 168 | 0 | 1 | 2 | 2 | 3 | 0 | NA |\n",
       "\n"
      ],
      "text/plain": [
       "  Age Sex CP Trestbps Chol Fbs Restecg Thalach Exang Oldpeak Slope CA Thal\n",
       "1 52  1   0  125      212  0   1       168     0     1       2     2  3   \n",
       "  Target column1\n",
       "1 0      NA     "
      ]
     },
     "metadata": {},
     "output_type": "display_data"
    }
   ],
   "source": [
    "head(df,1)"
   ]
  },
  {
   "cell_type": "code",
   "execution_count": 94,
   "id": "7684aa10",
   "metadata": {},
   "outputs": [
    {
     "data": {
      "text/html": [
       "<style>\n",
       ".list-inline {list-style: none; margin:0; padding: 0}\n",
       ".list-inline>li {display: inline-block}\n",
       ".list-inline>li:not(:last-child)::after {content: \"\\00b7\"; padding: 0 .5ex}\n",
       "</style>\n",
       "<ol class=list-inline><li>1025</li><li>15</li></ol>\n"
      ],
      "text/latex": [
       "\\begin{enumerate*}\n",
       "\\item 1025\n",
       "\\item 15\n",
       "\\end{enumerate*}\n"
      ],
      "text/markdown": [
       "1. 1025\n",
       "2. 15\n",
       "\n",
       "\n"
      ],
      "text/plain": [
       "[1] 1025   15"
      ]
     },
     "metadata": {},
     "output_type": "display_data"
    }
   ],
   "source": [
    "dim(df)"
   ]
  },
  {
   "cell_type": "markdown",
   "id": "6f7febd9",
   "metadata": {},
   "source": [
    "## Add New Row "
   ]
  },
  {
   "cell_type": "code",
   "execution_count": 95,
   "id": "1bbe5011",
   "metadata": {},
   "outputs": [
    {
     "data": {
      "text/html": [
       "<style>\n",
       ".list-inline {list-style: none; margin:0; padding: 0}\n",
       ".list-inline>li {display: inline-block}\n",
       ".list-inline>li:not(:last-child)::after {content: \"\\00b7\"; padding: 0 .5ex}\n",
       "</style>\n",
       "<ol class=list-inline><li>1026</li><li>15</li></ol>\n"
      ],
      "text/latex": [
       "\\begin{enumerate*}\n",
       "\\item 1026\n",
       "\\item 15\n",
       "\\end{enumerate*}\n"
      ],
      "text/markdown": [
       "1. 1026\n",
       "2. 15\n",
       "\n",
       "\n"
      ],
      "text/plain": [
       "[1] 1026   15"
      ]
     },
     "metadata": {},
     "output_type": "display_data"
    }
   ],
   "source": [
    "df = rbind(df, c(52,1,0,125,212,0,1,168,0,1,2,2,3,0,'NA'))\n",
    "dim(df)"
   ]
  },
  {
   "cell_type": "code",
   "execution_count": 96,
   "id": "cb27de98",
   "metadata": {},
   "outputs": [
    {
     "data": {
      "text/html": [
       "<style>\n",
       ".list-inline {list-style: none; margin:0; padding: 0}\n",
       ".list-inline>li {display: inline-block}\n",
       ".list-inline>li:not(:last-child)::after {content: \"\\00b7\"; padding: 0 .5ex}\n",
       "</style>\n",
       "<ol class=list-inline><li>1027</li><li>15</li></ol>\n"
      ],
      "text/latex": [
       "\\begin{enumerate*}\n",
       "\\item 1027\n",
       "\\item 15\n",
       "\\end{enumerate*}\n"
      ],
      "text/markdown": [
       "1. 1027\n",
       "2. 15\n",
       "\n",
       "\n"
      ],
      "text/plain": [
       "[1] 1027   15"
      ]
     },
     "metadata": {},
     "output_type": "display_data"
    }
   ],
   "source": [
    "library(tidyverse)\n",
    "\n",
    "df= df %>% add_row(column1 = \"NA\", Exang = \"0\")\n",
    "\n",
    "dim(df)"
   ]
  },
  {
   "cell_type": "code",
   "execution_count": 97,
   "id": "7ae283d0",
   "metadata": {},
   "outputs": [
    {
     "data": {
      "text/html": [
       "<table class=\"dataframe\">\n",
       "<caption>A data.frame: 1 × 15</caption>\n",
       "<thead>\n",
       "\t<tr><th></th><th scope=col>Age</th><th scope=col>Sex</th><th scope=col>CP</th><th scope=col>Trestbps</th><th scope=col>Chol</th><th scope=col>Fbs</th><th scope=col>Restecg</th><th scope=col>Thalach</th><th scope=col>Exang</th><th scope=col>Oldpeak</th><th scope=col>Slope</th><th scope=col>CA</th><th scope=col>Thal</th><th scope=col>Target</th><th scope=col>column1</th></tr>\n",
       "\t<tr><th></th><th scope=col>&lt;chr&gt;</th><th scope=col>&lt;chr&gt;</th><th scope=col>&lt;chr&gt;</th><th scope=col>&lt;chr&gt;</th><th scope=col>&lt;chr&gt;</th><th scope=col>&lt;chr&gt;</th><th scope=col>&lt;chr&gt;</th><th scope=col>&lt;chr&gt;</th><th scope=col>&lt;chr&gt;</th><th scope=col>&lt;chr&gt;</th><th scope=col>&lt;chr&gt;</th><th scope=col>&lt;chr&gt;</th><th scope=col>&lt;chr&gt;</th><th scope=col>&lt;chr&gt;</th><th scope=col>&lt;chr&gt;</th></tr>\n",
       "</thead>\n",
       "<tbody>\n",
       "\t<tr><th scope=row>1027</th><td>NA</td><td>NA</td><td>NA</td><td>NA</td><td>NA</td><td>NA</td><td>NA</td><td>NA</td><td>0</td><td>NA</td><td>NA</td><td>NA</td><td>NA</td><td>NA</td><td>NA</td></tr>\n",
       "</tbody>\n",
       "</table>\n"
      ],
      "text/latex": [
       "A data.frame: 1 × 15\n",
       "\\begin{tabular}{r|lllllllllllllll}\n",
       "  & Age & Sex & CP & Trestbps & Chol & Fbs & Restecg & Thalach & Exang & Oldpeak & Slope & CA & Thal & Target & column1\\\\\n",
       "  & <chr> & <chr> & <chr> & <chr> & <chr> & <chr> & <chr> & <chr> & <chr> & <chr> & <chr> & <chr> & <chr> & <chr> & <chr>\\\\\n",
       "\\hline\n",
       "\t1027 & NA & NA & NA & NA & NA & NA & NA & NA & 0 & NA & NA & NA & NA & NA & NA\\\\\n",
       "\\end{tabular}\n"
      ],
      "text/markdown": [
       "\n",
       "A data.frame: 1 × 15\n",
       "\n",
       "| <!--/--> | Age &lt;chr&gt; | Sex &lt;chr&gt; | CP &lt;chr&gt; | Trestbps &lt;chr&gt; | Chol &lt;chr&gt; | Fbs &lt;chr&gt; | Restecg &lt;chr&gt; | Thalach &lt;chr&gt; | Exang &lt;chr&gt; | Oldpeak &lt;chr&gt; | Slope &lt;chr&gt; | CA &lt;chr&gt; | Thal &lt;chr&gt; | Target &lt;chr&gt; | column1 &lt;chr&gt; |\n",
       "|---|---|---|---|---|---|---|---|---|---|---|---|---|---|---|---|\n",
       "| 1027 | NA | NA | NA | NA | NA | NA | NA | NA | 0 | NA | NA | NA | NA | NA | NA |\n",
       "\n"
      ],
      "text/plain": [
       "     Age Sex CP Trestbps Chol Fbs Restecg Thalach Exang Oldpeak Slope CA Thal\n",
       "1027 NA  NA  NA NA       NA   NA  NA      NA      0     NA      NA    NA NA  \n",
       "     Target column1\n",
       "1027 NA     NA     "
      ]
     },
     "metadata": {},
     "output_type": "display_data"
    }
   ],
   "source": [
    "df[1027,]"
   ]
  },
  {
   "cell_type": "code",
   "execution_count": 98,
   "id": "6f9c282e",
   "metadata": {},
   "outputs": [
    {
     "data": {
      "text/html": [
       "<style>\n",
       ".list-inline {list-style: none; margin:0; padding: 0}\n",
       ".list-inline>li {display: inline-block}\n",
       ".list-inline>li:not(:last-child)::after {content: \"\\00b7\"; padding: 0 .5ex}\n",
       "</style>\n",
       "<ol class=list-inline><li>1028</li><li>15</li></ol>\n"
      ],
      "text/latex": [
       "\\begin{enumerate*}\n",
       "\\item 1028\n",
       "\\item 15\n",
       "\\end{enumerate*}\n"
      ],
      "text/markdown": [
       "1. 1028\n",
       "2. 15\n",
       "\n",
       "\n"
      ],
      "text/plain": [
       "[1] 1028   15"
      ]
     },
     "metadata": {},
     "output_type": "display_data"
    }
   ],
   "source": [
    "\n",
    "df[nrow(df) + 1,] <- c(52,1,0,125,212,0,1,168,0,1,2,2,3,0,'NA')\n",
    "\n",
    "dim(df)"
   ]
  },
  {
   "cell_type": "code",
   "execution_count": 100,
   "id": "858bebc5",
   "metadata": {},
   "outputs": [
    {
     "data": {
      "text/html": [
       "<table class=\"dataframe\">\n",
       "<caption>A data.frame: 6 × 12</caption>\n",
       "<thead>\n",
       "\t<tr><th></th><th scope=col>Trestbps</th><th scope=col>Chol</th><th scope=col>Fbs</th><th scope=col>Restecg</th><th scope=col>Thalach</th><th scope=col>Exang</th><th scope=col>Oldpeak</th><th scope=col>Slope</th><th scope=col>CA</th><th scope=col>Thal</th><th scope=col>Target</th><th scope=col>column1</th></tr>\n",
       "\t<tr><th></th><th scope=col>&lt;chr&gt;</th><th scope=col>&lt;chr&gt;</th><th scope=col>&lt;chr&gt;</th><th scope=col>&lt;chr&gt;</th><th scope=col>&lt;chr&gt;</th><th scope=col>&lt;chr&gt;</th><th scope=col>&lt;chr&gt;</th><th scope=col>&lt;chr&gt;</th><th scope=col>&lt;chr&gt;</th><th scope=col>&lt;chr&gt;</th><th scope=col>&lt;chr&gt;</th><th scope=col>&lt;chr&gt;</th></tr>\n",
       "</thead>\n",
       "<tbody>\n",
       "\t<tr><th scope=row>1</th><td>125</td><td>212</td><td>0</td><td>1</td><td>168</td><td>0</td><td>1  </td><td>2</td><td>2</td><td>3</td><td>0</td><td>NA</td></tr>\n",
       "\t<tr><th scope=row>2</th><td>140</td><td>203</td><td>1</td><td>0</td><td>155</td><td>1</td><td>3.1</td><td>0</td><td>0</td><td>3</td><td>0</td><td>NA</td></tr>\n",
       "\t<tr><th scope=row>3</th><td>145</td><td>174</td><td>0</td><td>1</td><td>125</td><td>1</td><td>2.6</td><td>0</td><td>0</td><td>3</td><td>0</td><td>NA</td></tr>\n",
       "\t<tr><th scope=row>4</th><td>148</td><td>203</td><td>0</td><td>1</td><td>161</td><td>0</td><td>0  </td><td>2</td><td>1</td><td>3</td><td>0</td><td>NA</td></tr>\n",
       "\t<tr><th scope=row>5</th><td>138</td><td>294</td><td>1</td><td>1</td><td>106</td><td>0</td><td>1.9</td><td>1</td><td>3</td><td>2</td><td>0</td><td>NA</td></tr>\n",
       "\t<tr><th scope=row>6</th><td>100</td><td>248</td><td>0</td><td>0</td><td>122</td><td>0</td><td>1  </td><td>1</td><td>0</td><td>2</td><td>1</td><td>NA</td></tr>\n",
       "</tbody>\n",
       "</table>\n"
      ],
      "text/latex": [
       "A data.frame: 6 × 12\n",
       "\\begin{tabular}{r|llllllllllll}\n",
       "  & Trestbps & Chol & Fbs & Restecg & Thalach & Exang & Oldpeak & Slope & CA & Thal & Target & column1\\\\\n",
       "  & <chr> & <chr> & <chr> & <chr> & <chr> & <chr> & <chr> & <chr> & <chr> & <chr> & <chr> & <chr>\\\\\n",
       "\\hline\n",
       "\t1 & 125 & 212 & 0 & 1 & 168 & 0 & 1   & 2 & 2 & 3 & 0 & NA\\\\\n",
       "\t2 & 140 & 203 & 1 & 0 & 155 & 1 & 3.1 & 0 & 0 & 3 & 0 & NA\\\\\n",
       "\t3 & 145 & 174 & 0 & 1 & 125 & 1 & 2.6 & 0 & 0 & 3 & 0 & NA\\\\\n",
       "\t4 & 148 & 203 & 0 & 1 & 161 & 0 & 0   & 2 & 1 & 3 & 0 & NA\\\\\n",
       "\t5 & 138 & 294 & 1 & 1 & 106 & 0 & 1.9 & 1 & 3 & 2 & 0 & NA\\\\\n",
       "\t6 & 100 & 248 & 0 & 0 & 122 & 0 & 1   & 1 & 0 & 2 & 1 & NA\\\\\n",
       "\\end{tabular}\n"
      ],
      "text/markdown": [
       "\n",
       "A data.frame: 6 × 12\n",
       "\n",
       "| <!--/--> | Trestbps &lt;chr&gt; | Chol &lt;chr&gt; | Fbs &lt;chr&gt; | Restecg &lt;chr&gt; | Thalach &lt;chr&gt; | Exang &lt;chr&gt; | Oldpeak &lt;chr&gt; | Slope &lt;chr&gt; | CA &lt;chr&gt; | Thal &lt;chr&gt; | Target &lt;chr&gt; | column1 &lt;chr&gt; |\n",
       "|---|---|---|---|---|---|---|---|---|---|---|---|---|\n",
       "| 1 | 125 | 212 | 0 | 1 | 168 | 0 | 1   | 2 | 2 | 3 | 0 | NA |\n",
       "| 2 | 140 | 203 | 1 | 0 | 155 | 1 | 3.1 | 0 | 0 | 3 | 0 | NA |\n",
       "| 3 | 145 | 174 | 0 | 1 | 125 | 1 | 2.6 | 0 | 0 | 3 | 0 | NA |\n",
       "| 4 | 148 | 203 | 0 | 1 | 161 | 0 | 0   | 2 | 1 | 3 | 0 | NA |\n",
       "| 5 | 138 | 294 | 1 | 1 | 106 | 0 | 1.9 | 1 | 3 | 2 | 0 | NA |\n",
       "| 6 | 100 | 248 | 0 | 0 | 122 | 0 | 1   | 1 | 0 | 2 | 1 | NA |\n",
       "\n"
      ],
      "text/plain": [
       "  Trestbps Chol Fbs Restecg Thalach Exang Oldpeak Slope CA Thal Target column1\n",
       "1 125      212  0   1       168     0     1       2     2  3    0      NA     \n",
       "2 140      203  1   0       155     1     3.1     0     0  3    0      NA     \n",
       "3 145      174  0   1       125     1     2.6     0     0  3    0      NA     \n",
       "4 148      203  0   1       161     0     0       2     1  3    0      NA     \n",
       "5 138      294  1   1       106     0     1.9     1     3  2    0      NA     \n",
       "6 100      248  0   0       122     0     1       1     0  2    1      NA     "
      ]
     },
     "metadata": {},
     "output_type": "display_data"
    }
   ],
   "source": [
    "head(df[-c(1,2:3)])  # here columns 1,2,3 has been droped"
   ]
  },
  {
   "cell_type": "code",
   "execution_count": 105,
   "id": "4fe9f91f",
   "metadata": {},
   "outputs": [
    {
     "data": {
      "text/html": [
       "<table class=\"dataframe\">\n",
       "<caption>A data.frame: 6 × 13</caption>\n",
       "<thead>\n",
       "\t<tr><th></th><th scope=col>Age</th><th scope=col>Sex</th><th scope=col>CP</th><th scope=col>Trestbps</th><th scope=col>Chol</th><th scope=col>Fbs</th><th scope=col>Restecg</th><th scope=col>Thalach</th><th scope=col>Exang</th><th scope=col>Oldpeak</th><th scope=col>Slope</th><th scope=col>Thal</th><th scope=col>Target</th></tr>\n",
       "\t<tr><th></th><th scope=col>&lt;chr&gt;</th><th scope=col>&lt;chr&gt;</th><th scope=col>&lt;chr&gt;</th><th scope=col>&lt;chr&gt;</th><th scope=col>&lt;chr&gt;</th><th scope=col>&lt;chr&gt;</th><th scope=col>&lt;chr&gt;</th><th scope=col>&lt;chr&gt;</th><th scope=col>&lt;chr&gt;</th><th scope=col>&lt;chr&gt;</th><th scope=col>&lt;chr&gt;</th><th scope=col>&lt;chr&gt;</th><th scope=col>&lt;chr&gt;</th></tr>\n",
       "</thead>\n",
       "<tbody>\n",
       "\t<tr><th scope=row>1</th><td>52</td><td>1</td><td>0</td><td>125</td><td>212</td><td>0</td><td>1</td><td>168</td><td>0</td><td>1  </td><td>2</td><td>3</td><td>0</td></tr>\n",
       "\t<tr><th scope=row>2</th><td>53</td><td>1</td><td>0</td><td>140</td><td>203</td><td>1</td><td>0</td><td>155</td><td>1</td><td>3.1</td><td>0</td><td>3</td><td>0</td></tr>\n",
       "\t<tr><th scope=row>3</th><td>70</td><td>1</td><td>0</td><td>145</td><td>174</td><td>0</td><td>1</td><td>125</td><td>1</td><td>2.6</td><td>0</td><td>3</td><td>0</td></tr>\n",
       "\t<tr><th scope=row>4</th><td>61</td><td>1</td><td>0</td><td>148</td><td>203</td><td>0</td><td>1</td><td>161</td><td>0</td><td>0  </td><td>2</td><td>3</td><td>0</td></tr>\n",
       "\t<tr><th scope=row>5</th><td>62</td><td>0</td><td>0</td><td>138</td><td>294</td><td>1</td><td>1</td><td>106</td><td>0</td><td>1.9</td><td>1</td><td>2</td><td>0</td></tr>\n",
       "\t<tr><th scope=row>6</th><td>58</td><td>0</td><td>0</td><td>100</td><td>248</td><td>0</td><td>0</td><td>122</td><td>0</td><td>1  </td><td>1</td><td>2</td><td>1</td></tr>\n",
       "</tbody>\n",
       "</table>\n"
      ],
      "text/latex": [
       "A data.frame: 6 × 13\n",
       "\\begin{tabular}{r|lllllllllllll}\n",
       "  & Age & Sex & CP & Trestbps & Chol & Fbs & Restecg & Thalach & Exang & Oldpeak & Slope & Thal & Target\\\\\n",
       "  & <chr> & <chr> & <chr> & <chr> & <chr> & <chr> & <chr> & <chr> & <chr> & <chr> & <chr> & <chr> & <chr>\\\\\n",
       "\\hline\n",
       "\t1 & 52 & 1 & 0 & 125 & 212 & 0 & 1 & 168 & 0 & 1   & 2 & 3 & 0\\\\\n",
       "\t2 & 53 & 1 & 0 & 140 & 203 & 1 & 0 & 155 & 1 & 3.1 & 0 & 3 & 0\\\\\n",
       "\t3 & 70 & 1 & 0 & 145 & 174 & 0 & 1 & 125 & 1 & 2.6 & 0 & 3 & 0\\\\\n",
       "\t4 & 61 & 1 & 0 & 148 & 203 & 0 & 1 & 161 & 0 & 0   & 2 & 3 & 0\\\\\n",
       "\t5 & 62 & 0 & 0 & 138 & 294 & 1 & 1 & 106 & 0 & 1.9 & 1 & 2 & 0\\\\\n",
       "\t6 & 58 & 0 & 0 & 100 & 248 & 0 & 0 & 122 & 0 & 1   & 1 & 2 & 1\\\\\n",
       "\\end{tabular}\n"
      ],
      "text/markdown": [
       "\n",
       "A data.frame: 6 × 13\n",
       "\n",
       "| <!--/--> | Age &lt;chr&gt; | Sex &lt;chr&gt; | CP &lt;chr&gt; | Trestbps &lt;chr&gt; | Chol &lt;chr&gt; | Fbs &lt;chr&gt; | Restecg &lt;chr&gt; | Thalach &lt;chr&gt; | Exang &lt;chr&gt; | Oldpeak &lt;chr&gt; | Slope &lt;chr&gt; | Thal &lt;chr&gt; | Target &lt;chr&gt; |\n",
       "|---|---|---|---|---|---|---|---|---|---|---|---|---|---|\n",
       "| 1 | 52 | 1 | 0 | 125 | 212 | 0 | 1 | 168 | 0 | 1   | 2 | 3 | 0 |\n",
       "| 2 | 53 | 1 | 0 | 140 | 203 | 1 | 0 | 155 | 1 | 3.1 | 0 | 3 | 0 |\n",
       "| 3 | 70 | 1 | 0 | 145 | 174 | 0 | 1 | 125 | 1 | 2.6 | 0 | 3 | 0 |\n",
       "| 4 | 61 | 1 | 0 | 148 | 203 | 0 | 1 | 161 | 0 | 0   | 2 | 3 | 0 |\n",
       "| 5 | 62 | 0 | 0 | 138 | 294 | 1 | 1 | 106 | 0 | 1.9 | 1 | 2 | 0 |\n",
       "| 6 | 58 | 0 | 0 | 100 | 248 | 0 | 0 | 122 | 0 | 1   | 1 | 2 | 1 |\n",
       "\n"
      ],
      "text/plain": [
       "  Age Sex CP Trestbps Chol Fbs Restecg Thalach Exang Oldpeak Slope Thal Target\n",
       "1 52  1   0  125      212  0   1       168     0     1       2     3    0     \n",
       "2 53  1   0  140      203  1   0       155     1     3.1     0     3    0     \n",
       "3 70  1   0  145      174  0   1       125     1     2.6     0     3    0     \n",
       "4 61  1   0  148      203  0   1       161     0     0       2     3    0     \n",
       "5 62  0   0  138      294  1   1       106     0     1.9     1     2    0     \n",
       "6 58  0   0  100      248  0   0       122     0     1       1     2    1     "
      ]
     },
     "metadata": {},
     "output_type": "display_data"
    }
   ],
   "source": [
    "\n",
    "drop <- c(\"CA\",\"column1\")\n",
    "\n",
    "head(df[,!(names(df) %in% drop)])\n"
   ]
  },
  {
   "cell_type": "code",
   "execution_count": 107,
   "id": "19978b23",
   "metadata": {},
   "outputs": [
    {
     "data": {
      "text/html": [
       "<table class=\"dataframe\">\n",
       "<caption>A data.frame: 6 × 12</caption>\n",
       "<thead>\n",
       "\t<tr><th></th><th scope=col>Age</th><th scope=col>Sex</th><th scope=col>CP</th><th scope=col>Trestbps</th><th scope=col>Chol</th><th scope=col>Fbs</th><th scope=col>Restecg</th><th scope=col>Thalach</th><th scope=col>Exang</th><th scope=col>Oldpeak</th><th scope=col>Slope</th><th scope=col>Thal</th></tr>\n",
       "\t<tr><th></th><th scope=col>&lt;chr&gt;</th><th scope=col>&lt;chr&gt;</th><th scope=col>&lt;chr&gt;</th><th scope=col>&lt;chr&gt;</th><th scope=col>&lt;chr&gt;</th><th scope=col>&lt;chr&gt;</th><th scope=col>&lt;chr&gt;</th><th scope=col>&lt;chr&gt;</th><th scope=col>&lt;chr&gt;</th><th scope=col>&lt;chr&gt;</th><th scope=col>&lt;chr&gt;</th><th scope=col>&lt;chr&gt;</th></tr>\n",
       "</thead>\n",
       "<tbody>\n",
       "\t<tr><th scope=row>1</th><td>52</td><td>1</td><td>0</td><td>125</td><td>212</td><td>0</td><td>1</td><td>168</td><td>0</td><td>1  </td><td>2</td><td>3</td></tr>\n",
       "\t<tr><th scope=row>2</th><td>53</td><td>1</td><td>0</td><td>140</td><td>203</td><td>1</td><td>0</td><td>155</td><td>1</td><td>3.1</td><td>0</td><td>3</td></tr>\n",
       "\t<tr><th scope=row>3</th><td>70</td><td>1</td><td>0</td><td>145</td><td>174</td><td>0</td><td>1</td><td>125</td><td>1</td><td>2.6</td><td>0</td><td>3</td></tr>\n",
       "\t<tr><th scope=row>4</th><td>61</td><td>1</td><td>0</td><td>148</td><td>203</td><td>0</td><td>1</td><td>161</td><td>0</td><td>0  </td><td>2</td><td>3</td></tr>\n",
       "\t<tr><th scope=row>5</th><td>62</td><td>0</td><td>0</td><td>138</td><td>294</td><td>1</td><td>1</td><td>106</td><td>0</td><td>1.9</td><td>1</td><td>2</td></tr>\n",
       "\t<tr><th scope=row>6</th><td>58</td><td>0</td><td>0</td><td>100</td><td>248</td><td>0</td><td>0</td><td>122</td><td>0</td><td>1  </td><td>1</td><td>2</td></tr>\n",
       "</tbody>\n",
       "</table>\n"
      ],
      "text/latex": [
       "A data.frame: 6 × 12\n",
       "\\begin{tabular}{r|llllllllllll}\n",
       "  & Age & Sex & CP & Trestbps & Chol & Fbs & Restecg & Thalach & Exang & Oldpeak & Slope & Thal\\\\\n",
       "  & <chr> & <chr> & <chr> & <chr> & <chr> & <chr> & <chr> & <chr> & <chr> & <chr> & <chr> & <chr>\\\\\n",
       "\\hline\n",
       "\t1 & 52 & 1 & 0 & 125 & 212 & 0 & 1 & 168 & 0 & 1   & 2 & 3\\\\\n",
       "\t2 & 53 & 1 & 0 & 140 & 203 & 1 & 0 & 155 & 1 & 3.1 & 0 & 3\\\\\n",
       "\t3 & 70 & 1 & 0 & 145 & 174 & 0 & 1 & 125 & 1 & 2.6 & 0 & 3\\\\\n",
       "\t4 & 61 & 1 & 0 & 148 & 203 & 0 & 1 & 161 & 0 & 0   & 2 & 3\\\\\n",
       "\t5 & 62 & 0 & 0 & 138 & 294 & 1 & 1 & 106 & 0 & 1.9 & 1 & 2\\\\\n",
       "\t6 & 58 & 0 & 0 & 100 & 248 & 0 & 0 & 122 & 0 & 1   & 1 & 2\\\\\n",
       "\\end{tabular}\n"
      ],
      "text/markdown": [
       "\n",
       "A data.frame: 6 × 12\n",
       "\n",
       "| <!--/--> | Age &lt;chr&gt; | Sex &lt;chr&gt; | CP &lt;chr&gt; | Trestbps &lt;chr&gt; | Chol &lt;chr&gt; | Fbs &lt;chr&gt; | Restecg &lt;chr&gt; | Thalach &lt;chr&gt; | Exang &lt;chr&gt; | Oldpeak &lt;chr&gt; | Slope &lt;chr&gt; | Thal &lt;chr&gt; |\n",
       "|---|---|---|---|---|---|---|---|---|---|---|---|---|\n",
       "| 1 | 52 | 1 | 0 | 125 | 212 | 0 | 1 | 168 | 0 | 1   | 2 | 3 |\n",
       "| 2 | 53 | 1 | 0 | 140 | 203 | 1 | 0 | 155 | 1 | 3.1 | 0 | 3 |\n",
       "| 3 | 70 | 1 | 0 | 145 | 174 | 0 | 1 | 125 | 1 | 2.6 | 0 | 3 |\n",
       "| 4 | 61 | 1 | 0 | 148 | 203 | 0 | 1 | 161 | 0 | 0   | 2 | 3 |\n",
       "| 5 | 62 | 0 | 0 | 138 | 294 | 1 | 1 | 106 | 0 | 1.9 | 1 | 2 |\n",
       "| 6 | 58 | 0 | 0 | 100 | 248 | 0 | 0 | 122 | 0 | 1   | 1 | 2 |\n",
       "\n"
      ],
      "text/plain": [
       "  Age Sex CP Trestbps Chol Fbs Restecg Thalach Exang Oldpeak Slope Thal\n",
       "1 52  1   0  125      212  0   1       168     0     1       2     3   \n",
       "2 53  1   0  140      203  1   0       155     1     3.1     0     3   \n",
       "3 70  1   0  145      174  0   1       125     1     2.6     0     3   \n",
       "4 61  1   0  148      203  0   1       161     0     0       2     3   \n",
       "5 62  0   0  138      294  1   1       106     0     1.9     1     2   \n",
       "6 58  0   0  100      248  0   0       122     0     1       1     2   "
      ]
     },
     "metadata": {},
     "output_type": "display_data"
    }
   ],
   "source": [
    "# 01 : Delete column by name using 'subset'\n",
    "head(subset(df, select = -c(Target)))"
   ]
  },
  {
   "cell_type": "code",
   "execution_count": null,
   "id": "6fa12809",
   "metadata": {},
   "outputs": [],
   "source": []
  }
 ],
 "metadata": {
  "kernelspec": {
   "display_name": "R",
   "language": "R",
   "name": "ir"
  },
  "language_info": {
   "codemirror_mode": "r",
   "file_extension": ".r",
   "mimetype": "text/x-r-source",
   "name": "R",
   "pygments_lexer": "r",
   "version": "4.2.1"
  }
 },
 "nbformat": 4,
 "nbformat_minor": 5
}
