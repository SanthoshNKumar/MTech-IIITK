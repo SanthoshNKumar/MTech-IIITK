{
 "cells": [
  {
   "cell_type": "code",
   "execution_count": null,
   "id": "dbd48132",
   "metadata": {},
   "outputs": [],
   "source": [
    "# Group_by() function belongs to the dplyr package in the R programming language, which groups the data frames."
   ]
  },
  {
   "cell_type": "code",
   "execution_count": 4,
   "id": "b5ad241b",
   "metadata": {},
   "outputs": [
    {
     "data": {
      "text/html": [
       "<table class=\"dataframe\">\n",
       "<caption>A data.frame: 2 × 5</caption>\n",
       "<thead>\n",
       "\t<tr><th></th><th scope=col>Sepal.Length</th><th scope=col>Sepal.Width</th><th scope=col>Petal.Length</th><th scope=col>Petal.Width</th><th scope=col>Species</th></tr>\n",
       "\t<tr><th></th><th scope=col>&lt;dbl&gt;</th><th scope=col>&lt;dbl&gt;</th><th scope=col>&lt;dbl&gt;</th><th scope=col>&lt;dbl&gt;</th><th scope=col>&lt;fct&gt;</th></tr>\n",
       "</thead>\n",
       "<tbody>\n",
       "\t<tr><th scope=row>1</th><td>5.1</td><td>3.5</td><td>1.4</td><td>0.2</td><td>setosa</td></tr>\n",
       "\t<tr><th scope=row>2</th><td>4.9</td><td>3.0</td><td>1.4</td><td>0.2</td><td>setosa</td></tr>\n",
       "</tbody>\n",
       "</table>\n"
      ],
      "text/latex": [
       "A data.frame: 2 × 5\n",
       "\\begin{tabular}{r|lllll}\n",
       "  & Sepal.Length & Sepal.Width & Petal.Length & Petal.Width & Species\\\\\n",
       "  & <dbl> & <dbl> & <dbl> & <dbl> & <fct>\\\\\n",
       "\\hline\n",
       "\t1 & 5.1 & 3.5 & 1.4 & 0.2 & setosa\\\\\n",
       "\t2 & 4.9 & 3.0 & 1.4 & 0.2 & setosa\\\\\n",
       "\\end{tabular}\n"
      ],
      "text/markdown": [
       "\n",
       "A data.frame: 2 × 5\n",
       "\n",
       "| <!--/--> | Sepal.Length &lt;dbl&gt; | Sepal.Width &lt;dbl&gt; | Petal.Length &lt;dbl&gt; | Petal.Width &lt;dbl&gt; | Species &lt;fct&gt; |\n",
       "|---|---|---|---|---|---|\n",
       "| 1 | 5.1 | 3.5 | 1.4 | 0.2 | setosa |\n",
       "| 2 | 4.9 | 3.0 | 1.4 | 0.2 | setosa |\n",
       "\n"
      ],
      "text/plain": [
       "  Sepal.Length Sepal.Width Petal.Length Petal.Width Species\n",
       "1 5.1          3.5         1.4          0.2         setosa \n",
       "2 4.9          3.0         1.4          0.2         setosa "
      ]
     },
     "metadata": {},
     "output_type": "display_data"
    }
   ],
   "source": [
    "library(dplyr)\n",
    "\n",
    "mydata2 <-iris \n",
    "\n",
    "head(mydata2,2)"
   ]
  },
  {
   "cell_type": "code",
   "execution_count": 9,
   "id": "9b0866f9",
   "metadata": {},
   "outputs": [
    {
     "data": {
      "text/html": [
       "<table class=\"dataframe\">\n",
       "<caption>A tibble: 3 × 2</caption>\n",
       "<thead>\n",
       "\t<tr><th scope=col>Species</th><th scope=col>Sepal.Length</th></tr>\n",
       "\t<tr><th scope=col>&lt;fct&gt;</th><th scope=col>&lt;dbl&gt;</th></tr>\n",
       "</thead>\n",
       "<tbody>\n",
       "\t<tr><td>setosa    </td><td>5.006</td></tr>\n",
       "\t<tr><td>versicolor</td><td>5.936</td></tr>\n",
       "\t<tr><td>virginica </td><td>6.588</td></tr>\n",
       "</tbody>\n",
       "</table>\n"
      ],
      "text/latex": [
       "A tibble: 3 × 2\n",
       "\\begin{tabular}{ll}\n",
       " Species & Sepal.Length\\\\\n",
       " <fct> & <dbl>\\\\\n",
       "\\hline\n",
       "\t setosa     & 5.006\\\\\n",
       "\t versicolor & 5.936\\\\\n",
       "\t virginica  & 6.588\\\\\n",
       "\\end{tabular}\n"
      ],
      "text/markdown": [
       "\n",
       "A tibble: 3 × 2\n",
       "\n",
       "| Species &lt;fct&gt; | Sepal.Length &lt;dbl&gt; |\n",
       "|---|---|\n",
       "| setosa     | 5.006 |\n",
       "| versicolor | 5.936 |\n",
       "| virginica  | 6.588 |\n",
       "\n"
      ],
      "text/plain": [
       "  Species    Sepal.Length\n",
       "1 setosa     5.006       \n",
       "2 versicolor 5.936       \n",
       "3 virginica  6.588       "
      ]
     },
     "metadata": {},
     "output_type": "display_data"
    }
   ],
   "source": [
    "# Here, Find Mean of Sepal.Length is grouped by Species variable.\n",
    "\n",
    "summarise_at(group_by(mydata2,Species),vars(Sepal.Length),funs(mean(.,na.rm=TRUE)))"
   ]
  },
  {
   "cell_type": "markdown",
   "id": "3e09fd72",
   "metadata": {},
   "source": [
    "### Groupby in R without dplyr using aggregate function:"
   ]
  },
  {
   "cell_type": "code",
   "execution_count": 13,
   "id": "a2f3308c",
   "metadata": {},
   "outputs": [
    {
     "data": {
      "text/html": [
       "<table class=\"dataframe\">\n",
       "<caption>A data.frame: 3 × 2</caption>\n",
       "<thead>\n",
       "\t<tr><th scope=col>Species</th><th scope=col>x</th></tr>\n",
       "\t<tr><th scope=col>&lt;fct&gt;</th><th scope=col>&lt;dbl&gt;</th></tr>\n",
       "</thead>\n",
       "<tbody>\n",
       "\t<tr><td>setosa    </td><td>5.006</td></tr>\n",
       "\t<tr><td>versicolor</td><td>5.936</td></tr>\n",
       "\t<tr><td>virginica </td><td>6.588</td></tr>\n",
       "</tbody>\n",
       "</table>\n"
      ],
      "text/latex": [
       "A data.frame: 3 × 2\n",
       "\\begin{tabular}{ll}\n",
       " Species & x\\\\\n",
       " <fct> & <dbl>\\\\\n",
       "\\hline\n",
       "\t setosa     & 5.006\\\\\n",
       "\t versicolor & 5.936\\\\\n",
       "\t virginica  & 6.588\\\\\n",
       "\\end{tabular}\n"
      ],
      "text/markdown": [
       "\n",
       "A data.frame: 3 × 2\n",
       "\n",
       "| Species &lt;fct&gt; | x &lt;dbl&gt; |\n",
       "|---|---|\n",
       "| setosa     | 5.006 |\n",
       "| versicolor | 5.936 |\n",
       "| virginica  | 6.588 |\n",
       "\n"
      ],
      "text/plain": [
       "  Species    x    \n",
       "1 setosa     5.006\n",
       "2 versicolor 5.936\n",
       "3 virginica  6.588"
      ]
     },
     "metadata": {},
     "output_type": "display_data"
    }
   ],
   "source": [
    "aggregate(mydata2$Sepal.Length, by=list(Species=mydata2$Species), FUN=mean)"
   ]
  },
  {
   "cell_type": "markdown",
   "id": "e1e2bfee",
   "metadata": {},
   "source": [
    "### Groupby function in R with dplyr pipe operator %>%:"
   ]
  },
  {
   "cell_type": "code",
   "execution_count": 11,
   "id": "7cb7942a",
   "metadata": {},
   "outputs": [
    {
     "data": {
      "text/html": [
       "<table class=\"dataframe\">\n",
       "<caption>A tibble: 3 × 2</caption>\n",
       "<thead>\n",
       "\t<tr><th scope=col>Species</th><th scope=col>Sepal.Length</th></tr>\n",
       "\t<tr><th scope=col>&lt;fct&gt;</th><th scope=col>&lt;dbl&gt;</th></tr>\n",
       "</thead>\n",
       "<tbody>\n",
       "\t<tr><td>setosa    </td><td>5.006</td></tr>\n",
       "\t<tr><td>versicolor</td><td>5.936</td></tr>\n",
       "\t<tr><td>virginica </td><td>6.588</td></tr>\n",
       "</tbody>\n",
       "</table>\n"
      ],
      "text/latex": [
       "A tibble: 3 × 2\n",
       "\\begin{tabular}{ll}\n",
       " Species & Sepal.Length\\\\\n",
       " <fct> & <dbl>\\\\\n",
       "\\hline\n",
       "\t setosa     & 5.006\\\\\n",
       "\t versicolor & 5.936\\\\\n",
       "\t virginica  & 6.588\\\\\n",
       "\\end{tabular}\n"
      ],
      "text/markdown": [
       "\n",
       "A tibble: 3 × 2\n",
       "\n",
       "| Species &lt;fct&gt; | Sepal.Length &lt;dbl&gt; |\n",
       "|---|---|\n",
       "| setosa     | 5.006 |\n",
       "| versicolor | 5.936 |\n",
       "| virginica  | 6.588 |\n",
       "\n"
      ],
      "text/plain": [
       "  Species    Sepal.Length\n",
       "1 setosa     5.006       \n",
       "2 versicolor 5.936       \n",
       "3 virginica  6.588       "
      ]
     },
     "metadata": {},
     "output_type": "display_data"
    }
   ],
   "source": [
    "mydata2 %>% group_by(Species) %>% summarise_at(vars(Sepal.Length),funs(mean(.,na.rm=TRUE)))"
   ]
  },
  {
   "cell_type": "code",
   "execution_count": 14,
   "id": "aa0c4811",
   "metadata": {},
   "outputs": [
    {
     "data": {
      "text/html": [
       "<table class=\"dataframe\">\n",
       "<caption>A tibble: 3 × 2</caption>\n",
       "<thead>\n",
       "\t<tr><th scope=col>Species</th><th scope=col>Sepal.Length</th></tr>\n",
       "\t<tr><th scope=col>&lt;fct&gt;</th><th scope=col>&lt;dbl&gt;</th></tr>\n",
       "</thead>\n",
       "<tbody>\n",
       "\t<tr><td>setosa    </td><td>5.8</td></tr>\n",
       "\t<tr><td>versicolor</td><td>7.0</td></tr>\n",
       "\t<tr><td>virginica </td><td>7.9</td></tr>\n",
       "</tbody>\n",
       "</table>\n"
      ],
      "text/latex": [
       "A tibble: 3 × 2\n",
       "\\begin{tabular}{ll}\n",
       " Species & Sepal.Length\\\\\n",
       " <fct> & <dbl>\\\\\n",
       "\\hline\n",
       "\t setosa     & 5.8\\\\\n",
       "\t versicolor & 7.0\\\\\n",
       "\t virginica  & 7.9\\\\\n",
       "\\end{tabular}\n"
      ],
      "text/markdown": [
       "\n",
       "A tibble: 3 × 2\n",
       "\n",
       "| Species &lt;fct&gt; | Sepal.Length &lt;dbl&gt; |\n",
       "|---|---|\n",
       "| setosa     | 5.8 |\n",
       "| versicolor | 7.0 |\n",
       "| virginica  | 7.9 |\n",
       "\n"
      ],
      "text/plain": [
       "  Species    Sepal.Length\n",
       "1 setosa     5.8         \n",
       "2 versicolor 7.0         \n",
       "3 virginica  7.9         "
      ]
     },
     "metadata": {},
     "output_type": "display_data"
    }
   ],
   "source": [
    "# find max \n",
    "mydata2 %>% group_by(Species) %>% summarise_at(vars(Sepal.Length),funs(max(.,na.rm=TRUE)))"
   ]
  },
  {
   "cell_type": "code",
   "execution_count": 15,
   "id": "f4e26474",
   "metadata": {},
   "outputs": [
    {
     "data": {
      "text/html": [
       "<table class=\"dataframe\">\n",
       "<caption>A tibble: 3 × 2</caption>\n",
       "<thead>\n",
       "\t<tr><th scope=col>Species</th><th scope=col>Sepal.Length</th></tr>\n",
       "\t<tr><th scope=col>&lt;fct&gt;</th><th scope=col>&lt;dbl&gt;</th></tr>\n",
       "</thead>\n",
       "<tbody>\n",
       "\t<tr><td>setosa    </td><td>250.3</td></tr>\n",
       "\t<tr><td>versicolor</td><td>296.8</td></tr>\n",
       "\t<tr><td>virginica </td><td>329.4</td></tr>\n",
       "</tbody>\n",
       "</table>\n"
      ],
      "text/latex": [
       "A tibble: 3 × 2\n",
       "\\begin{tabular}{ll}\n",
       " Species & Sepal.Length\\\\\n",
       " <fct> & <dbl>\\\\\n",
       "\\hline\n",
       "\t setosa     & 250.3\\\\\n",
       "\t versicolor & 296.8\\\\\n",
       "\t virginica  & 329.4\\\\\n",
       "\\end{tabular}\n"
      ],
      "text/markdown": [
       "\n",
       "A tibble: 3 × 2\n",
       "\n",
       "| Species &lt;fct&gt; | Sepal.Length &lt;dbl&gt; |\n",
       "|---|---|\n",
       "| setosa     | 250.3 |\n",
       "| versicolor | 296.8 |\n",
       "| virginica  | 329.4 |\n",
       "\n"
      ],
      "text/plain": [
       "  Species    Sepal.Length\n",
       "1 setosa     250.3       \n",
       "2 versicolor 296.8       \n",
       "3 virginica  329.4       "
      ]
     },
     "metadata": {},
     "output_type": "display_data"
    }
   ],
   "source": [
    "# find sum \n",
    "\n",
    "mydata2 %>% group_by(Species) %>% summarise_at(vars(Sepal.Length),funs(sum(.,na.rm=TRUE)))"
   ]
  },
  {
   "cell_type": "code",
   "execution_count": 16,
   "id": "edf281f0",
   "metadata": {},
   "outputs": [
    {
     "data": {
      "text/html": [
       "<table class=\"dataframe\">\n",
       "<caption>A tibble: 3 × 2</caption>\n",
       "<thead>\n",
       "\t<tr><th scope=col>Species</th><th scope=col>Sepal.Length</th></tr>\n",
       "\t<tr><th scope=col>&lt;fct&gt;</th><th scope=col>&lt;dbl&gt;</th></tr>\n",
       "</thead>\n",
       "<tbody>\n",
       "\t<tr><td>setosa    </td><td>4.3</td></tr>\n",
       "\t<tr><td>versicolor</td><td>4.9</td></tr>\n",
       "\t<tr><td>virginica </td><td>4.9</td></tr>\n",
       "</tbody>\n",
       "</table>\n"
      ],
      "text/latex": [
       "A tibble: 3 × 2\n",
       "\\begin{tabular}{ll}\n",
       " Species & Sepal.Length\\\\\n",
       " <fct> & <dbl>\\\\\n",
       "\\hline\n",
       "\t setosa     & 4.3\\\\\n",
       "\t versicolor & 4.9\\\\\n",
       "\t virginica  & 4.9\\\\\n",
       "\\end{tabular}\n"
      ],
      "text/markdown": [
       "\n",
       "A tibble: 3 × 2\n",
       "\n",
       "| Species &lt;fct&gt; | Sepal.Length &lt;dbl&gt; |\n",
       "|---|---|\n",
       "| setosa     | 4.3 |\n",
       "| versicolor | 4.9 |\n",
       "| virginica  | 4.9 |\n",
       "\n"
      ],
      "text/plain": [
       "  Species    Sepal.Length\n",
       "1 setosa     4.3         \n",
       "2 versicolor 4.9         \n",
       "3 virginica  4.9         "
      ]
     },
     "metadata": {},
     "output_type": "display_data"
    }
   ],
   "source": [
    "# find min\n",
    "mydata2 %>% group_by(Species) %>% summarise_at(vars(Sepal.Length),funs(min(.,na.rm=TRUE)))"
   ]
  },
  {
   "cell_type": "code",
   "execution_count": 17,
   "id": "29886a1e",
   "metadata": {},
   "outputs": [
    {
     "data": {
      "text/html": [
       "<table class=\"dataframe\">\n",
       "<caption>A tibble: 3 × 3</caption>\n",
       "<thead>\n",
       "\t<tr><th scope=col>Species</th><th scope=col>sum</th><th scope=col>max</th></tr>\n",
       "\t<tr><th scope=col>&lt;fct&gt;</th><th scope=col>&lt;dbl&gt;</th><th scope=col>&lt;dbl&gt;</th></tr>\n",
       "</thead>\n",
       "<tbody>\n",
       "\t<tr><td>setosa    </td><td>250.3</td><td>5.8</td></tr>\n",
       "\t<tr><td>versicolor</td><td>296.8</td><td>7.0</td></tr>\n",
       "\t<tr><td>virginica </td><td>329.4</td><td>7.9</td></tr>\n",
       "</tbody>\n",
       "</table>\n"
      ],
      "text/latex": [
       "A tibble: 3 × 3\n",
       "\\begin{tabular}{lll}\n",
       " Species & sum & max\\\\\n",
       " <fct> & <dbl> & <dbl>\\\\\n",
       "\\hline\n",
       "\t setosa     & 250.3 & 5.8\\\\\n",
       "\t versicolor & 296.8 & 7.0\\\\\n",
       "\t virginica  & 329.4 & 7.9\\\\\n",
       "\\end{tabular}\n"
      ],
      "text/markdown": [
       "\n",
       "A tibble: 3 × 3\n",
       "\n",
       "| Species &lt;fct&gt; | sum &lt;dbl&gt; | max &lt;dbl&gt; |\n",
       "|---|---|---|\n",
       "| setosa     | 250.3 | 5.8 |\n",
       "| versicolor | 296.8 | 7.0 |\n",
       "| virginica  | 329.4 | 7.9 |\n",
       "\n"
      ],
      "text/plain": [
       "  Species    sum   max\n",
       "1 setosa     250.3 5.8\n",
       "2 versicolor 296.8 7.0\n",
       "3 virginica  329.4 7.9"
      ]
     },
     "metadata": {},
     "output_type": "display_data"
    }
   ],
   "source": [
    "mydata2 %>% group_by(Species) %>% summarise(sum = sum(Sepal.Length),max = max(Sepal.Length))"
   ]
  },
  {
   "cell_type": "code",
   "execution_count": null,
   "id": "2a7f62a0",
   "metadata": {},
   "outputs": [],
   "source": []
  },
  {
   "cell_type": "code",
   "execution_count": 18,
   "id": "30244cec",
   "metadata": {},
   "outputs": [
    {
     "data": {
      "text/html": [
       "<table class=\"dataframe\">\n",
       "<caption>A tibble: 5 × 2</caption>\n",
       "<thead>\n",
       "\t<tr><th scope=col>State</th><th scope=col>counts</th></tr>\n",
       "\t<tr><th scope=col>&lt;chr&gt;</th><th scope=col>&lt;int&gt;</th></tr>\n",
       "</thead>\n",
       "<tbody>\n",
       "\t<tr><td>* </td><td> 1</td></tr>\n",
       "\t<tr><td>AK</td><td> 4</td></tr>\n",
       "\t<tr><td>AL</td><td>26</td></tr>\n",
       "\t<tr><td>AR</td><td> 9</td></tr>\n",
       "\t<tr><td>AZ</td><td>61</td></tr>\n",
       "</tbody>\n",
       "</table>\n"
      ],
      "text/latex": [
       "A tibble: 5 × 2\n",
       "\\begin{tabular}{ll}\n",
       " State & counts\\\\\n",
       " <chr> & <int>\\\\\n",
       "\\hline\n",
       "\t *  &  1\\\\\n",
       "\t AK &  4\\\\\n",
       "\t AL & 26\\\\\n",
       "\t AR &  9\\\\\n",
       "\t AZ & 61\\\\\n",
       "\\end{tabular}\n"
      ],
      "text/markdown": [
       "\n",
       "A tibble: 5 × 2\n",
       "\n",
       "| State &lt;chr&gt; | counts &lt;int&gt; |\n",
       "|---|---|\n",
       "| *  |  1 |\n",
       "| AK |  4 |\n",
       "| AL | 26 |\n",
       "| AR |  9 |\n",
       "| AZ | 61 |\n",
       "\n"
      ],
      "text/plain": [
       "  State counts\n",
       "1 *      1    \n",
       "2 AK     4    \n",
       "3 AL    26    \n",
       "4 AR     9    \n",
       "5 AZ    61    "
      ]
     },
     "metadata": {},
     "output_type": "display_data"
    }
   ],
   "source": [
    "# Get the count\n",
    "\n",
    "read.csv(\"sampledata\\\\vehicle.csv\") -> data\n",
    "\n",
    "data2 = data %>% \n",
    "          group_by(State) %>% \n",
    "          summarize(counts = n())\n",
    "\n",
    "head(data2,5)"
   ]
  },
  {
   "cell_type": "code",
   "execution_count": 20,
   "id": "af9a0c64",
   "metadata": {},
   "outputs": [
    {
     "data": {
      "text/html": [
       "<table class=\"dataframe\">\n",
       "<caption>A tibble: 6 × 8</caption>\n",
       "<thead>\n",
       "\t<tr><th scope=col>State</th><th scope=col>Avg_lc</th><th scope=col>sd_lc</th><th scope=col>max_lc</th><th scope=col>min_lc</th><th scope=col>sum_lc</th><th scope=col>median_lc</th><th scope=col>total</th></tr>\n",
       "\t<tr><th scope=col>&lt;chr&gt;</th><th scope=col>&lt;dbl&gt;</th><th scope=col>&lt;dbl&gt;</th><th scope=col>&lt;dbl&gt;</th><th scope=col>&lt;dbl&gt;</th><th scope=col>&lt;dbl&gt;</th><th scope=col>&lt;dbl&gt;</th><th scope=col>&lt;int&gt;</th></tr>\n",
       "</thead>\n",
       "<tbody>\n",
       "\t<tr><td>HI</td><td>1009.5375</td><td>1486.2478</td><td>3234.41</td><td>150.66</td><td> 4038.15</td><td>326.540</td><td>  4</td></tr>\n",
       "\t<tr><td>NV</td><td> 382.2489</td><td> 287.0126</td><td>1186.80</td><td>  0.00</td><td> 6880.48</td><td>360.345</td><td> 18</td></tr>\n",
       "\t<tr><td>NM</td><td> 342.0317</td><td> 371.7031</td><td>1268.21</td><td> 56.76</td><td> 4104.38</td><td>232.320</td><td> 12</td></tr>\n",
       "\t<tr><td>NJ</td><td> 331.2081</td><td> 465.8369</td><td>2263.12</td><td>  0.00</td><td> 6955.37</td><td>223.460</td><td> 21</td></tr>\n",
       "\t<tr><td>AZ</td><td> 315.1595</td><td> 151.0170</td><td> 715.76</td><td> 16.11</td><td>19224.73</td><td>299.340</td><td> 61</td></tr>\n",
       "\t<tr><td>CA</td><td> 285.1001</td><td> 202.5608</td><td>1121.10</td><td>  0.00</td><td>57020.03</td><td>234.340</td><td>200</td></tr>\n",
       "</tbody>\n",
       "</table>\n"
      ],
      "text/latex": [
       "A tibble: 6 × 8\n",
       "\\begin{tabular}{llllllll}\n",
       " State & Avg\\_lc & sd\\_lc & max\\_lc & min\\_lc & sum\\_lc & median\\_lc & total\\\\\n",
       " <chr> & <dbl> & <dbl> & <dbl> & <dbl> & <dbl> & <dbl> & <int>\\\\\n",
       "\\hline\n",
       "\t HI & 1009.5375 & 1486.2478 & 3234.41 & 150.66 &  4038.15 & 326.540 &   4\\\\\n",
       "\t NV &  382.2489 &  287.0126 & 1186.80 &   0.00 &  6880.48 & 360.345 &  18\\\\\n",
       "\t NM &  342.0317 &  371.7031 & 1268.21 &  56.76 &  4104.38 & 232.320 &  12\\\\\n",
       "\t NJ &  331.2081 &  465.8369 & 2263.12 &   0.00 &  6955.37 & 223.460 &  21\\\\\n",
       "\t AZ &  315.1595 &  151.0170 &  715.76 &  16.11 & 19224.73 & 299.340 &  61\\\\\n",
       "\t CA &  285.1001 &  202.5608 & 1121.10 &   0.00 & 57020.03 & 234.340 & 200\\\\\n",
       "\\end{tabular}\n"
      ],
      "text/markdown": [
       "\n",
       "A tibble: 6 × 8\n",
       "\n",
       "| State &lt;chr&gt; | Avg_lc &lt;dbl&gt; | sd_lc &lt;dbl&gt; | max_lc &lt;dbl&gt; | min_lc &lt;dbl&gt; | sum_lc &lt;dbl&gt; | median_lc &lt;dbl&gt; | total &lt;int&gt; |\n",
       "|---|---|---|---|---|---|---|---|\n",
       "| HI | 1009.5375 | 1486.2478 | 3234.41 | 150.66 |  4038.15 | 326.540 |   4 |\n",
       "| NV |  382.2489 |  287.0126 | 1186.80 |   0.00 |  6880.48 | 360.345 |  18 |\n",
       "| NM |  342.0317 |  371.7031 | 1268.21 |  56.76 |  4104.38 | 232.320 |  12 |\n",
       "| NJ |  331.2081 |  465.8369 | 2263.12 |   0.00 |  6955.37 | 223.460 |  21 |\n",
       "| AZ |  315.1595 |  151.0170 |  715.76 |  16.11 | 19224.73 | 299.340 |  61 |\n",
       "| CA |  285.1001 |  202.5608 | 1121.10 |   0.00 | 57020.03 | 234.340 | 200 |\n",
       "\n"
      ],
      "text/plain": [
       "  State Avg_lc    sd_lc     max_lc  min_lc sum_lc   median_lc total\n",
       "1 HI    1009.5375 1486.2478 3234.41 150.66  4038.15 326.540     4  \n",
       "2 NV     382.2489  287.0126 1186.80   0.00  6880.48 360.345    18  \n",
       "3 NM     342.0317  371.7031 1268.21  56.76  4104.38 232.320    12  \n",
       "4 NJ     331.2081  465.8369 2263.12   0.00  6955.37 223.460    21  \n",
       "5 AZ     315.1595  151.0170  715.76  16.11 19224.73 299.340    61  \n",
       "6 CA     285.1001  202.5608 1121.10   0.00 57020.03 234.340   200  "
      ]
     },
     "metadata": {},
     "output_type": "display_data"
    }
   ],
   "source": [
    "# 01 : Get statistics\n",
    "\n",
    "# Group by\n",
    "data2 = data %>%\n",
    "          group_by(State) %>%\n",
    "            summarise(Avg_lc = mean(lc),\n",
    "            sd_lc = sd(lc),\n",
    "            max_lc = max(lc),\n",
    "            min_lc = min(lc),\n",
    "            sum_lc = sum(lc),\n",
    "            median_lc = median(lc),\n",
    "            total = n()) %>%\n",
    "            arrange(desc(Avg_lc))\n",
    "\n",
    "head(data2)"
   ]
  },
  {
   "cell_type": "code",
   "execution_count": 21,
   "id": "3ebffde8",
   "metadata": {},
   "outputs": [
    {
     "data": {
      "text/html": [
       "<table class=\"dataframe\">\n",
       "<caption>A tibble: 5 × 4</caption>\n",
       "<thead>\n",
       "\t<tr><th scope=col>State</th><th scope=col>total_fm</th><th scope=col>Average_mileage</th><th scope=col>totak_lh</th></tr>\n",
       "\t<tr><th scope=col>&lt;chr&gt;</th><th scope=col>&lt;dbl&gt;</th><th scope=col>&lt;dbl&gt;</th><th scope=col>&lt;dbl&gt;</th></tr>\n",
       "</thead>\n",
       "<tbody>\n",
       "\t<tr><td>* </td><td>  6</td><td>59525.00</td><td>  0.9</td></tr>\n",
       "\t<tr><td>AK</td><td> 26</td><td>16356.00</td><td>  7.1</td></tr>\n",
       "\t<tr><td>AL</td><td>215</td><td>21321.92</td><td>118.5</td></tr>\n",
       "\t<tr><td>AR</td><td> 60</td><td>11615.56</td><td> 29.7</td></tr>\n",
       "\t<tr><td>AZ</td><td>697</td><td>22039.13</td><td>253.3</td></tr>\n",
       "</tbody>\n",
       "</table>\n"
      ],
      "text/latex": [
       "A tibble: 5 × 4\n",
       "\\begin{tabular}{llll}\n",
       " State & total\\_fm & Average\\_mileage & totak\\_lh\\\\\n",
       " <chr> & <dbl> & <dbl> & <dbl>\\\\\n",
       "\\hline\n",
       "\t *  &   6 & 59525.00 &   0.9\\\\\n",
       "\t AK &  26 & 16356.00 &   7.1\\\\\n",
       "\t AL & 215 & 21321.92 & 118.5\\\\\n",
       "\t AR &  60 & 11615.56 &  29.7\\\\\n",
       "\t AZ & 697 & 22039.13 & 253.3\\\\\n",
       "\\end{tabular}\n"
      ],
      "text/markdown": [
       "\n",
       "A tibble: 5 × 4\n",
       "\n",
       "| State &lt;chr&gt; | total_fm &lt;dbl&gt; | Average_mileage &lt;dbl&gt; | totak_lh &lt;dbl&gt; |\n",
       "|---|---|---|---|\n",
       "| *  |   6 | 59525.00 |   0.9 |\n",
       "| AK |  26 | 16356.00 |   7.1 |\n",
       "| AL | 215 | 21321.92 | 118.5 |\n",
       "| AR |  60 | 11615.56 |  29.7 |\n",
       "| AZ | 697 | 22039.13 | 253.3 |\n",
       "\n"
      ],
      "text/plain": [
       "  State total_fm Average_mileage totak_lh\n",
       "1 *       6      59525.00          0.9   \n",
       "2 AK     26      16356.00          7.1   \n",
       "3 AL    215      21321.92        118.5   \n",
       "4 AR     60      11615.56         29.7   \n",
       "5 AZ    697      22039.13        253.3   "
      ]
     },
     "metadata": {},
     "output_type": "display_data"
    }
   ],
   "source": [
    "data2 = data %>%\n",
    "         group_by(State) %>%\n",
    "            summarise(total_fm = sum(fm),Average_mileage = mean(Mileage),totak_lh = sum(lh))\n",
    "\n",
    "head(data2,5)"
   ]
  },
  {
   "cell_type": "markdown",
   "id": "c7c9dde9",
   "metadata": {},
   "source": [
    "## Group By : Multiple Column"
   ]
  },
  {
   "cell_type": "code",
   "execution_count": 22,
   "id": "46c75a76",
   "metadata": {},
   "outputs": [
    {
     "data": {
      "text/html": [
       "<table class=\"dataframe\">\n",
       "<caption>A data.frame: 4 × 15</caption>\n",
       "<thead>\n",
       "\t<tr><th></th><th scope=col>X</th><th scope=col>target</th><th scope=col>sex</th><th scope=col>fbs</th><th scope=col>exang</th><th scope=col>cp</th><th scope=col>restecg</th><th scope=col>slope</th><th scope=col>ca</th><th scope=col>thal</th><th scope=col>age</th><th scope=col>trestbps</th><th scope=col>chol</th><th scope=col>thalach</th><th scope=col>oldpeak</th></tr>\n",
       "\t<tr><th></th><th scope=col>&lt;int&gt;</th><th scope=col>&lt;chr&gt;</th><th scope=col>&lt;chr&gt;</th><th scope=col>&lt;chr&gt;</th><th scope=col>&lt;chr&gt;</th><th scope=col>&lt;chr&gt;</th><th scope=col>&lt;chr&gt;</th><th scope=col>&lt;int&gt;</th><th scope=col>&lt;int&gt;</th><th scope=col>&lt;int&gt;</th><th scope=col>&lt;int&gt;</th><th scope=col>&lt;int&gt;</th><th scope=col>&lt;int&gt;</th><th scope=col>&lt;int&gt;</th><th scope=col>&lt;dbl&gt;</th></tr>\n",
       "</thead>\n",
       "<tbody>\n",
       "\t<tr><th scope=row>1</th><td>1</td><td>NO</td><td>MALE</td><td>&lt;=120</td><td>NO </td><td>ASYMPTOMATIC</td><td>ABNORMALITY</td><td>2</td><td>2</td><td>3</td><td>52</td><td>125</td><td>212</td><td>168</td><td>1.0</td></tr>\n",
       "\t<tr><th scope=row>2</th><td>2</td><td>NO</td><td>MALE</td><td>&gt;120 </td><td>YES</td><td>ASYMPTOMATIC</td><td><span style=white-space:pre-wrap>NORMAL     </span></td><td>0</td><td>0</td><td>3</td><td>53</td><td>140</td><td>203</td><td>155</td><td>3.1</td></tr>\n",
       "\t<tr><th scope=row>3</th><td>3</td><td>NO</td><td>MALE</td><td>&lt;=120</td><td>YES</td><td>ASYMPTOMATIC</td><td>ABNORMALITY</td><td>0</td><td>0</td><td>3</td><td>70</td><td>145</td><td>174</td><td>125</td><td>2.6</td></tr>\n",
       "\t<tr><th scope=row>4</th><td>4</td><td>NO</td><td>MALE</td><td>&lt;=120</td><td>NO </td><td>ASYMPTOMATIC</td><td>ABNORMALITY</td><td>2</td><td>1</td><td>3</td><td>61</td><td>148</td><td>203</td><td>161</td><td>0.0</td></tr>\n",
       "</tbody>\n",
       "</table>\n"
      ],
      "text/latex": [
       "A data.frame: 4 × 15\n",
       "\\begin{tabular}{r|lllllllllllllll}\n",
       "  & X & target & sex & fbs & exang & cp & restecg & slope & ca & thal & age & trestbps & chol & thalach & oldpeak\\\\\n",
       "  & <int> & <chr> & <chr> & <chr> & <chr> & <chr> & <chr> & <int> & <int> & <int> & <int> & <int> & <int> & <int> & <dbl>\\\\\n",
       "\\hline\n",
       "\t1 & 1 & NO & MALE & <=120 & NO  & ASYMPTOMATIC & ABNORMALITY & 2 & 2 & 3 & 52 & 125 & 212 & 168 & 1.0\\\\\n",
       "\t2 & 2 & NO & MALE & >120  & YES & ASYMPTOMATIC & NORMAL      & 0 & 0 & 3 & 53 & 140 & 203 & 155 & 3.1\\\\\n",
       "\t3 & 3 & NO & MALE & <=120 & YES & ASYMPTOMATIC & ABNORMALITY & 0 & 0 & 3 & 70 & 145 & 174 & 125 & 2.6\\\\\n",
       "\t4 & 4 & NO & MALE & <=120 & NO  & ASYMPTOMATIC & ABNORMALITY & 2 & 1 & 3 & 61 & 148 & 203 & 161 & 0.0\\\\\n",
       "\\end{tabular}\n"
      ],
      "text/markdown": [
       "\n",
       "A data.frame: 4 × 15\n",
       "\n",
       "| <!--/--> | X &lt;int&gt; | target &lt;chr&gt; | sex &lt;chr&gt; | fbs &lt;chr&gt; | exang &lt;chr&gt; | cp &lt;chr&gt; | restecg &lt;chr&gt; | slope &lt;int&gt; | ca &lt;int&gt; | thal &lt;int&gt; | age &lt;int&gt; | trestbps &lt;int&gt; | chol &lt;int&gt; | thalach &lt;int&gt; | oldpeak &lt;dbl&gt; |\n",
       "|---|---|---|---|---|---|---|---|---|---|---|---|---|---|---|---|\n",
       "| 1 | 1 | NO | MALE | &lt;=120 | NO  | ASYMPTOMATIC | ABNORMALITY | 2 | 2 | 3 | 52 | 125 | 212 | 168 | 1.0 |\n",
       "| 2 | 2 | NO | MALE | &gt;120  | YES | ASYMPTOMATIC | NORMAL      | 0 | 0 | 3 | 53 | 140 | 203 | 155 | 3.1 |\n",
       "| 3 | 3 | NO | MALE | &lt;=120 | YES | ASYMPTOMATIC | ABNORMALITY | 0 | 0 | 3 | 70 | 145 | 174 | 125 | 2.6 |\n",
       "| 4 | 4 | NO | MALE | &lt;=120 | NO  | ASYMPTOMATIC | ABNORMALITY | 2 | 1 | 3 | 61 | 148 | 203 | 161 | 0.0 |\n",
       "\n"
      ],
      "text/plain": [
       "  X target sex  fbs   exang cp           restecg     slope ca thal age trestbps\n",
       "1 1 NO     MALE <=120 NO    ASYMPTOMATIC ABNORMALITY 2     2  3    52  125     \n",
       "2 2 NO     MALE >120  YES   ASYMPTOMATIC NORMAL      0     0  3    53  140     \n",
       "3 3 NO     MALE <=120 YES   ASYMPTOMATIC ABNORMALITY 0     0  3    70  145     \n",
       "4 4 NO     MALE <=120 NO    ASYMPTOMATIC ABNORMALITY 2     1  3    61  148     \n",
       "  chol thalach oldpeak\n",
       "1 212  168     1.0    \n",
       "2 203  155     3.1    \n",
       "3 174  125     2.6    \n",
       "4 203  161     0.0    "
      ]
     },
     "metadata": {},
     "output_type": "display_data"
    }
   ],
   "source": [
    "read.csv(\"sampledata\\\\data2.csv\") -> data\n",
    "\n",
    "head(data,4)"
   ]
  },
  {
   "cell_type": "code",
   "execution_count": 23,
   "id": "dcc69908",
   "metadata": {},
   "outputs": [
    {
     "data": {
      "text/html": [
       "<table class=\"dataframe\">\n",
       "<caption>A tibble: 6 × 4</caption>\n",
       "<thead>\n",
       "\t<tr><th scope=col>sex</th><th scope=col>cp</th><th scope=col>total_trestbps</th><th scope=col>avg_Age</th></tr>\n",
       "\t<tr><th scope=col>&lt;chr&gt;</th><th scope=col>&lt;chr&gt;</th><th scope=col>&lt;int&gt;</th><th scope=col>&lt;dbl&gt;</th></tr>\n",
       "</thead>\n",
       "<tbody>\n",
       "\t<tr><td>FEMALE</td><td>ASYMPTOMATIC    </td><td>20450</td><td>57.89041</td></tr>\n",
       "\t<tr><td>FEMALE</td><td>ATYPICAL ANGINA </td><td> 7313</td><td>51.98246</td></tr>\n",
       "\t<tr><td>FEMALE</td><td>NON-ANGINAL PAIN</td><td>13952</td><td>55.13761</td></tr>\n",
       "\t<tr><td>MALE  </td><td>ASYMPTOMATIC    </td><td>56114</td><td>55.10748</td></tr>\n",
       "\t<tr><td>MALE  </td><td>ATYPICAL ANGINA </td><td>14083</td><td>50.86364</td></tr>\n",
       "\t<tr><td>MALE  </td><td>NON-ANGINAL PAIN</td><td>22990</td><td>52.50857</td></tr>\n",
       "</tbody>\n",
       "</table>\n"
      ],
      "text/latex": [
       "A tibble: 6 × 4\n",
       "\\begin{tabular}{llll}\n",
       " sex & cp & total\\_trestbps & avg\\_Age\\\\\n",
       " <chr> & <chr> & <int> & <dbl>\\\\\n",
       "\\hline\n",
       "\t FEMALE & ASYMPTOMATIC     & 20450 & 57.89041\\\\\n",
       "\t FEMALE & ATYPICAL ANGINA  &  7313 & 51.98246\\\\\n",
       "\t FEMALE & NON-ANGINAL PAIN & 13952 & 55.13761\\\\\n",
       "\t MALE   & ASYMPTOMATIC     & 56114 & 55.10748\\\\\n",
       "\t MALE   & ATYPICAL ANGINA  & 14083 & 50.86364\\\\\n",
       "\t MALE   & NON-ANGINAL PAIN & 22990 & 52.50857\\\\\n",
       "\\end{tabular}\n"
      ],
      "text/markdown": [
       "\n",
       "A tibble: 6 × 4\n",
       "\n",
       "| sex &lt;chr&gt; | cp &lt;chr&gt; | total_trestbps &lt;int&gt; | avg_Age &lt;dbl&gt; |\n",
       "|---|---|---|---|\n",
       "| FEMALE | ASYMPTOMATIC     | 20450 | 57.89041 |\n",
       "| FEMALE | ATYPICAL ANGINA  |  7313 | 51.98246 |\n",
       "| FEMALE | NON-ANGINAL PAIN | 13952 | 55.13761 |\n",
       "| MALE   | ASYMPTOMATIC     | 56114 | 55.10748 |\n",
       "| MALE   | ATYPICAL ANGINA  | 14083 | 50.86364 |\n",
       "| MALE   | NON-ANGINAL PAIN | 22990 | 52.50857 |\n",
       "\n"
      ],
      "text/plain": [
       "  sex    cp               total_trestbps avg_Age \n",
       "1 FEMALE ASYMPTOMATIC     20450          57.89041\n",
       "2 FEMALE ATYPICAL ANGINA   7313          51.98246\n",
       "3 FEMALE NON-ANGINAL PAIN 13952          55.13761\n",
       "4 MALE   ASYMPTOMATIC     56114          55.10748\n",
       "5 MALE   ATYPICAL ANGINA  14083          50.86364\n",
       "6 MALE   NON-ANGINAL PAIN 22990          52.50857"
      ]
     },
     "metadata": {},
     "output_type": "display_data"
    }
   ],
   "source": [
    "data2 = data %>%\n",
    "            group_by(sex,cp) %>%\n",
    "                summarise(total_trestbps = sum(trestbps),\n",
    "                             avg_Age = mean(age),\n",
    "                             .groups = 'drop')\n",
    "data2"
   ]
  },
  {
   "cell_type": "code",
   "execution_count": null,
   "id": "f7f293dc",
   "metadata": {},
   "outputs": [],
   "source": []
  }
 ],
 "metadata": {
  "kernelspec": {
   "display_name": "R",
   "language": "R",
   "name": "ir"
  },
  "language_info": {
   "codemirror_mode": "r",
   "file_extension": ".r",
   "mimetype": "text/x-r-source",
   "name": "R",
   "pygments_lexer": "r",
   "version": "4.2.1"
  }
 },
 "nbformat": 4,
 "nbformat_minor": 5
}
