{
 "cells": [
  {
   "cell_type": "markdown",
   "id": "95874561",
   "metadata": {},
   "source": [
    "# For Loop"
   ]
  },
  {
   "cell_type": "code",
   "execution_count": 2,
   "id": "3d312114",
   "metadata": {},
   "outputs": [
    {
     "name": "stdout",
     "output_type": "stream",
     "text": [
      "[1] 1\n",
      "[1] 2\n",
      "[1] 3\n",
      "[1] 4\n",
      "[1] 5\n",
      "[1] 6\n",
      "[1] 7\n",
      "[1] 8\n",
      "[1] 9\n",
      "[1] 10\n"
     ]
    }
   ],
   "source": [
    "for(i in 1:10){\n",
    "    print(i)\n",
    "}"
   ]
  },
  {
   "cell_type": "code",
   "execution_count": 5,
   "id": "ad0e9bb3",
   "metadata": {},
   "outputs": [
    {
     "name": "stdout",
     "output_type": "stream",
     "text": [
      "[1] 3\n"
     ]
    }
   ],
   "source": [
    "    x <- c(2,5,3,9,8,11,6)\n",
    "\n",
    "    count <- 0\n",
    "\n",
    "    for (val in x) {\n",
    "        if(val %% 2 == 0)   \n",
    "            count = count+1\n",
    "        }\n",
    "\n",
    "    print(count)"
   ]
  },
  {
   "cell_type": "markdown",
   "id": "9325f2a7",
   "metadata": {},
   "source": [
    "## Break"
   ]
  },
  {
   "cell_type": "code",
   "execution_count": 2,
   "id": "7e71531e",
   "metadata": {},
   "outputs": [
    {
     "name": "stdout",
     "output_type": "stream",
     "text": [
      "[1] 1\n",
      "[1] 2\n"
     ]
    }
   ],
   "source": [
    "for (val in 1: 5)\n",
    "{\n",
    "    # checking condition\n",
    "    if (val == 3)\n",
    "    {\n",
    "        # using break keyword\n",
    "        break\n",
    "    }\n",
    " \n",
    "    # displaying items in the sequence\n",
    "    print(val)\n",
    "}"
   ]
  },
  {
   "cell_type": "markdown",
   "id": "45c2fd6d",
   "metadata": {},
   "source": [
    "# next"
   ]
  },
  {
   "cell_type": "code",
   "execution_count": 3,
   "id": "071b71b1",
   "metadata": {},
   "outputs": [
    {
     "name": "stdout",
     "output_type": "stream",
     "text": [
      "[1] 1\n",
      "[1] 2\n",
      "[1] 4\n",
      "[1] 5\n"
     ]
    }
   ],
   "source": [
    "for (val in 1: 5)\n",
    "{\n",
    "    # checking condition\n",
    "    if (val == 3)\n",
    "    {\n",
    "        # using next keyword\n",
    "        next\n",
    "    }\n",
    " \n",
    "    # displaying items in the sequence\n",
    "    print(val)\n",
    "}"
   ]
  },
  {
   "cell_type": "markdown",
   "id": "4541d20b",
   "metadata": {},
   "source": [
    "# While Loop"
   ]
  },
  {
   "cell_type": "code",
   "execution_count": 6,
   "id": "8bc443bd",
   "metadata": {},
   "outputs": [
    {
     "name": "stdout",
     "output_type": "stream",
     "text": [
      "[1] 1\n",
      "[1] 2\n",
      "[1] 3\n",
      "[1] 4\n"
     ]
    }
   ],
   "source": [
    "i <-1\n",
    "\n",
    "while (i<5) {\n",
    "    print(i)\n",
    "    i <- i +1\n",
    "}"
   ]
  },
  {
   "cell_type": "markdown",
   "id": "c212f29d",
   "metadata": {},
   "source": [
    "# Do while"
   ]
  },
  {
   "cell_type": "code",
   "execution_count": null,
   "id": "d623edb5",
   "metadata": {},
   "outputs": [],
   "source": []
  },
  {
   "cell_type": "code",
   "execution_count": null,
   "id": "4b8f1021",
   "metadata": {},
   "outputs": [],
   "source": []
  },
  {
   "cell_type": "markdown",
   "id": "c07901ca",
   "metadata": {},
   "source": [
    "# repeat"
   ]
  },
  {
   "cell_type": "code",
   "execution_count": 1,
   "id": "9312bbe2",
   "metadata": {},
   "outputs": [
    {
     "name": "stdout",
     "output_type": "stream",
     "text": [
      "[1] 1\n",
      "[1] 2\n",
      "[1] 3\n",
      "[1] 4\n",
      "[1] 5\n"
     ]
    }
   ],
   "source": [
    "val = 1\n",
    " \n",
    "# using repeat loop\n",
    "repeat\n",
    "{\n",
    "    # statements\n",
    "    print(val)\n",
    "    val = val + 1\n",
    " \n",
    "    # checking stop condition\n",
    "    if(val > 5)\n",
    "    {\n",
    "        # using break statement\n",
    "        # to terminate the loop\n",
    "        break\n",
    "    }\n",
    "}"
   ]
  },
  {
   "cell_type": "code",
   "execution_count": null,
   "id": "f71a5ab0",
   "metadata": {},
   "outputs": [],
   "source": []
  },
  {
   "cell_type": "code",
   "execution_count": null,
   "id": "359601ef",
   "metadata": {},
   "outputs": [],
   "source": []
  }
 ],
 "metadata": {
  "kernelspec": {
   "display_name": "R",
   "language": "R",
   "name": "ir"
  },
  "language_info": {
   "codemirror_mode": "r",
   "file_extension": ".r",
   "mimetype": "text/x-r-source",
   "name": "R",
   "pygments_lexer": "r",
   "version": "4.2.1"
  }
 },
 "nbformat": 4,
 "nbformat_minor": 5
}
