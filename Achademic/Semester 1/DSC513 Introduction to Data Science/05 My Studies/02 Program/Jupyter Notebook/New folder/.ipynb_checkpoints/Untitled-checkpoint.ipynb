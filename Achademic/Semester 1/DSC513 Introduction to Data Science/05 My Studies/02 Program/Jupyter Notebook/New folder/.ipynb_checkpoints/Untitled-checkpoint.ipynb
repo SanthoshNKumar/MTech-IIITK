{
 "cells": [
  {
   "cell_type": "code",
   "execution_count": 8,
   "id": "6ba03c5c",
   "metadata": {},
   "outputs": [],
   "source": [
    "a = read.csv(\"a.csv\")\n",
    "b = read.csv(\"b.csv\")\n",
    "c = read.csv(\"c.csv\")"
   ]
  },
  {
   "cell_type": "code",
   "execution_count": 9,
   "id": "45f0870d",
   "metadata": {},
   "outputs": [],
   "source": [
    "data = cbind(a,b,c)"
   ]
  },
  {
   "cell_type": "code",
   "execution_count": 21,
   "id": "f24bcb55",
   "metadata": {},
   "outputs": [],
   "source": [
    "df = read.csv('C:\\\\Users\\\\INSAKUM46\\\\OneDrive - ABB\\\\Desktop\\\\New folder (3)\\\\Dictionary\\\\DictionaryTags.csv')"
   ]
  },
  {
   "cell_type": "code",
   "execution_count": 22,
   "id": "c82c86dc",
   "metadata": {},
   "outputs": [
    {
     "data": {
      "text/html": [
       "<table class=\"dataframe\">\n",
       "<caption>A data.frame: 6 × 7</caption>\n",
       "<thead>\n",
       "\t<tr><th></th><th scope=col>Tags</th><th scope=col>Priority</th><th scope=col>hotEncoding</th><th scope=col>drop</th><th scope=col>modelInputs</th><th scope=col>predictionInputs</th><th scope=col>outputTags</th></tr>\n",
       "\t<tr><th></th><th scope=col>&lt;chr&gt;</th><th scope=col>&lt;chr&gt;</th><th scope=col>&lt;chr&gt;</th><th scope=col>&lt;chr&gt;</th><th scope=col>&lt;chr&gt;</th><th scope=col>&lt;chr&gt;</th><th scope=col>&lt;chr&gt;</th></tr>\n",
       "</thead>\n",
       "<tbody>\n",
       "\t<tr><th scope=row>1</th><td>Date      </td><td>Low </td><td>No</td><td>No </td><td>No </td><td>Yes</td><td>Yes</td></tr>\n",
       "\t<tr><th scope=row>2</th><td>Area      </td><td>High</td><td>No</td><td>No </td><td>Yes</td><td>Yes</td><td>Yes</td></tr>\n",
       "\t<tr><th scope=row>3</th><td>AreaDark  </td><td>Low </td><td>No</td><td>Low</td><td>No </td><td>No </td><td>No </td></tr>\n",
       "\t<tr><th scope=row>4</th><td>AreaLight </td><td>Low </td><td>No</td><td>Low</td><td>No </td><td>No </td><td>No </td></tr>\n",
       "\t<tr><th scope=row>5</th><td>Attributes</td><td>Low </td><td>No</td><td>Low</td><td>No </td><td>No </td><td>No </td></tr>\n",
       "\t<tr><th scope=row>6</th><td>Beam      </td><td>Low </td><td>No</td><td>Low</td><td>No </td><td>No </td><td>No </td></tr>\n",
       "</tbody>\n",
       "</table>\n"
      ],
      "text/latex": [
       "A data.frame: 6 × 7\n",
       "\\begin{tabular}{r|lllllll}\n",
       "  & Tags & Priority & hotEncoding & drop & modelInputs & predictionInputs & outputTags\\\\\n",
       "  & <chr> & <chr> & <chr> & <chr> & <chr> & <chr> & <chr>\\\\\n",
       "\\hline\n",
       "\t1 & Date       & Low  & No & No  & No  & Yes & Yes\\\\\n",
       "\t2 & Area       & High & No & No  & Yes & Yes & Yes\\\\\n",
       "\t3 & AreaDark   & Low  & No & Low & No  & No  & No \\\\\n",
       "\t4 & AreaLight  & Low  & No & Low & No  & No  & No \\\\\n",
       "\t5 & Attributes & Low  & No & Low & No  & No  & No \\\\\n",
       "\t6 & Beam       & Low  & No & Low & No  & No  & No \\\\\n",
       "\\end{tabular}\n"
      ],
      "text/markdown": [
       "\n",
       "A data.frame: 6 × 7\n",
       "\n",
       "| <!--/--> | Tags &lt;chr&gt; | Priority &lt;chr&gt; | hotEncoding &lt;chr&gt; | drop &lt;chr&gt; | modelInputs &lt;chr&gt; | predictionInputs &lt;chr&gt; | outputTags &lt;chr&gt; |\n",
       "|---|---|---|---|---|---|---|---|\n",
       "| 1 | Date       | Low  | No | No  | No  | Yes | Yes |\n",
       "| 2 | Area       | High | No | No  | Yes | Yes | Yes |\n",
       "| 3 | AreaDark   | Low  | No | Low | No  | No  | No  |\n",
       "| 4 | AreaLight  | Low  | No | Low | No  | No  | No  |\n",
       "| 5 | Attributes | Low  | No | Low | No  | No  | No  |\n",
       "| 6 | Beam       | Low  | No | Low | No  | No  | No  |\n",
       "\n"
      ],
      "text/plain": [
       "  Tags       Priority hotEncoding drop modelInputs predictionInputs outputTags\n",
       "1 Date       Low      No          No   No          Yes              Yes       \n",
       "2 Area       High     No          No   Yes         Yes              Yes       \n",
       "3 AreaDark   Low      No          Low  No          No               No        \n",
       "4 AreaLight  Low      No          Low  No          No               No        \n",
       "5 Attributes Low      No          Low  No          No               No        \n",
       "6 Beam       Low      No          Low  No          No               No        "
      ]
     },
     "metadata": {},
     "output_type": "display_data"
    }
   ],
   "source": [
    "head(df)"
   ]
  },
  {
   "cell_type": "code",
   "execution_count": 25,
   "id": "765fbaa3",
   "metadata": {},
   "outputs": [
    {
     "data": {
      "text/html": [
       "<style>\n",
       ".list-inline {list-style: none; margin:0; padding: 0}\n",
       ".list-inline>li {display: inline-block}\n",
       ".list-inline>li:not(:last-child)::after {content: \"\\00b7\"; padding: 0 .5ex}\n",
       "</style>\n",
       "<ol class=list-inline><li>'Date'</li><li>'Area'</li><li>'DefectTypeID'</li><li>'Height'</li><li>'MachineSpeed'</li><li>'ReelID'</li><li>'Width'</li></ol>\n"
      ],
      "text/latex": [
       "\\begin{enumerate*}\n",
       "\\item 'Date'\n",
       "\\item 'Area'\n",
       "\\item 'DefectTypeID'\n",
       "\\item 'Height'\n",
       "\\item 'MachineSpeed'\n",
       "\\item 'ReelID'\n",
       "\\item 'Width'\n",
       "\\end{enumerate*}\n"
      ],
      "text/markdown": [
       "1. 'Date'\n",
       "2. 'Area'\n",
       "3. 'DefectTypeID'\n",
       "4. 'Height'\n",
       "5. 'MachineSpeed'\n",
       "6. 'ReelID'\n",
       "7. 'Width'\n",
       "\n",
       "\n"
      ],
      "text/plain": [
       "[1] \"Date\"         \"Area\"         \"DefectTypeID\" \"Height\"       \"MachineSpeed\"\n",
       "[6] \"ReelID\"       \"Width\"       "
      ]
     },
     "metadata": {},
     "output_type": "display_data"
    }
   ],
   "source": [
    "c(df[df$predictionInputs == 'Yes','Tags'])"
   ]
  },
  {
   "cell_type": "code",
   "execution_count": null,
   "id": "11648be5",
   "metadata": {},
   "outputs": [],
   "source": []
  }
 ],
 "metadata": {
  "kernelspec": {
   "display_name": "R",
   "language": "R",
   "name": "ir"
  },
  "language_info": {
   "codemirror_mode": "r",
   "file_extension": ".r",
   "mimetype": "text/x-r-source",
   "name": "R",
   "pygments_lexer": "r",
   "version": "4.2.1"
  }
 },
 "nbformat": 4,
 "nbformat_minor": 5
}
