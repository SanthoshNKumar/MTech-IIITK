{
 "cells": [
  {
   "cell_type": "markdown",
   "id": "8c94bc52",
   "metadata": {},
   "source": [
    "## Create DataFrame"
   ]
  },
  {
   "cell_type": "code",
   "execution_count": 1,
   "id": "24d87dcb",
   "metadata": {},
   "outputs": [
    {
     "name": "stdout",
     "output_type": "stream",
     "text": [
      "data frame with 0 columns and 0 rows\n"
     ]
    }
   ],
   "source": [
    "# Create Empty Dataframe\n",
    "df <- data.frame()\n",
    "\n",
    "print(df)"
   ]
  },
  {
   "cell_type": "markdown",
   "id": "9760f943",
   "metadata": {},
   "source": [
    "## Create Dataframe from matrix"
   ]
  },
  {
   "cell_type": "code",
   "execution_count": 2,
   "id": "8317df51",
   "metadata": {},
   "outputs": [
    {
     "name": "stdout",
     "output_type": "stream",
     "text": [
      "  X1 X2 X3 X4 X5\n",
      "1  1  5  9 13 17\n",
      "2  2  6 10 14 18\n",
      "3  3  7 11 15 19\n",
      "4  4  8 12 16 20\n"
     ]
    }
   ],
   "source": [
    "mt <- matrix(1:20, ncol = 5)\n",
    "\n",
    "print(data.frame(mt))"
   ]
  },
  {
   "cell_type": "markdown",
   "id": "afe0c699",
   "metadata": {},
   "source": [
    "## Create Dataframe from list"
   ]
  },
  {
   "cell_type": "code",
   "execution_count": 3,
   "id": "2e3a6bc1",
   "metadata": {},
   "outputs": [
    {
     "name": "stdout",
     "output_type": "stream",
     "text": [
      "   Name Age\n",
      "1   Jon  23\n",
      "2  Bill  41\n",
      "3 Maria  32\n",
      "4   Ben  58\n",
      "5  Tina  26\n"
     ]
    }
   ],
   "source": [
    "# Example 02\n",
    "\n",
    "Name <- c(\"Jon\", \"Bill\", \"Maria\", \"Ben\", \"Tina\")\n",
    "Age <- c(23, 41, 32, 58, 26)\n",
    "\n",
    "df <- data.frame(Name, Age)\n",
    "\n",
    "print(df)"
   ]
  },
  {
   "cell_type": "code",
   "execution_count": 5,
   "id": "13b34ed6",
   "metadata": {},
   "outputs": [
    {
     "name": "stdout",
     "output_type": "stream",
     "text": [
      "   Name Age\n",
      "1   Jon  23\n",
      "2  Bill  41\n",
      "3 Maria  32\n",
      "4   Ben  58\n",
      "5  Tina  26\n"
     ]
    }
   ],
   "source": [
    "df <- data.frame(Name = c(\"Jon\", \"Bill\", \"Maria\", \"Ben\", \"Tina\"),\n",
    "                 Age = c(23, 41, 32, 58, 26))\n",
    "\n",
    "print(df)"
   ]
  },
  {
   "cell_type": "markdown",
   "id": "174c640f",
   "metadata": {},
   "source": [
    "## Read CSV file as Data frame"
   ]
  },
  {
   "cell_type": "code",
   "execution_count": 7,
   "id": "9107915a",
   "metadata": {},
   "outputs": [
    {
     "name": "stdout",
     "output_type": "stream",
     "text": [
      "  X  Name Age\n",
      "1 1   Jon  23\n",
      "2 2  Bill  41\n",
      "3 3 Maria  32\n",
      "4 4   Ben  58\n",
      "5 5  Tina  26\n"
     ]
    }
   ],
   "source": [
    "mydata <- read.csv(\"sampledata//file_01.csv\")\n",
    "\n",
    "read.csv(\"sampledata//heart.csv\") -> data\n",
    "\n",
    "print(mydata)"
   ]
  },
  {
   "cell_type": "markdown",
   "id": "16634e2c",
   "metadata": {},
   "source": [
    "## Create Dataframe with NA Values"
   ]
  },
  {
   "cell_type": "code",
   "execution_count": 8,
   "id": "2d3b13cf",
   "metadata": {},
   "outputs": [
    {
     "name": "stdout",
     "output_type": "stream",
     "text": [
      "   A  B     C      D\n",
      "1 11 99 Green   <NA>\n",
      "2 11 99 Green   <NA>\n",
      "3 NA NA  <NA>   Blue\n",
      "4 NA 77  Blue Yellow\n",
      "5 22 77  Blue Yellow\n",
      "6 33 NA  <NA> Purple\n",
      "7 33 55   Red   <NA>\n",
      "8 NA 55   Red   <NA>\n"
     ]
    }
   ],
   "source": [
    "df <- data.frame(A = c(11,11,NA,NA,22,33,33,NA),\n",
    "                 B = c(99,99,NA,77,77,NA,55,55),\n",
    "                 C = c(\"Green\",\"Green\",NA,\"Blue\",\"Blue\",NA,\"Red\",\"Red\"),\n",
    "                 D = c(NA,NA,\"Blue\",\"Yellow\",\"Yellow\",\"Purple\",NA,NA))\n",
    "print(df)"
   ]
  },
  {
   "cell_type": "code",
   "execution_count": 11,
   "id": "10c0f9cf",
   "metadata": {},
   "outputs": [],
   "source": [
    "# Supress Warnings\n",
    "    options(warn=-1) "
   ]
  },
  {
   "cell_type": "markdown",
   "id": "61ee435d",
   "metadata": {},
   "source": [
    "## Create Dataframe with Nans"
   ]
  },
  {
   "cell_type": "code",
   "execution_count": 12,
   "id": "04c8517f",
   "metadata": {},
   "outputs": [
    {
     "name": "stdout",
     "output_type": "stream",
     "text": [
      "    A   B     C      D\n",
      "1  11  99 Green   Blue\n",
      "2  11  99 Green    NaN\n",
      "3 NaN NaN   NaN   Blue\n",
      "4 NaN  77  Blue Yellow\n",
      "5  22  77  Blue Yellow\n",
      "6  33 NaN   NaN Purple\n",
      "7  33  55   Red    NaN\n",
      "8  33  55   Red    NaN\n"
     ]
    }
   ],
   "source": [
    "df <- data.frame(A = c(11,11,0/0,0/0,22,33,33,33),\n",
    "                 B = c(99,99,0/0,77,77,log(-4),55,55),\n",
    "                 C = c(\"Green\",\"Green\",0/0,\"Blue\",\"Blue\",0/0,\"Red\",\"Red\"),\n",
    "                 D = c(\"Blue\",0/0,\"Blue\",\"Yellow\",\"Yellow\",\"Purple\",log(-4),log(-4)))\n",
    "\n",
    "print(df)"
   ]
  },
  {
   "cell_type": "code",
   "execution_count": 13,
   "id": "7708af2a",
   "metadata": {},
   "outputs": [
    {
     "name": "stdout",
     "output_type": "stream",
     "text": [
      "  a        x y          z\n",
      "1 a 13.58206 4 -0.3240611\n",
      "2 b 18.42049 3  0.6906430\n",
      "3 c 39.31821 1  0.2505479\n",
      "4 d 44.08534 2  1.0073523\n",
      "5 e 41.53592 5  0.5732347\n"
     ]
    }
   ],
   "source": [
    "set.seed(456)\n",
    "\n",
    "mydata <- data.frame(a=letters[1:5], x=runif(5,10,50), y=sample(5), z=rnorm(5))\n",
    "\n",
    "print(mydata)"
   ]
  },
  {
   "cell_type": "code",
   "execution_count": 14,
   "id": "2e7dec76",
   "metadata": {},
   "outputs": [
    {
     "name": "stdout",
     "output_type": "stream",
     "text": [
      "  c1 c2\n",
      "1 10 20\n",
      "2 30 40\n",
      "3 50 60\n"
     ]
    }
   ],
   "source": [
    "df <- data.frame(matrix(ncol = 2, nrow = 0))\n",
    "\n",
    "colnames(df) <-c(\"c1\", \"c2\")\n",
    "\n",
    "#add rows\n",
    "df[1,] <- c(10, 20)\n",
    "df[2,] <- c(30, 40)\n",
    "df[3,] <- c(50, 60)\n",
    "\n",
    "#print\n",
    "print(df)"
   ]
  },
  {
   "cell_type": "markdown",
   "id": "16bc6b33",
   "metadata": {},
   "source": [
    "## Create DataFrame using multiple lists as rows of data"
   ]
  },
  {
   "cell_type": "code",
   "execution_count": 15,
   "id": "61c22bc0",
   "metadata": {},
   "outputs": [
    {
     "data": {
      "text/html": [
       "<table class=\"dataframe\">\n",
       "<caption>A data.frame: 10 × 3</caption>\n",
       "<thead>\n",
       "\t<tr><th scope=col>X1</th><th scope=col>X2</th><th scope=col>X3</th></tr>\n",
       "\t<tr><th scope=col>&lt;dbl&gt;</th><th scope=col>&lt;dbl&gt;</th><th scope=col>&lt;dbl&gt;</th></tr>\n",
       "</thead>\n",
       "<tbody>\n",
       "\t<tr><td>5.00</td><td>45</td><td>77</td></tr>\n",
       "\t<tr><td>5.11</td><td>26</td><td>47</td></tr>\n",
       "\t<tr><td>5.60</td><td>30</td><td>55</td></tr>\n",
       "\t<tr><td>5.90</td><td>34</td><td>59</td></tr>\n",
       "\t<tr><td>4.80</td><td>40</td><td>72</td></tr>\n",
       "\t<tr><td>5.80</td><td>36</td><td>60</td></tr>\n",
       "\t<tr><td>5.30</td><td>19</td><td>40</td></tr>\n",
       "\t<tr><td>5.80</td><td>28</td><td>60</td></tr>\n",
       "\t<tr><td>5.50</td><td>23</td><td>45</td></tr>\n",
       "\t<tr><td>5.60</td><td>32</td><td>58</td></tr>\n",
       "</tbody>\n",
       "</table>\n"
      ],
      "text/latex": [
       "A data.frame: 10 × 3\n",
       "\\begin{tabular}{lll}\n",
       " X1 & X2 & X3\\\\\n",
       " <dbl> & <dbl> & <dbl>\\\\\n",
       "\\hline\n",
       "\t 5.00 & 45 & 77\\\\\n",
       "\t 5.11 & 26 & 47\\\\\n",
       "\t 5.60 & 30 & 55\\\\\n",
       "\t 5.90 & 34 & 59\\\\\n",
       "\t 4.80 & 40 & 72\\\\\n",
       "\t 5.80 & 36 & 60\\\\\n",
       "\t 5.30 & 19 & 40\\\\\n",
       "\t 5.80 & 28 & 60\\\\\n",
       "\t 5.50 & 23 & 45\\\\\n",
       "\t 5.60 & 32 & 58\\\\\n",
       "\\end{tabular}\n"
      ],
      "text/markdown": [
       "\n",
       "A data.frame: 10 × 3\n",
       "\n",
       "| X1 &lt;dbl&gt; | X2 &lt;dbl&gt; | X3 &lt;dbl&gt; |\n",
       "|---|---|---|\n",
       "| 5.00 | 45 | 77 |\n",
       "| 5.11 | 26 | 47 |\n",
       "| 5.60 | 30 | 55 |\n",
       "| 5.90 | 34 | 59 |\n",
       "| 4.80 | 40 | 72 |\n",
       "| 5.80 | 36 | 60 |\n",
       "| 5.30 | 19 | 40 |\n",
       "| 5.80 | 28 | 60 |\n",
       "| 5.50 | 23 | 45 |\n",
       "| 5.60 | 32 | 58 |\n",
       "\n"
      ],
      "text/plain": [
       "   X1   X2 X3\n",
       "1  5.00 45 77\n",
       "2  5.11 26 47\n",
       "3  5.60 30 55\n",
       "4  5.90 34 59\n",
       "5  4.80 40 72\n",
       "6  5.80 36 60\n",
       "7  5.30 19 40\n",
       "8  5.80 28 60\n",
       "9  5.50 23 45\n",
       "10 5.60 32 58"
      ]
     },
     "metadata": {},
     "output_type": "display_data"
    }
   ],
   "source": [
    "data.frame(rbind(c(5,45,77),\n",
    "                 c(5.11,26,47),\n",
    "                 c(5.6,30,55),\n",
    "                 c(5.9,34,59),\n",
    "                 c(4.8,40,72),\n",
    "                 c(5.8,36,60),\n",
    "                 c(5.3,19,40),\n",
    "                 c(5.8,28,60),\n",
    "                 c(5.5,23,45),\n",
    "                 c(5.6,32,58)))"
   ]
  },
  {
   "cell_type": "markdown",
   "id": "74fbecb2",
   "metadata": {},
   "source": [
    "## Export data  to csv file"
   ]
  },
  {
   "cell_type": "code",
   "execution_count": 16,
   "id": "3addbd64",
   "metadata": {},
   "outputs": [],
   "source": [
    "write.csv(df,\"sampledata//file_02.csv\")"
   ]
  },
  {
   "cell_type": "markdown",
   "id": "0b34e89e",
   "metadata": {},
   "source": [
    "## Merge "
   ]
  },
  {
   "cell_type": "code",
   "execution_count": 17,
   "id": "520b6fc1",
   "metadata": {},
   "outputs": [
    {
     "name": "stdout",
     "output_type": "stream",
     "text": [
      "  rating   animal   country avg_sleep_hours\n",
      "1      1    koala Australia              21\n",
      "2      2 hedgehog     Italy              18\n",
      "3      3    sloth      Peru              17\n",
      "4      4    panda     China              10\n"
     ]
    }
   ],
   "source": [
    "super_sleepers_1 <- data.frame(rating=1:4,animal=c('koala', 'hedgehog', 'sloth', 'panda'))\n",
    "super_sleepers_2 <- data.frame(country=c('Australia', 'Italy', 'Peru', 'China'),avg_sleep_hours=c(21, 18, 17, 10))\n",
    "\n",
    "super_sleepers <- cbind(super_sleepers_1, super_sleepers_2)\n",
    "print(super_sleepers)"
   ]
  },
  {
   "cell_type": "code",
   "execution_count": null,
   "id": "e5dfd614",
   "metadata": {},
   "outputs": [],
   "source": []
  }
 ],
 "metadata": {
  "kernelspec": {
   "display_name": "R",
   "language": "R",
   "name": "ir"
  },
  "language_info": {
   "codemirror_mode": "r",
   "file_extension": ".r",
   "mimetype": "text/x-r-source",
   "name": "R",
   "pygments_lexer": "r",
   "version": "4.2.1"
  }
 },
 "nbformat": 4,
 "nbformat_minor": 5
}
