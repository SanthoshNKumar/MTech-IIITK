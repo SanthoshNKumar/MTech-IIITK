{
 "cells": [
  {
   "cell_type": "code",
   "execution_count": 10,
   "id": "81280999",
   "metadata": {},
   "outputs": [
    {
     "name": "stderr",
     "output_type": "stream",
     "text": [
      "Warning message:\n",
      "\"package 'log4r' is in use and will not be installed\"\n"
     ]
    }
   ],
   "source": [
    "install.packages('log4r')"
   ]
  },
  {
   "cell_type": "code",
   "execution_count": 11,
   "id": "2b02a32d",
   "metadata": {},
   "outputs": [],
   "source": [
    "library('log4r')"
   ]
  },
  {
   "cell_type": "code",
   "execution_count": 12,
   "id": "5b2f58eb",
   "metadata": {},
   "outputs": [],
   "source": [
    "logger <- create.logger(logfile = 'debugging.log', level = 'DEBUG')"
   ]
  },
  {
   "cell_type": "code",
   "execution_count": 13,
   "id": "1f941ca5",
   "metadata": {},
   "outputs": [
    {
     "name": "stdout",
     "output_type": "stream",
     "text": [
      "[1] \"debugging.log\"\n"
     ]
    }
   ],
   "source": [
    "print(logfile(logger))"
   ]
  },
  {
   "cell_type": "code",
   "execution_count": 9,
   "id": "a3458d31",
   "metadata": {},
   "outputs": [],
   "source": [
    "logfile(logger) <- 'debug.log'\n",
    "debug(logger, 'A Debugging Message')"
   ]
  },
  {
   "cell_type": "code",
   "execution_count": null,
   "id": "6b3d981c",
   "metadata": {},
   "outputs": [],
   "source": []
  },
  {
   "cell_type": "code",
   "execution_count": null,
   "id": "c5e6a8f5",
   "metadata": {},
   "outputs": [],
   "source": []
  }
 ],
 "metadata": {
  "kernelspec": {
   "display_name": "R",
   "language": "R",
   "name": "ir"
  },
  "language_info": {
   "codemirror_mode": "r",
   "file_extension": ".r",
   "mimetype": "text/x-r-source",
   "name": "R",
   "pygments_lexer": "r",
   "version": "4.2.1"
  }
 },
 "nbformat": 4,
 "nbformat_minor": 5
}
