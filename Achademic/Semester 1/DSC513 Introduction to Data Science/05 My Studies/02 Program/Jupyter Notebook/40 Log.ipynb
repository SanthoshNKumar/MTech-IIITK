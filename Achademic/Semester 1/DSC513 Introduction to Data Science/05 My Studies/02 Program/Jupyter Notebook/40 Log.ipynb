{
 "cells": [
  {
   "cell_type": "code",
   "execution_count": 6,
   "id": "a46c2ba7",
   "metadata": {},
   "outputs": [
    {
     "name": "stderr",
     "output_type": "stream",
     "text": [
      "also installing the dependency 'this.path'\n",
      "\n",
      "\n"
     ]
    },
    {
     "name": "stdout",
     "output_type": "stream",
     "text": [
      "package 'this.path' successfully unpacked and MD5 sums checked\n",
      "package 'logr' successfully unpacked and MD5 sums checked\n",
      "\n",
      "The downloaded binary packages are in\n",
      "\tC:\\Users\\INSAKUM46\\AppData\\Local\\Temp\\RtmpSaKcXp\\downloaded_packages\n"
     ]
    }
   ],
   "source": [
    "install.packages(\"logr\")"
   ]
  },
  {
   "cell_type": "code",
   "execution_count": null,
   "id": "df392095",
   "metadata": {},
   "outputs": [],
   "source": [
    "# logr functions\n",
    "    1. log_open()\n",
    "    2. log_print()\n",
    "    3. log_close()"
   ]
  },
  {
   "cell_type": "code",
   "execution_count": 7,
   "id": "cbb1e853",
   "metadata": {},
   "outputs": [
    {
     "name": "stderr",
     "output_type": "stream",
     "text": [
      "Warning message:\n",
      "\"package 'logr' was built under R version 4.2.2\"\n"
     ]
    },
    {
     "name": "stdout",
     "output_type": "stream",
     "text": [
      "[1] \"High Mileage Cars Subset\"\n",
      "                mpg cyl  disp  hp drat    wt  qsec vs am gear carb\n",
      "Mazda RX4      21.0   6 160.0 110 3.90 2.620 16.46  0  1    4    4\n",
      "Mazda RX4 Wag  21.0   6 160.0 110 3.90 2.875 17.02  0  1    4    4\n",
      "Datsun 710     22.8   4 108.0  93 3.85 2.320 18.61  1  1    4    1\n",
      "Hornet 4 Drive 21.4   6 258.0 110 3.08 3.215 19.44  1  0    3    1\n",
      "Merc 240D      24.4   4 146.7  62 3.69 3.190 20.00  1  0    4    2\n",
      "Merc 230       22.8   4 140.8  95 3.92 3.150 22.90  1  0    4    2\n",
      "Fiat 128       32.4   4  78.7  66 4.08 2.200 19.47  1  1    4    1\n",
      "Honda Civic    30.4   4  75.7  52 4.93 1.615 18.52  1  1    4    2\n",
      "Toyota Corolla 33.9   4  71.1  65 4.22 1.835 19.90  1  1    4    1\n",
      "Toyota Corona  21.5   4 120.1  97 3.70 2.465 20.01  1  0    3    1\n",
      "Fiat X1-9      27.3   4  79.0  66 4.08 1.935 18.90  1  1    4    1\n",
      "Porsche 914-2  26.0   4 120.3  91 4.43 2.140 16.70  0  1    5    2\n",
      "Lotus Europa   30.4   4  95.1 113 3.77 1.513 16.90  1  1    5    2\n",
      "Volvo 142E     21.4   4 121.0 109 4.11 2.780 18.60  1  1    4    2\n"
     ]
    }
   ],
   "source": [
    "library(logr)\n",
    "\n",
    "tmp <- file.path(\"C:\\\\RAKDeploy\", \"test.log\")\n",
    "\n",
    "# Create log file\n",
    "lf <- log_open(tmp)\n",
    "\n",
    "# Print data to log\n",
    "log_print(\"High Mileage Cars Subset\")\n",
    "\n",
    "# Perform operations\n",
    "hmc <- subset(mtcars, mtcars$mpg > 20)\n",
    "\n",
    "# Print data to log\n",
    "log_print(hmc)\n",
    "\n",
    "# Close log\n",
    "log_close()"
   ]
  },
  {
   "cell_type": "code",
   "execution_count": null,
   "id": "dff16390",
   "metadata": {},
   "outputs": [],
   "source": []
  }
 ],
 "metadata": {
  "kernelspec": {
   "display_name": "R",
   "language": "R",
   "name": "ir"
  },
  "language_info": {
   "codemirror_mode": "r",
   "file_extension": ".r",
   "mimetype": "text/x-r-source",
   "name": "R",
   "pygments_lexer": "r",
   "version": "4.2.1"
  }
 },
 "nbformat": 4,
 "nbformat_minor": 5
}
