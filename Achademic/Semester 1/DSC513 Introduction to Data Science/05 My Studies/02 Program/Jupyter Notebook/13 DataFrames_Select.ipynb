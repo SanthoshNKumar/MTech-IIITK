{
 "cells": [
  {
   "cell_type": "markdown",
   "id": "d64e4b80",
   "metadata": {},
   "source": [
    "## select() Function from dplyr"
   ]
  },
  {
   "cell_type": "code",
   "execution_count": null,
   "id": "f1ca651b",
   "metadata": {},
   "outputs": [],
   "source": [
    "# select() is a function from dplyr R package that is used to select data frame variables by name, by index\n",
    "\n",
    "    # Syntax of select()\n",
    "    select(x, variables_to_select)"
   ]
  },
  {
   "cell_type": "code",
   "execution_count": 1,
   "id": "517f824b",
   "metadata": {},
   "outputs": [
    {
     "data": {
      "text/html": [
       "<table class=\"dataframe\">\n",
       "<caption>A data.frame: 4 × 5</caption>\n",
       "<thead>\n",
       "\t<tr><th></th><th scope=col>id</th><th scope=col>name</th><th scope=col>gender</th><th scope=col>dob</th><th scope=col>state</th></tr>\n",
       "\t<tr><th></th><th scope=col>&lt;dbl&gt;</th><th scope=col>&lt;chr&gt;</th><th scope=col>&lt;chr&gt;</th><th scope=col>&lt;date&gt;</th><th scope=col>&lt;chr&gt;</th></tr>\n",
       "</thead>\n",
       "<tbody>\n",
       "\t<tr><th scope=row>r1</th><td>10</td><td>sai    </td><td>M</td><td>1990-10-02</td><td>CA</td></tr>\n",
       "\t<tr><th scope=row>r2</th><td>11</td><td>ram    </td><td>M</td><td>1981-03-24</td><td>NY</td></tr>\n",
       "\t<tr><th scope=row>r3</th><td>12</td><td>deepika</td><td>F</td><td>1987-06-14</td><td>DE</td></tr>\n",
       "\t<tr><th scope=row>r4</th><td>13</td><td>sahithi</td><td>F</td><td>1985-08-16</td><td>NA</td></tr>\n",
       "</tbody>\n",
       "</table>\n"
      ],
      "text/latex": [
       "A data.frame: 4 × 5\n",
       "\\begin{tabular}{r|lllll}\n",
       "  & id & name & gender & dob & state\\\\\n",
       "  & <dbl> & <chr> & <chr> & <date> & <chr>\\\\\n",
       "\\hline\n",
       "\tr1 & 10 & sai     & M & 1990-10-02 & CA\\\\\n",
       "\tr2 & 11 & ram     & M & 1981-03-24 & NY\\\\\n",
       "\tr3 & 12 & deepika & F & 1987-06-14 & DE\\\\\n",
       "\tr4 & 13 & sahithi & F & 1985-08-16 & NA\\\\\n",
       "\\end{tabular}\n"
      ],
      "text/markdown": [
       "\n",
       "A data.frame: 4 × 5\n",
       "\n",
       "| <!--/--> | id &lt;dbl&gt; | name &lt;chr&gt; | gender &lt;chr&gt; | dob &lt;date&gt; | state &lt;chr&gt; |\n",
       "|---|---|---|---|---|---|\n",
       "| r1 | 10 | sai     | M | 1990-10-02 | CA |\n",
       "| r2 | 11 | ram     | M | 1981-03-24 | NY |\n",
       "| r3 | 12 | deepika | F | 1987-06-14 | DE |\n",
       "| r4 | 13 | sahithi | F | 1985-08-16 | NA |\n",
       "\n"
      ],
      "text/plain": [
       "   id name    gender dob        state\n",
       "r1 10 sai     M      1990-10-02 CA   \n",
       "r2 11 ram     M      1981-03-24 NY   \n",
       "r3 12 deepika F      1987-06-14 DE   \n",
       "r4 13 sahithi F      1985-08-16 NA   "
      ]
     },
     "metadata": {},
     "output_type": "display_data"
    }
   ],
   "source": [
    "df <- data.frame(\n",
    "  id = c(10,11,12,13),\n",
    "  name = c('sai','ram','deepika','sahithi'),\n",
    "  gender = c('M','M','F','F'),\n",
    "  dob = as.Date(c('1990-10-02','1981-3-24','1987-6-14','1985-8-16')),\n",
    "  state = c('CA','NY','DE',NA),\n",
    "  row.names=c('r1','r2','r3','r4')\n",
    ")\n",
    "\n",
    "df"
   ]
  },
  {
   "cell_type": "code",
   "execution_count": 6,
   "id": "005e2f01",
   "metadata": {},
   "outputs": [
    {
     "data": {
      "text/html": [
       "<table class=\"dataframe\">\n",
       "<caption>A data.frame: 4 × 2</caption>\n",
       "<thead>\n",
       "\t<tr><th></th><th scope=col>name</th><th scope=col>gender</th></tr>\n",
       "\t<tr><th></th><th scope=col>&lt;chr&gt;</th><th scope=col>&lt;chr&gt;</th></tr>\n",
       "</thead>\n",
       "<tbody>\n",
       "\t<tr><th scope=row>r1</th><td>sai    </td><td>M</td></tr>\n",
       "\t<tr><th scope=row>r2</th><td>ram    </td><td>M</td></tr>\n",
       "\t<tr><th scope=row>r3</th><td>deepika</td><td>F</td></tr>\n",
       "\t<tr><th scope=row>r4</th><td>sahithi</td><td>F</td></tr>\n",
       "</tbody>\n",
       "</table>\n"
      ],
      "text/latex": [
       "A data.frame: 4 × 2\n",
       "\\begin{tabular}{r|ll}\n",
       "  & name & gender\\\\\n",
       "  & <chr> & <chr>\\\\\n",
       "\\hline\n",
       "\tr1 & sai     & M\\\\\n",
       "\tr2 & ram     & M\\\\\n",
       "\tr3 & deepika & F\\\\\n",
       "\tr4 & sahithi & F\\\\\n",
       "\\end{tabular}\n"
      ],
      "text/markdown": [
       "\n",
       "A data.frame: 4 × 2\n",
       "\n",
       "| <!--/--> | name &lt;chr&gt; | gender &lt;chr&gt; |\n",
       "|---|---|---|\n",
       "| r1 | sai     | M |\n",
       "| r2 | ram     | M |\n",
       "| r3 | deepika | F |\n",
       "| r4 | sahithi | F |\n",
       "\n"
      ],
      "text/plain": [
       "   name    gender\n",
       "r1 sai     M     \n",
       "r2 ram     M     \n",
       "r3 deepika F     \n",
       "r4 sahithi F     "
      ]
     },
     "metadata": {},
     "output_type": "display_data"
    }
   ],
   "source": [
    "library('dplyr')\n",
    "\n",
    "# Select Variables by Index Position\n",
    "\n",
    "df %>% select(2,3)"
   ]
  },
  {
   "cell_type": "code",
   "execution_count": 7,
   "id": "0f70519f",
   "metadata": {},
   "outputs": [
    {
     "data": {
      "text/html": [
       "<table class=\"dataframe\">\n",
       "<caption>A data.frame: 4 × 2</caption>\n",
       "<thead>\n",
       "\t<tr><th></th><th scope=col>name</th><th scope=col>gender</th></tr>\n",
       "\t<tr><th></th><th scope=col>&lt;chr&gt;</th><th scope=col>&lt;chr&gt;</th></tr>\n",
       "</thead>\n",
       "<tbody>\n",
       "\t<tr><th scope=row>r1</th><td>sai    </td><td>M</td></tr>\n",
       "\t<tr><th scope=row>r2</th><td>ram    </td><td>M</td></tr>\n",
       "\t<tr><th scope=row>r3</th><td>deepika</td><td>F</td></tr>\n",
       "\t<tr><th scope=row>r4</th><td>sahithi</td><td>F</td></tr>\n",
       "</tbody>\n",
       "</table>\n"
      ],
      "text/latex": [
       "A data.frame: 4 × 2\n",
       "\\begin{tabular}{r|ll}\n",
       "  & name & gender\\\\\n",
       "  & <chr> & <chr>\\\\\n",
       "\\hline\n",
       "\tr1 & sai     & M\\\\\n",
       "\tr2 & ram     & M\\\\\n",
       "\tr3 & deepika & F\\\\\n",
       "\tr4 & sahithi & F\\\\\n",
       "\\end{tabular}\n"
      ],
      "text/markdown": [
       "\n",
       "A data.frame: 4 × 2\n",
       "\n",
       "| <!--/--> | name &lt;chr&gt; | gender &lt;chr&gt; |\n",
       "|---|---|---|\n",
       "| r1 | sai     | M |\n",
       "| r2 | ram     | M |\n",
       "| r3 | deepika | F |\n",
       "| r4 | sahithi | F |\n",
       "\n"
      ],
      "text/plain": [
       "   name    gender\n",
       "r1 sai     M     \n",
       "r2 ram     M     \n",
       "r3 deepika F     \n",
       "r4 sahithi F     "
      ]
     },
     "metadata": {},
     "output_type": "display_data"
    }
   ],
   "source": [
    "# Select columns by list of index or position\n",
    "\n",
    "df %>% select(c(2,3))"
   ]
  },
  {
   "cell_type": "code",
   "execution_count": 8,
   "id": "1ffb1919",
   "metadata": {},
   "outputs": [
    {
     "data": {
      "text/html": [
       "<table class=\"dataframe\">\n",
       "<caption>A data.frame: 4 × 2</caption>\n",
       "<thead>\n",
       "\t<tr><th></th><th scope=col>name</th><th scope=col>gender</th></tr>\n",
       "\t<tr><th></th><th scope=col>&lt;chr&gt;</th><th scope=col>&lt;chr&gt;</th></tr>\n",
       "</thead>\n",
       "<tbody>\n",
       "\t<tr><th scope=row>r1</th><td>sai    </td><td>M</td></tr>\n",
       "\t<tr><th scope=row>r2</th><td>ram    </td><td>M</td></tr>\n",
       "\t<tr><th scope=row>r3</th><td>deepika</td><td>F</td></tr>\n",
       "\t<tr><th scope=row>r4</th><td>sahithi</td><td>F</td></tr>\n",
       "</tbody>\n",
       "</table>\n"
      ],
      "text/latex": [
       "A data.frame: 4 × 2\n",
       "\\begin{tabular}{r|ll}\n",
       "  & name & gender\\\\\n",
       "  & <chr> & <chr>\\\\\n",
       "\\hline\n",
       "\tr1 & sai     & M\\\\\n",
       "\tr2 & ram     & M\\\\\n",
       "\tr3 & deepika & F\\\\\n",
       "\tr4 & sahithi & F\\\\\n",
       "\\end{tabular}\n"
      ],
      "text/markdown": [
       "\n",
       "A data.frame: 4 × 2\n",
       "\n",
       "| <!--/--> | name &lt;chr&gt; | gender &lt;chr&gt; |\n",
       "|---|---|---|\n",
       "| r1 | sai     | M |\n",
       "| r2 | ram     | M |\n",
       "| r3 | deepika | F |\n",
       "| r4 | sahithi | F |\n",
       "\n"
      ],
      "text/plain": [
       "   name    gender\n",
       "r1 sai     M     \n",
       "r2 ram     M     \n",
       "r3 deepika F     \n",
       "r4 sahithi F     "
      ]
     },
     "metadata": {},
     "output_type": "display_data"
    }
   ],
   "source": [
    "# Select columns by index range\n",
    "df %>% select(2:3)"
   ]
  },
  {
   "cell_type": "code",
   "execution_count": 9,
   "id": "8a50247e",
   "metadata": {},
   "outputs": [
    {
     "data": {
      "text/html": [
       "<table class=\"dataframe\">\n",
       "<caption>A data.frame: 4 × 2</caption>\n",
       "<thead>\n",
       "\t<tr><th></th><th scope=col>name</th><th scope=col>gender</th></tr>\n",
       "\t<tr><th></th><th scope=col>&lt;chr&gt;</th><th scope=col>&lt;chr&gt;</th></tr>\n",
       "</thead>\n",
       "<tbody>\n",
       "\t<tr><th scope=row>r1</th><td>sai    </td><td>M</td></tr>\n",
       "\t<tr><th scope=row>r2</th><td>ram    </td><td>M</td></tr>\n",
       "\t<tr><th scope=row>r3</th><td>deepika</td><td>F</td></tr>\n",
       "\t<tr><th scope=row>r4</th><td>sahithi</td><td>F</td></tr>\n",
       "</tbody>\n",
       "</table>\n"
      ],
      "text/latex": [
       "A data.frame: 4 × 2\n",
       "\\begin{tabular}{r|ll}\n",
       "  & name & gender\\\\\n",
       "  & <chr> & <chr>\\\\\n",
       "\\hline\n",
       "\tr1 & sai     & M\\\\\n",
       "\tr2 & ram     & M\\\\\n",
       "\tr3 & deepika & F\\\\\n",
       "\tr4 & sahithi & F\\\\\n",
       "\\end{tabular}\n"
      ],
      "text/markdown": [
       "\n",
       "A data.frame: 4 × 2\n",
       "\n",
       "| <!--/--> | name &lt;chr&gt; | gender &lt;chr&gt; |\n",
       "|---|---|---|\n",
       "| r1 | sai     | M |\n",
       "| r2 | ram     | M |\n",
       "| r3 | deepika | F |\n",
       "| r4 | sahithi | F |\n",
       "\n"
      ],
      "text/plain": [
       "   name    gender\n",
       "r1 sai     M     \n",
       "r2 ram     M     \n",
       "r3 deepika F     \n",
       "r4 sahithi F     "
      ]
     },
     "metadata": {},
     "output_type": "display_data"
    }
   ],
   "source": [
    "# Select Variables by Name\n",
    "df %>% select('name','gender')"
   ]
  },
  {
   "cell_type": "code",
   "execution_count": 10,
   "id": "a3f93136",
   "metadata": {},
   "outputs": [
    {
     "data": {
      "text/html": [
       "<table class=\"dataframe\">\n",
       "<caption>A data.frame: 4 × 2</caption>\n",
       "<thead>\n",
       "\t<tr><th></th><th scope=col>name</th><th scope=col>gender</th></tr>\n",
       "\t<tr><th></th><th scope=col>&lt;chr&gt;</th><th scope=col>&lt;chr&gt;</th></tr>\n",
       "</thead>\n",
       "<tbody>\n",
       "\t<tr><th scope=row>r1</th><td>sai    </td><td>M</td></tr>\n",
       "\t<tr><th scope=row>r2</th><td>ram    </td><td>M</td></tr>\n",
       "\t<tr><th scope=row>r3</th><td>deepika</td><td>F</td></tr>\n",
       "\t<tr><th scope=row>r4</th><td>sahithi</td><td>F</td></tr>\n",
       "</tbody>\n",
       "</table>\n"
      ],
      "text/latex": [
       "A data.frame: 4 × 2\n",
       "\\begin{tabular}{r|ll}\n",
       "  & name & gender\\\\\n",
       "  & <chr> & <chr>\\\\\n",
       "\\hline\n",
       "\tr1 & sai     & M\\\\\n",
       "\tr2 & ram     & M\\\\\n",
       "\tr3 & deepika & F\\\\\n",
       "\tr4 & sahithi & F\\\\\n",
       "\\end{tabular}\n"
      ],
      "text/markdown": [
       "\n",
       "A data.frame: 4 × 2\n",
       "\n",
       "| <!--/--> | name &lt;chr&gt; | gender &lt;chr&gt; |\n",
       "|---|---|---|\n",
       "| r1 | sai     | M |\n",
       "| r2 | ram     | M |\n",
       "| r3 | deepika | F |\n",
       "| r4 | sahithi | F |\n",
       "\n"
      ],
      "text/plain": [
       "   name    gender\n",
       "r1 sai     M     \n",
       "r2 ram     M     \n",
       "r3 deepika F     \n",
       "r4 sahithi F     "
      ]
     },
     "metadata": {},
     "output_type": "display_data"
    }
   ],
   "source": [
    "df %>% select(c('name','gender'))"
   ]
  },
  {
   "cell_type": "code",
   "execution_count": 11,
   "id": "d3c854e3",
   "metadata": {},
   "outputs": [
    {
     "data": {
      "text/html": [
       "<table class=\"dataframe\">\n",
       "<caption>A data.frame: 4 × 4</caption>\n",
       "<thead>\n",
       "\t<tr><th></th><th scope=col>name</th><th scope=col>gender</th><th scope=col>dob</th><th scope=col>state</th></tr>\n",
       "\t<tr><th></th><th scope=col>&lt;chr&gt;</th><th scope=col>&lt;chr&gt;</th><th scope=col>&lt;date&gt;</th><th scope=col>&lt;chr&gt;</th></tr>\n",
       "</thead>\n",
       "<tbody>\n",
       "\t<tr><th scope=row>r1</th><td>sai    </td><td>M</td><td>1990-10-02</td><td>CA</td></tr>\n",
       "\t<tr><th scope=row>r2</th><td>ram    </td><td>M</td><td>1981-03-24</td><td>NY</td></tr>\n",
       "\t<tr><th scope=row>r3</th><td>deepika</td><td>F</td><td>1987-06-14</td><td>DE</td></tr>\n",
       "\t<tr><th scope=row>r4</th><td>sahithi</td><td>F</td><td>1985-08-16</td><td>NA</td></tr>\n",
       "</tbody>\n",
       "</table>\n"
      ],
      "text/latex": [
       "A data.frame: 4 × 4\n",
       "\\begin{tabular}{r|llll}\n",
       "  & name & gender & dob & state\\\\\n",
       "  & <chr> & <chr> & <date> & <chr>\\\\\n",
       "\\hline\n",
       "\tr1 & sai     & M & 1990-10-02 & CA\\\\\n",
       "\tr2 & ram     & M & 1981-03-24 & NY\\\\\n",
       "\tr3 & deepika & F & 1987-06-14 & DE\\\\\n",
       "\tr4 & sahithi & F & 1985-08-16 & NA\\\\\n",
       "\\end{tabular}\n"
      ],
      "text/markdown": [
       "\n",
       "A data.frame: 4 × 4\n",
       "\n",
       "| <!--/--> | name &lt;chr&gt; | gender &lt;chr&gt; | dob &lt;date&gt; | state &lt;chr&gt; |\n",
       "|---|---|---|---|---|\n",
       "| r1 | sai     | M | 1990-10-02 | CA |\n",
       "| r2 | ram     | M | 1981-03-24 | NY |\n",
       "| r3 | deepika | F | 1987-06-14 | DE |\n",
       "| r4 | sahithi | F | 1985-08-16 | NA |\n",
       "\n"
      ],
      "text/plain": [
       "   name    gender dob        state\n",
       "r1 sai     M      1990-10-02 CA   \n",
       "r2 ram     M      1981-03-24 NY   \n",
       "r3 deepika F      1987-06-14 DE   \n",
       "r4 sahithi F      1985-08-16 NA   "
      ]
     },
     "metadata": {},
     "output_type": "display_data"
    }
   ],
   "source": [
    "# Select All Variables Between 2 Variables\n",
    "\n",
    "df %>% select('name':'state')"
   ]
  },
  {
   "cell_type": "code",
   "execution_count": 12,
   "id": "b03ea08f",
   "metadata": {},
   "outputs": [
    {
     "data": {
      "text/html": [
       "<table class=\"dataframe\">\n",
       "<caption>A data.frame: 4 × 1</caption>\n",
       "<thead>\n",
       "\t<tr><th></th><th scope=col>gender</th></tr>\n",
       "\t<tr><th></th><th scope=col>&lt;chr&gt;</th></tr>\n",
       "</thead>\n",
       "<tbody>\n",
       "\t<tr><th scope=row>r1</th><td>M</td></tr>\n",
       "\t<tr><th scope=row>r2</th><td>M</td></tr>\n",
       "\t<tr><th scope=row>r3</th><td>F</td></tr>\n",
       "\t<tr><th scope=row>r4</th><td>F</td></tr>\n",
       "</tbody>\n",
       "</table>\n"
      ],
      "text/latex": [
       "A data.frame: 4 × 1\n",
       "\\begin{tabular}{r|l}\n",
       "  & gender\\\\\n",
       "  & <chr>\\\\\n",
       "\\hline\n",
       "\tr1 & M\\\\\n",
       "\tr2 & M\\\\\n",
       "\tr3 & F\\\\\n",
       "\tr4 & F\\\\\n",
       "\\end{tabular}\n"
      ],
      "text/markdown": [
       "\n",
       "A data.frame: 4 × 1\n",
       "\n",
       "| <!--/--> | gender &lt;chr&gt; |\n",
       "|---|---|\n",
       "| r1 | M |\n",
       "| r2 | M |\n",
       "| r3 | F |\n",
       "| r4 | F |\n",
       "\n"
      ],
      "text/plain": [
       "   gender\n",
       "r1 M     \n",
       "r2 M     \n",
       "r3 F     \n",
       "r4 F     "
      ]
     },
     "metadata": {},
     "output_type": "display_data"
    }
   ],
   "source": [
    "# Select All Variables that starts with\n",
    "\n",
    "df %>% select(starts_with('gen'))"
   ]
  },
  {
   "cell_type": "code",
   "execution_count": 13,
   "id": "cfd0e8a7",
   "metadata": {},
   "outputs": [
    {
     "data": {
      "text/html": [
       "<table class=\"dataframe\">\n",
       "<caption>A data.frame: 4 × 2</caption>\n",
       "<thead>\n",
       "\t<tr><th></th><th scope=col>name</th><th scope=col>state</th></tr>\n",
       "\t<tr><th></th><th scope=col>&lt;chr&gt;</th><th scope=col>&lt;chr&gt;</th></tr>\n",
       "</thead>\n",
       "<tbody>\n",
       "\t<tr><th scope=row>r1</th><td>sai    </td><td>CA</td></tr>\n",
       "\t<tr><th scope=row>r2</th><td>ram    </td><td>NY</td></tr>\n",
       "\t<tr><th scope=row>r3</th><td>deepika</td><td>DE</td></tr>\n",
       "\t<tr><th scope=row>r4</th><td>sahithi</td><td>NA</td></tr>\n",
       "</tbody>\n",
       "</table>\n"
      ],
      "text/latex": [
       "A data.frame: 4 × 2\n",
       "\\begin{tabular}{r|ll}\n",
       "  & name & state\\\\\n",
       "  & <chr> & <chr>\\\\\n",
       "\\hline\n",
       "\tr1 & sai     & CA\\\\\n",
       "\tr2 & ram     & NY\\\\\n",
       "\tr3 & deepika & DE\\\\\n",
       "\tr4 & sahithi & NA\\\\\n",
       "\\end{tabular}\n"
      ],
      "text/markdown": [
       "\n",
       "A data.frame: 4 × 2\n",
       "\n",
       "| <!--/--> | name &lt;chr&gt; | state &lt;chr&gt; |\n",
       "|---|---|---|\n",
       "| r1 | sai     | CA |\n",
       "| r2 | ram     | NY |\n",
       "| r3 | deepika | DE |\n",
       "| r4 | sahithi | NA |\n",
       "\n"
      ],
      "text/plain": [
       "   name    state\n",
       "r1 sai     CA   \n",
       "r2 ram     NY   \n",
       "r3 deepika DE   \n",
       "r4 sahithi NA   "
      ]
     },
     "metadata": {},
     "output_type": "display_data"
    }
   ],
   "source": [
    "# Select All Variables that ends with\n",
    "df %>% select(ends_with('e'))"
   ]
  },
  {
   "cell_type": "code",
   "execution_count": 14,
   "id": "cd5e53c6",
   "metadata": {},
   "outputs": [
    {
     "data": {
      "text/html": [
       "<table class=\"dataframe\">\n",
       "<caption>A data.frame: 4 × 2</caption>\n",
       "<thead>\n",
       "\t<tr><th></th><th scope=col>name</th><th scope=col>state</th></tr>\n",
       "\t<tr><th></th><th scope=col>&lt;chr&gt;</th><th scope=col>&lt;chr&gt;</th></tr>\n",
       "</thead>\n",
       "<tbody>\n",
       "\t<tr><th scope=row>r1</th><td>sai    </td><td>CA</td></tr>\n",
       "\t<tr><th scope=row>r2</th><td>ram    </td><td>NY</td></tr>\n",
       "\t<tr><th scope=row>r3</th><td>deepika</td><td>DE</td></tr>\n",
       "\t<tr><th scope=row>r4</th><td>sahithi</td><td>NA</td></tr>\n",
       "</tbody>\n",
       "</table>\n"
      ],
      "text/latex": [
       "A data.frame: 4 × 2\n",
       "\\begin{tabular}{r|ll}\n",
       "  & name & state\\\\\n",
       "  & <chr> & <chr>\\\\\n",
       "\\hline\n",
       "\tr1 & sai     & CA\\\\\n",
       "\tr2 & ram     & NY\\\\\n",
       "\tr3 & deepika & DE\\\\\n",
       "\tr4 & sahithi & NA\\\\\n",
       "\\end{tabular}\n"
      ],
      "text/markdown": [
       "\n",
       "A data.frame: 4 × 2\n",
       "\n",
       "| <!--/--> | name &lt;chr&gt; | state &lt;chr&gt; |\n",
       "|---|---|---|\n",
       "| r1 | sai     | CA |\n",
       "| r2 | ram     | NY |\n",
       "| r3 | deepika | DE |\n",
       "| r4 | sahithi | NA |\n",
       "\n"
      ],
      "text/plain": [
       "   name    state\n",
       "r1 sai     CA   \n",
       "r2 ram     NY   \n",
       "r3 deepika DE   \n",
       "r4 sahithi NA   "
      ]
     },
     "metadata": {},
     "output_type": "display_data"
    }
   ],
   "source": [
    "# Select Variables containing character\n",
    "\n",
    "df %>% select(contains('a'))"
   ]
  },
  {
   "cell_type": "code",
   "execution_count": 15,
   "id": "14081af5",
   "metadata": {},
   "outputs": [
    {
     "data": {
      "text/html": [
       "<table class=\"dataframe\">\n",
       "<caption>A data.frame: 4 × 1</caption>\n",
       "<thead>\n",
       "\t<tr><th></th><th scope=col>id</th></tr>\n",
       "\t<tr><th></th><th scope=col>&lt;dbl&gt;</th></tr>\n",
       "</thead>\n",
       "<tbody>\n",
       "\t<tr><th scope=row>r1</th><td>10</td></tr>\n",
       "\t<tr><th scope=row>r2</th><td>11</td></tr>\n",
       "\t<tr><th scope=row>r3</th><td>12</td></tr>\n",
       "\t<tr><th scope=row>r4</th><td>13</td></tr>\n",
       "</tbody>\n",
       "</table>\n"
      ],
      "text/latex": [
       "A data.frame: 4 × 1\n",
       "\\begin{tabular}{r|l}\n",
       "  & id\\\\\n",
       "  & <dbl>\\\\\n",
       "\\hline\n",
       "\tr1 & 10\\\\\n",
       "\tr2 & 11\\\\\n",
       "\tr3 & 12\\\\\n",
       "\tr4 & 13\\\\\n",
       "\\end{tabular}\n"
      ],
      "text/markdown": [
       "\n",
       "A data.frame: 4 × 1\n",
       "\n",
       "| <!--/--> | id &lt;dbl&gt; |\n",
       "|---|---|\n",
       "| r1 | 10 |\n",
       "| r2 | 11 |\n",
       "| r3 | 12 |\n",
       "| r4 | 13 |\n",
       "\n"
      ],
      "text/plain": [
       "   id\n",
       "r1 10\n",
       "r2 11\n",
       "r3 12\n",
       "r4 13"
      ]
     },
     "metadata": {},
     "output_type": "display_data"
    }
   ],
   "source": [
    "# Select All Numeric Variables\n",
    "\n",
    "df %>% select_if(is.numeric)"
   ]
  },
  {
   "cell_type": "code",
   "execution_count": 17,
   "id": "f82de59d",
   "metadata": {},
   "outputs": [
    {
     "data": {
      "text/html": [
       "<table class=\"dataframe\">\n",
       "<caption>A data.frame: 4 × 3</caption>\n",
       "<thead>\n",
       "\t<tr><th></th><th scope=col>id</th><th scope=col>dob</th><th scope=col>state</th></tr>\n",
       "\t<tr><th></th><th scope=col>&lt;dbl&gt;</th><th scope=col>&lt;date&gt;</th><th scope=col>&lt;chr&gt;</th></tr>\n",
       "</thead>\n",
       "<tbody>\n",
       "\t<tr><th scope=row>r1</th><td>10</td><td>1990-10-02</td><td>CA</td></tr>\n",
       "\t<tr><th scope=row>r2</th><td>11</td><td>1981-03-24</td><td>NY</td></tr>\n",
       "\t<tr><th scope=row>r3</th><td>12</td><td>1987-06-14</td><td>DE</td></tr>\n",
       "\t<tr><th scope=row>r4</th><td>13</td><td>1985-08-16</td><td>NA</td></tr>\n",
       "</tbody>\n",
       "</table>\n"
      ],
      "text/latex": [
       "A data.frame: 4 × 3\n",
       "\\begin{tabular}{r|lll}\n",
       "  & id & dob & state\\\\\n",
       "  & <dbl> & <date> & <chr>\\\\\n",
       "\\hline\n",
       "\tr1 & 10 & 1990-10-02 & CA\\\\\n",
       "\tr2 & 11 & 1981-03-24 & NY\\\\\n",
       "\tr3 & 12 & 1987-06-14 & DE\\\\\n",
       "\tr4 & 13 & 1985-08-16 & NA\\\\\n",
       "\\end{tabular}\n"
      ],
      "text/markdown": [
       "\n",
       "A data.frame: 4 × 3\n",
       "\n",
       "| <!--/--> | id &lt;dbl&gt; | dob &lt;date&gt; | state &lt;chr&gt; |\n",
       "|---|---|---|---|\n",
       "| r1 | 10 | 1990-10-02 | CA |\n",
       "| r2 | 11 | 1981-03-24 | NY |\n",
       "| r3 | 12 | 1987-06-14 | DE |\n",
       "| r4 | 13 | 1985-08-16 | NA |\n",
       "\n"
      ],
      "text/plain": [
       "   id dob        state\n",
       "r1 10 1990-10-02 CA   \n",
       "r2 11 1981-03-24 NY   \n",
       "r3 12 1987-06-14 DE   \n",
       "r4 13 1985-08-16 NA   "
      ]
     },
     "metadata": {},
     "output_type": "display_data"
    }
   ],
   "source": [
    "# Use Select using negation\n",
    "df %>% select(-c('name','gender'))"
   ]
  },
  {
   "cell_type": "code",
   "execution_count": 18,
   "id": "172cc9fa",
   "metadata": {},
   "outputs": [
    {
     "data": {
      "text/html": [
       "<table class=\"dataframe\">\n",
       "<caption>A data.frame: 4 × 4</caption>\n",
       "<thead>\n",
       "\t<tr><th></th><th scope=col>id</th><th scope=col>name</th><th scope=col>dob</th><th scope=col>state</th></tr>\n",
       "\t<tr><th></th><th scope=col>&lt;dbl&gt;</th><th scope=col>&lt;chr&gt;</th><th scope=col>&lt;date&gt;</th><th scope=col>&lt;chr&gt;</th></tr>\n",
       "</thead>\n",
       "<tbody>\n",
       "\t<tr><th scope=row>r1</th><td>10</td><td>sai    </td><td>1990-10-02</td><td>CA</td></tr>\n",
       "\t<tr><th scope=row>r2</th><td>11</td><td>ram    </td><td>1981-03-24</td><td>NY</td></tr>\n",
       "\t<tr><th scope=row>r3</th><td>12</td><td>deepika</td><td>1987-06-14</td><td>DE</td></tr>\n",
       "\t<tr><th scope=row>r4</th><td>13</td><td>sahithi</td><td>1985-08-16</td><td>NA</td></tr>\n",
       "</tbody>\n",
       "</table>\n"
      ],
      "text/latex": [
       "A data.frame: 4 × 4\n",
       "\\begin{tabular}{r|llll}\n",
       "  & id & name & dob & state\\\\\n",
       "  & <dbl> & <chr> & <date> & <chr>\\\\\n",
       "\\hline\n",
       "\tr1 & 10 & sai     & 1990-10-02 & CA\\\\\n",
       "\tr2 & 11 & ram     & 1981-03-24 & NY\\\\\n",
       "\tr3 & 12 & deepika & 1987-06-14 & DE\\\\\n",
       "\tr4 & 13 & sahithi & 1985-08-16 & NA\\\\\n",
       "\\end{tabular}\n"
      ],
      "text/markdown": [
       "\n",
       "A data.frame: 4 × 4\n",
       "\n",
       "| <!--/--> | id &lt;dbl&gt; | name &lt;chr&gt; | dob &lt;date&gt; | state &lt;chr&gt; |\n",
       "|---|---|---|---|---|\n",
       "| r1 | 10 | sai     | 1990-10-02 | CA |\n",
       "| r2 | 11 | ram     | 1981-03-24 | NY |\n",
       "| r3 | 12 | deepika | 1987-06-14 | DE |\n",
       "| r4 | 13 | sahithi | 1985-08-16 | NA |\n",
       "\n"
      ],
      "text/plain": [
       "   id name    dob        state\n",
       "r1 10 sai     1990-10-02 CA   \n",
       "r2 11 ram     1981-03-24 NY   \n",
       "r3 12 deepika 1987-06-14 DE   \n",
       "r4 13 sahithi 1985-08-16 NA   "
      ]
     },
     "metadata": {},
     "output_type": "display_data"
    }
   ],
   "source": [
    "# dplyr - Select columns not start with a string\n",
    "df %>% select(-starts_with('gen'))"
   ]
  },
  {
   "cell_type": "code",
   "execution_count": 20,
   "id": "33fc4aae",
   "metadata": {},
   "outputs": [],
   "source": [
    "read.csv(\"sampledata\\\\vehicle.csv\") -> data"
   ]
  },
  {
   "cell_type": "code",
   "execution_count": 22,
   "id": "2f9b7cf2",
   "metadata": {},
   "outputs": [
    {
     "data": {
      "text/html": [
       "<table class=\"dataframe\">\n",
       "<caption>A data.frame: 6 × 7</caption>\n",
       "<thead>\n",
       "\t<tr><th></th><th scope=col>Vehicle</th><th scope=col>fm</th><th scope=col>Mileage</th><th scope=col>lh</th><th scope=col>lc</th><th scope=col>mc</th><th scope=col>State</th></tr>\n",
       "\t<tr><th></th><th scope=col>&lt;int&gt;</th><th scope=col>&lt;dbl&gt;</th><th scope=col>&lt;dbl&gt;</th><th scope=col>&lt;dbl&gt;</th><th scope=col>&lt;dbl&gt;</th><th scope=col>&lt;dbl&gt;</th><th scope=col>&lt;chr&gt;</th></tr>\n",
       "</thead>\n",
       "<tbody>\n",
       "\t<tr><th scope=row>1</th><td>1</td><td> 0</td><td>  863</td><td>1.1</td><td> 66.30</td><td>697.23</td><td>MS</td></tr>\n",
       "\t<tr><th scope=row>2</th><td>2</td><td>10</td><td> 4644</td><td>2.4</td><td>233.03</td><td>119.66</td><td>CA</td></tr>\n",
       "\t<tr><th scope=row>3</th><td>3</td><td>15</td><td>16330</td><td>4.2</td><td>325.08</td><td>175.46</td><td>WI</td></tr>\n",
       "\t<tr><th scope=row>4</th><td>4</td><td> 0</td><td>   13</td><td>1.0</td><td> 66.64</td><td>  0.00</td><td>OR</td></tr>\n",
       "\t<tr><th scope=row>5</th><td>5</td><td>13</td><td>22537</td><td>4.5</td><td>328.66</td><td>175.46</td><td>AZ</td></tr>\n",
       "\t<tr><th scope=row>6</th><td>6</td><td>21</td><td>40931</td><td>3.1</td><td>205.28</td><td>175.46</td><td>FL</td></tr>\n",
       "</tbody>\n",
       "</table>\n"
      ],
      "text/latex": [
       "A data.frame: 6 × 7\n",
       "\\begin{tabular}{r|lllllll}\n",
       "  & Vehicle & fm & Mileage & lh & lc & mc & State\\\\\n",
       "  & <int> & <dbl> & <dbl> & <dbl> & <dbl> & <dbl> & <chr>\\\\\n",
       "\\hline\n",
       "\t1 & 1 &  0 &   863 & 1.1 &  66.30 & 697.23 & MS\\\\\n",
       "\t2 & 2 & 10 &  4644 & 2.4 & 233.03 & 119.66 & CA\\\\\n",
       "\t3 & 3 & 15 & 16330 & 4.2 & 325.08 & 175.46 & WI\\\\\n",
       "\t4 & 4 &  0 &    13 & 1.0 &  66.64 &   0.00 & OR\\\\\n",
       "\t5 & 5 & 13 & 22537 & 4.5 & 328.66 & 175.46 & AZ\\\\\n",
       "\t6 & 6 & 21 & 40931 & 3.1 & 205.28 & 175.46 & FL\\\\\n",
       "\\end{tabular}\n"
      ],
      "text/markdown": [
       "\n",
       "A data.frame: 6 × 7\n",
       "\n",
       "| <!--/--> | Vehicle &lt;int&gt; | fm &lt;dbl&gt; | Mileage &lt;dbl&gt; | lh &lt;dbl&gt; | lc &lt;dbl&gt; | mc &lt;dbl&gt; | State &lt;chr&gt; |\n",
       "|---|---|---|---|---|---|---|---|\n",
       "| 1 | 1 |  0 |   863 | 1.1 |  66.30 | 697.23 | MS |\n",
       "| 2 | 2 | 10 |  4644 | 2.4 | 233.03 | 119.66 | CA |\n",
       "| 3 | 3 | 15 | 16330 | 4.2 | 325.08 | 175.46 | WI |\n",
       "| 4 | 4 |  0 |    13 | 1.0 |  66.64 |   0.00 | OR |\n",
       "| 5 | 5 | 13 | 22537 | 4.5 | 328.66 | 175.46 | AZ |\n",
       "| 6 | 6 | 21 | 40931 | 3.1 | 205.28 | 175.46 | FL |\n",
       "\n"
      ],
      "text/plain": [
       "  Vehicle fm Mileage lh  lc     mc     State\n",
       "1 1        0   863   1.1  66.30 697.23 MS   \n",
       "2 2       10  4644   2.4 233.03 119.66 CA   \n",
       "3 3       15 16330   4.2 325.08 175.46 WI   \n",
       "4 4        0    13   1.0  66.64   0.00 OR   \n",
       "5 5       13 22537   4.5 328.66 175.46 AZ   \n",
       "6 6       21 40931   3.1 205.28 175.46 FL   "
      ]
     },
     "metadata": {},
     "output_type": "display_data"
    }
   ],
   "source": [
    "data2 = data %>% \n",
    "          select(-starts_with(\"user.\"), -starts_with(\"milestone.\"), \n",
    "         -starts_with(\"pull_\"), -ends_with(\"url\"))\n",
    "\n",
    "head(data2)"
   ]
  },
  {
   "cell_type": "code",
   "execution_count": null,
   "id": "37b5f973",
   "metadata": {},
   "outputs": [],
   "source": []
  }
 ],
 "metadata": {
  "kernelspec": {
   "display_name": "R",
   "language": "R",
   "name": "ir"
  },
  "language_info": {
   "codemirror_mode": "r",
   "file_extension": ".r",
   "mimetype": "text/x-r-source",
   "name": "R",
   "pygments_lexer": "r",
   "version": "4.2.1"
  }
 },
 "nbformat": 4,
 "nbformat_minor": 5
}
